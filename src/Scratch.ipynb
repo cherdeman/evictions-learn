{
 "cells": [
  {
   "cell_type": "code",
   "execution_count": 20,
   "metadata": {},
   "outputs": [
    {
     "name": "stdout",
     "output_type": "stream",
     "text": [
      "The autoreload extension is already loaded. To reload it, use:\n",
      "  %reload_ext autoreload\n"
     ]
    }
   ],
   "source": [
    "%load_ext autoreload\n",
    "%autoreload 2\n",
    "%matplotlib inline\n",
    "\n",
    "import ml_utils as ml"
   ]
  },
  {
   "cell_type": "code",
   "execution_count": 23,
   "metadata": {},
   "outputs": [
    {
     "name": "stdout",
     "output_type": "stream",
     "text": [
      "Connected to evictions DB.\n",
      "Set schema to 'evictions'.\n",
      "Set background cursor.\n",
      "Loading chunk....\n",
      "Chunk loaded.\n",
      "\n",
      "Temporally validating on:\n",
      "Train: 2006-01-01 00:00:00 - 2006-12-31 00:00:00\n",
      "Test: 2007-01-01 00:00:00 - 2007-12-31 00:00:00\n",
      "Prediction window: 12 months\n",
      "\n",
      "Running RF...\n",
      "Running with params {'max_depth': 5, 'max_features': 'sqrt', 'min_samples_split': 10, 'n_estimators': 10}\n",
      "Running with params {'max_depth': 50, 'max_features': 'sqrt', 'min_samples_split': 10, 'n_estimators': 10}\n",
      "RF finished.\n",
      "Running DT...\n",
      "Running with params {'criterion': 'gini', 'max_depth': 5, 'min_samples_split': 2}\n",
      "Running with params {'criterion': 'gini', 'max_depth': 5, 'min_samples_split': 10}\n",
      "Running with params {'criterion': 'gini', 'max_depth': 50, 'min_samples_split': 2}\n",
      "Running with params {'criterion': 'gini', 'max_depth': 50, 'min_samples_split': 10}\n",
      "Running with params {'criterion': 'entropy', 'max_depth': 5, 'min_samples_split': 2}\n",
      "Running with params {'criterion': 'entropy', 'max_depth': 5, 'min_samples_split': 10}\n",
      "Running with params {'criterion': 'entropy', 'max_depth': 50, 'min_samples_split': 2}\n",
      "Running with params {'criterion': 'entropy', 'max_depth': 50, 'min_samples_split': 10}\n",
      "DT finished.\n",
      "\n",
      "Temporally validating on:\n",
      "Train: 2006-01-01 00:00:00 - 2007-12-31 00:00:00\n",
      "Test: 2008-01-01 00:00:00 - 2008-12-31 00:00:00\n",
      "Prediction window: 12 months\n",
      "\n",
      "Running RF...\n",
      "Running with params {'max_depth': 5, 'max_features': 'sqrt', 'min_samples_split': 10, 'n_estimators': 10}\n",
      "Running with params {'max_depth': 50, 'max_features': 'sqrt', 'min_samples_split': 10, 'n_estimators': 10}\n",
      "RF finished.\n",
      "Running DT...\n",
      "Running with params {'criterion': 'gini', 'max_depth': 5, 'min_samples_split': 2}\n",
      "Running with params {'criterion': 'gini', 'max_depth': 5, 'min_samples_split': 10}\n",
      "Running with params {'criterion': 'gini', 'max_depth': 50, 'min_samples_split': 2}\n",
      "Running with params {'criterion': 'gini', 'max_depth': 50, 'min_samples_split': 10}\n",
      "Running with params {'criterion': 'entropy', 'max_depth': 5, 'min_samples_split': 2}\n",
      "Running with params {'criterion': 'entropy', 'max_depth': 5, 'min_samples_split': 10}\n",
      "Running with params {'criterion': 'entropy', 'max_depth': 50, 'min_samples_split': 2}\n",
      "Running with params {'criterion': 'entropy', 'max_depth': 50, 'min_samples_split': 10}\n",
      "DT finished.\n",
      "\n",
      "Temporally validating on:\n",
      "Train: 2006-01-01 00:00:00 - 2008-12-31 00:00:00\n",
      "Test: 2009-01-01 00:00:00 - 2009-12-31 00:00:00\n",
      "Prediction window: 12 months\n",
      "\n",
      "Running RF...\n",
      "Running with params {'max_depth': 5, 'max_features': 'sqrt', 'min_samples_split': 10, 'n_estimators': 10}\n",
      "Running with params {'max_depth': 50, 'max_features': 'sqrt', 'min_samples_split': 10, 'n_estimators': 10}\n",
      "RF finished.\n",
      "Running DT...\n",
      "Running with params {'criterion': 'gini', 'max_depth': 5, 'min_samples_split': 2}\n",
      "Running with params {'criterion': 'gini', 'max_depth': 5, 'min_samples_split': 10}\n",
      "Running with params {'criterion': 'gini', 'max_depth': 50, 'min_samples_split': 2}\n",
      "Running with params {'criterion': 'gini', 'max_depth': 50, 'min_samples_split': 10}\n",
      "Running with params {'criterion': 'entropy', 'max_depth': 5, 'min_samples_split': 2}\n",
      "Running with params {'criterion': 'entropy', 'max_depth': 5, 'min_samples_split': 10}\n",
      "Running with params {'criterion': 'entropy', 'max_depth': 50, 'min_samples_split': 2}\n",
      "Running with params {'criterion': 'entropy', 'max_depth': 50, 'min_samples_split': 10}\n",
      "DT finished.\n",
      "\n",
      "Temporally validating on:\n",
      "Train: 2006-01-01 00:00:00 - 2009-12-31 00:00:00\n",
      "Test: 2010-01-01 00:00:00 - 2010-12-31 00:00:00\n",
      "Prediction window: 12 months\n",
      "\n",
      "Running RF...\n",
      "Running with params {'max_depth': 5, 'max_features': 'sqrt', 'min_samples_split': 10, 'n_estimators': 10}\n",
      "Running with params {'max_depth': 50, 'max_features': 'sqrt', 'min_samples_split': 10, 'n_estimators': 10}\n",
      "RF finished.\n",
      "Running DT...\n",
      "Running with params {'criterion': 'gini', 'max_depth': 5, 'min_samples_split': 2}\n",
      "Running with params {'criterion': 'gini', 'max_depth': 5, 'min_samples_split': 10}\n",
      "Running with params {'criterion': 'gini', 'max_depth': 50, 'min_samples_split': 2}\n",
      "Running with params {'criterion': 'gini', 'max_depth': 50, 'min_samples_split': 10}\n",
      "Running with params {'criterion': 'entropy', 'max_depth': 5, 'min_samples_split': 2}\n",
      "Running with params {'criterion': 'entropy', 'max_depth': 5, 'min_samples_split': 10}\n",
      "Running with params {'criterion': 'entropy', 'max_depth': 50, 'min_samples_split': 2}\n",
      "Running with params {'criterion': 'entropy', 'max_depth': 50, 'min_samples_split': 10}\n",
      "DT finished.\n",
      "\n",
      "Temporally validating on:\n",
      "Train: 2006-01-01 00:00:00 - 2010-12-31 00:00:00\n",
      "Test: 2011-01-01 00:00:00 - 2011-12-31 00:00:00\n",
      "Prediction window: 12 months\n",
      "\n",
      "Running RF...\n",
      "Running with params {'max_depth': 5, 'max_features': 'sqrt', 'min_samples_split': 10, 'n_estimators': 10}\n",
      "Running with params {'max_depth': 50, 'max_features': 'sqrt', 'min_samples_split': 10, 'n_estimators': 10}\n",
      "RF finished.\n",
      "Running DT...\n",
      "Running with params {'criterion': 'gini', 'max_depth': 5, 'min_samples_split': 2}\n",
      "Running with params {'criterion': 'gini', 'max_depth': 5, 'min_samples_split': 10}\n",
      "Running with params {'criterion': 'gini', 'max_depth': 50, 'min_samples_split': 2}\n",
      "Running with params {'criterion': 'gini', 'max_depth': 50, 'min_samples_split': 10}\n",
      "Running with params {'criterion': 'entropy', 'max_depth': 5, 'min_samples_split': 2}\n",
      "Running with params {'criterion': 'entropy', 'max_depth': 5, 'min_samples_split': 10}\n",
      "Running with params {'criterion': 'entropy', 'max_depth': 50, 'min_samples_split': 2}\n",
      "Running with params {'criterion': 'entropy', 'max_depth': 50, 'min_samples_split': 10}\n",
      "DT finished.\n",
      "\n",
      "Temporally validating on:\n",
      "Train: 2006-01-01 00:00:00 - 2011-12-31 00:00:00\n",
      "Test: 2012-01-01 00:00:00 - 2012-12-31 00:00:00\n",
      "Prediction window: 12 months\n",
      "\n",
      "Running RF...\n",
      "Running with params {'max_depth': 5, 'max_features': 'sqrt', 'min_samples_split': 10, 'n_estimators': 10}\n",
      "Running with params {'max_depth': 50, 'max_features': 'sqrt', 'min_samples_split': 10, 'n_estimators': 10}\n",
      "RF finished.\n",
      "Running DT...\n",
      "Running with params {'criterion': 'gini', 'max_depth': 5, 'min_samples_split': 2}\n",
      "Running with params {'criterion': 'gini', 'max_depth': 5, 'min_samples_split': 10}\n",
      "Running with params {'criterion': 'gini', 'max_depth': 50, 'min_samples_split': 2}\n",
      "Running with params {'criterion': 'gini', 'max_depth': 50, 'min_samples_split': 10}\n",
      "Running with params {'criterion': 'entropy', 'max_depth': 5, 'min_samples_split': 2}\n",
      "Running with params {'criterion': 'entropy', 'max_depth': 5, 'min_samples_split': 10}\n",
      "Running with params {'criterion': 'entropy', 'max_depth': 50, 'min_samples_split': 2}\n",
      "Running with params {'criterion': 'entropy', 'max_depth': 50, 'min_samples_split': 10}\n",
      "DT finished.\n",
      "\n",
      "Temporally validating on:\n",
      "Train: 2006-01-01 00:00:00 - 2012-12-31 00:00:00\n",
      "Test: 2013-01-01 00:00:00 - 2013-12-31 00:00:00\n",
      "Prediction window: 12 months\n",
      "\n",
      "Running RF...\n",
      "Running with params {'max_depth': 5, 'max_features': 'sqrt', 'min_samples_split': 10, 'n_estimators': 10}\n",
      "Running with params {'max_depth': 50, 'max_features': 'sqrt', 'min_samples_split': 10, 'n_estimators': 10}\n",
      "RF finished.\n",
      "Running DT...\n",
      "Running with params {'criterion': 'gini', 'max_depth': 5, 'min_samples_split': 2}\n",
      "Running with params {'criterion': 'gini', 'max_depth': 5, 'min_samples_split': 10}\n",
      "Running with params {'criterion': 'gini', 'max_depth': 50, 'min_samples_split': 2}\n",
      "Running with params {'criterion': 'gini', 'max_depth': 50, 'min_samples_split': 10}\n",
      "Running with params {'criterion': 'entropy', 'max_depth': 5, 'min_samples_split': 2}\n",
      "Running with params {'criterion': 'entropy', 'max_depth': 5, 'min_samples_split': 10}\n",
      "Running with params {'criterion': 'entropy', 'max_depth': 50, 'min_samples_split': 2}\n",
      "Running with params {'criterion': 'entropy', 'max_depth': 50, 'min_samples_split': 10}\n",
      "DT finished.\n",
      "\n",
      "Temporally validating on:\n",
      "Train: 2006-01-01 00:00:00 - 2013-12-31 00:00:00\n",
      "Test: 2014-01-01 00:00:00 - 2014-12-31 00:00:00\n",
      "Prediction window: 12 months\n",
      "\n",
      "Running RF...\n",
      "Running with params {'max_depth': 5, 'max_features': 'sqrt', 'min_samples_split': 10, 'n_estimators': 10}\n",
      "Running with params {'max_depth': 50, 'max_features': 'sqrt', 'min_samples_split': 10, 'n_estimators': 10}\n",
      "RF finished.\n",
      "Running DT...\n"
     ]
    },
    {
     "name": "stdout",
     "output_type": "stream",
     "text": [
      "Running with params {'criterion': 'gini', 'max_depth': 5, 'min_samples_split': 2}\n",
      "Running with params {'criterion': 'gini', 'max_depth': 5, 'min_samples_split': 10}\n",
      "Running with params {'criterion': 'gini', 'max_depth': 50, 'min_samples_split': 2}\n",
      "Running with params {'criterion': 'gini', 'max_depth': 50, 'min_samples_split': 10}\n",
      "Running with params {'criterion': 'entropy', 'max_depth': 5, 'min_samples_split': 2}\n",
      "Running with params {'criterion': 'entropy', 'max_depth': 5, 'min_samples_split': 10}\n",
      "Running with params {'criterion': 'entropy', 'max_depth': 50, 'min_samples_split': 2}\n",
      "Running with params {'criterion': 'entropy', 'max_depth': 50, 'min_samples_split': 10}\n",
      "DT finished.\n",
      "\n",
      "Temporally validating on:\n",
      "Train: 2006-01-01 00:00:00 - 2014-12-31 00:00:00\n",
      "Test: 2015-01-01 00:00:00 - 2015-12-31 00:00:00\n",
      "Prediction window: 12 months\n",
      "\n",
      "Running RF...\n",
      "Running with params {'max_depth': 5, 'max_features': 'sqrt', 'min_samples_split': 10, 'n_estimators': 10}\n",
      "Running with params {'max_depth': 50, 'max_features': 'sqrt', 'min_samples_split': 10, 'n_estimators': 10}\n",
      "RF finished.\n",
      "Running DT...\n",
      "Running with params {'criterion': 'gini', 'max_depth': 5, 'min_samples_split': 2}\n",
      "Running with params {'criterion': 'gini', 'max_depth': 5, 'min_samples_split': 10}\n",
      "Running with params {'criterion': 'gini', 'max_depth': 50, 'min_samples_split': 2}\n",
      "Running with params {'criterion': 'gini', 'max_depth': 50, 'min_samples_split': 10}\n",
      "Running with params {'criterion': 'entropy', 'max_depth': 5, 'min_samples_split': 2}\n",
      "Running with params {'criterion': 'entropy', 'max_depth': 5, 'min_samples_split': 10}\n",
      "Running with params {'criterion': 'entropy', 'max_depth': 50, 'min_samples_split': 2}\n",
      "Running with params {'criterion': 'entropy', 'max_depth': 50, 'min_samples_split': 10}\n",
      "DT finished.\n"
     ]
    },
    {
     "data": {
      "text/plain": [
       "<Figure size 432x288 with 0 Axes>"
      ]
     },
     "metadata": {},
     "output_type": "display_data"
    },
    {
     "data": {
      "text/plain": [
       "<Figure size 432x288 with 0 Axes>"
      ]
     },
     "metadata": {},
     "output_type": "display_data"
    },
    {
     "data": {
      "text/plain": [
       "<Figure size 432x288 with 0 Axes>"
      ]
     },
     "metadata": {},
     "output_type": "display_data"
    },
    {
     "data": {
      "text/plain": [
       "<Figure size 432x288 with 0 Axes>"
      ]
     },
     "metadata": {},
     "output_type": "display_data"
    },
    {
     "data": {
      "text/plain": [
       "<Figure size 432x288 with 0 Axes>"
      ]
     },
     "metadata": {},
     "output_type": "display_data"
    },
    {
     "data": {
      "text/plain": [
       "<Figure size 432x288 with 0 Axes>"
      ]
     },
     "metadata": {},
     "output_type": "display_data"
    },
    {
     "data": {
      "text/plain": [
       "<Figure size 432x288 with 0 Axes>"
      ]
     },
     "metadata": {},
     "output_type": "display_data"
    },
    {
     "data": {
      "text/plain": [
       "<Figure size 432x288 with 0 Axes>"
      ]
     },
     "metadata": {},
     "output_type": "display_data"
    },
    {
     "data": {
      "text/plain": [
       "<Figure size 432x288 with 0 Axes>"
      ]
     },
     "metadata": {},
     "output_type": "display_data"
    },
    {
     "data": {
      "text/plain": [
       "<Figure size 432x288 with 0 Axes>"
      ]
     },
     "metadata": {},
     "output_type": "display_data"
    },
    {
     "data": {
      "text/plain": [
       "<Figure size 432x288 with 0 Axes>"
      ]
     },
     "metadata": {},
     "output_type": "display_data"
    },
    {
     "data": {
      "text/plain": [
       "<Figure size 432x288 with 0 Axes>"
      ]
     },
     "metadata": {},
     "output_type": "display_data"
    },
    {
     "data": {
      "text/plain": [
       "<Figure size 432x288 with 0 Axes>"
      ]
     },
     "metadata": {},
     "output_type": "display_data"
    },
    {
     "data": {
      "text/plain": [
       "<Figure size 432x288 with 0 Axes>"
      ]
     },
     "metadata": {},
     "output_type": "display_data"
    },
    {
     "data": {
      "text/plain": [
       "<Figure size 432x288 with 0 Axes>"
      ]
     },
     "metadata": {},
     "output_type": "display_data"
    },
    {
     "data": {
      "text/plain": [
       "<Figure size 432x288 with 0 Axes>"
      ]
     },
     "metadata": {},
     "output_type": "display_data"
    },
    {
     "data": {
      "text/plain": [
       "<Figure size 432x288 with 0 Axes>"
      ]
     },
     "metadata": {},
     "output_type": "display_data"
    },
    {
     "data": {
      "text/plain": [
       "<Figure size 432x288 with 0 Axes>"
      ]
     },
     "metadata": {},
     "output_type": "display_data"
    },
    {
     "data": {
      "text/plain": [
       "<Figure size 432x288 with 0 Axes>"
      ]
     },
     "metadata": {},
     "output_type": "display_data"
    },
    {
     "data": {
      "text/plain": [
       "<Figure size 432x288 with 0 Axes>"
      ]
     },
     "metadata": {},
     "output_type": "display_data"
    },
    {
     "data": {
      "text/plain": [
       "<Figure size 432x288 with 0 Axes>"
      ]
     },
     "metadata": {},
     "output_type": "display_data"
    },
    {
     "data": {
      "text/plain": [
       "<Figure size 432x288 with 0 Axes>"
      ]
     },
     "metadata": {},
     "output_type": "display_data"
    },
    {
     "data": {
      "text/plain": [
       "<Figure size 432x288 with 0 Axes>"
      ]
     },
     "metadata": {},
     "output_type": "display_data"
    },
    {
     "data": {
      "text/plain": [
       "<Figure size 432x288 with 0 Axes>"
      ]
     },
     "metadata": {},
     "output_type": "display_data"
    },
    {
     "data": {
      "text/plain": [
       "<Figure size 432x288 with 0 Axes>"
      ]
     },
     "metadata": {},
     "output_type": "display_data"
    },
    {
     "data": {
      "text/plain": [
       "<Figure size 432x288 with 0 Axes>"
      ]
     },
     "metadata": {},
     "output_type": "display_data"
    },
    {
     "data": {
      "text/plain": [
       "<Figure size 432x288 with 0 Axes>"
      ]
     },
     "metadata": {},
     "output_type": "display_data"
    },
    {
     "data": {
      "text/plain": [
       "<Figure size 432x288 with 0 Axes>"
      ]
     },
     "metadata": {},
     "output_type": "display_data"
    },
    {
     "data": {
      "text/plain": [
       "<Figure size 432x288 with 0 Axes>"
      ]
     },
     "metadata": {},
     "output_type": "display_data"
    },
    {
     "data": {
      "text/plain": [
       "<Figure size 432x288 with 0 Axes>"
      ]
     },
     "metadata": {},
     "output_type": "display_data"
    },
    {
     "data": {
      "text/plain": [
       "<Figure size 432x288 with 0 Axes>"
      ]
     },
     "metadata": {},
     "output_type": "display_data"
    },
    {
     "data": {
      "text/plain": [
       "<Figure size 432x288 with 0 Axes>"
      ]
     },
     "metadata": {},
     "output_type": "display_data"
    },
    {
     "data": {
      "text/plain": [
       "<Figure size 432x288 with 0 Axes>"
      ]
     },
     "metadata": {},
     "output_type": "display_data"
    },
    {
     "data": {
      "text/plain": [
       "<Figure size 432x288 with 0 Axes>"
      ]
     },
     "metadata": {},
     "output_type": "display_data"
    },
    {
     "data": {
      "text/plain": [
       "<Figure size 432x288 with 0 Axes>"
      ]
     },
     "metadata": {},
     "output_type": "display_data"
    },
    {
     "data": {
      "text/plain": [
       "<Figure size 432x288 with 0 Axes>"
      ]
     },
     "metadata": {},
     "output_type": "display_data"
    },
    {
     "data": {
      "text/plain": [
       "<Figure size 432x288 with 0 Axes>"
      ]
     },
     "metadata": {},
     "output_type": "display_data"
    },
    {
     "data": {
      "text/plain": [
       "<Figure size 432x288 with 0 Axes>"
      ]
     },
     "metadata": {},
     "output_type": "display_data"
    },
    {
     "data": {
      "text/plain": [
       "<Figure size 432x288 with 0 Axes>"
      ]
     },
     "metadata": {},
     "output_type": "display_data"
    },
    {
     "data": {
      "text/plain": [
       "<Figure size 432x288 with 0 Axes>"
      ]
     },
     "metadata": {},
     "output_type": "display_data"
    },
    {
     "data": {
      "text/plain": [
       "<Figure size 432x288 with 0 Axes>"
      ]
     },
     "metadata": {},
     "output_type": "display_data"
    },
    {
     "data": {
      "text/plain": [
       "<Figure size 432x288 with 0 Axes>"
      ]
     },
     "metadata": {},
     "output_type": "display_data"
    },
    {
     "data": {
      "text/plain": [
       "<Figure size 432x288 with 0 Axes>"
      ]
     },
     "metadata": {},
     "output_type": "display_data"
    },
    {
     "data": {
      "text/plain": [
       "<Figure size 432x288 with 0 Axes>"
      ]
     },
     "metadata": {},
     "output_type": "display_data"
    },
    {
     "data": {
      "text/plain": [
       "<Figure size 432x288 with 0 Axes>"
      ]
     },
     "metadata": {},
     "output_type": "display_data"
    },
    {
     "data": {
      "text/plain": [
       "<Figure size 432x288 with 0 Axes>"
      ]
     },
     "metadata": {},
     "output_type": "display_data"
    },
    {
     "data": {
      "text/plain": [
       "<Figure size 432x288 with 0 Axes>"
      ]
     },
     "metadata": {},
     "output_type": "display_data"
    },
    {
     "data": {
      "text/plain": [
       "<Figure size 432x288 with 0 Axes>"
      ]
     },
     "metadata": {},
     "output_type": "display_data"
    },
    {
     "data": {
      "text/plain": [
       "<Figure size 432x288 with 0 Axes>"
      ]
     },
     "metadata": {},
     "output_type": "display_data"
    },
    {
     "data": {
      "text/plain": [
       "<Figure size 432x288 with 0 Axes>"
      ]
     },
     "metadata": {},
     "output_type": "display_data"
    },
    {
     "data": {
      "text/plain": [
       "<Figure size 432x288 with 0 Axes>"
      ]
     },
     "metadata": {},
     "output_type": "display_data"
    },
    {
     "data": {
      "text/plain": [
       "<Figure size 432x288 with 0 Axes>"
      ]
     },
     "metadata": {},
     "output_type": "display_data"
    },
    {
     "data": {
      "text/plain": [
       "<Figure size 432x288 with 0 Axes>"
      ]
     },
     "metadata": {},
     "output_type": "display_data"
    },
    {
     "data": {
      "text/plain": [
       "<Figure size 432x288 with 0 Axes>"
      ]
     },
     "metadata": {},
     "output_type": "display_data"
    },
    {
     "data": {
      "text/plain": [
       "<Figure size 432x288 with 0 Axes>"
      ]
     },
     "metadata": {},
     "output_type": "display_data"
    },
    {
     "data": {
      "text/plain": [
       "<Figure size 432x288 with 0 Axes>"
      ]
     },
     "metadata": {},
     "output_type": "display_data"
    },
    {
     "data": {
      "text/plain": [
       "<Figure size 432x288 with 0 Axes>"
      ]
     },
     "metadata": {},
     "output_type": "display_data"
    },
    {
     "data": {
      "text/plain": [
       "<Figure size 432x288 with 0 Axes>"
      ]
     },
     "metadata": {},
     "output_type": "display_data"
    },
    {
     "data": {
      "text/plain": [
       "<Figure size 432x288 with 0 Axes>"
      ]
     },
     "metadata": {},
     "output_type": "display_data"
    },
    {
     "data": {
      "text/plain": [
       "<Figure size 432x288 with 0 Axes>"
      ]
     },
     "metadata": {},
     "output_type": "display_data"
    },
    {
     "data": {
      "text/plain": [
       "<Figure size 432x288 with 0 Axes>"
      ]
     },
     "metadata": {},
     "output_type": "display_data"
    },
    {
     "data": {
      "text/plain": [
       "<Figure size 432x288 with 0 Axes>"
      ]
     },
     "metadata": {},
     "output_type": "display_data"
    },
    {
     "data": {
      "text/plain": [
       "<Figure size 432x288 with 0 Axes>"
      ]
     },
     "metadata": {},
     "output_type": "display_data"
    },
    {
     "data": {
      "text/plain": [
       "<Figure size 432x288 with 0 Axes>"
      ]
     },
     "metadata": {},
     "output_type": "display_data"
    },
    {
     "data": {
      "text/plain": [
       "<Figure size 432x288 with 0 Axes>"
      ]
     },
     "metadata": {},
     "output_type": "display_data"
    },
    {
     "data": {
      "text/plain": [
       "<Figure size 432x288 with 0 Axes>"
      ]
     },
     "metadata": {},
     "output_type": "display_data"
    },
    {
     "data": {
      "text/plain": [
       "<Figure size 432x288 with 0 Axes>"
      ]
     },
     "metadata": {},
     "output_type": "display_data"
    },
    {
     "data": {
      "text/plain": [
       "<Figure size 432x288 with 0 Axes>"
      ]
     },
     "metadata": {},
     "output_type": "display_data"
    },
    {
     "data": {
      "text/plain": [
       "<Figure size 432x288 with 0 Axes>"
      ]
     },
     "metadata": {},
     "output_type": "display_data"
    },
    {
     "data": {
      "text/plain": [
       "<Figure size 432x288 with 0 Axes>"
      ]
     },
     "metadata": {},
     "output_type": "display_data"
    },
    {
     "data": {
      "text/plain": [
       "<Figure size 432x288 with 0 Axes>"
      ]
     },
     "metadata": {},
     "output_type": "display_data"
    },
    {
     "data": {
      "text/plain": [
       "<Figure size 432x288 with 0 Axes>"
      ]
     },
     "metadata": {},
     "output_type": "display_data"
    },
    {
     "data": {
      "text/plain": [
       "<Figure size 432x288 with 0 Axes>"
      ]
     },
     "metadata": {},
     "output_type": "display_data"
    },
    {
     "data": {
      "text/plain": [
       "<Figure size 432x288 with 0 Axes>"
      ]
     },
     "metadata": {},
     "output_type": "display_data"
    },
    {
     "data": {
      "text/plain": [
       "<Figure size 432x288 with 0 Axes>"
      ]
     },
     "metadata": {},
     "output_type": "display_data"
    },
    {
     "data": {
      "text/plain": [
       "<Figure size 432x288 with 0 Axes>"
      ]
     },
     "metadata": {},
     "output_type": "display_data"
    },
    {
     "data": {
      "text/plain": [
       "<Figure size 432x288 with 0 Axes>"
      ]
     },
     "metadata": {},
     "output_type": "display_data"
    },
    {
     "data": {
      "text/plain": [
       "<Figure size 432x288 with 0 Axes>"
      ]
     },
     "metadata": {},
     "output_type": "display_data"
    },
    {
     "data": {
      "text/plain": [
       "<Figure size 432x288 with 0 Axes>"
      ]
     },
     "metadata": {},
     "output_type": "display_data"
    },
    {
     "data": {
      "text/plain": [
       "<Figure size 432x288 with 0 Axes>"
      ]
     },
     "metadata": {},
     "output_type": "display_data"
    },
    {
     "data": {
      "text/plain": [
       "<Figure size 432x288 with 0 Axes>"
      ]
     },
     "metadata": {},
     "output_type": "display_data"
    },
    {
     "data": {
      "text/plain": [
       "<Figure size 432x288 with 0 Axes>"
      ]
     },
     "metadata": {},
     "output_type": "display_data"
    },
    {
     "data": {
      "text/plain": [
       "<Figure size 432x288 with 0 Axes>"
      ]
     },
     "metadata": {},
     "output_type": "display_data"
    },
    {
     "data": {
      "text/plain": [
       "<Figure size 432x288 with 0 Axes>"
      ]
     },
     "metadata": {},
     "output_type": "display_data"
    },
    {
     "data": {
      "text/plain": [
       "<Figure size 432x288 with 0 Axes>"
      ]
     },
     "metadata": {},
     "output_type": "display_data"
    },
    {
     "data": {
      "text/plain": [
       "<Figure size 432x288 with 0 Axes>"
      ]
     },
     "metadata": {},
     "output_type": "display_data"
    },
    {
     "data": {
      "text/plain": [
       "<Figure size 432x288 with 0 Axes>"
      ]
     },
     "metadata": {},
     "output_type": "display_data"
    },
    {
     "data": {
      "text/plain": [
       "<Figure size 432x288 with 0 Axes>"
      ]
     },
     "metadata": {},
     "output_type": "display_data"
    },
    {
     "data": {
      "text/plain": [
       "<Figure size 432x288 with 0 Axes>"
      ]
     },
     "metadata": {},
     "output_type": "display_data"
    },
    {
     "data": {
      "text/plain": [
       "<Figure size 432x288 with 0 Axes>"
      ]
     },
     "metadata": {},
     "output_type": "display_data"
    },
    {
     "data": {
      "image/png": "[encoded data removed]",
      "text/plain": [
       "<Figure size 432x288 with 2 Axes>"
      ]
     },
     "metadata": {},
     "output_type": "display_data"
    }
   ],
   "source": [
    "results = ml.main()"
   ]
  },
  {
   "cell_type": "code",
   "execution_count": 24,
   "metadata": {},
   "outputs": [
    {
     "data": {
      "text/html": [
       "<div>\n",
       "<style scoped>\n",
       "    .dataframe tbody tr th:only-of-type {\n",
       "        vertical-align: middle;\n",
       "    }\n",
       "\n",
       "    .dataframe tbody tr th {\n",
       "        vertical-align: top;\n",
       "    }\n",
       "\n",
       "    .dataframe thead th {\n",
       "        text-align: right;\n",
       "    }\n",
       "</style>\n",
       "<table border=\"1\" class=\"dataframe\">\n",
       "  <thead>\n",
       "    <tr style=\"text-align: right;\">\n",
       "      <th></th>\n",
       "      <th>training_dates</th>\n",
       "      <th>testing_dates</th>\n",
       "      <th>model_key</th>\n",
       "      <th>classifier</th>\n",
       "      <th>parameters</th>\n",
       "      <th>feature_set</th>\n",
       "      <th>outcome</th>\n",
       "      <th>auc-roc</th>\n",
       "      <th>p_at_1</th>\n",
       "      <th>p_at_2</th>\n",
       "      <th>...</th>\n",
       "      <th>r_at_20</th>\n",
       "      <th>r_at_30</th>\n",
       "      <th>r_at_50</th>\n",
       "      <th>f1_at_1</th>\n",
       "      <th>f1_at_2</th>\n",
       "      <th>f1_at_5</th>\n",
       "      <th>f1_at_10</th>\n",
       "      <th>f1_at_20</th>\n",
       "      <th>f1_at_30</th>\n",
       "      <th>f1_at_50</th>\n",
       "    </tr>\n",
       "  </thead>\n",
       "  <tbody>\n",
       "    <tr>\n",
       "      <th>0</th>\n",
       "      <td>(2006-01-01 00:00:00, 2006-12-31 00:00:00)</td>\n",
       "      <td>(2007-01-01 00:00:00, 2007-12-31 00:00:00)</td>\n",
       "      <td>RF</td>\n",
       "      <td>(DecisionTreeClassifier(class_weight=None, cri...</td>\n",
       "      <td>top20_rate</td>\n",
       "      <td>feature_set</td>\n",
       "      <td>{'max_depth': 5, 'max_features': 'sqrt', 'min_...</td>\n",
       "      <td>0.909589</td>\n",
       "      <td>1.000000</td>\n",
       "      <td>0.933333</td>\n",
       "      <td>...</td>\n",
       "      <td>0.553299</td>\n",
       "      <td>0.776650</td>\n",
       "      <td>0.969543</td>\n",
       "      <td>0.068627</td>\n",
       "      <td>0.132075</td>\n",
       "      <td>0.280851</td>\n",
       "      <td>0.424908</td>\n",
       "      <td>0.624642</td>\n",
       "      <td>0.720000</td>\n",
       "      <td>0.660900</td>\n",
       "    </tr>\n",
       "    <tr>\n",
       "      <th>1</th>\n",
       "      <td>(2006-01-01 00:00:00, 2006-12-31 00:00:00)</td>\n",
       "      <td>(2007-01-01 00:00:00, 2007-12-31 00:00:00)</td>\n",
       "      <td>RF</td>\n",
       "      <td>(DecisionTreeClassifier(class_weight=None, cri...</td>\n",
       "      <td>top20_rate</td>\n",
       "      <td>feature_set</td>\n",
       "      <td>{'max_depth': 50, 'max_features': 'sqrt', 'min...</td>\n",
       "      <td>0.927714</td>\n",
       "      <td>0.857143</td>\n",
       "      <td>0.733333</td>\n",
       "      <td>...</td>\n",
       "      <td>0.593909</td>\n",
       "      <td>0.812183</td>\n",
       "      <td>0.984772</td>\n",
       "      <td>0.058824</td>\n",
       "      <td>0.103774</td>\n",
       "      <td>0.263830</td>\n",
       "      <td>0.446886</td>\n",
       "      <td>0.670487</td>\n",
       "      <td>0.752941</td>\n",
       "      <td>0.671280</td>\n",
       "    </tr>\n",
       "    <tr>\n",
       "      <th>2</th>\n",
       "      <td>(2006-01-01 00:00:00, 2006-12-31 00:00:00)</td>\n",
       "      <td>(2007-01-01 00:00:00, 2007-12-31 00:00:00)</td>\n",
       "      <td>DT</td>\n",
       "      <td>DecisionTreeClassifier(class_weight=None, crit...</td>\n",
       "      <td>top20_rate</td>\n",
       "      <td>feature_set</td>\n",
       "      <td>{'criterion': 'gini', 'max_depth': 5, 'min_sam...</td>\n",
       "      <td>0.926472</td>\n",
       "      <td>1.000000</td>\n",
       "      <td>1.000000</td>\n",
       "      <td>...</td>\n",
       "      <td>0.588832</td>\n",
       "      <td>0.812183</td>\n",
       "      <td>1.000000</td>\n",
       "      <td>0.068627</td>\n",
       "      <td>0.141509</td>\n",
       "      <td>0.212766</td>\n",
       "      <td>0.439560</td>\n",
       "      <td>0.664756</td>\n",
       "      <td>0.752941</td>\n",
       "      <td>0.681661</td>\n",
       "    </tr>\n",
       "    <tr>\n",
       "      <th>3</th>\n",
       "      <td>(2006-01-01 00:00:00, 2006-12-31 00:00:00)</td>\n",
       "      <td>(2007-01-01 00:00:00, 2007-12-31 00:00:00)</td>\n",
       "      <td>DT</td>\n",
       "      <td>DecisionTreeClassifier(class_weight=None, crit...</td>\n",
       "      <td>top20_rate</td>\n",
       "      <td>feature_set</td>\n",
       "      <td>{'criterion': 'gini', 'max_depth': 5, 'min_sam...</td>\n",
       "      <td>0.923122</td>\n",
       "      <td>1.000000</td>\n",
       "      <td>1.000000</td>\n",
       "      <td>...</td>\n",
       "      <td>0.583756</td>\n",
       "      <td>0.807107</td>\n",
       "      <td>1.000000</td>\n",
       "      <td>0.068627</td>\n",
       "      <td>0.141509</td>\n",
       "      <td>0.221277</td>\n",
       "      <td>0.439560</td>\n",
       "      <td>0.659026</td>\n",
       "      <td>0.748235</td>\n",
       "      <td>0.681661</td>\n",
       "    </tr>\n",
       "    <tr>\n",
       "      <th>4</th>\n",
       "      <td>(2006-01-01 00:00:00, 2006-12-31 00:00:00)</td>\n",
       "      <td>(2007-01-01 00:00:00, 2007-12-31 00:00:00)</td>\n",
       "      <td>DT</td>\n",
       "      <td>DecisionTreeClassifier(class_weight=None, crit...</td>\n",
       "      <td>top20_rate</td>\n",
       "      <td>feature_set</td>\n",
       "      <td>{'criterion': 'gini', 'max_depth': 50, 'min_sa...</td>\n",
       "      <td>0.785120</td>\n",
       "      <td>1.000000</td>\n",
       "      <td>1.000000</td>\n",
       "      <td>...</td>\n",
       "      <td>0.543147</td>\n",
       "      <td>0.649746</td>\n",
       "      <td>1.000000</td>\n",
       "      <td>0.068627</td>\n",
       "      <td>0.141509</td>\n",
       "      <td>0.314894</td>\n",
       "      <td>0.307692</td>\n",
       "      <td>0.613181</td>\n",
       "      <td>0.602353</td>\n",
       "      <td>0.681661</td>\n",
       "    </tr>\n",
       "    <tr>\n",
       "      <th>5</th>\n",
       "      <td>(2006-01-01 00:00:00, 2006-12-31 00:00:00)</td>\n",
       "      <td>(2007-01-01 00:00:00, 2007-12-31 00:00:00)</td>\n",
       "      <td>DT</td>\n",
       "      <td>DecisionTreeClassifier(class_weight=None, crit...</td>\n",
       "      <td>top20_rate</td>\n",
       "      <td>feature_set</td>\n",
       "      <td>{'criterion': 'gini', 'max_depth': 50, 'min_sa...</td>\n",
       "      <td>0.833187</td>\n",
       "      <td>1.000000</td>\n",
       "      <td>1.000000</td>\n",
       "      <td>...</td>\n",
       "      <td>0.578680</td>\n",
       "      <td>0.761421</td>\n",
       "      <td>1.000000</td>\n",
       "      <td>0.068627</td>\n",
       "      <td>0.141509</td>\n",
       "      <td>0.314894</td>\n",
       "      <td>0.293040</td>\n",
       "      <td>0.653295</td>\n",
       "      <td>0.705882</td>\n",
       "      <td>0.681661</td>\n",
       "    </tr>\n",
       "    <tr>\n",
       "      <th>6</th>\n",
       "      <td>(2006-01-01 00:00:00, 2006-12-31 00:00:00)</td>\n",
       "      <td>(2007-01-01 00:00:00, 2007-12-31 00:00:00)</td>\n",
       "      <td>DT</td>\n",
       "      <td>DecisionTreeClassifier(class_weight=None, crit...</td>\n",
       "      <td>top20_rate</td>\n",
       "      <td>feature_set</td>\n",
       "      <td>{'criterion': 'entropy', 'max_depth': 5, 'min_...</td>\n",
       "      <td>0.889863</td>\n",
       "      <td>1.000000</td>\n",
       "      <td>1.000000</td>\n",
       "      <td>...</td>\n",
       "      <td>0.604061</td>\n",
       "      <td>0.776650</td>\n",
       "      <td>1.000000</td>\n",
       "      <td>0.068627</td>\n",
       "      <td>0.141509</td>\n",
       "      <td>0.195745</td>\n",
       "      <td>0.417582</td>\n",
       "      <td>0.681948</td>\n",
       "      <td>0.720000</td>\n",
       "      <td>0.681661</td>\n",
       "    </tr>\n",
       "    <tr>\n",
       "      <th>7</th>\n",
       "      <td>(2006-01-01 00:00:00, 2006-12-31 00:00:00)</td>\n",
       "      <td>(2007-01-01 00:00:00, 2007-12-31 00:00:00)</td>\n",
       "      <td>DT</td>\n",
       "      <td>DecisionTreeClassifier(class_weight=None, crit...</td>\n",
       "      <td>top20_rate</td>\n",
       "      <td>feature_set</td>\n",
       "      <td>{'criterion': 'entropy', 'max_depth': 5, 'min_...</td>\n",
       "      <td>0.886791</td>\n",
       "      <td>1.000000</td>\n",
       "      <td>1.000000</td>\n",
       "      <td>...</td>\n",
       "      <td>0.598985</td>\n",
       "      <td>0.776650</td>\n",
       "      <td>1.000000</td>\n",
       "      <td>0.068627</td>\n",
       "      <td>0.141509</td>\n",
       "      <td>0.187234</td>\n",
       "      <td>0.417582</td>\n",
       "      <td>0.676218</td>\n",
       "      <td>0.720000</td>\n",
       "      <td>0.681661</td>\n",
       "    </tr>\n",
       "    <tr>\n",
       "      <th>8</th>\n",
       "      <td>(2006-01-01 00:00:00, 2006-12-31 00:00:00)</td>\n",
       "      <td>(2007-01-01 00:00:00, 2007-12-31 00:00:00)</td>\n",
       "      <td>DT</td>\n",
       "      <td>DecisionTreeClassifier(class_weight=None, crit...</td>\n",
       "      <td>top20_rate</td>\n",
       "      <td>feature_set</td>\n",
       "      <td>{'criterion': 'entropy', 'max_depth': 50, 'min...</td>\n",
       "      <td>0.784349</td>\n",
       "      <td>1.000000</td>\n",
       "      <td>0.933333</td>\n",
       "      <td>...</td>\n",
       "      <td>0.553299</td>\n",
       "      <td>0.644670</td>\n",
       "      <td>1.000000</td>\n",
       "      <td>0.068627</td>\n",
       "      <td>0.132075</td>\n",
       "      <td>0.314894</td>\n",
       "      <td>0.307692</td>\n",
       "      <td>0.624642</td>\n",
       "      <td>0.597647</td>\n",
       "      <td>0.681661</td>\n",
       "    </tr>\n",
       "    <tr>\n",
       "      <th>9</th>\n",
       "      <td>(2006-01-01 00:00:00, 2006-12-31 00:00:00)</td>\n",
       "      <td>(2007-01-01 00:00:00, 2007-12-31 00:00:00)</td>\n",
       "      <td>DT</td>\n",
       "      <td>DecisionTreeClassifier(class_weight=None, crit...</td>\n",
       "      <td>top20_rate</td>\n",
       "      <td>feature_set</td>\n",
       "      <td>{'criterion': 'entropy', 'max_depth': 50, 'min...</td>\n",
       "      <td>0.808712</td>\n",
       "      <td>1.000000</td>\n",
       "      <td>1.000000</td>\n",
       "      <td>...</td>\n",
       "      <td>0.568528</td>\n",
       "      <td>0.705584</td>\n",
       "      <td>1.000000</td>\n",
       "      <td>0.068627</td>\n",
       "      <td>0.141509</td>\n",
       "      <td>0.314894</td>\n",
       "      <td>0.271062</td>\n",
       "      <td>0.641834</td>\n",
       "      <td>0.654118</td>\n",
       "      <td>0.681661</td>\n",
       "    </tr>\n",
       "    <tr>\n",
       "      <th>10</th>\n",
       "      <td>(2006-01-01 00:00:00, 2007-12-31 00:00:00)</td>\n",
       "      <td>(2008-01-01 00:00:00, 2008-12-31 00:00:00)</td>\n",
       "      <td>RF</td>\n",
       "      <td>(DecisionTreeClassifier(class_weight=None, cri...</td>\n",
       "      <td>top20_rate</td>\n",
       "      <td>feature_set</td>\n",
       "      <td>{'max_depth': 5, 'max_features': 'sqrt', 'min_...</td>\n",
       "      <td>0.942112</td>\n",
       "      <td>0.875000</td>\n",
       "      <td>0.812500</td>\n",
       "      <td>...</td>\n",
       "      <td>0.579832</td>\n",
       "      <td>0.819328</td>\n",
       "      <td>0.983193</td>\n",
       "      <td>0.056911</td>\n",
       "      <td>0.102362</td>\n",
       "      <td>0.264286</td>\n",
       "      <td>0.440994</td>\n",
       "      <td>0.679803</td>\n",
       "      <td>0.794297</td>\n",
       "      <td>0.709091</td>\n",
       "    </tr>\n",
       "    <tr>\n",
       "      <th>11</th>\n",
       "      <td>(2006-01-01 00:00:00, 2007-12-31 00:00:00)</td>\n",
       "      <td>(2008-01-01 00:00:00, 2008-12-31 00:00:00)</td>\n",
       "      <td>RF</td>\n",
       "      <td>(DecisionTreeClassifier(class_weight=None, cri...</td>\n",
       "      <td>top20_rate</td>\n",
       "      <td>feature_set</td>\n",
       "      <td>{'max_depth': 50, 'max_features': 'sqrt', 'min...</td>\n",
       "      <td>0.947066</td>\n",
       "      <td>1.000000</td>\n",
       "      <td>0.937500</td>\n",
       "      <td>...</td>\n",
       "      <td>0.579832</td>\n",
       "      <td>0.836134</td>\n",
       "      <td>0.995798</td>\n",
       "      <td>0.065041</td>\n",
       "      <td>0.118110</td>\n",
       "      <td>0.264286</td>\n",
       "      <td>0.428571</td>\n",
       "      <td>0.679803</td>\n",
       "      <td>0.810591</td>\n",
       "      <td>0.718182</td>\n",
       "    </tr>\n",
       "    <tr>\n",
       "      <th>12</th>\n",
       "      <td>(2006-01-01 00:00:00, 2007-12-31 00:00:00)</td>\n",
       "      <td>(2008-01-01 00:00:00, 2008-12-31 00:00:00)</td>\n",
       "      <td>DT</td>\n",
       "      <td>DecisionTreeClassifier(class_weight=None, crit...</td>\n",
       "      <td>top20_rate</td>\n",
       "      <td>feature_set</td>\n",
       "      <td>{'criterion': 'gini', 'max_depth': 5, 'min_sam...</td>\n",
       "      <td>0.941863</td>\n",
       "      <td>0.625000</td>\n",
       "      <td>0.812500</td>\n",
       "      <td>...</td>\n",
       "      <td>0.533613</td>\n",
       "      <td>0.827731</td>\n",
       "      <td>1.000000</td>\n",
       "      <td>0.040650</td>\n",
       "      <td>0.102362</td>\n",
       "      <td>0.257143</td>\n",
       "      <td>0.465839</td>\n",
       "      <td>0.625616</td>\n",
       "      <td>0.802444</td>\n",
       "      <td>0.721212</td>\n",
       "    </tr>\n",
       "    <tr>\n",
       "      <th>13</th>\n",
       "      <td>(2006-01-01 00:00:00, 2007-12-31 00:00:00)</td>\n",
       "      <td>(2008-01-01 00:00:00, 2008-12-31 00:00:00)</td>\n",
       "      <td>DT</td>\n",
       "      <td>DecisionTreeClassifier(class_weight=None, crit...</td>\n",
       "      <td>top20_rate</td>\n",
       "      <td>feature_set</td>\n",
       "      <td>{'criterion': 'gini', 'max_depth': 5, 'min_sam...</td>\n",
       "      <td>0.940702</td>\n",
       "      <td>0.625000</td>\n",
       "      <td>0.812500</td>\n",
       "      <td>...</td>\n",
       "      <td>0.533613</td>\n",
       "      <td>0.823529</td>\n",
       "      <td>1.000000</td>\n",
       "      <td>0.040650</td>\n",
       "      <td>0.102362</td>\n",
       "      <td>0.257143</td>\n",
       "      <td>0.472050</td>\n",
       "      <td>0.625616</td>\n",
       "      <td>0.798371</td>\n",
       "      <td>0.721212</td>\n",
       "    </tr>\n",
       "    <tr>\n",
       "      <th>14</th>\n",
       "      <td>(2006-01-01 00:00:00, 2007-12-31 00:00:00)</td>\n",
       "      <td>(2008-01-01 00:00:00, 2008-12-31 00:00:00)</td>\n",
       "      <td>DT</td>\n",
       "      <td>DecisionTreeClassifier(class_weight=None, crit...</td>\n",
       "      <td>top20_rate</td>\n",
       "      <td>feature_set</td>\n",
       "      <td>{'criterion': 'gini', 'max_depth': 50, 'min_sa...</td>\n",
       "      <td>0.803284</td>\n",
       "      <td>1.000000</td>\n",
       "      <td>1.000000</td>\n",
       "      <td>...</td>\n",
       "      <td>0.495798</td>\n",
       "      <td>0.689076</td>\n",
       "      <td>1.000000</td>\n",
       "      <td>0.065041</td>\n",
       "      <td>0.125984</td>\n",
       "      <td>0.300000</td>\n",
       "      <td>0.354037</td>\n",
       "      <td>0.581281</td>\n",
       "      <td>0.668024</td>\n",
       "      <td>0.721212</td>\n",
       "    </tr>\n",
       "    <tr>\n",
       "      <th>15</th>\n",
       "      <td>(2006-01-01 00:00:00, 2007-12-31 00:00:00)</td>\n",
       "      <td>(2008-01-01 00:00:00, 2008-12-31 00:00:00)</td>\n",
       "      <td>DT</td>\n",
       "      <td>DecisionTreeClassifier(class_weight=None, crit...</td>\n",
       "      <td>top20_rate</td>\n",
       "      <td>feature_set</td>\n",
       "      <td>{'criterion': 'gini', 'max_depth': 50, 'min_sa...</td>\n",
       "      <td>0.840423</td>\n",
       "      <td>1.000000</td>\n",
       "      <td>1.000000</td>\n",
       "      <td>...</td>\n",
       "      <td>0.525210</td>\n",
       "      <td>0.773109</td>\n",
       "      <td>1.000000</td>\n",
       "      <td>0.065041</td>\n",
       "      <td>0.125984</td>\n",
       "      <td>0.300000</td>\n",
       "      <td>0.316770</td>\n",
       "      <td>0.615764</td>\n",
       "      <td>0.749491</td>\n",
       "      <td>0.721212</td>\n",
       "    </tr>\n",
       "    <tr>\n",
       "      <th>16</th>\n",
       "      <td>(2006-01-01 00:00:00, 2007-12-31 00:00:00)</td>\n",
       "      <td>(2008-01-01 00:00:00, 2008-12-31 00:00:00)</td>\n",
       "      <td>DT</td>\n",
       "      <td>DecisionTreeClassifier(class_weight=None, crit...</td>\n",
       "      <td>top20_rate</td>\n",
       "      <td>feature_set</td>\n",
       "      <td>{'criterion': 'entropy', 'max_depth': 5, 'min_...</td>\n",
       "      <td>0.928374</td>\n",
       "      <td>1.000000</td>\n",
       "      <td>1.000000</td>\n",
       "      <td>...</td>\n",
       "      <td>0.575630</td>\n",
       "      <td>0.735294</td>\n",
       "      <td>1.000000</td>\n",
       "      <td>0.065041</td>\n",
       "      <td>0.125984</td>\n",
       "      <td>0.200000</td>\n",
       "      <td>0.422360</td>\n",
       "      <td>0.674877</td>\n",
       "      <td>0.712831</td>\n",
       "      <td>0.721212</td>\n",
       "    </tr>\n",
       "    <tr>\n",
       "      <th>17</th>\n",
       "      <td>(2006-01-01 00:00:00, 2007-12-31 00:00:00)</td>\n",
       "      <td>(2008-01-01 00:00:00, 2008-12-31 00:00:00)</td>\n",
       "      <td>DT</td>\n",
       "      <td>DecisionTreeClassifier(class_weight=None, crit...</td>\n",
       "      <td>top20_rate</td>\n",
       "      <td>feature_set</td>\n",
       "      <td>{'criterion': 'entropy', 'max_depth': 5, 'min_...</td>\n",
       "      <td>0.927722</td>\n",
       "      <td>1.000000</td>\n",
       "      <td>1.000000</td>\n",
       "      <td>...</td>\n",
       "      <td>0.575630</td>\n",
       "      <td>0.735294</td>\n",
       "      <td>1.000000</td>\n",
       "      <td>0.065041</td>\n",
       "      <td>0.125984</td>\n",
       "      <td>0.192857</td>\n",
       "      <td>0.422360</td>\n",
       "      <td>0.674877</td>\n",
       "      <td>0.712831</td>\n",
       "      <td>0.721212</td>\n",
       "    </tr>\n",
       "    <tr>\n",
       "      <th>18</th>\n",
       "      <td>(2006-01-01 00:00:00, 2007-12-31 00:00:00)</td>\n",
       "      <td>(2008-01-01 00:00:00, 2008-12-31 00:00:00)</td>\n",
       "      <td>DT</td>\n",
       "      <td>DecisionTreeClassifier(class_weight=None, crit...</td>\n",
       "      <td>top20_rate</td>\n",
       "      <td>feature_set</td>\n",
       "      <td>{'criterion': 'entropy', 'max_depth': 50, 'min...</td>\n",
       "      <td>0.807936</td>\n",
       "      <td>1.000000</td>\n",
       "      <td>1.000000</td>\n",
       "      <td>...</td>\n",
       "      <td>0.487395</td>\n",
       "      <td>0.701681</td>\n",
       "      <td>1.000000</td>\n",
       "      <td>0.065041</td>\n",
       "      <td>0.125984</td>\n",
       "      <td>0.300000</td>\n",
       "      <td>0.360248</td>\n",
       "      <td>0.571429</td>\n",
       "      <td>0.680244</td>\n",
       "      <td>0.721212</td>\n",
       "    </tr>\n",
       "    <tr>\n",
       "      <th>19</th>\n",
       "      <td>(2006-01-01 00:00:00, 2007-12-31 00:00:00)</td>\n",
       "      <td>(2008-01-01 00:00:00, 2008-12-31 00:00:00)</td>\n",
       "      <td>DT</td>\n",
       "      <td>DecisionTreeClassifier(class_weight=None, crit...</td>\n",
       "      <td>top20_rate</td>\n",
       "      <td>feature_set</td>\n",
       "      <td>{'criterion': 'entropy', 'max_depth': 50, 'min...</td>\n",
       "      <td>0.847953</td>\n",
       "      <td>1.000000</td>\n",
       "      <td>1.000000</td>\n",
       "      <td>...</td>\n",
       "      <td>0.542017</td>\n",
       "      <td>0.789916</td>\n",
       "      <td>1.000000</td>\n",
       "      <td>0.065041</td>\n",
       "      <td>0.125984</td>\n",
       "      <td>0.300000</td>\n",
       "      <td>0.310559</td>\n",
       "      <td>0.635468</td>\n",
       "      <td>0.765784</td>\n",
       "      <td>0.721212</td>\n",
       "    </tr>\n",
       "    <tr>\n",
       "      <th>20</th>\n",
       "      <td>(2006-01-01 00:00:00, 2008-12-31 00:00:00)</td>\n",
       "      <td>(2009-01-01 00:00:00, 2009-12-31 00:00:00)</td>\n",
       "      <td>RF</td>\n",
       "      <td>(DecisionTreeClassifier(class_weight=None, cri...</td>\n",
       "      <td>top20_rate</td>\n",
       "      <td>feature_set</td>\n",
       "      <td>{'max_depth': 5, 'max_features': 'sqrt', 'min_...</td>\n",
       "      <td>0.925679</td>\n",
       "      <td>0.875000</td>\n",
       "      <td>0.875000</td>\n",
       "      <td>...</td>\n",
       "      <td>0.561404</td>\n",
       "      <td>0.798246</td>\n",
       "      <td>0.973684</td>\n",
       "      <td>0.059322</td>\n",
       "      <td>0.114754</td>\n",
       "      <td>0.282528</td>\n",
       "      <td>0.463023</td>\n",
       "      <td>0.649746</td>\n",
       "      <td>0.763103</td>\n",
       "      <td>0.690513</td>\n",
       "    </tr>\n",
       "    <tr>\n",
       "      <th>21</th>\n",
       "      <td>(2006-01-01 00:00:00, 2008-12-31 00:00:00)</td>\n",
       "      <td>(2009-01-01 00:00:00, 2009-12-31 00:00:00)</td>\n",
       "      <td>RF</td>\n",
       "      <td>(DecisionTreeClassifier(class_weight=None, cri...</td>\n",
       "      <td>top20_rate</td>\n",
       "      <td>feature_set</td>\n",
       "      <td>{'max_depth': 50, 'max_features': 'sqrt', 'min...</td>\n",
       "      <td>0.933373</td>\n",
       "      <td>1.000000</td>\n",
       "      <td>1.000000</td>\n",
       "      <td>...</td>\n",
       "      <td>0.578947</td>\n",
       "      <td>0.798246</td>\n",
       "      <td>0.973684</td>\n",
       "      <td>0.067797</td>\n",
       "      <td>0.131148</td>\n",
       "      <td>0.289963</td>\n",
       "      <td>0.488746</td>\n",
       "      <td>0.670051</td>\n",
       "      <td>0.763103</td>\n",
       "      <td>0.690513</td>\n",
       "    </tr>\n",
       "    <tr>\n",
       "      <th>22</th>\n",
       "      <td>(2006-01-01 00:00:00, 2008-12-31 00:00:00)</td>\n",
       "      <td>(2009-01-01 00:00:00, 2009-12-31 00:00:00)</td>\n",
       "      <td>DT</td>\n",
       "      <td>DecisionTreeClassifier(class_weight=None, crit...</td>\n",
       "      <td>top20_rate</td>\n",
       "      <td>feature_set</td>\n",
       "      <td>{'criterion': 'gini', 'max_depth': 5, 'min_sam...</td>\n",
       "      <td>0.926706</td>\n",
       "      <td>0.750000</td>\n",
       "      <td>0.875000</td>\n",
       "      <td>...</td>\n",
       "      <td>0.592105</td>\n",
       "      <td>0.780702</td>\n",
       "      <td>1.000000</td>\n",
       "      <td>0.050847</td>\n",
       "      <td>0.114754</td>\n",
       "      <td>0.252788</td>\n",
       "      <td>0.405145</td>\n",
       "      <td>0.685279</td>\n",
       "      <td>0.746331</td>\n",
       "      <td>0.709176</td>\n",
       "    </tr>\n",
       "    <tr>\n",
       "      <th>23</th>\n",
       "      <td>(2006-01-01 00:00:00, 2008-12-31 00:00:00)</td>\n",
       "      <td>(2009-01-01 00:00:00, 2009-12-31 00:00:00)</td>\n",
       "      <td>DT</td>\n",
       "      <td>DecisionTreeClassifier(class_weight=None, crit...</td>\n",
       "      <td>top20_rate</td>\n",
       "      <td>feature_set</td>\n",
       "      <td>{'criterion': 'gini', 'max_depth': 5, 'min_sam...</td>\n",
       "      <td>0.931923</td>\n",
       "      <td>1.000000</td>\n",
       "      <td>0.875000</td>\n",
       "      <td>...</td>\n",
       "      <td>0.587719</td>\n",
       "      <td>0.776316</td>\n",
       "      <td>1.000000</td>\n",
       "      <td>0.067797</td>\n",
       "      <td>0.114754</td>\n",
       "      <td>0.260223</td>\n",
       "      <td>0.405145</td>\n",
       "      <td>0.680203</td>\n",
       "      <td>0.742138</td>\n",
       "      <td>0.709176</td>\n",
       "    </tr>\n",
       "    <tr>\n",
       "      <th>24</th>\n",
       "      <td>(2006-01-01 00:00:00, 2008-12-31 00:00:00)</td>\n",
       "      <td>(2009-01-01 00:00:00, 2009-12-31 00:00:00)</td>\n",
       "      <td>DT</td>\n",
       "      <td>DecisionTreeClassifier(class_weight=None, crit...</td>\n",
       "      <td>top20_rate</td>\n",
       "      <td>feature_set</td>\n",
       "      <td>{'criterion': 'gini', 'max_depth': 50, 'min_sa...</td>\n",
       "      <td>0.815629</td>\n",
       "      <td>1.000000</td>\n",
       "      <td>1.000000</td>\n",
       "      <td>...</td>\n",
       "      <td>0.495614</td>\n",
       "      <td>0.719298</td>\n",
       "      <td>1.000000</td>\n",
       "      <td>0.067797</td>\n",
       "      <td>0.131148</td>\n",
       "      <td>0.304833</td>\n",
       "      <td>0.360129</td>\n",
       "      <td>0.573604</td>\n",
       "      <td>0.687631</td>\n",
       "      <td>0.709176</td>\n",
       "    </tr>\n",
       "    <tr>\n",
       "      <th>25</th>\n",
       "      <td>(2006-01-01 00:00:00, 2008-12-31 00:00:00)</td>\n",
       "      <td>(2009-01-01 00:00:00, 2009-12-31 00:00:00)</td>\n",
       "      <td>DT</td>\n",
       "      <td>DecisionTreeClassifier(class_weight=None, crit...</td>\n",
       "      <td>top20_rate</td>\n",
       "      <td>feature_set</td>\n",
       "      <td>{'criterion': 'gini', 'max_depth': 50, 'min_sa...</td>\n",
       "      <td>0.851489</td>\n",
       "      <td>1.000000</td>\n",
       "      <td>1.000000</td>\n",
       "      <td>...</td>\n",
       "      <td>0.548246</td>\n",
       "      <td>0.793860</td>\n",
       "      <td>1.000000</td>\n",
       "      <td>0.067797</td>\n",
       "      <td>0.131148</td>\n",
       "      <td>0.304833</td>\n",
       "      <td>0.308682</td>\n",
       "      <td>0.634518</td>\n",
       "      <td>0.758910</td>\n",
       "      <td>0.709176</td>\n",
       "    </tr>\n",
       "    <tr>\n",
       "      <th>26</th>\n",
       "      <td>(2006-01-01 00:00:00, 2008-12-31 00:00:00)</td>\n",
       "      <td>(2009-01-01 00:00:00, 2009-12-31 00:00:00)</td>\n",
       "      <td>DT</td>\n",
       "      <td>DecisionTreeClassifier(class_weight=None, crit...</td>\n",
       "      <td>top20_rate</td>\n",
       "      <td>feature_set</td>\n",
       "      <td>{'criterion': 'entropy', 'max_depth': 5, 'min_...</td>\n",
       "      <td>0.917086</td>\n",
       "      <td>1.000000</td>\n",
       "      <td>0.687500</td>\n",
       "      <td>...</td>\n",
       "      <td>0.561404</td>\n",
       "      <td>0.736842</td>\n",
       "      <td>1.000000</td>\n",
       "      <td>0.067797</td>\n",
       "      <td>0.090164</td>\n",
       "      <td>0.245353</td>\n",
       "      <td>0.392283</td>\n",
       "      <td>0.649746</td>\n",
       "      <td>0.704403</td>\n",
       "      <td>0.709176</td>\n",
       "    </tr>\n",
       "    <tr>\n",
       "      <th>27</th>\n",
       "      <td>(2006-01-01 00:00:00, 2008-12-31 00:00:00)</td>\n",
       "      <td>(2009-01-01 00:00:00, 2009-12-31 00:00:00)</td>\n",
       "      <td>DT</td>\n",
       "      <td>DecisionTreeClassifier(class_weight=None, crit...</td>\n",
       "      <td>top20_rate</td>\n",
       "      <td>feature_set</td>\n",
       "      <td>{'criterion': 'entropy', 'max_depth': 5, 'min_...</td>\n",
       "      <td>0.917851</td>\n",
       "      <td>1.000000</td>\n",
       "      <td>0.687500</td>\n",
       "      <td>...</td>\n",
       "      <td>0.565789</td>\n",
       "      <td>0.736842</td>\n",
       "      <td>1.000000</td>\n",
       "      <td>0.067797</td>\n",
       "      <td>0.090164</td>\n",
       "      <td>0.252788</td>\n",
       "      <td>0.398714</td>\n",
       "      <td>0.654822</td>\n",
       "      <td>0.704403</td>\n",
       "      <td>0.709176</td>\n",
       "    </tr>\n",
       "    <tr>\n",
       "      <th>28</th>\n",
       "      <td>(2006-01-01 00:00:00, 2008-12-31 00:00:00)</td>\n",
       "      <td>(2009-01-01 00:00:00, 2009-12-31 00:00:00)</td>\n",
       "      <td>DT</td>\n",
       "      <td>DecisionTreeClassifier(class_weight=None, crit...</td>\n",
       "      <td>top20_rate</td>\n",
       "      <td>feature_set</td>\n",
       "      <td>{'criterion': 'entropy', 'max_depth': 50, 'min...</td>\n",
       "      <td>0.814434</td>\n",
       "      <td>1.000000</td>\n",
       "      <td>0.937500</td>\n",
       "      <td>...</td>\n",
       "      <td>0.442982</td>\n",
       "      <td>0.736842</td>\n",
       "      <td>1.000000</td>\n",
       "      <td>0.067797</td>\n",
       "      <td>0.122951</td>\n",
       "      <td>0.260223</td>\n",
       "      <td>0.334405</td>\n",
       "      <td>0.512690</td>\n",
       "      <td>0.704403</td>\n",
       "      <td>0.709176</td>\n",
       "    </tr>\n",
       "    <tr>\n",
       "      <th>29</th>\n",
       "      <td>(2006-01-01 00:00:00, 2008-12-31 00:00:00)</td>\n",
       "      <td>(2009-01-01 00:00:00, 2009-12-31 00:00:00)</td>\n",
       "      <td>DT</td>\n",
       "      <td>DecisionTreeClassifier(class_weight=None, crit...</td>\n",
       "      <td>top20_rate</td>\n",
       "      <td>feature_set</td>\n",
       "      <td>{'criterion': 'entropy', 'max_depth': 50, 'min...</td>\n",
       "      <td>0.850549</td>\n",
       "      <td>1.000000</td>\n",
       "      <td>1.000000</td>\n",
       "      <td>...</td>\n",
       "      <td>0.521930</td>\n",
       "      <td>0.785088</td>\n",
       "      <td>1.000000</td>\n",
       "      <td>0.067797</td>\n",
       "      <td>0.131148</td>\n",
       "      <td>0.304833</td>\n",
       "      <td>0.334405</td>\n",
       "      <td>0.604061</td>\n",
       "      <td>0.750524</td>\n",
       "      <td>0.709176</td>\n",
       "    </tr>\n",
       "    <tr>\n",
       "      <th>...</th>\n",
       "      <td>...</td>\n",
       "      <td>...</td>\n",
       "      <td>...</td>\n",
       "      <td>...</td>\n",
       "      <td>...</td>\n",
       "      <td>...</td>\n",
       "      <td>...</td>\n",
       "      <td>...</td>\n",
       "      <td>...</td>\n",
       "      <td>...</td>\n",
       "      <td>...</td>\n",
       "      <td>...</td>\n",
       "      <td>...</td>\n",
       "      <td>...</td>\n",
       "      <td>...</td>\n",
       "      <td>...</td>\n",
       "      <td>...</td>\n",
       "      <td>...</td>\n",
       "      <td>...</td>\n",
       "      <td>...</td>\n",
       "      <td>...</td>\n",
       "    </tr>\n",
       "    <tr>\n",
       "      <th>60</th>\n",
       "      <td>(2006-01-01 00:00:00, 2012-12-31 00:00:00)</td>\n",
       "      <td>(2013-01-01 00:00:00, 2013-12-31 00:00:00)</td>\n",
       "      <td>RF</td>\n",
       "      <td>(DecisionTreeClassifier(class_weight=None, cri...</td>\n",
       "      <td>top20_rate</td>\n",
       "      <td>feature_set</td>\n",
       "      <td>{'max_depth': 5, 'max_features': 'sqrt', 'min_...</td>\n",
       "      <td>0.926628</td>\n",
       "      <td>0.888889</td>\n",
       "      <td>0.888889</td>\n",
       "      <td>...</td>\n",
       "      <td>0.594828</td>\n",
       "      <td>0.810345</td>\n",
       "      <td>0.978448</td>\n",
       "      <td>0.066390</td>\n",
       "      <td>0.128000</td>\n",
       "      <td>0.274368</td>\n",
       "      <td>0.484472</td>\n",
       "      <td>0.669903</td>\n",
       "      <td>0.749004</td>\n",
       "      <td>0.664714</td>\n",
       "    </tr>\n",
       "    <tr>\n",
       "      <th>61</th>\n",
       "      <td>(2006-01-01 00:00:00, 2012-12-31 00:00:00)</td>\n",
       "      <td>(2013-01-01 00:00:00, 2013-12-31 00:00:00)</td>\n",
       "      <td>RF</td>\n",
       "      <td>(DecisionTreeClassifier(class_weight=None, cri...</td>\n",
       "      <td>top20_rate</td>\n",
       "      <td>feature_set</td>\n",
       "      <td>{'max_depth': 50, 'max_features': 'sqrt', 'min...</td>\n",
       "      <td>0.920455</td>\n",
       "      <td>1.000000</td>\n",
       "      <td>0.888889</td>\n",
       "      <td>...</td>\n",
       "      <td>0.577586</td>\n",
       "      <td>0.784483</td>\n",
       "      <td>0.982759</td>\n",
       "      <td>0.074689</td>\n",
       "      <td>0.128000</td>\n",
       "      <td>0.288809</td>\n",
       "      <td>0.459627</td>\n",
       "      <td>0.650485</td>\n",
       "      <td>0.725100</td>\n",
       "      <td>0.667643</td>\n",
       "    </tr>\n",
       "    <tr>\n",
       "      <th>62</th>\n",
       "      <td>(2006-01-01 00:00:00, 2012-12-31 00:00:00)</td>\n",
       "      <td>(2013-01-01 00:00:00, 2013-12-31 00:00:00)</td>\n",
       "      <td>DT</td>\n",
       "      <td>DecisionTreeClassifier(class_weight=None, crit...</td>\n",
       "      <td>top20_rate</td>\n",
       "      <td>feature_set</td>\n",
       "      <td>{'criterion': 'gini', 'max_depth': 5, 'min_sam...</td>\n",
       "      <td>0.926631</td>\n",
       "      <td>0.666667</td>\n",
       "      <td>0.833333</td>\n",
       "      <td>...</td>\n",
       "      <td>0.547414</td>\n",
       "      <td>0.771552</td>\n",
       "      <td>1.000000</td>\n",
       "      <td>0.049793</td>\n",
       "      <td>0.120000</td>\n",
       "      <td>0.245487</td>\n",
       "      <td>0.459627</td>\n",
       "      <td>0.616505</td>\n",
       "      <td>0.713147</td>\n",
       "      <td>0.679356</td>\n",
       "    </tr>\n",
       "    <tr>\n",
       "      <th>63</th>\n",
       "      <td>(2006-01-01 00:00:00, 2012-12-31 00:00:00)</td>\n",
       "      <td>(2013-01-01 00:00:00, 2013-12-31 00:00:00)</td>\n",
       "      <td>DT</td>\n",
       "      <td>DecisionTreeClassifier(class_weight=None, crit...</td>\n",
       "      <td>top20_rate</td>\n",
       "      <td>feature_set</td>\n",
       "      <td>{'criterion': 'gini', 'max_depth': 5, 'min_sam...</td>\n",
       "      <td>0.926271</td>\n",
       "      <td>0.666667</td>\n",
       "      <td>0.833333</td>\n",
       "      <td>...</td>\n",
       "      <td>0.547414</td>\n",
       "      <td>0.775862</td>\n",
       "      <td>1.000000</td>\n",
       "      <td>0.049793</td>\n",
       "      <td>0.120000</td>\n",
       "      <td>0.245487</td>\n",
       "      <td>0.459627</td>\n",
       "      <td>0.616505</td>\n",
       "      <td>0.717131</td>\n",
       "      <td>0.679356</td>\n",
       "    </tr>\n",
       "    <tr>\n",
       "      <th>64</th>\n",
       "      <td>(2006-01-01 00:00:00, 2012-12-31 00:00:00)</td>\n",
       "      <td>(2013-01-01 00:00:00, 2013-12-31 00:00:00)</td>\n",
       "      <td>DT</td>\n",
       "      <td>DecisionTreeClassifier(class_weight=None, crit...</td>\n",
       "      <td>top20_rate</td>\n",
       "      <td>feature_set</td>\n",
       "      <td>{'criterion': 'gini', 'max_depth': 50, 'min_sa...</td>\n",
       "      <td>0.736712</td>\n",
       "      <td>0.777778</td>\n",
       "      <td>0.444444</td>\n",
       "      <td>...</td>\n",
       "      <td>0.487069</td>\n",
       "      <td>0.573276</td>\n",
       "      <td>1.000000</td>\n",
       "      <td>0.058091</td>\n",
       "      <td>0.064000</td>\n",
       "      <td>0.209386</td>\n",
       "      <td>0.204969</td>\n",
       "      <td>0.548544</td>\n",
       "      <td>0.529880</td>\n",
       "      <td>0.679356</td>\n",
       "    </tr>\n",
       "    <tr>\n",
       "      <th>65</th>\n",
       "      <td>(2006-01-01 00:00:00, 2012-12-31 00:00:00)</td>\n",
       "      <td>(2013-01-01 00:00:00, 2013-12-31 00:00:00)</td>\n",
       "      <td>DT</td>\n",
       "      <td>DecisionTreeClassifier(class_weight=None, crit...</td>\n",
       "      <td>top20_rate</td>\n",
       "      <td>feature_set</td>\n",
       "      <td>{'criterion': 'gini', 'max_depth': 50, 'min_sa...</td>\n",
       "      <td>0.794301</td>\n",
       "      <td>1.000000</td>\n",
       "      <td>0.611111</td>\n",
       "      <td>...</td>\n",
       "      <td>0.543103</td>\n",
       "      <td>0.702586</td>\n",
       "      <td>1.000000</td>\n",
       "      <td>0.074689</td>\n",
       "      <td>0.088000</td>\n",
       "      <td>0.223827</td>\n",
       "      <td>0.273292</td>\n",
       "      <td>0.611650</td>\n",
       "      <td>0.649402</td>\n",
       "      <td>0.679356</td>\n",
       "    </tr>\n",
       "    <tr>\n",
       "      <th>66</th>\n",
       "      <td>(2006-01-01 00:00:00, 2012-12-31 00:00:00)</td>\n",
       "      <td>(2013-01-01 00:00:00, 2013-12-31 00:00:00)</td>\n",
       "      <td>DT</td>\n",
       "      <td>DecisionTreeClassifier(class_weight=None, crit...</td>\n",
       "      <td>top20_rate</td>\n",
       "      <td>feature_set</td>\n",
       "      <td>{'criterion': 'entropy', 'max_depth': 5, 'min_...</td>\n",
       "      <td>0.922006</td>\n",
       "      <td>0.666667</td>\n",
       "      <td>0.833333</td>\n",
       "      <td>...</td>\n",
       "      <td>0.564655</td>\n",
       "      <td>0.801724</td>\n",
       "      <td>1.000000</td>\n",
       "      <td>0.049793</td>\n",
       "      <td>0.120000</td>\n",
       "      <td>0.288809</td>\n",
       "      <td>0.434783</td>\n",
       "      <td>0.635922</td>\n",
       "      <td>0.741036</td>\n",
       "      <td>0.679356</td>\n",
       "    </tr>\n",
       "    <tr>\n",
       "      <th>67</th>\n",
       "      <td>(2006-01-01 00:00:00, 2012-12-31 00:00:00)</td>\n",
       "      <td>(2013-01-01 00:00:00, 2013-12-31 00:00:00)</td>\n",
       "      <td>DT</td>\n",
       "      <td>DecisionTreeClassifier(class_weight=None, crit...</td>\n",
       "      <td>top20_rate</td>\n",
       "      <td>feature_set</td>\n",
       "      <td>{'criterion': 'entropy', 'max_depth': 5, 'min_...</td>\n",
       "      <td>0.923153</td>\n",
       "      <td>0.777778</td>\n",
       "      <td>0.888889</td>\n",
       "      <td>...</td>\n",
       "      <td>0.568966</td>\n",
       "      <td>0.806034</td>\n",
       "      <td>1.000000</td>\n",
       "      <td>0.058091</td>\n",
       "      <td>0.128000</td>\n",
       "      <td>0.296029</td>\n",
       "      <td>0.434783</td>\n",
       "      <td>0.640777</td>\n",
       "      <td>0.745020</td>\n",
       "      <td>0.679356</td>\n",
       "    </tr>\n",
       "    <tr>\n",
       "      <th>68</th>\n",
       "      <td>(2006-01-01 00:00:00, 2012-12-31 00:00:00)</td>\n",
       "      <td>(2013-01-01 00:00:00, 2013-12-31 00:00:00)</td>\n",
       "      <td>DT</td>\n",
       "      <td>DecisionTreeClassifier(class_weight=None, crit...</td>\n",
       "      <td>top20_rate</td>\n",
       "      <td>feature_set</td>\n",
       "      <td>{'criterion': 'entropy', 'max_depth': 50, 'min...</td>\n",
       "      <td>0.766483</td>\n",
       "      <td>0.555556</td>\n",
       "      <td>0.277778</td>\n",
       "      <td>...</td>\n",
       "      <td>0.422414</td>\n",
       "      <td>0.655172</td>\n",
       "      <td>1.000000</td>\n",
       "      <td>0.041494</td>\n",
       "      <td>0.040000</td>\n",
       "      <td>0.158845</td>\n",
       "      <td>0.217391</td>\n",
       "      <td>0.475728</td>\n",
       "      <td>0.605578</td>\n",
       "      <td>0.679356</td>\n",
       "    </tr>\n",
       "    <tr>\n",
       "      <th>69</th>\n",
       "      <td>(2006-01-01 00:00:00, 2012-12-31 00:00:00)</td>\n",
       "      <td>(2013-01-01 00:00:00, 2013-12-31 00:00:00)</td>\n",
       "      <td>DT</td>\n",
       "      <td>DecisionTreeClassifier(class_weight=None, crit...</td>\n",
       "      <td>top20_rate</td>\n",
       "      <td>feature_set</td>\n",
       "      <td>{'criterion': 'entropy', 'max_depth': 50, 'min...</td>\n",
       "      <td>0.802958</td>\n",
       "      <td>1.000000</td>\n",
       "      <td>0.777778</td>\n",
       "      <td>...</td>\n",
       "      <td>0.547414</td>\n",
       "      <td>0.728448</td>\n",
       "      <td>1.000000</td>\n",
       "      <td>0.074689</td>\n",
       "      <td>0.112000</td>\n",
       "      <td>0.259928</td>\n",
       "      <td>0.229814</td>\n",
       "      <td>0.616505</td>\n",
       "      <td>0.673307</td>\n",
       "      <td>0.679356</td>\n",
       "    </tr>\n",
       "    <tr>\n",
       "      <th>70</th>\n",
       "      <td>(2006-01-01 00:00:00, 2013-12-31 00:00:00)</td>\n",
       "      <td>(2014-01-01 00:00:00, 2014-12-31 00:00:00)</td>\n",
       "      <td>RF</td>\n",
       "      <td>(DecisionTreeClassifier(class_weight=None, cri...</td>\n",
       "      <td>top20_rate</td>\n",
       "      <td>feature_set</td>\n",
       "      <td>{'max_depth': 5, 'max_features': 'sqrt', 'min_...</td>\n",
       "      <td>0.907227</td>\n",
       "      <td>0.875000</td>\n",
       "      <td>0.705882</td>\n",
       "      <td>...</td>\n",
       "      <td>0.573333</td>\n",
       "      <td>0.791111</td>\n",
       "      <td>0.964444</td>\n",
       "      <td>0.060086</td>\n",
       "      <td>0.099174</td>\n",
       "      <td>0.252788</td>\n",
       "      <td>0.433121</td>\n",
       "      <td>0.640199</td>\n",
       "      <td>0.723577</td>\n",
       "      <td>0.647761</td>\n",
       "    </tr>\n",
       "    <tr>\n",
       "      <th>71</th>\n",
       "      <td>(2006-01-01 00:00:00, 2013-12-31 00:00:00)</td>\n",
       "      <td>(2014-01-01 00:00:00, 2014-12-31 00:00:00)</td>\n",
       "      <td>RF</td>\n",
       "      <td>(DecisionTreeClassifier(class_weight=None, cri...</td>\n",
       "      <td>top20_rate</td>\n",
       "      <td>feature_set</td>\n",
       "      <td>{'max_depth': 50, 'max_features': 'sqrt', 'min...</td>\n",
       "      <td>0.901455</td>\n",
       "      <td>0.750000</td>\n",
       "      <td>0.823529</td>\n",
       "      <td>...</td>\n",
       "      <td>0.586667</td>\n",
       "      <td>0.791111</td>\n",
       "      <td>0.955556</td>\n",
       "      <td>0.051502</td>\n",
       "      <td>0.115702</td>\n",
       "      <td>0.237918</td>\n",
       "      <td>0.433121</td>\n",
       "      <td>0.655087</td>\n",
       "      <td>0.723577</td>\n",
       "      <td>0.641791</td>\n",
       "    </tr>\n",
       "    <tr>\n",
       "      <th>72</th>\n",
       "      <td>(2006-01-01 00:00:00, 2013-12-31 00:00:00)</td>\n",
       "      <td>(2014-01-01 00:00:00, 2014-12-31 00:00:00)</td>\n",
       "      <td>DT</td>\n",
       "      <td>DecisionTreeClassifier(class_weight=None, crit...</td>\n",
       "      <td>top20_rate</td>\n",
       "      <td>feature_set</td>\n",
       "      <td>{'criterion': 'gini', 'max_depth': 5, 'min_sam...</td>\n",
       "      <td>0.889146</td>\n",
       "      <td>0.875000</td>\n",
       "      <td>0.823529</td>\n",
       "      <td>...</td>\n",
       "      <td>0.546667</td>\n",
       "      <td>0.791111</td>\n",
       "      <td>1.000000</td>\n",
       "      <td>0.060086</td>\n",
       "      <td>0.115702</td>\n",
       "      <td>0.208178</td>\n",
       "      <td>0.388535</td>\n",
       "      <td>0.610422</td>\n",
       "      <td>0.723577</td>\n",
       "      <td>0.671642</td>\n",
       "    </tr>\n",
       "    <tr>\n",
       "      <th>73</th>\n",
       "      <td>(2006-01-01 00:00:00, 2013-12-31 00:00:00)</td>\n",
       "      <td>(2014-01-01 00:00:00, 2014-12-31 00:00:00)</td>\n",
       "      <td>DT</td>\n",
       "      <td>DecisionTreeClassifier(class_weight=None, crit...</td>\n",
       "      <td>top20_rate</td>\n",
       "      <td>feature_set</td>\n",
       "      <td>{'criterion': 'gini', 'max_depth': 5, 'min_sam...</td>\n",
       "      <td>0.889146</td>\n",
       "      <td>0.875000</td>\n",
       "      <td>0.823529</td>\n",
       "      <td>...</td>\n",
       "      <td>0.546667</td>\n",
       "      <td>0.791111</td>\n",
       "      <td>1.000000</td>\n",
       "      <td>0.060086</td>\n",
       "      <td>0.115702</td>\n",
       "      <td>0.208178</td>\n",
       "      <td>0.388535</td>\n",
       "      <td>0.610422</td>\n",
       "      <td>0.723577</td>\n",
       "      <td>0.671642</td>\n",
       "    </tr>\n",
       "    <tr>\n",
       "      <th>74</th>\n",
       "      <td>(2006-01-01 00:00:00, 2013-12-31 00:00:00)</td>\n",
       "      <td>(2014-01-01 00:00:00, 2014-12-31 00:00:00)</td>\n",
       "      <td>DT</td>\n",
       "      <td>DecisionTreeClassifier(class_weight=None, crit...</td>\n",
       "      <td>top20_rate</td>\n",
       "      <td>feature_set</td>\n",
       "      <td>{'criterion': 'gini', 'max_depth': 50, 'min_sa...</td>\n",
       "      <td>0.795526</td>\n",
       "      <td>0.875000</td>\n",
       "      <td>0.647059</td>\n",
       "      <td>...</td>\n",
       "      <td>0.448889</td>\n",
       "      <td>0.706667</td>\n",
       "      <td>1.000000</td>\n",
       "      <td>0.060086</td>\n",
       "      <td>0.090909</td>\n",
       "      <td>0.200743</td>\n",
       "      <td>0.261146</td>\n",
       "      <td>0.501241</td>\n",
       "      <td>0.646341</td>\n",
       "      <td>0.671642</td>\n",
       "    </tr>\n",
       "    <tr>\n",
       "      <th>75</th>\n",
       "      <td>(2006-01-01 00:00:00, 2013-12-31 00:00:00)</td>\n",
       "      <td>(2014-01-01 00:00:00, 2014-12-31 00:00:00)</td>\n",
       "      <td>DT</td>\n",
       "      <td>DecisionTreeClassifier(class_weight=None, crit...</td>\n",
       "      <td>top20_rate</td>\n",
       "      <td>feature_set</td>\n",
       "      <td>{'criterion': 'gini', 'max_depth': 50, 'min_sa...</td>\n",
       "      <td>0.822299</td>\n",
       "      <td>1.000000</td>\n",
       "      <td>0.823529</td>\n",
       "      <td>...</td>\n",
       "      <td>0.555556</td>\n",
       "      <td>0.768889</td>\n",
       "      <td>1.000000</td>\n",
       "      <td>0.068670</td>\n",
       "      <td>0.115702</td>\n",
       "      <td>0.267658</td>\n",
       "      <td>0.235669</td>\n",
       "      <td>0.620347</td>\n",
       "      <td>0.703252</td>\n",
       "      <td>0.671642</td>\n",
       "    </tr>\n",
       "    <tr>\n",
       "      <th>76</th>\n",
       "      <td>(2006-01-01 00:00:00, 2013-12-31 00:00:00)</td>\n",
       "      <td>(2014-01-01 00:00:00, 2014-12-31 00:00:00)</td>\n",
       "      <td>DT</td>\n",
       "      <td>DecisionTreeClassifier(class_weight=None, crit...</td>\n",
       "      <td>top20_rate</td>\n",
       "      <td>feature_set</td>\n",
       "      <td>{'criterion': 'entropy', 'max_depth': 5, 'min_...</td>\n",
       "      <td>0.899029</td>\n",
       "      <td>0.625000</td>\n",
       "      <td>0.588235</td>\n",
       "      <td>...</td>\n",
       "      <td>0.542222</td>\n",
       "      <td>0.746667</td>\n",
       "      <td>1.000000</td>\n",
       "      <td>0.042918</td>\n",
       "      <td>0.082645</td>\n",
       "      <td>0.223048</td>\n",
       "      <td>0.369427</td>\n",
       "      <td>0.605459</td>\n",
       "      <td>0.682927</td>\n",
       "      <td>0.671642</td>\n",
       "    </tr>\n",
       "    <tr>\n",
       "      <th>77</th>\n",
       "      <td>(2006-01-01 00:00:00, 2013-12-31 00:00:00)</td>\n",
       "      <td>(2014-01-01 00:00:00, 2014-12-31 00:00:00)</td>\n",
       "      <td>DT</td>\n",
       "      <td>DecisionTreeClassifier(class_weight=None, crit...</td>\n",
       "      <td>top20_rate</td>\n",
       "      <td>feature_set</td>\n",
       "      <td>{'criterion': 'entropy', 'max_depth': 5, 'min_...</td>\n",
       "      <td>0.899029</td>\n",
       "      <td>0.625000</td>\n",
       "      <td>0.588235</td>\n",
       "      <td>...</td>\n",
       "      <td>0.542222</td>\n",
       "      <td>0.746667</td>\n",
       "      <td>1.000000</td>\n",
       "      <td>0.042918</td>\n",
       "      <td>0.082645</td>\n",
       "      <td>0.223048</td>\n",
       "      <td>0.369427</td>\n",
       "      <td>0.605459</td>\n",
       "      <td>0.682927</td>\n",
       "      <td>0.671642</td>\n",
       "    </tr>\n",
       "    <tr>\n",
       "      <th>78</th>\n",
       "      <td>(2006-01-01 00:00:00, 2013-12-31 00:00:00)</td>\n",
       "      <td>(2014-01-01 00:00:00, 2014-12-31 00:00:00)</td>\n",
       "      <td>DT</td>\n",
       "      <td>DecisionTreeClassifier(class_weight=None, crit...</td>\n",
       "      <td>top20_rate</td>\n",
       "      <td>feature_set</td>\n",
       "      <td>{'criterion': 'entropy', 'max_depth': 50, 'min...</td>\n",
       "      <td>0.768919</td>\n",
       "      <td>0.875000</td>\n",
       "      <td>0.588235</td>\n",
       "      <td>...</td>\n",
       "      <td>0.475556</td>\n",
       "      <td>0.644444</td>\n",
       "      <td>1.000000</td>\n",
       "      <td>0.060086</td>\n",
       "      <td>0.082645</td>\n",
       "      <td>0.208178</td>\n",
       "      <td>0.235669</td>\n",
       "      <td>0.531017</td>\n",
       "      <td>0.589431</td>\n",
       "      <td>0.671642</td>\n",
       "    </tr>\n",
       "    <tr>\n",
       "      <th>79</th>\n",
       "      <td>(2006-01-01 00:00:00, 2013-12-31 00:00:00)</td>\n",
       "      <td>(2014-01-01 00:00:00, 2014-12-31 00:00:00)</td>\n",
       "      <td>DT</td>\n",
       "      <td>DecisionTreeClassifier(class_weight=None, crit...</td>\n",
       "      <td>top20_rate</td>\n",
       "      <td>feature_set</td>\n",
       "      <td>{'criterion': 'entropy', 'max_depth': 50, 'min...</td>\n",
       "      <td>0.797845</td>\n",
       "      <td>1.000000</td>\n",
       "      <td>0.588235</td>\n",
       "      <td>...</td>\n",
       "      <td>0.520000</td>\n",
       "      <td>0.715556</td>\n",
       "      <td>1.000000</td>\n",
       "      <td>0.068670</td>\n",
       "      <td>0.082645</td>\n",
       "      <td>0.230483</td>\n",
       "      <td>0.216561</td>\n",
       "      <td>0.580645</td>\n",
       "      <td>0.654472</td>\n",
       "      <td>0.671642</td>\n",
       "    </tr>\n",
       "    <tr>\n",
       "      <th>80</th>\n",
       "      <td>(2006-01-01 00:00:00, 2014-12-31 00:00:00)</td>\n",
       "      <td>(2015-01-01 00:00:00, 2015-12-31 00:00:00)</td>\n",
       "      <td>RF</td>\n",
       "      <td>(DecisionTreeClassifier(class_weight=None, cri...</td>\n",
       "      <td>top20_rate</td>\n",
       "      <td>feature_set</td>\n",
       "      <td>{'max_depth': 5, 'max_features': 'sqrt', 'min_...</td>\n",
       "      <td>0.934440</td>\n",
       "      <td>0.875000</td>\n",
       "      <td>0.875000</td>\n",
       "      <td>...</td>\n",
       "      <td>0.603604</td>\n",
       "      <td>0.828829</td>\n",
       "      <td>0.981982</td>\n",
       "      <td>0.060870</td>\n",
       "      <td>0.117647</td>\n",
       "      <td>0.296578</td>\n",
       "      <td>0.465574</td>\n",
       "      <td>0.690722</td>\n",
       "      <td>0.781316</td>\n",
       "      <td>0.684458</td>\n",
       "    </tr>\n",
       "    <tr>\n",
       "      <th>81</th>\n",
       "      <td>(2006-01-01 00:00:00, 2014-12-31 00:00:00)</td>\n",
       "      <td>(2015-01-01 00:00:00, 2015-12-31 00:00:00)</td>\n",
       "      <td>RF</td>\n",
       "      <td>(DecisionTreeClassifier(class_weight=None, cri...</td>\n",
       "      <td>top20_rate</td>\n",
       "      <td>feature_set</td>\n",
       "      <td>{'max_depth': 50, 'max_features': 'sqrt', 'min...</td>\n",
       "      <td>0.928443</td>\n",
       "      <td>1.000000</td>\n",
       "      <td>0.937500</td>\n",
       "      <td>...</td>\n",
       "      <td>0.581081</td>\n",
       "      <td>0.810811</td>\n",
       "      <td>0.977477</td>\n",
       "      <td>0.069565</td>\n",
       "      <td>0.126050</td>\n",
       "      <td>0.288973</td>\n",
       "      <td>0.465574</td>\n",
       "      <td>0.664948</td>\n",
       "      <td>0.764331</td>\n",
       "      <td>0.681319</td>\n",
       "    </tr>\n",
       "    <tr>\n",
       "      <th>82</th>\n",
       "      <td>(2006-01-01 00:00:00, 2014-12-31 00:00:00)</td>\n",
       "      <td>(2015-01-01 00:00:00, 2015-12-31 00:00:00)</td>\n",
       "      <td>DT</td>\n",
       "      <td>DecisionTreeClassifier(class_weight=None, crit...</td>\n",
       "      <td>top20_rate</td>\n",
       "      <td>feature_set</td>\n",
       "      <td>{'criterion': 'gini', 'max_depth': 5, 'min_sam...</td>\n",
       "      <td>0.934207</td>\n",
       "      <td>0.250000</td>\n",
       "      <td>0.562500</td>\n",
       "      <td>...</td>\n",
       "      <td>0.581081</td>\n",
       "      <td>0.810811</td>\n",
       "      <td>1.000000</td>\n",
       "      <td>0.017391</td>\n",
       "      <td>0.075630</td>\n",
       "      <td>0.250951</td>\n",
       "      <td>0.452459</td>\n",
       "      <td>0.664948</td>\n",
       "      <td>0.764331</td>\n",
       "      <td>0.697017</td>\n",
       "    </tr>\n",
       "    <tr>\n",
       "      <th>83</th>\n",
       "      <td>(2006-01-01 00:00:00, 2014-12-31 00:00:00)</td>\n",
       "      <td>(2015-01-01 00:00:00, 2015-12-31 00:00:00)</td>\n",
       "      <td>DT</td>\n",
       "      <td>DecisionTreeClassifier(class_weight=None, crit...</td>\n",
       "      <td>top20_rate</td>\n",
       "      <td>feature_set</td>\n",
       "      <td>{'criterion': 'gini', 'max_depth': 5, 'min_sam...</td>\n",
       "      <td>0.934207</td>\n",
       "      <td>0.250000</td>\n",
       "      <td>0.562500</td>\n",
       "      <td>...</td>\n",
       "      <td>0.581081</td>\n",
       "      <td>0.810811</td>\n",
       "      <td>1.000000</td>\n",
       "      <td>0.017391</td>\n",
       "      <td>0.075630</td>\n",
       "      <td>0.250951</td>\n",
       "      <td>0.452459</td>\n",
       "      <td>0.664948</td>\n",
       "      <td>0.764331</td>\n",
       "      <td>0.697017</td>\n",
       "    </tr>\n",
       "    <tr>\n",
       "      <th>84</th>\n",
       "      <td>(2006-01-01 00:00:00, 2014-12-31 00:00:00)</td>\n",
       "      <td>(2015-01-01 00:00:00, 2015-12-31 00:00:00)</td>\n",
       "      <td>DT</td>\n",
       "      <td>DecisionTreeClassifier(class_weight=None, crit...</td>\n",
       "      <td>top20_rate</td>\n",
       "      <td>feature_set</td>\n",
       "      <td>{'criterion': 'gini', 'max_depth': 50, 'min_sa...</td>\n",
       "      <td>0.794215</td>\n",
       "      <td>1.000000</td>\n",
       "      <td>0.937500</td>\n",
       "      <td>...</td>\n",
       "      <td>0.459459</td>\n",
       "      <td>0.693694</td>\n",
       "      <td>1.000000</td>\n",
       "      <td>0.069565</td>\n",
       "      <td>0.126050</td>\n",
       "      <td>0.243346</td>\n",
       "      <td>0.295082</td>\n",
       "      <td>0.525773</td>\n",
       "      <td>0.653928</td>\n",
       "      <td>0.697017</td>\n",
       "    </tr>\n",
       "    <tr>\n",
       "      <th>85</th>\n",
       "      <td>(2006-01-01 00:00:00, 2014-12-31 00:00:00)</td>\n",
       "      <td>(2015-01-01 00:00:00, 2015-12-31 00:00:00)</td>\n",
       "      <td>DT</td>\n",
       "      <td>DecisionTreeClassifier(class_weight=None, crit...</td>\n",
       "      <td>top20_rate</td>\n",
       "      <td>feature_set</td>\n",
       "      <td>{'criterion': 'gini', 'max_depth': 50, 'min_sa...</td>\n",
       "      <td>0.834767</td>\n",
       "      <td>1.000000</td>\n",
       "      <td>1.000000</td>\n",
       "      <td>...</td>\n",
       "      <td>0.540541</td>\n",
       "      <td>0.779279</td>\n",
       "      <td>1.000000</td>\n",
       "      <td>0.069565</td>\n",
       "      <td>0.134454</td>\n",
       "      <td>0.296578</td>\n",
       "      <td>0.268852</td>\n",
       "      <td>0.618557</td>\n",
       "      <td>0.734607</td>\n",
       "      <td>0.697017</td>\n",
       "    </tr>\n",
       "    <tr>\n",
       "      <th>86</th>\n",
       "      <td>(2006-01-01 00:00:00, 2014-12-31 00:00:00)</td>\n",
       "      <td>(2015-01-01 00:00:00, 2015-12-31 00:00:00)</td>\n",
       "      <td>DT</td>\n",
       "      <td>DecisionTreeClassifier(class_weight=None, crit...</td>\n",
       "      <td>top20_rate</td>\n",
       "      <td>feature_set</td>\n",
       "      <td>{'criterion': 'entropy', 'max_depth': 5, 'min_...</td>\n",
       "      <td>0.933247</td>\n",
       "      <td>0.750000</td>\n",
       "      <td>0.875000</td>\n",
       "      <td>...</td>\n",
       "      <td>0.558559</td>\n",
       "      <td>0.774775</td>\n",
       "      <td>1.000000</td>\n",
       "      <td>0.052174</td>\n",
       "      <td>0.117647</td>\n",
       "      <td>0.250951</td>\n",
       "      <td>0.465574</td>\n",
       "      <td>0.639175</td>\n",
       "      <td>0.730361</td>\n",
       "      <td>0.697017</td>\n",
       "    </tr>\n",
       "    <tr>\n",
       "      <th>87</th>\n",
       "      <td>(2006-01-01 00:00:00, 2014-12-31 00:00:00)</td>\n",
       "      <td>(2015-01-01 00:00:00, 2015-12-31 00:00:00)</td>\n",
       "      <td>DT</td>\n",
       "      <td>DecisionTreeClassifier(class_weight=None, crit...</td>\n",
       "      <td>top20_rate</td>\n",
       "      <td>feature_set</td>\n",
       "      <td>{'criterion': 'entropy', 'max_depth': 5, 'min_...</td>\n",
       "      <td>0.933247</td>\n",
       "      <td>0.750000</td>\n",
       "      <td>0.875000</td>\n",
       "      <td>...</td>\n",
       "      <td>0.558559</td>\n",
       "      <td>0.774775</td>\n",
       "      <td>1.000000</td>\n",
       "      <td>0.052174</td>\n",
       "      <td>0.117647</td>\n",
       "      <td>0.250951</td>\n",
       "      <td>0.465574</td>\n",
       "      <td>0.639175</td>\n",
       "      <td>0.730361</td>\n",
       "      <td>0.697017</td>\n",
       "    </tr>\n",
       "    <tr>\n",
       "      <th>88</th>\n",
       "      <td>(2006-01-01 00:00:00, 2014-12-31 00:00:00)</td>\n",
       "      <td>(2015-01-01 00:00:00, 2015-12-31 00:00:00)</td>\n",
       "      <td>DT</td>\n",
       "      <td>DecisionTreeClassifier(class_weight=None, crit...</td>\n",
       "      <td>top20_rate</td>\n",
       "      <td>feature_set</td>\n",
       "      <td>{'criterion': 'entropy', 'max_depth': 50, 'min...</td>\n",
       "      <td>0.785421</td>\n",
       "      <td>0.875000</td>\n",
       "      <td>0.937500</td>\n",
       "      <td>...</td>\n",
       "      <td>0.472973</td>\n",
       "      <td>0.671171</td>\n",
       "      <td>1.000000</td>\n",
       "      <td>0.060870</td>\n",
       "      <td>0.126050</td>\n",
       "      <td>0.250951</td>\n",
       "      <td>0.288525</td>\n",
       "      <td>0.541237</td>\n",
       "      <td>0.632696</td>\n",
       "      <td>0.697017</td>\n",
       "    </tr>\n",
       "    <tr>\n",
       "      <th>89</th>\n",
       "      <td>(2006-01-01 00:00:00, 2014-12-31 00:00:00)</td>\n",
       "      <td>(2015-01-01 00:00:00, 2015-12-31 00:00:00)</td>\n",
       "      <td>DT</td>\n",
       "      <td>DecisionTreeClassifier(class_weight=None, crit...</td>\n",
       "      <td>top20_rate</td>\n",
       "      <td>feature_set</td>\n",
       "      <td>{'criterion': 'entropy', 'max_depth': 50, 'min...</td>\n",
       "      <td>0.824917</td>\n",
       "      <td>1.000000</td>\n",
       "      <td>1.000000</td>\n",
       "      <td>...</td>\n",
       "      <td>0.563063</td>\n",
       "      <td>0.752252</td>\n",
       "      <td>1.000000</td>\n",
       "      <td>0.069565</td>\n",
       "      <td>0.134454</td>\n",
       "      <td>0.311787</td>\n",
       "      <td>0.288525</td>\n",
       "      <td>0.644330</td>\n",
       "      <td>0.709130</td>\n",
       "      <td>0.697017</td>\n",
       "    </tr>\n",
       "  </tbody>\n",
       "</table>\n",
       "<p>90 rows × 29 columns</p>\n",
       "</div>"
      ],
      "text/plain": [
       "                                training_dates  \\\n",
       "0   (2006-01-01 00:00:00, 2006-12-31 00:00:00)   \n",
       "1   (2006-01-01 00:00:00, 2006-12-31 00:00:00)   \n",
       "2   (2006-01-01 00:00:00, 2006-12-31 00:00:00)   \n",
       "3   (2006-01-01 00:00:00, 2006-12-31 00:00:00)   \n",
       "4   (2006-01-01 00:00:00, 2006-12-31 00:00:00)   \n",
       "5   (2006-01-01 00:00:00, 2006-12-31 00:00:00)   \n",
       "6   (2006-01-01 00:00:00, 2006-12-31 00:00:00)   \n",
       "7   (2006-01-01 00:00:00, 2006-12-31 00:00:00)   \n",
       "8   (2006-01-01 00:00:00, 2006-12-31 00:00:00)   \n",
       "9   (2006-01-01 00:00:00, 2006-12-31 00:00:00)   \n",
       "10  (2006-01-01 00:00:00, 2007-12-31 00:00:00)   \n",
       "11  (2006-01-01 00:00:00, 2007-12-31 00:00:00)   \n",
       "12  (2006-01-01 00:00:00, 2007-12-31 00:00:00)   \n",
       "13  (2006-01-01 00:00:00, 2007-12-31 00:00:00)   \n",
       "14  (2006-01-01 00:00:00, 2007-12-31 00:00:00)   \n",
       "15  (2006-01-01 00:00:00, 2007-12-31 00:00:00)   \n",
       "16  (2006-01-01 00:00:00, 2007-12-31 00:00:00)   \n",
       "17  (2006-01-01 00:00:00, 2007-12-31 00:00:00)   \n",
       "18  (2006-01-01 00:00:00, 2007-12-31 00:00:00)   \n",
       "19  (2006-01-01 00:00:00, 2007-12-31 00:00:00)   \n",
       "20  (2006-01-01 00:00:00, 2008-12-31 00:00:00)   \n",
       "21  (2006-01-01 00:00:00, 2008-12-31 00:00:00)   \n",
       "22  (2006-01-01 00:00:00, 2008-12-31 00:00:00)   \n",
       "23  (2006-01-01 00:00:00, 2008-12-31 00:00:00)   \n",
       "24  (2006-01-01 00:00:00, 2008-12-31 00:00:00)   \n",
       "25  (2006-01-01 00:00:00, 2008-12-31 00:00:00)   \n",
       "26  (2006-01-01 00:00:00, 2008-12-31 00:00:00)   \n",
       "27  (2006-01-01 00:00:00, 2008-12-31 00:00:00)   \n",
       "28  (2006-01-01 00:00:00, 2008-12-31 00:00:00)   \n",
       "29  (2006-01-01 00:00:00, 2008-12-31 00:00:00)   \n",
       "..                                         ...   \n",
       "60  (2006-01-01 00:00:00, 2012-12-31 00:00:00)   \n",
       "61  (2006-01-01 00:00:00, 2012-12-31 00:00:00)   \n",
       "62  (2006-01-01 00:00:00, 2012-12-31 00:00:00)   \n",
       "63  (2006-01-01 00:00:00, 2012-12-31 00:00:00)   \n",
       "64  (2006-01-01 00:00:00, 2012-12-31 00:00:00)   \n",
       "65  (2006-01-01 00:00:00, 2012-12-31 00:00:00)   \n",
       "66  (2006-01-01 00:00:00, 2012-12-31 00:00:00)   \n",
       "67  (2006-01-01 00:00:00, 2012-12-31 00:00:00)   \n",
       "68  (2006-01-01 00:00:00, 2012-12-31 00:00:00)   \n",
       "69  (2006-01-01 00:00:00, 2012-12-31 00:00:00)   \n",
       "70  (2006-01-01 00:00:00, 2013-12-31 00:00:00)   \n",
       "71  (2006-01-01 00:00:00, 2013-12-31 00:00:00)   \n",
       "72  (2006-01-01 00:00:00, 2013-12-31 00:00:00)   \n",
       "73  (2006-01-01 00:00:00, 2013-12-31 00:00:00)   \n",
       "74  (2006-01-01 00:00:00, 2013-12-31 00:00:00)   \n",
       "75  (2006-01-01 00:00:00, 2013-12-31 00:00:00)   \n",
       "76  (2006-01-01 00:00:00, 2013-12-31 00:00:00)   \n",
       "77  (2006-01-01 00:00:00, 2013-12-31 00:00:00)   \n",
       "78  (2006-01-01 00:00:00, 2013-12-31 00:00:00)   \n",
       "79  (2006-01-01 00:00:00, 2013-12-31 00:00:00)   \n",
       "80  (2006-01-01 00:00:00, 2014-12-31 00:00:00)   \n",
       "81  (2006-01-01 00:00:00, 2014-12-31 00:00:00)   \n",
       "82  (2006-01-01 00:00:00, 2014-12-31 00:00:00)   \n",
       "83  (2006-01-01 00:00:00, 2014-12-31 00:00:00)   \n",
       "84  (2006-01-01 00:00:00, 2014-12-31 00:00:00)   \n",
       "85  (2006-01-01 00:00:00, 2014-12-31 00:00:00)   \n",
       "86  (2006-01-01 00:00:00, 2014-12-31 00:00:00)   \n",
       "87  (2006-01-01 00:00:00, 2014-12-31 00:00:00)   \n",
       "88  (2006-01-01 00:00:00, 2014-12-31 00:00:00)   \n",
       "89  (2006-01-01 00:00:00, 2014-12-31 00:00:00)   \n",
       "\n",
       "                                 testing_dates model_key  \\\n",
       "0   (2007-01-01 00:00:00, 2007-12-31 00:00:00)        RF   \n",
       "1   (2007-01-01 00:00:00, 2007-12-31 00:00:00)        RF   \n",
       "2   (2007-01-01 00:00:00, 2007-12-31 00:00:00)        DT   \n",
       "3   (2007-01-01 00:00:00, 2007-12-31 00:00:00)        DT   \n",
       "4   (2007-01-01 00:00:00, 2007-12-31 00:00:00)        DT   \n",
       "5   (2007-01-01 00:00:00, 2007-12-31 00:00:00)        DT   \n",
       "6   (2007-01-01 00:00:00, 2007-12-31 00:00:00)        DT   \n",
       "7   (2007-01-01 00:00:00, 2007-12-31 00:00:00)        DT   \n",
       "8   (2007-01-01 00:00:00, 2007-12-31 00:00:00)        DT   \n",
       "9   (2007-01-01 00:00:00, 2007-12-31 00:00:00)        DT   \n",
       "10  (2008-01-01 00:00:00, 2008-12-31 00:00:00)        RF   \n",
       "11  (2008-01-01 00:00:00, 2008-12-31 00:00:00)        RF   \n",
       "12  (2008-01-01 00:00:00, 2008-12-31 00:00:00)        DT   \n",
       "13  (2008-01-01 00:00:00, 2008-12-31 00:00:00)        DT   \n",
       "14  (2008-01-01 00:00:00, 2008-12-31 00:00:00)        DT   \n",
       "15  (2008-01-01 00:00:00, 2008-12-31 00:00:00)        DT   \n",
       "16  (2008-01-01 00:00:00, 2008-12-31 00:00:00)        DT   \n",
       "17  (2008-01-01 00:00:00, 2008-12-31 00:00:00)        DT   \n",
       "18  (2008-01-01 00:00:00, 2008-12-31 00:00:00)        DT   \n",
       "19  (2008-01-01 00:00:00, 2008-12-31 00:00:00)        DT   \n",
       "20  (2009-01-01 00:00:00, 2009-12-31 00:00:00)        RF   \n",
       "21  (2009-01-01 00:00:00, 2009-12-31 00:00:00)        RF   \n",
       "22  (2009-01-01 00:00:00, 2009-12-31 00:00:00)        DT   \n",
       "23  (2009-01-01 00:00:00, 2009-12-31 00:00:00)        DT   \n",
       "24  (2009-01-01 00:00:00, 2009-12-31 00:00:00)        DT   \n",
       "25  (2009-01-01 00:00:00, 2009-12-31 00:00:00)        DT   \n",
       "26  (2009-01-01 00:00:00, 2009-12-31 00:00:00)        DT   \n",
       "27  (2009-01-01 00:00:00, 2009-12-31 00:00:00)        DT   \n",
       "28  (2009-01-01 00:00:00, 2009-12-31 00:00:00)        DT   \n",
       "29  (2009-01-01 00:00:00, 2009-12-31 00:00:00)        DT   \n",
       "..                                         ...       ...   \n",
       "60  (2013-01-01 00:00:00, 2013-12-31 00:00:00)        RF   \n",
       "61  (2013-01-01 00:00:00, 2013-12-31 00:00:00)        RF   \n",
       "62  (2013-01-01 00:00:00, 2013-12-31 00:00:00)        DT   \n",
       "63  (2013-01-01 00:00:00, 2013-12-31 00:00:00)        DT   \n",
       "64  (2013-01-01 00:00:00, 2013-12-31 00:00:00)        DT   \n",
       "65  (2013-01-01 00:00:00, 2013-12-31 00:00:00)        DT   \n",
       "66  (2013-01-01 00:00:00, 2013-12-31 00:00:00)        DT   \n",
       "67  (2013-01-01 00:00:00, 2013-12-31 00:00:00)        DT   \n",
       "68  (2013-01-01 00:00:00, 2013-12-31 00:00:00)        DT   \n",
       "69  (2013-01-01 00:00:00, 2013-12-31 00:00:00)        DT   \n",
       "70  (2014-01-01 00:00:00, 2014-12-31 00:00:00)        RF   \n",
       "71  (2014-01-01 00:00:00, 2014-12-31 00:00:00)        RF   \n",
       "72  (2014-01-01 00:00:00, 2014-12-31 00:00:00)        DT   \n",
       "73  (2014-01-01 00:00:00, 2014-12-31 00:00:00)        DT   \n",
       "74  (2014-01-01 00:00:00, 2014-12-31 00:00:00)        DT   \n",
       "75  (2014-01-01 00:00:00, 2014-12-31 00:00:00)        DT   \n",
       "76  (2014-01-01 00:00:00, 2014-12-31 00:00:00)        DT   \n",
       "77  (2014-01-01 00:00:00, 2014-12-31 00:00:00)        DT   \n",
       "78  (2014-01-01 00:00:00, 2014-12-31 00:00:00)        DT   \n",
       "79  (2014-01-01 00:00:00, 2014-12-31 00:00:00)        DT   \n",
       "80  (2015-01-01 00:00:00, 2015-12-31 00:00:00)        RF   \n",
       "81  (2015-01-01 00:00:00, 2015-12-31 00:00:00)        RF   \n",
       "82  (2015-01-01 00:00:00, 2015-12-31 00:00:00)        DT   \n",
       "83  (2015-01-01 00:00:00, 2015-12-31 00:00:00)        DT   \n",
       "84  (2015-01-01 00:00:00, 2015-12-31 00:00:00)        DT   \n",
       "85  (2015-01-01 00:00:00, 2015-12-31 00:00:00)        DT   \n",
       "86  (2015-01-01 00:00:00, 2015-12-31 00:00:00)        DT   \n",
       "87  (2015-01-01 00:00:00, 2015-12-31 00:00:00)        DT   \n",
       "88  (2015-01-01 00:00:00, 2015-12-31 00:00:00)        DT   \n",
       "89  (2015-01-01 00:00:00, 2015-12-31 00:00:00)        DT   \n",
       "\n",
       "                                           classifier  parameters  \\\n",
       "0   (DecisionTreeClassifier(class_weight=None, cri...  top20_rate   \n",
       "1   (DecisionTreeClassifier(class_weight=None, cri...  top20_rate   \n",
       "2   DecisionTreeClassifier(class_weight=None, crit...  top20_rate   \n",
       "3   DecisionTreeClassifier(class_weight=None, crit...  top20_rate   \n",
       "4   DecisionTreeClassifier(class_weight=None, crit...  top20_rate   \n",
       "5   DecisionTreeClassifier(class_weight=None, crit...  top20_rate   \n",
       "6   DecisionTreeClassifier(class_weight=None, crit...  top20_rate   \n",
       "7   DecisionTreeClassifier(class_weight=None, crit...  top20_rate   \n",
       "8   DecisionTreeClassifier(class_weight=None, crit...  top20_rate   \n",
       "9   DecisionTreeClassifier(class_weight=None, crit...  top20_rate   \n",
       "10  (DecisionTreeClassifier(class_weight=None, cri...  top20_rate   \n",
       "11  (DecisionTreeClassifier(class_weight=None, cri...  top20_rate   \n",
       "12  DecisionTreeClassifier(class_weight=None, crit...  top20_rate   \n",
       "13  DecisionTreeClassifier(class_weight=None, crit...  top20_rate   \n",
       "14  DecisionTreeClassifier(class_weight=None, crit...  top20_rate   \n",
       "15  DecisionTreeClassifier(class_weight=None, crit...  top20_rate   \n",
       "16  DecisionTreeClassifier(class_weight=None, crit...  top20_rate   \n",
       "17  DecisionTreeClassifier(class_weight=None, crit...  top20_rate   \n",
       "18  DecisionTreeClassifier(class_weight=None, crit...  top20_rate   \n",
       "19  DecisionTreeClassifier(class_weight=None, crit...  top20_rate   \n",
       "20  (DecisionTreeClassifier(class_weight=None, cri...  top20_rate   \n",
       "21  (DecisionTreeClassifier(class_weight=None, cri...  top20_rate   \n",
       "22  DecisionTreeClassifier(class_weight=None, crit...  top20_rate   \n",
       "23  DecisionTreeClassifier(class_weight=None, crit...  top20_rate   \n",
       "24  DecisionTreeClassifier(class_weight=None, crit...  top20_rate   \n",
       "25  DecisionTreeClassifier(class_weight=None, crit...  top20_rate   \n",
       "26  DecisionTreeClassifier(class_weight=None, crit...  top20_rate   \n",
       "27  DecisionTreeClassifier(class_weight=None, crit...  top20_rate   \n",
       "28  DecisionTreeClassifier(class_weight=None, crit...  top20_rate   \n",
       "29  DecisionTreeClassifier(class_weight=None, crit...  top20_rate   \n",
       "..                                                ...         ...   \n",
       "60  (DecisionTreeClassifier(class_weight=None, cri...  top20_rate   \n",
       "61  (DecisionTreeClassifier(class_weight=None, cri...  top20_rate   \n",
       "62  DecisionTreeClassifier(class_weight=None, crit...  top20_rate   \n",
       "63  DecisionTreeClassifier(class_weight=None, crit...  top20_rate   \n",
       "64  DecisionTreeClassifier(class_weight=None, crit...  top20_rate   \n",
       "65  DecisionTreeClassifier(class_weight=None, crit...  top20_rate   \n",
       "66  DecisionTreeClassifier(class_weight=None, crit...  top20_rate   \n",
       "67  DecisionTreeClassifier(class_weight=None, crit...  top20_rate   \n",
       "68  DecisionTreeClassifier(class_weight=None, crit...  top20_rate   \n",
       "69  DecisionTreeClassifier(class_weight=None, crit...  top20_rate   \n",
       "70  (DecisionTreeClassifier(class_weight=None, cri...  top20_rate   \n",
       "71  (DecisionTreeClassifier(class_weight=None, cri...  top20_rate   \n",
       "72  DecisionTreeClassifier(class_weight=None, crit...  top20_rate   \n",
       "73  DecisionTreeClassifier(class_weight=None, crit...  top20_rate   \n",
       "74  DecisionTreeClassifier(class_weight=None, crit...  top20_rate   \n",
       "75  DecisionTreeClassifier(class_weight=None, crit...  top20_rate   \n",
       "76  DecisionTreeClassifier(class_weight=None, crit...  top20_rate   \n",
       "77  DecisionTreeClassifier(class_weight=None, crit...  top20_rate   \n",
       "78  DecisionTreeClassifier(class_weight=None, crit...  top20_rate   \n",
       "79  DecisionTreeClassifier(class_weight=None, crit...  top20_rate   \n",
       "80  (DecisionTreeClassifier(class_weight=None, cri...  top20_rate   \n",
       "81  (DecisionTreeClassifier(class_weight=None, cri...  top20_rate   \n",
       "82  DecisionTreeClassifier(class_weight=None, crit...  top20_rate   \n",
       "83  DecisionTreeClassifier(class_weight=None, crit...  top20_rate   \n",
       "84  DecisionTreeClassifier(class_weight=None, crit...  top20_rate   \n",
       "85  DecisionTreeClassifier(class_weight=None, crit...  top20_rate   \n",
       "86  DecisionTreeClassifier(class_weight=None, crit...  top20_rate   \n",
       "87  DecisionTreeClassifier(class_weight=None, crit...  top20_rate   \n",
       "88  DecisionTreeClassifier(class_weight=None, crit...  top20_rate   \n",
       "89  DecisionTreeClassifier(class_weight=None, crit...  top20_rate   \n",
       "\n",
       "    feature_set                                            outcome   auc-roc  \\\n",
       "0   feature_set  {'max_depth': 5, 'max_features': 'sqrt', 'min_...  0.909589   \n",
       "1   feature_set  {'max_depth': 50, 'max_features': 'sqrt', 'min...  0.927714   \n",
       "2   feature_set  {'criterion': 'gini', 'max_depth': 5, 'min_sam...  0.926472   \n",
       "3   feature_set  {'criterion': 'gini', 'max_depth': 5, 'min_sam...  0.923122   \n",
       "4   feature_set  {'criterion': 'gini', 'max_depth': 50, 'min_sa...  0.785120   \n",
       "5   feature_set  {'criterion': 'gini', 'max_depth': 50, 'min_sa...  0.833187   \n",
       "6   feature_set  {'criterion': 'entropy', 'max_depth': 5, 'min_...  0.889863   \n",
       "7   feature_set  {'criterion': 'entropy', 'max_depth': 5, 'min_...  0.886791   \n",
       "8   feature_set  {'criterion': 'entropy', 'max_depth': 50, 'min...  0.784349   \n",
       "9   feature_set  {'criterion': 'entropy', 'max_depth': 50, 'min...  0.808712   \n",
       "10  feature_set  {'max_depth': 5, 'max_features': 'sqrt', 'min_...  0.942112   \n",
       "11  feature_set  {'max_depth': 50, 'max_features': 'sqrt', 'min...  0.947066   \n",
       "12  feature_set  {'criterion': 'gini', 'max_depth': 5, 'min_sam...  0.941863   \n",
       "13  feature_set  {'criterion': 'gini', 'max_depth': 5, 'min_sam...  0.940702   \n",
       "14  feature_set  {'criterion': 'gini', 'max_depth': 50, 'min_sa...  0.803284   \n",
       "15  feature_set  {'criterion': 'gini', 'max_depth': 50, 'min_sa...  0.840423   \n",
       "16  feature_set  {'criterion': 'entropy', 'max_depth': 5, 'min_...  0.928374   \n",
       "17  feature_set  {'criterion': 'entropy', 'max_depth': 5, 'min_...  0.927722   \n",
       "18  feature_set  {'criterion': 'entropy', 'max_depth': 50, 'min...  0.807936   \n",
       "19  feature_set  {'criterion': 'entropy', 'max_depth': 50, 'min...  0.847953   \n",
       "20  feature_set  {'max_depth': 5, 'max_features': 'sqrt', 'min_...  0.925679   \n",
       "21  feature_set  {'max_depth': 50, 'max_features': 'sqrt', 'min...  0.933373   \n",
       "22  feature_set  {'criterion': 'gini', 'max_depth': 5, 'min_sam...  0.926706   \n",
       "23  feature_set  {'criterion': 'gini', 'max_depth': 5, 'min_sam...  0.931923   \n",
       "24  feature_set  {'criterion': 'gini', 'max_depth': 50, 'min_sa...  0.815629   \n",
       "25  feature_set  {'criterion': 'gini', 'max_depth': 50, 'min_sa...  0.851489   \n",
       "26  feature_set  {'criterion': 'entropy', 'max_depth': 5, 'min_...  0.917086   \n",
       "27  feature_set  {'criterion': 'entropy', 'max_depth': 5, 'min_...  0.917851   \n",
       "28  feature_set  {'criterion': 'entropy', 'max_depth': 50, 'min...  0.814434   \n",
       "29  feature_set  {'criterion': 'entropy', 'max_depth': 50, 'min...  0.850549   \n",
       "..          ...                                                ...       ...   \n",
       "60  feature_set  {'max_depth': 5, 'max_features': 'sqrt', 'min_...  0.926628   \n",
       "61  feature_set  {'max_depth': 50, 'max_features': 'sqrt', 'min...  0.920455   \n",
       "62  feature_set  {'criterion': 'gini', 'max_depth': 5, 'min_sam...  0.926631   \n",
       "63  feature_set  {'criterion': 'gini', 'max_depth': 5, 'min_sam...  0.926271   \n",
       "64  feature_set  {'criterion': 'gini', 'max_depth': 50, 'min_sa...  0.736712   \n",
       "65  feature_set  {'criterion': 'gini', 'max_depth': 50, 'min_sa...  0.794301   \n",
       "66  feature_set  {'criterion': 'entropy', 'max_depth': 5, 'min_...  0.922006   \n",
       "67  feature_set  {'criterion': 'entropy', 'max_depth': 5, 'min_...  0.923153   \n",
       "68  feature_set  {'criterion': 'entropy', 'max_depth': 50, 'min...  0.766483   \n",
       "69  feature_set  {'criterion': 'entropy', 'max_depth': 50, 'min...  0.802958   \n",
       "70  feature_set  {'max_depth': 5, 'max_features': 'sqrt', 'min_...  0.907227   \n",
       "71  feature_set  {'max_depth': 50, 'max_features': 'sqrt', 'min...  0.901455   \n",
       "72  feature_set  {'criterion': 'gini', 'max_depth': 5, 'min_sam...  0.889146   \n",
       "73  feature_set  {'criterion': 'gini', 'max_depth': 5, 'min_sam...  0.889146   \n",
       "74  feature_set  {'criterion': 'gini', 'max_depth': 50, 'min_sa...  0.795526   \n",
       "75  feature_set  {'criterion': 'gini', 'max_depth': 50, 'min_sa...  0.822299   \n",
       "76  feature_set  {'criterion': 'entropy', 'max_depth': 5, 'min_...  0.899029   \n",
       "77  feature_set  {'criterion': 'entropy', 'max_depth': 5, 'min_...  0.899029   \n",
       "78  feature_set  {'criterion': 'entropy', 'max_depth': 50, 'min...  0.768919   \n",
       "79  feature_set  {'criterion': 'entropy', 'max_depth': 50, 'min...  0.797845   \n",
       "80  feature_set  {'max_depth': 5, 'max_features': 'sqrt', 'min_...  0.934440   \n",
       "81  feature_set  {'max_depth': 50, 'max_features': 'sqrt', 'min...  0.928443   \n",
       "82  feature_set  {'criterion': 'gini', 'max_depth': 5, 'min_sam...  0.934207   \n",
       "83  feature_set  {'criterion': 'gini', 'max_depth': 5, 'min_sam...  0.934207   \n",
       "84  feature_set  {'criterion': 'gini', 'max_depth': 50, 'min_sa...  0.794215   \n",
       "85  feature_set  {'criterion': 'gini', 'max_depth': 50, 'min_sa...  0.834767   \n",
       "86  feature_set  {'criterion': 'entropy', 'max_depth': 5, 'min_...  0.933247   \n",
       "87  feature_set  {'criterion': 'entropy', 'max_depth': 5, 'min_...  0.933247   \n",
       "88  feature_set  {'criterion': 'entropy', 'max_depth': 50, 'min...  0.785421   \n",
       "89  feature_set  {'criterion': 'entropy', 'max_depth': 50, 'min...  0.824917   \n",
       "\n",
       "      p_at_1    p_at_2    ...      r_at_20   r_at_30   r_at_50   f1_at_1  \\\n",
       "0   1.000000  0.933333    ...     0.553299  0.776650  0.969543  0.068627   \n",
       "1   0.857143  0.733333    ...     0.593909  0.812183  0.984772  0.058824   \n",
       "2   1.000000  1.000000    ...     0.588832  0.812183  1.000000  0.068627   \n",
       "3   1.000000  1.000000    ...     0.583756  0.807107  1.000000  0.068627   \n",
       "4   1.000000  1.000000    ...     0.543147  0.649746  1.000000  0.068627   \n",
       "5   1.000000  1.000000    ...     0.578680  0.761421  1.000000  0.068627   \n",
       "6   1.000000  1.000000    ...     0.604061  0.776650  1.000000  0.068627   \n",
       "7   1.000000  1.000000    ...     0.598985  0.776650  1.000000  0.068627   \n",
       "8   1.000000  0.933333    ...     0.553299  0.644670  1.000000  0.068627   \n",
       "9   1.000000  1.000000    ...     0.568528  0.705584  1.000000  0.068627   \n",
       "10  0.875000  0.812500    ...     0.579832  0.819328  0.983193  0.056911   \n",
       "11  1.000000  0.937500    ...     0.579832  0.836134  0.995798  0.065041   \n",
       "12  0.625000  0.812500    ...     0.533613  0.827731  1.000000  0.040650   \n",
       "13  0.625000  0.812500    ...     0.533613  0.823529  1.000000  0.040650   \n",
       "14  1.000000  1.000000    ...     0.495798  0.689076  1.000000  0.065041   \n",
       "15  1.000000  1.000000    ...     0.525210  0.773109  1.000000  0.065041   \n",
       "16  1.000000  1.000000    ...     0.575630  0.735294  1.000000  0.065041   \n",
       "17  1.000000  1.000000    ...     0.575630  0.735294  1.000000  0.065041   \n",
       "18  1.000000  1.000000    ...     0.487395  0.701681  1.000000  0.065041   \n",
       "19  1.000000  1.000000    ...     0.542017  0.789916  1.000000  0.065041   \n",
       "20  0.875000  0.875000    ...     0.561404  0.798246  0.973684  0.059322   \n",
       "21  1.000000  1.000000    ...     0.578947  0.798246  0.973684  0.067797   \n",
       "22  0.750000  0.875000    ...     0.592105  0.780702  1.000000  0.050847   \n",
       "23  1.000000  0.875000    ...     0.587719  0.776316  1.000000  0.067797   \n",
       "24  1.000000  1.000000    ...     0.495614  0.719298  1.000000  0.067797   \n",
       "25  1.000000  1.000000    ...     0.548246  0.793860  1.000000  0.067797   \n",
       "26  1.000000  0.687500    ...     0.561404  0.736842  1.000000  0.067797   \n",
       "27  1.000000  0.687500    ...     0.565789  0.736842  1.000000  0.067797   \n",
       "28  1.000000  0.937500    ...     0.442982  0.736842  1.000000  0.067797   \n",
       "29  1.000000  1.000000    ...     0.521930  0.785088  1.000000  0.067797   \n",
       "..       ...       ...    ...          ...       ...       ...       ...   \n",
       "60  0.888889  0.888889    ...     0.594828  0.810345  0.978448  0.066390   \n",
       "61  1.000000  0.888889    ...     0.577586  0.784483  0.982759  0.074689   \n",
       "62  0.666667  0.833333    ...     0.547414  0.771552  1.000000  0.049793   \n",
       "63  0.666667  0.833333    ...     0.547414  0.775862  1.000000  0.049793   \n",
       "64  0.777778  0.444444    ...     0.487069  0.573276  1.000000  0.058091   \n",
       "65  1.000000  0.611111    ...     0.543103  0.702586  1.000000  0.074689   \n",
       "66  0.666667  0.833333    ...     0.564655  0.801724  1.000000  0.049793   \n",
       "67  0.777778  0.888889    ...     0.568966  0.806034  1.000000  0.058091   \n",
       "68  0.555556  0.277778    ...     0.422414  0.655172  1.000000  0.041494   \n",
       "69  1.000000  0.777778    ...     0.547414  0.728448  1.000000  0.074689   \n",
       "70  0.875000  0.705882    ...     0.573333  0.791111  0.964444  0.060086   \n",
       "71  0.750000  0.823529    ...     0.586667  0.791111  0.955556  0.051502   \n",
       "72  0.875000  0.823529    ...     0.546667  0.791111  1.000000  0.060086   \n",
       "73  0.875000  0.823529    ...     0.546667  0.791111  1.000000  0.060086   \n",
       "74  0.875000  0.647059    ...     0.448889  0.706667  1.000000  0.060086   \n",
       "75  1.000000  0.823529    ...     0.555556  0.768889  1.000000  0.068670   \n",
       "76  0.625000  0.588235    ...     0.542222  0.746667  1.000000  0.042918   \n",
       "77  0.625000  0.588235    ...     0.542222  0.746667  1.000000  0.042918   \n",
       "78  0.875000  0.588235    ...     0.475556  0.644444  1.000000  0.060086   \n",
       "79  1.000000  0.588235    ...     0.520000  0.715556  1.000000  0.068670   \n",
       "80  0.875000  0.875000    ...     0.603604  0.828829  0.981982  0.060870   \n",
       "81  1.000000  0.937500    ...     0.581081  0.810811  0.977477  0.069565   \n",
       "82  0.250000  0.562500    ...     0.581081  0.810811  1.000000  0.017391   \n",
       "83  0.250000  0.562500    ...     0.581081  0.810811  1.000000  0.017391   \n",
       "84  1.000000  0.937500    ...     0.459459  0.693694  1.000000  0.069565   \n",
       "85  1.000000  1.000000    ...     0.540541  0.779279  1.000000  0.069565   \n",
       "86  0.750000  0.875000    ...     0.558559  0.774775  1.000000  0.052174   \n",
       "87  0.750000  0.875000    ...     0.558559  0.774775  1.000000  0.052174   \n",
       "88  0.875000  0.937500    ...     0.472973  0.671171  1.000000  0.060870   \n",
       "89  1.000000  1.000000    ...     0.563063  0.752252  1.000000  0.069565   \n",
       "\n",
       "     f1_at_2   f1_at_5  f1_at_10  f1_at_20  f1_at_30  f1_at_50  \n",
       "0   0.132075  0.280851  0.424908  0.624642  0.720000  0.660900  \n",
       "1   0.103774  0.263830  0.446886  0.670487  0.752941  0.671280  \n",
       "2   0.141509  0.212766  0.439560  0.664756  0.752941  0.681661  \n",
       "3   0.141509  0.221277  0.439560  0.659026  0.748235  0.681661  \n",
       "4   0.141509  0.314894  0.307692  0.613181  0.602353  0.681661  \n",
       "5   0.141509  0.314894  0.293040  0.653295  0.705882  0.681661  \n",
       "6   0.141509  0.195745  0.417582  0.681948  0.720000  0.681661  \n",
       "7   0.141509  0.187234  0.417582  0.676218  0.720000  0.681661  \n",
       "8   0.132075  0.314894  0.307692  0.624642  0.597647  0.681661  \n",
       "9   0.141509  0.314894  0.271062  0.641834  0.654118  0.681661  \n",
       "10  0.102362  0.264286  0.440994  0.679803  0.794297  0.709091  \n",
       "11  0.118110  0.264286  0.428571  0.679803  0.810591  0.718182  \n",
       "12  0.102362  0.257143  0.465839  0.625616  0.802444  0.721212  \n",
       "13  0.102362  0.257143  0.472050  0.625616  0.798371  0.721212  \n",
       "14  0.125984  0.300000  0.354037  0.581281  0.668024  0.721212  \n",
       "15  0.125984  0.300000  0.316770  0.615764  0.749491  0.721212  \n",
       "16  0.125984  0.200000  0.422360  0.674877  0.712831  0.721212  \n",
       "17  0.125984  0.192857  0.422360  0.674877  0.712831  0.721212  \n",
       "18  0.125984  0.300000  0.360248  0.571429  0.680244  0.721212  \n",
       "19  0.125984  0.300000  0.310559  0.635468  0.765784  0.721212  \n",
       "20  0.114754  0.282528  0.463023  0.649746  0.763103  0.690513  \n",
       "21  0.131148  0.289963  0.488746  0.670051  0.763103  0.690513  \n",
       "22  0.114754  0.252788  0.405145  0.685279  0.746331  0.709176  \n",
       "23  0.114754  0.260223  0.405145  0.680203  0.742138  0.709176  \n",
       "24  0.131148  0.304833  0.360129  0.573604  0.687631  0.709176  \n",
       "25  0.131148  0.304833  0.308682  0.634518  0.758910  0.709176  \n",
       "26  0.090164  0.245353  0.392283  0.649746  0.704403  0.709176  \n",
       "27  0.090164  0.252788  0.398714  0.654822  0.704403  0.709176  \n",
       "28  0.122951  0.260223  0.334405  0.512690  0.704403  0.709176  \n",
       "29  0.131148  0.304833  0.334405  0.604061  0.750524  0.709176  \n",
       "..       ...       ...       ...       ...       ...       ...  \n",
       "60  0.128000  0.274368  0.484472  0.669903  0.749004  0.664714  \n",
       "61  0.128000  0.288809  0.459627  0.650485  0.725100  0.667643  \n",
       "62  0.120000  0.245487  0.459627  0.616505  0.713147  0.679356  \n",
       "63  0.120000  0.245487  0.459627  0.616505  0.717131  0.679356  \n",
       "64  0.064000  0.209386  0.204969  0.548544  0.529880  0.679356  \n",
       "65  0.088000  0.223827  0.273292  0.611650  0.649402  0.679356  \n",
       "66  0.120000  0.288809  0.434783  0.635922  0.741036  0.679356  \n",
       "67  0.128000  0.296029  0.434783  0.640777  0.745020  0.679356  \n",
       "68  0.040000  0.158845  0.217391  0.475728  0.605578  0.679356  \n",
       "69  0.112000  0.259928  0.229814  0.616505  0.673307  0.679356  \n",
       "70  0.099174  0.252788  0.433121  0.640199  0.723577  0.647761  \n",
       "71  0.115702  0.237918  0.433121  0.655087  0.723577  0.641791  \n",
       "72  0.115702  0.208178  0.388535  0.610422  0.723577  0.671642  \n",
       "73  0.115702  0.208178  0.388535  0.610422  0.723577  0.671642  \n",
       "74  0.090909  0.200743  0.261146  0.501241  0.646341  0.671642  \n",
       "75  0.115702  0.267658  0.235669  0.620347  0.703252  0.671642  \n",
       "76  0.082645  0.223048  0.369427  0.605459  0.682927  0.671642  \n",
       "77  0.082645  0.223048  0.369427  0.605459  0.682927  0.671642  \n",
       "78  0.082645  0.208178  0.235669  0.531017  0.589431  0.671642  \n",
       "79  0.082645  0.230483  0.216561  0.580645  0.654472  0.671642  \n",
       "80  0.117647  0.296578  0.465574  0.690722  0.781316  0.684458  \n",
       "81  0.126050  0.288973  0.465574  0.664948  0.764331  0.681319  \n",
       "82  0.075630  0.250951  0.452459  0.664948  0.764331  0.697017  \n",
       "83  0.075630  0.250951  0.452459  0.664948  0.764331  0.697017  \n",
       "84  0.126050  0.243346  0.295082  0.525773  0.653928  0.697017  \n",
       "85  0.134454  0.296578  0.268852  0.618557  0.734607  0.697017  \n",
       "86  0.117647  0.250951  0.465574  0.639175  0.730361  0.697017  \n",
       "87  0.117647  0.250951  0.465574  0.639175  0.730361  0.697017  \n",
       "88  0.126050  0.250951  0.288525  0.541237  0.632696  0.697017  \n",
       "89  0.134454  0.311787  0.288525  0.644330  0.709130  0.697017  \n",
       "\n",
       "[90 rows x 29 columns]"
      ]
     },
     "execution_count": 24,
     "metadata": {},
     "output_type": "execute_result"
    }
   ],
   "source": [
    "results"
   ]
  },
  {
   "cell_type": "code",
   "execution_count": null,
   "metadata": {
    "collapsed": true
   },
   "outputs": [],
   "source": []
  }
 ],
 "metadata": {
  "kernelspec": {
   "display_name": "Python 3",
   "language": "python",
   "name": "python3"
  },
  "language_info": {
   "codemirror_mode": {
    "name": "ipython",
    "version": 3
   },
   "file_extension": ".py",
   "mimetype": "text/x-python",
   "name": "python",
   "nbconvert_exporter": "python",
   "pygments_lexer": "ipython3",
   "version": "3.6.3"
  }
 },
 "nbformat": 4,
 "nbformat_minor": 2
}
