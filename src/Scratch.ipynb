{
 "cells": [
  {
   "cell_type": "code",
   "execution_count": 1,
   "metadata": {
    "collapsed": true
   },
   "outputs": [],
   "source": [
    "%load_ext autoreload\n",
    "%autoreload 2\n",
    "%matplotlib inline\n",
    "import warnings\n",
    "import ml_utils as ml\n",
    "import graphviz\n",
    "import pandas as pd\n",
    "import seaborn as sns\n",
    "import matplotlib.pyplot as plt\n",
    "\n",
    "warnings.filterwarnings('ignore')"
   ]
  },
  {
   "cell_type": "code",
   "execution_count": 5,
   "metadata": {
    "scrolled": true
   },
   "outputs": [
    {
     "name": "stdout",
     "output_type": "stream",
     "text": [
      "Connected to evictions DB.\n",
      "Set schema to 'evictions'.\n",
      "Set background cursor.\n",
      "\n",
      "Temporally validating on:\n",
      "Train: 2006-01-01 00:00:00 - 2006-12-31 00:00:00\n",
      "Test: 2007-01-01 00:00:00 - 2007-12-31 00:00:00\n",
      "Prediction window: 12 months\n",
      "\n",
      "Running run # 0/2400 with model RF, params {'max_depth': 5, 'max_features': 'sqrt', 'min_samples_split': 10, 'n_estimators': 10}\n",
      "Running run # 1/2400 with model DT, params {'criterion': 'gini', 'max_depth': 20, 'min_samples_split': 10}\n",
      "Running run # 2/2400 with model LR, params {'C': 0.01, 'penalty': 'l2'}\n",
      "Running run # 3/2400 with model BAG, params {'bootstrap_features': True, 'max_features': 3, 'max_samples': 5, 'n_estimators': 5}\n",
      "Running run # 4/2400 with model GB, params {'learning_rate': 0.5, 'max_depth': 5, 'n_estimators': 5, 'subsample': 0.5}\n",
      "Running run # 5/2400 with model KNN, params {'algorithm': 'kd_tree', 'n_neighbors': 10, 'weights': 'distance'}\n",
      "Running run # 6/2400 with model NB, params {}\n",
      "Running run # 7/2400 with model BASELINE_DT, params {'criterion': 'gini', 'max_depth': 3}\n",
      "Running run # 8/2400 with model RF, params {'max_depth': 5, 'max_features': 'sqrt', 'min_samples_split': 10, 'n_estimators': 10}\n",
      "Running run # 9/2400 with model DT, params {'criterion': 'gini', 'max_depth': 20, 'min_samples_split': 10}\n",
      "Running run # 10/2400 with model LR, params {'C': 0.01, 'penalty': 'l2'}\n",
      "Running run # 11/2400 with model BAG, params {'bootstrap_features': True, 'max_features': 3, 'max_samples': 5, 'n_estimators': 5}\n",
      "Running run # 12/2400 with model GB, params {'learning_rate': 0.5, 'max_depth': 5, 'n_estimators': 5, 'subsample': 0.5}\n",
      "Running run # 13/2400 with model KNN, params {'algorithm': 'kd_tree', 'n_neighbors': 10, 'weights': 'distance'}\n",
      "Running run # 14/2400 with model NB, params {}\n",
      "Running run # 15/2400 with model BASELINE_DT, params {'criterion': 'gini', 'max_depth': 3}\n",
      "Running run # 16/2400 with model RF, params {'max_depth': 5, 'max_features': 'sqrt', 'min_samples_split': 10, 'n_estimators': 10}\n",
      "Running run # 17/2400 with model DT, params {'criterion': 'gini', 'max_depth': 20, 'min_samples_split': 10}\n",
      "Running run # 18/2400 with model LR, params {'C': 0.01, 'penalty': 'l2'}\n",
      "Running run # 19/2400 with model BAG, params {'bootstrap_features': True, 'max_features': 3, 'max_samples': 5, 'n_estimators': 5}\n",
      "Running run # 20/2400 with model GB, params {'learning_rate': 0.5, 'max_depth': 5, 'n_estimators': 5, 'subsample': 0.5}\n",
      "Running run # 21/2400 with model KNN, params {'algorithm': 'kd_tree', 'n_neighbors': 10, 'weights': 'distance'}\n",
      "Running run # 22/2400 with model NB, params {}\n",
      "Running run # 23/2400 with model BASELINE_DT, params {'criterion': 'gini', 'max_depth': 3}\n",
      "Running run # 24/2400 with model RF, params {'max_depth': 5, 'max_features': 'sqrt', 'min_samples_split': 10, 'n_estimators': 10}\n",
      "Running run # 25/2400 with model DT, params {'criterion': 'gini', 'max_depth': 20, 'min_samples_split': 10}\n",
      "Running run # 26/2400 with model LR, params {'C': 0.01, 'penalty': 'l2'}\n",
      "Running run # 27/2400 with model BAG, params {'bootstrap_features': True, 'max_features': 3, 'max_samples': 5, 'n_estimators': 5}\n",
      "Running run # 28/2400 with model GB, params {'learning_rate': 0.5, 'max_depth': 5, 'n_estimators': 5, 'subsample': 0.5}\n",
      "Running run # 29/2400 with model KNN, params {'algorithm': 'kd_tree', 'n_neighbors': 10, 'weights': 'distance'}\n",
      "Running run # 30/2400 with model NB, params {}\n",
      "Running run # 31/2400 with model BASELINE_DT, params {'criterion': 'gini', 'max_depth': 3}\n",
      "Running run # 32/2400 with model RF, params {'max_depth': 5, 'max_features': 'sqrt', 'min_samples_split': 10, 'n_estimators': 10}\n",
      "Running run # 33/2400 with model DT, params {'criterion': 'gini', 'max_depth': 20, 'min_samples_split': 10}\n",
      "Running run # 34/2400 with model LR, params {'C': 0.01, 'penalty': 'l2'}\n",
      "Running run # 35/2400 with model BAG, params {'bootstrap_features': True, 'max_features': 3, 'max_samples': 5, 'n_estimators': 5}\n",
      "Running run # 36/2400 with model GB, params {'learning_rate': 0.5, 'max_depth': 5, 'n_estimators': 5, 'subsample': 0.5}\n",
      "Running run # 37/2400 with model KNN, params {'algorithm': 'kd_tree', 'n_neighbors': 10, 'weights': 'distance'}\n",
      "Running run # 38/2400 with model NB, params {}\n",
      "Running run # 39/2400 with model BASELINE_DT, params {'criterion': 'gini', 'max_depth': 3}\n",
      "Running run # 40/2400 with model RF, params {'max_depth': 5, 'max_features': 'sqrt', 'min_samples_split': 10, 'n_estimators': 10}\n",
      "Running run # 41/2400 with model DT, params {'criterion': 'gini', 'max_depth': 20, 'min_samples_split': 10}\n",
      "Running run # 42/2400 with model LR, params {'C': 0.01, 'penalty': 'l2'}\n",
      "Running run # 43/2400 with model BAG, params {'bootstrap_features': True, 'max_features': 3, 'max_samples': 5, 'n_estimators': 5}\n",
      "Running run # 44/2400 with model GB, params {'learning_rate': 0.5, 'max_depth': 5, 'n_estimators': 5, 'subsample': 0.5}\n",
      "Running run # 45/2400 with model KNN, params {'algorithm': 'kd_tree', 'n_neighbors': 10, 'weights': 'distance'}\n",
      "Running run # 46/2400 with model NB, params {}\n",
      "Running run # 47/2400 with model BASELINE_DT, params {'criterion': 'gini', 'max_depth': 3}\n",
      "Running run # 48/2400 with model RF, params {'max_depth': 5, 'max_features': 'sqrt', 'min_samples_split': 10, 'n_estimators': 10}\n",
      "Running run # 49/2400 with model DT, params {'criterion': 'gini', 'max_depth': 20, 'min_samples_split': 10}\n",
      "Running run # 50/2400 with model LR, params {'C': 0.01, 'penalty': 'l2'}\n",
      "Running run # 51/2400 with model BAG, params {'bootstrap_features': True, 'max_features': 3, 'max_samples': 5, 'n_estimators': 5}\n",
      "Running run # 52/2400 with model GB, params {'learning_rate': 0.5, 'max_depth': 5, 'n_estimators': 5, 'subsample': 0.5}\n",
      "Running run # 53/2400 with model KNN, params {'algorithm': 'kd_tree', 'n_neighbors': 10, 'weights': 'distance'}\n",
      "Running run # 54/2400 with model NB, params {}\n",
      "Running run # 55/2400 with model BASELINE_DT, params {'criterion': 'gini', 'max_depth': 3}\n",
      "Running run # 56/2400 with model RF, params {'max_depth': 5, 'max_features': 'sqrt', 'min_samples_split': 10, 'n_estimators': 10}\n",
      "Running run # 57/2400 with model DT, params {'criterion': 'gini', 'max_depth': 20, 'min_samples_split': 10}\n",
      "Running run # 58/2400 with model LR, params {'C': 0.01, 'penalty': 'l2'}\n",
      "Running run # 59/2400 with model BAG, params {'bootstrap_features': True, 'max_features': 3, 'max_samples': 5, 'n_estimators': 5}\n",
      "Running run # 60/2400 with model GB, params {'learning_rate': 0.5, 'max_depth': 5, 'n_estimators': 5, 'subsample': 0.5}\n",
      "Running run # 61/2400 with model KNN, params {'algorithm': 'kd_tree', 'n_neighbors': 10, 'weights': 'distance'}\n",
      "Running run # 62/2400 with model NB, params {}\n",
      "Running run # 63/2400 with model BASELINE_DT, params {'criterion': 'gini', 'max_depth': 3}\n",
      "Running run # 64/2400 with model RF, params {'max_depth': 5, 'max_features': 'sqrt', 'min_samples_split': 10, 'n_estimators': 10}\n",
      "Running run # 65/2400 with model DT, params {'criterion': 'gini', 'max_depth': 20, 'min_samples_split': 10}\n",
      "Running run # 66/2400 with model LR, params {'C': 0.01, 'penalty': 'l2'}\n",
      "Running run # 67/2400 with model BAG, params {'bootstrap_features': True, 'max_features': 3, 'max_samples': 5, 'n_estimators': 5}\n",
      "Running run # 68/2400 with model GB, params {'learning_rate': 0.5, 'max_depth': 5, 'n_estimators': 5, 'subsample': 0.5}\n",
      "Running run # 69/2400 with model KNN, params {'algorithm': 'kd_tree', 'n_neighbors': 10, 'weights': 'distance'}\n",
      "Running run # 70/2400 with model NB, params {}\n",
      "Running run # 71/2400 with model BASELINE_DT, params {'criterion': 'gini', 'max_depth': 3}\n",
      "Running run # 72/2400 with model RF, params {'max_depth': 5, 'max_features': 'sqrt', 'min_samples_split': 10, 'n_estimators': 10}\n",
      "Running run # 73/2400 with model DT, params {'criterion': 'gini', 'max_depth': 20, 'min_samples_split': 10}\n",
      "Running run # 74/2400 with model LR, params {'C': 0.01, 'penalty': 'l2'}\n",
      "Running run # 75/2400 with model BAG, params {'bootstrap_features': True, 'max_features': 3, 'max_samples': 5, 'n_estimators': 5}\n",
      "Running run # 76/2400 with model GB, params {'learning_rate': 0.5, 'max_depth': 5, 'n_estimators': 5, 'subsample': 0.5}\n",
      "Running run # 77/2400 with model KNN, params {'algorithm': 'kd_tree', 'n_neighbors': 10, 'weights': 'distance'}\n"
     ]
    },
    {
     "name": "stdout",
     "output_type": "stream",
     "text": [
      "Running run # 78/2400 with model NB, params {}\n",
      "Running run # 79/2400 with model BASELINE_DT, params {'criterion': 'gini', 'max_depth': 3}\n",
      "Running run # 80/2400 with model RF, params {'max_depth': 5, 'max_features': 'sqrt', 'min_samples_split': 10, 'n_estimators': 10}\n",
      "Running run # 81/2400 with model DT, params {'criterion': 'gini', 'max_depth': 20, 'min_samples_split': 10}\n",
      "Running run # 82/2400 with model LR, params {'C': 0.01, 'penalty': 'l2'}\n",
      "Running run # 83/2400 with model BAG, params {'bootstrap_features': True, 'max_features': 3, 'max_samples': 5, 'n_estimators': 5}\n",
      "Running run # 84/2400 with model GB, params {'learning_rate': 0.5, 'max_depth': 5, 'n_estimators': 5, 'subsample': 0.5}\n",
      "Running run # 85/2400 with model KNN, params {'algorithm': 'kd_tree', 'n_neighbors': 10, 'weights': 'distance'}\n",
      "Running run # 86/2400 with model NB, params {}\n",
      "Running run # 87/2400 with model BASELINE_DT, params {'criterion': 'gini', 'max_depth': 3}\n",
      "Running run # 88/2400 with model RF, params {'max_depth': 5, 'max_features': 'sqrt', 'min_samples_split': 10, 'n_estimators': 10}\n",
      "Running run # 89/2400 with model DT, params {'criterion': 'gini', 'max_depth': 20, 'min_samples_split': 10}\n",
      "Running run # 90/2400 with model LR, params {'C': 0.01, 'penalty': 'l2'}\n",
      "Running run # 91/2400 with model BAG, params {'bootstrap_features': True, 'max_features': 3, 'max_samples': 5, 'n_estimators': 5}\n",
      "Running run # 92/2400 with model GB, params {'learning_rate': 0.5, 'max_depth': 5, 'n_estimators': 5, 'subsample': 0.5}\n",
      "Running run # 93/2400 with model KNN, params {'algorithm': 'kd_tree', 'n_neighbors': 10, 'weights': 'distance'}\n",
      "Running run # 94/2400 with model NB, params {}\n",
      "Running run # 95/2400 with model BASELINE_DT, params {'criterion': 'gini', 'max_depth': 3}\n",
      "Running run # 96/2400 with model RF, params {'max_depth': 5, 'max_features': 'sqrt', 'min_samples_split': 10, 'n_estimators': 10}\n",
      "Running run # 97/2400 with model DT, params {'criterion': 'gini', 'max_depth': 20, 'min_samples_split': 10}\n",
      "Running run # 98/2400 with model LR, params {'C': 0.01, 'penalty': 'l2'}\n",
      "Running run # 99/2400 with model BAG, params {'bootstrap_features': True, 'max_features': 3, 'max_samples': 5, 'n_estimators': 5}\n",
      "Running run # 100/2400 with model GB, params {'learning_rate': 0.5, 'max_depth': 5, 'n_estimators': 5, 'subsample': 0.5}\n",
      "Running run # 101/2400 with model KNN, params {'algorithm': 'kd_tree', 'n_neighbors': 10, 'weights': 'distance'}\n",
      "Running run # 102/2400 with model NB, params {}\n",
      "Running run # 103/2400 with model BASELINE_DT, params {'criterion': 'gini', 'max_depth': 3}\n",
      "Running run # 104/2400 with model RF, params {'max_depth': 5, 'max_features': 'sqrt', 'min_samples_split': 10, 'n_estimators': 10}\n",
      "Running run # 105/2400 with model DT, params {'criterion': 'gini', 'max_depth': 20, 'min_samples_split': 10}\n",
      "Running run # 106/2400 with model LR, params {'C': 0.01, 'penalty': 'l2'}\n",
      "Running run # 107/2400 with model BAG, params {'bootstrap_features': True, 'max_features': 3, 'max_samples': 5, 'n_estimators': 5}\n",
      "Running run # 108/2400 with model GB, params {'learning_rate': 0.5, 'max_depth': 5, 'n_estimators': 5, 'subsample': 0.5}\n",
      "Running run # 109/2400 with model KNN, params {'algorithm': 'kd_tree', 'n_neighbors': 10, 'weights': 'distance'}\n",
      "Running run # 110/2400 with model NB, params {}\n",
      "Running run # 111/2400 with model BASELINE_DT, params {'criterion': 'gini', 'max_depth': 3}\n",
      "Running run # 112/2400 with model RF, params {'max_depth': 5, 'max_features': 'sqrt', 'min_samples_split': 10, 'n_estimators': 10}\n",
      "Running run # 113/2400 with model DT, params {'criterion': 'gini', 'max_depth': 20, 'min_samples_split': 10}\n",
      "Running run # 114/2400 with model LR, params {'C': 0.01, 'penalty': 'l2'}\n",
      "Running run # 115/2400 with model BAG, params {'bootstrap_features': True, 'max_features': 3, 'max_samples': 5, 'n_estimators': 5}\n",
      "Running run # 116/2400 with model GB, params {'learning_rate': 0.5, 'max_depth': 5, 'n_estimators': 5, 'subsample': 0.5}\n",
      "Running run # 117/2400 with model KNN, params {'algorithm': 'kd_tree', 'n_neighbors': 10, 'weights': 'distance'}\n",
      "Running run # 118/2400 with model NB, params {}\n",
      "Running run # 119/2400 with model BASELINE_DT, params {'criterion': 'gini', 'max_depth': 3}\n",
      "Running run # 120/2400 with model RF, params {'max_depth': 5, 'max_features': 'sqrt', 'min_samples_split': 10, 'n_estimators': 10}\n",
      "Running run # 121/2400 with model DT, params {'criterion': 'gini', 'max_depth': 20, 'min_samples_split': 10}\n",
      "Running run # 122/2400 with model LR, params {'C': 0.01, 'penalty': 'l2'}\n",
      "Running run # 123/2400 with model BAG, params {'bootstrap_features': True, 'max_features': 3, 'max_samples': 5, 'n_estimators': 5}\n",
      "Running run # 124/2400 with model GB, params {'learning_rate': 0.5, 'max_depth': 5, 'n_estimators': 5, 'subsample': 0.5}\n",
      "Running run # 125/2400 with model KNN, params {'algorithm': 'kd_tree', 'n_neighbors': 10, 'weights': 'distance'}\n",
      "Running run # 126/2400 with model NB, params {}\n",
      "Running run # 127/2400 with model BASELINE_DT, params {'criterion': 'gini', 'max_depth': 3}\n",
      "Running run # 128/2400 with model RF, params {'max_depth': 5, 'max_features': 'sqrt', 'min_samples_split': 10, 'n_estimators': 10}\n",
      "Running run # 129/2400 with model DT, params {'criterion': 'gini', 'max_depth': 20, 'min_samples_split': 10}\n",
      "Running run # 130/2400 with model LR, params {'C': 0.01, 'penalty': 'l2'}\n",
      "Running run # 131/2400 with model BAG, params {'bootstrap_features': True, 'max_features': 3, 'max_samples': 5, 'n_estimators': 5}\n",
      "Running run # 132/2400 with model GB, params {'learning_rate': 0.5, 'max_depth': 5, 'n_estimators': 5, 'subsample': 0.5}\n",
      "Running run # 133/2400 with model KNN, params {'algorithm': 'kd_tree', 'n_neighbors': 10, 'weights': 'distance'}\n",
      "Running run # 134/2400 with model NB, params {}\n",
      "Running run # 135/2400 with model BASELINE_DT, params {'criterion': 'gini', 'max_depth': 3}\n",
      "Running run # 136/2400 with model RF, params {'max_depth': 5, 'max_features': 'sqrt', 'min_samples_split': 10, 'n_estimators': 10}\n",
      "Running run # 137/2400 with model DT, params {'criterion': 'gini', 'max_depth': 20, 'min_samples_split': 10}\n",
      "Running run # 138/2400 with model LR, params {'C': 0.01, 'penalty': 'l2'}\n",
      "Running run # 139/2400 with model BAG, params {'bootstrap_features': True, 'max_features': 3, 'max_samples': 5, 'n_estimators': 5}\n",
      "Running run # 140/2400 with model GB, params {'learning_rate': 0.5, 'max_depth': 5, 'n_estimators': 5, 'subsample': 0.5}\n",
      "Running run # 141/2400 with model KNN, params {'algorithm': 'kd_tree', 'n_neighbors': 10, 'weights': 'distance'}\n",
      "Running run # 142/2400 with model NB, params {}\n",
      "Running run # 143/2400 with model BASELINE_DT, params {'criterion': 'gini', 'max_depth': 3}\n",
      "Running run # 144/2400 with model RF, params {'max_depth': 5, 'max_features': 'sqrt', 'min_samples_split': 10, 'n_estimators': 10}\n",
      "Running run # 145/2400 with model DT, params {'criterion': 'gini', 'max_depth': 20, 'min_samples_split': 10}\n",
      "Running run # 146/2400 with model LR, params {'C': 0.01, 'penalty': 'l2'}\n",
      "Running run # 147/2400 with model BAG, params {'bootstrap_features': True, 'max_features': 3, 'max_samples': 5, 'n_estimators': 5}\n",
      "Running run # 148/2400 with model GB, params {'learning_rate': 0.5, 'max_depth': 5, 'n_estimators': 5, 'subsample': 0.5}\n",
      "Running run # 149/2400 with model KNN, params {'algorithm': 'kd_tree', 'n_neighbors': 10, 'weights': 'distance'}\n",
      "Running run # 150/2400 with model NB, params {}\n",
      "Running run # 151/2400 with model BASELINE_DT, params {'criterion': 'gini', 'max_depth': 3}\n",
      "Running run # 152/2400 with model RF, params {'max_depth': 5, 'max_features': 'sqrt', 'min_samples_split': 10, 'n_estimators': 10}\n",
      "Running run # 153/2400 with model DT, params {'criterion': 'gini', 'max_depth': 20, 'min_samples_split': 10}\n",
      "Running run # 154/2400 with model LR, params {'C': 0.01, 'penalty': 'l2'}\n",
      "Running run # 155/2400 with model BAG, params {'bootstrap_features': True, 'max_features': 3, 'max_samples': 5, 'n_estimators': 5}\n",
      "Running run # 156/2400 with model GB, params {'learning_rate': 0.5, 'max_depth': 5, 'n_estimators': 5, 'subsample': 0.5}\n",
      "Running run # 157/2400 with model KNN, params {'algorithm': 'kd_tree', 'n_neighbors': 10, 'weights': 'distance'}\n",
      "Running run # 158/2400 with model NB, params {}\n"
     ]
    },
    {
     "name": "stdout",
     "output_type": "stream",
     "text": [
      "Running run # 159/2400 with model BASELINE_DT, params {'criterion': 'gini', 'max_depth': 3}\n",
      "Running run # 160/2400 with model RF, params {'max_depth': 5, 'max_features': 'sqrt', 'min_samples_split': 10, 'n_estimators': 10}\n",
      "Running run # 161/2400 with model DT, params {'criterion': 'gini', 'max_depth': 20, 'min_samples_split': 10}\n",
      "Running run # 162/2400 with model LR, params {'C': 0.01, 'penalty': 'l2'}\n",
      "Running run # 163/2400 with model BAG, params {'bootstrap_features': True, 'max_features': 3, 'max_samples': 5, 'n_estimators': 5}\n",
      "Running run # 164/2400 with model GB, params {'learning_rate': 0.5, 'max_depth': 5, 'n_estimators': 5, 'subsample': 0.5}\n",
      "Running run # 165/2400 with model KNN, params {'algorithm': 'kd_tree', 'n_neighbors': 10, 'weights': 'distance'}\n",
      "Running run # 166/2400 with model NB, params {}\n",
      "Running run # 167/2400 with model BASELINE_DT, params {'criterion': 'gini', 'max_depth': 3}\n",
      "Running run # 168/2400 with model RF, params {'max_depth': 5, 'max_features': 'sqrt', 'min_samples_split': 10, 'n_estimators': 10}\n",
      "Running run # 169/2400 with model DT, params {'criterion': 'gini', 'max_depth': 20, 'min_samples_split': 10}\n",
      "Running run # 170/2400 with model LR, params {'C': 0.01, 'penalty': 'l2'}\n",
      "Running run # 171/2400 with model BAG, params {'bootstrap_features': True, 'max_features': 3, 'max_samples': 5, 'n_estimators': 5}\n",
      "Running run # 172/2400 with model GB, params {'learning_rate': 0.5, 'max_depth': 5, 'n_estimators': 5, 'subsample': 0.5}\n",
      "Running run # 173/2400 with model KNN, params {'algorithm': 'kd_tree', 'n_neighbors': 10, 'weights': 'distance'}\n",
      "Running run # 174/2400 with model NB, params {}\n",
      "Running run # 175/2400 with model BASELINE_DT, params {'criterion': 'gini', 'max_depth': 3}\n",
      "Running run # 176/2400 with model RF, params {'max_depth': 5, 'max_features': 'sqrt', 'min_samples_split': 10, 'n_estimators': 10}\n",
      "Running run # 177/2400 with model DT, params {'criterion': 'gini', 'max_depth': 20, 'min_samples_split': 10}\n",
      "Running run # 178/2400 with model LR, params {'C': 0.01, 'penalty': 'l2'}\n",
      "Running run # 179/2400 with model BAG, params {'bootstrap_features': True, 'max_features': 3, 'max_samples': 5, 'n_estimators': 5}\n",
      "Running run # 180/2400 with model GB, params {'learning_rate': 0.5, 'max_depth': 5, 'n_estimators': 5, 'subsample': 0.5}\n",
      "Running run # 181/2400 with model KNN, params {'algorithm': 'kd_tree', 'n_neighbors': 10, 'weights': 'distance'}\n",
      "Running run # 182/2400 with model NB, params {}\n",
      "Running run # 183/2400 with model BASELINE_DT, params {'criterion': 'gini', 'max_depth': 3}\n",
      "Running run # 184/2400 with model RF, params {'max_depth': 5, 'max_features': 'sqrt', 'min_samples_split': 10, 'n_estimators': 10}\n",
      "Running run # 185/2400 with model DT, params {'criterion': 'gini', 'max_depth': 20, 'min_samples_split': 10}\n",
      "Running run # 186/2400 with model LR, params {'C': 0.01, 'penalty': 'l2'}\n",
      "Running run # 187/2400 with model BAG, params {'bootstrap_features': True, 'max_features': 3, 'max_samples': 5, 'n_estimators': 5}\n",
      "Running run # 188/2400 with model GB, params {'learning_rate': 0.5, 'max_depth': 5, 'n_estimators': 5, 'subsample': 0.5}\n",
      "Running run # 189/2400 with model KNN, params {'algorithm': 'kd_tree', 'n_neighbors': 10, 'weights': 'distance'}\n",
      "Running run # 190/2400 with model NB, params {}\n",
      "Running run # 191/2400 with model BASELINE_DT, params {'criterion': 'gini', 'max_depth': 3}\n",
      "Running run # 192/2400 with model RF, params {'max_depth': 5, 'max_features': 'sqrt', 'min_samples_split': 10, 'n_estimators': 10}\n",
      "Running run # 193/2400 with model DT, params {'criterion': 'gini', 'max_depth': 20, 'min_samples_split': 10}\n",
      "Running run # 194/2400 with model LR, params {'C': 0.01, 'penalty': 'l2'}\n",
      "Running run # 195/2400 with model BAG, params {'bootstrap_features': True, 'max_features': 3, 'max_samples': 5, 'n_estimators': 5}\n",
      "Running run # 196/2400 with model GB, params {'learning_rate': 0.5, 'max_depth': 5, 'n_estimators': 5, 'subsample': 0.5}\n",
      "Running run # 197/2400 with model KNN, params {'algorithm': 'kd_tree', 'n_neighbors': 10, 'weights': 'distance'}\n",
      "Running run # 198/2400 with model NB, params {}\n",
      "Running run # 199/2400 with model BASELINE_DT, params {'criterion': 'gini', 'max_depth': 3}\n",
      "Running run # 200/2400 with model RF, params {'max_depth': 5, 'max_features': 'sqrt', 'min_samples_split': 10, 'n_estimators': 10}\n",
      "Running run # 201/2400 with model DT, params {'criterion': 'gini', 'max_depth': 20, 'min_samples_split': 10}\n",
      "Running run # 202/2400 with model LR, params {'C': 0.01, 'penalty': 'l2'}\n",
      "Running run # 203/2400 with model BAG, params {'bootstrap_features': True, 'max_features': 3, 'max_samples': 5, 'n_estimators': 5}\n",
      "Running run # 204/2400 with model GB, params {'learning_rate': 0.5, 'max_depth': 5, 'n_estimators': 5, 'subsample': 0.5}\n",
      "Running run # 205/2400 with model KNN, params {'algorithm': 'kd_tree', 'n_neighbors': 10, 'weights': 'distance'}\n",
      "Running run # 206/2400 with model NB, params {}\n",
      "Running run # 207/2400 with model BASELINE_DT, params {'criterion': 'gini', 'max_depth': 3}\n",
      "Running run # 208/2400 with model RF, params {'max_depth': 5, 'max_features': 'sqrt', 'min_samples_split': 10, 'n_estimators': 10}\n",
      "Running run # 209/2400 with model DT, params {'criterion': 'gini', 'max_depth': 20, 'min_samples_split': 10}\n",
      "Running run # 210/2400 with model LR, params {'C': 0.01, 'penalty': 'l2'}\n",
      "Running run # 211/2400 with model BAG, params {'bootstrap_features': True, 'max_features': 3, 'max_samples': 5, 'n_estimators': 5}\n",
      "Running run # 212/2400 with model GB, params {'learning_rate': 0.5, 'max_depth': 5, 'n_estimators': 5, 'subsample': 0.5}\n",
      "Running run # 213/2400 with model KNN, params {'algorithm': 'kd_tree', 'n_neighbors': 10, 'weights': 'distance'}\n",
      "Running run # 214/2400 with model NB, params {}\n",
      "Running run # 215/2400 with model BASELINE_DT, params {'criterion': 'gini', 'max_depth': 3}\n",
      "Running run # 216/2400 with model RF, params {'max_depth': 5, 'max_features': 'sqrt', 'min_samples_split': 10, 'n_estimators': 10}\n",
      "Running run # 217/2400 with model DT, params {'criterion': 'gini', 'max_depth': 20, 'min_samples_split': 10}\n",
      "Running run # 218/2400 with model LR, params {'C': 0.01, 'penalty': 'l2'}\n",
      "Running run # 219/2400 with model BAG, params {'bootstrap_features': True, 'max_features': 3, 'max_samples': 5, 'n_estimators': 5}\n",
      "Running run # 220/2400 with model GB, params {'learning_rate': 0.5, 'max_depth': 5, 'n_estimators': 5, 'subsample': 0.5}\n",
      "Running run # 221/2400 with model KNN, params {'algorithm': 'kd_tree', 'n_neighbors': 10, 'weights': 'distance'}\n",
      "Running run # 222/2400 with model NB, params {}\n",
      "Running run # 223/2400 with model BASELINE_DT, params {'criterion': 'gini', 'max_depth': 3}\n",
      "Running run # 224/2400 with model RF, params {'max_depth': 5, 'max_features': 'sqrt', 'min_samples_split': 10, 'n_estimators': 10}\n",
      "Running run # 225/2400 with model DT, params {'criterion': 'gini', 'max_depth': 20, 'min_samples_split': 10}\n",
      "Running run # 226/2400 with model LR, params {'C': 0.01, 'penalty': 'l2'}\n",
      "Running run # 227/2400 with model BAG, params {'bootstrap_features': True, 'max_features': 3, 'max_samples': 5, 'n_estimators': 5}\n",
      "Running run # 228/2400 with model GB, params {'learning_rate': 0.5, 'max_depth': 5, 'n_estimators': 5, 'subsample': 0.5}\n",
      "Running run # 229/2400 with model KNN, params {'algorithm': 'kd_tree', 'n_neighbors': 10, 'weights': 'distance'}\n",
      "Running run # 230/2400 with model NB, params {}\n",
      "Running run # 231/2400 with model BASELINE_DT, params {'criterion': 'gini', 'max_depth': 3}\n",
      "Running run # 232/2400 with model RF, params {'max_depth': 5, 'max_features': 'sqrt', 'min_samples_split': 10, 'n_estimators': 10}\n",
      "Running run # 233/2400 with model DT, params {'criterion': 'gini', 'max_depth': 20, 'min_samples_split': 10}\n",
      "Running run # 234/2400 with model LR, params {'C': 0.01, 'penalty': 'l2'}\n",
      "Running run # 235/2400 with model BAG, params {'bootstrap_features': True, 'max_features': 3, 'max_samples': 5, 'n_estimators': 5}\n",
      "Running run # 236/2400 with model GB, params {'learning_rate': 0.5, 'max_depth': 5, 'n_estimators': 5, 'subsample': 0.5}\n",
      "Running run # 237/2400 with model KNN, params {'algorithm': 'kd_tree', 'n_neighbors': 10, 'weights': 'distance'}\n",
      "Running run # 238/2400 with model NB, params {}\n",
      "Running run # 239/2400 with model BASELINE_DT, params {'criterion': 'gini', 'max_depth': 3}\n"
     ]
    },
    {
     "name": "stdout",
     "output_type": "stream",
     "text": [
      "done standard\n",
      "\n",
      "Temporally validating on:\n",
      "Train: 2006-01-01 00:00:00 - 2006-12-31 00:00:00\n",
      "Test: 2007-01-01 00:00:00 - 2007-12-31 00:00:00\n",
      "Prediction window: 12 months\n",
      "\n"
     ]
    },
    {
     "ename": "KeyError",
     "evalue": "'top20_num_lag'",
     "output_type": "error",
     "traceback": [
      "\u001b[1;31m---------------------------------------------------------------------------\u001b[0m",
      "\u001b[1;31mKeyError\u001b[0m                                  Traceback (most recent call last)",
      "\u001b[1;32m~\\AppData\\Roaming\\Python\\Python36\\site-packages\\pandas\\core\\indexes\\base.py\u001b[0m in \u001b[0;36mget_loc\u001b[1;34m(self, key, method, tolerance)\u001b[0m\n\u001b[0;32m   2521\u001b[0m             \u001b[1;32mtry\u001b[0m\u001b[1;33m:\u001b[0m\u001b[1;33m\u001b[0m\u001b[0m\n\u001b[1;32m-> 2522\u001b[1;33m                 \u001b[1;32mreturn\u001b[0m \u001b[0mself\u001b[0m\u001b[1;33m.\u001b[0m\u001b[0m_engine\u001b[0m\u001b[1;33m.\u001b[0m\u001b[0mget_loc\u001b[0m\u001b[1;33m(\u001b[0m\u001b[0mkey\u001b[0m\u001b[1;33m)\u001b[0m\u001b[1;33m\u001b[0m\u001b[0m\n\u001b[0m\u001b[0;32m   2523\u001b[0m             \u001b[1;32mexcept\u001b[0m \u001b[0mKeyError\u001b[0m\u001b[1;33m:\u001b[0m\u001b[1;33m\u001b[0m\u001b[0m\n",
      "\u001b[1;32mpandas\\_libs\\index.pyx\u001b[0m in \u001b[0;36mpandas._libs.index.IndexEngine.get_loc\u001b[1;34m()\u001b[0m\n",
      "\u001b[1;32mpandas\\_libs\\index.pyx\u001b[0m in \u001b[0;36mpandas._libs.index.IndexEngine.get_loc\u001b[1;34m()\u001b[0m\n",
      "\u001b[1;32mpandas\\_libs\\hashtable_class_helper.pxi\u001b[0m in \u001b[0;36mpandas._libs.hashtable.PyObjectHashTable.get_item\u001b[1;34m()\u001b[0m\n",
      "\u001b[1;32mpandas\\_libs\\hashtable_class_helper.pxi\u001b[0m in \u001b[0;36mpandas._libs.hashtable.PyObjectHashTable.get_item\u001b[1;34m()\u001b[0m\n",
      "\u001b[1;31mKeyError\u001b[0m: 'top20_num_lag'",
      "\nDuring handling of the above exception, another exception occurred:\n",
      "\u001b[1;31mKeyError\u001b[0m                                  Traceback (most recent call last)",
      "\u001b[1;32m<ipython-input-5-9e9df0590a44>\u001b[0m in \u001b[0;36m<module>\u001b[1;34m()\u001b[0m\n\u001b[1;32m----> 1\u001b[1;33m \u001b[0mresults\u001b[0m\u001b[1;33m,\u001b[0m \u001b[0mpipeline\u001b[0m \u001b[1;33m=\u001b[0m \u001b[0mml\u001b[0m\u001b[1;33m.\u001b[0m\u001b[0mmain\u001b[0m\u001b[1;33m(\u001b[0m\u001b[1;33m)\u001b[0m\u001b[1;33m\u001b[0m\u001b[0m\n\u001b[0m",
      "\u001b[1;32m~\\workspaces\\evictions-learn\\src\\ml_utils.py\u001b[0m in \u001b[0;36mmain\u001b[1;34m()\u001b[0m\n\u001b[0;32m    710\u001b[0m     \u001b[0mprint\u001b[0m\u001b[1;33m(\u001b[0m\u001b[1;34m'done standard'\u001b[0m\u001b[1;33m)\u001b[0m\u001b[1;33m\u001b[0m\u001b[0m\n\u001b[0;32m    711\u001b[0m \u001b[1;33m\u001b[0m\u001b[0m\n\u001b[1;32m--> 712\u001b[1;33m     \u001b[0mresults_df2\u001b[0m \u001b[1;33m=\u001b[0m \u001b[0mpipeline\u001b[0m\u001b[1;33m.\u001b[0m\u001b[0mrun_temporal\u001b[0m\u001b[1;33m(\u001b[0m\u001b[0mpipeline\u001b[0m\u001b[1;33m.\u001b[0m\u001b[0mdf\u001b[0m\u001b[1;33m,\u001b[0m \u001b[0mstart\u001b[0m\u001b[1;33m,\u001b[0m \u001b[0mend\u001b[0m\u001b[1;33m,\u001b[0m \u001b[0mprediction_windows\u001b[0m\u001b[1;33m,\u001b[0m \u001b[0mprior_features\u001b[0m\u001b[1;33m,\u001b[0m \u001b[0mpredictor_col_list\u001b[0m\u001b[1;33m,\u001b[0m \u001b[1;33m[\u001b[0m\u001b[1;34m'BASELINE_RAND'\u001b[0m\u001b[1;33m,\u001b[0m \u001b[1;34m'BASELINE_PRIOR'\u001b[0m\u001b[1;33m]\u001b[0m\u001b[1;33m)\u001b[0m\u001b[1;33m\u001b[0m\u001b[0m\n\u001b[0m\u001b[0;32m    713\u001b[0m     \u001b[0mprint\u001b[0m\u001b[1;33m(\u001b[0m\u001b[1;34m'done baseline'\u001b[0m\u001b[1;33m)\u001b[0m\u001b[1;33m\u001b[0m\u001b[0m\n\u001b[0;32m    714\u001b[0m     \u001b[0mresults_df\u001b[0m \u001b[1;33m=\u001b[0m \u001b[0mresults_df1\u001b[0m\u001b[1;33m.\u001b[0m\u001b[0mappend\u001b[0m\u001b[1;33m(\u001b[0m\u001b[0mresults_df2\u001b[0m\u001b[1;33m)\u001b[0m\u001b[1;33m\u001b[0m\u001b[0m\n",
      "\u001b[1;32m~\\workspaces\\evictions-learn\\src\\ml_utils.py\u001b[0m in \u001b[0;36mrun_temporal\u001b[1;34m(self, df, start, end, prediction_windows, feature_set_list, predictor_col_list, models_to_run)\u001b[0m\n\u001b[0;32m    509\u001b[0m                         \u001b[1;31m# Build classifiers\u001b[0m\u001b[1;33m\u001b[0m\u001b[1;33m\u001b[0m\u001b[0m\n\u001b[0;32m    510\u001b[0m                         result = self.classify(models_to_run, X_train, X_test, y_train, y_test,\n\u001b[1;32m--> 511\u001b[1;33m                                                (train_start, train_end), (test_start, test_end), feature_cols[\"feature_set_labels\"], predictor_col)\n\u001b[0m\u001b[0;32m    512\u001b[0m                         \u001b[1;31m# Increment time\u001b[0m\u001b[1;33m\u001b[0m\u001b[1;33m\u001b[0m\u001b[0m\n\u001b[0;32m    513\u001b[0m                         \u001b[0mtrain_end\u001b[0m \u001b[1;33m+=\u001b[0m \u001b[0mrelativedelta\u001b[0m\u001b[1;33m(\u001b[0m\u001b[0mmonths\u001b[0m\u001b[1;33m=\u001b[0m\u001b[1;33m+\u001b[0m\u001b[0mprediction_window\u001b[0m\u001b[1;33m)\u001b[0m\u001b[1;33m\u001b[0m\u001b[0m\n",
      "\u001b[1;32m~\\workspaces\\evictions-learn\\src\\ml_utils.py\u001b[0m in \u001b[0;36mclassify\u001b[1;34m(self, models_to_run, X_train, X_test, y_train, y_test, train_dates, test_dates, feature_set_labels, outcome_label)\u001b[0m\n\u001b[0;32m    547\u001b[0m                     train_dates, test_dates, model_key,model_key, {}, feature_set_labels, outcome_label, None, y_test, y_pred_probs))\n\u001b[0;32m    548\u001b[0m             \u001b[1;32melif\u001b[0m \u001b[0mmodel_key\u001b[0m \u001b[1;33m==\u001b[0m \u001b[1;34m'BASELINE_PRIOR'\u001b[0m\u001b[1;33m:\u001b[0m\u001b[1;33m\u001b[0m\u001b[0m\n\u001b[1;32m--> 549\u001b[1;33m                 \u001b[0mX_test\u001b[0m \u001b[1;33m=\u001b[0m \u001b[0mX_test\u001b[0m\u001b[1;33m[\u001b[0m\u001b[0moutcome_label\u001b[0m\u001b[1;33m+\u001b[0m\u001b[1;34m'_lag'\u001b[0m\u001b[1;33m]\u001b[0m\u001b[1;33m\u001b[0m\u001b[0m\n\u001b[0m\u001b[0;32m    550\u001b[0m                 results.append(self.populate_outcome_table(\n\u001b[0;32m    551\u001b[0m                     train_dates, test_dates, model_key, model_key, {}, feature_set_labels, outcome_label, None, y_test, X_test))\n",
      "\u001b[1;32m~\\AppData\\Roaming\\Python\\Python36\\site-packages\\pandas\\core\\frame.py\u001b[0m in \u001b[0;36m__getitem__\u001b[1;34m(self, key)\u001b[0m\n\u001b[0;32m   2137\u001b[0m             \u001b[1;32mreturn\u001b[0m \u001b[0mself\u001b[0m\u001b[1;33m.\u001b[0m\u001b[0m_getitem_multilevel\u001b[0m\u001b[1;33m(\u001b[0m\u001b[0mkey\u001b[0m\u001b[1;33m)\u001b[0m\u001b[1;33m\u001b[0m\u001b[0m\n\u001b[0;32m   2138\u001b[0m         \u001b[1;32melse\u001b[0m\u001b[1;33m:\u001b[0m\u001b[1;33m\u001b[0m\u001b[0m\n\u001b[1;32m-> 2139\u001b[1;33m             \u001b[1;32mreturn\u001b[0m \u001b[0mself\u001b[0m\u001b[1;33m.\u001b[0m\u001b[0m_getitem_column\u001b[0m\u001b[1;33m(\u001b[0m\u001b[0mkey\u001b[0m\u001b[1;33m)\u001b[0m\u001b[1;33m\u001b[0m\u001b[0m\n\u001b[0m\u001b[0;32m   2140\u001b[0m \u001b[1;33m\u001b[0m\u001b[0m\n\u001b[0;32m   2141\u001b[0m     \u001b[1;32mdef\u001b[0m \u001b[0m_getitem_column\u001b[0m\u001b[1;33m(\u001b[0m\u001b[0mself\u001b[0m\u001b[1;33m,\u001b[0m \u001b[0mkey\u001b[0m\u001b[1;33m)\u001b[0m\u001b[1;33m:\u001b[0m\u001b[1;33m\u001b[0m\u001b[0m\n",
      "\u001b[1;32m~\\AppData\\Roaming\\Python\\Python36\\site-packages\\pandas\\core\\frame.py\u001b[0m in \u001b[0;36m_getitem_column\u001b[1;34m(self, key)\u001b[0m\n\u001b[0;32m   2144\u001b[0m         \u001b[1;31m# get column\u001b[0m\u001b[1;33m\u001b[0m\u001b[1;33m\u001b[0m\u001b[0m\n\u001b[0;32m   2145\u001b[0m         \u001b[1;32mif\u001b[0m \u001b[0mself\u001b[0m\u001b[1;33m.\u001b[0m\u001b[0mcolumns\u001b[0m\u001b[1;33m.\u001b[0m\u001b[0mis_unique\u001b[0m\u001b[1;33m:\u001b[0m\u001b[1;33m\u001b[0m\u001b[0m\n\u001b[1;32m-> 2146\u001b[1;33m             \u001b[1;32mreturn\u001b[0m \u001b[0mself\u001b[0m\u001b[1;33m.\u001b[0m\u001b[0m_get_item_cache\u001b[0m\u001b[1;33m(\u001b[0m\u001b[0mkey\u001b[0m\u001b[1;33m)\u001b[0m\u001b[1;33m\u001b[0m\u001b[0m\n\u001b[0m\u001b[0;32m   2147\u001b[0m \u001b[1;33m\u001b[0m\u001b[0m\n\u001b[0;32m   2148\u001b[0m         \u001b[1;31m# duplicate columns & possible reduce dimensionality\u001b[0m\u001b[1;33m\u001b[0m\u001b[1;33m\u001b[0m\u001b[0m\n",
      "\u001b[1;32m~\\AppData\\Roaming\\Python\\Python36\\site-packages\\pandas\\core\\generic.py\u001b[0m in \u001b[0;36m_get_item_cache\u001b[1;34m(self, item)\u001b[0m\n\u001b[0;32m   1840\u001b[0m         \u001b[0mres\u001b[0m \u001b[1;33m=\u001b[0m \u001b[0mcache\u001b[0m\u001b[1;33m.\u001b[0m\u001b[0mget\u001b[0m\u001b[1;33m(\u001b[0m\u001b[0mitem\u001b[0m\u001b[1;33m)\u001b[0m\u001b[1;33m\u001b[0m\u001b[0m\n\u001b[0;32m   1841\u001b[0m         \u001b[1;32mif\u001b[0m \u001b[0mres\u001b[0m \u001b[1;32mis\u001b[0m \u001b[1;32mNone\u001b[0m\u001b[1;33m:\u001b[0m\u001b[1;33m\u001b[0m\u001b[0m\n\u001b[1;32m-> 1842\u001b[1;33m             \u001b[0mvalues\u001b[0m \u001b[1;33m=\u001b[0m \u001b[0mself\u001b[0m\u001b[1;33m.\u001b[0m\u001b[0m_data\u001b[0m\u001b[1;33m.\u001b[0m\u001b[0mget\u001b[0m\u001b[1;33m(\u001b[0m\u001b[0mitem\u001b[0m\u001b[1;33m)\u001b[0m\u001b[1;33m\u001b[0m\u001b[0m\n\u001b[0m\u001b[0;32m   1843\u001b[0m             \u001b[0mres\u001b[0m \u001b[1;33m=\u001b[0m \u001b[0mself\u001b[0m\u001b[1;33m.\u001b[0m\u001b[0m_box_item_values\u001b[0m\u001b[1;33m(\u001b[0m\u001b[0mitem\u001b[0m\u001b[1;33m,\u001b[0m \u001b[0mvalues\u001b[0m\u001b[1;33m)\u001b[0m\u001b[1;33m\u001b[0m\u001b[0m\n\u001b[0;32m   1844\u001b[0m             \u001b[0mcache\u001b[0m\u001b[1;33m[\u001b[0m\u001b[0mitem\u001b[0m\u001b[1;33m]\u001b[0m \u001b[1;33m=\u001b[0m \u001b[0mres\u001b[0m\u001b[1;33m\u001b[0m\u001b[0m\n",
      "\u001b[1;32m~\\AppData\\Roaming\\Python\\Python36\\site-packages\\pandas\\core\\internals.py\u001b[0m in \u001b[0;36mget\u001b[1;34m(self, item, fastpath)\u001b[0m\n\u001b[0;32m   3836\u001b[0m \u001b[1;33m\u001b[0m\u001b[0m\n\u001b[0;32m   3837\u001b[0m             \u001b[1;32mif\u001b[0m \u001b[1;32mnot\u001b[0m \u001b[0misna\u001b[0m\u001b[1;33m(\u001b[0m\u001b[0mitem\u001b[0m\u001b[1;33m)\u001b[0m\u001b[1;33m:\u001b[0m\u001b[1;33m\u001b[0m\u001b[0m\n\u001b[1;32m-> 3838\u001b[1;33m                 \u001b[0mloc\u001b[0m \u001b[1;33m=\u001b[0m \u001b[0mself\u001b[0m\u001b[1;33m.\u001b[0m\u001b[0mitems\u001b[0m\u001b[1;33m.\u001b[0m\u001b[0mget_loc\u001b[0m\u001b[1;33m(\u001b[0m\u001b[0mitem\u001b[0m\u001b[1;33m)\u001b[0m\u001b[1;33m\u001b[0m\u001b[0m\n\u001b[0m\u001b[0;32m   3839\u001b[0m             \u001b[1;32melse\u001b[0m\u001b[1;33m:\u001b[0m\u001b[1;33m\u001b[0m\u001b[0m\n\u001b[0;32m   3840\u001b[0m                 \u001b[0mindexer\u001b[0m \u001b[1;33m=\u001b[0m \u001b[0mnp\u001b[0m\u001b[1;33m.\u001b[0m\u001b[0marange\u001b[0m\u001b[1;33m(\u001b[0m\u001b[0mlen\u001b[0m\u001b[1;33m(\u001b[0m\u001b[0mself\u001b[0m\u001b[1;33m.\u001b[0m\u001b[0mitems\u001b[0m\u001b[1;33m)\u001b[0m\u001b[1;33m)\u001b[0m\u001b[1;33m[\u001b[0m\u001b[0misna\u001b[0m\u001b[1;33m(\u001b[0m\u001b[0mself\u001b[0m\u001b[1;33m.\u001b[0m\u001b[0mitems\u001b[0m\u001b[1;33m)\u001b[0m\u001b[1;33m]\u001b[0m\u001b[1;33m\u001b[0m\u001b[0m\n",
      "\u001b[1;32m~\\AppData\\Roaming\\Python\\Python36\\site-packages\\pandas\\core\\indexes\\base.py\u001b[0m in \u001b[0;36mget_loc\u001b[1;34m(self, key, method, tolerance)\u001b[0m\n\u001b[0;32m   2522\u001b[0m                 \u001b[1;32mreturn\u001b[0m \u001b[0mself\u001b[0m\u001b[1;33m.\u001b[0m\u001b[0m_engine\u001b[0m\u001b[1;33m.\u001b[0m\u001b[0mget_loc\u001b[0m\u001b[1;33m(\u001b[0m\u001b[0mkey\u001b[0m\u001b[1;33m)\u001b[0m\u001b[1;33m\u001b[0m\u001b[0m\n\u001b[0;32m   2523\u001b[0m             \u001b[1;32mexcept\u001b[0m \u001b[0mKeyError\u001b[0m\u001b[1;33m:\u001b[0m\u001b[1;33m\u001b[0m\u001b[0m\n\u001b[1;32m-> 2524\u001b[1;33m                 \u001b[1;32mreturn\u001b[0m \u001b[0mself\u001b[0m\u001b[1;33m.\u001b[0m\u001b[0m_engine\u001b[0m\u001b[1;33m.\u001b[0m\u001b[0mget_loc\u001b[0m\u001b[1;33m(\u001b[0m\u001b[0mself\u001b[0m\u001b[1;33m.\u001b[0m\u001b[0m_maybe_cast_indexer\u001b[0m\u001b[1;33m(\u001b[0m\u001b[0mkey\u001b[0m\u001b[1;33m)\u001b[0m\u001b[1;33m)\u001b[0m\u001b[1;33m\u001b[0m\u001b[0m\n\u001b[0m\u001b[0;32m   2525\u001b[0m \u001b[1;33m\u001b[0m\u001b[0m\n\u001b[0;32m   2526\u001b[0m         \u001b[0mindexer\u001b[0m \u001b[1;33m=\u001b[0m \u001b[0mself\u001b[0m\u001b[1;33m.\u001b[0m\u001b[0mget_indexer\u001b[0m\u001b[1;33m(\u001b[0m\u001b[1;33m[\u001b[0m\u001b[0mkey\u001b[0m\u001b[1;33m]\u001b[0m\u001b[1;33m,\u001b[0m \u001b[0mmethod\u001b[0m\u001b[1;33m=\u001b[0m\u001b[0mmethod\u001b[0m\u001b[1;33m,\u001b[0m \u001b[0mtolerance\u001b[0m\u001b[1;33m=\u001b[0m\u001b[0mtolerance\u001b[0m\u001b[1;33m)\u001b[0m\u001b[1;33m\u001b[0m\u001b[0m\n",
      "\u001b[1;32mpandas\\_libs\\index.pyx\u001b[0m in \u001b[0;36mpandas._libs.index.IndexEngine.get_loc\u001b[1;34m()\u001b[0m\n",
      "\u001b[1;32mpandas\\_libs\\index.pyx\u001b[0m in \u001b[0;36mpandas._libs.index.IndexEngine.get_loc\u001b[1;34m()\u001b[0m\n",
      "\u001b[1;32mpandas\\_libs\\hashtable_class_helper.pxi\u001b[0m in \u001b[0;36mpandas._libs.hashtable.PyObjectHashTable.get_item\u001b[1;34m()\u001b[0m\n",
      "\u001b[1;32mpandas\\_libs\\hashtable_class_helper.pxi\u001b[0m in \u001b[0;36mpandas._libs.hashtable.PyObjectHashTable.get_item\u001b[1;34m()\u001b[0m\n",
      "\u001b[1;31mKeyError\u001b[0m: 'top20_num_lag'"
     ]
    },
    {
     "data": {
      "text/plain": [
       "<matplotlib.figure.Figure at 0x2669b7d39b0>"
      ]
     },
     "metadata": {},
     "output_type": "display_data"
    },
    {
     "data": {
      "text/plain": [
       "<matplotlib.figure.Figure at 0x2669b7d37f0>"
      ]
     },
     "metadata": {},
     "output_type": "display_data"
    },
    {
     "data": {
      "text/plain": [
       "<matplotlib.figure.Figure at 0x2669b7d3278>"
      ]
     },
     "metadata": {},
     "output_type": "display_data"
    },
    {
     "data": {
      "text/plain": [
       "<matplotlib.figure.Figure at 0x26697e4ddd8>"
      ]
     },
     "metadata": {},
     "output_type": "display_data"
    },
    {
     "data": {
      "text/plain": [
       "<matplotlib.figure.Figure at 0x26697c0dba8>"
      ]
     },
     "metadata": {},
     "output_type": "display_data"
    },
    {
     "data": {
      "text/plain": [
       "<matplotlib.figure.Figure at 0x26697a7f470>"
      ]
     },
     "metadata": {},
     "output_type": "display_data"
    },
    {
     "data": {
      "text/plain": [
       "<matplotlib.figure.Figure at 0x26697c0da58>"
      ]
     },
     "metadata": {},
     "output_type": "display_data"
    },
    {
     "data": {
      "text/plain": [
       "<matplotlib.figure.Figure at 0x26697afd780>"
      ]
     },
     "metadata": {},
     "output_type": "display_data"
    },
    {
     "data": {
      "text/plain": [
       "<matplotlib.figure.Figure at 0x26693265748>"
      ]
     },
     "metadata": {},
     "output_type": "display_data"
    },
    {
     "data": {
      "text/plain": [
       "<matplotlib.figure.Figure at 0x26693242710>"
      ]
     },
     "metadata": {},
     "output_type": "display_data"
    },
    {
     "data": {
      "text/plain": [
       "<matplotlib.figure.Figure at 0x26697c576d8>"
      ]
     },
     "metadata": {},
     "output_type": "display_data"
    },
    {
     "data": {
      "text/plain": [
       "<matplotlib.figure.Figure at 0x2669318e9e8>"
      ]
     },
     "metadata": {},
     "output_type": "display_data"
    },
    {
     "data": {
      "text/plain": [
       "<matplotlib.figure.Figure at 0x26697098eb8>"
      ]
     },
     "metadata": {},
     "output_type": "display_data"
    },
    {
     "data": {
      "text/plain": [
       "<matplotlib.figure.Figure at 0x26693205c88>"
      ]
     },
     "metadata": {},
     "output_type": "display_data"
    },
    {
     "data": {
      "text/plain": [
       "<matplotlib.figure.Figure at 0x26692fcb860>"
      ]
     },
     "metadata": {},
     "output_type": "display_data"
    },
    {
     "data": {
      "text/plain": [
       "<matplotlib.figure.Figure at 0x2669318e9b0>"
      ]
     },
     "metadata": {},
     "output_type": "display_data"
    },
    {
     "data": {
      "text/plain": [
       "<matplotlib.figure.Figure at 0x2669a3edef0>"
      ]
     },
     "metadata": {},
     "output_type": "display_data"
    },
    {
     "data": {
      "text/plain": [
       "<matplotlib.figure.Figure at 0x26697e7d908>"
      ]
     },
     "metadata": {},
     "output_type": "display_data"
    },
    {
     "data": {
      "text/plain": [
       "<matplotlib.figure.Figure at 0x266933a0e48>"
      ]
     },
     "metadata": {},
     "output_type": "display_data"
    },
    {
     "data": {
      "text/plain": [
       "<matplotlib.figure.Figure at 0x26697a98e48>"
      ]
     },
     "metadata": {},
     "output_type": "display_data"
    },
    {
     "data": {
      "text/plain": [
       "<matplotlib.figure.Figure at 0x26697bec320>"
      ]
     },
     "metadata": {},
     "output_type": "display_data"
    },
    {
     "data": {
      "text/plain": [
       "<matplotlib.figure.Figure at 0x26697dc79e8>"
      ]
     },
     "metadata": {},
     "output_type": "display_data"
    },
    {
     "data": {
      "text/plain": [
       "<matplotlib.figure.Figure at 0x2669b7f2390>"
      ]
     },
     "metadata": {},
     "output_type": "display_data"
    },
    {
     "data": {
      "text/plain": [
       "<matplotlib.figure.Figure at 0x26697bc9c18>"
      ]
     },
     "metadata": {},
     "output_type": "display_data"
    },
    {
     "data": {
      "text/plain": [
       "<matplotlib.figure.Figure at 0x26692fff1d0>"
      ]
     },
     "metadata": {},
     "output_type": "display_data"
    },
    {
     "data": {
      "text/plain": [
       "<matplotlib.figure.Figure at 0x266979d8358>"
      ]
     },
     "metadata": {},
     "output_type": "display_data"
    },
    {
     "data": {
      "text/plain": [
       "<matplotlib.figure.Figure at 0x26693159630>"
      ]
     },
     "metadata": {},
     "output_type": "display_data"
    },
    {
     "data": {
      "text/plain": [
       "<matplotlib.figure.Figure at 0x26697b42400>"
      ]
     },
     "metadata": {},
     "output_type": "display_data"
    },
    {
     "data": {
      "text/plain": [
       "<matplotlib.figure.Figure at 0x26693212e48>"
      ]
     },
     "metadata": {},
     "output_type": "display_data"
    },
    {
     "data": {
      "text/plain": [
       "<matplotlib.figure.Figure at 0x26693192588>"
      ]
     },
     "metadata": {},
     "output_type": "display_data"
    },
    {
     "data": {
      "text/plain": [
       "<matplotlib.figure.Figure at 0x2669b79bfd0>"
      ]
     },
     "metadata": {},
     "output_type": "display_data"
    },
    {
     "data": {
      "text/plain": [
       "<matplotlib.figure.Figure at 0x26697e01c88>"
      ]
     },
     "metadata": {},
     "output_type": "display_data"
    },
    {
     "data": {
      "text/plain": [
       "<matplotlib.figure.Figure at 0x26693131320>"
      ]
     },
     "metadata": {},
     "output_type": "display_data"
    },
    {
     "data": {
      "text/plain": [
       "<matplotlib.figure.Figure at 0x26697a557b8>"
      ]
     },
     "metadata": {},
     "output_type": "display_data"
    },
    {
     "data": {
      "text/plain": [
       "<matplotlib.figure.Figure at 0x26697bb5860>"
      ]
     },
     "metadata": {},
     "output_type": "display_data"
    },
    {
     "data": {
      "text/plain": [
       "<matplotlib.figure.Figure at 0x26689745048>"
      ]
     },
     "metadata": {},
     "output_type": "display_data"
    },
    {
     "data": {
      "text/plain": [
       "<matplotlib.figure.Figure at 0x266979d8128>"
      ]
     },
     "metadata": {},
     "output_type": "display_data"
    },
    {
     "data": {
      "text/plain": [
       "<matplotlib.figure.Figure at 0x2669b7ff320>"
      ]
     },
     "metadata": {},
     "output_type": "display_data"
    },
    {
     "data": {
      "text/plain": [
       "<matplotlib.figure.Figure at 0x266931fd780>"
      ]
     },
     "metadata": {},
     "output_type": "display_data"
    },
    {
     "data": {
      "text/plain": [
       "<matplotlib.figure.Figure at 0x266979e4860>"
      ]
     },
     "metadata": {},
     "output_type": "display_data"
    },
    {
     "data": {
      "text/plain": [
       "<matplotlib.figure.Figure at 0x2669314c828>"
      ]
     },
     "metadata": {},
     "output_type": "display_data"
    },
    {
     "data": {
      "text/plain": [
       "<matplotlib.figure.Figure at 0x2669a350128>"
      ]
     },
     "metadata": {},
     "output_type": "display_data"
    },
    {
     "data": {
      "text/plain": [
       "<matplotlib.figure.Figure at 0x2669315fe48>"
      ]
     },
     "metadata": {},
     "output_type": "display_data"
    },
    {
     "data": {
      "text/plain": [
       "<matplotlib.figure.Figure at 0x26693228240>"
      ]
     },
     "metadata": {},
     "output_type": "display_data"
    },
    {
     "data": {
      "text/plain": [
       "<matplotlib.figure.Figure at 0x266932b28d0>"
      ]
     },
     "metadata": {},
     "output_type": "display_data"
    },
    {
     "data": {
      "text/plain": [
       "<matplotlib.figure.Figure at 0x26697a8bd30>"
      ]
     },
     "metadata": {},
     "output_type": "display_data"
    },
    {
     "data": {
      "text/plain": [
       "<matplotlib.figure.Figure at 0x266982fed30>"
      ]
     },
     "metadata": {},
     "output_type": "display_data"
    },
    {
     "data": {
      "text/plain": [
       "<matplotlib.figure.Figure at 0x26697997128>"
      ]
     },
     "metadata": {},
     "output_type": "display_data"
    },
    {
     "data": {
      "text/plain": [
       "<matplotlib.figure.Figure at 0x266930027f0>"
      ]
     },
     "metadata": {},
     "output_type": "display_data"
    },
    {
     "data": {
      "text/plain": [
       "<matplotlib.figure.Figure at 0x266982e1d30>"
      ]
     },
     "metadata": {},
     "output_type": "display_data"
    },
    {
     "data": {
      "text/plain": [
       "<matplotlib.figure.Figure at 0x26697a55be0>"
      ]
     },
     "metadata": {},
     "output_type": "display_data"
    },
    {
     "data": {
      "text/plain": [
       "<matplotlib.figure.Figure at 0x266932a3940>"
      ]
     },
     "metadata": {},
     "output_type": "display_data"
    },
    {
     "data": {
      "text/plain": [
       "<matplotlib.figure.Figure at 0x26697d5ab38>"
      ]
     },
     "metadata": {},
     "output_type": "display_data"
    },
    {
     "data": {
      "text/plain": [
       "<matplotlib.figure.Figure at 0x26697b65208>"
      ]
     },
     "metadata": {},
     "output_type": "display_data"
    },
    {
     "data": {
      "text/plain": [
       "<matplotlib.figure.Figure at 0x266970a7278>"
      ]
     },
     "metadata": {},
     "output_type": "display_data"
    },
    {
     "data": {
      "text/plain": [
       "<matplotlib.figure.Figure at 0x26697dc13c8>"
      ]
     },
     "metadata": {},
     "output_type": "display_data"
    },
    {
     "data": {
      "text/plain": [
       "<matplotlib.figure.Figure at 0x2669b812f98>"
      ]
     },
     "metadata": {},
     "output_type": "display_data"
    },
    {
     "data": {
      "text/plain": [
       "<matplotlib.figure.Figure at 0x26692d1c128>"
      ]
     },
     "metadata": {},
     "output_type": "display_data"
    },
    {
     "data": {
      "text/plain": [
       "<matplotlib.figure.Figure at 0x26697ddbd68>"
      ]
     },
     "metadata": {},
     "output_type": "display_data"
    },
    {
     "data": {
      "text/plain": [
       "<matplotlib.figure.Figure at 0x2669323c978>"
      ]
     },
     "metadata": {},
     "output_type": "display_data"
    },
    {
     "data": {
      "text/plain": [
       "<matplotlib.figure.Figure at 0x266932b2c88>"
      ]
     },
     "metadata": {},
     "output_type": "display_data"
    },
    {
     "data": {
      "text/plain": [
       "<matplotlib.figure.Figure at 0x2668d4f1470>"
      ]
     },
     "metadata": {},
     "output_type": "display_data"
    },
    {
     "data": {
      "text/plain": [
       "<matplotlib.figure.Figure at 0x2668d6625c0>"
      ]
     },
     "metadata": {},
     "output_type": "display_data"
    },
    {
     "data": {
      "text/plain": [
       "<matplotlib.figure.Figure at 0x266933c7f60>"
      ]
     },
     "metadata": {},
     "output_type": "display_data"
    },
    {
     "data": {
      "text/plain": [
       "<matplotlib.figure.Figure at 0x26692fde400>"
      ]
     },
     "metadata": {},
     "output_type": "display_data"
    },
    {
     "data": {
      "text/plain": [
       "<matplotlib.figure.Figure at 0x2669b7e8f28>"
      ]
     },
     "metadata": {},
     "output_type": "display_data"
    },
    {
     "data": {
      "text/plain": [
       "<matplotlib.figure.Figure at 0x2669b7e4eb8>"
      ]
     },
     "metadata": {},
     "output_type": "display_data"
    },
    {
     "data": {
      "text/plain": [
       "<matplotlib.figure.Figure at 0x26697e30710>"
      ]
     },
     "metadata": {},
     "output_type": "display_data"
    },
    {
     "data": {
      "text/plain": [
       "<matplotlib.figure.Figure at 0x26697a87710>"
      ]
     },
     "metadata": {},
     "output_type": "display_data"
    },
    {
     "data": {
      "text/plain": [
       "<matplotlib.figure.Figure at 0x26697b1dfd0>"
      ]
     },
     "metadata": {},
     "output_type": "display_data"
    },
    {
     "data": {
      "text/plain": [
       "<matplotlib.figure.Figure at 0x26697b50d30>"
      ]
     },
     "metadata": {},
     "output_type": "display_data"
    },
    {
     "data": {
      "text/plain": [
       "<matplotlib.figure.Figure at 0x26693228e80>"
      ]
     },
     "metadata": {},
     "output_type": "display_data"
    },
    {
     "data": {
      "text/plain": [
       "<matplotlib.figure.Figure at 0x26697ddb470>"
      ]
     },
     "metadata": {},
     "output_type": "display_data"
    },
    {
     "data": {
      "text/plain": [
       "<matplotlib.figure.Figure at 0x26697d48940>"
      ]
     },
     "metadata": {},
     "output_type": "display_data"
    },
    {
     "data": {
      "text/plain": [
       "<matplotlib.figure.Figure at 0x2669332ef28>"
      ]
     },
     "metadata": {},
     "output_type": "display_data"
    },
    {
     "data": {
      "text/plain": [
       "<matplotlib.figure.Figure at 0x26697d5a5c0>"
      ]
     },
     "metadata": {},
     "output_type": "display_data"
    },
    {
     "data": {
      "text/plain": [
       "<matplotlib.figure.Figure at 0x2669a3ed3c8>"
      ]
     },
     "metadata": {},
     "output_type": "display_data"
    },
    {
     "data": {
      "text/plain": [
       "<matplotlib.figure.Figure at 0x26697a2c0b8>"
      ]
     },
     "metadata": {},
     "output_type": "display_data"
    },
    {
     "data": {
      "text/plain": [
       "<matplotlib.figure.Figure at 0x26697976400>"
      ]
     },
     "metadata": {},
     "output_type": "display_data"
    },
    {
     "data": {
      "text/plain": [
       "<matplotlib.figure.Figure at 0x2668d856828>"
      ]
     },
     "metadata": {},
     "output_type": "display_data"
    },
    {
     "data": {
      "text/plain": [
       "<matplotlib.figure.Figure at 0x26693131358>"
      ]
     },
     "metadata": {},
     "output_type": "display_data"
    },
    {
     "data": {
      "text/plain": [
       "<matplotlib.figure.Figure at 0x2669a326470>"
      ]
     },
     "metadata": {},
     "output_type": "display_data"
    },
    {
     "data": {
      "text/plain": [
       "<matplotlib.figure.Figure at 0x26697a8ac50>"
      ]
     },
     "metadata": {},
     "output_type": "display_data"
    },
    {
     "data": {
      "text/plain": [
       "<matplotlib.figure.Figure at 0x26693398048>"
      ]
     },
     "metadata": {},
     "output_type": "display_data"
    },
    {
     "data": {
      "text/plain": [
       "<matplotlib.figure.Figure at 0x26697a4e908>"
      ]
     },
     "metadata": {},
     "output_type": "display_data"
    },
    {
     "data": {
      "text/plain": [
       "<matplotlib.figure.Figure at 0x26697c08278>"
      ]
     },
     "metadata": {},
     "output_type": "display_data"
    },
    {
     "data": {
      "text/plain": [
       "<matplotlib.figure.Figure at 0x266979ecb70>"
      ]
     },
     "metadata": {},
     "output_type": "display_data"
    },
    {
     "data": {
      "text/plain": [
       "<matplotlib.figure.Figure at 0x26693129a20>"
      ]
     },
     "metadata": {},
     "output_type": "display_data"
    },
    {
     "data": {
      "text/plain": [
       "<matplotlib.figure.Figure at 0x266a2be87b8>"
      ]
     },
     "metadata": {},
     "output_type": "display_data"
    },
    {
     "data": {
      "text/plain": [
       "<matplotlib.figure.Figure at 0x2669a3d0358>"
      ]
     },
     "metadata": {},
     "output_type": "display_data"
    },
    {
     "data": {
      "text/plain": [
       "<matplotlib.figure.Figure at 0x266910ceeb8>"
      ]
     },
     "metadata": {},
     "output_type": "display_data"
    },
    {
     "data": {
      "text/plain": [
       "<matplotlib.figure.Figure at 0x266910dde48>"
      ]
     },
     "metadata": {},
     "output_type": "display_data"
    },
    {
     "data": {
      "text/plain": [
       "<matplotlib.figure.Figure at 0x2669b80deb8>"
      ]
     },
     "metadata": {},
     "output_type": "display_data"
    },
    {
     "data": {
      "text/plain": [
       "<matplotlib.figure.Figure at 0x266a2be8da0>"
      ]
     },
     "metadata": {},
     "output_type": "display_data"
    },
    {
     "data": {
      "text/plain": [
       "<matplotlib.figure.Figure at 0x2669b7e8a90>"
      ]
     },
     "metadata": {},
     "output_type": "display_data"
    },
    {
     "data": {
      "text/plain": [
       "<matplotlib.figure.Figure at 0x26697b72630>"
      ]
     },
     "metadata": {},
     "output_type": "display_data"
    },
    {
     "data": {
      "text/plain": [
       "<matplotlib.figure.Figure at 0x266933d5208>"
      ]
     },
     "metadata": {},
     "output_type": "display_data"
    },
    {
     "data": {
      "text/plain": [
       "<matplotlib.figure.Figure at 0x26697aef4a8>"
      ]
     },
     "metadata": {},
     "output_type": "display_data"
    },
    {
     "data": {
      "text/plain": [
       "<matplotlib.figure.Figure at 0x2669a30a898>"
      ]
     },
     "metadata": {},
     "output_type": "display_data"
    },
    {
     "data": {
      "text/plain": [
       "<matplotlib.figure.Figure at 0x2668d856080>"
      ]
     },
     "metadata": {},
     "output_type": "display_data"
    },
    {
     "data": {
      "text/plain": [
       "<matplotlib.figure.Figure at 0x26697c5c898>"
      ]
     },
     "metadata": {},
     "output_type": "display_data"
    },
    {
     "data": {
      "text/plain": [
       "<matplotlib.figure.Figure at 0x266982bfeb8>"
      ]
     },
     "metadata": {},
     "output_type": "display_data"
    },
    {
     "data": {
      "text/plain": [
       "<matplotlib.figure.Figure at 0x26692fb9208>"
      ]
     },
     "metadata": {},
     "output_type": "display_data"
    },
    {
     "data": {
      "text/plain": [
       "<matplotlib.figure.Figure at 0x266911e15f8>"
      ]
     },
     "metadata": {},
     "output_type": "display_data"
    },
    {
     "data": {
      "text/plain": [
       "<matplotlib.figure.Figure at 0x266970ac6d8>"
      ]
     },
     "metadata": {},
     "output_type": "display_data"
    },
    {
     "data": {
      "text/plain": [
       "<matplotlib.figure.Figure at 0x266932f0400>"
      ]
     },
     "metadata": {},
     "output_type": "display_data"
    },
    {
     "data": {
      "text/plain": [
       "<matplotlib.figure.Figure at 0x26697c57390>"
      ]
     },
     "metadata": {},
     "output_type": "display_data"
    },
    {
     "data": {
      "text/plain": [
       "<matplotlib.figure.Figure at 0x26692d19b00>"
      ]
     },
     "metadata": {},
     "output_type": "display_data"
    },
    {
     "data": {
      "text/plain": [
       "<matplotlib.figure.Figure at 0x2668d84cb38>"
      ]
     },
     "metadata": {},
     "output_type": "display_data"
    },
    {
     "data": {
      "text/plain": [
       "<matplotlib.figure.Figure at 0x2669a315438>"
      ]
     },
     "metadata": {},
     "output_type": "display_data"
    },
    {
     "data": {
      "text/plain": [
       "<matplotlib.figure.Figure at 0x266970adeb8>"
      ]
     },
     "metadata": {},
     "output_type": "display_data"
    },
    {
     "data": {
      "text/plain": [
       "<matplotlib.figure.Figure at 0x266a2bc5da0>"
      ]
     },
     "metadata": {},
     "output_type": "display_data"
    },
    {
     "data": {
      "text/plain": [
       "<matplotlib.figure.Figure at 0x2668d4d6eb8>"
      ]
     },
     "metadata": {},
     "output_type": "display_data"
    },
    {
     "data": {
      "text/plain": [
       "<matplotlib.figure.Figure at 0x2668d671ef0>"
      ]
     },
     "metadata": {},
     "output_type": "display_data"
    },
    {
     "data": {
      "text/plain": [
       "<matplotlib.figure.Figure at 0x266970a5d30>"
      ]
     },
     "metadata": {},
     "output_type": "display_data"
    },
    {
     "data": {
      "text/plain": [
       "<matplotlib.figure.Figure at 0x2668fab49e8>"
      ]
     },
     "metadata": {},
     "output_type": "display_data"
    },
    {
     "data": {
      "text/plain": [
       "<matplotlib.figure.Figure at 0x2668face0b8>"
      ]
     },
     "metadata": {},
     "output_type": "display_data"
    },
    {
     "data": {
      "text/plain": [
       "<matplotlib.figure.Figure at 0x266931317b8>"
      ]
     },
     "metadata": {},
     "output_type": "display_data"
    },
    {
     "data": {
      "text/plain": [
       "<matplotlib.figure.Figure at 0x26697c25080>"
      ]
     },
     "metadata": {},
     "output_type": "display_data"
    },
    {
     "data": {
      "text/plain": [
       "<matplotlib.figure.Figure at 0x26697dc7438>"
      ]
     },
     "metadata": {},
     "output_type": "display_data"
    },
    {
     "data": {
      "text/plain": [
       "<matplotlib.figure.Figure at 0x26697c0dfd0>"
      ]
     },
     "metadata": {},
     "output_type": "display_data"
    },
    {
     "data": {
      "text/plain": [
       "<matplotlib.figure.Figure at 0x26697cb87f0>"
      ]
     },
     "metadata": {},
     "output_type": "display_data"
    },
    {
     "data": {
      "text/plain": [
       "<matplotlib.figure.Figure at 0x266979af6a0>"
      ]
     },
     "metadata": {},
     "output_type": "display_data"
    },
    {
     "data": {
      "text/plain": [
       "<matplotlib.figure.Figure at 0x2668d876c50>"
      ]
     },
     "metadata": {},
     "output_type": "display_data"
    },
    {
     "data": {
      "text/plain": [
       "<matplotlib.figure.Figure at 0x266931f3d68>"
      ]
     },
     "metadata": {},
     "output_type": "display_data"
    },
    {
     "data": {
      "text/plain": [
       "<matplotlib.figure.Figure at 0x266970947b8>"
      ]
     },
     "metadata": {},
     "output_type": "display_data"
    },
    {
     "data": {
      "text/plain": [
       "<matplotlib.figure.Figure at 0x26697b61828>"
      ]
     },
     "metadata": {},
     "output_type": "display_data"
    },
    {
     "data": {
      "text/plain": [
       "<matplotlib.figure.Figure at 0x2668d783828>"
      ]
     },
     "metadata": {},
     "output_type": "display_data"
    },
    {
     "data": {
      "text/plain": [
       "<matplotlib.figure.Figure at 0x2668fb7d8d0>"
      ]
     },
     "metadata": {},
     "output_type": "display_data"
    },
    {
     "data": {
      "text/plain": [
       "<matplotlib.figure.Figure at 0x2668d7425c0>"
      ]
     },
     "metadata": {},
     "output_type": "display_data"
    },
    {
     "data": {
      "text/plain": [
       "<matplotlib.figure.Figure at 0x26697b50f98>"
      ]
     },
     "metadata": {},
     "output_type": "display_data"
    },
    {
     "data": {
      "text/plain": [
       "<matplotlib.figure.Figure at 0x26697e7dc88>"
      ]
     },
     "metadata": {},
     "output_type": "display_data"
    },
    {
     "data": {
      "text/plain": [
       "<matplotlib.figure.Figure at 0x26697b42c18>"
      ]
     },
     "metadata": {},
     "output_type": "display_data"
    },
    {
     "data": {
      "text/plain": [
       "<matplotlib.figure.Figure at 0x26697d07da0>"
      ]
     },
     "metadata": {},
     "output_type": "display_data"
    },
    {
     "data": {
      "text/plain": [
       "<matplotlib.figure.Figure at 0x26697b9c748>"
      ]
     },
     "metadata": {},
     "output_type": "display_data"
    },
    {
     "data": {
      "text/plain": [
       "<matplotlib.figure.Figure at 0x26692fcb128>"
      ]
     },
     "metadata": {},
     "output_type": "display_data"
    },
    {
     "data": {
      "text/plain": [
       "<matplotlib.figure.Figure at 0x266911be828>"
      ]
     },
     "metadata": {},
     "output_type": "display_data"
    },
    {
     "data": {
      "text/plain": [
       "<matplotlib.figure.Figure at 0x2668fab4b38>"
      ]
     },
     "metadata": {},
     "output_type": "display_data"
    },
    {
     "data": {
      "text/plain": [
       "<matplotlib.figure.Figure at 0x2668face6d8>"
      ]
     },
     "metadata": {},
     "output_type": "display_data"
    },
    {
     "data": {
      "text/plain": [
       "<matplotlib.figure.Figure at 0x266a2bcb240>"
      ]
     },
     "metadata": {},
     "output_type": "display_data"
    },
    {
     "data": {
      "text/plain": [
       "<matplotlib.figure.Figure at 0x2668fb51198>"
      ]
     },
     "metadata": {},
     "output_type": "display_data"
    },
    {
     "data": {
      "text/plain": [
       "<matplotlib.figure.Figure at 0x266910ddb70>"
      ]
     },
     "metadata": {},
     "output_type": "display_data"
    },
    {
     "data": {
      "text/plain": [
       "<matplotlib.figure.Figure at 0x2668fadcf28>"
      ]
     },
     "metadata": {},
     "output_type": "display_data"
    },
    {
     "data": {
      "text/plain": [
       "<matplotlib.figure.Figure at 0x2668fbc36a0>"
      ]
     },
     "metadata": {},
     "output_type": "display_data"
    },
    {
     "data": {
      "text/plain": [
       "<matplotlib.figure.Figure at 0x2669b7e40b8>"
      ]
     },
     "metadata": {},
     "output_type": "display_data"
    },
    {
     "data": {
      "text/plain": [
       "<matplotlib.figure.Figure at 0x26693370c18>"
      ]
     },
     "metadata": {},
     "output_type": "display_data"
    },
    {
     "data": {
      "text/plain": [
       "<matplotlib.figure.Figure at 0x26697d07978>"
      ]
     },
     "metadata": {},
     "output_type": "display_data"
    },
    {
     "data": {
      "text/plain": [
       "<matplotlib.figure.Figure at 0x26697bb9ac8>"
      ]
     },
     "metadata": {},
     "output_type": "display_data"
    },
    {
     "data": {
      "text/plain": [
       "<matplotlib.figure.Figure at 0x26697a2c438>"
      ]
     },
     "metadata": {},
     "output_type": "display_data"
    },
    {
     "data": {
      "text/plain": [
       "<matplotlib.figure.Figure at 0x26697b50240>"
      ]
     },
     "metadata": {},
     "output_type": "display_data"
    },
    {
     "data": {
      "text/plain": [
       "<matplotlib.figure.Figure at 0x26692faa3c8>"
      ]
     },
     "metadata": {},
     "output_type": "display_data"
    },
    {
     "data": {
      "text/plain": [
       "<matplotlib.figure.Figure at 0x266931e72b0>"
      ]
     },
     "metadata": {},
     "output_type": "display_data"
    },
    {
     "data": {
      "text/plain": [
       "<matplotlib.figure.Figure at 0x26692fd0ac8>"
      ]
     },
     "metadata": {},
     "output_type": "display_data"
    },
    {
     "data": {
      "text/plain": [
       "<matplotlib.figure.Figure at 0x266901b43c8>"
      ]
     },
     "metadata": {},
     "output_type": "display_data"
    },
    {
     "data": {
      "text/plain": [
       "<matplotlib.figure.Figure at 0x266901cc828>"
      ]
     },
     "metadata": {},
     "output_type": "display_data"
    },
    {
     "data": {
      "text/plain": [
       "<matplotlib.figure.Figure at 0x26697cd3ba8>"
      ]
     },
     "metadata": {},
     "output_type": "display_data"
    },
    {
     "data": {
      "text/plain": [
       "<matplotlib.figure.Figure at 0x2668d742390>"
      ]
     },
     "metadata": {},
     "output_type": "display_data"
    },
    {
     "data": {
      "text/plain": [
       "<matplotlib.figure.Figure at 0x266932f04e0>"
      ]
     },
     "metadata": {},
     "output_type": "display_data"
    },
    {
     "data": {
      "text/plain": [
       "<matplotlib.figure.Figure at 0x266970ad278>"
      ]
     },
     "metadata": {},
     "output_type": "display_data"
    },
    {
     "data": {
      "text/plain": [
       "<matplotlib.figure.Figure at 0x26697bb91d0>"
      ]
     },
     "metadata": {},
     "output_type": "display_data"
    },
    {
     "data": {
      "text/plain": [
       "<matplotlib.figure.Figure at 0x266933184e0>"
      ]
     },
     "metadata": {},
     "output_type": "display_data"
    },
    {
     "data": {
      "text/plain": [
       "<matplotlib.figure.Figure at 0x266911beba8>"
      ]
     },
     "metadata": {},
     "output_type": "display_data"
    },
    {
     "data": {
      "text/plain": [
       "<matplotlib.figure.Figure at 0x2668faf2cf8>"
      ]
     },
     "metadata": {},
     "output_type": "display_data"
    },
    {
     "data": {
      "text/plain": [
       "<matplotlib.figure.Figure at 0x2669120e208>"
      ]
     },
     "metadata": {},
     "output_type": "display_data"
    },
    {
     "data": {
      "text/plain": [
       "<matplotlib.figure.Figure at 0x26697a55550>"
      ]
     },
     "metadata": {},
     "output_type": "display_data"
    },
    {
     "data": {
      "text/plain": [
       "<matplotlib.figure.Figure at 0x2669709ff60>"
      ]
     },
     "metadata": {},
     "output_type": "display_data"
    },
    {
     "data": {
      "text/plain": [
       "<matplotlib.figure.Figure at 0x26697ca86d8>"
      ]
     },
     "metadata": {},
     "output_type": "display_data"
    },
    {
     "data": {
      "text/plain": [
       "<matplotlib.figure.Figure at 0x26690f29be0>"
      ]
     },
     "metadata": {},
     "output_type": "display_data"
    },
    {
     "data": {
      "text/plain": [
       "<matplotlib.figure.Figure at 0x26690127940>"
      ]
     },
     "metadata": {},
     "output_type": "display_data"
    },
    {
     "data": {
      "text/plain": [
       "<matplotlib.figure.Figure at 0x2668fab4160>"
      ]
     },
     "metadata": {},
     "output_type": "display_data"
    },
    {
     "data": {
      "text/plain": [
       "<matplotlib.figure.Figure at 0x2669120ed68>"
      ]
     },
     "metadata": {},
     "output_type": "display_data"
    },
    {
     "data": {
      "text/plain": [
       "<matplotlib.figure.Figure at 0x26697dc1198>"
      ]
     },
     "metadata": {},
     "output_type": "display_data"
    },
    {
     "data": {
      "text/plain": [
       "<matplotlib.figure.Figure at 0x26697a16940>"
      ]
     },
     "metadata": {},
     "output_type": "display_data"
    },
    {
     "data": {
      "text/plain": [
       "<matplotlib.figure.Figure at 0x2669325d278>"
      ]
     },
     "metadata": {},
     "output_type": "display_data"
    },
    {
     "data": {
      "text/plain": [
       "<matplotlib.figure.Figure at 0x266932f0940>"
      ]
     },
     "metadata": {},
     "output_type": "display_data"
    },
    {
     "data": {
      "text/plain": [
       "<matplotlib.figure.Figure at 0x26697dcac18>"
      ]
     },
     "metadata": {},
     "output_type": "display_data"
    },
    {
     "data": {
      "text/plain": [
       "<matplotlib.figure.Figure at 0x26697972da0>"
      ]
     },
     "metadata": {},
     "output_type": "display_data"
    },
    {
     "data": {
      "text/plain": [
       "<matplotlib.figure.Figure at 0x2668fad3cc0>"
      ]
     },
     "metadata": {},
     "output_type": "display_data"
    },
    {
     "data": {
      "text/plain": [
       "<matplotlib.figure.Figure at 0x266970945c0>"
      ]
     },
     "metadata": {},
     "output_type": "display_data"
    },
    {
     "data": {
      "text/plain": [
       "<matplotlib.figure.Figure at 0x2668d8096d8>"
      ]
     },
     "metadata": {},
     "output_type": "display_data"
    },
    {
     "data": {
      "text/plain": [
       "<matplotlib.figure.Figure at 0x266901e4c50>"
      ]
     },
     "metadata": {},
     "output_type": "display_data"
    },
    {
     "data": {
      "text/plain": [
       "<matplotlib.figure.Figure at 0x26691238c50>"
      ]
     },
     "metadata": {},
     "output_type": "display_data"
    },
    {
     "data": {
      "text/plain": [
       "<matplotlib.figure.Figure at 0x26697990240>"
      ]
     },
     "metadata": {},
     "output_type": "display_data"
    },
    {
     "data": {
      "text/plain": [
       "<matplotlib.figure.Figure at 0x266931b5908>"
      ]
     },
     "metadata": {},
     "output_type": "display_data"
    },
    {
     "data": {
      "text/plain": [
       "<matplotlib.figure.Figure at 0x26697bbac88>"
      ]
     },
     "metadata": {},
     "output_type": "display_data"
    },
    {
     "data": {
      "text/plain": [
       "<matplotlib.figure.Figure at 0x266933cb6d8>"
      ]
     },
     "metadata": {},
     "output_type": "display_data"
    },
    {
     "data": {
      "text/plain": [
       "<matplotlib.figure.Figure at 0x26697a21f98>"
      ]
     },
     "metadata": {},
     "output_type": "display_data"
    },
    {
     "data": {
      "text/plain": [
       "<matplotlib.figure.Figure at 0x26692fde8d0>"
      ]
     },
     "metadata": {},
     "output_type": "display_data"
    },
    {
     "data": {
      "text/plain": [
       "<matplotlib.figure.Figure at 0x26697b2b940>"
      ]
     },
     "metadata": {},
     "output_type": "display_data"
    },
    {
     "data": {
      "text/plain": [
       "<matplotlib.figure.Figure at 0x266931e8a58>"
      ]
     },
     "metadata": {},
     "output_type": "display_data"
    },
    {
     "data": {
      "text/plain": [
       "<matplotlib.figure.Figure at 0x2668fa92ef0>"
      ]
     },
     "metadata": {},
     "output_type": "display_data"
    },
    {
     "data": {
      "text/plain": [
       "<matplotlib.figure.Figure at 0x26697cd59e8>"
      ]
     },
     "metadata": {},
     "output_type": "display_data"
    },
    {
     "data": {
      "text/plain": [
       "<matplotlib.figure.Figure at 0x2668d770278>"
      ]
     },
     "metadata": {},
     "output_type": "display_data"
    },
    {
     "data": {
      "text/plain": [
       "<matplotlib.figure.Figure at 0x2669104b860>"
      ]
     },
     "metadata": {},
     "output_type": "display_data"
    },
    {
     "data": {
      "text/plain": [
       "<matplotlib.figure.Figure at 0x2668d80a4e0>"
      ]
     },
     "metadata": {},
     "output_type": "display_data"
    },
    {
     "data": {
      "text/plain": [
       "<matplotlib.figure.Figure at 0x26697a8bd68>"
      ]
     },
     "metadata": {},
     "output_type": "display_data"
    },
    {
     "data": {
      "text/plain": [
       "<matplotlib.figure.Figure at 0x2669106d5c0>"
      ]
     },
     "metadata": {},
     "output_type": "display_data"
    },
    {
     "data": {
      "text/plain": [
       "<matplotlib.figure.Figure at 0x26697cd3f60>"
      ]
     },
     "metadata": {},
     "output_type": "display_data"
    },
    {
     "data": {
      "text/plain": [
       "<matplotlib.figure.Figure at 0x26697b75320>"
      ]
     },
     "metadata": {},
     "output_type": "display_data"
    },
    {
     "data": {
      "text/plain": [
       "<matplotlib.figure.Figure at 0x26697098e80>"
      ]
     },
     "metadata": {},
     "output_type": "display_data"
    },
    {
     "data": {
      "text/plain": [
       "<matplotlib.figure.Figure at 0x2668d4f1518>"
      ]
     },
     "metadata": {},
     "output_type": "display_data"
    },
    {
     "data": {
      "text/plain": [
       "<matplotlib.figure.Figure at 0x26697a2ca20>"
      ]
     },
     "metadata": {},
     "output_type": "display_data"
    },
    {
     "data": {
      "text/plain": [
       "<matplotlib.figure.Figure at 0x2668fb7d940>"
      ]
     },
     "metadata": {},
     "output_type": "display_data"
    },
    {
     "data": {
      "text/plain": [
       "<matplotlib.figure.Figure at 0x2668d67ca20>"
      ]
     },
     "metadata": {},
     "output_type": "display_data"
    },
    {
     "data": {
      "text/plain": [
       "<matplotlib.figure.Figure at 0x26690f37e80>"
      ]
     },
     "metadata": {},
     "output_type": "display_data"
    },
    {
     "data": {
      "text/plain": [
       "<matplotlib.figure.Figure at 0x2669102f470>"
      ]
     },
     "metadata": {},
     "output_type": "display_data"
    },
    {
     "data": {
      "text/plain": [
       "<matplotlib.figure.Figure at 0x266901fd438>"
      ]
     },
     "metadata": {},
     "output_type": "display_data"
    },
    {
     "data": {
      "text/plain": [
       "<matplotlib.figure.Figure at 0x266931a18d0>"
      ]
     },
     "metadata": {},
     "output_type": "display_data"
    },
    {
     "data": {
      "text/plain": [
       "<matplotlib.figure.Figure at 0x266901aaf98>"
      ]
     },
     "metadata": {},
     "output_type": "display_data"
    },
    {
     "data": {
      "text/plain": [
       "<matplotlib.figure.Figure at 0x2668d811b00>"
      ]
     },
     "metadata": {},
     "output_type": "display_data"
    },
    {
     "data": {
      "text/plain": [
       "<matplotlib.figure.Figure at 0x266911a9e10>"
      ]
     },
     "metadata": {},
     "output_type": "display_data"
    },
    {
     "data": {
      "text/plain": [
       "<matplotlib.figure.Figure at 0x26693333668>"
      ]
     },
     "metadata": {},
     "output_type": "display_data"
    },
    {
     "data": {
      "text/plain": [
       "<matplotlib.figure.Figure at 0x26693398da0>"
      ]
     },
     "metadata": {},
     "output_type": "display_data"
    },
    {
     "data": {
      "text/plain": [
       "<matplotlib.figure.Figure at 0x266982b3e10>"
      ]
     },
     "metadata": {},
     "output_type": "display_data"
    },
    {
     "data": {
      "text/plain": [
       "<matplotlib.figure.Figure at 0x26697d3a390>"
      ]
     },
     "metadata": {},
     "output_type": "display_data"
    },
    {
     "data": {
      "text/plain": [
       "<matplotlib.figure.Figure at 0x26693175400>"
      ]
     },
     "metadata": {},
     "output_type": "display_data"
    },
    {
     "data": {
      "text/plain": [
       "<matplotlib.figure.Figure at 0x26697e639b0>"
      ]
     },
     "metadata": {},
     "output_type": "display_data"
    },
    {
     "data": {
      "text/plain": [
       "<matplotlib.figure.Figure at 0x26691064b00>"
      ]
     },
     "metadata": {},
     "output_type": "display_data"
    },
    {
     "data": {
      "text/plain": [
       "<matplotlib.figure.Figure at 0x2669100db70>"
      ]
     },
     "metadata": {},
     "output_type": "display_data"
    },
    {
     "data": {
      "text/plain": [
       "<matplotlib.figure.Figure at 0x26692bfb940>"
      ]
     },
     "metadata": {},
     "output_type": "display_data"
    },
    {
     "data": {
      "text/plain": [
       "<matplotlib.figure.Figure at 0x26697b61d30>"
      ]
     },
     "metadata": {},
     "output_type": "display_data"
    },
    {
     "data": {
      "text/plain": [
       "<matplotlib.figure.Figure at 0x26690f10780>"
      ]
     },
     "metadata": {},
     "output_type": "display_data"
    },
    {
     "data": {
      "text/plain": [
       "<matplotlib.figure.Figure at 0x2668d770dd8>"
      ]
     },
     "metadata": {},
     "output_type": "display_data"
    },
    {
     "data": {
      "text/plain": [
       "<matplotlib.figure.Figure at 0x2668fb39d68>"
      ]
     },
     "metadata": {},
     "output_type": "display_data"
    },
    {
     "data": {
      "text/plain": [
       "<matplotlib.figure.Figure at 0x2668d81dc50>"
      ]
     },
     "metadata": {},
     "output_type": "display_data"
    },
    {
     "data": {
      "text/plain": [
       "<matplotlib.figure.Figure at 0x266901b4d68>"
      ]
     },
     "metadata": {},
     "output_type": "display_data"
    },
    {
     "data": {
      "text/plain": [
       "<matplotlib.figure.Figure at 0x2669120e940>"
      ]
     },
     "metadata": {},
     "output_type": "display_data"
    },
    {
     "data": {
      "text/plain": [
       "<matplotlib.figure.Figure at 0x26697b3d048>"
      ]
     },
     "metadata": {},
     "output_type": "display_data"
    },
    {
     "data": {
      "text/plain": [
       "<matplotlib.figure.Figure at 0x26697bc0518>"
      ]
     },
     "metadata": {},
     "output_type": "display_data"
    },
    {
     "data": {
      "text/plain": [
       "<matplotlib.figure.Figure at 0x26697d484a8>"
      ]
     },
     "metadata": {},
     "output_type": "display_data"
    },
    {
     "data": {
      "text/plain": [
       "<matplotlib.figure.Figure at 0x26693006630>"
      ]
     },
     "metadata": {},
     "output_type": "display_data"
    },
    {
     "data": {
      "text/plain": [
       "<matplotlib.figure.Figure at 0x2668fb76438>"
      ]
     },
     "metadata": {},
     "output_type": "display_data"
    },
    {
     "data": {
      "text/plain": [
       "<matplotlib.figure.Figure at 0x266910751d0>"
      ]
     },
     "metadata": {},
     "output_type": "display_data"
    },
    {
     "data": {
      "text/plain": [
       "<matplotlib.figure.Figure at 0x26693192c50>"
      ]
     },
     "metadata": {},
     "output_type": "display_data"
    },
    {
     "data": {
      "text/plain": [
       "<matplotlib.figure.Figure at 0x26691a6b9e8>"
      ]
     },
     "metadata": {},
     "output_type": "display_data"
    },
    {
     "data": {
      "text/plain": [
       "<matplotlib.figure.Figure at 0x266a2be87f0>"
      ]
     },
     "metadata": {},
     "output_type": "display_data"
    },
    {
     "data": {
      "text/plain": [
       "<matplotlib.figure.Figure at 0x266979f3588>"
      ]
     },
     "metadata": {},
     "output_type": "display_data"
    },
    {
     "data": {
      "text/plain": [
       "<matplotlib.figure.Figure at 0x266931e7400>"
      ]
     },
     "metadata": {},
     "output_type": "display_data"
    },
    {
     "data": {
      "text/plain": [
       "<matplotlib.figure.Figure at 0x26697a53470>"
      ]
     },
     "metadata": {},
     "output_type": "display_data"
    },
    {
     "data": {
      "text/plain": [
       "<matplotlib.figure.Figure at 0x266911a94e0>"
      ]
     },
     "metadata": {},
     "output_type": "display_data"
    },
    {
     "data": {
      "image/png": "[encoded data removed]",
      "text/plain": [
       "<matplotlib.figure.Figure at 0x2669b7ff390>"
      ]
     },
     "metadata": {},
     "output_type": "display_data"
    }
   ],
   "source": [
    "results, pipeline = ml.main()"
   ]
  },
  {
   "cell_type": "code",
   "execution_count": null,
   "metadata": {
    "collapsed": true
   },
   "outputs": [],
   "source": [
    "print(results)"
   ]
  }
 ],
 "metadata": {
  "kernelspec": {
   "display_name": "Python 3",
   "language": "python",
   "name": "python3"
  },
  "language_info": {
   "codemirror_mode": {
    "name": "ipython",
    "version": 3
   },
   "file_extension": ".py",
   "mimetype": "text/x-python",
   "name": "python",
   "nbconvert_exporter": "python",
   "pygments_lexer": "ipython3",
   "version": "3.6.3"
  }
 },
 "nbformat": 4,
 "nbformat_minor": 2
}
