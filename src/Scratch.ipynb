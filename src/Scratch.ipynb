{
 "cells": [
  {
   "cell_type": "code",
   "execution_count": 1,
   "metadata": {},
   "outputs": [],
   "source": [
    "%load_ext autoreload\n",
    "%autoreload 2\n",
    "%matplotlib inline\n",
    "\n",
    "import ml_utils as ml"
   ]
  },
  {
   "cell_type": "code",
   "execution_count": 20,
   "metadata": {},
   "outputs": [
    {
     "name": "stdout",
     "output_type": "stream",
     "text": [
      "Connected to evictions DB.\n",
      "Set schema to 'evictions'.\n",
      "Set background cursor.\n",
      "Loading chunk....\n",
      "['state_code', 'geo_id', 'year', 'name', 'parent_location', 'population', 'poverty_rate', 'pct_renter_occupied', 'median_gross_rent', 'median_household_income', 'median_property_value', 'rent_burden', 'pct_white', 'pct_af_am', 'pct_hispanic', 'pct_am_ind', 'pct_asian', 'pct_nh_pi', 'pct_multiple', 'pct_other', 'renter_occupied_households', 'eviction_filings', 'evictions', 'eviction_rate', 'eviction_filing_rate', 'imputed', 'subbed', 'state', 'county', 'tract', 'testcol', 'population_pct_change_5yr', 'poverty_rate_pct_change_5yr', 'pct_renter_occupied_pct_change_5yr', 'median_gross_rent_pct_change_5yr', 'median_household_income_pct_change_5yr', 'median_property_value_pct_change_5yr', 'rent_burden_pct_change_5yr', 'pct_white_pct_change_5yr', 'pct_af_am_pct_change_5yr', 'pct_hispanic_pct_change_5yr', 'pct_am_ind_pct_change_5yr', 'pct_asian_pct_change_5yr', 'pct_nh_pi_pct_change_5yr', 'pct_multiple_pct_change_5yr', 'pct_other_pct_change_5yr', 'renter_occupied_households_pct_change_5yr', 'eviction_filings_pct_change_5yr', 'evictions_pct_change_5yr', 'eviction_rate_pct_change_5yr', 'eviction_filing_rate_pct_change_5yr', 'conversion_rate', 'avg_hh_size', 'renter_occupied_households_pct_change_1yr', 'pct_renter_occupied_pct_change_1yr', 'geo_id', 'year', 'top20_num', 'top20_rate', 'top20_num_01', 'top20_rate_01', 'top10_num', 'top10_rate', 'top10_num_01', 'top10_rate_01', 'evictions_inc_10pct_5yr', 'evictions_dec_10pct_5yr', 'evictions_inc_20pct_5yr', 'evictions_dec_20pct_5yr']\n",
      "Chunk loaded.\n",
      "\n",
      "Temporally validating on:\n",
      "Train: 2005-01-01 00:00:00 - 2005-12-31 00:00:00\n",
      "Test: 2006-01-01 00:00:00 - 2006-12-31 00:00:00\n",
      "Prediction window: 12 months\n",
      "\n",
      "2005-01-01 00:00:00\n",
      "Running RF...\n",
      "Running with params {'max_depth': 5, 'max_features': 'sqrt', 'min_samples_split': 10, 'n_estimators': 10}\n",
      "Running with params {'max_depth': 50, 'max_features': 'sqrt', 'min_samples_split': 10, 'n_estimators': 10}\n",
      "RF finished.\n",
      "Running DT...\n",
      "Running with params {'criterion': 'gini', 'max_depth': 5, 'min_samples_split': 2}\n",
      "Source.gv.pdf\n",
      "Running with params {'criterion': 'gini', 'max_depth': 5, 'min_samples_split': 10}\n",
      "Source.gv.pdf\n",
      "Running with params {'criterion': 'gini', 'max_depth': 50, 'min_samples_split': 2}\n",
      "Source.gv.pdf\n",
      "Running with params {'criterion': 'gini', 'max_depth': 50, 'min_samples_split': 10}\n",
      "Source.gv.pdf\n",
      "Running with params {'criterion': 'entropy', 'max_depth': 5, 'min_samples_split': 2}\n",
      "Source.gv.pdf\n",
      "Running with params {'criterion': 'entropy', 'max_depth': 5, 'min_samples_split': 10}\n",
      "Source.gv.pdf\n",
      "Running with params {'criterion': 'entropy', 'max_depth': 50, 'min_samples_split': 2}\n",
      "Source.gv.pdf\n",
      "Running with params {'criterion': 'entropy', 'max_depth': 50, 'min_samples_split': 10}\n",
      "Source.gv.pdf\n",
      "DT finished.\n",
      "\n",
      "Temporally validating on:\n",
      "Train: 2005-01-01 00:00:00 - 2006-12-31 00:00:00\n",
      "Test: 2007-01-01 00:00:00 - 2007-12-31 00:00:00\n",
      "Prediction window: 12 months\n",
      "\n",
      "2005-01-01 00:00:00\n",
      "Running RF...\n",
      "Running with params {'max_depth': 5, 'max_features': 'sqrt', 'min_samples_split': 10, 'n_estimators': 10}\n",
      "Running with params {'max_depth': 50, 'max_features': 'sqrt', 'min_samples_split': 10, 'n_estimators': 10}\n",
      "RF finished.\n",
      "Running DT...\n",
      "Running with params {'criterion': 'gini', 'max_depth': 5, 'min_samples_split': 2}\n",
      "Source.gv.pdf\n",
      "Running with params {'criterion': 'gini', 'max_depth': 5, 'min_samples_split': 10}\n",
      "Source.gv.pdf\n",
      "Running with params {'criterion': 'gini', 'max_depth': 50, 'min_samples_split': 2}\n",
      "Source.gv.pdf\n",
      "Running with params {'criterion': 'gini', 'max_depth': 50, 'min_samples_split': 10}\n",
      "Source.gv.pdf\n",
      "Running with params {'criterion': 'entropy', 'max_depth': 5, 'min_samples_split': 2}\n",
      "Source.gv.pdf\n",
      "Running with params {'criterion': 'entropy', 'max_depth': 5, 'min_samples_split': 10}\n",
      "Source.gv.pdf\n",
      "Running with params {'criterion': 'entropy', 'max_depth': 50, 'min_samples_split': 2}\n",
      "Source.gv.pdf\n",
      "Running with params {'criterion': 'entropy', 'max_depth': 50, 'min_samples_split': 10}\n",
      "Source.gv.pdf\n",
      "DT finished.\n",
      "\n",
      "Temporally validating on:\n",
      "Train: 2005-01-01 00:00:00 - 2007-12-31 00:00:00\n",
      "Test: 2008-01-01 00:00:00 - 2008-12-31 00:00:00\n",
      "Prediction window: 12 months\n",
      "\n"
     ]
    },
    {
     "name": "stderr",
     "output_type": "stream",
     "text": [
      "/usr/local/lib/python3.6/site-packages/matplotlib/pyplot.py:537: RuntimeWarning: More than 20 figures have been opened. Figures created through the pyplot interface (`matplotlib.pyplot.figure`) are retained until explicitly closed and may consume too much memory. (To control this warning, see the rcParam `figure.max_open_warning`).\n",
      "  max_open_warning, RuntimeWarning)\n"
     ]
    },
    {
     "name": "stdout",
     "output_type": "stream",
     "text": [
      "2005-01-01 00:00:00\n",
      "Running RF...\n",
      "Running with params {'max_depth': 5, 'max_features': 'sqrt', 'min_samples_split': 10, 'n_estimators': 10}\n",
      "Running with params {'max_depth': 50, 'max_features': 'sqrt', 'min_samples_split': 10, 'n_estimators': 10}\n"
     ]
    },
    {
     "name": "stderr",
     "output_type": "stream",
     "text": [
      "/usr/local/lib/python3.6/site-packages/matplotlib/pyplot.py:537: RuntimeWarning: More than 20 figures have been opened. Figures created through the pyplot interface (`matplotlib.pyplot.figure`) are retained until explicitly closed and may consume too much memory. (To control this warning, see the rcParam `figure.max_open_warning`).\n",
      "  max_open_warning, RuntimeWarning)\n",
      "/usr/local/lib/python3.6/site-packages/matplotlib/pyplot.py:537: RuntimeWarning: More than 20 figures have been opened. Figures created through the pyplot interface (`matplotlib.pyplot.figure`) are retained until explicitly closed and may consume too much memory. (To control this warning, see the rcParam `figure.max_open_warning`).\n",
      "  max_open_warning, RuntimeWarning)\n"
     ]
    },
    {
     "name": "stdout",
     "output_type": "stream",
     "text": [
      "RF finished.\n",
      "Running DT...\n",
      "Running with params {'criterion': 'gini', 'max_depth': 5, 'min_samples_split': 2}\n",
      "Source.gv.pdf\n",
      "Running with params {'criterion': 'gini', 'max_depth': 5, 'min_samples_split': 10}\n"
     ]
    },
    {
     "name": "stderr",
     "output_type": "stream",
     "text": [
      "/usr/local/lib/python3.6/site-packages/matplotlib/pyplot.py:537: RuntimeWarning: More than 20 figures have been opened. Figures created through the pyplot interface (`matplotlib.pyplot.figure`) are retained until explicitly closed and may consume too much memory. (To control this warning, see the rcParam `figure.max_open_warning`).\n",
      "  max_open_warning, RuntimeWarning)\n"
     ]
    },
    {
     "name": "stdout",
     "output_type": "stream",
     "text": [
      "Source.gv.pdf\n",
      "Running with params {'criterion': 'gini', 'max_depth': 50, 'min_samples_split': 2}\n"
     ]
    },
    {
     "name": "stderr",
     "output_type": "stream",
     "text": [
      "/usr/local/lib/python3.6/site-packages/matplotlib/pyplot.py:537: RuntimeWarning: More than 20 figures have been opened. Figures created through the pyplot interface (`matplotlib.pyplot.figure`) are retained until explicitly closed and may consume too much memory. (To control this warning, see the rcParam `figure.max_open_warning`).\n",
      "  max_open_warning, RuntimeWarning)\n"
     ]
    },
    {
     "name": "stdout",
     "output_type": "stream",
     "text": [
      "Source.gv.pdf\n"
     ]
    },
    {
     "name": "stderr",
     "output_type": "stream",
     "text": [
      "/usr/local/lib/python3.6/site-packages/matplotlib/pyplot.py:537: RuntimeWarning: More than 20 figures have been opened. Figures created through the pyplot interface (`matplotlib.pyplot.figure`) are retained until explicitly closed and may consume too much memory. (To control this warning, see the rcParam `figure.max_open_warning`).\n",
      "  max_open_warning, RuntimeWarning)\n"
     ]
    },
    {
     "name": "stdout",
     "output_type": "stream",
     "text": [
      "Running with params {'criterion': 'gini', 'max_depth': 50, 'min_samples_split': 10}\n",
      "Source.gv.pdf\n",
      "Running with params {'criterion': 'entropy', 'max_depth': 5, 'min_samples_split': 2}\n"
     ]
    },
    {
     "name": "stderr",
     "output_type": "stream",
     "text": [
      "/usr/local/lib/python3.6/site-packages/matplotlib/pyplot.py:537: RuntimeWarning: More than 20 figures have been opened. Figures created through the pyplot interface (`matplotlib.pyplot.figure`) are retained until explicitly closed and may consume too much memory. (To control this warning, see the rcParam `figure.max_open_warning`).\n",
      "  max_open_warning, RuntimeWarning)\n"
     ]
    },
    {
     "name": "stdout",
     "output_type": "stream",
     "text": [
      "Source.gv.pdf\n",
      "Running with params {'criterion': 'entropy', 'max_depth': 5, 'min_samples_split': 10}\n"
     ]
    },
    {
     "name": "stderr",
     "output_type": "stream",
     "text": [
      "/usr/local/lib/python3.6/site-packages/matplotlib/pyplot.py:537: RuntimeWarning: More than 20 figures have been opened. Figures created through the pyplot interface (`matplotlib.pyplot.figure`) are retained until explicitly closed and may consume too much memory. (To control this warning, see the rcParam `figure.max_open_warning`).\n",
      "  max_open_warning, RuntimeWarning)\n"
     ]
    },
    {
     "name": "stdout",
     "output_type": "stream",
     "text": [
      "Source.gv.pdf\n",
      "Running with params {'criterion': 'entropy', 'max_depth': 50, 'min_samples_split': 2}\n"
     ]
    },
    {
     "name": "stderr",
     "output_type": "stream",
     "text": [
      "/usr/local/lib/python3.6/site-packages/matplotlib/pyplot.py:537: RuntimeWarning: More than 20 figures have been opened. Figures created through the pyplot interface (`matplotlib.pyplot.figure`) are retained until explicitly closed and may consume too much memory. (To control this warning, see the rcParam `figure.max_open_warning`).\n",
      "  max_open_warning, RuntimeWarning)\n"
     ]
    },
    {
     "name": "stdout",
     "output_type": "stream",
     "text": [
      "Source.gv.pdf\n",
      "Running with params {'criterion': 'entropy', 'max_depth': 50, 'min_samples_split': 10}\n"
     ]
    },
    {
     "name": "stderr",
     "output_type": "stream",
     "text": [
      "/usr/local/lib/python3.6/site-packages/matplotlib/pyplot.py:537: RuntimeWarning: More than 20 figures have been opened. Figures created through the pyplot interface (`matplotlib.pyplot.figure`) are retained until explicitly closed and may consume too much memory. (To control this warning, see the rcParam `figure.max_open_warning`).\n",
      "  max_open_warning, RuntimeWarning)\n"
     ]
    },
    {
     "name": "stdout",
     "output_type": "stream",
     "text": [
      "Source.gv.pdf\n"
     ]
    },
    {
     "name": "stderr",
     "output_type": "stream",
     "text": [
      "/usr/local/lib/python3.6/site-packages/matplotlib/pyplot.py:537: RuntimeWarning: More than 20 figures have been opened. Figures created through the pyplot interface (`matplotlib.pyplot.figure`) are retained until explicitly closed and may consume too much memory. (To control this warning, see the rcParam `figure.max_open_warning`).\n",
      "  max_open_warning, RuntimeWarning)\n"
     ]
    },
    {
     "name": "stdout",
     "output_type": "stream",
     "text": [
      "DT finished.\n",
      "\n",
      "Temporally validating on:\n",
      "Train: 2005-01-01 00:00:00 - 2008-12-31 00:00:00\n",
      "Test: 2009-01-01 00:00:00 - 2009-12-31 00:00:00\n",
      "Prediction window: 12 months\n",
      "\n",
      "2005-01-01 00:00:00\n",
      "Running RF...\n",
      "Running with params {'max_depth': 5, 'max_features': 'sqrt', 'min_samples_split': 10, 'n_estimators': 10}\n",
      "Running with params {'max_depth': 50, 'max_features': 'sqrt', 'min_samples_split': 10, 'n_estimators': 10}\n"
     ]
    },
    {
     "name": "stderr",
     "output_type": "stream",
     "text": [
      "/usr/local/lib/python3.6/site-packages/matplotlib/pyplot.py:537: RuntimeWarning: More than 20 figures have been opened. Figures created through the pyplot interface (`matplotlib.pyplot.figure`) are retained until explicitly closed and may consume too much memory. (To control this warning, see the rcParam `figure.max_open_warning`).\n",
      "  max_open_warning, RuntimeWarning)\n"
     ]
    },
    {
     "name": "stdout",
     "output_type": "stream",
     "text": [
      "RF finished.\n",
      "Running DT...\n",
      "Running with params {'criterion': 'gini', 'max_depth': 5, 'min_samples_split': 2}\n"
     ]
    },
    {
     "name": "stderr",
     "output_type": "stream",
     "text": [
      "/usr/local/lib/python3.6/site-packages/matplotlib/pyplot.py:537: RuntimeWarning: More than 20 figures have been opened. Figures created through the pyplot interface (`matplotlib.pyplot.figure`) are retained until explicitly closed and may consume too much memory. (To control this warning, see the rcParam `figure.max_open_warning`).\n",
      "  max_open_warning, RuntimeWarning)\n"
     ]
    },
    {
     "name": "stdout",
     "output_type": "stream",
     "text": [
      "Source.gv.pdf\n",
      "Running with params {'criterion': 'gini', 'max_depth': 5, 'min_samples_split': 10}\n"
     ]
    },
    {
     "name": "stderr",
     "output_type": "stream",
     "text": [
      "/usr/local/lib/python3.6/site-packages/matplotlib/pyplot.py:537: RuntimeWarning: More than 20 figures have been opened. Figures created through the pyplot interface (`matplotlib.pyplot.figure`) are retained until explicitly closed and may consume too much memory. (To control this warning, see the rcParam `figure.max_open_warning`).\n",
      "  max_open_warning, RuntimeWarning)\n"
     ]
    },
    {
     "name": "stdout",
     "output_type": "stream",
     "text": [
      "Source.gv.pdf\n",
      "Running with params {'criterion': 'gini', 'max_depth': 50, 'min_samples_split': 2}\n"
     ]
    },
    {
     "name": "stderr",
     "output_type": "stream",
     "text": [
      "/usr/local/lib/python3.6/site-packages/matplotlib/pyplot.py:537: RuntimeWarning: More than 20 figures have been opened. Figures created through the pyplot interface (`matplotlib.pyplot.figure`) are retained until explicitly closed and may consume too much memory. (To control this warning, see the rcParam `figure.max_open_warning`).\n",
      "  max_open_warning, RuntimeWarning)\n"
     ]
    },
    {
     "name": "stdout",
     "output_type": "stream",
     "text": [
      "Source.gv.pdf\n",
      "Running with params {'criterion': 'gini', 'max_depth': 50, 'min_samples_split': 10}\n"
     ]
    },
    {
     "name": "stderr",
     "output_type": "stream",
     "text": [
      "/usr/local/lib/python3.6/site-packages/matplotlib/pyplot.py:537: RuntimeWarning: More than 20 figures have been opened. Figures created through the pyplot interface (`matplotlib.pyplot.figure`) are retained until explicitly closed and may consume too much memory. (To control this warning, see the rcParam `figure.max_open_warning`).\n",
      "  max_open_warning, RuntimeWarning)\n"
     ]
    },
    {
     "name": "stdout",
     "output_type": "stream",
     "text": [
      "Source.gv.pdf\n",
      "Running with params {'criterion': 'entropy', 'max_depth': 5, 'min_samples_split': 2}\n"
     ]
    },
    {
     "name": "stderr",
     "output_type": "stream",
     "text": [
      "/usr/local/lib/python3.6/site-packages/matplotlib/pyplot.py:537: RuntimeWarning: More than 20 figures have been opened. Figures created through the pyplot interface (`matplotlib.pyplot.figure`) are retained until explicitly closed and may consume too much memory. (To control this warning, see the rcParam `figure.max_open_warning`).\n",
      "  max_open_warning, RuntimeWarning)\n"
     ]
    },
    {
     "name": "stdout",
     "output_type": "stream",
     "text": [
      "Source.gv.pdf\n",
      "Running with params {'criterion': 'entropy', 'max_depth': 5, 'min_samples_split': 10}\n"
     ]
    },
    {
     "name": "stderr",
     "output_type": "stream",
     "text": [
      "/usr/local/lib/python3.6/site-packages/matplotlib/pyplot.py:537: RuntimeWarning: More than 20 figures have been opened. Figures created through the pyplot interface (`matplotlib.pyplot.figure`) are retained until explicitly closed and may consume too much memory. (To control this warning, see the rcParam `figure.max_open_warning`).\n",
      "  max_open_warning, RuntimeWarning)\n"
     ]
    },
    {
     "name": "stdout",
     "output_type": "stream",
     "text": [
      "Source.gv.pdf\n",
      "Running with params {'criterion': 'entropy', 'max_depth': 50, 'min_samples_split': 2}\n"
     ]
    },
    {
     "name": "stderr",
     "output_type": "stream",
     "text": [
      "/usr/local/lib/python3.6/site-packages/matplotlib/pyplot.py:537: RuntimeWarning: More than 20 figures have been opened. Figures created through the pyplot interface (`matplotlib.pyplot.figure`) are retained until explicitly closed and may consume too much memory. (To control this warning, see the rcParam `figure.max_open_warning`).\n",
      "  max_open_warning, RuntimeWarning)\n"
     ]
    },
    {
     "name": "stdout",
     "output_type": "stream",
     "text": [
      "Source.gv.pdf\n",
      "Running with params {'criterion': 'entropy', 'max_depth': 50, 'min_samples_split': 10}\n"
     ]
    },
    {
     "name": "stderr",
     "output_type": "stream",
     "text": [
      "/usr/local/lib/python3.6/site-packages/matplotlib/pyplot.py:537: RuntimeWarning: More than 20 figures have been opened. Figures created through the pyplot interface (`matplotlib.pyplot.figure`) are retained until explicitly closed and may consume too much memory. (To control this warning, see the rcParam `figure.max_open_warning`).\n",
      "  max_open_warning, RuntimeWarning)\n"
     ]
    },
    {
     "name": "stdout",
     "output_type": "stream",
     "text": [
      "Source.gv.pdf\n",
      "DT finished.\n",
      "\n",
      "Temporally validating on:\n",
      "Train: 2005-01-01 00:00:00 - 2009-12-31 00:00:00\n",
      "Test: 2010-01-01 00:00:00 - 2010-12-31 00:00:00\n",
      "Prediction window: 12 months\n",
      "\n",
      "2005-01-01 00:00:00\n"
     ]
    },
    {
     "name": "stderr",
     "output_type": "stream",
     "text": [
      "/usr/local/lib/python3.6/site-packages/matplotlib/pyplot.py:537: RuntimeWarning: More than 20 figures have been opened. Figures created through the pyplot interface (`matplotlib.pyplot.figure`) are retained until explicitly closed and may consume too much memory. (To control this warning, see the rcParam `figure.max_open_warning`).\n",
      "  max_open_warning, RuntimeWarning)\n"
     ]
    },
    {
     "name": "stdout",
     "output_type": "stream",
     "text": [
      "Running RF...\n",
      "Running with params {'max_depth': 5, 'max_features': 'sqrt', 'min_samples_split': 10, 'n_estimators': 10}\n",
      "Running with params {'max_depth': 50, 'max_features': 'sqrt', 'min_samples_split': 10, 'n_estimators': 10}\n"
     ]
    },
    {
     "name": "stderr",
     "output_type": "stream",
     "text": [
      "/usr/local/lib/python3.6/site-packages/matplotlib/pyplot.py:537: RuntimeWarning: More than 20 figures have been opened. Figures created through the pyplot interface (`matplotlib.pyplot.figure`) are retained until explicitly closed and may consume too much memory. (To control this warning, see the rcParam `figure.max_open_warning`).\n",
      "  max_open_warning, RuntimeWarning)\n"
     ]
    },
    {
     "name": "stdout",
     "output_type": "stream",
     "text": [
      "RF finished.\n",
      "Running DT...\n",
      "Running with params {'criterion': 'gini', 'max_depth': 5, 'min_samples_split': 2}\n"
     ]
    },
    {
     "name": "stderr",
     "output_type": "stream",
     "text": [
      "/usr/local/lib/python3.6/site-packages/matplotlib/pyplot.py:537: RuntimeWarning: More than 20 figures have been opened. Figures created through the pyplot interface (`matplotlib.pyplot.figure`) are retained until explicitly closed and may consume too much memory. (To control this warning, see the rcParam `figure.max_open_warning`).\n",
      "  max_open_warning, RuntimeWarning)\n"
     ]
    },
    {
     "name": "stdout",
     "output_type": "stream",
     "text": [
      "Source.gv.pdf\n",
      "Running with params {'criterion': 'gini', 'max_depth': 5, 'min_samples_split': 10}\n"
     ]
    },
    {
     "name": "stderr",
     "output_type": "stream",
     "text": [
      "/usr/local/lib/python3.6/site-packages/matplotlib/pyplot.py:537: RuntimeWarning: More than 20 figures have been opened. Figures created through the pyplot interface (`matplotlib.pyplot.figure`) are retained until explicitly closed and may consume too much memory. (To control this warning, see the rcParam `figure.max_open_warning`).\n",
      "  max_open_warning, RuntimeWarning)\n"
     ]
    },
    {
     "name": "stdout",
     "output_type": "stream",
     "text": [
      "Source.gv.pdf\n",
      "Running with params {'criterion': 'gini', 'max_depth': 50, 'min_samples_split': 2}\n"
     ]
    },
    {
     "name": "stderr",
     "output_type": "stream",
     "text": [
      "/usr/local/lib/python3.6/site-packages/matplotlib/pyplot.py:537: RuntimeWarning: More than 20 figures have been opened. Figures created through the pyplot interface (`matplotlib.pyplot.figure`) are retained until explicitly closed and may consume too much memory. (To control this warning, see the rcParam `figure.max_open_warning`).\n",
      "  max_open_warning, RuntimeWarning)\n"
     ]
    },
    {
     "name": "stdout",
     "output_type": "stream",
     "text": [
      "Source.gv.pdf\n",
      "Running with params {'criterion': 'gini', 'max_depth': 50, 'min_samples_split': 10}\n"
     ]
    },
    {
     "name": "stderr",
     "output_type": "stream",
     "text": [
      "/usr/local/lib/python3.6/site-packages/matplotlib/pyplot.py:537: RuntimeWarning: More than 20 figures have been opened. Figures created through the pyplot interface (`matplotlib.pyplot.figure`) are retained until explicitly closed and may consume too much memory. (To control this warning, see the rcParam `figure.max_open_warning`).\n",
      "  max_open_warning, RuntimeWarning)\n"
     ]
    },
    {
     "name": "stdout",
     "output_type": "stream",
     "text": [
      "Source.gv.pdf\n",
      "Running with params {'criterion': 'entropy', 'max_depth': 5, 'min_samples_split': 2}\n"
     ]
    },
    {
     "name": "stderr",
     "output_type": "stream",
     "text": [
      "/usr/local/lib/python3.6/site-packages/matplotlib/pyplot.py:537: RuntimeWarning: More than 20 figures have been opened. Figures created through the pyplot interface (`matplotlib.pyplot.figure`) are retained until explicitly closed and may consume too much memory. (To control this warning, see the rcParam `figure.max_open_warning`).\n",
      "  max_open_warning, RuntimeWarning)\n"
     ]
    },
    {
     "name": "stdout",
     "output_type": "stream",
     "text": [
      "Source.gv.pdf\n",
      "Running with params {'criterion': 'entropy', 'max_depth': 5, 'min_samples_split': 10}\n"
     ]
    },
    {
     "name": "stderr",
     "output_type": "stream",
     "text": [
      "/usr/local/lib/python3.6/site-packages/matplotlib/pyplot.py:537: RuntimeWarning: More than 20 figures have been opened. Figures created through the pyplot interface (`matplotlib.pyplot.figure`) are retained until explicitly closed and may consume too much memory. (To control this warning, see the rcParam `figure.max_open_warning`).\n",
      "  max_open_warning, RuntimeWarning)\n"
     ]
    },
    {
     "name": "stdout",
     "output_type": "stream",
     "text": [
      "Source.gv.pdf\n",
      "Running with params {'criterion': 'entropy', 'max_depth': 50, 'min_samples_split': 2}\n"
     ]
    },
    {
     "name": "stderr",
     "output_type": "stream",
     "text": [
      "/usr/local/lib/python3.6/site-packages/matplotlib/pyplot.py:537: RuntimeWarning: More than 20 figures have been opened. Figures created through the pyplot interface (`matplotlib.pyplot.figure`) are retained until explicitly closed and may consume too much memory. (To control this warning, see the rcParam `figure.max_open_warning`).\n",
      "  max_open_warning, RuntimeWarning)\n"
     ]
    },
    {
     "name": "stdout",
     "output_type": "stream",
     "text": [
      "Source.gv.pdf\n",
      "Running with params {'criterion': 'entropy', 'max_depth': 50, 'min_samples_split': 10}\n"
     ]
    },
    {
     "name": "stderr",
     "output_type": "stream",
     "text": [
      "/usr/local/lib/python3.6/site-packages/matplotlib/pyplot.py:537: RuntimeWarning: More than 20 figures have been opened. Figures created through the pyplot interface (`matplotlib.pyplot.figure`) are retained until explicitly closed and may consume too much memory. (To control this warning, see the rcParam `figure.max_open_warning`).\n",
      "  max_open_warning, RuntimeWarning)\n"
     ]
    },
    {
     "name": "stdout",
     "output_type": "stream",
     "text": [
      "Source.gv.pdf\n",
      "DT finished.\n"
     ]
    },
    {
     "name": "stderr",
     "output_type": "stream",
     "text": [
      "/usr/local/lib/python3.6/site-packages/matplotlib/pyplot.py:537: RuntimeWarning: More than 20 figures have been opened. Figures created through the pyplot interface (`matplotlib.pyplot.figure`) are retained until explicitly closed and may consume too much memory. (To control this warning, see the rcParam `figure.max_open_warning`).\n",
      "  max_open_warning, RuntimeWarning)\n"
     ]
    },
    {
     "name": "stdout",
     "output_type": "stream",
     "text": [
      "\n",
      "Temporally validating on:\n",
      "Train: 2005-01-01 00:00:00 - 2010-12-31 00:00:00\n",
      "Test: 2011-01-01 00:00:00 - 2011-12-31 00:00:00\n",
      "Prediction window: 12 months\n",
      "\n",
      "2005-01-01 00:00:00\n",
      "Running RF...\n",
      "Running with params {'max_depth': 5, 'max_features': 'sqrt', 'min_samples_split': 10, 'n_estimators': 10}\n",
      "Running with params {'max_depth': 50, 'max_features': 'sqrt', 'min_samples_split': 10, 'n_estimators': 10}\n"
     ]
    },
    {
     "name": "stderr",
     "output_type": "stream",
     "text": [
      "/usr/local/lib/python3.6/site-packages/matplotlib/pyplot.py:537: RuntimeWarning: More than 20 figures have been opened. Figures created through the pyplot interface (`matplotlib.pyplot.figure`) are retained until explicitly closed and may consume too much memory. (To control this warning, see the rcParam `figure.max_open_warning`).\n",
      "  max_open_warning, RuntimeWarning)\n"
     ]
    },
    {
     "name": "stdout",
     "output_type": "stream",
     "text": [
      "RF finished.\n",
      "Running DT...\n",
      "Running with params {'criterion': 'gini', 'max_depth': 5, 'min_samples_split': 2}\n"
     ]
    },
    {
     "name": "stderr",
     "output_type": "stream",
     "text": [
      "/usr/local/lib/python3.6/site-packages/matplotlib/pyplot.py:537: RuntimeWarning: More than 20 figures have been opened. Figures created through the pyplot interface (`matplotlib.pyplot.figure`) are retained until explicitly closed and may consume too much memory. (To control this warning, see the rcParam `figure.max_open_warning`).\n",
      "  max_open_warning, RuntimeWarning)\n"
     ]
    },
    {
     "name": "stdout",
     "output_type": "stream",
     "text": [
      "Source.gv.pdf\n",
      "Running with params {'criterion': 'gini', 'max_depth': 5, 'min_samples_split': 10}\n"
     ]
    },
    {
     "name": "stderr",
     "output_type": "stream",
     "text": [
      "/usr/local/lib/python3.6/site-packages/matplotlib/pyplot.py:537: RuntimeWarning: More than 20 figures have been opened. Figures created through the pyplot interface (`matplotlib.pyplot.figure`) are retained until explicitly closed and may consume too much memory. (To control this warning, see the rcParam `figure.max_open_warning`).\n",
      "  max_open_warning, RuntimeWarning)\n"
     ]
    },
    {
     "name": "stdout",
     "output_type": "stream",
     "text": [
      "Source.gv.pdf\n",
      "Running with params {'criterion': 'gini', 'max_depth': 50, 'min_samples_split': 2}\n"
     ]
    },
    {
     "name": "stderr",
     "output_type": "stream",
     "text": [
      "/usr/local/lib/python3.6/site-packages/matplotlib/pyplot.py:537: RuntimeWarning: More than 20 figures have been opened. Figures created through the pyplot interface (`matplotlib.pyplot.figure`) are retained until explicitly closed and may consume too much memory. (To control this warning, see the rcParam `figure.max_open_warning`).\n",
      "  max_open_warning, RuntimeWarning)\n"
     ]
    },
    {
     "name": "stdout",
     "output_type": "stream",
     "text": [
      "Source.gv.pdf\n",
      "Running with params {'criterion': 'gini', 'max_depth': 50, 'min_samples_split': 10}\n"
     ]
    },
    {
     "name": "stderr",
     "output_type": "stream",
     "text": [
      "/usr/local/lib/python3.6/site-packages/matplotlib/pyplot.py:537: RuntimeWarning: More than 20 figures have been opened. Figures created through the pyplot interface (`matplotlib.pyplot.figure`) are retained until explicitly closed and may consume too much memory. (To control this warning, see the rcParam `figure.max_open_warning`).\n",
      "  max_open_warning, RuntimeWarning)\n"
     ]
    },
    {
     "name": "stdout",
     "output_type": "stream",
     "text": [
      "Source.gv.pdf\n",
      "Running with params {'criterion': 'entropy', 'max_depth': 5, 'min_samples_split': 2}\n"
     ]
    },
    {
     "name": "stderr",
     "output_type": "stream",
     "text": [
      "/usr/local/lib/python3.6/site-packages/matplotlib/pyplot.py:537: RuntimeWarning: More than 20 figures have been opened. Figures created through the pyplot interface (`matplotlib.pyplot.figure`) are retained until explicitly closed and may consume too much memory. (To control this warning, see the rcParam `figure.max_open_warning`).\n",
      "  max_open_warning, RuntimeWarning)\n"
     ]
    },
    {
     "name": "stdout",
     "output_type": "stream",
     "text": [
      "Source.gv.pdf\n"
     ]
    },
    {
     "name": "stderr",
     "output_type": "stream",
     "text": [
      "/usr/local/lib/python3.6/site-packages/matplotlib/pyplot.py:537: RuntimeWarning: More than 20 figures have been opened. Figures created through the pyplot interface (`matplotlib.pyplot.figure`) are retained until explicitly closed and may consume too much memory. (To control this warning, see the rcParam `figure.max_open_warning`).\n",
      "  max_open_warning, RuntimeWarning)\n"
     ]
    },
    {
     "name": "stdout",
     "output_type": "stream",
     "text": [
      "Running with params {'criterion': 'entropy', 'max_depth': 5, 'min_samples_split': 10}\n",
      "Source.gv.pdf\n",
      "Running with params {'criterion': 'entropy', 'max_depth': 50, 'min_samples_split': 2}\n"
     ]
    },
    {
     "name": "stderr",
     "output_type": "stream",
     "text": [
      "/usr/local/lib/python3.6/site-packages/matplotlib/pyplot.py:537: RuntimeWarning: More than 20 figures have been opened. Figures created through the pyplot interface (`matplotlib.pyplot.figure`) are retained until explicitly closed and may consume too much memory. (To control this warning, see the rcParam `figure.max_open_warning`).\n",
      "  max_open_warning, RuntimeWarning)\n"
     ]
    },
    {
     "name": "stdout",
     "output_type": "stream",
     "text": [
      "Source.gv.pdf\n",
      "Running with params {'criterion': 'entropy', 'max_depth': 50, 'min_samples_split': 10}\n"
     ]
    },
    {
     "name": "stderr",
     "output_type": "stream",
     "text": [
      "/usr/local/lib/python3.6/site-packages/matplotlib/pyplot.py:537: RuntimeWarning: More than 20 figures have been opened. Figures created through the pyplot interface (`matplotlib.pyplot.figure`) are retained until explicitly closed and may consume too much memory. (To control this warning, see the rcParam `figure.max_open_warning`).\n",
      "  max_open_warning, RuntimeWarning)\n"
     ]
    },
    {
     "name": "stdout",
     "output_type": "stream",
     "text": [
      "Source.gv.pdf\n",
      "DT finished.\n",
      "\n",
      "Temporally validating on:\n",
      "Train: 2005-01-01 00:00:00 - 2011-12-31 00:00:00\n",
      "Test: 2012-01-01 00:00:00 - 2012-12-31 00:00:00\n",
      "Prediction window: 12 months\n",
      "\n"
     ]
    },
    {
     "name": "stderr",
     "output_type": "stream",
     "text": [
      "/usr/local/lib/python3.6/site-packages/matplotlib/pyplot.py:537: RuntimeWarning: More than 20 figures have been opened. Figures created through the pyplot interface (`matplotlib.pyplot.figure`) are retained until explicitly closed and may consume too much memory. (To control this warning, see the rcParam `figure.max_open_warning`).\n",
      "  max_open_warning, RuntimeWarning)\n"
     ]
    },
    {
     "name": "stdout",
     "output_type": "stream",
     "text": [
      "2005-01-01 00:00:00\n",
      "Running RF...\n",
      "Running with params {'max_depth': 5, 'max_features': 'sqrt', 'min_samples_split': 10, 'n_estimators': 10}\n",
      "Running with params {'max_depth': 50, 'max_features': 'sqrt', 'min_samples_split': 10, 'n_estimators': 10}\n"
     ]
    },
    {
     "name": "stderr",
     "output_type": "stream",
     "text": [
      "/usr/local/lib/python3.6/site-packages/matplotlib/pyplot.py:537: RuntimeWarning: More than 20 figures have been opened. Figures created through the pyplot interface (`matplotlib.pyplot.figure`) are retained until explicitly closed and may consume too much memory. (To control this warning, see the rcParam `figure.max_open_warning`).\n",
      "  max_open_warning, RuntimeWarning)\n"
     ]
    },
    {
     "name": "stdout",
     "output_type": "stream",
     "text": [
      "RF finished.\n",
      "Running DT...\n",
      "Running with params {'criterion': 'gini', 'max_depth': 5, 'min_samples_split': 2}\n"
     ]
    },
    {
     "name": "stderr",
     "output_type": "stream",
     "text": [
      "/usr/local/lib/python3.6/site-packages/matplotlib/pyplot.py:537: RuntimeWarning: More than 20 figures have been opened. Figures created through the pyplot interface (`matplotlib.pyplot.figure`) are retained until explicitly closed and may consume too much memory. (To control this warning, see the rcParam `figure.max_open_warning`).\n",
      "  max_open_warning, RuntimeWarning)\n"
     ]
    },
    {
     "name": "stdout",
     "output_type": "stream",
     "text": [
      "Source.gv.pdf\n",
      "Running with params {'criterion': 'gini', 'max_depth': 5, 'min_samples_split': 10}\n"
     ]
    },
    {
     "name": "stderr",
     "output_type": "stream",
     "text": [
      "/usr/local/lib/python3.6/site-packages/matplotlib/pyplot.py:537: RuntimeWarning: More than 20 figures have been opened. Figures created through the pyplot interface (`matplotlib.pyplot.figure`) are retained until explicitly closed and may consume too much memory. (To control this warning, see the rcParam `figure.max_open_warning`).\n",
      "  max_open_warning, RuntimeWarning)\n"
     ]
    },
    {
     "name": "stdout",
     "output_type": "stream",
     "text": [
      "Source.gv.pdf\n",
      "Running with params {'criterion': 'gini', 'max_depth': 50, 'min_samples_split': 2}\n"
     ]
    },
    {
     "name": "stderr",
     "output_type": "stream",
     "text": [
      "/usr/local/lib/python3.6/site-packages/matplotlib/pyplot.py:537: RuntimeWarning: More than 20 figures have been opened. Figures created through the pyplot interface (`matplotlib.pyplot.figure`) are retained until explicitly closed and may consume too much memory. (To control this warning, see the rcParam `figure.max_open_warning`).\n",
      "  max_open_warning, RuntimeWarning)\n"
     ]
    },
    {
     "name": "stdout",
     "output_type": "stream",
     "text": [
      "Source.gv.pdf\n",
      "Running with params {'criterion': 'gini', 'max_depth': 50, 'min_samples_split': 10}\n"
     ]
    },
    {
     "name": "stderr",
     "output_type": "stream",
     "text": [
      "/usr/local/lib/python3.6/site-packages/matplotlib/pyplot.py:537: RuntimeWarning: More than 20 figures have been opened. Figures created through the pyplot interface (`matplotlib.pyplot.figure`) are retained until explicitly closed and may consume too much memory. (To control this warning, see the rcParam `figure.max_open_warning`).\n",
      "  max_open_warning, RuntimeWarning)\n"
     ]
    },
    {
     "name": "stdout",
     "output_type": "stream",
     "text": [
      "Source.gv.pdf\n"
     ]
    },
    {
     "name": "stderr",
     "output_type": "stream",
     "text": [
      "/usr/local/lib/python3.6/site-packages/matplotlib/pyplot.py:537: RuntimeWarning: More than 20 figures have been opened. Figures created through the pyplot interface (`matplotlib.pyplot.figure`) are retained until explicitly closed and may consume too much memory. (To control this warning, see the rcParam `figure.max_open_warning`).\n",
      "  max_open_warning, RuntimeWarning)\n"
     ]
    },
    {
     "name": "stdout",
     "output_type": "stream",
     "text": [
      "Running with params {'criterion': 'entropy', 'max_depth': 5, 'min_samples_split': 2}\n",
      "Source.gv.pdf\n",
      "Running with params {'criterion': 'entropy', 'max_depth': 5, 'min_samples_split': 10}\n"
     ]
    },
    {
     "name": "stderr",
     "output_type": "stream",
     "text": [
      "/usr/local/lib/python3.6/site-packages/matplotlib/pyplot.py:537: RuntimeWarning: More than 20 figures have been opened. Figures created through the pyplot interface (`matplotlib.pyplot.figure`) are retained until explicitly closed and may consume too much memory. (To control this warning, see the rcParam `figure.max_open_warning`).\n",
      "  max_open_warning, RuntimeWarning)\n"
     ]
    },
    {
     "name": "stdout",
     "output_type": "stream",
     "text": [
      "Source.gv.pdf\n",
      "Running with params {'criterion': 'entropy', 'max_depth': 50, 'min_samples_split': 2}\n"
     ]
    },
    {
     "name": "stderr",
     "output_type": "stream",
     "text": [
      "/usr/local/lib/python3.6/site-packages/matplotlib/pyplot.py:537: RuntimeWarning: More than 20 figures have been opened. Figures created through the pyplot interface (`matplotlib.pyplot.figure`) are retained until explicitly closed and may consume too much memory. (To control this warning, see the rcParam `figure.max_open_warning`).\n",
      "  max_open_warning, RuntimeWarning)\n"
     ]
    },
    {
     "name": "stdout",
     "output_type": "stream",
     "text": [
      "Source.gv.pdf\n",
      "Running with params {'criterion': 'entropy', 'max_depth': 50, 'min_samples_split': 10}\n"
     ]
    },
    {
     "name": "stderr",
     "output_type": "stream",
     "text": [
      "/usr/local/lib/python3.6/site-packages/matplotlib/pyplot.py:537: RuntimeWarning: More than 20 figures have been opened. Figures created through the pyplot interface (`matplotlib.pyplot.figure`) are retained until explicitly closed and may consume too much memory. (To control this warning, see the rcParam `figure.max_open_warning`).\n",
      "  max_open_warning, RuntimeWarning)\n"
     ]
    },
    {
     "name": "stdout",
     "output_type": "stream",
     "text": [
      "Source.gv.pdf\n",
      "DT finished.\n",
      "\n",
      "Temporally validating on:\n",
      "Train: 2005-01-01 00:00:00 - 2012-12-31 00:00:00\n",
      "Test: 2013-01-01 00:00:00 - 2013-12-31 00:00:00\n",
      "Prediction window: 12 months\n",
      "\n"
     ]
    },
    {
     "name": "stderr",
     "output_type": "stream",
     "text": [
      "/usr/local/lib/python3.6/site-packages/matplotlib/pyplot.py:537: RuntimeWarning: More than 20 figures have been opened. Figures created through the pyplot interface (`matplotlib.pyplot.figure`) are retained until explicitly closed and may consume too much memory. (To control this warning, see the rcParam `figure.max_open_warning`).\n",
      "  max_open_warning, RuntimeWarning)\n"
     ]
    },
    {
     "name": "stdout",
     "output_type": "stream",
     "text": [
      "2005-01-01 00:00:00\n",
      "Running RF...\n",
      "Running with params {'max_depth': 5, 'max_features': 'sqrt', 'min_samples_split': 10, 'n_estimators': 10}\n",
      "Running with params {'max_depth': 50, 'max_features': 'sqrt', 'min_samples_split': 10, 'n_estimators': 10}\n"
     ]
    },
    {
     "name": "stderr",
     "output_type": "stream",
     "text": [
      "/usr/local/lib/python3.6/site-packages/matplotlib/pyplot.py:537: RuntimeWarning: More than 20 figures have been opened. Figures created through the pyplot interface (`matplotlib.pyplot.figure`) are retained until explicitly closed and may consume too much memory. (To control this warning, see the rcParam `figure.max_open_warning`).\n",
      "  max_open_warning, RuntimeWarning)\n"
     ]
    },
    {
     "name": "stdout",
     "output_type": "stream",
     "text": [
      "RF finished.\n",
      "Running DT...\n",
      "Running with params {'criterion': 'gini', 'max_depth': 5, 'min_samples_split': 2}\n"
     ]
    },
    {
     "name": "stderr",
     "output_type": "stream",
     "text": [
      "/usr/local/lib/python3.6/site-packages/matplotlib/pyplot.py:537: RuntimeWarning: More than 20 figures have been opened. Figures created through the pyplot interface (`matplotlib.pyplot.figure`) are retained until explicitly closed and may consume too much memory. (To control this warning, see the rcParam `figure.max_open_warning`).\n",
      "  max_open_warning, RuntimeWarning)\n"
     ]
    },
    {
     "name": "stdout",
     "output_type": "stream",
     "text": [
      "Source.gv.pdf\n",
      "Running with params {'criterion': 'gini', 'max_depth': 5, 'min_samples_split': 10}\n"
     ]
    },
    {
     "name": "stderr",
     "output_type": "stream",
     "text": [
      "/usr/local/lib/python3.6/site-packages/matplotlib/pyplot.py:537: RuntimeWarning: More than 20 figures have been opened. Figures created through the pyplot interface (`matplotlib.pyplot.figure`) are retained until explicitly closed and may consume too much memory. (To control this warning, see the rcParam `figure.max_open_warning`).\n",
      "  max_open_warning, RuntimeWarning)\n"
     ]
    },
    {
     "name": "stdout",
     "output_type": "stream",
     "text": [
      "Source.gv.pdf\n",
      "Running with params {'criterion': 'gini', 'max_depth': 50, 'min_samples_split': 2}\n"
     ]
    },
    {
     "name": "stderr",
     "output_type": "stream",
     "text": [
      "/usr/local/lib/python3.6/site-packages/matplotlib/pyplot.py:537: RuntimeWarning: More than 20 figures have been opened. Figures created through the pyplot interface (`matplotlib.pyplot.figure`) are retained until explicitly closed and may consume too much memory. (To control this warning, see the rcParam `figure.max_open_warning`).\n",
      "  max_open_warning, RuntimeWarning)\n"
     ]
    },
    {
     "name": "stdout",
     "output_type": "stream",
     "text": [
      "Source.gv.pdf\n",
      "Running with params {'criterion': 'gini', 'max_depth': 50, 'min_samples_split': 10}\n"
     ]
    },
    {
     "name": "stderr",
     "output_type": "stream",
     "text": [
      "/usr/local/lib/python3.6/site-packages/matplotlib/pyplot.py:537: RuntimeWarning: More than 20 figures have been opened. Figures created through the pyplot interface (`matplotlib.pyplot.figure`) are retained until explicitly closed and may consume too much memory. (To control this warning, see the rcParam `figure.max_open_warning`).\n",
      "  max_open_warning, RuntimeWarning)\n"
     ]
    },
    {
     "name": "stdout",
     "output_type": "stream",
     "text": [
      "Source.gv.pdf\n",
      "Running with params {'criterion': 'entropy', 'max_depth': 5, 'min_samples_split': 2}\n"
     ]
    },
    {
     "name": "stderr",
     "output_type": "stream",
     "text": [
      "/usr/local/lib/python3.6/site-packages/matplotlib/pyplot.py:537: RuntimeWarning: More than 20 figures have been opened. Figures created through the pyplot interface (`matplotlib.pyplot.figure`) are retained until explicitly closed and may consume too much memory. (To control this warning, see the rcParam `figure.max_open_warning`).\n",
      "  max_open_warning, RuntimeWarning)\n"
     ]
    },
    {
     "name": "stdout",
     "output_type": "stream",
     "text": [
      "Source.gv.pdf\n",
      "Running with params {'criterion': 'entropy', 'max_depth': 5, 'min_samples_split': 10}\n"
     ]
    },
    {
     "name": "stderr",
     "output_type": "stream",
     "text": [
      "/usr/local/lib/python3.6/site-packages/matplotlib/pyplot.py:537: RuntimeWarning: More than 20 figures have been opened. Figures created through the pyplot interface (`matplotlib.pyplot.figure`) are retained until explicitly closed and may consume too much memory. (To control this warning, see the rcParam `figure.max_open_warning`).\n",
      "  max_open_warning, RuntimeWarning)\n"
     ]
    },
    {
     "name": "stdout",
     "output_type": "stream",
     "text": [
      "Source.gv.pdf\n",
      "Running with params {'criterion': 'entropy', 'max_depth': 50, 'min_samples_split': 2}\n"
     ]
    },
    {
     "name": "stderr",
     "output_type": "stream",
     "text": [
      "/usr/local/lib/python3.6/site-packages/matplotlib/pyplot.py:537: RuntimeWarning: More than 20 figures have been opened. Figures created through the pyplot interface (`matplotlib.pyplot.figure`) are retained until explicitly closed and may consume too much memory. (To control this warning, see the rcParam `figure.max_open_warning`).\n",
      "  max_open_warning, RuntimeWarning)\n"
     ]
    },
    {
     "name": "stdout",
     "output_type": "stream",
     "text": [
      "Source.gv.pdf\n",
      "Running with params {'criterion': 'entropy', 'max_depth': 50, 'min_samples_split': 10}\n"
     ]
    },
    {
     "name": "stderr",
     "output_type": "stream",
     "text": [
      "/usr/local/lib/python3.6/site-packages/matplotlib/pyplot.py:537: RuntimeWarning: More than 20 figures have been opened. Figures created through the pyplot interface (`matplotlib.pyplot.figure`) are retained until explicitly closed and may consume too much memory. (To control this warning, see the rcParam `figure.max_open_warning`).\n",
      "  max_open_warning, RuntimeWarning)\n"
     ]
    },
    {
     "name": "stdout",
     "output_type": "stream",
     "text": [
      "Source.gv.pdf\n",
      "DT finished.\n",
      "\n",
      "Temporally validating on:\n",
      "Train: 2005-01-01 00:00:00 - 2013-12-31 00:00:00\n",
      "Test: 2014-01-01 00:00:00 - 2014-12-31 00:00:00\n",
      "Prediction window: 12 months\n",
      "\n",
      "2005-01-01 00:00:00"
     ]
    },
    {
     "name": "stderr",
     "output_type": "stream",
     "text": [
      "/usr/local/lib/python3.6/site-packages/matplotlib/pyplot.py:537: RuntimeWarning: More than 20 figures have been opened. Figures created through the pyplot interface (`matplotlib.pyplot.figure`) are retained until explicitly closed and may consume too much memory. (To control this warning, see the rcParam `figure.max_open_warning`).\n",
      "  max_open_warning, RuntimeWarning)\n"
     ]
    },
    {
     "name": "stdout",
     "output_type": "stream",
     "text": [
      "\n",
      "Running RF...\n",
      "Running with params {'max_depth': 5, 'max_features': 'sqrt', 'min_samples_split': 10, 'n_estimators': 10}\n",
      "Running with params {'max_depth': 50, 'max_features': 'sqrt', 'min_samples_split': 10, 'n_estimators': 10}\n"
     ]
    },
    {
     "name": "stderr",
     "output_type": "stream",
     "text": [
      "/usr/local/lib/python3.6/site-packages/matplotlib/pyplot.py:537: RuntimeWarning: More than 20 figures have been opened. Figures created through the pyplot interface (`matplotlib.pyplot.figure`) are retained until explicitly closed and may consume too much memory. (To control this warning, see the rcParam `figure.max_open_warning`).\n",
      "  max_open_warning, RuntimeWarning)\n"
     ]
    },
    {
     "name": "stdout",
     "output_type": "stream",
     "text": [
      "RF finished.\n",
      "Running DT...\n",
      "Running with params {'criterion': 'gini', 'max_depth': 5, 'min_samples_split': 2}\n"
     ]
    },
    {
     "name": "stderr",
     "output_type": "stream",
     "text": [
      "/usr/local/lib/python3.6/site-packages/matplotlib/pyplot.py:537: RuntimeWarning: More than 20 figures have been opened. Figures created through the pyplot interface (`matplotlib.pyplot.figure`) are retained until explicitly closed and may consume too much memory. (To control this warning, see the rcParam `figure.max_open_warning`).\n",
      "  max_open_warning, RuntimeWarning)\n"
     ]
    },
    {
     "name": "stdout",
     "output_type": "stream",
     "text": [
      "Source.gv.pdf\n",
      "Running with params {'criterion': 'gini', 'max_depth': 5, 'min_samples_split': 10}\n"
     ]
    },
    {
     "name": "stderr",
     "output_type": "stream",
     "text": [
      "/usr/local/lib/python3.6/site-packages/matplotlib/pyplot.py:537: RuntimeWarning: More than 20 figures have been opened. Figures created through the pyplot interface (`matplotlib.pyplot.figure`) are retained until explicitly closed and may consume too much memory. (To control this warning, see the rcParam `figure.max_open_warning`).\n",
      "  max_open_warning, RuntimeWarning)\n"
     ]
    },
    {
     "name": "stdout",
     "output_type": "stream",
     "text": [
      "Source.gv.pdf\n",
      "Running with params {'criterion': 'gini', 'max_depth': 50, 'min_samples_split': 2}\n"
     ]
    },
    {
     "name": "stderr",
     "output_type": "stream",
     "text": [
      "/usr/local/lib/python3.6/site-packages/matplotlib/pyplot.py:537: RuntimeWarning: More than 20 figures have been opened. Figures created through the pyplot interface (`matplotlib.pyplot.figure`) are retained until explicitly closed and may consume too much memory. (To control this warning, see the rcParam `figure.max_open_warning`).\n",
      "  max_open_warning, RuntimeWarning)\n"
     ]
    },
    {
     "name": "stdout",
     "output_type": "stream",
     "text": [
      "Source.gv.pdf\n",
      "Running with params {'criterion': 'gini', 'max_depth': 50, 'min_samples_split': 10}\n"
     ]
    },
    {
     "name": "stderr",
     "output_type": "stream",
     "text": [
      "/usr/local/lib/python3.6/site-packages/matplotlib/pyplot.py:537: RuntimeWarning: More than 20 figures have been opened. Figures created through the pyplot interface (`matplotlib.pyplot.figure`) are retained until explicitly closed and may consume too much memory. (To control this warning, see the rcParam `figure.max_open_warning`).\n",
      "  max_open_warning, RuntimeWarning)\n"
     ]
    },
    {
     "name": "stdout",
     "output_type": "stream",
     "text": [
      "Source.gv.pdf\n",
      "Running with params {'criterion': 'entropy', 'max_depth': 5, 'min_samples_split': 2}\n"
     ]
    },
    {
     "name": "stderr",
     "output_type": "stream",
     "text": [
      "/usr/local/lib/python3.6/site-packages/matplotlib/pyplot.py:537: RuntimeWarning: More than 20 figures have been opened. Figures created through the pyplot interface (`matplotlib.pyplot.figure`) are retained until explicitly closed and may consume too much memory. (To control this warning, see the rcParam `figure.max_open_warning`).\n",
      "  max_open_warning, RuntimeWarning)\n"
     ]
    },
    {
     "name": "stdout",
     "output_type": "stream",
     "text": [
      "Source.gv.pdf\n",
      "Running with params {'criterion': 'entropy', 'max_depth': 5, 'min_samples_split': 10}\n"
     ]
    },
    {
     "name": "stderr",
     "output_type": "stream",
     "text": [
      "/usr/local/lib/python3.6/site-packages/matplotlib/pyplot.py:537: RuntimeWarning: More than 20 figures have been opened. Figures created through the pyplot interface (`matplotlib.pyplot.figure`) are retained until explicitly closed and may consume too much memory. (To control this warning, see the rcParam `figure.max_open_warning`).\n",
      "  max_open_warning, RuntimeWarning)\n"
     ]
    },
    {
     "name": "stdout",
     "output_type": "stream",
     "text": [
      "Source.gv.pdf\n",
      "Running with params {'criterion': 'entropy', 'max_depth': 50, 'min_samples_split': 2}\n"
     ]
    },
    {
     "name": "stderr",
     "output_type": "stream",
     "text": [
      "/usr/local/lib/python3.6/site-packages/matplotlib/pyplot.py:537: RuntimeWarning: More than 20 figures have been opened. Figures created through the pyplot interface (`matplotlib.pyplot.figure`) are retained until explicitly closed and may consume too much memory. (To control this warning, see the rcParam `figure.max_open_warning`).\n",
      "  max_open_warning, RuntimeWarning)\n"
     ]
    },
    {
     "name": "stdout",
     "output_type": "stream",
     "text": [
      "Source.gv.pdf\n",
      "Running with params {'criterion': 'entropy', 'max_depth': 50, 'min_samples_split': 10}\n"
     ]
    },
    {
     "name": "stderr",
     "output_type": "stream",
     "text": [
      "/usr/local/lib/python3.6/site-packages/matplotlib/pyplot.py:537: RuntimeWarning: More than 20 figures have been opened. Figures created through the pyplot interface (`matplotlib.pyplot.figure`) are retained until explicitly closed and may consume too much memory. (To control this warning, see the rcParam `figure.max_open_warning`).\n",
      "  max_open_warning, RuntimeWarning)\n"
     ]
    },
    {
     "name": "stdout",
     "output_type": "stream",
     "text": [
      "Source.gv.pdf\n",
      "DT finished.\n",
      "\n",
      "Temporally validating on:\n",
      "Train: 2005-01-01 00:00:00 - 2014-12-31 00:00:00\n",
      "Test: 2015-01-01 00:00:00 - 2015-12-31 00:00:00\n",
      "Prediction window: 12 months\n",
      "\n"
     ]
    },
    {
     "name": "stderr",
     "output_type": "stream",
     "text": [
      "/usr/local/lib/python3.6/site-packages/matplotlib/pyplot.py:537: RuntimeWarning: More than 20 figures have been opened. Figures created through the pyplot interface (`matplotlib.pyplot.figure`) are retained until explicitly closed and may consume too much memory. (To control this warning, see the rcParam `figure.max_open_warning`).\n",
      "  max_open_warning, RuntimeWarning)\n"
     ]
    },
    {
     "name": "stdout",
     "output_type": "stream",
     "text": [
      "2005-01-01 00:00:00\n",
      "Running RF...\n",
      "Running with params {'max_depth': 5, 'max_features': 'sqrt', 'min_samples_split': 10, 'n_estimators': 10}\n",
      "Running with params {'max_depth': 50, 'max_features': 'sqrt', 'min_samples_split': 10, 'n_estimators': 10}\n"
     ]
    },
    {
     "name": "stderr",
     "output_type": "stream",
     "text": [
      "/usr/local/lib/python3.6/site-packages/matplotlib/pyplot.py:537: RuntimeWarning: More than 20 figures have been opened. Figures created through the pyplot interface (`matplotlib.pyplot.figure`) are retained until explicitly closed and may consume too much memory. (To control this warning, see the rcParam `figure.max_open_warning`).\n",
      "  max_open_warning, RuntimeWarning)\n"
     ]
    },
    {
     "name": "stdout",
     "output_type": "stream",
     "text": [
      "RF finished.\n",
      "Running DT...\n",
      "Running with params {'criterion': 'gini', 'max_depth': 5, 'min_samples_split': 2}\n"
     ]
    },
    {
     "name": "stderr",
     "output_type": "stream",
     "text": [
      "/usr/local/lib/python3.6/site-packages/matplotlib/pyplot.py:537: RuntimeWarning: More than 20 figures have been opened. Figures created through the pyplot interface (`matplotlib.pyplot.figure`) are retained until explicitly closed and may consume too much memory. (To control this warning, see the rcParam `figure.max_open_warning`).\n",
      "  max_open_warning, RuntimeWarning)\n"
     ]
    },
    {
     "name": "stdout",
     "output_type": "stream",
     "text": [
      "Source.gv.pdf\n",
      "Running with params {'criterion': 'gini', 'max_depth': 5, 'min_samples_split': 10}\n"
     ]
    },
    {
     "name": "stderr",
     "output_type": "stream",
     "text": [
      "/usr/local/lib/python3.6/site-packages/matplotlib/pyplot.py:537: RuntimeWarning: More than 20 figures have been opened. Figures created through the pyplot interface (`matplotlib.pyplot.figure`) are retained until explicitly closed and may consume too much memory. (To control this warning, see the rcParam `figure.max_open_warning`).\n",
      "  max_open_warning, RuntimeWarning)\n"
     ]
    },
    {
     "name": "stdout",
     "output_type": "stream",
     "text": [
      "Source.gv.pdf\n",
      "Running with params {'criterion': 'gini', 'max_depth': 50, 'min_samples_split': 2}\n"
     ]
    },
    {
     "name": "stderr",
     "output_type": "stream",
     "text": [
      "/usr/local/lib/python3.6/site-packages/matplotlib/pyplot.py:537: RuntimeWarning: More than 20 figures have been opened. Figures created through the pyplot interface (`matplotlib.pyplot.figure`) are retained until explicitly closed and may consume too much memory. (To control this warning, see the rcParam `figure.max_open_warning`).\n",
      "  max_open_warning, RuntimeWarning)\n"
     ]
    },
    {
     "name": "stdout",
     "output_type": "stream",
     "text": [
      "Source.gv.pdf\n",
      "Running with params {'criterion': 'gini', 'max_depth': 50, 'min_samples_split': 10}\n"
     ]
    },
    {
     "name": "stderr",
     "output_type": "stream",
     "text": [
      "/usr/local/lib/python3.6/site-packages/matplotlib/pyplot.py:537: RuntimeWarning: More than 20 figures have been opened. Figures created through the pyplot interface (`matplotlib.pyplot.figure`) are retained until explicitly closed and may consume too much memory. (To control this warning, see the rcParam `figure.max_open_warning`).\n",
      "  max_open_warning, RuntimeWarning)\n"
     ]
    },
    {
     "name": "stdout",
     "output_type": "stream",
     "text": [
      "Source.gv.pdf\n",
      "Running with params {'criterion': 'entropy', 'max_depth': 5, 'min_samples_split': 2}\n"
     ]
    },
    {
     "name": "stderr",
     "output_type": "stream",
     "text": [
      "/usr/local/lib/python3.6/site-packages/matplotlib/pyplot.py:537: RuntimeWarning: More than 20 figures have been opened. Figures created through the pyplot interface (`matplotlib.pyplot.figure`) are retained until explicitly closed and may consume too much memory. (To control this warning, see the rcParam `figure.max_open_warning`).\n",
      "  max_open_warning, RuntimeWarning)\n"
     ]
    },
    {
     "name": "stdout",
     "output_type": "stream",
     "text": [
      "Source.gv.pdf\n",
      "Running with params {'criterion': 'entropy', 'max_depth': 5, 'min_samples_split': 10}\n"
     ]
    },
    {
     "name": "stderr",
     "output_type": "stream",
     "text": [
      "/usr/local/lib/python3.6/site-packages/matplotlib/pyplot.py:537: RuntimeWarning: More than 20 figures have been opened. Figures created through the pyplot interface (`matplotlib.pyplot.figure`) are retained until explicitly closed and may consume too much memory. (To control this warning, see the rcParam `figure.max_open_warning`).\n",
      "  max_open_warning, RuntimeWarning)\n"
     ]
    },
    {
     "name": "stdout",
     "output_type": "stream",
     "text": [
      "Source.gv.pdf\n",
      "Running with params {'criterion': 'entropy', 'max_depth': 50, 'min_samples_split': 2}\n"
     ]
    },
    {
     "name": "stderr",
     "output_type": "stream",
     "text": [
      "/usr/local/lib/python3.6/site-packages/matplotlib/pyplot.py:537: RuntimeWarning: More than 20 figures have been opened. Figures created through the pyplot interface (`matplotlib.pyplot.figure`) are retained until explicitly closed and may consume too much memory. (To control this warning, see the rcParam `figure.max_open_warning`).\n",
      "  max_open_warning, RuntimeWarning)\n"
     ]
    },
    {
     "name": "stdout",
     "output_type": "stream",
     "text": [
      "Source.gv.pdf\n",
      "Running with params {'criterion': 'entropy', 'max_depth': 50, 'min_samples_split': 10}\n"
     ]
    },
    {
     "name": "stderr",
     "output_type": "stream",
     "text": [
      "/usr/local/lib/python3.6/site-packages/matplotlib/pyplot.py:537: RuntimeWarning: More than 20 figures have been opened. Figures created through the pyplot interface (`matplotlib.pyplot.figure`) are retained until explicitly closed and may consume too much memory. (To control this warning, see the rcParam `figure.max_open_warning`).\n",
      "  max_open_warning, RuntimeWarning)\n"
     ]
    },
    {
     "name": "stdout",
     "output_type": "stream",
     "text": [
      "Source.gv.pdf\n",
      "DT finished.\n"
     ]
    },
    {
     "name": "stderr",
     "output_type": "stream",
     "text": [
      "/usr/local/lib/python3.6/site-packages/matplotlib/pyplot.py:537: RuntimeWarning: More than 20 figures have been opened. Figures created through the pyplot interface (`matplotlib.pyplot.figure`) are retained until explicitly closed and may consume too much memory. (To control this warning, see the rcParam `figure.max_open_warning`).\n",
      "  max_open_warning, RuntimeWarning)\n"
     ]
    },
    {
     "data": {
      "text/plain": [
       "<Figure size 432x288 with 0 Axes>"
      ]
     },
     "metadata": {},
     "output_type": "display_data"
    },
    {
     "data": {
      "text/plain": [
       "<Figure size 432x288 with 0 Axes>"
      ]
     },
     "metadata": {},
     "output_type": "display_data"
    },
    {
     "data": {
      "text/plain": [
       "<Figure size 432x288 with 0 Axes>"
      ]
     },
     "metadata": {},
     "output_type": "display_data"
    },
    {
     "data": {
      "text/plain": [
       "<Figure size 432x288 with 0 Axes>"
      ]
     },
     "metadata": {},
     "output_type": "display_data"
    },
    {
     "data": {
      "text/plain": [
       "<Figure size 432x288 with 0 Axes>"
      ]
     },
     "metadata": {},
     "output_type": "display_data"
    },
    {
     "data": {
      "text/plain": [
       "<Figure size 432x288 with 0 Axes>"
      ]
     },
     "metadata": {},
     "output_type": "display_data"
    },
    {
     "data": {
      "text/plain": [
       "<Figure size 432x288 with 0 Axes>"
      ]
     },
     "metadata": {},
     "output_type": "display_data"
    },
    {
     "data": {
      "text/plain": [
       "<Figure size 432x288 with 0 Axes>"
      ]
     },
     "metadata": {},
     "output_type": "display_data"
    },
    {
     "data": {
      "text/plain": [
       "<Figure size 432x288 with 0 Axes>"
      ]
     },
     "metadata": {},
     "output_type": "display_data"
    },
    {
     "data": {
      "text/plain": [
       "<Figure size 432x288 with 0 Axes>"
      ]
     },
     "metadata": {},
     "output_type": "display_data"
    },
    {
     "data": {
      "text/plain": [
       "<Figure size 432x288 with 0 Axes>"
      ]
     },
     "metadata": {},
     "output_type": "display_data"
    },
    {
     "data": {
      "text/plain": [
       "<Figure size 432x288 with 0 Axes>"
      ]
     },
     "metadata": {},
     "output_type": "display_data"
    },
    {
     "data": {
      "text/plain": [
       "<Figure size 432x288 with 0 Axes>"
      ]
     },
     "metadata": {},
     "output_type": "display_data"
    },
    {
     "data": {
      "text/plain": [
       "<Figure size 432x288 with 0 Axes>"
      ]
     },
     "metadata": {},
     "output_type": "display_data"
    },
    {
     "data": {
      "text/plain": [
       "<Figure size 432x288 with 0 Axes>"
      ]
     },
     "metadata": {},
     "output_type": "display_data"
    },
    {
     "data": {
      "text/plain": [
       "<Figure size 432x288 with 0 Axes>"
      ]
     },
     "metadata": {},
     "output_type": "display_data"
    },
    {
     "data": {
      "text/plain": [
       "<Figure size 432x288 with 0 Axes>"
      ]
     },
     "metadata": {},
     "output_type": "display_data"
    },
    {
     "data": {
      "text/plain": [
       "<Figure size 432x288 with 0 Axes>"
      ]
     },
     "metadata": {},
     "output_type": "display_data"
    },
    {
     "data": {
      "text/plain": [
       "<Figure size 432x288 with 0 Axes>"
      ]
     },
     "metadata": {},
     "output_type": "display_data"
    },
    {
     "data": {
      "text/plain": [
       "<Figure size 432x288 with 0 Axes>"
      ]
     },
     "metadata": {},
     "output_type": "display_data"
    },
    {
     "data": {
      "text/plain": [
       "<Figure size 432x288 with 0 Axes>"
      ]
     },
     "metadata": {},
     "output_type": "display_data"
    },
    {
     "data": {
      "text/plain": [
       "<Figure size 432x288 with 0 Axes>"
      ]
     },
     "metadata": {},
     "output_type": "display_data"
    },
    {
     "data": {
      "text/plain": [
       "<Figure size 432x288 with 0 Axes>"
      ]
     },
     "metadata": {},
     "output_type": "display_data"
    },
    {
     "data": {
      "text/plain": [
       "<Figure size 432x288 with 0 Axes>"
      ]
     },
     "metadata": {},
     "output_type": "display_data"
    },
    {
     "data": {
      "text/plain": [
       "<Figure size 432x288 with 0 Axes>"
      ]
     },
     "metadata": {},
     "output_type": "display_data"
    },
    {
     "data": {
      "text/plain": [
       "<Figure size 432x288 with 0 Axes>"
      ]
     },
     "metadata": {},
     "output_type": "display_data"
    },
    {
     "data": {
      "text/plain": [
       "<Figure size 432x288 with 0 Axes>"
      ]
     },
     "metadata": {},
     "output_type": "display_data"
    },
    {
     "data": {
      "text/plain": [
       "<Figure size 432x288 with 0 Axes>"
      ]
     },
     "metadata": {},
     "output_type": "display_data"
    },
    {
     "data": {
      "text/plain": [
       "<Figure size 432x288 with 0 Axes>"
      ]
     },
     "metadata": {},
     "output_type": "display_data"
    },
    {
     "data": {
      "text/plain": [
       "<Figure size 432x288 with 0 Axes>"
      ]
     },
     "metadata": {},
     "output_type": "display_data"
    },
    {
     "data": {
      "text/plain": [
       "<Figure size 432x288 with 0 Axes>"
      ]
     },
     "metadata": {},
     "output_type": "display_data"
    },
    {
     "data": {
      "text/plain": [
       "<Figure size 432x288 with 0 Axes>"
      ]
     },
     "metadata": {},
     "output_type": "display_data"
    },
    {
     "data": {
      "text/plain": [
       "<Figure size 432x288 with 0 Axes>"
      ]
     },
     "metadata": {},
     "output_type": "display_data"
    },
    {
     "data": {
      "text/plain": [
       "<Figure size 432x288 with 0 Axes>"
      ]
     },
     "metadata": {},
     "output_type": "display_data"
    },
    {
     "data": {
      "text/plain": [
       "<Figure size 432x288 with 0 Axes>"
      ]
     },
     "metadata": {},
     "output_type": "display_data"
    },
    {
     "data": {
      "text/plain": [
       "<Figure size 432x288 with 0 Axes>"
      ]
     },
     "metadata": {},
     "output_type": "display_data"
    },
    {
     "data": {
      "text/plain": [
       "<Figure size 432x288 with 0 Axes>"
      ]
     },
     "metadata": {},
     "output_type": "display_data"
    },
    {
     "data": {
      "text/plain": [
       "<Figure size 432x288 with 0 Axes>"
      ]
     },
     "metadata": {},
     "output_type": "display_data"
    },
    {
     "data": {
      "text/plain": [
       "<Figure size 432x288 with 0 Axes>"
      ]
     },
     "metadata": {},
     "output_type": "display_data"
    },
    {
     "data": {
      "text/plain": [
       "<Figure size 432x288 with 0 Axes>"
      ]
     },
     "metadata": {},
     "output_type": "display_data"
    },
    {
     "data": {
      "text/plain": [
       "<Figure size 432x288 with 0 Axes>"
      ]
     },
     "metadata": {},
     "output_type": "display_data"
    },
    {
     "data": {
      "text/plain": [
       "<Figure size 432x288 with 0 Axes>"
      ]
     },
     "metadata": {},
     "output_type": "display_data"
    },
    {
     "data": {
      "text/plain": [
       "<Figure size 432x288 with 0 Axes>"
      ]
     },
     "metadata": {},
     "output_type": "display_data"
    },
    {
     "data": {
      "text/plain": [
       "<Figure size 432x288 with 0 Axes>"
      ]
     },
     "metadata": {},
     "output_type": "display_data"
    },
    {
     "data": {
      "text/plain": [
       "<Figure size 432x288 with 0 Axes>"
      ]
     },
     "metadata": {},
     "output_type": "display_data"
    },
    {
     "data": {
      "text/plain": [
       "<Figure size 432x288 with 0 Axes>"
      ]
     },
     "metadata": {},
     "output_type": "display_data"
    },
    {
     "data": {
      "text/plain": [
       "<Figure size 432x288 with 0 Axes>"
      ]
     },
     "metadata": {},
     "output_type": "display_data"
    },
    {
     "data": {
      "text/plain": [
       "<Figure size 432x288 with 0 Axes>"
      ]
     },
     "metadata": {},
     "output_type": "display_data"
    },
    {
     "data": {
      "text/plain": [
       "<Figure size 432x288 with 0 Axes>"
      ]
     },
     "metadata": {},
     "output_type": "display_data"
    },
    {
     "data": {
      "text/plain": [
       "<Figure size 432x288 with 0 Axes>"
      ]
     },
     "metadata": {},
     "output_type": "display_data"
    },
    {
     "data": {
      "text/plain": [
       "<Figure size 432x288 with 0 Axes>"
      ]
     },
     "metadata": {},
     "output_type": "display_data"
    },
    {
     "data": {
      "text/plain": [
       "<Figure size 432x288 with 0 Axes>"
      ]
     },
     "metadata": {},
     "output_type": "display_data"
    },
    {
     "data": {
      "text/plain": [
       "<Figure size 432x288 with 0 Axes>"
      ]
     },
     "metadata": {},
     "output_type": "display_data"
    },
    {
     "data": {
      "text/plain": [
       "<Figure size 432x288 with 0 Axes>"
      ]
     },
     "metadata": {},
     "output_type": "display_data"
    },
    {
     "data": {
      "text/plain": [
       "<Figure size 432x288 with 0 Axes>"
      ]
     },
     "metadata": {},
     "output_type": "display_data"
    },
    {
     "data": {
      "text/plain": [
       "<Figure size 432x288 with 0 Axes>"
      ]
     },
     "metadata": {},
     "output_type": "display_data"
    },
    {
     "data": {
      "text/plain": [
       "<Figure size 432x288 with 0 Axes>"
      ]
     },
     "metadata": {},
     "output_type": "display_data"
    },
    {
     "data": {
      "text/plain": [
       "<Figure size 432x288 with 0 Axes>"
      ]
     },
     "metadata": {},
     "output_type": "display_data"
    },
    {
     "data": {
      "text/plain": [
       "<Figure size 432x288 with 0 Axes>"
      ]
     },
     "metadata": {},
     "output_type": "display_data"
    },
    {
     "data": {
      "text/plain": [
       "<Figure size 432x288 with 0 Axes>"
      ]
     },
     "metadata": {},
     "output_type": "display_data"
    },
    {
     "data": {
      "text/plain": [
       "<Figure size 432x288 with 0 Axes>"
      ]
     },
     "metadata": {},
     "output_type": "display_data"
    },
    {
     "data": {
      "text/plain": [
       "<Figure size 432x288 with 0 Axes>"
      ]
     },
     "metadata": {},
     "output_type": "display_data"
    },
    {
     "data": {
      "text/plain": [
       "<Figure size 432x288 with 0 Axes>"
      ]
     },
     "metadata": {},
     "output_type": "display_data"
    },
    {
     "data": {
      "text/plain": [
       "<Figure size 432x288 with 0 Axes>"
      ]
     },
     "metadata": {},
     "output_type": "display_data"
    },
    {
     "data": {
      "text/plain": [
       "<Figure size 432x288 with 0 Axes>"
      ]
     },
     "metadata": {},
     "output_type": "display_data"
    },
    {
     "data": {
      "text/plain": [
       "<Figure size 432x288 with 0 Axes>"
      ]
     },
     "metadata": {},
     "output_type": "display_data"
    },
    {
     "data": {
      "text/plain": [
       "<Figure size 432x288 with 0 Axes>"
      ]
     },
     "metadata": {},
     "output_type": "display_data"
    },
    {
     "data": {
      "text/plain": [
       "<Figure size 432x288 with 0 Axes>"
      ]
     },
     "metadata": {},
     "output_type": "display_data"
    },
    {
     "data": {
      "text/plain": [
       "<Figure size 432x288 with 0 Axes>"
      ]
     },
     "metadata": {},
     "output_type": "display_data"
    },
    {
     "data": {
      "text/plain": [
       "<Figure size 432x288 with 0 Axes>"
      ]
     },
     "metadata": {},
     "output_type": "display_data"
    },
    {
     "data": {
      "text/plain": [
       "<Figure size 432x288 with 0 Axes>"
      ]
     },
     "metadata": {},
     "output_type": "display_data"
    },
    {
     "data": {
      "text/plain": [
       "<Figure size 432x288 with 0 Axes>"
      ]
     },
     "metadata": {},
     "output_type": "display_data"
    },
    {
     "data": {
      "text/plain": [
       "<Figure size 432x288 with 0 Axes>"
      ]
     },
     "metadata": {},
     "output_type": "display_data"
    },
    {
     "data": {
      "text/plain": [
       "<Figure size 432x288 with 0 Axes>"
      ]
     },
     "metadata": {},
     "output_type": "display_data"
    },
    {
     "data": {
      "text/plain": [
       "<Figure size 432x288 with 0 Axes>"
      ]
     },
     "metadata": {},
     "output_type": "display_data"
    },
    {
     "data": {
      "text/plain": [
       "<Figure size 432x288 with 0 Axes>"
      ]
     },
     "metadata": {},
     "output_type": "display_data"
    },
    {
     "data": {
      "text/plain": [
       "<Figure size 432x288 with 0 Axes>"
      ]
     },
     "metadata": {},
     "output_type": "display_data"
    },
    {
     "data": {
      "text/plain": [
       "<Figure size 432x288 with 0 Axes>"
      ]
     },
     "metadata": {},
     "output_type": "display_data"
    },
    {
     "data": {
      "text/plain": [
       "<Figure size 432x288 with 0 Axes>"
      ]
     },
     "metadata": {},
     "output_type": "display_data"
    },
    {
     "data": {
      "text/plain": [
       "<Figure size 432x288 with 0 Axes>"
      ]
     },
     "metadata": {},
     "output_type": "display_data"
    },
    {
     "data": {
      "text/plain": [
       "<Figure size 432x288 with 0 Axes>"
      ]
     },
     "metadata": {},
     "output_type": "display_data"
    },
    {
     "data": {
      "text/plain": [
       "<Figure size 432x288 with 0 Axes>"
      ]
     },
     "metadata": {},
     "output_type": "display_data"
    },
    {
     "data": {
      "text/plain": [
       "<Figure size 432x288 with 0 Axes>"
      ]
     },
     "metadata": {},
     "output_type": "display_data"
    },
    {
     "data": {
      "text/plain": [
       "<Figure size 432x288 with 0 Axes>"
      ]
     },
     "metadata": {},
     "output_type": "display_data"
    },
    {
     "data": {
      "text/plain": [
       "<Figure size 432x288 with 0 Axes>"
      ]
     },
     "metadata": {},
     "output_type": "display_data"
    },
    {
     "data": {
      "text/plain": [
       "<Figure size 432x288 with 0 Axes>"
      ]
     },
     "metadata": {},
     "output_type": "display_data"
    },
    {
     "data": {
      "text/plain": [
       "<Figure size 432x288 with 0 Axes>"
      ]
     },
     "metadata": {},
     "output_type": "display_data"
    },
    {
     "data": {
      "text/plain": [
       "<Figure size 432x288 with 0 Axes>"
      ]
     },
     "metadata": {},
     "output_type": "display_data"
    },
    {
     "data": {
      "text/plain": [
       "<Figure size 432x288 with 0 Axes>"
      ]
     },
     "metadata": {},
     "output_type": "display_data"
    },
    {
     "data": {
      "text/plain": [
       "<Figure size 432x288 with 0 Axes>"
      ]
     },
     "metadata": {},
     "output_type": "display_data"
    },
    {
     "data": {
      "text/plain": [
       "<Figure size 432x288 with 0 Axes>"
      ]
     },
     "metadata": {},
     "output_type": "display_data"
    },
    {
     "data": {
      "text/plain": [
       "<Figure size 432x288 with 0 Axes>"
      ]
     },
     "metadata": {},
     "output_type": "display_data"
    },
    {
     "data": {
      "text/plain": [
       "<Figure size 432x288 with 0 Axes>"
      ]
     },
     "metadata": {},
     "output_type": "display_data"
    },
    {
     "data": {
      "text/plain": [
       "<Figure size 432x288 with 0 Axes>"
      ]
     },
     "metadata": {},
     "output_type": "display_data"
    },
    {
     "data": {
      "text/plain": [
       "<Figure size 432x288 with 0 Axes>"
      ]
     },
     "metadata": {},
     "output_type": "display_data"
    },
    {
     "data": {
      "text/plain": [
       "<Figure size 432x288 with 0 Axes>"
      ]
     },
     "metadata": {},
     "output_type": "display_data"
    },
    {
     "data": {
      "text/plain": [
       "<Figure size 432x288 with 0 Axes>"
      ]
     },
     "metadata": {},
     "output_type": "display_data"
    },
    {
     "data": {
      "text/plain": [
       "<Figure size 432x288 with 0 Axes>"
      ]
     },
     "metadata": {},
     "output_type": "display_data"
    },
    {
     "data": {
      "text/plain": [
       "<Figure size 432x288 with 0 Axes>"
      ]
     },
     "metadata": {},
     "output_type": "display_data"
    },
    {
     "data": {
      "text/plain": [
       "<Figure size 432x288 with 0 Axes>"
      ]
     },
     "metadata": {},
     "output_type": "display_data"
    },
    {
     "data": {
      "image/png": "[encoded data removed]",
      "text/plain": [
       "<Figure size 432x288 with 2 Axes>"
      ]
     },
     "metadata": {},
     "output_type": "display_data"
    }
   ],
   "source": [
    "results = ml.main()"
   ]
  },
  {
   "cell_type": "code",
   "execution_count": 21,
   "metadata": {},
   "outputs": [
    {
     "data": {
      "text/html": [
       "<div>\n",
       "<style scoped>\n",
       "    .dataframe tbody tr th:only-of-type {\n",
       "        vertical-align: middle;\n",
       "    }\n",
       "\n",
       "    .dataframe tbody tr th {\n",
       "        vertical-align: top;\n",
       "    }\n",
       "\n",
       "    .dataframe thead th {\n",
       "        text-align: right;\n",
       "    }\n",
       "</style>\n",
       "<table border=\"1\" class=\"dataframe\">\n",
       "  <thead>\n",
       "    <tr style=\"text-align: right;\">\n",
       "      <th></th>\n",
       "      <th>training_dates</th>\n",
       "      <th>testing_dates</th>\n",
       "      <th>model_key</th>\n",
       "      <th>classifier</th>\n",
       "      <th>parameters</th>\n",
       "      <th>auc-roc</th>\n",
       "      <th>p_at_1</th>\n",
       "      <th>p_at_2</th>\n",
       "      <th>p_at_5</th>\n",
       "      <th>p_at_10</th>\n",
       "      <th>...</th>\n",
       "      <th>r_at_20</th>\n",
       "      <th>r_at_30</th>\n",
       "      <th>r_at_50</th>\n",
       "      <th>f1_at_1</th>\n",
       "      <th>f1_at_2</th>\n",
       "      <th>f1_at_5</th>\n",
       "      <th>f1_at_10</th>\n",
       "      <th>f1_at_20</th>\n",
       "      <th>f1_at_30</th>\n",
       "      <th>f1_at_50</th>\n",
       "    </tr>\n",
       "  </thead>\n",
       "  <tbody>\n",
       "    <tr>\n",
       "      <th>0</th>\n",
       "      <td>(2005-01-01 00:00:00, 2005-12-31 00:00:00)</td>\n",
       "      <td>(2006-01-01 00:00:00, 2006-12-31 00:00:00)</td>\n",
       "      <td>RF</td>\n",
       "      <td>(DecisionTreeClassifier(class_weight=None, cri...</td>\n",
       "      <td>{'max_depth': 5, 'max_features': 'sqrt', 'min_...</td>\n",
       "      <td>0.935344</td>\n",
       "      <td>1.000000</td>\n",
       "      <td>1.000000</td>\n",
       "      <td>0.853659</td>\n",
       "      <td>0.804878</td>\n",
       "      <td>...</td>\n",
       "      <td>0.756579</td>\n",
       "      <td>0.888158</td>\n",
       "      <td>0.986842</td>\n",
       "      <td>0.100000</td>\n",
       "      <td>0.190476</td>\n",
       "      <td>0.362694</td>\n",
       "      <td>0.564103</td>\n",
       "      <td>0.725552</td>\n",
       "      <td>0.676692</td>\n",
       "      <td>0.531915</td>\n",
       "    </tr>\n",
       "    <tr>\n",
       "      <th>1</th>\n",
       "      <td>(2005-01-01 00:00:00, 2005-12-31 00:00:00)</td>\n",
       "      <td>(2006-01-01 00:00:00, 2006-12-31 00:00:00)</td>\n",
       "      <td>RF</td>\n",
       "      <td>(DecisionTreeClassifier(class_weight=None, cri...</td>\n",
       "      <td>{'max_depth': 50, 'max_features': 'sqrt', 'min...</td>\n",
       "      <td>0.928023</td>\n",
       "      <td>0.875000</td>\n",
       "      <td>0.875000</td>\n",
       "      <td>0.878049</td>\n",
       "      <td>0.841463</td>\n",
       "      <td>...</td>\n",
       "      <td>0.730263</td>\n",
       "      <td>0.881579</td>\n",
       "      <td>0.973684</td>\n",
       "      <td>0.087500</td>\n",
       "      <td>0.166667</td>\n",
       "      <td>0.373057</td>\n",
       "      <td>0.589744</td>\n",
       "      <td>0.700315</td>\n",
       "      <td>0.671679</td>\n",
       "      <td>0.524823</td>\n",
       "    </tr>\n",
       "    <tr>\n",
       "      <th>2</th>\n",
       "      <td>(2005-01-01 00:00:00, 2005-12-31 00:00:00)</td>\n",
       "      <td>(2006-01-01 00:00:00, 2006-12-31 00:00:00)</td>\n",
       "      <td>DT</td>\n",
       "      <td>DecisionTreeClassifier(class_weight=None, crit...</td>\n",
       "      <td>{'criterion': 'gini', 'max_depth': 5, 'min_sam...</td>\n",
       "      <td>0.891340</td>\n",
       "      <td>0.250000</td>\n",
       "      <td>0.125000</td>\n",
       "      <td>0.560976</td>\n",
       "      <td>0.658537</td>\n",
       "      <td>...</td>\n",
       "      <td>0.664474</td>\n",
       "      <td>0.901316</td>\n",
       "      <td>1.000000</td>\n",
       "      <td>0.025000</td>\n",
       "      <td>0.023810</td>\n",
       "      <td>0.238342</td>\n",
       "      <td>0.461538</td>\n",
       "      <td>0.637224</td>\n",
       "      <td>0.686717</td>\n",
       "      <td>0.539007</td>\n",
       "    </tr>\n",
       "    <tr>\n",
       "      <th>3</th>\n",
       "      <td>(2005-01-01 00:00:00, 2005-12-31 00:00:00)</td>\n",
       "      <td>(2006-01-01 00:00:00, 2006-12-31 00:00:00)</td>\n",
       "      <td>DT</td>\n",
       "      <td>DecisionTreeClassifier(class_weight=None, crit...</td>\n",
       "      <td>{'criterion': 'gini', 'max_depth': 5, 'min_sam...</td>\n",
       "      <td>0.923174</td>\n",
       "      <td>0.125000</td>\n",
       "      <td>0.062500</td>\n",
       "      <td>0.609756</td>\n",
       "      <td>0.682927</td>\n",
       "      <td>...</td>\n",
       "      <td>0.664474</td>\n",
       "      <td>0.953947</td>\n",
       "      <td>1.000000</td>\n",
       "      <td>0.012500</td>\n",
       "      <td>0.011905</td>\n",
       "      <td>0.259067</td>\n",
       "      <td>0.478632</td>\n",
       "      <td>0.637224</td>\n",
       "      <td>0.726817</td>\n",
       "      <td>0.539007</td>\n",
       "    </tr>\n",
       "    <tr>\n",
       "      <th>4</th>\n",
       "      <td>(2005-01-01 00:00:00, 2005-12-31 00:00:00)</td>\n",
       "      <td>(2006-01-01 00:00:00, 2006-12-31 00:00:00)</td>\n",
       "      <td>DT</td>\n",
       "      <td>DecisionTreeClassifier(class_weight=None, crit...</td>\n",
       "      <td>{'criterion': 'gini', 'max_depth': 50, 'min_sa...</td>\n",
       "      <td>0.772381</td>\n",
       "      <td>0.250000</td>\n",
       "      <td>0.125000</td>\n",
       "      <td>0.512195</td>\n",
       "      <td>0.341463</td>\n",
       "      <td>...</td>\n",
       "      <td>0.625000</td>\n",
       "      <td>0.625000</td>\n",
       "      <td>1.000000</td>\n",
       "      <td>0.025000</td>\n",
       "      <td>0.023810</td>\n",
       "      <td>0.217617</td>\n",
       "      <td>0.239316</td>\n",
       "      <td>0.599369</td>\n",
       "      <td>0.476190</td>\n",
       "      <td>0.539007</td>\n",
       "    </tr>\n",
       "    <tr>\n",
       "      <th>5</th>\n",
       "      <td>(2005-01-01 00:00:00, 2005-12-31 00:00:00)</td>\n",
       "      <td>(2006-01-01 00:00:00, 2006-12-31 00:00:00)</td>\n",
       "      <td>DT</td>\n",
       "      <td>DecisionTreeClassifier(class_weight=None, crit...</td>\n",
       "      <td>{'criterion': 'gini', 'max_depth': 50, 'min_sa...</td>\n",
       "      <td>0.833904</td>\n",
       "      <td>0.250000</td>\n",
       "      <td>0.375000</td>\n",
       "      <td>0.414634</td>\n",
       "      <td>0.536585</td>\n",
       "      <td>...</td>\n",
       "      <td>0.730263</td>\n",
       "      <td>0.763158</td>\n",
       "      <td>1.000000</td>\n",
       "      <td>0.025000</td>\n",
       "      <td>0.071429</td>\n",
       "      <td>0.176166</td>\n",
       "      <td>0.376068</td>\n",
       "      <td>0.700315</td>\n",
       "      <td>0.581454</td>\n",
       "      <td>0.539007</td>\n",
       "    </tr>\n",
       "    <tr>\n",
       "      <th>6</th>\n",
       "      <td>(2005-01-01 00:00:00, 2005-12-31 00:00:00)</td>\n",
       "      <td>(2006-01-01 00:00:00, 2006-12-31 00:00:00)</td>\n",
       "      <td>DT</td>\n",
       "      <td>DecisionTreeClassifier(class_weight=None, crit...</td>\n",
       "      <td>{'criterion': 'entropy', 'max_depth': 5, 'min_...</td>\n",
       "      <td>0.925334</td>\n",
       "      <td>0.250000</td>\n",
       "      <td>0.562500</td>\n",
       "      <td>0.731707</td>\n",
       "      <td>0.792683</td>\n",
       "      <td>...</td>\n",
       "      <td>0.631579</td>\n",
       "      <td>0.953947</td>\n",
       "      <td>1.000000</td>\n",
       "      <td>0.025000</td>\n",
       "      <td>0.107143</td>\n",
       "      <td>0.310881</td>\n",
       "      <td>0.555556</td>\n",
       "      <td>0.605678</td>\n",
       "      <td>0.726817</td>\n",
       "      <td>0.539007</td>\n",
       "    </tr>\n",
       "    <tr>\n",
       "      <th>7</th>\n",
       "      <td>(2005-01-01 00:00:00, 2005-12-31 00:00:00)</td>\n",
       "      <td>(2006-01-01 00:00:00, 2006-12-31 00:00:00)</td>\n",
       "      <td>DT</td>\n",
       "      <td>DecisionTreeClassifier(class_weight=None, crit...</td>\n",
       "      <td>{'criterion': 'entropy', 'max_depth': 5, 'min_...</td>\n",
       "      <td>0.929064</td>\n",
       "      <td>0.250000</td>\n",
       "      <td>0.562500</td>\n",
       "      <td>0.731707</td>\n",
       "      <td>0.792683</td>\n",
       "      <td>...</td>\n",
       "      <td>0.631579</td>\n",
       "      <td>0.960526</td>\n",
       "      <td>1.000000</td>\n",
       "      <td>0.025000</td>\n",
       "      <td>0.107143</td>\n",
       "      <td>0.310881</td>\n",
       "      <td>0.555556</td>\n",
       "      <td>0.605678</td>\n",
       "      <td>0.731830</td>\n",
       "      <td>0.539007</td>\n",
       "    </tr>\n",
       "    <tr>\n",
       "      <th>8</th>\n",
       "      <td>(2005-01-01 00:00:00, 2005-12-31 00:00:00)</td>\n",
       "      <td>(2006-01-01 00:00:00, 2006-12-31 00:00:00)</td>\n",
       "      <td>DT</td>\n",
       "      <td>DecisionTreeClassifier(class_weight=None, crit...</td>\n",
       "      <td>{'criterion': 'entropy', 'max_depth': 50, 'min...</td>\n",
       "      <td>0.786707</td>\n",
       "      <td>0.750000</td>\n",
       "      <td>0.375000</td>\n",
       "      <td>0.609756</td>\n",
       "      <td>0.414634</td>\n",
       "      <td>...</td>\n",
       "      <td>0.644737</td>\n",
       "      <td>0.644737</td>\n",
       "      <td>1.000000</td>\n",
       "      <td>0.075000</td>\n",
       "      <td>0.071429</td>\n",
       "      <td>0.259067</td>\n",
       "      <td>0.290598</td>\n",
       "      <td>0.618297</td>\n",
       "      <td>0.491228</td>\n",
       "      <td>0.539007</td>\n",
       "    </tr>\n",
       "    <tr>\n",
       "      <th>9</th>\n",
       "      <td>(2005-01-01 00:00:00, 2005-12-31 00:00:00)</td>\n",
       "      <td>(2006-01-01 00:00:00, 2006-12-31 00:00:00)</td>\n",
       "      <td>DT</td>\n",
       "      <td>DecisionTreeClassifier(class_weight=None, crit...</td>\n",
       "      <td>{'criterion': 'entropy', 'max_depth': 50, 'min...</td>\n",
       "      <td>0.832032</td>\n",
       "      <td>0.250000</td>\n",
       "      <td>0.625000</td>\n",
       "      <td>0.463415</td>\n",
       "      <td>0.597561</td>\n",
       "      <td>...</td>\n",
       "      <td>0.717105</td>\n",
       "      <td>0.750000</td>\n",
       "      <td>1.000000</td>\n",
       "      <td>0.025000</td>\n",
       "      <td>0.119048</td>\n",
       "      <td>0.196891</td>\n",
       "      <td>0.418803</td>\n",
       "      <td>0.687697</td>\n",
       "      <td>0.571429</td>\n",
       "      <td>0.539007</td>\n",
       "    </tr>\n",
       "    <tr>\n",
       "      <th>10</th>\n",
       "      <td>(2005-01-01 00:00:00, 2006-12-31 00:00:00)</td>\n",
       "      <td>(2007-01-01 00:00:00, 2007-12-31 00:00:00)</td>\n",
       "      <td>RF</td>\n",
       "      <td>(DecisionTreeClassifier(class_weight=None, cri...</td>\n",
       "      <td>{'max_depth': 5, 'max_features': 'sqrt', 'min_...</td>\n",
       "      <td>0.935078</td>\n",
       "      <td>1.000000</td>\n",
       "      <td>0.937500</td>\n",
       "      <td>0.825000</td>\n",
       "      <td>0.775000</td>\n",
       "      <td>...</td>\n",
       "      <td>0.776923</td>\n",
       "      <td>0.892308</td>\n",
       "      <td>0.992308</td>\n",
       "      <td>0.115942</td>\n",
       "      <td>0.205479</td>\n",
       "      <td>0.388235</td>\n",
       "      <td>0.590476</td>\n",
       "      <td>0.696552</td>\n",
       "      <td>0.627027</td>\n",
       "      <td>0.485876</td>\n",
       "    </tr>\n",
       "    <tr>\n",
       "      <th>11</th>\n",
       "      <td>(2005-01-01 00:00:00, 2006-12-31 00:00:00)</td>\n",
       "      <td>(2007-01-01 00:00:00, 2007-12-31 00:00:00)</td>\n",
       "      <td>RF</td>\n",
       "      <td>(DecisionTreeClassifier(class_weight=None, cri...</td>\n",
       "      <td>{'max_depth': 50, 'max_features': 'sqrt', 'min...</td>\n",
       "      <td>0.941273</td>\n",
       "      <td>0.875000</td>\n",
       "      <td>0.875000</td>\n",
       "      <td>0.825000</td>\n",
       "      <td>0.775000</td>\n",
       "      <td>...</td>\n",
       "      <td>0.792308</td>\n",
       "      <td>0.923077</td>\n",
       "      <td>0.992308</td>\n",
       "      <td>0.101449</td>\n",
       "      <td>0.191781</td>\n",
       "      <td>0.388235</td>\n",
       "      <td>0.590476</td>\n",
       "      <td>0.710345</td>\n",
       "      <td>0.648649</td>\n",
       "      <td>0.485876</td>\n",
       "    </tr>\n",
       "    <tr>\n",
       "      <th>12</th>\n",
       "      <td>(2005-01-01 00:00:00, 2006-12-31 00:00:00)</td>\n",
       "      <td>(2007-01-01 00:00:00, 2007-12-31 00:00:00)</td>\n",
       "      <td>DT</td>\n",
       "      <td>DecisionTreeClassifier(class_weight=None, crit...</td>\n",
       "      <td>{'criterion': 'gini', 'max_depth': 5, 'min_sam...</td>\n",
       "      <td>0.934918</td>\n",
       "      <td>0.625000</td>\n",
       "      <td>0.812500</td>\n",
       "      <td>0.775000</td>\n",
       "      <td>0.587500</td>\n",
       "      <td>...</td>\n",
       "      <td>0.707692</td>\n",
       "      <td>0.976923</td>\n",
       "      <td>1.000000</td>\n",
       "      <td>0.072464</td>\n",
       "      <td>0.178082</td>\n",
       "      <td>0.364706</td>\n",
       "      <td>0.447619</td>\n",
       "      <td>0.634483</td>\n",
       "      <td>0.686486</td>\n",
       "      <td>0.489642</td>\n",
       "    </tr>\n",
       "    <tr>\n",
       "      <th>13</th>\n",
       "      <td>(2005-01-01 00:00:00, 2006-12-31 00:00:00)</td>\n",
       "      <td>(2007-01-01 00:00:00, 2007-12-31 00:00:00)</td>\n",
       "      <td>DT</td>\n",
       "      <td>DecisionTreeClassifier(class_weight=None, crit...</td>\n",
       "      <td>{'criterion': 'gini', 'max_depth': 5, 'min_sam...</td>\n",
       "      <td>0.939153</td>\n",
       "      <td>0.625000</td>\n",
       "      <td>0.812500</td>\n",
       "      <td>0.775000</td>\n",
       "      <td>0.600000</td>\n",
       "      <td>...</td>\n",
       "      <td>0.715385</td>\n",
       "      <td>0.984615</td>\n",
       "      <td>1.000000</td>\n",
       "      <td>0.072464</td>\n",
       "      <td>0.178082</td>\n",
       "      <td>0.364706</td>\n",
       "      <td>0.457143</td>\n",
       "      <td>0.641379</td>\n",
       "      <td>0.691892</td>\n",
       "      <td>0.489642</td>\n",
       "    </tr>\n",
       "    <tr>\n",
       "      <th>14</th>\n",
       "      <td>(2005-01-01 00:00:00, 2006-12-31 00:00:00)</td>\n",
       "      <td>(2007-01-01 00:00:00, 2007-12-31 00:00:00)</td>\n",
       "      <td>DT</td>\n",
       "      <td>DecisionTreeClassifier(class_weight=None, crit...</td>\n",
       "      <td>{'criterion': 'gini', 'max_depth': 50, 'min_sa...</td>\n",
       "      <td>0.817093</td>\n",
       "      <td>0.250000</td>\n",
       "      <td>0.125000</td>\n",
       "      <td>0.375000</td>\n",
       "      <td>0.200000</td>\n",
       "      <td>...</td>\n",
       "      <td>0.730769</td>\n",
       "      <td>0.730769</td>\n",
       "      <td>1.000000</td>\n",
       "      <td>0.028986</td>\n",
       "      <td>0.027397</td>\n",
       "      <td>0.176471</td>\n",
       "      <td>0.152381</td>\n",
       "      <td>0.655172</td>\n",
       "      <td>0.513514</td>\n",
       "      <td>0.489642</td>\n",
       "    </tr>\n",
       "    <tr>\n",
       "      <th>15</th>\n",
       "      <td>(2005-01-01 00:00:00, 2006-12-31 00:00:00)</td>\n",
       "      <td>(2007-01-01 00:00:00, 2007-12-31 00:00:00)</td>\n",
       "      <td>DT</td>\n",
       "      <td>DecisionTreeClassifier(class_weight=None, crit...</td>\n",
       "      <td>{'criterion': 'gini', 'max_depth': 50, 'min_sa...</td>\n",
       "      <td>0.873466</td>\n",
       "      <td>0.250000</td>\n",
       "      <td>0.187500</td>\n",
       "      <td>0.450000</td>\n",
       "      <td>0.437500</td>\n",
       "      <td>...</td>\n",
       "      <td>0.738462</td>\n",
       "      <td>0.846154</td>\n",
       "      <td>1.000000</td>\n",
       "      <td>0.028986</td>\n",
       "      <td>0.041096</td>\n",
       "      <td>0.211765</td>\n",
       "      <td>0.333333</td>\n",
       "      <td>0.662069</td>\n",
       "      <td>0.594595</td>\n",
       "      <td>0.489642</td>\n",
       "    </tr>\n",
       "    <tr>\n",
       "      <th>16</th>\n",
       "      <td>(2005-01-01 00:00:00, 2006-12-31 00:00:00)</td>\n",
       "      <td>(2007-01-01 00:00:00, 2007-12-31 00:00:00)</td>\n",
       "      <td>DT</td>\n",
       "      <td>DecisionTreeClassifier(class_weight=None, crit...</td>\n",
       "      <td>{'criterion': 'entropy', 'max_depth': 5, 'min_...</td>\n",
       "      <td>0.940936</td>\n",
       "      <td>1.000000</td>\n",
       "      <td>0.812500</td>\n",
       "      <td>0.750000</td>\n",
       "      <td>0.675000</td>\n",
       "      <td>...</td>\n",
       "      <td>0.807692</td>\n",
       "      <td>0.969231</td>\n",
       "      <td>1.000000</td>\n",
       "      <td>0.115942</td>\n",
       "      <td>0.178082</td>\n",
       "      <td>0.352941</td>\n",
       "      <td>0.514286</td>\n",
       "      <td>0.724138</td>\n",
       "      <td>0.681081</td>\n",
       "      <td>0.489642</td>\n",
       "    </tr>\n",
       "    <tr>\n",
       "      <th>17</th>\n",
       "      <td>(2005-01-01 00:00:00, 2006-12-31 00:00:00)</td>\n",
       "      <td>(2007-01-01 00:00:00, 2007-12-31 00:00:00)</td>\n",
       "      <td>DT</td>\n",
       "      <td>DecisionTreeClassifier(class_weight=None, crit...</td>\n",
       "      <td>{'criterion': 'entropy', 'max_depth': 5, 'min_...</td>\n",
       "      <td>0.942771</td>\n",
       "      <td>1.000000</td>\n",
       "      <td>0.750000</td>\n",
       "      <td>0.725000</td>\n",
       "      <td>0.662500</td>\n",
       "      <td>...</td>\n",
       "      <td>0.800000</td>\n",
       "      <td>0.976923</td>\n",
       "      <td>1.000000</td>\n",
       "      <td>0.115942</td>\n",
       "      <td>0.164384</td>\n",
       "      <td>0.341176</td>\n",
       "      <td>0.504762</td>\n",
       "      <td>0.717241</td>\n",
       "      <td>0.686486</td>\n",
       "      <td>0.489642</td>\n",
       "    </tr>\n",
       "    <tr>\n",
       "      <th>18</th>\n",
       "      <td>(2005-01-01 00:00:00, 2006-12-31 00:00:00)</td>\n",
       "      <td>(2007-01-01 00:00:00, 2007-12-31 00:00:00)</td>\n",
       "      <td>DT</td>\n",
       "      <td>DecisionTreeClassifier(class_weight=None, crit...</td>\n",
       "      <td>{'criterion': 'entropy', 'max_depth': 50, 'min...</td>\n",
       "      <td>0.778980</td>\n",
       "      <td>0.125000</td>\n",
       "      <td>0.062500</td>\n",
       "      <td>0.425000</td>\n",
       "      <td>0.387500</td>\n",
       "      <td>...</td>\n",
       "      <td>0.630769</td>\n",
       "      <td>0.630769</td>\n",
       "      <td>1.000000</td>\n",
       "      <td>0.014493</td>\n",
       "      <td>0.013699</td>\n",
       "      <td>0.200000</td>\n",
       "      <td>0.295238</td>\n",
       "      <td>0.565517</td>\n",
       "      <td>0.443243</td>\n",
       "      <td>0.489642</td>\n",
       "    </tr>\n",
       "    <tr>\n",
       "      <th>19</th>\n",
       "      <td>(2005-01-01 00:00:00, 2006-12-31 00:00:00)</td>\n",
       "      <td>(2007-01-01 00:00:00, 2007-12-31 00:00:00)</td>\n",
       "      <td>DT</td>\n",
       "      <td>DecisionTreeClassifier(class_weight=None, crit...</td>\n",
       "      <td>{'criterion': 'entropy', 'max_depth': 50, 'min...</td>\n",
       "      <td>0.828940</td>\n",
       "      <td>0.250000</td>\n",
       "      <td>0.500000</td>\n",
       "      <td>0.425000</td>\n",
       "      <td>0.575000</td>\n",
       "      <td>...</td>\n",
       "      <td>0.738462</td>\n",
       "      <td>0.738462</td>\n",
       "      <td>1.000000</td>\n",
       "      <td>0.028986</td>\n",
       "      <td>0.109589</td>\n",
       "      <td>0.200000</td>\n",
       "      <td>0.438095</td>\n",
       "      <td>0.662069</td>\n",
       "      <td>0.518919</td>\n",
       "      <td>0.489642</td>\n",
       "    </tr>\n",
       "    <tr>\n",
       "      <th>20</th>\n",
       "      <td>(2005-01-01 00:00:00, 2007-12-31 00:00:00)</td>\n",
       "      <td>(2008-01-01 00:00:00, 2008-12-31 00:00:00)</td>\n",
       "      <td>RF</td>\n",
       "      <td>(DecisionTreeClassifier(class_weight=None, cri...</td>\n",
       "      <td>{'max_depth': 5, 'max_features': 'sqrt', 'min_...</td>\n",
       "      <td>0.957503</td>\n",
       "      <td>0.875000</td>\n",
       "      <td>0.882353</td>\n",
       "      <td>0.860465</td>\n",
       "      <td>0.825581</td>\n",
       "      <td>...</td>\n",
       "      <td>0.835821</td>\n",
       "      <td>0.977612</td>\n",
       "      <td>1.000000</td>\n",
       "      <td>0.098592</td>\n",
       "      <td>0.198675</td>\n",
       "      <td>0.418079</td>\n",
       "      <td>0.645455</td>\n",
       "      <td>0.732026</td>\n",
       "      <td>0.668367</td>\n",
       "      <td>0.475177</td>\n",
       "    </tr>\n",
       "    <tr>\n",
       "      <th>21</th>\n",
       "      <td>(2005-01-01 00:00:00, 2007-12-31 00:00:00)</td>\n",
       "      <td>(2008-01-01 00:00:00, 2008-12-31 00:00:00)</td>\n",
       "      <td>RF</td>\n",
       "      <td>(DecisionTreeClassifier(class_weight=None, cri...</td>\n",
       "      <td>{'max_depth': 50, 'max_features': 'sqrt', 'min...</td>\n",
       "      <td>0.953633</td>\n",
       "      <td>1.000000</td>\n",
       "      <td>0.941176</td>\n",
       "      <td>0.813953</td>\n",
       "      <td>0.779070</td>\n",
       "      <td>...</td>\n",
       "      <td>0.835821</td>\n",
       "      <td>0.970149</td>\n",
       "      <td>0.992537</td>\n",
       "      <td>0.112676</td>\n",
       "      <td>0.211921</td>\n",
       "      <td>0.395480</td>\n",
       "      <td>0.609091</td>\n",
       "      <td>0.732026</td>\n",
       "      <td>0.663265</td>\n",
       "      <td>0.471631</td>\n",
       "    </tr>\n",
       "    <tr>\n",
       "      <th>22</th>\n",
       "      <td>(2005-01-01 00:00:00, 2007-12-31 00:00:00)</td>\n",
       "      <td>(2008-01-01 00:00:00, 2008-12-31 00:00:00)</td>\n",
       "      <td>DT</td>\n",
       "      <td>DecisionTreeClassifier(class_weight=None, crit...</td>\n",
       "      <td>{'criterion': 'gini', 'max_depth': 5, 'min_sam...</td>\n",
       "      <td>0.930875</td>\n",
       "      <td>1.000000</td>\n",
       "      <td>0.941176</td>\n",
       "      <td>0.837209</td>\n",
       "      <td>0.686047</td>\n",
       "      <td>...</td>\n",
       "      <td>0.768657</td>\n",
       "      <td>0.940299</td>\n",
       "      <td>1.000000</td>\n",
       "      <td>0.112676</td>\n",
       "      <td>0.211921</td>\n",
       "      <td>0.406780</td>\n",
       "      <td>0.536364</td>\n",
       "      <td>0.673203</td>\n",
       "      <td>0.642857</td>\n",
       "      <td>0.475177</td>\n",
       "    </tr>\n",
       "    <tr>\n",
       "      <th>23</th>\n",
       "      <td>(2005-01-01 00:00:00, 2007-12-31 00:00:00)</td>\n",
       "      <td>(2008-01-01 00:00:00, 2008-12-31 00:00:00)</td>\n",
       "      <td>DT</td>\n",
       "      <td>DecisionTreeClassifier(class_weight=None, crit...</td>\n",
       "      <td>{'criterion': 'gini', 'max_depth': 5, 'min_sam...</td>\n",
       "      <td>0.927149</td>\n",
       "      <td>1.000000</td>\n",
       "      <td>0.941176</td>\n",
       "      <td>0.837209</td>\n",
       "      <td>0.686047</td>\n",
       "      <td>...</td>\n",
       "      <td>0.768657</td>\n",
       "      <td>0.932836</td>\n",
       "      <td>1.000000</td>\n",
       "      <td>0.112676</td>\n",
       "      <td>0.211921</td>\n",
       "      <td>0.406780</td>\n",
       "      <td>0.536364</td>\n",
       "      <td>0.673203</td>\n",
       "      <td>0.637755</td>\n",
       "      <td>0.475177</td>\n",
       "    </tr>\n",
       "    <tr>\n",
       "      <th>24</th>\n",
       "      <td>(2005-01-01 00:00:00, 2007-12-31 00:00:00)</td>\n",
       "      <td>(2008-01-01 00:00:00, 2008-12-31 00:00:00)</td>\n",
       "      <td>DT</td>\n",
       "      <td>DecisionTreeClassifier(class_weight=None, crit...</td>\n",
       "      <td>{'criterion': 'gini', 'max_depth': 50, 'min_sa...</td>\n",
       "      <td>0.796223</td>\n",
       "      <td>0.125000</td>\n",
       "      <td>0.058824</td>\n",
       "      <td>0.325581</td>\n",
       "      <td>0.267442</td>\n",
       "      <td>...</td>\n",
       "      <td>0.679104</td>\n",
       "      <td>0.679104</td>\n",
       "      <td>1.000000</td>\n",
       "      <td>0.014085</td>\n",
       "      <td>0.013245</td>\n",
       "      <td>0.158192</td>\n",
       "      <td>0.209091</td>\n",
       "      <td>0.594771</td>\n",
       "      <td>0.464286</td>\n",
       "      <td>0.475177</td>\n",
       "    </tr>\n",
       "    <tr>\n",
       "      <th>25</th>\n",
       "      <td>(2005-01-01 00:00:00, 2007-12-31 00:00:00)</td>\n",
       "      <td>(2008-01-01 00:00:00, 2008-12-31 00:00:00)</td>\n",
       "      <td>DT</td>\n",
       "      <td>DecisionTreeClassifier(class_weight=None, crit...</td>\n",
       "      <td>{'criterion': 'gini', 'max_depth': 50, 'min_sa...</td>\n",
       "      <td>0.862638</td>\n",
       "      <td>0.125000</td>\n",
       "      <td>0.058824</td>\n",
       "      <td>0.395349</td>\n",
       "      <td>0.406977</td>\n",
       "      <td>...</td>\n",
       "      <td>0.753731</td>\n",
       "      <td>0.820896</td>\n",
       "      <td>1.000000</td>\n",
       "      <td>0.014085</td>\n",
       "      <td>0.013245</td>\n",
       "      <td>0.192090</td>\n",
       "      <td>0.318182</td>\n",
       "      <td>0.660131</td>\n",
       "      <td>0.561224</td>\n",
       "      <td>0.475177</td>\n",
       "    </tr>\n",
       "    <tr>\n",
       "      <th>26</th>\n",
       "      <td>(2005-01-01 00:00:00, 2007-12-31 00:00:00)</td>\n",
       "      <td>(2008-01-01 00:00:00, 2008-12-31 00:00:00)</td>\n",
       "      <td>DT</td>\n",
       "      <td>DecisionTreeClassifier(class_weight=None, crit...</td>\n",
       "      <td>{'criterion': 'entropy', 'max_depth': 5, 'min_...</td>\n",
       "      <td>0.948377</td>\n",
       "      <td>1.000000</td>\n",
       "      <td>1.000000</td>\n",
       "      <td>0.813953</td>\n",
       "      <td>0.639535</td>\n",
       "      <td>...</td>\n",
       "      <td>0.835821</td>\n",
       "      <td>0.962687</td>\n",
       "      <td>1.000000</td>\n",
       "      <td>0.112676</td>\n",
       "      <td>0.225166</td>\n",
       "      <td>0.395480</td>\n",
       "      <td>0.500000</td>\n",
       "      <td>0.732026</td>\n",
       "      <td>0.658163</td>\n",
       "      <td>0.475177</td>\n",
       "    </tr>\n",
       "    <tr>\n",
       "      <th>27</th>\n",
       "      <td>(2005-01-01 00:00:00, 2007-12-31 00:00:00)</td>\n",
       "      <td>(2008-01-01 00:00:00, 2008-12-31 00:00:00)</td>\n",
       "      <td>DT</td>\n",
       "      <td>DecisionTreeClassifier(class_weight=None, crit...</td>\n",
       "      <td>{'criterion': 'entropy', 'max_depth': 5, 'min_...</td>\n",
       "      <td>0.948377</td>\n",
       "      <td>1.000000</td>\n",
       "      <td>1.000000</td>\n",
       "      <td>0.813953</td>\n",
       "      <td>0.639535</td>\n",
       "      <td>...</td>\n",
       "      <td>0.835821</td>\n",
       "      <td>0.962687</td>\n",
       "      <td>1.000000</td>\n",
       "      <td>0.112676</td>\n",
       "      <td>0.225166</td>\n",
       "      <td>0.395480</td>\n",
       "      <td>0.500000</td>\n",
       "      <td>0.732026</td>\n",
       "      <td>0.658163</td>\n",
       "      <td>0.475177</td>\n",
       "    </tr>\n",
       "    <tr>\n",
       "      <th>28</th>\n",
       "      <td>(2005-01-01 00:00:00, 2007-12-31 00:00:00)</td>\n",
       "      <td>(2008-01-01 00:00:00, 2008-12-31 00:00:00)</td>\n",
       "      <td>DT</td>\n",
       "      <td>DecisionTreeClassifier(class_weight=None, crit...</td>\n",
       "      <td>{'criterion': 'entropy', 'max_depth': 50, 'min...</td>\n",
       "      <td>0.811544</td>\n",
       "      <td>0.125000</td>\n",
       "      <td>0.117647</td>\n",
       "      <td>0.441860</td>\n",
       "      <td>0.337209</td>\n",
       "      <td>...</td>\n",
       "      <td>0.701493</td>\n",
       "      <td>0.701493</td>\n",
       "      <td>1.000000</td>\n",
       "      <td>0.014085</td>\n",
       "      <td>0.026490</td>\n",
       "      <td>0.214689</td>\n",
       "      <td>0.263636</td>\n",
       "      <td>0.614379</td>\n",
       "      <td>0.479592</td>\n",
       "      <td>0.475177</td>\n",
       "    </tr>\n",
       "    <tr>\n",
       "      <th>29</th>\n",
       "      <td>(2005-01-01 00:00:00, 2007-12-31 00:00:00)</td>\n",
       "      <td>(2008-01-01 00:00:00, 2008-12-31 00:00:00)</td>\n",
       "      <td>DT</td>\n",
       "      <td>DecisionTreeClassifier(class_weight=None, crit...</td>\n",
       "      <td>{'criterion': 'entropy', 'max_depth': 50, 'min...</td>\n",
       "      <td>0.831741</td>\n",
       "      <td>0.125000</td>\n",
       "      <td>0.058824</td>\n",
       "      <td>0.372093</td>\n",
       "      <td>0.418605</td>\n",
       "      <td>...</td>\n",
       "      <td>0.746269</td>\n",
       "      <td>0.746269</td>\n",
       "      <td>1.000000</td>\n",
       "      <td>0.014085</td>\n",
       "      <td>0.013245</td>\n",
       "      <td>0.180791</td>\n",
       "      <td>0.327273</td>\n",
       "      <td>0.653595</td>\n",
       "      <td>0.510204</td>\n",
       "      <td>0.475177</td>\n",
       "    </tr>\n",
       "    <tr>\n",
       "      <th>...</th>\n",
       "      <td>...</td>\n",
       "      <td>...</td>\n",
       "      <td>...</td>\n",
       "      <td>...</td>\n",
       "      <td>...</td>\n",
       "      <td>...</td>\n",
       "      <td>...</td>\n",
       "      <td>...</td>\n",
       "      <td>...</td>\n",
       "      <td>...</td>\n",
       "      <td>...</td>\n",
       "      <td>...</td>\n",
       "      <td>...</td>\n",
       "      <td>...</td>\n",
       "      <td>...</td>\n",
       "      <td>...</td>\n",
       "      <td>...</td>\n",
       "      <td>...</td>\n",
       "      <td>...</td>\n",
       "      <td>...</td>\n",
       "      <td>...</td>\n",
       "    </tr>\n",
       "    <tr>\n",
       "      <th>70</th>\n",
       "      <td>(2005-01-01 00:00:00, 2012-12-31 00:00:00)</td>\n",
       "      <td>(2013-01-01 00:00:00, 2013-12-31 00:00:00)</td>\n",
       "      <td>RF</td>\n",
       "      <td>(DecisionTreeClassifier(class_weight=None, cri...</td>\n",
       "      <td>{'max_depth': 5, 'max_features': 'sqrt', 'min_...</td>\n",
       "      <td>0.944620</td>\n",
       "      <td>0.750000</td>\n",
       "      <td>0.875000</td>\n",
       "      <td>0.850000</td>\n",
       "      <td>0.827160</td>\n",
       "      <td>...</td>\n",
       "      <td>0.812500</td>\n",
       "      <td>0.937500</td>\n",
       "      <td>0.993056</td>\n",
       "      <td>0.078947</td>\n",
       "      <td>0.175000</td>\n",
       "      <td>0.369565</td>\n",
       "      <td>0.595556</td>\n",
       "      <td>0.762215</td>\n",
       "      <td>0.695876</td>\n",
       "      <td>0.519056</td>\n",
       "    </tr>\n",
       "    <tr>\n",
       "      <th>71</th>\n",
       "      <td>(2005-01-01 00:00:00, 2012-12-31 00:00:00)</td>\n",
       "      <td>(2013-01-01 00:00:00, 2013-12-31 00:00:00)</td>\n",
       "      <td>RF</td>\n",
       "      <td>(DecisionTreeClassifier(class_weight=None, cri...</td>\n",
       "      <td>{'max_depth': 50, 'max_features': 'sqrt', 'min...</td>\n",
       "      <td>0.941014</td>\n",
       "      <td>0.875000</td>\n",
       "      <td>0.875000</td>\n",
       "      <td>0.850000</td>\n",
       "      <td>0.777778</td>\n",
       "      <td>...</td>\n",
       "      <td>0.750000</td>\n",
       "      <td>0.930556</td>\n",
       "      <td>0.993056</td>\n",
       "      <td>0.092105</td>\n",
       "      <td>0.175000</td>\n",
       "      <td>0.369565</td>\n",
       "      <td>0.560000</td>\n",
       "      <td>0.703583</td>\n",
       "      <td>0.690722</td>\n",
       "      <td>0.519056</td>\n",
       "    </tr>\n",
       "    <tr>\n",
       "      <th>72</th>\n",
       "      <td>(2005-01-01 00:00:00, 2012-12-31 00:00:00)</td>\n",
       "      <td>(2013-01-01 00:00:00, 2013-12-31 00:00:00)</td>\n",
       "      <td>DT</td>\n",
       "      <td>DecisionTreeClassifier(class_weight=None, crit...</td>\n",
       "      <td>{'criterion': 'gini', 'max_depth': 5, 'min_sam...</td>\n",
       "      <td>0.955151</td>\n",
       "      <td>0.750000</td>\n",
       "      <td>0.875000</td>\n",
       "      <td>0.800000</td>\n",
       "      <td>0.765432</td>\n",
       "      <td>...</td>\n",
       "      <td>0.763889</td>\n",
       "      <td>0.965278</td>\n",
       "      <td>1.000000</td>\n",
       "      <td>0.078947</td>\n",
       "      <td>0.175000</td>\n",
       "      <td>0.347826</td>\n",
       "      <td>0.551111</td>\n",
       "      <td>0.716612</td>\n",
       "      <td>0.716495</td>\n",
       "      <td>0.522686</td>\n",
       "    </tr>\n",
       "    <tr>\n",
       "      <th>73</th>\n",
       "      <td>(2005-01-01 00:00:00, 2012-12-31 00:00:00)</td>\n",
       "      <td>(2013-01-01 00:00:00, 2013-12-31 00:00:00)</td>\n",
       "      <td>DT</td>\n",
       "      <td>DecisionTreeClassifier(class_weight=None, crit...</td>\n",
       "      <td>{'criterion': 'gini', 'max_depth': 5, 'min_sam...</td>\n",
       "      <td>0.955151</td>\n",
       "      <td>0.750000</td>\n",
       "      <td>0.875000</td>\n",
       "      <td>0.800000</td>\n",
       "      <td>0.765432</td>\n",
       "      <td>...</td>\n",
       "      <td>0.763889</td>\n",
       "      <td>0.965278</td>\n",
       "      <td>1.000000</td>\n",
       "      <td>0.078947</td>\n",
       "      <td>0.175000</td>\n",
       "      <td>0.347826</td>\n",
       "      <td>0.551111</td>\n",
       "      <td>0.716612</td>\n",
       "      <td>0.716495</td>\n",
       "      <td>0.522686</td>\n",
       "    </tr>\n",
       "    <tr>\n",
       "      <th>74</th>\n",
       "      <td>(2005-01-01 00:00:00, 2012-12-31 00:00:00)</td>\n",
       "      <td>(2013-01-01 00:00:00, 2013-12-31 00:00:00)</td>\n",
       "      <td>DT</td>\n",
       "      <td>DecisionTreeClassifier(class_weight=None, crit...</td>\n",
       "      <td>{'criterion': 'gini', 'max_depth': 50, 'min_sa...</td>\n",
       "      <td>0.758388</td>\n",
       "      <td>0.250000</td>\n",
       "      <td>0.500000</td>\n",
       "      <td>0.550000</td>\n",
       "      <td>0.506173</td>\n",
       "      <td>...</td>\n",
       "      <td>0.576389</td>\n",
       "      <td>0.576389</td>\n",
       "      <td>1.000000</td>\n",
       "      <td>0.026316</td>\n",
       "      <td>0.100000</td>\n",
       "      <td>0.239130</td>\n",
       "      <td>0.364444</td>\n",
       "      <td>0.540717</td>\n",
       "      <td>0.427835</td>\n",
       "      <td>0.522686</td>\n",
       "    </tr>\n",
       "    <tr>\n",
       "      <th>75</th>\n",
       "      <td>(2005-01-01 00:00:00, 2012-12-31 00:00:00)</td>\n",
       "      <td>(2013-01-01 00:00:00, 2013-12-31 00:00:00)</td>\n",
       "      <td>DT</td>\n",
       "      <td>DecisionTreeClassifier(class_weight=None, crit...</td>\n",
       "      <td>{'criterion': 'gini', 'max_depth': 50, 'min_sa...</td>\n",
       "      <td>0.810637</td>\n",
       "      <td>0.625000</td>\n",
       "      <td>0.812500</td>\n",
       "      <td>0.550000</td>\n",
       "      <td>0.641975</td>\n",
       "      <td>...</td>\n",
       "      <td>0.687500</td>\n",
       "      <td>0.687500</td>\n",
       "      <td>1.000000</td>\n",
       "      <td>0.065789</td>\n",
       "      <td>0.162500</td>\n",
       "      <td>0.239130</td>\n",
       "      <td>0.462222</td>\n",
       "      <td>0.644951</td>\n",
       "      <td>0.510309</td>\n",
       "      <td>0.522686</td>\n",
       "    </tr>\n",
       "    <tr>\n",
       "      <th>76</th>\n",
       "      <td>(2005-01-01 00:00:00, 2012-12-31 00:00:00)</td>\n",
       "      <td>(2013-01-01 00:00:00, 2013-12-31 00:00:00)</td>\n",
       "      <td>DT</td>\n",
       "      <td>DecisionTreeClassifier(class_weight=None, crit...</td>\n",
       "      <td>{'criterion': 'entropy', 'max_depth': 5, 'min_...</td>\n",
       "      <td>0.943378</td>\n",
       "      <td>0.750000</td>\n",
       "      <td>0.875000</td>\n",
       "      <td>0.750000</td>\n",
       "      <td>0.765432</td>\n",
       "      <td>...</td>\n",
       "      <td>0.715278</td>\n",
       "      <td>0.958333</td>\n",
       "      <td>1.000000</td>\n",
       "      <td>0.078947</td>\n",
       "      <td>0.175000</td>\n",
       "      <td>0.326087</td>\n",
       "      <td>0.551111</td>\n",
       "      <td>0.671010</td>\n",
       "      <td>0.711340</td>\n",
       "      <td>0.522686</td>\n",
       "    </tr>\n",
       "    <tr>\n",
       "      <th>77</th>\n",
       "      <td>(2005-01-01 00:00:00, 2012-12-31 00:00:00)</td>\n",
       "      <td>(2013-01-01 00:00:00, 2013-12-31 00:00:00)</td>\n",
       "      <td>DT</td>\n",
       "      <td>DecisionTreeClassifier(class_weight=None, crit...</td>\n",
       "      <td>{'criterion': 'entropy', 'max_depth': 5, 'min_...</td>\n",
       "      <td>0.943378</td>\n",
       "      <td>0.750000</td>\n",
       "      <td>0.875000</td>\n",
       "      <td>0.750000</td>\n",
       "      <td>0.765432</td>\n",
       "      <td>...</td>\n",
       "      <td>0.715278</td>\n",
       "      <td>0.958333</td>\n",
       "      <td>1.000000</td>\n",
       "      <td>0.078947</td>\n",
       "      <td>0.175000</td>\n",
       "      <td>0.326087</td>\n",
       "      <td>0.551111</td>\n",
       "      <td>0.671010</td>\n",
       "      <td>0.711340</td>\n",
       "      <td>0.522686</td>\n",
       "    </tr>\n",
       "    <tr>\n",
       "      <th>78</th>\n",
       "      <td>(2005-01-01 00:00:00, 2012-12-31 00:00:00)</td>\n",
       "      <td>(2013-01-01 00:00:00, 2013-12-31 00:00:00)</td>\n",
       "      <td>DT</td>\n",
       "      <td>DecisionTreeClassifier(class_weight=None, crit...</td>\n",
       "      <td>{'criterion': 'entropy', 'max_depth': 50, 'min...</td>\n",
       "      <td>0.815672</td>\n",
       "      <td>1.000000</td>\n",
       "      <td>0.500000</td>\n",
       "      <td>0.675000</td>\n",
       "      <td>0.419753</td>\n",
       "      <td>...</td>\n",
       "      <td>0.701389</td>\n",
       "      <td>0.701389</td>\n",
       "      <td>1.000000</td>\n",
       "      <td>0.105263</td>\n",
       "      <td>0.100000</td>\n",
       "      <td>0.293478</td>\n",
       "      <td>0.302222</td>\n",
       "      <td>0.657980</td>\n",
       "      <td>0.520619</td>\n",
       "      <td>0.522686</td>\n",
       "    </tr>\n",
       "    <tr>\n",
       "      <th>79</th>\n",
       "      <td>(2005-01-01 00:00:00, 2012-12-31 00:00:00)</td>\n",
       "      <td>(2013-01-01 00:00:00, 2013-12-31 00:00:00)</td>\n",
       "      <td>DT</td>\n",
       "      <td>DecisionTreeClassifier(class_weight=None, crit...</td>\n",
       "      <td>{'criterion': 'entropy', 'max_depth': 50, 'min...</td>\n",
       "      <td>0.838989</td>\n",
       "      <td>0.625000</td>\n",
       "      <td>0.812500</td>\n",
       "      <td>0.600000</td>\n",
       "      <td>0.617284</td>\n",
       "      <td>...</td>\n",
       "      <td>0.750000</td>\n",
       "      <td>0.750000</td>\n",
       "      <td>1.000000</td>\n",
       "      <td>0.065789</td>\n",
       "      <td>0.162500</td>\n",
       "      <td>0.260870</td>\n",
       "      <td>0.444444</td>\n",
       "      <td>0.703583</td>\n",
       "      <td>0.556701</td>\n",
       "      <td>0.522686</td>\n",
       "    </tr>\n",
       "    <tr>\n",
       "      <th>80</th>\n",
       "      <td>(2005-01-01 00:00:00, 2013-12-31 00:00:00)</td>\n",
       "      <td>(2014-01-01 00:00:00, 2014-12-31 00:00:00)</td>\n",
       "      <td>RF</td>\n",
       "      <td>(DecisionTreeClassifier(class_weight=None, cri...</td>\n",
       "      <td>{'max_depth': 5, 'max_features': 'sqrt', 'min_...</td>\n",
       "      <td>0.919907</td>\n",
       "      <td>1.000000</td>\n",
       "      <td>0.933333</td>\n",
       "      <td>0.692308</td>\n",
       "      <td>0.769231</td>\n",
       "      <td>...</td>\n",
       "      <td>0.675325</td>\n",
       "      <td>0.857143</td>\n",
       "      <td>0.980519</td>\n",
       "      <td>0.086957</td>\n",
       "      <td>0.165680</td>\n",
       "      <td>0.279793</td>\n",
       "      <td>0.517241</td>\n",
       "      <td>0.668810</td>\n",
       "      <td>0.678663</td>\n",
       "      <td>0.553114</td>\n",
       "    </tr>\n",
       "    <tr>\n",
       "      <th>81</th>\n",
       "      <td>(2005-01-01 00:00:00, 2013-12-31 00:00:00)</td>\n",
       "      <td>(2014-01-01 00:00:00, 2014-12-31 00:00:00)</td>\n",
       "      <td>RF</td>\n",
       "      <td>(DecisionTreeClassifier(class_weight=None, cri...</td>\n",
       "      <td>{'max_depth': 50, 'max_features': 'sqrt', 'min...</td>\n",
       "      <td>0.924326</td>\n",
       "      <td>0.857143</td>\n",
       "      <td>0.733333</td>\n",
       "      <td>0.794872</td>\n",
       "      <td>0.717949</td>\n",
       "      <td>...</td>\n",
       "      <td>0.662338</td>\n",
       "      <td>0.883117</td>\n",
       "      <td>0.993506</td>\n",
       "      <td>0.074534</td>\n",
       "      <td>0.130178</td>\n",
       "      <td>0.321244</td>\n",
       "      <td>0.482759</td>\n",
       "      <td>0.655949</td>\n",
       "      <td>0.699229</td>\n",
       "      <td>0.560440</td>\n",
       "    </tr>\n",
       "    <tr>\n",
       "      <th>82</th>\n",
       "      <td>(2005-01-01 00:00:00, 2013-12-31 00:00:00)</td>\n",
       "      <td>(2014-01-01 00:00:00, 2014-12-31 00:00:00)</td>\n",
       "      <td>DT</td>\n",
       "      <td>DecisionTreeClassifier(class_weight=None, crit...</td>\n",
       "      <td>{'criterion': 'gini', 'max_depth': 5, 'min_sam...</td>\n",
       "      <td>0.924676</td>\n",
       "      <td>0.428571</td>\n",
       "      <td>0.266667</td>\n",
       "      <td>0.615385</td>\n",
       "      <td>0.653846</td>\n",
       "      <td>...</td>\n",
       "      <td>0.623377</td>\n",
       "      <td>0.909091</td>\n",
       "      <td>1.000000</td>\n",
       "      <td>0.037267</td>\n",
       "      <td>0.047337</td>\n",
       "      <td>0.248705</td>\n",
       "      <td>0.439655</td>\n",
       "      <td>0.617363</td>\n",
       "      <td>0.719794</td>\n",
       "      <td>0.564103</td>\n",
       "    </tr>\n",
       "    <tr>\n",
       "      <th>83</th>\n",
       "      <td>(2005-01-01 00:00:00, 2013-12-31 00:00:00)</td>\n",
       "      <td>(2014-01-01 00:00:00, 2014-12-31 00:00:00)</td>\n",
       "      <td>DT</td>\n",
       "      <td>DecisionTreeClassifier(class_weight=None, crit...</td>\n",
       "      <td>{'criterion': 'gini', 'max_depth': 5, 'min_sam...</td>\n",
       "      <td>0.924676</td>\n",
       "      <td>0.428571</td>\n",
       "      <td>0.266667</td>\n",
       "      <td>0.615385</td>\n",
       "      <td>0.653846</td>\n",
       "      <td>...</td>\n",
       "      <td>0.623377</td>\n",
       "      <td>0.909091</td>\n",
       "      <td>1.000000</td>\n",
       "      <td>0.037267</td>\n",
       "      <td>0.047337</td>\n",
       "      <td>0.248705</td>\n",
       "      <td>0.439655</td>\n",
       "      <td>0.617363</td>\n",
       "      <td>0.719794</td>\n",
       "      <td>0.564103</td>\n",
       "    </tr>\n",
       "    <tr>\n",
       "      <th>84</th>\n",
       "      <td>(2005-01-01 00:00:00, 2013-12-31 00:00:00)</td>\n",
       "      <td>(2014-01-01 00:00:00, 2014-12-31 00:00:00)</td>\n",
       "      <td>DT</td>\n",
       "      <td>DecisionTreeClassifier(class_weight=None, crit...</td>\n",
       "      <td>{'criterion': 'gini', 'max_depth': 50, 'min_sa...</td>\n",
       "      <td>0.795820</td>\n",
       "      <td>0.142857</td>\n",
       "      <td>0.133333</td>\n",
       "      <td>0.538462</td>\n",
       "      <td>0.294872</td>\n",
       "      <td>...</td>\n",
       "      <td>0.623377</td>\n",
       "      <td>0.688312</td>\n",
       "      <td>1.000000</td>\n",
       "      <td>0.012422</td>\n",
       "      <td>0.023669</td>\n",
       "      <td>0.217617</td>\n",
       "      <td>0.198276</td>\n",
       "      <td>0.617363</td>\n",
       "      <td>0.544987</td>\n",
       "      <td>0.564103</td>\n",
       "    </tr>\n",
       "    <tr>\n",
       "      <th>85</th>\n",
       "      <td>(2005-01-01 00:00:00, 2013-12-31 00:00:00)</td>\n",
       "      <td>(2014-01-01 00:00:00, 2014-12-31 00:00:00)</td>\n",
       "      <td>DT</td>\n",
       "      <td>DecisionTreeClassifier(class_weight=None, crit...</td>\n",
       "      <td>{'criterion': 'gini', 'max_depth': 50, 'min_sa...</td>\n",
       "      <td>0.812043</td>\n",
       "      <td>0.142857</td>\n",
       "      <td>0.133333</td>\n",
       "      <td>0.512821</td>\n",
       "      <td>0.371795</td>\n",
       "      <td>...</td>\n",
       "      <td>0.642857</td>\n",
       "      <td>0.727273</td>\n",
       "      <td>1.000000</td>\n",
       "      <td>0.012422</td>\n",
       "      <td>0.023669</td>\n",
       "      <td>0.207254</td>\n",
       "      <td>0.250000</td>\n",
       "      <td>0.636656</td>\n",
       "      <td>0.575835</td>\n",
       "      <td>0.564103</td>\n",
       "    </tr>\n",
       "    <tr>\n",
       "      <th>86</th>\n",
       "      <td>(2005-01-01 00:00:00, 2013-12-31 00:00:00)</td>\n",
       "      <td>(2014-01-01 00:00:00, 2014-12-31 00:00:00)</td>\n",
       "      <td>DT</td>\n",
       "      <td>DecisionTreeClassifier(class_weight=None, crit...</td>\n",
       "      <td>{'criterion': 'entropy', 'max_depth': 5, 'min_...</td>\n",
       "      <td>0.920930</td>\n",
       "      <td>0.285714</td>\n",
       "      <td>0.266667</td>\n",
       "      <td>0.589744</td>\n",
       "      <td>0.653846</td>\n",
       "      <td>...</td>\n",
       "      <td>0.655844</td>\n",
       "      <td>0.909091</td>\n",
       "      <td>1.000000</td>\n",
       "      <td>0.024845</td>\n",
       "      <td>0.047337</td>\n",
       "      <td>0.238342</td>\n",
       "      <td>0.439655</td>\n",
       "      <td>0.649518</td>\n",
       "      <td>0.719794</td>\n",
       "      <td>0.564103</td>\n",
       "    </tr>\n",
       "    <tr>\n",
       "      <th>87</th>\n",
       "      <td>(2005-01-01 00:00:00, 2013-12-31 00:00:00)</td>\n",
       "      <td>(2014-01-01 00:00:00, 2014-12-31 00:00:00)</td>\n",
       "      <td>DT</td>\n",
       "      <td>DecisionTreeClassifier(class_weight=None, crit...</td>\n",
       "      <td>{'criterion': 'entropy', 'max_depth': 5, 'min_...</td>\n",
       "      <td>0.920930</td>\n",
       "      <td>0.285714</td>\n",
       "      <td>0.266667</td>\n",
       "      <td>0.589744</td>\n",
       "      <td>0.653846</td>\n",
       "      <td>...</td>\n",
       "      <td>0.655844</td>\n",
       "      <td>0.909091</td>\n",
       "      <td>1.000000</td>\n",
       "      <td>0.024845</td>\n",
       "      <td>0.047337</td>\n",
       "      <td>0.238342</td>\n",
       "      <td>0.439655</td>\n",
       "      <td>0.649518</td>\n",
       "      <td>0.719794</td>\n",
       "      <td>0.564103</td>\n",
       "    </tr>\n",
       "    <tr>\n",
       "      <th>88</th>\n",
       "      <td>(2005-01-01 00:00:00, 2013-12-31 00:00:00)</td>\n",
       "      <td>(2014-01-01 00:00:00, 2014-12-31 00:00:00)</td>\n",
       "      <td>DT</td>\n",
       "      <td>DecisionTreeClassifier(class_weight=None, crit...</td>\n",
       "      <td>{'criterion': 'entropy', 'max_depth': 50, 'min...</td>\n",
       "      <td>0.805637</td>\n",
       "      <td>0.285714</td>\n",
       "      <td>0.133333</td>\n",
       "      <td>0.487179</td>\n",
       "      <td>0.294872</td>\n",
       "      <td>...</td>\n",
       "      <td>0.597403</td>\n",
       "      <td>0.714286</td>\n",
       "      <td>1.000000</td>\n",
       "      <td>0.024845</td>\n",
       "      <td>0.023669</td>\n",
       "      <td>0.196891</td>\n",
       "      <td>0.198276</td>\n",
       "      <td>0.591640</td>\n",
       "      <td>0.565553</td>\n",
       "      <td>0.564103</td>\n",
       "    </tr>\n",
       "    <tr>\n",
       "      <th>89</th>\n",
       "      <td>(2005-01-01 00:00:00, 2013-12-31 00:00:00)</td>\n",
       "      <td>(2014-01-01 00:00:00, 2014-12-31 00:00:00)</td>\n",
       "      <td>DT</td>\n",
       "      <td>DecisionTreeClassifier(class_weight=None, crit...</td>\n",
       "      <td>{'criterion': 'entropy', 'max_depth': 50, 'min...</td>\n",
       "      <td>0.830649</td>\n",
       "      <td>0.285714</td>\n",
       "      <td>0.133333</td>\n",
       "      <td>0.461538</td>\n",
       "      <td>0.307692</td>\n",
       "      <td>...</td>\n",
       "      <td>0.623377</td>\n",
       "      <td>0.779221</td>\n",
       "      <td>1.000000</td>\n",
       "      <td>0.024845</td>\n",
       "      <td>0.023669</td>\n",
       "      <td>0.186528</td>\n",
       "      <td>0.206897</td>\n",
       "      <td>0.617363</td>\n",
       "      <td>0.616967</td>\n",
       "      <td>0.564103</td>\n",
       "    </tr>\n",
       "    <tr>\n",
       "      <th>90</th>\n",
       "      <td>(2005-01-01 00:00:00, 2014-12-31 00:00:00)</td>\n",
       "      <td>(2015-01-01 00:00:00, 2015-12-31 00:00:00)</td>\n",
       "      <td>RF</td>\n",
       "      <td>(DecisionTreeClassifier(class_weight=None, cri...</td>\n",
       "      <td>{'max_depth': 5, 'max_features': 'sqrt', 'min_...</td>\n",
       "      <td>0.939687</td>\n",
       "      <td>1.000000</td>\n",
       "      <td>1.000000</td>\n",
       "      <td>0.971429</td>\n",
       "      <td>0.842857</td>\n",
       "      <td>...</td>\n",
       "      <td>0.769841</td>\n",
       "      <td>0.904762</td>\n",
       "      <td>0.984127</td>\n",
       "      <td>0.105263</td>\n",
       "      <td>0.200000</td>\n",
       "      <td>0.422360</td>\n",
       "      <td>0.602041</td>\n",
       "      <td>0.729323</td>\n",
       "      <td>0.676558</td>\n",
       "      <td>0.518828</td>\n",
       "    </tr>\n",
       "    <tr>\n",
       "      <th>91</th>\n",
       "      <td>(2005-01-01 00:00:00, 2014-12-31 00:00:00)</td>\n",
       "      <td>(2015-01-01 00:00:00, 2015-12-31 00:00:00)</td>\n",
       "      <td>RF</td>\n",
       "      <td>(DecisionTreeClassifier(class_weight=None, cri...</td>\n",
       "      <td>{'max_depth': 50, 'max_features': 'sqrt', 'min...</td>\n",
       "      <td>0.953939</td>\n",
       "      <td>0.857143</td>\n",
       "      <td>0.928571</td>\n",
       "      <td>0.885714</td>\n",
       "      <td>0.828571</td>\n",
       "      <td>...</td>\n",
       "      <td>0.793651</td>\n",
       "      <td>0.952381</td>\n",
       "      <td>0.992063</td>\n",
       "      <td>0.090226</td>\n",
       "      <td>0.185714</td>\n",
       "      <td>0.385093</td>\n",
       "      <td>0.591837</td>\n",
       "      <td>0.751880</td>\n",
       "      <td>0.712166</td>\n",
       "      <td>0.523013</td>\n",
       "    </tr>\n",
       "    <tr>\n",
       "      <th>92</th>\n",
       "      <td>(2005-01-01 00:00:00, 2014-12-31 00:00:00)</td>\n",
       "      <td>(2015-01-01 00:00:00, 2015-12-31 00:00:00)</td>\n",
       "      <td>DT</td>\n",
       "      <td>DecisionTreeClassifier(class_weight=None, crit...</td>\n",
       "      <td>{'criterion': 'gini', 'max_depth': 5, 'min_sam...</td>\n",
       "      <td>0.943497</td>\n",
       "      <td>0.857143</td>\n",
       "      <td>0.928571</td>\n",
       "      <td>0.857143</td>\n",
       "      <td>0.871429</td>\n",
       "      <td>...</td>\n",
       "      <td>0.706349</td>\n",
       "      <td>0.928571</td>\n",
       "      <td>1.000000</td>\n",
       "      <td>0.090226</td>\n",
       "      <td>0.185714</td>\n",
       "      <td>0.372671</td>\n",
       "      <td>0.622449</td>\n",
       "      <td>0.669173</td>\n",
       "      <td>0.694362</td>\n",
       "      <td>0.527197</td>\n",
       "    </tr>\n",
       "    <tr>\n",
       "      <th>93</th>\n",
       "      <td>(2005-01-01 00:00:00, 2014-12-31 00:00:00)</td>\n",
       "      <td>(2015-01-01 00:00:00, 2015-12-31 00:00:00)</td>\n",
       "      <td>DT</td>\n",
       "      <td>DecisionTreeClassifier(class_weight=None, crit...</td>\n",
       "      <td>{'criterion': 'gini', 'max_depth': 5, 'min_sam...</td>\n",
       "      <td>0.943497</td>\n",
       "      <td>0.857143</td>\n",
       "      <td>0.928571</td>\n",
       "      <td>0.857143</td>\n",
       "      <td>0.871429</td>\n",
       "      <td>...</td>\n",
       "      <td>0.706349</td>\n",
       "      <td>0.928571</td>\n",
       "      <td>1.000000</td>\n",
       "      <td>0.090226</td>\n",
       "      <td>0.185714</td>\n",
       "      <td>0.372671</td>\n",
       "      <td>0.622449</td>\n",
       "      <td>0.669173</td>\n",
       "      <td>0.694362</td>\n",
       "      <td>0.527197</td>\n",
       "    </tr>\n",
       "    <tr>\n",
       "      <th>94</th>\n",
       "      <td>(2005-01-01 00:00:00, 2014-12-31 00:00:00)</td>\n",
       "      <td>(2015-01-01 00:00:00, 2015-12-31 00:00:00)</td>\n",
       "      <td>DT</td>\n",
       "      <td>DecisionTreeClassifier(class_weight=None, crit...</td>\n",
       "      <td>{'criterion': 'gini', 'max_depth': 50, 'min_sa...</td>\n",
       "      <td>0.790438</td>\n",
       "      <td>0.285714</td>\n",
       "      <td>0.142857</td>\n",
       "      <td>0.542857</td>\n",
       "      <td>0.357143</td>\n",
       "      <td>...</td>\n",
       "      <td>0.658730</td>\n",
       "      <td>0.658730</td>\n",
       "      <td>1.000000</td>\n",
       "      <td>0.030075</td>\n",
       "      <td>0.028571</td>\n",
       "      <td>0.236025</td>\n",
       "      <td>0.255102</td>\n",
       "      <td>0.624060</td>\n",
       "      <td>0.492582</td>\n",
       "      <td>0.527197</td>\n",
       "    </tr>\n",
       "    <tr>\n",
       "      <th>95</th>\n",
       "      <td>(2005-01-01 00:00:00, 2014-12-31 00:00:00)</td>\n",
       "      <td>(2015-01-01 00:00:00, 2015-12-31 00:00:00)</td>\n",
       "      <td>DT</td>\n",
       "      <td>DecisionTreeClassifier(class_weight=None, crit...</td>\n",
       "      <td>{'criterion': 'gini', 'max_depth': 50, 'min_sa...</td>\n",
       "      <td>0.828582</td>\n",
       "      <td>0.142857</td>\n",
       "      <td>0.071429</td>\n",
       "      <td>0.371429</td>\n",
       "      <td>0.357143</td>\n",
       "      <td>...</td>\n",
       "      <td>0.682540</td>\n",
       "      <td>0.761905</td>\n",
       "      <td>1.000000</td>\n",
       "      <td>0.015038</td>\n",
       "      <td>0.014286</td>\n",
       "      <td>0.161491</td>\n",
       "      <td>0.255102</td>\n",
       "      <td>0.646617</td>\n",
       "      <td>0.569733</td>\n",
       "      <td>0.527197</td>\n",
       "    </tr>\n",
       "    <tr>\n",
       "      <th>96</th>\n",
       "      <td>(2005-01-01 00:00:00, 2014-12-31 00:00:00)</td>\n",
       "      <td>(2015-01-01 00:00:00, 2015-12-31 00:00:00)</td>\n",
       "      <td>DT</td>\n",
       "      <td>DecisionTreeClassifier(class_weight=None, crit...</td>\n",
       "      <td>{'criterion': 'entropy', 'max_depth': 5, 'min_...</td>\n",
       "      <td>0.941039</td>\n",
       "      <td>0.714286</td>\n",
       "      <td>0.857143</td>\n",
       "      <td>0.857143</td>\n",
       "      <td>0.800000</td>\n",
       "      <td>...</td>\n",
       "      <td>0.658730</td>\n",
       "      <td>0.928571</td>\n",
       "      <td>1.000000</td>\n",
       "      <td>0.075188</td>\n",
       "      <td>0.171429</td>\n",
       "      <td>0.372671</td>\n",
       "      <td>0.571429</td>\n",
       "      <td>0.624060</td>\n",
       "      <td>0.694362</td>\n",
       "      <td>0.527197</td>\n",
       "    </tr>\n",
       "    <tr>\n",
       "      <th>97</th>\n",
       "      <td>(2005-01-01 00:00:00, 2014-12-31 00:00:00)</td>\n",
       "      <td>(2015-01-01 00:00:00, 2015-12-31 00:00:00)</td>\n",
       "      <td>DT</td>\n",
       "      <td>DecisionTreeClassifier(class_weight=None, crit...</td>\n",
       "      <td>{'criterion': 'entropy', 'max_depth': 5, 'min_...</td>\n",
       "      <td>0.941039</td>\n",
       "      <td>0.714286</td>\n",
       "      <td>0.857143</td>\n",
       "      <td>0.857143</td>\n",
       "      <td>0.800000</td>\n",
       "      <td>...</td>\n",
       "      <td>0.658730</td>\n",
       "      <td>0.928571</td>\n",
       "      <td>1.000000</td>\n",
       "      <td>0.075188</td>\n",
       "      <td>0.171429</td>\n",
       "      <td>0.372671</td>\n",
       "      <td>0.571429</td>\n",
       "      <td>0.624060</td>\n",
       "      <td>0.694362</td>\n",
       "      <td>0.527197</td>\n",
       "    </tr>\n",
       "    <tr>\n",
       "      <th>98</th>\n",
       "      <td>(2005-01-01 00:00:00, 2014-12-31 00:00:00)</td>\n",
       "      <td>(2015-01-01 00:00:00, 2015-12-31 00:00:00)</td>\n",
       "      <td>DT</td>\n",
       "      <td>DecisionTreeClassifier(class_weight=None, crit...</td>\n",
       "      <td>{'criterion': 'entropy', 'max_depth': 50, 'min...</td>\n",
       "      <td>0.783874</td>\n",
       "      <td>0.142857</td>\n",
       "      <td>0.071429</td>\n",
       "      <td>0.485714</td>\n",
       "      <td>0.314286</td>\n",
       "      <td>...</td>\n",
       "      <td>0.650794</td>\n",
       "      <td>0.650794</td>\n",
       "      <td>1.000000</td>\n",
       "      <td>0.015038</td>\n",
       "      <td>0.014286</td>\n",
       "      <td>0.211180</td>\n",
       "      <td>0.224490</td>\n",
       "      <td>0.616541</td>\n",
       "      <td>0.486647</td>\n",
       "      <td>0.527197</td>\n",
       "    </tr>\n",
       "    <tr>\n",
       "      <th>99</th>\n",
       "      <td>(2005-01-01 00:00:00, 2014-12-31 00:00:00)</td>\n",
       "      <td>(2015-01-01 00:00:00, 2015-12-31 00:00:00)</td>\n",
       "      <td>DT</td>\n",
       "      <td>DecisionTreeClassifier(class_weight=None, crit...</td>\n",
       "      <td>{'criterion': 'entropy', 'max_depth': 50, 'min...</td>\n",
       "      <td>0.847133</td>\n",
       "      <td>0.285714</td>\n",
       "      <td>0.500000</td>\n",
       "      <td>0.600000</td>\n",
       "      <td>0.485714</td>\n",
       "      <td>...</td>\n",
       "      <td>0.730159</td>\n",
       "      <td>0.777778</td>\n",
       "      <td>1.000000</td>\n",
       "      <td>0.030075</td>\n",
       "      <td>0.100000</td>\n",
       "      <td>0.260870</td>\n",
       "      <td>0.346939</td>\n",
       "      <td>0.691729</td>\n",
       "      <td>0.581602</td>\n",
       "      <td>0.527197</td>\n",
       "    </tr>\n",
       "  </tbody>\n",
       "</table>\n",
       "<p>100 rows × 27 columns</p>\n",
       "</div>"
      ],
      "text/plain": [
       "                                training_dates  \\\n",
       "0   (2005-01-01 00:00:00, 2005-12-31 00:00:00)   \n",
       "1   (2005-01-01 00:00:00, 2005-12-31 00:00:00)   \n",
       "2   (2005-01-01 00:00:00, 2005-12-31 00:00:00)   \n",
       "3   (2005-01-01 00:00:00, 2005-12-31 00:00:00)   \n",
       "4   (2005-01-01 00:00:00, 2005-12-31 00:00:00)   \n",
       "5   (2005-01-01 00:00:00, 2005-12-31 00:00:00)   \n",
       "6   (2005-01-01 00:00:00, 2005-12-31 00:00:00)   \n",
       "7   (2005-01-01 00:00:00, 2005-12-31 00:00:00)   \n",
       "8   (2005-01-01 00:00:00, 2005-12-31 00:00:00)   \n",
       "9   (2005-01-01 00:00:00, 2005-12-31 00:00:00)   \n",
       "10  (2005-01-01 00:00:00, 2006-12-31 00:00:00)   \n",
       "11  (2005-01-01 00:00:00, 2006-12-31 00:00:00)   \n",
       "12  (2005-01-01 00:00:00, 2006-12-31 00:00:00)   \n",
       "13  (2005-01-01 00:00:00, 2006-12-31 00:00:00)   \n",
       "14  (2005-01-01 00:00:00, 2006-12-31 00:00:00)   \n",
       "15  (2005-01-01 00:00:00, 2006-12-31 00:00:00)   \n",
       "16  (2005-01-01 00:00:00, 2006-12-31 00:00:00)   \n",
       "17  (2005-01-01 00:00:00, 2006-12-31 00:00:00)   \n",
       "18  (2005-01-01 00:00:00, 2006-12-31 00:00:00)   \n",
       "19  (2005-01-01 00:00:00, 2006-12-31 00:00:00)   \n",
       "20  (2005-01-01 00:00:00, 2007-12-31 00:00:00)   \n",
       "21  (2005-01-01 00:00:00, 2007-12-31 00:00:00)   \n",
       "22  (2005-01-01 00:00:00, 2007-12-31 00:00:00)   \n",
       "23  (2005-01-01 00:00:00, 2007-12-31 00:00:00)   \n",
       "24  (2005-01-01 00:00:00, 2007-12-31 00:00:00)   \n",
       "25  (2005-01-01 00:00:00, 2007-12-31 00:00:00)   \n",
       "26  (2005-01-01 00:00:00, 2007-12-31 00:00:00)   \n",
       "27  (2005-01-01 00:00:00, 2007-12-31 00:00:00)   \n",
       "28  (2005-01-01 00:00:00, 2007-12-31 00:00:00)   \n",
       "29  (2005-01-01 00:00:00, 2007-12-31 00:00:00)   \n",
       "..                                         ...   \n",
       "70  (2005-01-01 00:00:00, 2012-12-31 00:00:00)   \n",
       "71  (2005-01-01 00:00:00, 2012-12-31 00:00:00)   \n",
       "72  (2005-01-01 00:00:00, 2012-12-31 00:00:00)   \n",
       "73  (2005-01-01 00:00:00, 2012-12-31 00:00:00)   \n",
       "74  (2005-01-01 00:00:00, 2012-12-31 00:00:00)   \n",
       "75  (2005-01-01 00:00:00, 2012-12-31 00:00:00)   \n",
       "76  (2005-01-01 00:00:00, 2012-12-31 00:00:00)   \n",
       "77  (2005-01-01 00:00:00, 2012-12-31 00:00:00)   \n",
       "78  (2005-01-01 00:00:00, 2012-12-31 00:00:00)   \n",
       "79  (2005-01-01 00:00:00, 2012-12-31 00:00:00)   \n",
       "80  (2005-01-01 00:00:00, 2013-12-31 00:00:00)   \n",
       "81  (2005-01-01 00:00:00, 2013-12-31 00:00:00)   \n",
       "82  (2005-01-01 00:00:00, 2013-12-31 00:00:00)   \n",
       "83  (2005-01-01 00:00:00, 2013-12-31 00:00:00)   \n",
       "84  (2005-01-01 00:00:00, 2013-12-31 00:00:00)   \n",
       "85  (2005-01-01 00:00:00, 2013-12-31 00:00:00)   \n",
       "86  (2005-01-01 00:00:00, 2013-12-31 00:00:00)   \n",
       "87  (2005-01-01 00:00:00, 2013-12-31 00:00:00)   \n",
       "88  (2005-01-01 00:00:00, 2013-12-31 00:00:00)   \n",
       "89  (2005-01-01 00:00:00, 2013-12-31 00:00:00)   \n",
       "90  (2005-01-01 00:00:00, 2014-12-31 00:00:00)   \n",
       "91  (2005-01-01 00:00:00, 2014-12-31 00:00:00)   \n",
       "92  (2005-01-01 00:00:00, 2014-12-31 00:00:00)   \n",
       "93  (2005-01-01 00:00:00, 2014-12-31 00:00:00)   \n",
       "94  (2005-01-01 00:00:00, 2014-12-31 00:00:00)   \n",
       "95  (2005-01-01 00:00:00, 2014-12-31 00:00:00)   \n",
       "96  (2005-01-01 00:00:00, 2014-12-31 00:00:00)   \n",
       "97  (2005-01-01 00:00:00, 2014-12-31 00:00:00)   \n",
       "98  (2005-01-01 00:00:00, 2014-12-31 00:00:00)   \n",
       "99  (2005-01-01 00:00:00, 2014-12-31 00:00:00)   \n",
       "\n",
       "                                 testing_dates model_key  \\\n",
       "0   (2006-01-01 00:00:00, 2006-12-31 00:00:00)        RF   \n",
       "1   (2006-01-01 00:00:00, 2006-12-31 00:00:00)        RF   \n",
       "2   (2006-01-01 00:00:00, 2006-12-31 00:00:00)        DT   \n",
       "3   (2006-01-01 00:00:00, 2006-12-31 00:00:00)        DT   \n",
       "4   (2006-01-01 00:00:00, 2006-12-31 00:00:00)        DT   \n",
       "5   (2006-01-01 00:00:00, 2006-12-31 00:00:00)        DT   \n",
       "6   (2006-01-01 00:00:00, 2006-12-31 00:00:00)        DT   \n",
       "7   (2006-01-01 00:00:00, 2006-12-31 00:00:00)        DT   \n",
       "8   (2006-01-01 00:00:00, 2006-12-31 00:00:00)        DT   \n",
       "9   (2006-01-01 00:00:00, 2006-12-31 00:00:00)        DT   \n",
       "10  (2007-01-01 00:00:00, 2007-12-31 00:00:00)        RF   \n",
       "11  (2007-01-01 00:00:00, 2007-12-31 00:00:00)        RF   \n",
       "12  (2007-01-01 00:00:00, 2007-12-31 00:00:00)        DT   \n",
       "13  (2007-01-01 00:00:00, 2007-12-31 00:00:00)        DT   \n",
       "14  (2007-01-01 00:00:00, 2007-12-31 00:00:00)        DT   \n",
       "15  (2007-01-01 00:00:00, 2007-12-31 00:00:00)        DT   \n",
       "16  (2007-01-01 00:00:00, 2007-12-31 00:00:00)        DT   \n",
       "17  (2007-01-01 00:00:00, 2007-12-31 00:00:00)        DT   \n",
       "18  (2007-01-01 00:00:00, 2007-12-31 00:00:00)        DT   \n",
       "19  (2007-01-01 00:00:00, 2007-12-31 00:00:00)        DT   \n",
       "20  (2008-01-01 00:00:00, 2008-12-31 00:00:00)        RF   \n",
       "21  (2008-01-01 00:00:00, 2008-12-31 00:00:00)        RF   \n",
       "22  (2008-01-01 00:00:00, 2008-12-31 00:00:00)        DT   \n",
       "23  (2008-01-01 00:00:00, 2008-12-31 00:00:00)        DT   \n",
       "24  (2008-01-01 00:00:00, 2008-12-31 00:00:00)        DT   \n",
       "25  (2008-01-01 00:00:00, 2008-12-31 00:00:00)        DT   \n",
       "26  (2008-01-01 00:00:00, 2008-12-31 00:00:00)        DT   \n",
       "27  (2008-01-01 00:00:00, 2008-12-31 00:00:00)        DT   \n",
       "28  (2008-01-01 00:00:00, 2008-12-31 00:00:00)        DT   \n",
       "29  (2008-01-01 00:00:00, 2008-12-31 00:00:00)        DT   \n",
       "..                                         ...       ...   \n",
       "70  (2013-01-01 00:00:00, 2013-12-31 00:00:00)        RF   \n",
       "71  (2013-01-01 00:00:00, 2013-12-31 00:00:00)        RF   \n",
       "72  (2013-01-01 00:00:00, 2013-12-31 00:00:00)        DT   \n",
       "73  (2013-01-01 00:00:00, 2013-12-31 00:00:00)        DT   \n",
       "74  (2013-01-01 00:00:00, 2013-12-31 00:00:00)        DT   \n",
       "75  (2013-01-01 00:00:00, 2013-12-31 00:00:00)        DT   \n",
       "76  (2013-01-01 00:00:00, 2013-12-31 00:00:00)        DT   \n",
       "77  (2013-01-01 00:00:00, 2013-12-31 00:00:00)        DT   \n",
       "78  (2013-01-01 00:00:00, 2013-12-31 00:00:00)        DT   \n",
       "79  (2013-01-01 00:00:00, 2013-12-31 00:00:00)        DT   \n",
       "80  (2014-01-01 00:00:00, 2014-12-31 00:00:00)        RF   \n",
       "81  (2014-01-01 00:00:00, 2014-12-31 00:00:00)        RF   \n",
       "82  (2014-01-01 00:00:00, 2014-12-31 00:00:00)        DT   \n",
       "83  (2014-01-01 00:00:00, 2014-12-31 00:00:00)        DT   \n",
       "84  (2014-01-01 00:00:00, 2014-12-31 00:00:00)        DT   \n",
       "85  (2014-01-01 00:00:00, 2014-12-31 00:00:00)        DT   \n",
       "86  (2014-01-01 00:00:00, 2014-12-31 00:00:00)        DT   \n",
       "87  (2014-01-01 00:00:00, 2014-12-31 00:00:00)        DT   \n",
       "88  (2014-01-01 00:00:00, 2014-12-31 00:00:00)        DT   \n",
       "89  (2014-01-01 00:00:00, 2014-12-31 00:00:00)        DT   \n",
       "90  (2015-01-01 00:00:00, 2015-12-31 00:00:00)        RF   \n",
       "91  (2015-01-01 00:00:00, 2015-12-31 00:00:00)        RF   \n",
       "92  (2015-01-01 00:00:00, 2015-12-31 00:00:00)        DT   \n",
       "93  (2015-01-01 00:00:00, 2015-12-31 00:00:00)        DT   \n",
       "94  (2015-01-01 00:00:00, 2015-12-31 00:00:00)        DT   \n",
       "95  (2015-01-01 00:00:00, 2015-12-31 00:00:00)        DT   \n",
       "96  (2015-01-01 00:00:00, 2015-12-31 00:00:00)        DT   \n",
       "97  (2015-01-01 00:00:00, 2015-12-31 00:00:00)        DT   \n",
       "98  (2015-01-01 00:00:00, 2015-12-31 00:00:00)        DT   \n",
       "99  (2015-01-01 00:00:00, 2015-12-31 00:00:00)        DT   \n",
       "\n",
       "                                           classifier  \\\n",
       "0   (DecisionTreeClassifier(class_weight=None, cri...   \n",
       "1   (DecisionTreeClassifier(class_weight=None, cri...   \n",
       "2   DecisionTreeClassifier(class_weight=None, crit...   \n",
       "3   DecisionTreeClassifier(class_weight=None, crit...   \n",
       "4   DecisionTreeClassifier(class_weight=None, crit...   \n",
       "5   DecisionTreeClassifier(class_weight=None, crit...   \n",
       "6   DecisionTreeClassifier(class_weight=None, crit...   \n",
       "7   DecisionTreeClassifier(class_weight=None, crit...   \n",
       "8   DecisionTreeClassifier(class_weight=None, crit...   \n",
       "9   DecisionTreeClassifier(class_weight=None, crit...   \n",
       "10  (DecisionTreeClassifier(class_weight=None, cri...   \n",
       "11  (DecisionTreeClassifier(class_weight=None, cri...   \n",
       "12  DecisionTreeClassifier(class_weight=None, crit...   \n",
       "13  DecisionTreeClassifier(class_weight=None, crit...   \n",
       "14  DecisionTreeClassifier(class_weight=None, crit...   \n",
       "15  DecisionTreeClassifier(class_weight=None, crit...   \n",
       "16  DecisionTreeClassifier(class_weight=None, crit...   \n",
       "17  DecisionTreeClassifier(class_weight=None, crit...   \n",
       "18  DecisionTreeClassifier(class_weight=None, crit...   \n",
       "19  DecisionTreeClassifier(class_weight=None, crit...   \n",
       "20  (DecisionTreeClassifier(class_weight=None, cri...   \n",
       "21  (DecisionTreeClassifier(class_weight=None, cri...   \n",
       "22  DecisionTreeClassifier(class_weight=None, crit...   \n",
       "23  DecisionTreeClassifier(class_weight=None, crit...   \n",
       "24  DecisionTreeClassifier(class_weight=None, crit...   \n",
       "25  DecisionTreeClassifier(class_weight=None, crit...   \n",
       "26  DecisionTreeClassifier(class_weight=None, crit...   \n",
       "27  DecisionTreeClassifier(class_weight=None, crit...   \n",
       "28  DecisionTreeClassifier(class_weight=None, crit...   \n",
       "29  DecisionTreeClassifier(class_weight=None, crit...   \n",
       "..                                                ...   \n",
       "70  (DecisionTreeClassifier(class_weight=None, cri...   \n",
       "71  (DecisionTreeClassifier(class_weight=None, cri...   \n",
       "72  DecisionTreeClassifier(class_weight=None, crit...   \n",
       "73  DecisionTreeClassifier(class_weight=None, crit...   \n",
       "74  DecisionTreeClassifier(class_weight=None, crit...   \n",
       "75  DecisionTreeClassifier(class_weight=None, crit...   \n",
       "76  DecisionTreeClassifier(class_weight=None, crit...   \n",
       "77  DecisionTreeClassifier(class_weight=None, crit...   \n",
       "78  DecisionTreeClassifier(class_weight=None, crit...   \n",
       "79  DecisionTreeClassifier(class_weight=None, crit...   \n",
       "80  (DecisionTreeClassifier(class_weight=None, cri...   \n",
       "81  (DecisionTreeClassifier(class_weight=None, cri...   \n",
       "82  DecisionTreeClassifier(class_weight=None, crit...   \n",
       "83  DecisionTreeClassifier(class_weight=None, crit...   \n",
       "84  DecisionTreeClassifier(class_weight=None, crit...   \n",
       "85  DecisionTreeClassifier(class_weight=None, crit...   \n",
       "86  DecisionTreeClassifier(class_weight=None, crit...   \n",
       "87  DecisionTreeClassifier(class_weight=None, crit...   \n",
       "88  DecisionTreeClassifier(class_weight=None, crit...   \n",
       "89  DecisionTreeClassifier(class_weight=None, crit...   \n",
       "90  (DecisionTreeClassifier(class_weight=None, cri...   \n",
       "91  (DecisionTreeClassifier(class_weight=None, cri...   \n",
       "92  DecisionTreeClassifier(class_weight=None, crit...   \n",
       "93  DecisionTreeClassifier(class_weight=None, crit...   \n",
       "94  DecisionTreeClassifier(class_weight=None, crit...   \n",
       "95  DecisionTreeClassifier(class_weight=None, crit...   \n",
       "96  DecisionTreeClassifier(class_weight=None, crit...   \n",
       "97  DecisionTreeClassifier(class_weight=None, crit...   \n",
       "98  DecisionTreeClassifier(class_weight=None, crit...   \n",
       "99  DecisionTreeClassifier(class_weight=None, crit...   \n",
       "\n",
       "                                           parameters   auc-roc    p_at_1  \\\n",
       "0   {'max_depth': 5, 'max_features': 'sqrt', 'min_...  0.935344  1.000000   \n",
       "1   {'max_depth': 50, 'max_features': 'sqrt', 'min...  0.928023  0.875000   \n",
       "2   {'criterion': 'gini', 'max_depth': 5, 'min_sam...  0.891340  0.250000   \n",
       "3   {'criterion': 'gini', 'max_depth': 5, 'min_sam...  0.923174  0.125000   \n",
       "4   {'criterion': 'gini', 'max_depth': 50, 'min_sa...  0.772381  0.250000   \n",
       "5   {'criterion': 'gini', 'max_depth': 50, 'min_sa...  0.833904  0.250000   \n",
       "6   {'criterion': 'entropy', 'max_depth': 5, 'min_...  0.925334  0.250000   \n",
       "7   {'criterion': 'entropy', 'max_depth': 5, 'min_...  0.929064  0.250000   \n",
       "8   {'criterion': 'entropy', 'max_depth': 50, 'min...  0.786707  0.750000   \n",
       "9   {'criterion': 'entropy', 'max_depth': 50, 'min...  0.832032  0.250000   \n",
       "10  {'max_depth': 5, 'max_features': 'sqrt', 'min_...  0.935078  1.000000   \n",
       "11  {'max_depth': 50, 'max_features': 'sqrt', 'min...  0.941273  0.875000   \n",
       "12  {'criterion': 'gini', 'max_depth': 5, 'min_sam...  0.934918  0.625000   \n",
       "13  {'criterion': 'gini', 'max_depth': 5, 'min_sam...  0.939153  0.625000   \n",
       "14  {'criterion': 'gini', 'max_depth': 50, 'min_sa...  0.817093  0.250000   \n",
       "15  {'criterion': 'gini', 'max_depth': 50, 'min_sa...  0.873466  0.250000   \n",
       "16  {'criterion': 'entropy', 'max_depth': 5, 'min_...  0.940936  1.000000   \n",
       "17  {'criterion': 'entropy', 'max_depth': 5, 'min_...  0.942771  1.000000   \n",
       "18  {'criterion': 'entropy', 'max_depth': 50, 'min...  0.778980  0.125000   \n",
       "19  {'criterion': 'entropy', 'max_depth': 50, 'min...  0.828940  0.250000   \n",
       "20  {'max_depth': 5, 'max_features': 'sqrt', 'min_...  0.957503  0.875000   \n",
       "21  {'max_depth': 50, 'max_features': 'sqrt', 'min...  0.953633  1.000000   \n",
       "22  {'criterion': 'gini', 'max_depth': 5, 'min_sam...  0.930875  1.000000   \n",
       "23  {'criterion': 'gini', 'max_depth': 5, 'min_sam...  0.927149  1.000000   \n",
       "24  {'criterion': 'gini', 'max_depth': 50, 'min_sa...  0.796223  0.125000   \n",
       "25  {'criterion': 'gini', 'max_depth': 50, 'min_sa...  0.862638  0.125000   \n",
       "26  {'criterion': 'entropy', 'max_depth': 5, 'min_...  0.948377  1.000000   \n",
       "27  {'criterion': 'entropy', 'max_depth': 5, 'min_...  0.948377  1.000000   \n",
       "28  {'criterion': 'entropy', 'max_depth': 50, 'min...  0.811544  0.125000   \n",
       "29  {'criterion': 'entropy', 'max_depth': 50, 'min...  0.831741  0.125000   \n",
       "..                                                ...       ...       ...   \n",
       "70  {'max_depth': 5, 'max_features': 'sqrt', 'min_...  0.944620  0.750000   \n",
       "71  {'max_depth': 50, 'max_features': 'sqrt', 'min...  0.941014  0.875000   \n",
       "72  {'criterion': 'gini', 'max_depth': 5, 'min_sam...  0.955151  0.750000   \n",
       "73  {'criterion': 'gini', 'max_depth': 5, 'min_sam...  0.955151  0.750000   \n",
       "74  {'criterion': 'gini', 'max_depth': 50, 'min_sa...  0.758388  0.250000   \n",
       "75  {'criterion': 'gini', 'max_depth': 50, 'min_sa...  0.810637  0.625000   \n",
       "76  {'criterion': 'entropy', 'max_depth': 5, 'min_...  0.943378  0.750000   \n",
       "77  {'criterion': 'entropy', 'max_depth': 5, 'min_...  0.943378  0.750000   \n",
       "78  {'criterion': 'entropy', 'max_depth': 50, 'min...  0.815672  1.000000   \n",
       "79  {'criterion': 'entropy', 'max_depth': 50, 'min...  0.838989  0.625000   \n",
       "80  {'max_depth': 5, 'max_features': 'sqrt', 'min_...  0.919907  1.000000   \n",
       "81  {'max_depth': 50, 'max_features': 'sqrt', 'min...  0.924326  0.857143   \n",
       "82  {'criterion': 'gini', 'max_depth': 5, 'min_sam...  0.924676  0.428571   \n",
       "83  {'criterion': 'gini', 'max_depth': 5, 'min_sam...  0.924676  0.428571   \n",
       "84  {'criterion': 'gini', 'max_depth': 50, 'min_sa...  0.795820  0.142857   \n",
       "85  {'criterion': 'gini', 'max_depth': 50, 'min_sa...  0.812043  0.142857   \n",
       "86  {'criterion': 'entropy', 'max_depth': 5, 'min_...  0.920930  0.285714   \n",
       "87  {'criterion': 'entropy', 'max_depth': 5, 'min_...  0.920930  0.285714   \n",
       "88  {'criterion': 'entropy', 'max_depth': 50, 'min...  0.805637  0.285714   \n",
       "89  {'criterion': 'entropy', 'max_depth': 50, 'min...  0.830649  0.285714   \n",
       "90  {'max_depth': 5, 'max_features': 'sqrt', 'min_...  0.939687  1.000000   \n",
       "91  {'max_depth': 50, 'max_features': 'sqrt', 'min...  0.953939  0.857143   \n",
       "92  {'criterion': 'gini', 'max_depth': 5, 'min_sam...  0.943497  0.857143   \n",
       "93  {'criterion': 'gini', 'max_depth': 5, 'min_sam...  0.943497  0.857143   \n",
       "94  {'criterion': 'gini', 'max_depth': 50, 'min_sa...  0.790438  0.285714   \n",
       "95  {'criterion': 'gini', 'max_depth': 50, 'min_sa...  0.828582  0.142857   \n",
       "96  {'criterion': 'entropy', 'max_depth': 5, 'min_...  0.941039  0.714286   \n",
       "97  {'criterion': 'entropy', 'max_depth': 5, 'min_...  0.941039  0.714286   \n",
       "98  {'criterion': 'entropy', 'max_depth': 50, 'min...  0.783874  0.142857   \n",
       "99  {'criterion': 'entropy', 'max_depth': 50, 'min...  0.847133  0.285714   \n",
       "\n",
       "      p_at_2    p_at_5   p_at_10    ...      r_at_20   r_at_30   r_at_50  \\\n",
       "0   1.000000  0.853659  0.804878    ...     0.756579  0.888158  0.986842   \n",
       "1   0.875000  0.878049  0.841463    ...     0.730263  0.881579  0.973684   \n",
       "2   0.125000  0.560976  0.658537    ...     0.664474  0.901316  1.000000   \n",
       "3   0.062500  0.609756  0.682927    ...     0.664474  0.953947  1.000000   \n",
       "4   0.125000  0.512195  0.341463    ...     0.625000  0.625000  1.000000   \n",
       "5   0.375000  0.414634  0.536585    ...     0.730263  0.763158  1.000000   \n",
       "6   0.562500  0.731707  0.792683    ...     0.631579  0.953947  1.000000   \n",
       "7   0.562500  0.731707  0.792683    ...     0.631579  0.960526  1.000000   \n",
       "8   0.375000  0.609756  0.414634    ...     0.644737  0.644737  1.000000   \n",
       "9   0.625000  0.463415  0.597561    ...     0.717105  0.750000  1.000000   \n",
       "10  0.937500  0.825000  0.775000    ...     0.776923  0.892308  0.992308   \n",
       "11  0.875000  0.825000  0.775000    ...     0.792308  0.923077  0.992308   \n",
       "12  0.812500  0.775000  0.587500    ...     0.707692  0.976923  1.000000   \n",
       "13  0.812500  0.775000  0.600000    ...     0.715385  0.984615  1.000000   \n",
       "14  0.125000  0.375000  0.200000    ...     0.730769  0.730769  1.000000   \n",
       "15  0.187500  0.450000  0.437500    ...     0.738462  0.846154  1.000000   \n",
       "16  0.812500  0.750000  0.675000    ...     0.807692  0.969231  1.000000   \n",
       "17  0.750000  0.725000  0.662500    ...     0.800000  0.976923  1.000000   \n",
       "18  0.062500  0.425000  0.387500    ...     0.630769  0.630769  1.000000   \n",
       "19  0.500000  0.425000  0.575000    ...     0.738462  0.738462  1.000000   \n",
       "20  0.882353  0.860465  0.825581    ...     0.835821  0.977612  1.000000   \n",
       "21  0.941176  0.813953  0.779070    ...     0.835821  0.970149  0.992537   \n",
       "22  0.941176  0.837209  0.686047    ...     0.768657  0.940299  1.000000   \n",
       "23  0.941176  0.837209  0.686047    ...     0.768657  0.932836  1.000000   \n",
       "24  0.058824  0.325581  0.267442    ...     0.679104  0.679104  1.000000   \n",
       "25  0.058824  0.395349  0.406977    ...     0.753731  0.820896  1.000000   \n",
       "26  1.000000  0.813953  0.639535    ...     0.835821  0.962687  1.000000   \n",
       "27  1.000000  0.813953  0.639535    ...     0.835821  0.962687  1.000000   \n",
       "28  0.117647  0.441860  0.337209    ...     0.701493  0.701493  1.000000   \n",
       "29  0.058824  0.372093  0.418605    ...     0.746269  0.746269  1.000000   \n",
       "..       ...       ...       ...    ...          ...       ...       ...   \n",
       "70  0.875000  0.850000  0.827160    ...     0.812500  0.937500  0.993056   \n",
       "71  0.875000  0.850000  0.777778    ...     0.750000  0.930556  0.993056   \n",
       "72  0.875000  0.800000  0.765432    ...     0.763889  0.965278  1.000000   \n",
       "73  0.875000  0.800000  0.765432    ...     0.763889  0.965278  1.000000   \n",
       "74  0.500000  0.550000  0.506173    ...     0.576389  0.576389  1.000000   \n",
       "75  0.812500  0.550000  0.641975    ...     0.687500  0.687500  1.000000   \n",
       "76  0.875000  0.750000  0.765432    ...     0.715278  0.958333  1.000000   \n",
       "77  0.875000  0.750000  0.765432    ...     0.715278  0.958333  1.000000   \n",
       "78  0.500000  0.675000  0.419753    ...     0.701389  0.701389  1.000000   \n",
       "79  0.812500  0.600000  0.617284    ...     0.750000  0.750000  1.000000   \n",
       "80  0.933333  0.692308  0.769231    ...     0.675325  0.857143  0.980519   \n",
       "81  0.733333  0.794872  0.717949    ...     0.662338  0.883117  0.993506   \n",
       "82  0.266667  0.615385  0.653846    ...     0.623377  0.909091  1.000000   \n",
       "83  0.266667  0.615385  0.653846    ...     0.623377  0.909091  1.000000   \n",
       "84  0.133333  0.538462  0.294872    ...     0.623377  0.688312  1.000000   \n",
       "85  0.133333  0.512821  0.371795    ...     0.642857  0.727273  1.000000   \n",
       "86  0.266667  0.589744  0.653846    ...     0.655844  0.909091  1.000000   \n",
       "87  0.266667  0.589744  0.653846    ...     0.655844  0.909091  1.000000   \n",
       "88  0.133333  0.487179  0.294872    ...     0.597403  0.714286  1.000000   \n",
       "89  0.133333  0.461538  0.307692    ...     0.623377  0.779221  1.000000   \n",
       "90  1.000000  0.971429  0.842857    ...     0.769841  0.904762  0.984127   \n",
       "91  0.928571  0.885714  0.828571    ...     0.793651  0.952381  0.992063   \n",
       "92  0.928571  0.857143  0.871429    ...     0.706349  0.928571  1.000000   \n",
       "93  0.928571  0.857143  0.871429    ...     0.706349  0.928571  1.000000   \n",
       "94  0.142857  0.542857  0.357143    ...     0.658730  0.658730  1.000000   \n",
       "95  0.071429  0.371429  0.357143    ...     0.682540  0.761905  1.000000   \n",
       "96  0.857143  0.857143  0.800000    ...     0.658730  0.928571  1.000000   \n",
       "97  0.857143  0.857143  0.800000    ...     0.658730  0.928571  1.000000   \n",
       "98  0.071429  0.485714  0.314286    ...     0.650794  0.650794  1.000000   \n",
       "99  0.500000  0.600000  0.485714    ...     0.730159  0.777778  1.000000   \n",
       "\n",
       "     f1_at_1   f1_at_2   f1_at_5  f1_at_10  f1_at_20  f1_at_30  f1_at_50  \n",
       "0   0.100000  0.190476  0.362694  0.564103  0.725552  0.676692  0.531915  \n",
       "1   0.087500  0.166667  0.373057  0.589744  0.700315  0.671679  0.524823  \n",
       "2   0.025000  0.023810  0.238342  0.461538  0.637224  0.686717  0.539007  \n",
       "3   0.012500  0.011905  0.259067  0.478632  0.637224  0.726817  0.539007  \n",
       "4   0.025000  0.023810  0.217617  0.239316  0.599369  0.476190  0.539007  \n",
       "5   0.025000  0.071429  0.176166  0.376068  0.700315  0.581454  0.539007  \n",
       "6   0.025000  0.107143  0.310881  0.555556  0.605678  0.726817  0.539007  \n",
       "7   0.025000  0.107143  0.310881  0.555556  0.605678  0.731830  0.539007  \n",
       "8   0.075000  0.071429  0.259067  0.290598  0.618297  0.491228  0.539007  \n",
       "9   0.025000  0.119048  0.196891  0.418803  0.687697  0.571429  0.539007  \n",
       "10  0.115942  0.205479  0.388235  0.590476  0.696552  0.627027  0.485876  \n",
       "11  0.101449  0.191781  0.388235  0.590476  0.710345  0.648649  0.485876  \n",
       "12  0.072464  0.178082  0.364706  0.447619  0.634483  0.686486  0.489642  \n",
       "13  0.072464  0.178082  0.364706  0.457143  0.641379  0.691892  0.489642  \n",
       "14  0.028986  0.027397  0.176471  0.152381  0.655172  0.513514  0.489642  \n",
       "15  0.028986  0.041096  0.211765  0.333333  0.662069  0.594595  0.489642  \n",
       "16  0.115942  0.178082  0.352941  0.514286  0.724138  0.681081  0.489642  \n",
       "17  0.115942  0.164384  0.341176  0.504762  0.717241  0.686486  0.489642  \n",
       "18  0.014493  0.013699  0.200000  0.295238  0.565517  0.443243  0.489642  \n",
       "19  0.028986  0.109589  0.200000  0.438095  0.662069  0.518919  0.489642  \n",
       "20  0.098592  0.198675  0.418079  0.645455  0.732026  0.668367  0.475177  \n",
       "21  0.112676  0.211921  0.395480  0.609091  0.732026  0.663265  0.471631  \n",
       "22  0.112676  0.211921  0.406780  0.536364  0.673203  0.642857  0.475177  \n",
       "23  0.112676  0.211921  0.406780  0.536364  0.673203  0.637755  0.475177  \n",
       "24  0.014085  0.013245  0.158192  0.209091  0.594771  0.464286  0.475177  \n",
       "25  0.014085  0.013245  0.192090  0.318182  0.660131  0.561224  0.475177  \n",
       "26  0.112676  0.225166  0.395480  0.500000  0.732026  0.658163  0.475177  \n",
       "27  0.112676  0.225166  0.395480  0.500000  0.732026  0.658163  0.475177  \n",
       "28  0.014085  0.026490  0.214689  0.263636  0.614379  0.479592  0.475177  \n",
       "29  0.014085  0.013245  0.180791  0.327273  0.653595  0.510204  0.475177  \n",
       "..       ...       ...       ...       ...       ...       ...       ...  \n",
       "70  0.078947  0.175000  0.369565  0.595556  0.762215  0.695876  0.519056  \n",
       "71  0.092105  0.175000  0.369565  0.560000  0.703583  0.690722  0.519056  \n",
       "72  0.078947  0.175000  0.347826  0.551111  0.716612  0.716495  0.522686  \n",
       "73  0.078947  0.175000  0.347826  0.551111  0.716612  0.716495  0.522686  \n",
       "74  0.026316  0.100000  0.239130  0.364444  0.540717  0.427835  0.522686  \n",
       "75  0.065789  0.162500  0.239130  0.462222  0.644951  0.510309  0.522686  \n",
       "76  0.078947  0.175000  0.326087  0.551111  0.671010  0.711340  0.522686  \n",
       "77  0.078947  0.175000  0.326087  0.551111  0.671010  0.711340  0.522686  \n",
       "78  0.105263  0.100000  0.293478  0.302222  0.657980  0.520619  0.522686  \n",
       "79  0.065789  0.162500  0.260870  0.444444  0.703583  0.556701  0.522686  \n",
       "80  0.086957  0.165680  0.279793  0.517241  0.668810  0.678663  0.553114  \n",
       "81  0.074534  0.130178  0.321244  0.482759  0.655949  0.699229  0.560440  \n",
       "82  0.037267  0.047337  0.248705  0.439655  0.617363  0.719794  0.564103  \n",
       "83  0.037267  0.047337  0.248705  0.439655  0.617363  0.719794  0.564103  \n",
       "84  0.012422  0.023669  0.217617  0.198276  0.617363  0.544987  0.564103  \n",
       "85  0.012422  0.023669  0.207254  0.250000  0.636656  0.575835  0.564103  \n",
       "86  0.024845  0.047337  0.238342  0.439655  0.649518  0.719794  0.564103  \n",
       "87  0.024845  0.047337  0.238342  0.439655  0.649518  0.719794  0.564103  \n",
       "88  0.024845  0.023669  0.196891  0.198276  0.591640  0.565553  0.564103  \n",
       "89  0.024845  0.023669  0.186528  0.206897  0.617363  0.616967  0.564103  \n",
       "90  0.105263  0.200000  0.422360  0.602041  0.729323  0.676558  0.518828  \n",
       "91  0.090226  0.185714  0.385093  0.591837  0.751880  0.712166  0.523013  \n",
       "92  0.090226  0.185714  0.372671  0.622449  0.669173  0.694362  0.527197  \n",
       "93  0.090226  0.185714  0.372671  0.622449  0.669173  0.694362  0.527197  \n",
       "94  0.030075  0.028571  0.236025  0.255102  0.624060  0.492582  0.527197  \n",
       "95  0.015038  0.014286  0.161491  0.255102  0.646617  0.569733  0.527197  \n",
       "96  0.075188  0.171429  0.372671  0.571429  0.624060  0.694362  0.527197  \n",
       "97  0.075188  0.171429  0.372671  0.571429  0.624060  0.694362  0.527197  \n",
       "98  0.015038  0.014286  0.211180  0.224490  0.616541  0.486647  0.527197  \n",
       "99  0.030075  0.100000  0.260870  0.346939  0.691729  0.581602  0.527197  \n",
       "\n",
       "[100 rows x 27 columns]"
      ]
     },
     "execution_count": 21,
     "metadata": {},
     "output_type": "execute_result"
    }
   ],
   "source": [
    "results"
   ]
  },
  {
   "cell_type": "code",
   "execution_count": null,
   "metadata": {
    "collapsed": true
   },
   "outputs": [],
   "source": []
  }
 ],
 "metadata": {
  "kernelspec": {
   "display_name": "Python 3",
   "language": "python",
   "name": "python3"
  },
  "language_info": {
   "codemirror_mode": {
    "name": "ipython",
    "version": 3
   },
   "file_extension": ".py",
   "mimetype": "text/x-python",
   "name": "python",
   "nbconvert_exporter": "python",
   "pygments_lexer": "ipython3",
   "version": "3.6.3"
  }
 },
 "nbformat": 4,
 "nbformat_minor": 2
}
