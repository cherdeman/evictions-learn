{
 "cells": [
  {
   "cell_type": "code",
   "execution_count": 74,
   "metadata": {},
   "outputs": [
    {
     "name": "stdout",
     "output_type": "stream",
     "text": [
      "The autoreload extension is already loaded. To reload it, use:\n",
      "  %reload_ext autoreload\n"
     ]
    }
   ],
   "source": [
    "%load_ext autoreload\n",
    "%autoreload 2\n",
    "%matplotlib inline\n",
    "import warnings\n",
    "import ml_utils as ml\n",
    "import graphviz\n",
    "import pandas as pd\n",
    "import seaborn as sns\n",
    "import matplotlib.pyplot as plt\n",
    "\n",
    "warnings.filterwarnings('ignore')"
   ]
  },
  {
   "cell_type": "code",
   "execution_count": 83,
   "metadata": {
    "scrolled": false
   },
   "outputs": [
    {
     "name": "stdout",
     "output_type": "stream",
     "text": [
      "Connected to evictions DB.\n",
      "Set schema to 'evictions'.\n",
      "Set background cursor.\n",
      "Running RF...\n",
      "Running with params {'max_depth': 5, 'max_features': 'sqrt', 'min_samples_split': 10, 'n_estimators': 10}\n",
      "RF finished.\n",
      "Running DT...\n",
      "Running with params {'criterion': 'gini', 'max_depth': 20, 'min_samples_split': 10}\n",
      "DT finished.\n",
      "Running LR...\n",
      "Running with params {'C': 0.01, 'penalty': 'l2'}\n",
      "LR finished.\n",
      "Running BAG...\n",
      "Running with params {'bootstrap_features': True, 'max_features': 5, 'max_samples': 5, 'n_estimators': 5}\n",
      "BAG finished.\n",
      "Running GB...\n",
      "Running with params {'learning_rate': 0.5, 'max_depth': 5, 'n_estimators': 5, 'subsample': 0.5}\n",
      "GB finished.\n",
      "Running KNN...\n",
      "Running with params {'algorithm': 'kd_tree', 'n_neighbors': 10, 'weights': 'distance'}\n",
      "KNN finished.\n",
      "Running NB...\n",
      "Running with params {}\n",
      "NB finished.\n",
      "Running BASELINE_DT...\n",
      "Running with params {'criterion': 'gini', 'max_depth': 3}\n",
      "BASELINE_DT finished.\n",
      "Running RF...\n",
      "Running with params {'max_depth': 5, 'max_features': 'sqrt', 'min_samples_split': 10, 'n_estimators': 10}\n",
      "RF finished.\n",
      "Running DT...\n",
      "Running with params {'criterion': 'gini', 'max_depth': 20, 'min_samples_split': 10}\n",
      "DT finished.\n",
      "Running LR...\n",
      "Running with params {'C': 0.01, 'penalty': 'l2'}\n",
      "LR finished.\n",
      "Running BAG...\n",
      "Running with params {'bootstrap_features': True, 'max_features': 5, 'max_samples': 5, 'n_estimators': 5}\n",
      "BAG finished.\n",
      "Running GB...\n",
      "Running with params {'learning_rate': 0.5, 'max_depth': 5, 'n_estimators': 5, 'subsample': 0.5}\n",
      "GB finished.\n",
      "Running KNN...\n",
      "Running with params {'algorithm': 'kd_tree', 'n_neighbors': 10, 'weights': 'distance'}\n",
      "KNN finished.\n",
      "Running NB...\n",
      "Running with params {}\n",
      "NB finished.\n",
      "Running BASELINE_DT...\n",
      "Running with params {'criterion': 'gini', 'max_depth': 3}\n",
      "BASELINE_DT finished.\n",
      "Running RF...\n",
      "Running with params {'max_depth': 5, 'max_features': 'sqrt', 'min_samples_split': 10, 'n_estimators': 10}\n",
      "RF finished.\n",
      "Running DT...\n",
      "Running with params {'criterion': 'gini', 'max_depth': 20, 'min_samples_split': 10}\n",
      "DT finished.\n",
      "Running LR...\n",
      "Running with params {'C': 0.01, 'penalty': 'l2'}\n",
      "LR finished.\n",
      "Running BAG...\n",
      "Running with params {'bootstrap_features': True, 'max_features': 5, 'max_samples': 5, 'n_estimators': 5}\n",
      "BAG finished.\n",
      "Running GB...\n",
      "Running with params {'learning_rate': 0.5, 'max_depth': 5, 'n_estimators': 5, 'subsample': 0.5}\n",
      "GB finished.\n",
      "Running KNN...\n",
      "Running with params {'algorithm': 'kd_tree', 'n_neighbors': 10, 'weights': 'distance'}\n",
      "KNN finished.\n",
      "Running NB...\n",
      "Running with params {}\n",
      "NB finished.\n",
      "Running BASELINE_DT...\n",
      "Running with params {'criterion': 'gini', 'max_depth': 3}\n",
      "BASELINE_DT finished.\n",
      "Running RF...\n",
      "Running with params {'max_depth': 5, 'max_features': 'sqrt', 'min_samples_split': 10, 'n_estimators': 10}\n",
      "RF finished.\n",
      "Running DT...\n",
      "Running with params {'criterion': 'gini', 'max_depth': 20, 'min_samples_split': 10}\n",
      "DT finished.\n",
      "Running LR...\n",
      "Running with params {'C': 0.01, 'penalty': 'l2'}\n",
      "LR finished.\n",
      "Running BAG...\n",
      "Running with params {'bootstrap_features': True, 'max_features': 5, 'max_samples': 5, 'n_estimators': 5}\n",
      "BAG finished.\n",
      "Running GB...\n",
      "Running with params {'learning_rate': 0.5, 'max_depth': 5, 'n_estimators': 5, 'subsample': 0.5}\n",
      "GB finished.\n",
      "Running KNN...\n",
      "Running with params {'algorithm': 'kd_tree', 'n_neighbors': 10, 'weights': 'distance'}\n",
      "KNN finished.\n",
      "Running NB...\n",
      "Running with params {}\n",
      "NB finished.\n",
      "Running BASELINE_DT...\n",
      "Running with params {'criterion': 'gini', 'max_depth': 3}\n",
      "BASELINE_DT finished.\n",
      "Running RF...\n",
      "Running with params {'max_depth': 5, 'max_features': 'sqrt', 'min_samples_split': 10, 'n_estimators': 10}\n",
      "RF finished.\n",
      "Running DT...\n",
      "Running with params {'criterion': 'gini', 'max_depth': 20, 'min_samples_split': 10}\n",
      "DT finished.\n",
      "Running LR...\n",
      "Running with params {'C': 0.01, 'penalty': 'l2'}\n",
      "LR finished.\n",
      "Running BAG...\n",
      "Running with params {'bootstrap_features': True, 'max_features': 5, 'max_samples': 5, 'n_estimators': 5}\n",
      "BAG finished.\n",
      "Running GB...\n",
      "Running with params {'learning_rate': 0.5, 'max_depth': 5, 'n_estimators': 5, 'subsample': 0.5}\n",
      "GB finished.\n",
      "Running KNN...\n",
      "Running with params {'algorithm': 'kd_tree', 'n_neighbors': 10, 'weights': 'distance'}\n",
      "KNN finished.\n",
      "Running NB...\n",
      "Running with params {}\n",
      "NB finished.\n",
      "Running BASELINE_DT...\n",
      "Running with params {'criterion': 'gini', 'max_depth': 3}\n",
      "BASELINE_DT finished.\n",
      "Running RF...\n",
      "Running with params {'max_depth': 5, 'max_features': 'sqrt', 'min_samples_split': 10, 'n_estimators': 10}\n",
      "RF finished.\n",
      "Running DT...\n",
      "Running with params {'criterion': 'gini', 'max_depth': 20, 'min_samples_split': 10}\n",
      "DT finished.\n",
      "Running LR...\n",
      "Running with params {'C': 0.01, 'penalty': 'l2'}\n",
      "LR finished.\n",
      "Running BAG...\n",
      "Running with params {'bootstrap_features': True, 'max_features': 5, 'max_samples': 5, 'n_estimators': 5}\n",
      "BAG finished.\n",
      "Running GB...\n",
      "Running with params {'learning_rate': 0.5, 'max_depth': 5, 'n_estimators': 5, 'subsample': 0.5}\n",
      "GB finished.\n",
      "Running KNN...\n",
      "Running with params {'algorithm': 'kd_tree', 'n_neighbors': 10, 'weights': 'distance'}\n",
      "KNN finished.\n",
      "Running NB...\n",
      "Running with params {}\n",
      "NB finished.\n",
      "Running BASELINE_DT...\n",
      "Running with params {'criterion': 'gini', 'max_depth': 3}\n",
      "BASELINE_DT finished.\n",
      "Running RF...\n",
      "Running with params {'max_depth': 5, 'max_features': 'sqrt', 'min_samples_split': 10, 'n_estimators': 10}\n",
      "RF finished.\n",
      "Running DT...\n",
      "Running with params {'criterion': 'gini', 'max_depth': 20, 'min_samples_split': 10}\n",
      "DT finished.\n",
      "Running LR...\n",
      "Running with params {'C': 0.01, 'penalty': 'l2'}\n",
      "LR finished.\n",
      "Running BAG...\n",
      "Running with params {'bootstrap_features': True, 'max_features': 5, 'max_samples': 5, 'n_estimators': 5}\n",
      "BAG finished.\n",
      "Running GB...\n",
      "Running with params {'learning_rate': 0.5, 'max_depth': 5, 'n_estimators': 5, 'subsample': 0.5}\n",
      "GB finished.\n",
      "Running KNN...\n",
      "Running with params {'algorithm': 'kd_tree', 'n_neighbors': 10, 'weights': 'distance'}\n",
      "KNN finished.\n",
      "Running NB...\n",
      "Running with params {}\n",
      "NB finished.\n",
      "Running BASELINE_DT...\n",
      "Running with params {'criterion': 'gini', 'max_depth': 3}\n",
      "BASELINE_DT finished.\n",
      "Running RF...\n",
      "Running with params {'max_depth': 5, 'max_features': 'sqrt', 'min_samples_split': 10, 'n_estimators': 10}\n",
      "RF finished.\n",
      "Running DT...\n",
      "Running with params {'criterion': 'gini', 'max_depth': 20, 'min_samples_split': 10}\n",
      "DT finished.\n",
      "Running LR...\n",
      "Running with params {'C': 0.01, 'penalty': 'l2'}\n",
      "LR finished.\n",
      "Running BAG...\n",
      "Running with params {'bootstrap_features': True, 'max_features': 5, 'max_samples': 5, 'n_estimators': 5}\n",
      "BAG finished.\n",
      "Running GB...\n",
      "Running with params {'learning_rate': 0.5, 'max_depth': 5, 'n_estimators': 5, 'subsample': 0.5}\n",
      "GB finished.\n",
      "Running KNN...\n",
      "Running with params {'algorithm': 'kd_tree', 'n_neighbors': 10, 'weights': 'distance'}\n",
      "KNN finished.\n",
      "Running NB...\n",
      "Running with params {}\n",
      "NB finished.\n",
      "Running BASELINE_DT...\n",
      "Running with params {'criterion': 'gini', 'max_depth': 3}\n",
      "BASELINE_DT finished.\n",
      "Running RF...\n",
      "Running with params {'max_depth': 5, 'max_features': 'sqrt', 'min_samples_split': 10, 'n_estimators': 10}\n",
      "RF finished.\n",
      "Running DT...\n",
      "Running with params {'criterion': 'gini', 'max_depth': 20, 'min_samples_split': 10}\n",
      "DT finished.\n",
      "Running LR...\n",
      "Running with params {'C': 0.01, 'penalty': 'l2'}\n",
      "LR finished.\n",
      "Running BAG...\n",
      "Running with params {'bootstrap_features': True, 'max_features': 5, 'max_samples': 5, 'n_estimators': 5}\n",
      "BAG finished.\n",
      "Running GB...\n",
      "Running with params {'learning_rate': 0.5, 'max_depth': 5, 'n_estimators': 5, 'subsample': 0.5}\n",
      "GB finished.\n",
      "Running KNN...\n",
      "Running with params {'algorithm': 'kd_tree', 'n_neighbors': 10, 'weights': 'distance'}\n",
      "KNN finished.\n",
      "Running NB...\n",
      "Running with params {}\n",
      "NB finished.\n",
      "Running BASELINE_DT...\n",
      "Running with params {'criterion': 'gini', 'max_depth': 3}\n",
      "BASELINE_DT finished.\n",
      "Running RF...\n",
      "Running with params {'max_depth': 5, 'max_features': 'sqrt', 'min_samples_split': 10, 'n_estimators': 10}\n",
      "RF finished.\n",
      "Running DT...\n",
      "Running with params {'criterion': 'gini', 'max_depth': 20, 'min_samples_split': 10}\n",
      "DT finished.\n",
      "Running LR...\n",
      "Running with params {'C': 0.01, 'penalty': 'l2'}\n",
      "LR finished.\n",
      "Running BAG...\n",
      "Running with params {'bootstrap_features': True, 'max_features': 5, 'max_samples': 5, 'n_estimators': 5}\n",
      "BAG finished.\n",
      "Running GB...\n",
      "Running with params {'learning_rate': 0.5, 'max_depth': 5, 'n_estimators': 5, 'subsample': 0.5}\n"
     ]
    },
    {
     "name": "stdout",
     "output_type": "stream",
     "text": [
      "GB finished.\n",
      "Running KNN...\n",
      "Running with params {'algorithm': 'kd_tree', 'n_neighbors': 10, 'weights': 'distance'}\n",
      "KNN finished.\n",
      "Running NB...\n",
      "Running with params {}\n",
      "NB finished.\n",
      "Running BASELINE_DT...\n",
      "Running with params {'criterion': 'gini', 'max_depth': 3}\n",
      "BASELINE_DT finished.\n",
      "Running RF...\n",
      "Running with params {'max_depth': 5, 'max_features': 'sqrt', 'min_samples_split': 10, 'n_estimators': 10}\n",
      "RF finished.\n",
      "Running DT...\n",
      "Running with params {'criterion': 'gini', 'max_depth': 20, 'min_samples_split': 10}\n",
      "DT finished.\n",
      "Running LR...\n",
      "Running with params {'C': 0.01, 'penalty': 'l2'}\n",
      "LR finished.\n",
      "Running BAG...\n",
      "Running with params {'bootstrap_features': True, 'max_features': 5, 'max_samples': 5, 'n_estimators': 5}\n",
      "BAG finished.\n",
      "Running GB...\n",
      "Running with params {'learning_rate': 0.5, 'max_depth': 5, 'n_estimators': 5, 'subsample': 0.5}\n",
      "GB finished.\n",
      "Running KNN...\n",
      "Running with params {'algorithm': 'kd_tree', 'n_neighbors': 10, 'weights': 'distance'}\n",
      "KNN finished.\n",
      "Running NB...\n",
      "Running with params {}\n",
      "NB finished.\n",
      "Running BASELINE_DT...\n",
      "Running with params {'criterion': 'gini', 'max_depth': 3}\n",
      "BASELINE_DT finished.\n",
      "Running RF...\n",
      "Running with params {'max_depth': 5, 'max_features': 'sqrt', 'min_samples_split': 10, 'n_estimators': 10}\n",
      "RF finished.\n",
      "Running DT...\n",
      "Running with params {'criterion': 'gini', 'max_depth': 20, 'min_samples_split': 10}\n",
      "DT finished.\n",
      "Running LR...\n",
      "Running with params {'C': 0.01, 'penalty': 'l2'}\n",
      "LR finished.\n",
      "Running BAG...\n",
      "Running with params {'bootstrap_features': True, 'max_features': 5, 'max_samples': 5, 'n_estimators': 5}\n",
      "BAG finished.\n",
      "Running GB...\n",
      "Running with params {'learning_rate': 0.5, 'max_depth': 5, 'n_estimators': 5, 'subsample': 0.5}\n",
      "GB finished.\n",
      "Running KNN...\n",
      "Running with params {'algorithm': 'kd_tree', 'n_neighbors': 10, 'weights': 'distance'}\n",
      "KNN finished.\n",
      "Running NB...\n",
      "Running with params {}\n",
      "NB finished.\n",
      "Running BASELINE_DT...\n",
      "Running with params {'criterion': 'gini', 'max_depth': 3}\n",
      "BASELINE_DT finished.\n",
      "done standard\n",
      "BASELINE_RAND finished.\n",
      "BASELINE_PRIOR finished.\n",
      "BASELINE_RAND finished.\n",
      "BASELINE_PRIOR finished.\n",
      "BASELINE_RAND finished.\n",
      "BASELINE_PRIOR finished.\n",
      "BASELINE_RAND finished.\n",
      "BASELINE_PRIOR finished.\n",
      "BASELINE_RAND finished.\n",
      "BASELINE_PRIOR finished.\n",
      "BASELINE_RAND finished.\n",
      "BASELINE_PRIOR finished.\n",
      "BASELINE_RAND finished.\n",
      "BASELINE_PRIOR finished.\n",
      "BASELINE_RAND finished.\n",
      "BASELINE_PRIOR finished.\n",
      "BASELINE_RAND finished.\n",
      "BASELINE_PRIOR finished.\n",
      "BASELINE_RAND finished.\n",
      "BASELINE_PRIOR finished.\n",
      "done baseline\n"
     ]
    },
    {
     "data": {
      "text/plain": [
       "<Figure size 432x288 with 0 Axes>"
      ]
     },
     "metadata": {},
     "output_type": "display_data"
    },
    {
     "data": {
      "text/plain": [
       "<Figure size 432x288 with 0 Axes>"
      ]
     },
     "metadata": {},
     "output_type": "display_data"
    },
    {
     "data": {
      "text/plain": [
       "<Figure size 432x288 with 0 Axes>"
      ]
     },
     "metadata": {},
     "output_type": "display_data"
    },
    {
     "data": {
      "text/plain": [
       "<Figure size 432x288 with 0 Axes>"
      ]
     },
     "metadata": {},
     "output_type": "display_data"
    },
    {
     "data": {
      "text/plain": [
       "<Figure size 432x288 with 0 Axes>"
      ]
     },
     "metadata": {},
     "output_type": "display_data"
    },
    {
     "data": {
      "text/plain": [
       "<Figure size 432x288 with 0 Axes>"
      ]
     },
     "metadata": {},
     "output_type": "display_data"
    },
    {
     "data": {
      "text/plain": [
       "<Figure size 432x288 with 0 Axes>"
      ]
     },
     "metadata": {},
     "output_type": "display_data"
    },
    {
     "data": {
      "text/plain": [
       "<Figure size 432x288 with 0 Axes>"
      ]
     },
     "metadata": {},
     "output_type": "display_data"
    },
    {
     "data": {
      "text/plain": [
       "<Figure size 432x288 with 0 Axes>"
      ]
     },
     "metadata": {},
     "output_type": "display_data"
    },
    {
     "data": {
      "text/plain": [
       "<Figure size 432x288 with 0 Axes>"
      ]
     },
     "metadata": {},
     "output_type": "display_data"
    },
    {
     "data": {
      "text/plain": [
       "<Figure size 432x288 with 0 Axes>"
      ]
     },
     "metadata": {},
     "output_type": "display_data"
    },
    {
     "data": {
      "text/plain": [
       "<Figure size 432x288 with 0 Axes>"
      ]
     },
     "metadata": {},
     "output_type": "display_data"
    },
    {
     "data": {
      "text/plain": [
       "<Figure size 432x288 with 0 Axes>"
      ]
     },
     "metadata": {},
     "output_type": "display_data"
    },
    {
     "data": {
      "text/plain": [
       "<Figure size 432x288 with 0 Axes>"
      ]
     },
     "metadata": {},
     "output_type": "display_data"
    },
    {
     "data": {
      "text/plain": [
       "<Figure size 432x288 with 0 Axes>"
      ]
     },
     "metadata": {},
     "output_type": "display_data"
    },
    {
     "data": {
      "text/plain": [
       "<Figure size 432x288 with 0 Axes>"
      ]
     },
     "metadata": {},
     "output_type": "display_data"
    },
    {
     "data": {
      "text/plain": [
       "<Figure size 432x288 with 0 Axes>"
      ]
     },
     "metadata": {},
     "output_type": "display_data"
    },
    {
     "data": {
      "text/plain": [
       "<Figure size 432x288 with 0 Axes>"
      ]
     },
     "metadata": {},
     "output_type": "display_data"
    },
    {
     "data": {
      "text/plain": [
       "<Figure size 432x288 with 0 Axes>"
      ]
     },
     "metadata": {},
     "output_type": "display_data"
    },
    {
     "data": {
      "text/plain": [
       "<Figure size 432x288 with 0 Axes>"
      ]
     },
     "metadata": {},
     "output_type": "display_data"
    },
    {
     "data": {
      "text/plain": [
       "<Figure size 432x288 with 0 Axes>"
      ]
     },
     "metadata": {},
     "output_type": "display_data"
    },
    {
     "data": {
      "text/plain": [
       "<Figure size 432x288 with 0 Axes>"
      ]
     },
     "metadata": {},
     "output_type": "display_data"
    },
    {
     "data": {
      "text/plain": [
       "<Figure size 432x288 with 0 Axes>"
      ]
     },
     "metadata": {},
     "output_type": "display_data"
    },
    {
     "data": {
      "text/plain": [
       "<Figure size 432x288 with 0 Axes>"
      ]
     },
     "metadata": {},
     "output_type": "display_data"
    },
    {
     "data": {
      "text/plain": [
       "<Figure size 432x288 with 0 Axes>"
      ]
     },
     "metadata": {},
     "output_type": "display_data"
    },
    {
     "data": {
      "text/plain": [
       "<Figure size 432x288 with 0 Axes>"
      ]
     },
     "metadata": {},
     "output_type": "display_data"
    },
    {
     "data": {
      "text/plain": [
       "<Figure size 432x288 with 0 Axes>"
      ]
     },
     "metadata": {},
     "output_type": "display_data"
    },
    {
     "data": {
      "text/plain": [
       "<Figure size 432x288 with 0 Axes>"
      ]
     },
     "metadata": {},
     "output_type": "display_data"
    },
    {
     "data": {
      "text/plain": [
       "<Figure size 432x288 with 0 Axes>"
      ]
     },
     "metadata": {},
     "output_type": "display_data"
    },
    {
     "data": {
      "text/plain": [
       "<Figure size 432x288 with 0 Axes>"
      ]
     },
     "metadata": {},
     "output_type": "display_data"
    },
    {
     "data": {
      "text/plain": [
       "<Figure size 432x288 with 0 Axes>"
      ]
     },
     "metadata": {},
     "output_type": "display_data"
    },
    {
     "data": {
      "text/plain": [
       "<Figure size 432x288 with 0 Axes>"
      ]
     },
     "metadata": {},
     "output_type": "display_data"
    },
    {
     "data": {
      "text/plain": [
       "<Figure size 432x288 with 0 Axes>"
      ]
     },
     "metadata": {},
     "output_type": "display_data"
    },
    {
     "data": {
      "text/plain": [
       "<Figure size 432x288 with 0 Axes>"
      ]
     },
     "metadata": {},
     "output_type": "display_data"
    },
    {
     "data": {
      "text/plain": [
       "<Figure size 432x288 with 0 Axes>"
      ]
     },
     "metadata": {},
     "output_type": "display_data"
    },
    {
     "data": {
      "text/plain": [
       "<Figure size 432x288 with 0 Axes>"
      ]
     },
     "metadata": {},
     "output_type": "display_data"
    },
    {
     "data": {
      "text/plain": [
       "<Figure size 432x288 with 0 Axes>"
      ]
     },
     "metadata": {},
     "output_type": "display_data"
    },
    {
     "data": {
      "text/plain": [
       "<Figure size 432x288 with 0 Axes>"
      ]
     },
     "metadata": {},
     "output_type": "display_data"
    },
    {
     "data": {
      "text/plain": [
       "<Figure size 432x288 with 0 Axes>"
      ]
     },
     "metadata": {},
     "output_type": "display_data"
    },
    {
     "data": {
      "text/plain": [
       "<Figure size 432x288 with 0 Axes>"
      ]
     },
     "metadata": {},
     "output_type": "display_data"
    },
    {
     "data": {
      "text/plain": [
       "<Figure size 432x288 with 0 Axes>"
      ]
     },
     "metadata": {},
     "output_type": "display_data"
    },
    {
     "data": {
      "text/plain": [
       "<Figure size 432x288 with 0 Axes>"
      ]
     },
     "metadata": {},
     "output_type": "display_data"
    },
    {
     "data": {
      "text/plain": [
       "<Figure size 432x288 with 0 Axes>"
      ]
     },
     "metadata": {},
     "output_type": "display_data"
    },
    {
     "data": {
      "text/plain": [
       "<Figure size 432x288 with 0 Axes>"
      ]
     },
     "metadata": {},
     "output_type": "display_data"
    },
    {
     "data": {
      "text/plain": [
       "<Figure size 432x288 with 0 Axes>"
      ]
     },
     "metadata": {},
     "output_type": "display_data"
    },
    {
     "data": {
      "text/plain": [
       "<Figure size 432x288 with 0 Axes>"
      ]
     },
     "metadata": {},
     "output_type": "display_data"
    },
    {
     "data": {
      "text/plain": [
       "<Figure size 432x288 with 0 Axes>"
      ]
     },
     "metadata": {},
     "output_type": "display_data"
    },
    {
     "data": {
      "text/plain": [
       "<Figure size 432x288 with 0 Axes>"
      ]
     },
     "metadata": {},
     "output_type": "display_data"
    },
    {
     "data": {
      "text/plain": [
       "<Figure size 432x288 with 0 Axes>"
      ]
     },
     "metadata": {},
     "output_type": "display_data"
    },
    {
     "data": {
      "text/plain": [
       "<Figure size 432x288 with 0 Axes>"
      ]
     },
     "metadata": {},
     "output_type": "display_data"
    },
    {
     "data": {
      "text/plain": [
       "<Figure size 432x288 with 0 Axes>"
      ]
     },
     "metadata": {},
     "output_type": "display_data"
    },
    {
     "data": {
      "text/plain": [
       "<Figure size 432x288 with 0 Axes>"
      ]
     },
     "metadata": {},
     "output_type": "display_data"
    },
    {
     "data": {
      "text/plain": [
       "<Figure size 432x288 with 0 Axes>"
      ]
     },
     "metadata": {},
     "output_type": "display_data"
    },
    {
     "data": {
      "text/plain": [
       "<Figure size 432x288 with 0 Axes>"
      ]
     },
     "metadata": {},
     "output_type": "display_data"
    },
    {
     "data": {
      "text/plain": [
       "<Figure size 432x288 with 0 Axes>"
      ]
     },
     "metadata": {},
     "output_type": "display_data"
    },
    {
     "data": {
      "text/plain": [
       "<Figure size 432x288 with 0 Axes>"
      ]
     },
     "metadata": {},
     "output_type": "display_data"
    },
    {
     "data": {
      "text/plain": [
       "<Figure size 432x288 with 0 Axes>"
      ]
     },
     "metadata": {},
     "output_type": "display_data"
    },
    {
     "data": {
      "text/plain": [
       "<Figure size 432x288 with 0 Axes>"
      ]
     },
     "metadata": {},
     "output_type": "display_data"
    },
    {
     "data": {
      "text/plain": [
       "<Figure size 432x288 with 0 Axes>"
      ]
     },
     "metadata": {},
     "output_type": "display_data"
    },
    {
     "data": {
      "text/plain": [
       "<Figure size 432x288 with 0 Axes>"
      ]
     },
     "metadata": {},
     "output_type": "display_data"
    },
    {
     "data": {
      "text/plain": [
       "<Figure size 432x288 with 0 Axes>"
      ]
     },
     "metadata": {},
     "output_type": "display_data"
    },
    {
     "data": {
      "text/plain": [
       "<Figure size 432x288 with 0 Axes>"
      ]
     },
     "metadata": {},
     "output_type": "display_data"
    },
    {
     "data": {
      "text/plain": [
       "<Figure size 432x288 with 0 Axes>"
      ]
     },
     "metadata": {},
     "output_type": "display_data"
    },
    {
     "data": {
      "text/plain": [
       "<Figure size 432x288 with 0 Axes>"
      ]
     },
     "metadata": {},
     "output_type": "display_data"
    },
    {
     "data": {
      "text/plain": [
       "<Figure size 432x288 with 0 Axes>"
      ]
     },
     "metadata": {},
     "output_type": "display_data"
    },
    {
     "data": {
      "text/plain": [
       "<Figure size 432x288 with 0 Axes>"
      ]
     },
     "metadata": {},
     "output_type": "display_data"
    },
    {
     "data": {
      "text/plain": [
       "<Figure size 432x288 with 0 Axes>"
      ]
     },
     "metadata": {},
     "output_type": "display_data"
    },
    {
     "data": {
      "text/plain": [
       "<Figure size 432x288 with 0 Axes>"
      ]
     },
     "metadata": {},
     "output_type": "display_data"
    },
    {
     "data": {
      "text/plain": [
       "<Figure size 432x288 with 0 Axes>"
      ]
     },
     "metadata": {},
     "output_type": "display_data"
    },
    {
     "data": {
      "text/plain": [
       "<Figure size 432x288 with 0 Axes>"
      ]
     },
     "metadata": {},
     "output_type": "display_data"
    },
    {
     "data": {
      "text/plain": [
       "<Figure size 432x288 with 0 Axes>"
      ]
     },
     "metadata": {},
     "output_type": "display_data"
    },
    {
     "data": {
      "text/plain": [
       "<Figure size 432x288 with 0 Axes>"
      ]
     },
     "metadata": {},
     "output_type": "display_data"
    },
    {
     "data": {
      "text/plain": [
       "<Figure size 432x288 with 0 Axes>"
      ]
     },
     "metadata": {},
     "output_type": "display_data"
    },
    {
     "data": {
      "text/plain": [
       "<Figure size 432x288 with 0 Axes>"
      ]
     },
     "metadata": {},
     "output_type": "display_data"
    },
    {
     "data": {
      "text/plain": [
       "<Figure size 432x288 with 0 Axes>"
      ]
     },
     "metadata": {},
     "output_type": "display_data"
    },
    {
     "data": {
      "text/plain": [
       "<Figure size 432x288 with 0 Axes>"
      ]
     },
     "metadata": {},
     "output_type": "display_data"
    },
    {
     "data": {
      "text/plain": [
       "<Figure size 432x288 with 0 Axes>"
      ]
     },
     "metadata": {},
     "output_type": "display_data"
    },
    {
     "data": {
      "text/plain": [
       "<Figure size 432x288 with 0 Axes>"
      ]
     },
     "metadata": {},
     "output_type": "display_data"
    },
    {
     "data": {
      "text/plain": [
       "<Figure size 432x288 with 0 Axes>"
      ]
     },
     "metadata": {},
     "output_type": "display_data"
    },
    {
     "data": {
      "text/plain": [
       "<Figure size 432x288 with 0 Axes>"
      ]
     },
     "metadata": {},
     "output_type": "display_data"
    },
    {
     "data": {
      "text/plain": [
       "<Figure size 432x288 with 0 Axes>"
      ]
     },
     "metadata": {},
     "output_type": "display_data"
    },
    {
     "data": {
      "text/plain": [
       "<Figure size 432x288 with 0 Axes>"
      ]
     },
     "metadata": {},
     "output_type": "display_data"
    },
    {
     "data": {
      "text/plain": [
       "<Figure size 432x288 with 0 Axes>"
      ]
     },
     "metadata": {},
     "output_type": "display_data"
    },
    {
     "data": {
      "text/plain": [
       "<Figure size 432x288 with 0 Axes>"
      ]
     },
     "metadata": {},
     "output_type": "display_data"
    },
    {
     "data": {
      "text/plain": [
       "<Figure size 432x288 with 0 Axes>"
      ]
     },
     "metadata": {},
     "output_type": "display_data"
    },
    {
     "data": {
      "text/plain": [
       "<Figure size 432x288 with 0 Axes>"
      ]
     },
     "metadata": {},
     "output_type": "display_data"
    },
    {
     "data": {
      "text/plain": [
       "<Figure size 432x288 with 0 Axes>"
      ]
     },
     "metadata": {},
     "output_type": "display_data"
    },
    {
     "data": {
      "text/plain": [
       "<Figure size 432x288 with 0 Axes>"
      ]
     },
     "metadata": {},
     "output_type": "display_data"
    },
    {
     "data": {
      "text/plain": [
       "<Figure size 432x288 with 0 Axes>"
      ]
     },
     "metadata": {},
     "output_type": "display_data"
    },
    {
     "data": {
      "text/plain": [
       "<Figure size 432x288 with 0 Axes>"
      ]
     },
     "metadata": {},
     "output_type": "display_data"
    },
    {
     "data": {
      "text/plain": [
       "<Figure size 432x288 with 0 Axes>"
      ]
     },
     "metadata": {},
     "output_type": "display_data"
    },
    {
     "data": {
      "text/plain": [
       "<Figure size 432x288 with 0 Axes>"
      ]
     },
     "metadata": {},
     "output_type": "display_data"
    },
    {
     "data": {
      "text/plain": [
       "<Figure size 432x288 with 0 Axes>"
      ]
     },
     "metadata": {},
     "output_type": "display_data"
    },
    {
     "data": {
      "text/plain": [
       "<Figure size 432x288 with 0 Axes>"
      ]
     },
     "metadata": {},
     "output_type": "display_data"
    },
    {
     "data": {
      "text/plain": [
       "<Figure size 432x288 with 0 Axes>"
      ]
     },
     "metadata": {},
     "output_type": "display_data"
    },
    {
     "data": {
      "text/plain": [
       "<Figure size 432x288 with 0 Axes>"
      ]
     },
     "metadata": {},
     "output_type": "display_data"
    },
    {
     "data": {
      "image/png": "[encoded data removed]",
      "text/plain": [
       "<Figure size 432x288 with 2 Axes>"
      ]
     },
     "metadata": {},
     "output_type": "display_data"
    }
   ],
   "source": [
    "results, pipeline = ml.main()"
   ]
  },
  {
   "cell_type": "code",
   "execution_count": 84,
   "metadata": {},
   "outputs": [
    {
     "data": {
      "text/html": [
       "<div>\n",
       "<style scoped>\n",
       "    .dataframe tbody tr th:only-of-type {\n",
       "        vertical-align: middle;\n",
       "    }\n",
       "\n",
       "    .dataframe tbody tr th {\n",
       "        vertical-align: top;\n",
       "    }\n",
       "\n",
       "    .dataframe thead th {\n",
       "        text-align: right;\n",
       "    }\n",
       "</style>\n",
       "<table border=\"1\" class=\"dataframe\">\n",
       "  <thead>\n",
       "    <tr style=\"text-align: right;\">\n",
       "      <th></th>\n",
       "      <th>training_dates</th>\n",
       "      <th>testing_dates</th>\n",
       "      <th>model_key</th>\n",
       "      <th>classifier</th>\n",
       "      <th>parameters</th>\n",
       "      <th>feature_sets</th>\n",
       "      <th>outcome</th>\n",
       "      <th>model_result</th>\n",
       "      <th>auc-roc</th>\n",
       "      <th>p_at_1</th>\n",
       "      <th>...</th>\n",
       "      <th>r_at_20</th>\n",
       "      <th>r_at_30</th>\n",
       "      <th>r_at_50</th>\n",
       "      <th>f1_at_1</th>\n",
       "      <th>f1_at_2</th>\n",
       "      <th>f1_at_5</th>\n",
       "      <th>f1_at_10</th>\n",
       "      <th>f1_at_20</th>\n",
       "      <th>f1_at_30</th>\n",
       "      <th>f1_at_50</th>\n",
       "    </tr>\n",
       "  </thead>\n",
       "  <tbody>\n",
       "    <tr>\n",
       "      <th>0</th>\n",
       "      <td>(2005-01-01 00:00:00, 2005-12-31 00:00:00)</td>\n",
       "      <td>(2006-01-01 00:00:00, 2006-12-31 00:00:00)</td>\n",
       "      <td>RF</td>\n",
       "      <td>(DecisionTreeClassifier(class_weight=None, cri...</td>\n",
       "      <td>{'max_depth': 5, 'max_features': 'sqrt', 'min_...</td>\n",
       "      <td>[demographic]</td>\n",
       "      <td>top20_rate</td>\n",
       "      <td>RF: feature_importances:                     f...</td>\n",
       "      <td>0.627810</td>\n",
       "      <td>0.75</td>\n",
       "      <td>...</td>\n",
       "      <td>0.313559</td>\n",
       "      <td>0.457627</td>\n",
       "      <td>0.669492</td>\n",
       "      <td>0.049180</td>\n",
       "      <td>0.063492</td>\n",
       "      <td>0.144928</td>\n",
       "      <td>0.278481</td>\n",
       "      <td>0.373737</td>\n",
       "      <td>0.453782</td>\n",
       "      <td>0.496855</td>\n",
       "    </tr>\n",
       "    <tr>\n",
       "      <th>1</th>\n",
       "      <td>(2005-01-01 00:00:00, 2005-12-31 00:00:00)</td>\n",
       "      <td>(2006-01-01 00:00:00, 2006-12-31 00:00:00)</td>\n",
       "      <td>DT</td>\n",
       "      <td>DecisionTreeClassifier(class_weight=None, crit...</td>\n",
       "      <td>{'criterion': 'gini', 'max_depth': 20, 'min_sa...</td>\n",
       "      <td>[demographic]</td>\n",
       "      <td>top20_rate</td>\n",
       "      <td>DT: tree_viz: tree_viz1.png</td>\n",
       "      <td>0.581200</td>\n",
       "      <td>0.25</td>\n",
       "      <td>...</td>\n",
       "      <td>0.271186</td>\n",
       "      <td>0.381356</td>\n",
       "      <td>0.855932</td>\n",
       "      <td>0.016393</td>\n",
       "      <td>0.015873</td>\n",
       "      <td>0.014493</td>\n",
       "      <td>0.075949</td>\n",
       "      <td>0.323232</td>\n",
       "      <td>0.378151</td>\n",
       "      <td>0.635220</td>\n",
       "    </tr>\n",
       "    <tr>\n",
       "      <th>2</th>\n",
       "      <td>(2005-01-01 00:00:00, 2005-12-31 00:00:00)</td>\n",
       "      <td>(2006-01-01 00:00:00, 2006-12-31 00:00:00)</td>\n",
       "      <td>LR</td>\n",
       "      <td>LogisticRegression(C=0.01, class_weight=None, ...</td>\n",
       "      <td>{'C': 0.01, 'penalty': 'l2'}</td>\n",
       "      <td>[demographic]</td>\n",
       "      <td>top20_rate</td>\n",
       "      <td>LR: coefficients:         coef                ...</td>\n",
       "      <td>0.669131</td>\n",
       "      <td>0.50</td>\n",
       "      <td>...</td>\n",
       "      <td>0.372881</td>\n",
       "      <td>0.474576</td>\n",
       "      <td>0.644068</td>\n",
       "      <td>0.032787</td>\n",
       "      <td>0.063492</td>\n",
       "      <td>0.159420</td>\n",
       "      <td>0.291139</td>\n",
       "      <td>0.444444</td>\n",
       "      <td>0.470588</td>\n",
       "      <td>0.477987</td>\n",
       "    </tr>\n",
       "    <tr>\n",
       "      <th>3</th>\n",
       "      <td>(2005-01-01 00:00:00, 2005-12-31 00:00:00)</td>\n",
       "      <td>(2006-01-01 00:00:00, 2006-12-31 00:00:00)</td>\n",
       "      <td>BAG</td>\n",
       "      <td>(DecisionTreeClassifier(class_weight=None, cri...</td>\n",
       "      <td>{'bootstrap_features': True, 'max_features': 5...</td>\n",
       "      <td>[demographic]</td>\n",
       "      <td>top20_rate</td>\n",
       "      <td>BAG: base_estimator: DecisionTreeClassifier(cl...</td>\n",
       "      <td>0.564010</td>\n",
       "      <td>0.00</td>\n",
       "      <td>...</td>\n",
       "      <td>0.110169</td>\n",
       "      <td>0.355932</td>\n",
       "      <td>0.796610</td>\n",
       "      <td>0.000000</td>\n",
       "      <td>0.000000</td>\n",
       "      <td>0.072464</td>\n",
       "      <td>0.063291</td>\n",
       "      <td>0.131313</td>\n",
       "      <td>0.352941</td>\n",
       "      <td>0.591195</td>\n",
       "    </tr>\n",
       "    <tr>\n",
       "      <th>4</th>\n",
       "      <td>(2005-01-01 00:00:00, 2005-12-31 00:00:00)</td>\n",
       "      <td>(2006-01-01 00:00:00, 2006-12-31 00:00:00)</td>\n",
       "      <td>GB</td>\n",
       "      <td>([DecisionTreeRegressor(criterion='friedman_ms...</td>\n",
       "      <td>{'learning_rate': 0.5, 'max_depth': 5, 'n_esti...</td>\n",
       "      <td>[demographic]</td>\n",
       "      <td>top20_rate</td>\n",
       "      <td>GB: feature_importances:                     f...</td>\n",
       "      <td>0.541967</td>\n",
       "      <td>0.75</td>\n",
       "      <td>...</td>\n",
       "      <td>0.279661</td>\n",
       "      <td>0.372881</td>\n",
       "      <td>0.525424</td>\n",
       "      <td>0.049180</td>\n",
       "      <td>0.047619</td>\n",
       "      <td>0.115942</td>\n",
       "      <td>0.215190</td>\n",
       "      <td>0.333333</td>\n",
       "      <td>0.369748</td>\n",
       "      <td>0.389937</td>\n",
       "    </tr>\n",
       "    <tr>\n",
       "      <th>5</th>\n",
       "      <td>(2005-01-01 00:00:00, 2005-12-31 00:00:00)</td>\n",
       "      <td>(2006-01-01 00:00:00, 2006-12-31 00:00:00)</td>\n",
       "      <td>KNN</td>\n",
       "      <td>KNeighborsClassifier(algorithm='kd_tree', leaf...</td>\n",
       "      <td>{'algorithm': 'kd_tree', 'n_neighbors': 10, 'w...</td>\n",
       "      <td>[demographic]</td>\n",
       "      <td>top20_rate</td>\n",
       "      <td>None</td>\n",
       "      <td>0.592950</td>\n",
       "      <td>0.75</td>\n",
       "      <td>...</td>\n",
       "      <td>0.245763</td>\n",
       "      <td>0.347458</td>\n",
       "      <td>0.618644</td>\n",
       "      <td>0.049180</td>\n",
       "      <td>0.079365</td>\n",
       "      <td>0.115942</td>\n",
       "      <td>0.240506</td>\n",
       "      <td>0.292929</td>\n",
       "      <td>0.344538</td>\n",
       "      <td>0.459119</td>\n",
       "    </tr>\n",
       "    <tr>\n",
       "      <th>6</th>\n",
       "      <td>(2005-01-01 00:00:00, 2005-12-31 00:00:00)</td>\n",
       "      <td>(2006-01-01 00:00:00, 2006-12-31 00:00:00)</td>\n",
       "      <td>NB</td>\n",
       "      <td>GaussianNB(priors=None)</td>\n",
       "      <td>{}</td>\n",
       "      <td>[demographic]</td>\n",
       "      <td>top20_rate</td>\n",
       "      <td>None</td>\n",
       "      <td>0.653354</td>\n",
       "      <td>0.75</td>\n",
       "      <td>...</td>\n",
       "      <td>0.372881</td>\n",
       "      <td>0.474576</td>\n",
       "      <td>0.635593</td>\n",
       "      <td>0.049180</td>\n",
       "      <td>0.079365</td>\n",
       "      <td>0.159420</td>\n",
       "      <td>0.278481</td>\n",
       "      <td>0.444444</td>\n",
       "      <td>0.470588</td>\n",
       "      <td>0.471698</td>\n",
       "    </tr>\n",
       "    <tr>\n",
       "      <th>7</th>\n",
       "      <td>(2005-01-01 00:00:00, 2005-12-31 00:00:00)</td>\n",
       "      <td>(2006-01-01 00:00:00, 2006-12-31 00:00:00)</td>\n",
       "      <td>BASELINE_DT</td>\n",
       "      <td>DecisionTreeClassifier(class_weight=None, crit...</td>\n",
       "      <td>{'criterion': 'gini', 'max_depth': 3}</td>\n",
       "      <td>[demographic]</td>\n",
       "      <td>top20_rate</td>\n",
       "      <td>None</td>\n",
       "      <td>0.632633</td>\n",
       "      <td>0.75</td>\n",
       "      <td>...</td>\n",
       "      <td>0.288136</td>\n",
       "      <td>0.330508</td>\n",
       "      <td>0.855932</td>\n",
       "      <td>0.049180</td>\n",
       "      <td>0.095238</td>\n",
       "      <td>0.159420</td>\n",
       "      <td>0.278481</td>\n",
       "      <td>0.343434</td>\n",
       "      <td>0.327731</td>\n",
       "      <td>0.635220</td>\n",
       "    </tr>\n",
       "    <tr>\n",
       "      <th>8</th>\n",
       "      <td>(2005-01-01 00:00:00, 2006-12-31 00:00:00)</td>\n",
       "      <td>(2006-01-01 00:00:00, 2006-12-31 00:00:00)</td>\n",
       "      <td>RF</td>\n",
       "      <td>(DecisionTreeClassifier(class_weight=None, cri...</td>\n",
       "      <td>{'max_depth': 5, 'max_features': 'sqrt', 'min_...</td>\n",
       "      <td>[demographic]</td>\n",
       "      <td>top20_num</td>\n",
       "      <td>RF: feature_importances:                     f...</td>\n",
       "      <td>0.941667</td>\n",
       "      <td>1.00</td>\n",
       "      <td>...</td>\n",
       "      <td>0.670000</td>\n",
       "      <td>0.850000</td>\n",
       "      <td>0.970000</td>\n",
       "      <td>0.076923</td>\n",
       "      <td>0.148148</td>\n",
       "      <td>0.333333</td>\n",
       "      <td>0.557143</td>\n",
       "      <td>0.744444</td>\n",
       "      <td>0.772727</td>\n",
       "      <td>0.646667</td>\n",
       "    </tr>\n",
       "    <tr>\n",
       "      <th>9</th>\n",
       "      <td>(2005-01-01 00:00:00, 2006-12-31 00:00:00)</td>\n",
       "      <td>(2006-01-01 00:00:00, 2006-12-31 00:00:00)</td>\n",
       "      <td>DT</td>\n",
       "      <td>DecisionTreeClassifier(class_weight=None, crit...</td>\n",
       "      <td>{'criterion': 'gini', 'max_depth': 20, 'min_sa...</td>\n",
       "      <td>[demographic]</td>\n",
       "      <td>top20_num</td>\n",
       "      <td>DT: tree_viz: tree_viz9.png</td>\n",
       "      <td>0.986333</td>\n",
       "      <td>1.00</td>\n",
       "      <td>...</td>\n",
       "      <td>0.720000</td>\n",
       "      <td>0.960000</td>\n",
       "      <td>1.000000</td>\n",
       "      <td>0.076923</td>\n",
       "      <td>0.148148</td>\n",
       "      <td>0.333333</td>\n",
       "      <td>0.571429</td>\n",
       "      <td>0.800000</td>\n",
       "      <td>0.872727</td>\n",
       "      <td>0.666667</td>\n",
       "    </tr>\n",
       "    <tr>\n",
       "      <th>10</th>\n",
       "      <td>(2005-01-01 00:00:00, 2006-12-31 00:00:00)</td>\n",
       "      <td>(2006-01-01 00:00:00, 2006-12-31 00:00:00)</td>\n",
       "      <td>LR</td>\n",
       "      <td>LogisticRegression(C=0.01, class_weight=None, ...</td>\n",
       "      <td>{'C': 0.01, 'penalty': 'l2'}</td>\n",
       "      <td>[demographic]</td>\n",
       "      <td>top20_num</td>\n",
       "      <td>LR: coefficients:         coef                ...</td>\n",
       "      <td>0.870633</td>\n",
       "      <td>0.50</td>\n",
       "      <td>...</td>\n",
       "      <td>0.530000</td>\n",
       "      <td>0.750000</td>\n",
       "      <td>0.920000</td>\n",
       "      <td>0.038462</td>\n",
       "      <td>0.111111</td>\n",
       "      <td>0.283333</td>\n",
       "      <td>0.471429</td>\n",
       "      <td>0.588889</td>\n",
       "      <td>0.681818</td>\n",
       "      <td>0.613333</td>\n",
       "    </tr>\n",
       "    <tr>\n",
       "      <th>11</th>\n",
       "      <td>(2005-01-01 00:00:00, 2006-12-31 00:00:00)</td>\n",
       "      <td>(2006-01-01 00:00:00, 2006-12-31 00:00:00)</td>\n",
       "      <td>BAG</td>\n",
       "      <td>(DecisionTreeClassifier(class_weight=None, cri...</td>\n",
       "      <td>{'bootstrap_features': True, 'max_features': 5...</td>\n",
       "      <td>[demographic]</td>\n",
       "      <td>top20_num</td>\n",
       "      <td>BAG: base_estimator: DecisionTreeClassifier(cl...</td>\n",
       "      <td>0.730717</td>\n",
       "      <td>0.75</td>\n",
       "      <td>...</td>\n",
       "      <td>0.350000</td>\n",
       "      <td>0.460000</td>\n",
       "      <td>0.910000</td>\n",
       "      <td>0.057692</td>\n",
       "      <td>0.055556</td>\n",
       "      <td>0.166667</td>\n",
       "      <td>0.142857</td>\n",
       "      <td>0.388889</td>\n",
       "      <td>0.418182</td>\n",
       "      <td>0.606667</td>\n",
       "    </tr>\n",
       "    <tr>\n",
       "      <th>12</th>\n",
       "      <td>(2005-01-01 00:00:00, 2006-12-31 00:00:00)</td>\n",
       "      <td>(2006-01-01 00:00:00, 2006-12-31 00:00:00)</td>\n",
       "      <td>GB</td>\n",
       "      <td>([DecisionTreeRegressor(criterion='friedman_ms...</td>\n",
       "      <td>{'learning_rate': 0.5, 'max_depth': 5, 'n_esti...</td>\n",
       "      <td>[demographic]</td>\n",
       "      <td>top20_num</td>\n",
       "      <td>GB: feature_importances:                     f...</td>\n",
       "      <td>0.903167</td>\n",
       "      <td>1.00</td>\n",
       "      <td>...</td>\n",
       "      <td>0.660000</td>\n",
       "      <td>0.830000</td>\n",
       "      <td>0.910000</td>\n",
       "      <td>0.076923</td>\n",
       "      <td>0.129630</td>\n",
       "      <td>0.316667</td>\n",
       "      <td>0.528571</td>\n",
       "      <td>0.733333</td>\n",
       "      <td>0.754545</td>\n",
       "      <td>0.606667</td>\n",
       "    </tr>\n",
       "    <tr>\n",
       "      <th>13</th>\n",
       "      <td>(2005-01-01 00:00:00, 2006-12-31 00:00:00)</td>\n",
       "      <td>(2006-01-01 00:00:00, 2006-12-31 00:00:00)</td>\n",
       "      <td>KNN</td>\n",
       "      <td>KNeighborsClassifier(algorithm='kd_tree', leaf...</td>\n",
       "      <td>{'algorithm': 'kd_tree', 'n_neighbors': 10, 'w...</td>\n",
       "      <td>[demographic]</td>\n",
       "      <td>top20_num</td>\n",
       "      <td>None</td>\n",
       "      <td>1.000000</td>\n",
       "      <td>1.00</td>\n",
       "      <td>...</td>\n",
       "      <td>0.800000</td>\n",
       "      <td>1.000000</td>\n",
       "      <td>1.000000</td>\n",
       "      <td>0.076923</td>\n",
       "      <td>0.148148</td>\n",
       "      <td>0.333333</td>\n",
       "      <td>0.571429</td>\n",
       "      <td>0.888889</td>\n",
       "      <td>0.909091</td>\n",
       "      <td>0.666667</td>\n",
       "    </tr>\n",
       "    <tr>\n",
       "      <th>14</th>\n",
       "      <td>(2005-01-01 00:00:00, 2006-12-31 00:00:00)</td>\n",
       "      <td>(2006-01-01 00:00:00, 2006-12-31 00:00:00)</td>\n",
       "      <td>NB</td>\n",
       "      <td>GaussianNB(priors=None)</td>\n",
       "      <td>{}</td>\n",
       "      <td>[demographic]</td>\n",
       "      <td>top20_num</td>\n",
       "      <td>None</td>\n",
       "      <td>0.846400</td>\n",
       "      <td>1.00</td>\n",
       "      <td>...</td>\n",
       "      <td>0.540000</td>\n",
       "      <td>0.710000</td>\n",
       "      <td>0.900000</td>\n",
       "      <td>0.076923</td>\n",
       "      <td>0.129630</td>\n",
       "      <td>0.233333</td>\n",
       "      <td>0.385714</td>\n",
       "      <td>0.600000</td>\n",
       "      <td>0.645455</td>\n",
       "      <td>0.600000</td>\n",
       "    </tr>\n",
       "    <tr>\n",
       "      <th>15</th>\n",
       "      <td>(2005-01-01 00:00:00, 2006-12-31 00:00:00)</td>\n",
       "      <td>(2006-01-01 00:00:00, 2006-12-31 00:00:00)</td>\n",
       "      <td>BASELINE_DT</td>\n",
       "      <td>DecisionTreeClassifier(class_weight=None, crit...</td>\n",
       "      <td>{'criterion': 'gini', 'max_depth': 3}</td>\n",
       "      <td>[demographic]</td>\n",
       "      <td>top20_num</td>\n",
       "      <td>None</td>\n",
       "      <td>0.843033</td>\n",
       "      <td>1.00</td>\n",
       "      <td>...</td>\n",
       "      <td>0.440000</td>\n",
       "      <td>0.740000</td>\n",
       "      <td>1.000000</td>\n",
       "      <td>0.076923</td>\n",
       "      <td>0.148148</td>\n",
       "      <td>0.300000</td>\n",
       "      <td>0.428571</td>\n",
       "      <td>0.488889</td>\n",
       "      <td>0.672727</td>\n",
       "      <td>0.666667</td>\n",
       "    </tr>\n",
       "    <tr>\n",
       "      <th>16</th>\n",
       "      <td>(2005-01-01 00:00:00, 2007-12-31 00:00:00)</td>\n",
       "      <td>(2006-01-01 00:00:00, 2006-12-31 00:00:00)</td>\n",
       "      <td>RF</td>\n",
       "      <td>(DecisionTreeClassifier(class_weight=None, cri...</td>\n",
       "      <td>{'max_depth': 5, 'max_features': 'sqrt', 'min_...</td>\n",
       "      <td>[eviction]</td>\n",
       "      <td>top20_rate</td>\n",
       "      <td>RF: feature_importances:                      ...</td>\n",
       "      <td>0.865969</td>\n",
       "      <td>1.00</td>\n",
       "      <td>...</td>\n",
       "      <td>0.525424</td>\n",
       "      <td>0.652542</td>\n",
       "      <td>0.889831</td>\n",
       "      <td>0.065574</td>\n",
       "      <td>0.126984</td>\n",
       "      <td>0.289855</td>\n",
       "      <td>0.405063</td>\n",
       "      <td>0.626263</td>\n",
       "      <td>0.647059</td>\n",
       "      <td>0.660377</td>\n",
       "    </tr>\n",
       "    <tr>\n",
       "      <th>17</th>\n",
       "      <td>(2005-01-01 00:00:00, 2007-12-31 00:00:00)</td>\n",
       "      <td>(2006-01-01 00:00:00, 2006-12-31 00:00:00)</td>\n",
       "      <td>DT</td>\n",
       "      <td>DecisionTreeClassifier(class_weight=None, crit...</td>\n",
       "      <td>{'criterion': 'gini', 'max_depth': 20, 'min_sa...</td>\n",
       "      <td>[eviction]</td>\n",
       "      <td>top20_rate</td>\n",
       "      <td>DT: tree_viz: tree_viz17.png</td>\n",
       "      <td>0.982239</td>\n",
       "      <td>1.00</td>\n",
       "      <td>...</td>\n",
       "      <td>0.661017</td>\n",
       "      <td>0.872881</td>\n",
       "      <td>1.000000</td>\n",
       "      <td>0.065574</td>\n",
       "      <td>0.126984</td>\n",
       "      <td>0.289855</td>\n",
       "      <td>0.506329</td>\n",
       "      <td>0.787879</td>\n",
       "      <td>0.865546</td>\n",
       "      <td>0.742138</td>\n",
       "    </tr>\n",
       "    <tr>\n",
       "      <th>18</th>\n",
       "      <td>(2005-01-01 00:00:00, 2007-12-31 00:00:00)</td>\n",
       "      <td>(2006-01-01 00:00:00, 2006-12-31 00:00:00)</td>\n",
       "      <td>LR</td>\n",
       "      <td>LogisticRegression(C=0.01, class_weight=None, ...</td>\n",
       "      <td>{'C': 0.01, 'penalty': 'l2'}</td>\n",
       "      <td>[eviction]</td>\n",
       "      <td>top20_rate</td>\n",
       "      <td>LR: coefficients:             coef            ...</td>\n",
       "      <td>0.608457</td>\n",
       "      <td>0.50</td>\n",
       "      <td>...</td>\n",
       "      <td>0.330508</td>\n",
       "      <td>0.423729</td>\n",
       "      <td>0.601695</td>\n",
       "      <td>0.032787</td>\n",
       "      <td>0.079365</td>\n",
       "      <td>0.173913</td>\n",
       "      <td>0.265823</td>\n",
       "      <td>0.393939</td>\n",
       "      <td>0.420168</td>\n",
       "      <td>0.446541</td>\n",
       "    </tr>\n",
       "    <tr>\n",
       "      <th>19</th>\n",
       "      <td>(2005-01-01 00:00:00, 2007-12-31 00:00:00)</td>\n",
       "      <td>(2006-01-01 00:00:00, 2006-12-31 00:00:00)</td>\n",
       "      <td>BAG</td>\n",
       "      <td>(DecisionTreeClassifier(class_weight=None, cri...</td>\n",
       "      <td>{'bootstrap_features': True, 'max_features': 5...</td>\n",
       "      <td>[eviction]</td>\n",
       "      <td>top20_rate</td>\n",
       "      <td>BAG: base_estimator: DecisionTreeClassifier(cl...</td>\n",
       "      <td>0.572755</td>\n",
       "      <td>0.25</td>\n",
       "      <td>...</td>\n",
       "      <td>0.254237</td>\n",
       "      <td>0.254237</td>\n",
       "      <td>0.652542</td>\n",
       "      <td>0.016393</td>\n",
       "      <td>0.031746</td>\n",
       "      <td>0.057971</td>\n",
       "      <td>0.050633</td>\n",
       "      <td>0.303030</td>\n",
       "      <td>0.252101</td>\n",
       "      <td>0.484277</td>\n",
       "    </tr>\n",
       "    <tr>\n",
       "      <th>20</th>\n",
       "      <td>(2005-01-01 00:00:00, 2007-12-31 00:00:00)</td>\n",
       "      <td>(2006-01-01 00:00:00, 2006-12-31 00:00:00)</td>\n",
       "      <td>GB</td>\n",
       "      <td>([DecisionTreeRegressor(criterion='friedman_ms...</td>\n",
       "      <td>{'learning_rate': 0.5, 'max_depth': 5, 'n_esti...</td>\n",
       "      <td>[eviction]</td>\n",
       "      <td>top20_rate</td>\n",
       "      <td>GB: feature_importances:                      ...</td>\n",
       "      <td>0.875887</td>\n",
       "      <td>1.00</td>\n",
       "      <td>...</td>\n",
       "      <td>0.542373</td>\n",
       "      <td>0.745763</td>\n",
       "      <td>0.864407</td>\n",
       "      <td>0.065574</td>\n",
       "      <td>0.126984</td>\n",
       "      <td>0.275362</td>\n",
       "      <td>0.455696</td>\n",
       "      <td>0.646465</td>\n",
       "      <td>0.739496</td>\n",
       "      <td>0.641509</td>\n",
       "    </tr>\n",
       "    <tr>\n",
       "      <th>21</th>\n",
       "      <td>(2005-01-01 00:00:00, 2007-12-31 00:00:00)</td>\n",
       "      <td>(2006-01-01 00:00:00, 2006-12-31 00:00:00)</td>\n",
       "      <td>KNN</td>\n",
       "      <td>KNeighborsClassifier(algorithm='kd_tree', leaf...</td>\n",
       "      <td>{'algorithm': 'kd_tree', 'n_neighbors': 10, 'w...</td>\n",
       "      <td>[eviction]</td>\n",
       "      <td>top20_rate</td>\n",
       "      <td>None</td>\n",
       "      <td>1.000000</td>\n",
       "      <td>1.00</td>\n",
       "      <td>...</td>\n",
       "      <td>0.677966</td>\n",
       "      <td>1.000000</td>\n",
       "      <td>1.000000</td>\n",
       "      <td>0.065574</td>\n",
       "      <td>0.126984</td>\n",
       "      <td>0.289855</td>\n",
       "      <td>0.506329</td>\n",
       "      <td>0.808081</td>\n",
       "      <td>0.991597</td>\n",
       "      <td>0.742138</td>\n",
       "    </tr>\n",
       "    <tr>\n",
       "      <th>22</th>\n",
       "      <td>(2005-01-01 00:00:00, 2007-12-31 00:00:00)</td>\n",
       "      <td>(2006-01-01 00:00:00, 2006-12-31 00:00:00)</td>\n",
       "      <td>NB</td>\n",
       "      <td>GaussianNB(priors=None)</td>\n",
       "      <td>{}</td>\n",
       "      <td>[eviction]</td>\n",
       "      <td>top20_rate</td>\n",
       "      <td>None</td>\n",
       "      <td>0.612183</td>\n",
       "      <td>0.50</td>\n",
       "      <td>...</td>\n",
       "      <td>0.313559</td>\n",
       "      <td>0.432203</td>\n",
       "      <td>0.627119</td>\n",
       "      <td>0.032787</td>\n",
       "      <td>0.047619</td>\n",
       "      <td>0.115942</td>\n",
       "      <td>0.215190</td>\n",
       "      <td>0.373737</td>\n",
       "      <td>0.428571</td>\n",
       "      <td>0.465409</td>\n",
       "    </tr>\n",
       "    <tr>\n",
       "      <th>23</th>\n",
       "      <td>(2005-01-01 00:00:00, 2007-12-31 00:00:00)</td>\n",
       "      <td>(2006-01-01 00:00:00, 2006-12-31 00:00:00)</td>\n",
       "      <td>BASELINE_DT</td>\n",
       "      <td>DecisionTreeClassifier(class_weight=None, crit...</td>\n",
       "      <td>{'criterion': 'gini', 'max_depth': 3}</td>\n",
       "      <td>[eviction]</td>\n",
       "      <td>top20_rate</td>\n",
       "      <td>None</td>\n",
       "      <td>0.682248</td>\n",
       "      <td>1.00</td>\n",
       "      <td>...</td>\n",
       "      <td>0.381356</td>\n",
       "      <td>0.508475</td>\n",
       "      <td>0.957627</td>\n",
       "      <td>0.065574</td>\n",
       "      <td>0.111111</td>\n",
       "      <td>0.188406</td>\n",
       "      <td>0.253165</td>\n",
       "      <td>0.454545</td>\n",
       "      <td>0.504202</td>\n",
       "      <td>0.710692</td>\n",
       "    </tr>\n",
       "    <tr>\n",
       "      <th>24</th>\n",
       "      <td>(2005-01-01 00:00:00, 2008-12-31 00:00:00)</td>\n",
       "      <td>(2006-01-01 00:00:00, 2006-12-31 00:00:00)</td>\n",
       "      <td>RF</td>\n",
       "      <td>(DecisionTreeClassifier(class_weight=None, cri...</td>\n",
       "      <td>{'max_depth': 5, 'max_features': 'sqrt', 'min_...</td>\n",
       "      <td>[eviction]</td>\n",
       "      <td>top20_num</td>\n",
       "      <td>RF: feature_importances:                      ...</td>\n",
       "      <td>0.851067</td>\n",
       "      <td>1.00</td>\n",
       "      <td>...</td>\n",
       "      <td>0.550000</td>\n",
       "      <td>0.710000</td>\n",
       "      <td>0.860000</td>\n",
       "      <td>0.076923</td>\n",
       "      <td>0.148148</td>\n",
       "      <td>0.300000</td>\n",
       "      <td>0.457143</td>\n",
       "      <td>0.611111</td>\n",
       "      <td>0.645455</td>\n",
       "      <td>0.573333</td>\n",
       "    </tr>\n",
       "    <tr>\n",
       "      <th>25</th>\n",
       "      <td>(2005-01-01 00:00:00, 2008-12-31 00:00:00)</td>\n",
       "      <td>(2006-01-01 00:00:00, 2006-12-31 00:00:00)</td>\n",
       "      <td>DT</td>\n",
       "      <td>DecisionTreeClassifier(class_weight=None, crit...</td>\n",
       "      <td>{'criterion': 'gini', 'max_depth': 20, 'min_sa...</td>\n",
       "      <td>[eviction]</td>\n",
       "      <td>top20_num</td>\n",
       "      <td>DT: tree_viz: tree_viz25.png</td>\n",
       "      <td>0.994083</td>\n",
       "      <td>1.00</td>\n",
       "      <td>...</td>\n",
       "      <td>0.790000</td>\n",
       "      <td>0.980000</td>\n",
       "      <td>1.000000</td>\n",
       "      <td>0.076923</td>\n",
       "      <td>0.148148</td>\n",
       "      <td>0.333333</td>\n",
       "      <td>0.571429</td>\n",
       "      <td>0.877778</td>\n",
       "      <td>0.890909</td>\n",
       "      <td>0.666667</td>\n",
       "    </tr>\n",
       "    <tr>\n",
       "      <th>26</th>\n",
       "      <td>(2005-01-01 00:00:00, 2008-12-31 00:00:00)</td>\n",
       "      <td>(2006-01-01 00:00:00, 2006-12-31 00:00:00)</td>\n",
       "      <td>LR</td>\n",
       "      <td>LogisticRegression(C=0.01, class_weight=None, ...</td>\n",
       "      <td>{'C': 0.01, 'penalty': 'l2'}</td>\n",
       "      <td>[eviction]</td>\n",
       "      <td>top20_num</td>\n",
       "      <td>LR: coefficients:             coef            ...</td>\n",
       "      <td>0.595600</td>\n",
       "      <td>0.25</td>\n",
       "      <td>...</td>\n",
       "      <td>0.250000</td>\n",
       "      <td>0.360000</td>\n",
       "      <td>0.620000</td>\n",
       "      <td>0.019231</td>\n",
       "      <td>0.074074</td>\n",
       "      <td>0.133333</td>\n",
       "      <td>0.228571</td>\n",
       "      <td>0.277778</td>\n",
       "      <td>0.327273</td>\n",
       "      <td>0.413333</td>\n",
       "    </tr>\n",
       "    <tr>\n",
       "      <th>27</th>\n",
       "      <td>(2005-01-01 00:00:00, 2008-12-31 00:00:00)</td>\n",
       "      <td>(2006-01-01 00:00:00, 2006-12-31 00:00:00)</td>\n",
       "      <td>BAG</td>\n",
       "      <td>(DecisionTreeClassifier(class_weight=None, cri...</td>\n",
       "      <td>{'bootstrap_features': True, 'max_features': 5...</td>\n",
       "      <td>[eviction]</td>\n",
       "      <td>top20_num</td>\n",
       "      <td>BAG: base_estimator: DecisionTreeClassifier(cl...</td>\n",
       "      <td>0.524350</td>\n",
       "      <td>0.25</td>\n",
       "      <td>...</td>\n",
       "      <td>0.070000</td>\n",
       "      <td>0.160000</td>\n",
       "      <td>0.680000</td>\n",
       "      <td>0.019231</td>\n",
       "      <td>0.018519</td>\n",
       "      <td>0.016667</td>\n",
       "      <td>0.100000</td>\n",
       "      <td>0.077778</td>\n",
       "      <td>0.145455</td>\n",
       "      <td>0.453333</td>\n",
       "    </tr>\n",
       "    <tr>\n",
       "      <th>28</th>\n",
       "      <td>(2005-01-01 00:00:00, 2008-12-31 00:00:00)</td>\n",
       "      <td>(2006-01-01 00:00:00, 2006-12-31 00:00:00)</td>\n",
       "      <td>GB</td>\n",
       "      <td>([DecisionTreeRegressor(criterion='friedman_ms...</td>\n",
       "      <td>{'learning_rate': 0.5, 'max_depth': 5, 'n_esti...</td>\n",
       "      <td>[eviction]</td>\n",
       "      <td>top20_num</td>\n",
       "      <td>GB: feature_importances:                      ...</td>\n",
       "      <td>0.890367</td>\n",
       "      <td>1.00</td>\n",
       "      <td>...</td>\n",
       "      <td>0.590000</td>\n",
       "      <td>0.770000</td>\n",
       "      <td>0.910000</td>\n",
       "      <td>0.076923</td>\n",
       "      <td>0.148148</td>\n",
       "      <td>0.333333</td>\n",
       "      <td>0.500000</td>\n",
       "      <td>0.655556</td>\n",
       "      <td>0.700000</td>\n",
       "      <td>0.606667</td>\n",
       "    </tr>\n",
       "    <tr>\n",
       "      <th>29</th>\n",
       "      <td>(2005-01-01 00:00:00, 2008-12-31 00:00:00)</td>\n",
       "      <td>(2006-01-01 00:00:00, 2006-12-31 00:00:00)</td>\n",
       "      <td>KNN</td>\n",
       "      <td>KNeighborsClassifier(algorithm='kd_tree', leaf...</td>\n",
       "      <td>{'algorithm': 'kd_tree', 'n_neighbors': 10, 'w...</td>\n",
       "      <td>[eviction]</td>\n",
       "      <td>top20_num</td>\n",
       "      <td>None</td>\n",
       "      <td>1.000000</td>\n",
       "      <td>1.00</td>\n",
       "      <td>...</td>\n",
       "      <td>0.800000</td>\n",
       "      <td>1.000000</td>\n",
       "      <td>1.000000</td>\n",
       "      <td>0.076923</td>\n",
       "      <td>0.148148</td>\n",
       "      <td>0.333333</td>\n",
       "      <td>0.571429</td>\n",
       "      <td>0.888889</td>\n",
       "      <td>0.909091</td>\n",
       "      <td>0.666667</td>\n",
       "    </tr>\n",
       "    <tr>\n",
       "      <th>...</th>\n",
       "      <td>...</td>\n",
       "      <td>...</td>\n",
       "      <td>...</td>\n",
       "      <td>...</td>\n",
       "      <td>...</td>\n",
       "      <td>...</td>\n",
       "      <td>...</td>\n",
       "      <td>...</td>\n",
       "      <td>...</td>\n",
       "      <td>...</td>\n",
       "      <td>...</td>\n",
       "      <td>...</td>\n",
       "      <td>...</td>\n",
       "      <td>...</td>\n",
       "      <td>...</td>\n",
       "      <td>...</td>\n",
       "      <td>...</td>\n",
       "      <td>...</td>\n",
       "      <td>...</td>\n",
       "      <td>...</td>\n",
       "      <td>...</td>\n",
       "    </tr>\n",
       "    <tr>\n",
       "      <th>86</th>\n",
       "      <td>(2005-01-01 00:00:00, 2015-12-31 00:00:00)</td>\n",
       "      <td>(2012-01-01 00:00:00, 2012-12-31 00:00:00)</td>\n",
       "      <td>NB</td>\n",
       "      <td>GaussianNB(priors=None)</td>\n",
       "      <td>{}</td>\n",
       "      <td>[demographic, eviction]</td>\n",
       "      <td>top20_rate</td>\n",
       "      <td>None</td>\n",
       "      <td>0.616034</td>\n",
       "      <td>1.00</td>\n",
       "      <td>...</td>\n",
       "      <td>0.304965</td>\n",
       "      <td>0.446809</td>\n",
       "      <td>0.602837</td>\n",
       "      <td>0.055172</td>\n",
       "      <td>0.066667</td>\n",
       "      <td>0.085890</td>\n",
       "      <td>0.215054</td>\n",
       "      <td>0.372294</td>\n",
       "      <td>0.456522</td>\n",
       "      <td>0.464481</td>\n",
       "    </tr>\n",
       "    <tr>\n",
       "      <th>87</th>\n",
       "      <td>(2005-01-01 00:00:00, 2015-12-31 00:00:00)</td>\n",
       "      <td>(2012-01-01 00:00:00, 2012-12-31 00:00:00)</td>\n",
       "      <td>BASELINE_DT</td>\n",
       "      <td>DecisionTreeClassifier(class_weight=None, crit...</td>\n",
       "      <td>{'criterion': 'gini', 'max_depth': 3}</td>\n",
       "      <td>[demographic, eviction]</td>\n",
       "      <td>top20_rate</td>\n",
       "      <td>None</td>\n",
       "      <td>0.667103</td>\n",
       "      <td>1.00</td>\n",
       "      <td>...</td>\n",
       "      <td>0.276596</td>\n",
       "      <td>0.432624</td>\n",
       "      <td>0.851064</td>\n",
       "      <td>0.055172</td>\n",
       "      <td>0.053333</td>\n",
       "      <td>0.098160</td>\n",
       "      <td>0.236559</td>\n",
       "      <td>0.337662</td>\n",
       "      <td>0.442029</td>\n",
       "      <td>0.655738</td>\n",
       "    </tr>\n",
       "    <tr>\n",
       "      <th>88</th>\n",
       "      <td>(2005-01-01 00:00:00, 2016-12-31 00:00:00)</td>\n",
       "      <td>(2012-01-01 00:00:00, 2012-12-31 00:00:00)</td>\n",
       "      <td>RF</td>\n",
       "      <td>(DecisionTreeClassifier(class_weight=None, cri...</td>\n",
       "      <td>{'max_depth': 5, 'max_features': 'sqrt', 'min_...</td>\n",
       "      <td>[demographic, eviction]</td>\n",
       "      <td>top20_num</td>\n",
       "      <td>RF: feature_importances:                      ...</td>\n",
       "      <td>0.890299</td>\n",
       "      <td>1.00</td>\n",
       "      <td>...</td>\n",
       "      <td>0.552632</td>\n",
       "      <td>0.719298</td>\n",
       "      <td>0.938596</td>\n",
       "      <td>0.067797</td>\n",
       "      <td>0.146341</td>\n",
       "      <td>0.294118</td>\n",
       "      <td>0.515723</td>\n",
       "      <td>0.617647</td>\n",
       "      <td>0.658635</td>\n",
       "      <td>0.631268</td>\n",
       "    </tr>\n",
       "    <tr>\n",
       "      <th>89</th>\n",
       "      <td>(2005-01-01 00:00:00, 2016-12-31 00:00:00)</td>\n",
       "      <td>(2012-01-01 00:00:00, 2012-12-31 00:00:00)</td>\n",
       "      <td>DT</td>\n",
       "      <td>DecisionTreeClassifier(class_weight=None, crit...</td>\n",
       "      <td>{'criterion': 'gini', 'max_depth': 20, 'min_sa...</td>\n",
       "      <td>[demographic, eviction]</td>\n",
       "      <td>top20_num</td>\n",
       "      <td>DT: tree_viz: tree_viz89.png</td>\n",
       "      <td>0.993056</td>\n",
       "      <td>1.00</td>\n",
       "      <td>...</td>\n",
       "      <td>0.763158</td>\n",
       "      <td>0.982456</td>\n",
       "      <td>1.000000</td>\n",
       "      <td>0.067797</td>\n",
       "      <td>0.146341</td>\n",
       "      <td>0.323529</td>\n",
       "      <td>0.566038</td>\n",
       "      <td>0.852941</td>\n",
       "      <td>0.899598</td>\n",
       "      <td>0.672566</td>\n",
       "    </tr>\n",
       "    <tr>\n",
       "      <th>90</th>\n",
       "      <td>(2005-01-01 00:00:00, 2016-12-31 00:00:00)</td>\n",
       "      <td>(2012-01-01 00:00:00, 2012-12-31 00:00:00)</td>\n",
       "      <td>LR</td>\n",
       "      <td>LogisticRegression(C=0.01, class_weight=None, ...</td>\n",
       "      <td>{'C': 0.01, 'penalty': 'l2'}</td>\n",
       "      <td>[demographic, eviction]</td>\n",
       "      <td>top20_num</td>\n",
       "      <td>LR: coefficients:             coef            ...</td>\n",
       "      <td>0.819209</td>\n",
       "      <td>0.75</td>\n",
       "      <td>...</td>\n",
       "      <td>0.464912</td>\n",
       "      <td>0.657895</td>\n",
       "      <td>0.885965</td>\n",
       "      <td>0.050847</td>\n",
       "      <td>0.081301</td>\n",
       "      <td>0.191176</td>\n",
       "      <td>0.301887</td>\n",
       "      <td>0.519608</td>\n",
       "      <td>0.602410</td>\n",
       "      <td>0.595870</td>\n",
       "    </tr>\n",
       "    <tr>\n",
       "      <th>91</th>\n",
       "      <td>(2005-01-01 00:00:00, 2016-12-31 00:00:00)</td>\n",
       "      <td>(2012-01-01 00:00:00, 2012-12-31 00:00:00)</td>\n",
       "      <td>BAG</td>\n",
       "      <td>(DecisionTreeClassifier(class_weight=None, cri...</td>\n",
       "      <td>{'bootstrap_features': True, 'max_features': 5...</td>\n",
       "      <td>[demographic, eviction]</td>\n",
       "      <td>top20_num</td>\n",
       "      <td>BAG: base_estimator: DecisionTreeClassifier(cl...</td>\n",
       "      <td>0.627062</td>\n",
       "      <td>0.75</td>\n",
       "      <td>...</td>\n",
       "      <td>0.114035</td>\n",
       "      <td>0.350877</td>\n",
       "      <td>0.912281</td>\n",
       "      <td>0.050847</td>\n",
       "      <td>0.048780</td>\n",
       "      <td>0.088235</td>\n",
       "      <td>0.163522</td>\n",
       "      <td>0.127451</td>\n",
       "      <td>0.321285</td>\n",
       "      <td>0.613569</td>\n",
       "    </tr>\n",
       "    <tr>\n",
       "      <th>92</th>\n",
       "      <td>(2005-01-01 00:00:00, 2016-12-31 00:00:00)</td>\n",
       "      <td>(2012-01-01 00:00:00, 2012-12-31 00:00:00)</td>\n",
       "      <td>GB</td>\n",
       "      <td>([DecisionTreeRegressor(criterion='friedman_ms...</td>\n",
       "      <td>{'learning_rate': 0.5, 'max_depth': 5, 'n_esti...</td>\n",
       "      <td>[demographic, eviction]</td>\n",
       "      <td>top20_num</td>\n",
       "      <td>GB: feature_importances:                      ...</td>\n",
       "      <td>0.904122</td>\n",
       "      <td>0.75</td>\n",
       "      <td>...</td>\n",
       "      <td>0.605263</td>\n",
       "      <td>0.815789</td>\n",
       "      <td>0.947368</td>\n",
       "      <td>0.050847</td>\n",
       "      <td>0.113821</td>\n",
       "      <td>0.279412</td>\n",
       "      <td>0.490566</td>\n",
       "      <td>0.676471</td>\n",
       "      <td>0.746988</td>\n",
       "      <td>0.637168</td>\n",
       "    </tr>\n",
       "    <tr>\n",
       "      <th>93</th>\n",
       "      <td>(2005-01-01 00:00:00, 2016-12-31 00:00:00)</td>\n",
       "      <td>(2012-01-01 00:00:00, 2012-12-31 00:00:00)</td>\n",
       "      <td>KNN</td>\n",
       "      <td>KNeighborsClassifier(algorithm='kd_tree', leaf...</td>\n",
       "      <td>{'algorithm': 'kd_tree', 'n_neighbors': 10, 'w...</td>\n",
       "      <td>[demographic, eviction]</td>\n",
       "      <td>top20_num</td>\n",
       "      <td>None</td>\n",
       "      <td>1.000000</td>\n",
       "      <td>1.00</td>\n",
       "      <td>...</td>\n",
       "      <td>0.789474</td>\n",
       "      <td>1.000000</td>\n",
       "      <td>1.000000</td>\n",
       "      <td>0.067797</td>\n",
       "      <td>0.146341</td>\n",
       "      <td>0.323529</td>\n",
       "      <td>0.566038</td>\n",
       "      <td>0.882353</td>\n",
       "      <td>0.915663</td>\n",
       "      <td>0.672566</td>\n",
       "    </tr>\n",
       "    <tr>\n",
       "      <th>94</th>\n",
       "      <td>(2005-01-01 00:00:00, 2016-12-31 00:00:00)</td>\n",
       "      <td>(2012-01-01 00:00:00, 2012-12-31 00:00:00)</td>\n",
       "      <td>NB</td>\n",
       "      <td>GaussianNB(priors=None)</td>\n",
       "      <td>{}</td>\n",
       "      <td>[demographic, eviction]</td>\n",
       "      <td>top20_num</td>\n",
       "      <td>None</td>\n",
       "      <td>0.757336</td>\n",
       "      <td>0.00</td>\n",
       "      <td>...</td>\n",
       "      <td>0.429825</td>\n",
       "      <td>0.657895</td>\n",
       "      <td>0.789474</td>\n",
       "      <td>0.000000</td>\n",
       "      <td>0.048780</td>\n",
       "      <td>0.147059</td>\n",
       "      <td>0.289308</td>\n",
       "      <td>0.480392</td>\n",
       "      <td>0.602410</td>\n",
       "      <td>0.530973</td>\n",
       "    </tr>\n",
       "    <tr>\n",
       "      <th>95</th>\n",
       "      <td>(2005-01-01 00:00:00, 2016-12-31 00:00:00)</td>\n",
       "      <td>(2012-01-01 00:00:00, 2012-12-31 00:00:00)</td>\n",
       "      <td>BASELINE_DT</td>\n",
       "      <td>DecisionTreeClassifier(class_weight=None, crit...</td>\n",
       "      <td>{'criterion': 'gini', 'max_depth': 3}</td>\n",
       "      <td>[demographic, eviction]</td>\n",
       "      <td>top20_num</td>\n",
       "      <td>None</td>\n",
       "      <td>0.814393</td>\n",
       "      <td>0.75</td>\n",
       "      <td>...</td>\n",
       "      <td>0.280702</td>\n",
       "      <td>0.631579</td>\n",
       "      <td>0.921053</td>\n",
       "      <td>0.050847</td>\n",
       "      <td>0.113821</td>\n",
       "      <td>0.117647</td>\n",
       "      <td>0.352201</td>\n",
       "      <td>0.313725</td>\n",
       "      <td>0.578313</td>\n",
       "      <td>0.619469</td>\n",
       "    </tr>\n",
       "    <tr>\n",
       "      <th>0</th>\n",
       "      <td>(2005-01-01 00:00:00, 2005-12-31 00:00:00)</td>\n",
       "      <td>(2006-01-01 00:00:00, 2006-12-31 00:00:00)</td>\n",
       "      <td>BASELINE_RAND</td>\n",
       "      <td>BASELINE_RAND</td>\n",
       "      <td>{}</td>\n",
       "      <td>prior_year</td>\n",
       "      <td>top20_rate</td>\n",
       "      <td>None</td>\n",
       "      <td>0.490684</td>\n",
       "      <td>0.25</td>\n",
       "      <td>...</td>\n",
       "      <td>0.203390</td>\n",
       "      <td>0.449153</td>\n",
       "      <td>1.000000</td>\n",
       "      <td>0.016393</td>\n",
       "      <td>0.015873</td>\n",
       "      <td>0.014493</td>\n",
       "      <td>0.012658</td>\n",
       "      <td>0.242424</td>\n",
       "      <td>0.445378</td>\n",
       "      <td>0.742138</td>\n",
       "    </tr>\n",
       "    <tr>\n",
       "      <th>1</th>\n",
       "      <td>(2005-01-01 00:00:00, 2005-12-31 00:00:00)</td>\n",
       "      <td>(2006-01-01 00:00:00, 2006-12-31 00:00:00)</td>\n",
       "      <td>BASELINE_PRIOR</td>\n",
       "      <td>BASELINE_PRIOR</td>\n",
       "      <td>{}</td>\n",
       "      <td>prior_year</td>\n",
       "      <td>top20_rate</td>\n",
       "      <td>None</td>\n",
       "      <td>0.813559</td>\n",
       "      <td>0.00</td>\n",
       "      <td>...</td>\n",
       "      <td>0.000000</td>\n",
       "      <td>0.000000</td>\n",
       "      <td>0.000000</td>\n",
       "      <td>0.000000</td>\n",
       "      <td>0.000000</td>\n",
       "      <td>0.000000</td>\n",
       "      <td>0.000000</td>\n",
       "      <td>0.000000</td>\n",
       "      <td>0.000000</td>\n",
       "      <td>0.000000</td>\n",
       "    </tr>\n",
       "    <tr>\n",
       "      <th>2</th>\n",
       "      <td>(2005-01-01 00:00:00, 2006-12-31 00:00:00)</td>\n",
       "      <td>(2006-01-01 00:00:00, 2006-12-31 00:00:00)</td>\n",
       "      <td>BASELINE_RAND</td>\n",
       "      <td>BASELINE_RAND</td>\n",
       "      <td>{}</td>\n",
       "      <td>prior_year</td>\n",
       "      <td>top20_num</td>\n",
       "      <td>None</td>\n",
       "      <td>0.533333</td>\n",
       "      <td>0.25</td>\n",
       "      <td>...</td>\n",
       "      <td>0.260000</td>\n",
       "      <td>0.450000</td>\n",
       "      <td>1.000000</td>\n",
       "      <td>0.019231</td>\n",
       "      <td>0.018519</td>\n",
       "      <td>0.016667</td>\n",
       "      <td>0.014286</td>\n",
       "      <td>0.288889</td>\n",
       "      <td>0.409091</td>\n",
       "      <td>0.666667</td>\n",
       "    </tr>\n",
       "    <tr>\n",
       "      <th>3</th>\n",
       "      <td>(2005-01-01 00:00:00, 2006-12-31 00:00:00)</td>\n",
       "      <td>(2006-01-01 00:00:00, 2006-12-31 00:00:00)</td>\n",
       "      <td>BASELINE_PRIOR</td>\n",
       "      <td>BASELINE_PRIOR</td>\n",
       "      <td>{}</td>\n",
       "      <td>prior_year</td>\n",
       "      <td>top20_num</td>\n",
       "      <td>None</td>\n",
       "      <td>0.723333</td>\n",
       "      <td>0.00</td>\n",
       "      <td>...</td>\n",
       "      <td>0.000000</td>\n",
       "      <td>0.000000</td>\n",
       "      <td>0.000000</td>\n",
       "      <td>0.000000</td>\n",
       "      <td>0.000000</td>\n",
       "      <td>0.000000</td>\n",
       "      <td>0.000000</td>\n",
       "      <td>0.000000</td>\n",
       "      <td>0.000000</td>\n",
       "      <td>0.000000</td>\n",
       "    </tr>\n",
       "    <tr>\n",
       "      <th>4</th>\n",
       "      <td>(2005-01-01 00:00:00, 2007-12-31 00:00:00)</td>\n",
       "      <td>(2008-01-01 00:00:00, 2008-12-31 00:00:00)</td>\n",
       "      <td>BASELINE_RAND</td>\n",
       "      <td>BASELINE_RAND</td>\n",
       "      <td>{}</td>\n",
       "      <td>prior_year</td>\n",
       "      <td>top20_rate</td>\n",
       "      <td>None</td>\n",
       "      <td>0.555694</td>\n",
       "      <td>0.25</td>\n",
       "      <td>...</td>\n",
       "      <td>0.119760</td>\n",
       "      <td>0.347305</td>\n",
       "      <td>0.916168</td>\n",
       "      <td>0.011696</td>\n",
       "      <td>0.011364</td>\n",
       "      <td>0.010526</td>\n",
       "      <td>0.009346</td>\n",
       "      <td>0.152672</td>\n",
       "      <td>0.375405</td>\n",
       "      <td>0.755556</td>\n",
       "    </tr>\n",
       "    <tr>\n",
       "      <th>5</th>\n",
       "      <td>(2005-01-01 00:00:00, 2007-12-31 00:00:00)</td>\n",
       "      <td>(2008-01-01 00:00:00, 2008-12-31 00:00:00)</td>\n",
       "      <td>BASELINE_PRIOR</td>\n",
       "      <td>BASELINE_PRIOR</td>\n",
       "      <td>{}</td>\n",
       "      <td>prior_year</td>\n",
       "      <td>top20_rate</td>\n",
       "      <td>None</td>\n",
       "      <td>0.796407</td>\n",
       "      <td>0.00</td>\n",
       "      <td>...</td>\n",
       "      <td>0.000000</td>\n",
       "      <td>0.000000</td>\n",
       "      <td>0.000000</td>\n",
       "      <td>0.000000</td>\n",
       "      <td>0.000000</td>\n",
       "      <td>0.000000</td>\n",
       "      <td>0.000000</td>\n",
       "      <td>0.000000</td>\n",
       "      <td>0.000000</td>\n",
       "      <td>0.000000</td>\n",
       "    </tr>\n",
       "    <tr>\n",
       "      <th>6</th>\n",
       "      <td>(2005-01-01 00:00:00, 2008-12-31 00:00:00)</td>\n",
       "      <td>(2008-01-01 00:00:00, 2008-12-31 00:00:00)</td>\n",
       "      <td>BASELINE_RAND</td>\n",
       "      <td>BASELINE_RAND</td>\n",
       "      <td>{}</td>\n",
       "      <td>prior_year</td>\n",
       "      <td>top20_num</td>\n",
       "      <td>None</td>\n",
       "      <td>0.509337</td>\n",
       "      <td>0.25</td>\n",
       "      <td>...</td>\n",
       "      <td>0.176923</td>\n",
       "      <td>0.323077</td>\n",
       "      <td>1.000000</td>\n",
       "      <td>0.014925</td>\n",
       "      <td>0.014388</td>\n",
       "      <td>0.013072</td>\n",
       "      <td>0.011299</td>\n",
       "      <td>0.204444</td>\n",
       "      <td>0.308824</td>\n",
       "      <td>0.706522</td>\n",
       "    </tr>\n",
       "    <tr>\n",
       "      <th>7</th>\n",
       "      <td>(2005-01-01 00:00:00, 2008-12-31 00:00:00)</td>\n",
       "      <td>(2008-01-01 00:00:00, 2008-12-31 00:00:00)</td>\n",
       "      <td>BASELINE_PRIOR</td>\n",
       "      <td>BASELINE_PRIOR</td>\n",
       "      <td>{}</td>\n",
       "      <td>prior_year</td>\n",
       "      <td>top20_num</td>\n",
       "      <td>None</td>\n",
       "      <td>0.722032</td>\n",
       "      <td>0.00</td>\n",
       "      <td>...</td>\n",
       "      <td>0.000000</td>\n",
       "      <td>0.000000</td>\n",
       "      <td>0.000000</td>\n",
       "      <td>0.000000</td>\n",
       "      <td>0.000000</td>\n",
       "      <td>0.000000</td>\n",
       "      <td>0.000000</td>\n",
       "      <td>0.000000</td>\n",
       "      <td>0.000000</td>\n",
       "      <td>0.000000</td>\n",
       "    </tr>\n",
       "    <tr>\n",
       "      <th>8</th>\n",
       "      <td>(2005-01-01 00:00:00, 2009-12-31 00:00:00)</td>\n",
       "      <td>(2010-01-01 00:00:00, 2010-12-31 00:00:00)</td>\n",
       "      <td>BASELINE_RAND</td>\n",
       "      <td>BASELINE_RAND</td>\n",
       "      <td>{}</td>\n",
       "      <td>prior_year</td>\n",
       "      <td>top20_rate</td>\n",
       "      <td>None</td>\n",
       "      <td>0.488042</td>\n",
       "      <td>0.25</td>\n",
       "      <td>...</td>\n",
       "      <td>0.119048</td>\n",
       "      <td>0.301587</td>\n",
       "      <td>0.904762</td>\n",
       "      <td>0.015385</td>\n",
       "      <td>0.014925</td>\n",
       "      <td>0.013605</td>\n",
       "      <td>0.011905</td>\n",
       "      <td>0.142857</td>\n",
       "      <td>0.300395</td>\n",
       "      <td>0.674556</td>\n",
       "    </tr>\n",
       "    <tr>\n",
       "      <th>9</th>\n",
       "      <td>(2005-01-01 00:00:00, 2009-12-31 00:00:00)</td>\n",
       "      <td>(2010-01-01 00:00:00, 2010-12-31 00:00:00)</td>\n",
       "      <td>BASELINE_PRIOR</td>\n",
       "      <td>BASELINE_PRIOR</td>\n",
       "      <td>{}</td>\n",
       "      <td>prior_year</td>\n",
       "      <td>top20_rate</td>\n",
       "      <td>None</td>\n",
       "      <td>0.742063</td>\n",
       "      <td>0.00</td>\n",
       "      <td>...</td>\n",
       "      <td>0.000000</td>\n",
       "      <td>0.000000</td>\n",
       "      <td>0.000000</td>\n",
       "      <td>0.000000</td>\n",
       "      <td>0.000000</td>\n",
       "      <td>0.000000</td>\n",
       "      <td>0.000000</td>\n",
       "      <td>0.000000</td>\n",
       "      <td>0.000000</td>\n",
       "      <td>0.000000</td>\n",
       "    </tr>\n",
       "    <tr>\n",
       "      <th>10</th>\n",
       "      <td>(2005-01-01 00:00:00, 2010-12-31 00:00:00)</td>\n",
       "      <td>(2010-01-01 00:00:00, 2010-12-31 00:00:00)</td>\n",
       "      <td>BASELINE_RAND</td>\n",
       "      <td>BASELINE_RAND</td>\n",
       "      <td>{}</td>\n",
       "      <td>prior_year</td>\n",
       "      <td>top20_num</td>\n",
       "      <td>None</td>\n",
       "      <td>0.495285</td>\n",
       "      <td>0.25</td>\n",
       "      <td>...</td>\n",
       "      <td>0.175000</td>\n",
       "      <td>0.316667</td>\n",
       "      <td>1.000000</td>\n",
       "      <td>0.016129</td>\n",
       "      <td>0.015625</td>\n",
       "      <td>0.014184</td>\n",
       "      <td>0.012346</td>\n",
       "      <td>0.205882</td>\n",
       "      <td>0.307692</td>\n",
       "      <td>0.722892</td>\n",
       "    </tr>\n",
       "    <tr>\n",
       "      <th>11</th>\n",
       "      <td>(2005-01-01 00:00:00, 2010-12-31 00:00:00)</td>\n",
       "      <td>(2010-01-01 00:00:00, 2010-12-31 00:00:00)</td>\n",
       "      <td>BASELINE_PRIOR</td>\n",
       "      <td>BASELINE_PRIOR</td>\n",
       "      <td>{}</td>\n",
       "      <td>prior_year</td>\n",
       "      <td>top20_num</td>\n",
       "      <td>None</td>\n",
       "      <td>0.661184</td>\n",
       "      <td>0.00</td>\n",
       "      <td>...</td>\n",
       "      <td>0.000000</td>\n",
       "      <td>0.000000</td>\n",
       "      <td>0.000000</td>\n",
       "      <td>0.000000</td>\n",
       "      <td>0.000000</td>\n",
       "      <td>0.000000</td>\n",
       "      <td>0.000000</td>\n",
       "      <td>0.000000</td>\n",
       "      <td>0.000000</td>\n",
       "      <td>0.000000</td>\n",
       "    </tr>\n",
       "    <tr>\n",
       "      <th>12</th>\n",
       "      <td>(2005-01-01 00:00:00, 2011-12-31 00:00:00)</td>\n",
       "      <td>(2012-01-01 00:00:00, 2012-12-31 00:00:00)</td>\n",
       "      <td>BASELINE_RAND</td>\n",
       "      <td>BASELINE_RAND</td>\n",
       "      <td>{}</td>\n",
       "      <td>prior_year</td>\n",
       "      <td>top20_rate</td>\n",
       "      <td>None</td>\n",
       "      <td>0.465159</td>\n",
       "      <td>0.25</td>\n",
       "      <td>...</td>\n",
       "      <td>0.113475</td>\n",
       "      <td>0.269504</td>\n",
       "      <td>0.829787</td>\n",
       "      <td>0.013793</td>\n",
       "      <td>0.013333</td>\n",
       "      <td>0.012270</td>\n",
       "      <td>0.010753</td>\n",
       "      <td>0.138528</td>\n",
       "      <td>0.275362</td>\n",
       "      <td>0.639344</td>\n",
       "    </tr>\n",
       "    <tr>\n",
       "      <th>13</th>\n",
       "      <td>(2005-01-01 00:00:00, 2011-12-31 00:00:00)</td>\n",
       "      <td>(2012-01-01 00:00:00, 2012-12-31 00:00:00)</td>\n",
       "      <td>BASELINE_PRIOR</td>\n",
       "      <td>BASELINE_PRIOR</td>\n",
       "      <td>{}</td>\n",
       "      <td>prior_year</td>\n",
       "      <td>top20_rate</td>\n",
       "      <td>None</td>\n",
       "      <td>0.812057</td>\n",
       "      <td>0.00</td>\n",
       "      <td>...</td>\n",
       "      <td>0.000000</td>\n",
       "      <td>0.000000</td>\n",
       "      <td>0.000000</td>\n",
       "      <td>0.000000</td>\n",
       "      <td>0.000000</td>\n",
       "      <td>0.000000</td>\n",
       "      <td>0.000000</td>\n",
       "      <td>0.000000</td>\n",
       "      <td>0.000000</td>\n",
       "      <td>0.000000</td>\n",
       "    </tr>\n",
       "    <tr>\n",
       "      <th>14</th>\n",
       "      <td>(2005-01-01 00:00:00, 2012-12-31 00:00:00)</td>\n",
       "      <td>(2012-01-01 00:00:00, 2012-12-31 00:00:00)</td>\n",
       "      <td>BASELINE_RAND</td>\n",
       "      <td>BASELINE_RAND</td>\n",
       "      <td>{}</td>\n",
       "      <td>prior_year</td>\n",
       "      <td>top20_num</td>\n",
       "      <td>None</td>\n",
       "      <td>0.489035</td>\n",
       "      <td>0.25</td>\n",
       "      <td>...</td>\n",
       "      <td>0.228070</td>\n",
       "      <td>0.447368</td>\n",
       "      <td>1.000000</td>\n",
       "      <td>0.016949</td>\n",
       "      <td>0.016260</td>\n",
       "      <td>0.014706</td>\n",
       "      <td>0.012579</td>\n",
       "      <td>0.254902</td>\n",
       "      <td>0.409639</td>\n",
       "      <td>0.672566</td>\n",
       "    </tr>\n",
       "    <tr>\n",
       "      <th>15</th>\n",
       "      <td>(2005-01-01 00:00:00, 2012-12-31 00:00:00)</td>\n",
       "      <td>(2012-01-01 00:00:00, 2012-12-31 00:00:00)</td>\n",
       "      <td>BASELINE_PRIOR</td>\n",
       "      <td>BASELINE_PRIOR</td>\n",
       "      <td>{}</td>\n",
       "      <td>prior_year</td>\n",
       "      <td>top20_num</td>\n",
       "      <td>None</td>\n",
       "      <td>0.686247</td>\n",
       "      <td>0.00</td>\n",
       "      <td>...</td>\n",
       "      <td>0.000000</td>\n",
       "      <td>0.000000</td>\n",
       "      <td>0.000000</td>\n",
       "      <td>0.000000</td>\n",
       "      <td>0.000000</td>\n",
       "      <td>0.000000</td>\n",
       "      <td>0.000000</td>\n",
       "      <td>0.000000</td>\n",
       "      <td>0.000000</td>\n",
       "      <td>0.000000</td>\n",
       "    </tr>\n",
       "    <tr>\n",
       "      <th>16</th>\n",
       "      <td>(2005-01-01 00:00:00, 2013-12-31 00:00:00)</td>\n",
       "      <td>(2014-01-01 00:00:00, 2014-12-31 00:00:00)</td>\n",
       "      <td>BASELINE_RAND</td>\n",
       "      <td>BASELINE_RAND</td>\n",
       "      <td>{}</td>\n",
       "      <td>prior_year</td>\n",
       "      <td>top20_rate</td>\n",
       "      <td>None</td>\n",
       "      <td>0.540224</td>\n",
       "      <td>0.25</td>\n",
       "      <td>...</td>\n",
       "      <td>0.133333</td>\n",
       "      <td>0.333333</td>\n",
       "      <td>1.000000</td>\n",
       "      <td>0.016129</td>\n",
       "      <td>0.015625</td>\n",
       "      <td>0.014286</td>\n",
       "      <td>0.012500</td>\n",
       "      <td>0.160000</td>\n",
       "      <td>0.333333</td>\n",
       "      <td>0.747664</td>\n",
       "    </tr>\n",
       "    <tr>\n",
       "      <th>17</th>\n",
       "      <td>(2005-01-01 00:00:00, 2013-12-31 00:00:00)</td>\n",
       "      <td>(2014-01-01 00:00:00, 2014-12-31 00:00:00)</td>\n",
       "      <td>BASELINE_PRIOR</td>\n",
       "      <td>BASELINE_PRIOR</td>\n",
       "      <td>{}</td>\n",
       "      <td>prior_year</td>\n",
       "      <td>top20_rate</td>\n",
       "      <td>None</td>\n",
       "      <td>0.762500</td>\n",
       "      <td>0.00</td>\n",
       "      <td>...</td>\n",
       "      <td>0.000000</td>\n",
       "      <td>0.000000</td>\n",
       "      <td>0.000000</td>\n",
       "      <td>0.000000</td>\n",
       "      <td>0.000000</td>\n",
       "      <td>0.000000</td>\n",
       "      <td>0.000000</td>\n",
       "      <td>0.000000</td>\n",
       "      <td>0.000000</td>\n",
       "      <td>0.000000</td>\n",
       "    </tr>\n",
       "    <tr>\n",
       "      <th>18</th>\n",
       "      <td>(2005-01-01 00:00:00, 2014-12-31 00:00:00)</td>\n",
       "      <td>(2014-01-01 00:00:00, 2014-12-31 00:00:00)</td>\n",
       "      <td>BASELINE_RAND</td>\n",
       "      <td>BASELINE_RAND</td>\n",
       "      <td>{}</td>\n",
       "      <td>prior_year</td>\n",
       "      <td>top20_num</td>\n",
       "      <td>None</td>\n",
       "      <td>0.476924</td>\n",
       "      <td>0.25</td>\n",
       "      <td>...</td>\n",
       "      <td>0.220183</td>\n",
       "      <td>0.357798</td>\n",
       "      <td>1.000000</td>\n",
       "      <td>0.017699</td>\n",
       "      <td>0.017094</td>\n",
       "      <td>0.015504</td>\n",
       "      <td>0.013423</td>\n",
       "      <td>0.253968</td>\n",
       "      <td>0.340611</td>\n",
       "      <td>0.703226</td>\n",
       "    </tr>\n",
       "    <tr>\n",
       "      <th>19</th>\n",
       "      <td>(2005-01-01 00:00:00, 2014-12-31 00:00:00)</td>\n",
       "      <td>(2014-01-01 00:00:00, 2014-12-31 00:00:00)</td>\n",
       "      <td>BASELINE_PRIOR</td>\n",
       "      <td>BASELINE_PRIOR</td>\n",
       "      <td>{}</td>\n",
       "      <td>prior_year</td>\n",
       "      <td>top20_num</td>\n",
       "      <td>None</td>\n",
       "      <td>0.707249</td>\n",
       "      <td>0.00</td>\n",
       "      <td>...</td>\n",
       "      <td>0.000000</td>\n",
       "      <td>0.000000</td>\n",
       "      <td>0.000000</td>\n",
       "      <td>0.000000</td>\n",
       "      <td>0.000000</td>\n",
       "      <td>0.000000</td>\n",
       "      <td>0.000000</td>\n",
       "      <td>0.000000</td>\n",
       "      <td>0.000000</td>\n",
       "      <td>0.000000</td>\n",
       "    </tr>\n",
       "  </tbody>\n",
       "</table>\n",
       "<p>116 rows × 30 columns</p>\n",
       "</div>"
      ],
      "text/plain": [
       "                                training_dates  \\\n",
       "0   (2005-01-01 00:00:00, 2005-12-31 00:00:00)   \n",
       "1   (2005-01-01 00:00:00, 2005-12-31 00:00:00)   \n",
       "2   (2005-01-01 00:00:00, 2005-12-31 00:00:00)   \n",
       "3   (2005-01-01 00:00:00, 2005-12-31 00:00:00)   \n",
       "4   (2005-01-01 00:00:00, 2005-12-31 00:00:00)   \n",
       "5   (2005-01-01 00:00:00, 2005-12-31 00:00:00)   \n",
       "6   (2005-01-01 00:00:00, 2005-12-31 00:00:00)   \n",
       "7   (2005-01-01 00:00:00, 2005-12-31 00:00:00)   \n",
       "8   (2005-01-01 00:00:00, 2006-12-31 00:00:00)   \n",
       "9   (2005-01-01 00:00:00, 2006-12-31 00:00:00)   \n",
       "10  (2005-01-01 00:00:00, 2006-12-31 00:00:00)   \n",
       "11  (2005-01-01 00:00:00, 2006-12-31 00:00:00)   \n",
       "12  (2005-01-01 00:00:00, 2006-12-31 00:00:00)   \n",
       "13  (2005-01-01 00:00:00, 2006-12-31 00:00:00)   \n",
       "14  (2005-01-01 00:00:00, 2006-12-31 00:00:00)   \n",
       "15  (2005-01-01 00:00:00, 2006-12-31 00:00:00)   \n",
       "16  (2005-01-01 00:00:00, 2007-12-31 00:00:00)   \n",
       "17  (2005-01-01 00:00:00, 2007-12-31 00:00:00)   \n",
       "18  (2005-01-01 00:00:00, 2007-12-31 00:00:00)   \n",
       "19  (2005-01-01 00:00:00, 2007-12-31 00:00:00)   \n",
       "20  (2005-01-01 00:00:00, 2007-12-31 00:00:00)   \n",
       "21  (2005-01-01 00:00:00, 2007-12-31 00:00:00)   \n",
       "22  (2005-01-01 00:00:00, 2007-12-31 00:00:00)   \n",
       "23  (2005-01-01 00:00:00, 2007-12-31 00:00:00)   \n",
       "24  (2005-01-01 00:00:00, 2008-12-31 00:00:00)   \n",
       "25  (2005-01-01 00:00:00, 2008-12-31 00:00:00)   \n",
       "26  (2005-01-01 00:00:00, 2008-12-31 00:00:00)   \n",
       "27  (2005-01-01 00:00:00, 2008-12-31 00:00:00)   \n",
       "28  (2005-01-01 00:00:00, 2008-12-31 00:00:00)   \n",
       "29  (2005-01-01 00:00:00, 2008-12-31 00:00:00)   \n",
       "..                                         ...   \n",
       "86  (2005-01-01 00:00:00, 2015-12-31 00:00:00)   \n",
       "87  (2005-01-01 00:00:00, 2015-12-31 00:00:00)   \n",
       "88  (2005-01-01 00:00:00, 2016-12-31 00:00:00)   \n",
       "89  (2005-01-01 00:00:00, 2016-12-31 00:00:00)   \n",
       "90  (2005-01-01 00:00:00, 2016-12-31 00:00:00)   \n",
       "91  (2005-01-01 00:00:00, 2016-12-31 00:00:00)   \n",
       "92  (2005-01-01 00:00:00, 2016-12-31 00:00:00)   \n",
       "93  (2005-01-01 00:00:00, 2016-12-31 00:00:00)   \n",
       "94  (2005-01-01 00:00:00, 2016-12-31 00:00:00)   \n",
       "95  (2005-01-01 00:00:00, 2016-12-31 00:00:00)   \n",
       "0   (2005-01-01 00:00:00, 2005-12-31 00:00:00)   \n",
       "1   (2005-01-01 00:00:00, 2005-12-31 00:00:00)   \n",
       "2   (2005-01-01 00:00:00, 2006-12-31 00:00:00)   \n",
       "3   (2005-01-01 00:00:00, 2006-12-31 00:00:00)   \n",
       "4   (2005-01-01 00:00:00, 2007-12-31 00:00:00)   \n",
       "5   (2005-01-01 00:00:00, 2007-12-31 00:00:00)   \n",
       "6   (2005-01-01 00:00:00, 2008-12-31 00:00:00)   \n",
       "7   (2005-01-01 00:00:00, 2008-12-31 00:00:00)   \n",
       "8   (2005-01-01 00:00:00, 2009-12-31 00:00:00)   \n",
       "9   (2005-01-01 00:00:00, 2009-12-31 00:00:00)   \n",
       "10  (2005-01-01 00:00:00, 2010-12-31 00:00:00)   \n",
       "11  (2005-01-01 00:00:00, 2010-12-31 00:00:00)   \n",
       "12  (2005-01-01 00:00:00, 2011-12-31 00:00:00)   \n",
       "13  (2005-01-01 00:00:00, 2011-12-31 00:00:00)   \n",
       "14  (2005-01-01 00:00:00, 2012-12-31 00:00:00)   \n",
       "15  (2005-01-01 00:00:00, 2012-12-31 00:00:00)   \n",
       "16  (2005-01-01 00:00:00, 2013-12-31 00:00:00)   \n",
       "17  (2005-01-01 00:00:00, 2013-12-31 00:00:00)   \n",
       "18  (2005-01-01 00:00:00, 2014-12-31 00:00:00)   \n",
       "19  (2005-01-01 00:00:00, 2014-12-31 00:00:00)   \n",
       "\n",
       "                                 testing_dates       model_key  \\\n",
       "0   (2006-01-01 00:00:00, 2006-12-31 00:00:00)              RF   \n",
       "1   (2006-01-01 00:00:00, 2006-12-31 00:00:00)              DT   \n",
       "2   (2006-01-01 00:00:00, 2006-12-31 00:00:00)              LR   \n",
       "3   (2006-01-01 00:00:00, 2006-12-31 00:00:00)             BAG   \n",
       "4   (2006-01-01 00:00:00, 2006-12-31 00:00:00)              GB   \n",
       "5   (2006-01-01 00:00:00, 2006-12-31 00:00:00)             KNN   \n",
       "6   (2006-01-01 00:00:00, 2006-12-31 00:00:00)              NB   \n",
       "7   (2006-01-01 00:00:00, 2006-12-31 00:00:00)     BASELINE_DT   \n",
       "8   (2006-01-01 00:00:00, 2006-12-31 00:00:00)              RF   \n",
       "9   (2006-01-01 00:00:00, 2006-12-31 00:00:00)              DT   \n",
       "10  (2006-01-01 00:00:00, 2006-12-31 00:00:00)              LR   \n",
       "11  (2006-01-01 00:00:00, 2006-12-31 00:00:00)             BAG   \n",
       "12  (2006-01-01 00:00:00, 2006-12-31 00:00:00)              GB   \n",
       "13  (2006-01-01 00:00:00, 2006-12-31 00:00:00)             KNN   \n",
       "14  (2006-01-01 00:00:00, 2006-12-31 00:00:00)              NB   \n",
       "15  (2006-01-01 00:00:00, 2006-12-31 00:00:00)     BASELINE_DT   \n",
       "16  (2006-01-01 00:00:00, 2006-12-31 00:00:00)              RF   \n",
       "17  (2006-01-01 00:00:00, 2006-12-31 00:00:00)              DT   \n",
       "18  (2006-01-01 00:00:00, 2006-12-31 00:00:00)              LR   \n",
       "19  (2006-01-01 00:00:00, 2006-12-31 00:00:00)             BAG   \n",
       "20  (2006-01-01 00:00:00, 2006-12-31 00:00:00)              GB   \n",
       "21  (2006-01-01 00:00:00, 2006-12-31 00:00:00)             KNN   \n",
       "22  (2006-01-01 00:00:00, 2006-12-31 00:00:00)              NB   \n",
       "23  (2006-01-01 00:00:00, 2006-12-31 00:00:00)     BASELINE_DT   \n",
       "24  (2006-01-01 00:00:00, 2006-12-31 00:00:00)              RF   \n",
       "25  (2006-01-01 00:00:00, 2006-12-31 00:00:00)              DT   \n",
       "26  (2006-01-01 00:00:00, 2006-12-31 00:00:00)              LR   \n",
       "27  (2006-01-01 00:00:00, 2006-12-31 00:00:00)             BAG   \n",
       "28  (2006-01-01 00:00:00, 2006-12-31 00:00:00)              GB   \n",
       "29  (2006-01-01 00:00:00, 2006-12-31 00:00:00)             KNN   \n",
       "..                                         ...             ...   \n",
       "86  (2012-01-01 00:00:00, 2012-12-31 00:00:00)              NB   \n",
       "87  (2012-01-01 00:00:00, 2012-12-31 00:00:00)     BASELINE_DT   \n",
       "88  (2012-01-01 00:00:00, 2012-12-31 00:00:00)              RF   \n",
       "89  (2012-01-01 00:00:00, 2012-12-31 00:00:00)              DT   \n",
       "90  (2012-01-01 00:00:00, 2012-12-31 00:00:00)              LR   \n",
       "91  (2012-01-01 00:00:00, 2012-12-31 00:00:00)             BAG   \n",
       "92  (2012-01-01 00:00:00, 2012-12-31 00:00:00)              GB   \n",
       "93  (2012-01-01 00:00:00, 2012-12-31 00:00:00)             KNN   \n",
       "94  (2012-01-01 00:00:00, 2012-12-31 00:00:00)              NB   \n",
       "95  (2012-01-01 00:00:00, 2012-12-31 00:00:00)     BASELINE_DT   \n",
       "0   (2006-01-01 00:00:00, 2006-12-31 00:00:00)   BASELINE_RAND   \n",
       "1   (2006-01-01 00:00:00, 2006-12-31 00:00:00)  BASELINE_PRIOR   \n",
       "2   (2006-01-01 00:00:00, 2006-12-31 00:00:00)   BASELINE_RAND   \n",
       "3   (2006-01-01 00:00:00, 2006-12-31 00:00:00)  BASELINE_PRIOR   \n",
       "4   (2008-01-01 00:00:00, 2008-12-31 00:00:00)   BASELINE_RAND   \n",
       "5   (2008-01-01 00:00:00, 2008-12-31 00:00:00)  BASELINE_PRIOR   \n",
       "6   (2008-01-01 00:00:00, 2008-12-31 00:00:00)   BASELINE_RAND   \n",
       "7   (2008-01-01 00:00:00, 2008-12-31 00:00:00)  BASELINE_PRIOR   \n",
       "8   (2010-01-01 00:00:00, 2010-12-31 00:00:00)   BASELINE_RAND   \n",
       "9   (2010-01-01 00:00:00, 2010-12-31 00:00:00)  BASELINE_PRIOR   \n",
       "10  (2010-01-01 00:00:00, 2010-12-31 00:00:00)   BASELINE_RAND   \n",
       "11  (2010-01-01 00:00:00, 2010-12-31 00:00:00)  BASELINE_PRIOR   \n",
       "12  (2012-01-01 00:00:00, 2012-12-31 00:00:00)   BASELINE_RAND   \n",
       "13  (2012-01-01 00:00:00, 2012-12-31 00:00:00)  BASELINE_PRIOR   \n",
       "14  (2012-01-01 00:00:00, 2012-12-31 00:00:00)   BASELINE_RAND   \n",
       "15  (2012-01-01 00:00:00, 2012-12-31 00:00:00)  BASELINE_PRIOR   \n",
       "16  (2014-01-01 00:00:00, 2014-12-31 00:00:00)   BASELINE_RAND   \n",
       "17  (2014-01-01 00:00:00, 2014-12-31 00:00:00)  BASELINE_PRIOR   \n",
       "18  (2014-01-01 00:00:00, 2014-12-31 00:00:00)   BASELINE_RAND   \n",
       "19  (2014-01-01 00:00:00, 2014-12-31 00:00:00)  BASELINE_PRIOR   \n",
       "\n",
       "                                           classifier  \\\n",
       "0   (DecisionTreeClassifier(class_weight=None, cri...   \n",
       "1   DecisionTreeClassifier(class_weight=None, crit...   \n",
       "2   LogisticRegression(C=0.01, class_weight=None, ...   \n",
       "3   (DecisionTreeClassifier(class_weight=None, cri...   \n",
       "4   ([DecisionTreeRegressor(criterion='friedman_ms...   \n",
       "5   KNeighborsClassifier(algorithm='kd_tree', leaf...   \n",
       "6                             GaussianNB(priors=None)   \n",
       "7   DecisionTreeClassifier(class_weight=None, crit...   \n",
       "8   (DecisionTreeClassifier(class_weight=None, cri...   \n",
       "9   DecisionTreeClassifier(class_weight=None, crit...   \n",
       "10  LogisticRegression(C=0.01, class_weight=None, ...   \n",
       "11  (DecisionTreeClassifier(class_weight=None, cri...   \n",
       "12  ([DecisionTreeRegressor(criterion='friedman_ms...   \n",
       "13  KNeighborsClassifier(algorithm='kd_tree', leaf...   \n",
       "14                            GaussianNB(priors=None)   \n",
       "15  DecisionTreeClassifier(class_weight=None, crit...   \n",
       "16  (DecisionTreeClassifier(class_weight=None, cri...   \n",
       "17  DecisionTreeClassifier(class_weight=None, crit...   \n",
       "18  LogisticRegression(C=0.01, class_weight=None, ...   \n",
       "19  (DecisionTreeClassifier(class_weight=None, cri...   \n",
       "20  ([DecisionTreeRegressor(criterion='friedman_ms...   \n",
       "21  KNeighborsClassifier(algorithm='kd_tree', leaf...   \n",
       "22                            GaussianNB(priors=None)   \n",
       "23  DecisionTreeClassifier(class_weight=None, crit...   \n",
       "24  (DecisionTreeClassifier(class_weight=None, cri...   \n",
       "25  DecisionTreeClassifier(class_weight=None, crit...   \n",
       "26  LogisticRegression(C=0.01, class_weight=None, ...   \n",
       "27  (DecisionTreeClassifier(class_weight=None, cri...   \n",
       "28  ([DecisionTreeRegressor(criterion='friedman_ms...   \n",
       "29  KNeighborsClassifier(algorithm='kd_tree', leaf...   \n",
       "..                                                ...   \n",
       "86                            GaussianNB(priors=None)   \n",
       "87  DecisionTreeClassifier(class_weight=None, crit...   \n",
       "88  (DecisionTreeClassifier(class_weight=None, cri...   \n",
       "89  DecisionTreeClassifier(class_weight=None, crit...   \n",
       "90  LogisticRegression(C=0.01, class_weight=None, ...   \n",
       "91  (DecisionTreeClassifier(class_weight=None, cri...   \n",
       "92  ([DecisionTreeRegressor(criterion='friedman_ms...   \n",
       "93  KNeighborsClassifier(algorithm='kd_tree', leaf...   \n",
       "94                            GaussianNB(priors=None)   \n",
       "95  DecisionTreeClassifier(class_weight=None, crit...   \n",
       "0                                       BASELINE_RAND   \n",
       "1                                      BASELINE_PRIOR   \n",
       "2                                       BASELINE_RAND   \n",
       "3                                      BASELINE_PRIOR   \n",
       "4                                       BASELINE_RAND   \n",
       "5                                      BASELINE_PRIOR   \n",
       "6                                       BASELINE_RAND   \n",
       "7                                      BASELINE_PRIOR   \n",
       "8                                       BASELINE_RAND   \n",
       "9                                      BASELINE_PRIOR   \n",
       "10                                      BASELINE_RAND   \n",
       "11                                     BASELINE_PRIOR   \n",
       "12                                      BASELINE_RAND   \n",
       "13                                     BASELINE_PRIOR   \n",
       "14                                      BASELINE_RAND   \n",
       "15                                     BASELINE_PRIOR   \n",
       "16                                      BASELINE_RAND   \n",
       "17                                     BASELINE_PRIOR   \n",
       "18                                      BASELINE_RAND   \n",
       "19                                     BASELINE_PRIOR   \n",
       "\n",
       "                                           parameters  \\\n",
       "0   {'max_depth': 5, 'max_features': 'sqrt', 'min_...   \n",
       "1   {'criterion': 'gini', 'max_depth': 20, 'min_sa...   \n",
       "2                        {'C': 0.01, 'penalty': 'l2'}   \n",
       "3   {'bootstrap_features': True, 'max_features': 5...   \n",
       "4   {'learning_rate': 0.5, 'max_depth': 5, 'n_esti...   \n",
       "5   {'algorithm': 'kd_tree', 'n_neighbors': 10, 'w...   \n",
       "6                                                  {}   \n",
       "7               {'criterion': 'gini', 'max_depth': 3}   \n",
       "8   {'max_depth': 5, 'max_features': 'sqrt', 'min_...   \n",
       "9   {'criterion': 'gini', 'max_depth': 20, 'min_sa...   \n",
       "10                       {'C': 0.01, 'penalty': 'l2'}   \n",
       "11  {'bootstrap_features': True, 'max_features': 5...   \n",
       "12  {'learning_rate': 0.5, 'max_depth': 5, 'n_esti...   \n",
       "13  {'algorithm': 'kd_tree', 'n_neighbors': 10, 'w...   \n",
       "14                                                 {}   \n",
       "15              {'criterion': 'gini', 'max_depth': 3}   \n",
       "16  {'max_depth': 5, 'max_features': 'sqrt', 'min_...   \n",
       "17  {'criterion': 'gini', 'max_depth': 20, 'min_sa...   \n",
       "18                       {'C': 0.01, 'penalty': 'l2'}   \n",
       "19  {'bootstrap_features': True, 'max_features': 5...   \n",
       "20  {'learning_rate': 0.5, 'max_depth': 5, 'n_esti...   \n",
       "21  {'algorithm': 'kd_tree', 'n_neighbors': 10, 'w...   \n",
       "22                                                 {}   \n",
       "23              {'criterion': 'gini', 'max_depth': 3}   \n",
       "24  {'max_depth': 5, 'max_features': 'sqrt', 'min_...   \n",
       "25  {'criterion': 'gini', 'max_depth': 20, 'min_sa...   \n",
       "26                       {'C': 0.01, 'penalty': 'l2'}   \n",
       "27  {'bootstrap_features': True, 'max_features': 5...   \n",
       "28  {'learning_rate': 0.5, 'max_depth': 5, 'n_esti...   \n",
       "29  {'algorithm': 'kd_tree', 'n_neighbors': 10, 'w...   \n",
       "..                                                ...   \n",
       "86                                                 {}   \n",
       "87              {'criterion': 'gini', 'max_depth': 3}   \n",
       "88  {'max_depth': 5, 'max_features': 'sqrt', 'min_...   \n",
       "89  {'criterion': 'gini', 'max_depth': 20, 'min_sa...   \n",
       "90                       {'C': 0.01, 'penalty': 'l2'}   \n",
       "91  {'bootstrap_features': True, 'max_features': 5...   \n",
       "92  {'learning_rate': 0.5, 'max_depth': 5, 'n_esti...   \n",
       "93  {'algorithm': 'kd_tree', 'n_neighbors': 10, 'w...   \n",
       "94                                                 {}   \n",
       "95              {'criterion': 'gini', 'max_depth': 3}   \n",
       "0                                                  {}   \n",
       "1                                                  {}   \n",
       "2                                                  {}   \n",
       "3                                                  {}   \n",
       "4                                                  {}   \n",
       "5                                                  {}   \n",
       "6                                                  {}   \n",
       "7                                                  {}   \n",
       "8                                                  {}   \n",
       "9                                                  {}   \n",
       "10                                                 {}   \n",
       "11                                                 {}   \n",
       "12                                                 {}   \n",
       "13                                                 {}   \n",
       "14                                                 {}   \n",
       "15                                                 {}   \n",
       "16                                                 {}   \n",
       "17                                                 {}   \n",
       "18                                                 {}   \n",
       "19                                                 {}   \n",
       "\n",
       "               feature_sets     outcome  \\\n",
       "0             [demographic]  top20_rate   \n",
       "1             [demographic]  top20_rate   \n",
       "2             [demographic]  top20_rate   \n",
       "3             [demographic]  top20_rate   \n",
       "4             [demographic]  top20_rate   \n",
       "5             [demographic]  top20_rate   \n",
       "6             [demographic]  top20_rate   \n",
       "7             [demographic]  top20_rate   \n",
       "8             [demographic]   top20_num   \n",
       "9             [demographic]   top20_num   \n",
       "10            [demographic]   top20_num   \n",
       "11            [demographic]   top20_num   \n",
       "12            [demographic]   top20_num   \n",
       "13            [demographic]   top20_num   \n",
       "14            [demographic]   top20_num   \n",
       "15            [demographic]   top20_num   \n",
       "16               [eviction]  top20_rate   \n",
       "17               [eviction]  top20_rate   \n",
       "18               [eviction]  top20_rate   \n",
       "19               [eviction]  top20_rate   \n",
       "20               [eviction]  top20_rate   \n",
       "21               [eviction]  top20_rate   \n",
       "22               [eviction]  top20_rate   \n",
       "23               [eviction]  top20_rate   \n",
       "24               [eviction]   top20_num   \n",
       "25               [eviction]   top20_num   \n",
       "26               [eviction]   top20_num   \n",
       "27               [eviction]   top20_num   \n",
       "28               [eviction]   top20_num   \n",
       "29               [eviction]   top20_num   \n",
       "..                      ...         ...   \n",
       "86  [demographic, eviction]  top20_rate   \n",
       "87  [demographic, eviction]  top20_rate   \n",
       "88  [demographic, eviction]   top20_num   \n",
       "89  [demographic, eviction]   top20_num   \n",
       "90  [demographic, eviction]   top20_num   \n",
       "91  [demographic, eviction]   top20_num   \n",
       "92  [demographic, eviction]   top20_num   \n",
       "93  [demographic, eviction]   top20_num   \n",
       "94  [demographic, eviction]   top20_num   \n",
       "95  [demographic, eviction]   top20_num   \n",
       "0                prior_year  top20_rate   \n",
       "1                prior_year  top20_rate   \n",
       "2                prior_year   top20_num   \n",
       "3                prior_year   top20_num   \n",
       "4                prior_year  top20_rate   \n",
       "5                prior_year  top20_rate   \n",
       "6                prior_year   top20_num   \n",
       "7                prior_year   top20_num   \n",
       "8                prior_year  top20_rate   \n",
       "9                prior_year  top20_rate   \n",
       "10               prior_year   top20_num   \n",
       "11               prior_year   top20_num   \n",
       "12               prior_year  top20_rate   \n",
       "13               prior_year  top20_rate   \n",
       "14               prior_year   top20_num   \n",
       "15               prior_year   top20_num   \n",
       "16               prior_year  top20_rate   \n",
       "17               prior_year  top20_rate   \n",
       "18               prior_year   top20_num   \n",
       "19               prior_year   top20_num   \n",
       "\n",
       "                                         model_result   auc-roc  p_at_1  \\\n",
       "0   RF: feature_importances:                     f...  0.627810    0.75   \n",
       "1                         DT: tree_viz: tree_viz1.png  0.581200    0.25   \n",
       "2   LR: coefficients:         coef                ...  0.669131    0.50   \n",
       "3   BAG: base_estimator: DecisionTreeClassifier(cl...  0.564010    0.00   \n",
       "4   GB: feature_importances:                     f...  0.541967    0.75   \n",
       "5                                                None  0.592950    0.75   \n",
       "6                                                None  0.653354    0.75   \n",
       "7                                                None  0.632633    0.75   \n",
       "8   RF: feature_importances:                     f...  0.941667    1.00   \n",
       "9                         DT: tree_viz: tree_viz9.png  0.986333    1.00   \n",
       "10  LR: coefficients:         coef                ...  0.870633    0.50   \n",
       "11  BAG: base_estimator: DecisionTreeClassifier(cl...  0.730717    0.75   \n",
       "12  GB: feature_importances:                     f...  0.903167    1.00   \n",
       "13                                               None  1.000000    1.00   \n",
       "14                                               None  0.846400    1.00   \n",
       "15                                               None  0.843033    1.00   \n",
       "16  RF: feature_importances:                      ...  0.865969    1.00   \n",
       "17                       DT: tree_viz: tree_viz17.png  0.982239    1.00   \n",
       "18  LR: coefficients:             coef            ...  0.608457    0.50   \n",
       "19  BAG: base_estimator: DecisionTreeClassifier(cl...  0.572755    0.25   \n",
       "20  GB: feature_importances:                      ...  0.875887    1.00   \n",
       "21                                               None  1.000000    1.00   \n",
       "22                                               None  0.612183    0.50   \n",
       "23                                               None  0.682248    1.00   \n",
       "24  RF: feature_importances:                      ...  0.851067    1.00   \n",
       "25                       DT: tree_viz: tree_viz25.png  0.994083    1.00   \n",
       "26  LR: coefficients:             coef            ...  0.595600    0.25   \n",
       "27  BAG: base_estimator: DecisionTreeClassifier(cl...  0.524350    0.25   \n",
       "28  GB: feature_importances:                      ...  0.890367    1.00   \n",
       "29                                               None  1.000000    1.00   \n",
       "..                                                ...       ...     ...   \n",
       "86                                               None  0.616034    1.00   \n",
       "87                                               None  0.667103    1.00   \n",
       "88  RF: feature_importances:                      ...  0.890299    1.00   \n",
       "89                       DT: tree_viz: tree_viz89.png  0.993056    1.00   \n",
       "90  LR: coefficients:             coef            ...  0.819209    0.75   \n",
       "91  BAG: base_estimator: DecisionTreeClassifier(cl...  0.627062    0.75   \n",
       "92  GB: feature_importances:                      ...  0.904122    0.75   \n",
       "93                                               None  1.000000    1.00   \n",
       "94                                               None  0.757336    0.00   \n",
       "95                                               None  0.814393    0.75   \n",
       "0                                                None  0.490684    0.25   \n",
       "1                                                None  0.813559    0.00   \n",
       "2                                                None  0.533333    0.25   \n",
       "3                                                None  0.723333    0.00   \n",
       "4                                                None  0.555694    0.25   \n",
       "5                                                None  0.796407    0.00   \n",
       "6                                                None  0.509337    0.25   \n",
       "7                                                None  0.722032    0.00   \n",
       "8                                                None  0.488042    0.25   \n",
       "9                                                None  0.742063    0.00   \n",
       "10                                               None  0.495285    0.25   \n",
       "11                                               None  0.661184    0.00   \n",
       "12                                               None  0.465159    0.25   \n",
       "13                                               None  0.812057    0.00   \n",
       "14                                               None  0.489035    0.25   \n",
       "15                                               None  0.686247    0.00   \n",
       "16                                               None  0.540224    0.25   \n",
       "17                                               None  0.762500    0.00   \n",
       "18                                               None  0.476924    0.25   \n",
       "19                                               None  0.707249    0.00   \n",
       "\n",
       "      ...      r_at_20   r_at_30   r_at_50   f1_at_1   f1_at_2   f1_at_5  \\\n",
       "0     ...     0.313559  0.457627  0.669492  0.049180  0.063492  0.144928   \n",
       "1     ...     0.271186  0.381356  0.855932  0.016393  0.015873  0.014493   \n",
       "2     ...     0.372881  0.474576  0.644068  0.032787  0.063492  0.159420   \n",
       "3     ...     0.110169  0.355932  0.796610  0.000000  0.000000  0.072464   \n",
       "4     ...     0.279661  0.372881  0.525424  0.049180  0.047619  0.115942   \n",
       "5     ...     0.245763  0.347458  0.618644  0.049180  0.079365  0.115942   \n",
       "6     ...     0.372881  0.474576  0.635593  0.049180  0.079365  0.159420   \n",
       "7     ...     0.288136  0.330508  0.855932  0.049180  0.095238  0.159420   \n",
       "8     ...     0.670000  0.850000  0.970000  0.076923  0.148148  0.333333   \n",
       "9     ...     0.720000  0.960000  1.000000  0.076923  0.148148  0.333333   \n",
       "10    ...     0.530000  0.750000  0.920000  0.038462  0.111111  0.283333   \n",
       "11    ...     0.350000  0.460000  0.910000  0.057692  0.055556  0.166667   \n",
       "12    ...     0.660000  0.830000  0.910000  0.076923  0.129630  0.316667   \n",
       "13    ...     0.800000  1.000000  1.000000  0.076923  0.148148  0.333333   \n",
       "14    ...     0.540000  0.710000  0.900000  0.076923  0.129630  0.233333   \n",
       "15    ...     0.440000  0.740000  1.000000  0.076923  0.148148  0.300000   \n",
       "16    ...     0.525424  0.652542  0.889831  0.065574  0.126984  0.289855   \n",
       "17    ...     0.661017  0.872881  1.000000  0.065574  0.126984  0.289855   \n",
       "18    ...     0.330508  0.423729  0.601695  0.032787  0.079365  0.173913   \n",
       "19    ...     0.254237  0.254237  0.652542  0.016393  0.031746  0.057971   \n",
       "20    ...     0.542373  0.745763  0.864407  0.065574  0.126984  0.275362   \n",
       "21    ...     0.677966  1.000000  1.000000  0.065574  0.126984  0.289855   \n",
       "22    ...     0.313559  0.432203  0.627119  0.032787  0.047619  0.115942   \n",
       "23    ...     0.381356  0.508475  0.957627  0.065574  0.111111  0.188406   \n",
       "24    ...     0.550000  0.710000  0.860000  0.076923  0.148148  0.300000   \n",
       "25    ...     0.790000  0.980000  1.000000  0.076923  0.148148  0.333333   \n",
       "26    ...     0.250000  0.360000  0.620000  0.019231  0.074074  0.133333   \n",
       "27    ...     0.070000  0.160000  0.680000  0.019231  0.018519  0.016667   \n",
       "28    ...     0.590000  0.770000  0.910000  0.076923  0.148148  0.333333   \n",
       "29    ...     0.800000  1.000000  1.000000  0.076923  0.148148  0.333333   \n",
       "..    ...          ...       ...       ...       ...       ...       ...   \n",
       "86    ...     0.304965  0.446809  0.602837  0.055172  0.066667  0.085890   \n",
       "87    ...     0.276596  0.432624  0.851064  0.055172  0.053333  0.098160   \n",
       "88    ...     0.552632  0.719298  0.938596  0.067797  0.146341  0.294118   \n",
       "89    ...     0.763158  0.982456  1.000000  0.067797  0.146341  0.323529   \n",
       "90    ...     0.464912  0.657895  0.885965  0.050847  0.081301  0.191176   \n",
       "91    ...     0.114035  0.350877  0.912281  0.050847  0.048780  0.088235   \n",
       "92    ...     0.605263  0.815789  0.947368  0.050847  0.113821  0.279412   \n",
       "93    ...     0.789474  1.000000  1.000000  0.067797  0.146341  0.323529   \n",
       "94    ...     0.429825  0.657895  0.789474  0.000000  0.048780  0.147059   \n",
       "95    ...     0.280702  0.631579  0.921053  0.050847  0.113821  0.117647   \n",
       "0     ...     0.203390  0.449153  1.000000  0.016393  0.015873  0.014493   \n",
       "1     ...     0.000000  0.000000  0.000000  0.000000  0.000000  0.000000   \n",
       "2     ...     0.260000  0.450000  1.000000  0.019231  0.018519  0.016667   \n",
       "3     ...     0.000000  0.000000  0.000000  0.000000  0.000000  0.000000   \n",
       "4     ...     0.119760  0.347305  0.916168  0.011696  0.011364  0.010526   \n",
       "5     ...     0.000000  0.000000  0.000000  0.000000  0.000000  0.000000   \n",
       "6     ...     0.176923  0.323077  1.000000  0.014925  0.014388  0.013072   \n",
       "7     ...     0.000000  0.000000  0.000000  0.000000  0.000000  0.000000   \n",
       "8     ...     0.119048  0.301587  0.904762  0.015385  0.014925  0.013605   \n",
       "9     ...     0.000000  0.000000  0.000000  0.000000  0.000000  0.000000   \n",
       "10    ...     0.175000  0.316667  1.000000  0.016129  0.015625  0.014184   \n",
       "11    ...     0.000000  0.000000  0.000000  0.000000  0.000000  0.000000   \n",
       "12    ...     0.113475  0.269504  0.829787  0.013793  0.013333  0.012270   \n",
       "13    ...     0.000000  0.000000  0.000000  0.000000  0.000000  0.000000   \n",
       "14    ...     0.228070  0.447368  1.000000  0.016949  0.016260  0.014706   \n",
       "15    ...     0.000000  0.000000  0.000000  0.000000  0.000000  0.000000   \n",
       "16    ...     0.133333  0.333333  1.000000  0.016129  0.015625  0.014286   \n",
       "17    ...     0.000000  0.000000  0.000000  0.000000  0.000000  0.000000   \n",
       "18    ...     0.220183  0.357798  1.000000  0.017699  0.017094  0.015504   \n",
       "19    ...     0.000000  0.000000  0.000000  0.000000  0.000000  0.000000   \n",
       "\n",
       "    f1_at_10  f1_at_20  f1_at_30  f1_at_50  \n",
       "0   0.278481  0.373737  0.453782  0.496855  \n",
       "1   0.075949  0.323232  0.378151  0.635220  \n",
       "2   0.291139  0.444444  0.470588  0.477987  \n",
       "3   0.063291  0.131313  0.352941  0.591195  \n",
       "4   0.215190  0.333333  0.369748  0.389937  \n",
       "5   0.240506  0.292929  0.344538  0.459119  \n",
       "6   0.278481  0.444444  0.470588  0.471698  \n",
       "7   0.278481  0.343434  0.327731  0.635220  \n",
       "8   0.557143  0.744444  0.772727  0.646667  \n",
       "9   0.571429  0.800000  0.872727  0.666667  \n",
       "10  0.471429  0.588889  0.681818  0.613333  \n",
       "11  0.142857  0.388889  0.418182  0.606667  \n",
       "12  0.528571  0.733333  0.754545  0.606667  \n",
       "13  0.571429  0.888889  0.909091  0.666667  \n",
       "14  0.385714  0.600000  0.645455  0.600000  \n",
       "15  0.428571  0.488889  0.672727  0.666667  \n",
       "16  0.405063  0.626263  0.647059  0.660377  \n",
       "17  0.506329  0.787879  0.865546  0.742138  \n",
       "18  0.265823  0.393939  0.420168  0.446541  \n",
       "19  0.050633  0.303030  0.252101  0.484277  \n",
       "20  0.455696  0.646465  0.739496  0.641509  \n",
       "21  0.506329  0.808081  0.991597  0.742138  \n",
       "22  0.215190  0.373737  0.428571  0.465409  \n",
       "23  0.253165  0.454545  0.504202  0.710692  \n",
       "24  0.457143  0.611111  0.645455  0.573333  \n",
       "25  0.571429  0.877778  0.890909  0.666667  \n",
       "26  0.228571  0.277778  0.327273  0.413333  \n",
       "27  0.100000  0.077778  0.145455  0.453333  \n",
       "28  0.500000  0.655556  0.700000  0.606667  \n",
       "29  0.571429  0.888889  0.909091  0.666667  \n",
       "..       ...       ...       ...       ...  \n",
       "86  0.215054  0.372294  0.456522  0.464481  \n",
       "87  0.236559  0.337662  0.442029  0.655738  \n",
       "88  0.515723  0.617647  0.658635  0.631268  \n",
       "89  0.566038  0.852941  0.899598  0.672566  \n",
       "90  0.301887  0.519608  0.602410  0.595870  \n",
       "91  0.163522  0.127451  0.321285  0.613569  \n",
       "92  0.490566  0.676471  0.746988  0.637168  \n",
       "93  0.566038  0.882353  0.915663  0.672566  \n",
       "94  0.289308  0.480392  0.602410  0.530973  \n",
       "95  0.352201  0.313725  0.578313  0.619469  \n",
       "0   0.012658  0.242424  0.445378  0.742138  \n",
       "1   0.000000  0.000000  0.000000  0.000000  \n",
       "2   0.014286  0.288889  0.409091  0.666667  \n",
       "3   0.000000  0.000000  0.000000  0.000000  \n",
       "4   0.009346  0.152672  0.375405  0.755556  \n",
       "5   0.000000  0.000000  0.000000  0.000000  \n",
       "6   0.011299  0.204444  0.308824  0.706522  \n",
       "7   0.000000  0.000000  0.000000  0.000000  \n",
       "8   0.011905  0.142857  0.300395  0.674556  \n",
       "9   0.000000  0.000000  0.000000  0.000000  \n",
       "10  0.012346  0.205882  0.307692  0.722892  \n",
       "11  0.000000  0.000000  0.000000  0.000000  \n",
       "12  0.010753  0.138528  0.275362  0.639344  \n",
       "13  0.000000  0.000000  0.000000  0.000000  \n",
       "14  0.012579  0.254902  0.409639  0.672566  \n",
       "15  0.000000  0.000000  0.000000  0.000000  \n",
       "16  0.012500  0.160000  0.333333  0.747664  \n",
       "17  0.000000  0.000000  0.000000  0.000000  \n",
       "18  0.013423  0.253968  0.340611  0.703226  \n",
       "19  0.000000  0.000000  0.000000  0.000000  \n",
       "\n",
       "[116 rows x 30 columns]"
      ]
     },
     "execution_count": 84,
     "metadata": {},
     "output_type": "execute_result"
    }
   ],
   "source": [
    "results"
   ]
  },
  {
   "cell_type": "code",
   "execution_count": 78,
   "metadata": {},
   "outputs": [
    {
     "data": {
      "text/plain": [
       "'tree_viz1.png'"
      ]
     },
     "execution_count": 78,
     "metadata": {},
     "output_type": "execute_result"
    }
   ],
   "source": [
    "results.iloc[1]['model_result'].tree_viz"
   ]
  },
  {
   "cell_type": "markdown",
   "metadata": {},
   "source": [
    "!['hello'](test.svg)"
   ]
  },
  {
   "cell_type": "code",
   "execution_count": 79,
   "metadata": {},
   "outputs": [
    {
     "data": {
      "text/plain": [
       "(array([0, 1, 2, 3, 4, 5, 6, 7, 8, 9]), <a list of 10 Text xticklabel objects>)"
      ]
     },
     "execution_count": 79,
     "metadata": {},
     "output_type": "execute_result"
    },
    {
     "data": {
      "image/png": "[encoded data removed]",
      "text/plain": [
       "<Figure size 432x288 with 1 Axes>"
      ]
     },
     "metadata": {},
     "output_type": "display_data"
    }
   ],
   "source": [
    "sns.boxplot(x='model_key', y='auc-roc', data=results)\n",
    "plt.xticks(rotation=70)"
   ]
  },
  {
   "cell_type": "code",
   "execution_count": 80,
   "metadata": {},
   "outputs": [
    {
     "data": {
      "text/plain": [
       "(array([ 0,  1,  2,  3,  4,  5,  6,  7,  8,  9, 10, 11]),\n",
       " <a list of 12 Text xticklabel objects>)"
      ]
     },
     "execution_count": 80,
     "metadata": {},
     "output_type": "execute_result"
    },
    {
     "data": {
      "image/png": "[encoded data removed]",
      "text/plain": [
       "<Figure size 432x288 with 1 Axes>"
      ]
     },
     "metadata": {},
     "output_type": "display_data"
    }
   ],
   "source": [
    "sns.boxplot(x='training_dates', y='auc-roc', data=results)\n",
    "plt.xticks(rotation=90)"
   ]
  },
  {
   "cell_type": "code",
   "execution_count": 81,
   "metadata": {},
   "outputs": [
    {
     "data": {
      "text/plain": [
       "array([(datetime.datetime(2005, 1, 1, 0, 0), datetime.datetime(2005, 12, 31, 0, 0)),\n",
       "       (datetime.datetime(2005, 1, 1, 0, 0), datetime.datetime(2006, 12, 31, 0, 0)),\n",
       "       (datetime.datetime(2005, 1, 1, 0, 0), datetime.datetime(2007, 12, 31, 0, 0)),\n",
       "       (datetime.datetime(2005, 1, 1, 0, 0), datetime.datetime(2008, 12, 31, 0, 0)),\n",
       "       (datetime.datetime(2005, 1, 1, 0, 0), datetime.datetime(2009, 12, 31, 0, 0)),\n",
       "       (datetime.datetime(2005, 1, 1, 0, 0), datetime.datetime(2010, 12, 31, 0, 0)),\n",
       "       (datetime.datetime(2005, 1, 1, 0, 0), datetime.datetime(2011, 12, 31, 0, 0)),\n",
       "       (datetime.datetime(2005, 1, 1, 0, 0), datetime.datetime(2012, 12, 31, 0, 0)),\n",
       "       (datetime.datetime(2005, 1, 1, 0, 0), datetime.datetime(2013, 12, 31, 0, 0)),\n",
       "       (datetime.datetime(2005, 1, 1, 0, 0), datetime.datetime(2014, 12, 31, 0, 0)),\n",
       "       (datetime.datetime(2005, 1, 1, 0, 0), datetime.datetime(2015, 12, 31, 0, 0)),\n",
       "       (datetime.datetime(2005, 1, 1, 0, 0), datetime.datetime(2016, 12, 31, 0, 0))],\n",
       "      dtype=object)"
      ]
     },
     "execution_count": 81,
     "metadata": {},
     "output_type": "execute_result"
    }
   ],
   "source": [
    "results['training_dates'].unique()"
   ]
  },
  {
   "cell_type": "code",
   "execution_count": 82,
   "metadata": {},
   "outputs": [
    {
     "data": {
      "text/plain": [
       "<seaborn.axisgrid.FacetGrid at 0x12292cb38>"
      ]
     },
     "execution_count": 82,
     "metadata": {},
     "output_type": "execute_result"
    },
    {
     "data": {
      "image/png": "[encoded data removed]",
      "text/plain": [
       "<Figure size 432x1440 with 10 Axes>"
      ]
     },
     "metadata": {},
     "output_type": "display_data"
    }
   ],
   "source": [
    "sns.factorplot(x='training_dates', y='auc-roc', data=results, col='model_key', col_wrap=1, kind='box', size=2, aspect=3)"
   ]
  },
  {
   "cell_type": "code",
   "execution_count": null,
   "metadata": {
    "collapsed": true
   },
   "outputs": [],
   "source": []
  }
 ],
 "metadata": {
  "kernelspec": {
   "display_name": "Python 3",
   "language": "python",
   "name": "python3"
  },
  "language_info": {
   "codemirror_mode": {
    "name": "ipython",
    "version": 3
   },
   "file_extension": ".py",
   "mimetype": "text/x-python",
   "name": "python",
   "nbconvert_exporter": "python",
   "pygments_lexer": "ipython3",
   "version": "3.6.3"
  }
 },
 "nbformat": 4,
 "nbformat_minor": 2
}
