{
 "cells": [
  {
   "cell_type": "code",
   "execution_count": 6,
   "metadata": {
    "collapsed": true
   },
   "outputs": [],
   "source": [
    "import  pandas  as  pd\n",
    "import os\n",
    "import requests\n",
    "import matplotlib.pyplot as plt\n",
    "import geopandas as gpd\n",
    "import pyproj\n",
    "import datetime\n",
    "from geopandas import GeoDataFrame as gdf\n",
    "from shapely.geometry import Point\n",
    "from shapely.geometry import Polygon\n",
    "import json\n",
    "import sys\n",
    "sys.path.append('/Users/alenastern/Documents/Spring2018/Machine_Learning/evictions-learn/src/data/census')\n",
    "import scraper as sp\n",
    "%matplotlib inline"
   ]
  },
  {
   "cell_type": "markdown",
   "metadata": {},
   "source": [
    "# Querying Census API"
   ]
  },
  {
   "cell_type": "code",
   "execution_count": 2,
   "metadata": {
    "collapsed": true
   },
   "outputs": [],
   "source": [
    "state_list = ['18', '17', '26', '39', '55', '10', '11', '12', '13', '24', '37', '45', '51', '54']\n",
    "df = pd.read_table('national_county.txt', sep = ',', converters={'01': lambda x: str(x), '001': lambda x: str(x)})\n",
    "df = df[df['01'].isin(state_list)]"
   ]
  },
  {
   "cell_type": "code",
   "execution_count": 3,
   "metadata": {
    "collapsed": true
   },
   "outputs": [],
   "source": [
    "df['county'] = df['01'] + df['001']"
   ]
  },
  {
   "cell_type": "code",
   "execution_count": 4,
   "metadata": {},
   "outputs": [
    {
     "data": {
      "text/plain": [
       "1026"
      ]
     },
     "execution_count": 4,
     "metadata": {},
     "output_type": "execute_result"
    }
   ],
   "source": [
    "len(df)"
   ]
  },
  {
   "cell_type": "code",
   "execution_count": 5,
   "metadata": {},
   "outputs": [
    {
     "name": "stdout",
     "output_type": "stream",
     "text": [
      "10 003\n",
      "10 005\n",
      "11 001\n",
      "12 001\n",
      "12 003\n",
      "12 005\n",
      "12 007\n",
      "12 009\n",
      "12 011\n",
      "12 013\n",
      "12 015\n",
      "12 017\n",
      "12 019\n",
      "12 021\n",
      "12 023\n",
      "12 027\n",
      "12 029\n",
      "12 031\n",
      "12 033\n",
      "12 035\n",
      "12 037\n",
      "12 039\n",
      "12 041\n",
      "12 043\n",
      "12 045\n",
      "12 047\n",
      "12 049\n",
      "12 051\n",
      "12 053\n",
      "12 055\n",
      "12 057\n",
      "12 059\n",
      "12 061\n",
      "12 063\n",
      "12 065\n",
      "12 067\n",
      "12 069\n",
      "12 071\n",
      "12 073\n",
      "12 075\n",
      "12 077\n",
      "12 079\n",
      "12 081\n",
      "12 083\n",
      "12 085\n",
      "12 086\n",
      "12 087\n",
      "12 089\n",
      "12 091\n",
      "12 093\n",
      "12 095\n",
      "12 097\n",
      "12 099\n",
      "12 101\n",
      "12 103\n",
      "12 105\n",
      "12 107\n",
      "12 109\n",
      "12 111\n",
      "12 113\n",
      "12 115\n",
      "12 117\n",
      "12 119\n",
      "12 121\n",
      "12 123\n",
      "12 125\n",
      "12 127\n",
      "12 129\n",
      "12 131\n",
      "12 133\n",
      "13 001\n",
      "13 003\n",
      "13 005\n",
      "13 007\n",
      "13 009\n",
      "13 011\n",
      "13 013\n",
      "13 015\n",
      "13 017\n",
      "13 019\n",
      "13 021\n",
      "13 023\n",
      "13 025\n",
      "13 027\n",
      "13 029\n",
      "13 031\n",
      "13 033\n",
      "13 035\n",
      "13 037\n",
      "13 039\n",
      "13 043\n",
      "13 045\n",
      "13 047\n",
      "13 049\n",
      "13 051\n",
      "13 053\n",
      "13 055\n",
      "13 057\n",
      "13 059\n",
      "13 061\n",
      "13 063\n",
      "13 065\n",
      "13 067\n",
      "13 069\n",
      "13 071\n",
      "13 073\n",
      "13 075\n",
      "13 077\n",
      "13 079\n",
      "13 081\n",
      "13 083\n",
      "13 085\n",
      "13 087\n",
      "13 089\n",
      "13 091\n",
      "13 093\n",
      "13 095\n",
      "13 097\n",
      "13 099\n",
      "13 101\n",
      "13 103\n",
      "13 105\n",
      "13 107\n",
      "13 109\n",
      "13 111\n",
      "13 113\n",
      "13 115\n",
      "13 117\n",
      "13 119\n",
      "13 121\n",
      "13 123\n",
      "13 125\n",
      "13 127\n",
      "13 129\n",
      "13 131\n",
      "13 133\n",
      "13 135\n",
      "13 137\n",
      "13 139\n",
      "13 141\n",
      "13 143\n",
      "13 145\n",
      "13 147\n",
      "13 149\n",
      "13 151\n",
      "13 153\n",
      "13 155\n",
      "13 157\n",
      "13 159\n",
      "13 161\n",
      "13 163\n",
      "13 165\n",
      "13 167\n",
      "13 169\n",
      "13 171\n",
      "13 173\n",
      "13 175\n",
      "13 177\n",
      "13 179\n",
      "13 181\n",
      "13 183\n",
      "13 185\n",
      "13 187\n",
      "13 189\n",
      "13 191\n",
      "13 193\n",
      "13 195\n",
      "13 197\n",
      "13 199\n",
      "13 201\n",
      "13 205\n",
      "13 207\n",
      "13 209\n",
      "13 211\n",
      "13 213\n",
      "13 215\n",
      "13 217\n",
      "13 219\n",
      "13 221\n",
      "13 223\n",
      "13 225\n",
      "13 227\n",
      "13 229\n",
      "13 231\n",
      "13 233\n",
      "13 235\n",
      "13 237\n",
      "13 239\n",
      "13 241\n",
      "13 243\n",
      "13 245\n",
      "13 247\n",
      "13 249\n",
      "13 251\n",
      "13 253\n",
      "13 255\n",
      "13 257\n",
      "13 259\n",
      "13 261\n",
      "13 263\n",
      "13 265\n",
      "13 267\n",
      "13 269\n",
      "13 271\n",
      "13 273\n",
      "13 275\n",
      "13 277\n",
      "13 279\n",
      "13 281\n",
      "13 283\n",
      "13 285\n",
      "13 287\n",
      "13 289\n",
      "13 291\n",
      "13 293\n",
      "13 295\n",
      "13 297\n",
      "13 299\n",
      "13 301\n",
      "13 303\n",
      "13 305\n",
      "13 307\n",
      "13 309\n",
      "13 311\n",
      "13 313\n",
      "13 315\n",
      "13 317\n",
      "13 319\n",
      "13 321\n",
      "17 001\n",
      "17 003\n",
      "17 005\n",
      "17 007\n",
      "17 009\n",
      "17 011\n",
      "17 013\n",
      "17 015\n",
      "17 017\n",
      "17 019\n",
      "17 021\n",
      "17 023\n",
      "17 025\n",
      "17 027\n",
      "17 029\n",
      "17 031\n",
      "17 033\n",
      "17 035\n",
      "17 037\n",
      "17 039\n",
      "17 041\n",
      "17 043\n",
      "17 045\n",
      "17 047\n",
      "17 049\n",
      "17 051\n",
      "17 053\n",
      "17 055\n",
      "17 057\n",
      "17 059\n",
      "17 061\n",
      "17 063\n",
      "17 065\n",
      "17 067\n",
      "17 069\n",
      "17 071\n",
      "17 073\n",
      "17 075\n",
      "17 077\n",
      "17 079\n",
      "17 081\n",
      "17 083\n",
      "17 085\n",
      "17 087\n",
      "17 089\n",
      "17 091\n",
      "17 093\n",
      "17 095\n",
      "17 097\n",
      "17 099\n",
      "17 101\n",
      "17 103\n",
      "17 105\n",
      "17 107\n",
      "17 109\n",
      "17 111\n",
      "17 113\n",
      "17 115\n",
      "17 117\n",
      "17 119\n",
      "17 121\n",
      "17 123\n",
      "17 125\n",
      "17 127\n",
      "17 129\n",
      "17 131\n",
      "17 133\n",
      "17 135\n",
      "17 137\n",
      "17 139\n",
      "17 141\n",
      "17 143\n",
      "17 145\n",
      "17 147\n",
      "17 149\n",
      "17 151\n",
      "17 153\n",
      "17 155\n",
      "17 157\n",
      "17 159\n",
      "17 161\n"
     ]
    },
    {
     "ename": "KeyboardInterrupt",
     "evalue": "",
     "output_type": "error",
     "traceback": [
      "\u001b[0;31m---------------------------------------------------------------------------\u001b[0m",
      "\u001b[0;31mKeyboardInterrupt\u001b[0m                         Traceback (most recent call last)",
      "\u001b[0;32m<ipython-input-5-e8d42e8bb783>\u001b[0m in \u001b[0;36m<module>\u001b[0;34m()\u001b[0m\n\u001b[1;32m      7\u001b[0m \u001b[0;31m# Query ACS Data from Census API\u001b[0m\u001b[0;34m\u001b[0m\u001b[0;34m\u001b[0m\u001b[0m\n\u001b[1;32m      8\u001b[0m \u001b[0;32mfor\u001b[0m \u001b[0mi\u001b[0m \u001b[0;32min\u001b[0m \u001b[0mrange\u001b[0m\u001b[0;34m(\u001b[0m\u001b[0;36m1\u001b[0m\u001b[0;34m,\u001b[0m \u001b[0mlen\u001b[0m\u001b[0;34m(\u001b[0m\u001b[0mdf\u001b[0m\u001b[0;34m)\u001b[0m\u001b[0;34m)\u001b[0m\u001b[0;34m:\u001b[0m\u001b[0;34m\u001b[0m\u001b[0m\n\u001b[0;32m----> 9\u001b[0;31m     \u001b[0macs_results_2016\u001b[0m \u001b[0;34m=\u001b[0m \u001b[0mrequests\u001b[0m\u001b[0;34m.\u001b[0m\u001b[0mget\u001b[0m\u001b[0;34m(\u001b[0m\u001b[0;34m'https://api.census.gov/data/2016/acs/acs5?get=NAME,B15002_001E,B15003_022E,B15003_023E,B15003_024E,B15003_025E,B25010_001E&for=block%20group:*&in=state:{}%20county:{}&key=91aa6a44edb890abeea862f2d9befb5d520a5cc4'\u001b[0m\u001b[0;34m.\u001b[0m\u001b[0mformat\u001b[0m\u001b[0;34m(\u001b[0m\u001b[0mdf\u001b[0m\u001b[0;34m.\u001b[0m\u001b[0miloc\u001b[0m\u001b[0;34m[\u001b[0m\u001b[0mi\u001b[0m\u001b[0;34m,\u001b[0m\u001b[0;36m1\u001b[0m\u001b[0;34m]\u001b[0m\u001b[0;34m,\u001b[0m \u001b[0mdf\u001b[0m\u001b[0;34m.\u001b[0m\u001b[0miloc\u001b[0m\u001b[0;34m[\u001b[0m\u001b[0mi\u001b[0m\u001b[0;34m,\u001b[0m\u001b[0;36m2\u001b[0m\u001b[0;34m]\u001b[0m\u001b[0;34m)\u001b[0m\u001b[0;34m)\u001b[0m\u001b[0;34m\u001b[0m\u001b[0m\n\u001b[0m\u001b[1;32m     10\u001b[0m     \u001b[0mprint\u001b[0m\u001b[0;34m(\u001b[0m\u001b[0mdf\u001b[0m\u001b[0;34m.\u001b[0m\u001b[0miloc\u001b[0m\u001b[0;34m[\u001b[0m\u001b[0mi\u001b[0m\u001b[0;34m,\u001b[0m\u001b[0;36m1\u001b[0m\u001b[0;34m]\u001b[0m\u001b[0;34m,\u001b[0m \u001b[0mdf\u001b[0m\u001b[0;34m.\u001b[0m\u001b[0miloc\u001b[0m\u001b[0;34m[\u001b[0m\u001b[0mi\u001b[0m\u001b[0;34m,\u001b[0m\u001b[0;36m2\u001b[0m\u001b[0;34m]\u001b[0m\u001b[0;34m)\u001b[0m\u001b[0;34m\u001b[0m\u001b[0m\n\u001b[1;32m     11\u001b[0m     \u001b[0;32mif\u001b[0m \u001b[0macs_results_2016\u001b[0m\u001b[0;34m.\u001b[0m\u001b[0mstatus_code\u001b[0m \u001b[0;34m!=\u001b[0m \u001b[0;36m204\u001b[0m\u001b[0;34m:\u001b[0m\u001b[0;34m\u001b[0m\u001b[0m\n",
      "\u001b[0;32m~/anaconda3/lib/python3.6/site-packages/requests/api.py\u001b[0m in \u001b[0;36mget\u001b[0;34m(url, params, **kwargs)\u001b[0m\n\u001b[1;32m     70\u001b[0m \u001b[0;34m\u001b[0m\u001b[0m\n\u001b[1;32m     71\u001b[0m     \u001b[0mkwargs\u001b[0m\u001b[0;34m.\u001b[0m\u001b[0msetdefault\u001b[0m\u001b[0;34m(\u001b[0m\u001b[0;34m'allow_redirects'\u001b[0m\u001b[0;34m,\u001b[0m \u001b[0;32mTrue\u001b[0m\u001b[0;34m)\u001b[0m\u001b[0;34m\u001b[0m\u001b[0m\n\u001b[0;32m---> 72\u001b[0;31m     \u001b[0;32mreturn\u001b[0m \u001b[0mrequest\u001b[0m\u001b[0;34m(\u001b[0m\u001b[0;34m'get'\u001b[0m\u001b[0;34m,\u001b[0m \u001b[0murl\u001b[0m\u001b[0;34m,\u001b[0m \u001b[0mparams\u001b[0m\u001b[0;34m=\u001b[0m\u001b[0mparams\u001b[0m\u001b[0;34m,\u001b[0m \u001b[0;34m**\u001b[0m\u001b[0mkwargs\u001b[0m\u001b[0;34m)\u001b[0m\u001b[0;34m\u001b[0m\u001b[0m\n\u001b[0m\u001b[1;32m     73\u001b[0m \u001b[0;34m\u001b[0m\u001b[0m\n\u001b[1;32m     74\u001b[0m \u001b[0;34m\u001b[0m\u001b[0m\n",
      "\u001b[0;32m~/anaconda3/lib/python3.6/site-packages/requests/api.py\u001b[0m in \u001b[0;36mrequest\u001b[0;34m(method, url, **kwargs)\u001b[0m\n\u001b[1;32m     56\u001b[0m     \u001b[0;31m# cases, and look like a memory leak in others.\u001b[0m\u001b[0;34m\u001b[0m\u001b[0;34m\u001b[0m\u001b[0m\n\u001b[1;32m     57\u001b[0m     \u001b[0;32mwith\u001b[0m \u001b[0msessions\u001b[0m\u001b[0;34m.\u001b[0m\u001b[0mSession\u001b[0m\u001b[0;34m(\u001b[0m\u001b[0;34m)\u001b[0m \u001b[0;32mas\u001b[0m \u001b[0msession\u001b[0m\u001b[0;34m:\u001b[0m\u001b[0;34m\u001b[0m\u001b[0m\n\u001b[0;32m---> 58\u001b[0;31m         \u001b[0;32mreturn\u001b[0m \u001b[0msession\u001b[0m\u001b[0;34m.\u001b[0m\u001b[0mrequest\u001b[0m\u001b[0;34m(\u001b[0m\u001b[0mmethod\u001b[0m\u001b[0;34m=\u001b[0m\u001b[0mmethod\u001b[0m\u001b[0;34m,\u001b[0m \u001b[0murl\u001b[0m\u001b[0;34m=\u001b[0m\u001b[0murl\u001b[0m\u001b[0;34m,\u001b[0m \u001b[0;34m**\u001b[0m\u001b[0mkwargs\u001b[0m\u001b[0;34m)\u001b[0m\u001b[0;34m\u001b[0m\u001b[0m\n\u001b[0m\u001b[1;32m     59\u001b[0m \u001b[0;34m\u001b[0m\u001b[0m\n\u001b[1;32m     60\u001b[0m \u001b[0;34m\u001b[0m\u001b[0m\n",
      "\u001b[0;32m~/anaconda3/lib/python3.6/site-packages/requests/sessions.py\u001b[0m in \u001b[0;36mrequest\u001b[0;34m(self, method, url, params, data, headers, cookies, files, auth, timeout, allow_redirects, proxies, hooks, stream, verify, cert, json)\u001b[0m\n\u001b[1;32m    506\u001b[0m         }\n\u001b[1;32m    507\u001b[0m         \u001b[0msend_kwargs\u001b[0m\u001b[0;34m.\u001b[0m\u001b[0mupdate\u001b[0m\u001b[0;34m(\u001b[0m\u001b[0msettings\u001b[0m\u001b[0;34m)\u001b[0m\u001b[0;34m\u001b[0m\u001b[0m\n\u001b[0;32m--> 508\u001b[0;31m         \u001b[0mresp\u001b[0m \u001b[0;34m=\u001b[0m \u001b[0mself\u001b[0m\u001b[0;34m.\u001b[0m\u001b[0msend\u001b[0m\u001b[0;34m(\u001b[0m\u001b[0mprep\u001b[0m\u001b[0;34m,\u001b[0m \u001b[0;34m**\u001b[0m\u001b[0msend_kwargs\u001b[0m\u001b[0;34m)\u001b[0m\u001b[0;34m\u001b[0m\u001b[0m\n\u001b[0m\u001b[1;32m    509\u001b[0m \u001b[0;34m\u001b[0m\u001b[0m\n\u001b[1;32m    510\u001b[0m         \u001b[0;32mreturn\u001b[0m \u001b[0mresp\u001b[0m\u001b[0;34m\u001b[0m\u001b[0m\n",
      "\u001b[0;32m~/anaconda3/lib/python3.6/site-packages/requests/sessions.py\u001b[0m in \u001b[0;36msend\u001b[0;34m(self, request, **kwargs)\u001b[0m\n\u001b[1;32m    616\u001b[0m \u001b[0;34m\u001b[0m\u001b[0m\n\u001b[1;32m    617\u001b[0m         \u001b[0;31m# Send the request\u001b[0m\u001b[0;34m\u001b[0m\u001b[0;34m\u001b[0m\u001b[0m\n\u001b[0;32m--> 618\u001b[0;31m         \u001b[0mr\u001b[0m \u001b[0;34m=\u001b[0m \u001b[0madapter\u001b[0m\u001b[0;34m.\u001b[0m\u001b[0msend\u001b[0m\u001b[0;34m(\u001b[0m\u001b[0mrequest\u001b[0m\u001b[0;34m,\u001b[0m \u001b[0;34m**\u001b[0m\u001b[0mkwargs\u001b[0m\u001b[0;34m)\u001b[0m\u001b[0;34m\u001b[0m\u001b[0m\n\u001b[0m\u001b[1;32m    619\u001b[0m \u001b[0;34m\u001b[0m\u001b[0m\n\u001b[1;32m    620\u001b[0m         \u001b[0;31m# Total elapsed time of the request (approximately)\u001b[0m\u001b[0;34m\u001b[0m\u001b[0;34m\u001b[0m\u001b[0m\n",
      "\u001b[0;32m~/anaconda3/lib/python3.6/site-packages/requests/adapters.py\u001b[0m in \u001b[0;36msend\u001b[0;34m(self, request, stream, timeout, verify, cert, proxies)\u001b[0m\n\u001b[1;32m    438\u001b[0m                     \u001b[0mdecode_content\u001b[0m\u001b[0;34m=\u001b[0m\u001b[0;32mFalse\u001b[0m\u001b[0;34m,\u001b[0m\u001b[0;34m\u001b[0m\u001b[0m\n\u001b[1;32m    439\u001b[0m                     \u001b[0mretries\u001b[0m\u001b[0;34m=\u001b[0m\u001b[0mself\u001b[0m\u001b[0;34m.\u001b[0m\u001b[0mmax_retries\u001b[0m\u001b[0;34m,\u001b[0m\u001b[0;34m\u001b[0m\u001b[0m\n\u001b[0;32m--> 440\u001b[0;31m                     \u001b[0mtimeout\u001b[0m\u001b[0;34m=\u001b[0m\u001b[0mtimeout\u001b[0m\u001b[0;34m\u001b[0m\u001b[0m\n\u001b[0m\u001b[1;32m    441\u001b[0m                 )\n\u001b[1;32m    442\u001b[0m \u001b[0;34m\u001b[0m\u001b[0m\n",
      "\u001b[0;32m~/anaconda3/lib/python3.6/site-packages/urllib3/connectionpool.py\u001b[0m in \u001b[0;36murlopen\u001b[0;34m(self, method, url, body, headers, retries, redirect, assert_same_host, timeout, pool_timeout, release_conn, chunked, body_pos, **response_kw)\u001b[0m\n\u001b[1;32m    599\u001b[0m                                                   \u001b[0mtimeout\u001b[0m\u001b[0;34m=\u001b[0m\u001b[0mtimeout_obj\u001b[0m\u001b[0;34m,\u001b[0m\u001b[0;34m\u001b[0m\u001b[0m\n\u001b[1;32m    600\u001b[0m                                                   \u001b[0mbody\u001b[0m\u001b[0;34m=\u001b[0m\u001b[0mbody\u001b[0m\u001b[0;34m,\u001b[0m \u001b[0mheaders\u001b[0m\u001b[0;34m=\u001b[0m\u001b[0mheaders\u001b[0m\u001b[0;34m,\u001b[0m\u001b[0;34m\u001b[0m\u001b[0m\n\u001b[0;32m--> 601\u001b[0;31m                                                   chunked=chunked)\n\u001b[0m\u001b[1;32m    602\u001b[0m \u001b[0;34m\u001b[0m\u001b[0m\n\u001b[1;32m    603\u001b[0m             \u001b[0;31m# If we're going to release the connection in ``finally:``, then\u001b[0m\u001b[0;34m\u001b[0m\u001b[0;34m\u001b[0m\u001b[0m\n",
      "\u001b[0;32m~/anaconda3/lib/python3.6/site-packages/urllib3/connectionpool.py\u001b[0m in \u001b[0;36m_make_request\u001b[0;34m(self, conn, method, url, timeout, chunked, **httplib_request_kw)\u001b[0m\n\u001b[1;32m    344\u001b[0m         \u001b[0;31m# Trigger any extra validation we need to do.\u001b[0m\u001b[0;34m\u001b[0m\u001b[0;34m\u001b[0m\u001b[0m\n\u001b[1;32m    345\u001b[0m         \u001b[0;32mtry\u001b[0m\u001b[0;34m:\u001b[0m\u001b[0;34m\u001b[0m\u001b[0m\n\u001b[0;32m--> 346\u001b[0;31m             \u001b[0mself\u001b[0m\u001b[0;34m.\u001b[0m\u001b[0m_validate_conn\u001b[0m\u001b[0;34m(\u001b[0m\u001b[0mconn\u001b[0m\u001b[0;34m)\u001b[0m\u001b[0;34m\u001b[0m\u001b[0m\n\u001b[0m\u001b[1;32m    347\u001b[0m         \u001b[0;32mexcept\u001b[0m \u001b[0;34m(\u001b[0m\u001b[0mSocketTimeout\u001b[0m\u001b[0;34m,\u001b[0m \u001b[0mBaseSSLError\u001b[0m\u001b[0;34m)\u001b[0m \u001b[0;32mas\u001b[0m \u001b[0me\u001b[0m\u001b[0;34m:\u001b[0m\u001b[0;34m\u001b[0m\u001b[0m\n\u001b[1;32m    348\u001b[0m             \u001b[0;31m# Py2 raises this as a BaseSSLError, Py3 raises it as socket timeout.\u001b[0m\u001b[0;34m\u001b[0m\u001b[0;34m\u001b[0m\u001b[0m\n",
      "\u001b[0;32m~/anaconda3/lib/python3.6/site-packages/urllib3/connectionpool.py\u001b[0m in \u001b[0;36m_validate_conn\u001b[0;34m(self, conn)\u001b[0m\n\u001b[1;32m    848\u001b[0m         \u001b[0;31m# Force connect early to allow us to validate the connection.\u001b[0m\u001b[0;34m\u001b[0m\u001b[0;34m\u001b[0m\u001b[0m\n\u001b[1;32m    849\u001b[0m         \u001b[0;32mif\u001b[0m \u001b[0;32mnot\u001b[0m \u001b[0mgetattr\u001b[0m\u001b[0;34m(\u001b[0m\u001b[0mconn\u001b[0m\u001b[0;34m,\u001b[0m \u001b[0;34m'sock'\u001b[0m\u001b[0;34m,\u001b[0m \u001b[0;32mNone\u001b[0m\u001b[0;34m)\u001b[0m\u001b[0;34m:\u001b[0m  \u001b[0;31m# AppEngine might not have  `.sock`\u001b[0m\u001b[0;34m\u001b[0m\u001b[0m\n\u001b[0;32m--> 850\u001b[0;31m             \u001b[0mconn\u001b[0m\u001b[0;34m.\u001b[0m\u001b[0mconnect\u001b[0m\u001b[0;34m(\u001b[0m\u001b[0;34m)\u001b[0m\u001b[0;34m\u001b[0m\u001b[0m\n\u001b[0m\u001b[1;32m    851\u001b[0m \u001b[0;34m\u001b[0m\u001b[0m\n\u001b[1;32m    852\u001b[0m         \u001b[0;32mif\u001b[0m \u001b[0;32mnot\u001b[0m \u001b[0mconn\u001b[0m\u001b[0;34m.\u001b[0m\u001b[0mis_verified\u001b[0m\u001b[0;34m:\u001b[0m\u001b[0;34m\u001b[0m\u001b[0m\n",
      "\u001b[0;32m~/anaconda3/lib/python3.6/site-packages/urllib3/connection.py\u001b[0m in \u001b[0;36mconnect\u001b[0;34m(self)\u001b[0m\n\u001b[1;32m    324\u001b[0m             \u001b[0mca_cert_dir\u001b[0m\u001b[0;34m=\u001b[0m\u001b[0mself\u001b[0m\u001b[0;34m.\u001b[0m\u001b[0mca_cert_dir\u001b[0m\u001b[0;34m,\u001b[0m\u001b[0;34m\u001b[0m\u001b[0m\n\u001b[1;32m    325\u001b[0m             \u001b[0mserver_hostname\u001b[0m\u001b[0;34m=\u001b[0m\u001b[0mhostname\u001b[0m\u001b[0;34m,\u001b[0m\u001b[0;34m\u001b[0m\u001b[0m\n\u001b[0;32m--> 326\u001b[0;31m             ssl_context=context)\n\u001b[0m\u001b[1;32m    327\u001b[0m \u001b[0;34m\u001b[0m\u001b[0m\n\u001b[1;32m    328\u001b[0m         \u001b[0;32mif\u001b[0m \u001b[0mself\u001b[0m\u001b[0;34m.\u001b[0m\u001b[0massert_fingerprint\u001b[0m\u001b[0;34m:\u001b[0m\u001b[0;34m\u001b[0m\u001b[0m\n",
      "\u001b[0;32m~/anaconda3/lib/python3.6/site-packages/urllib3/util/ssl_.py\u001b[0m in \u001b[0;36mssl_wrap_socket\u001b[0;34m(sock, keyfile, certfile, cert_reqs, ca_certs, server_hostname, ssl_version, ciphers, ssl_context, ca_cert_dir)\u001b[0m\n\u001b[1;32m    327\u001b[0m         \u001b[0mcontext\u001b[0m\u001b[0;34m.\u001b[0m\u001b[0mload_cert_chain\u001b[0m\u001b[0;34m(\u001b[0m\u001b[0mcertfile\u001b[0m\u001b[0;34m,\u001b[0m \u001b[0mkeyfile\u001b[0m\u001b[0;34m)\u001b[0m\u001b[0;34m\u001b[0m\u001b[0m\n\u001b[1;32m    328\u001b[0m     \u001b[0;32mif\u001b[0m \u001b[0mHAS_SNI\u001b[0m\u001b[0;34m:\u001b[0m  \u001b[0;31m# Platform-specific: OpenSSL with enabled SNI\u001b[0m\u001b[0;34m\u001b[0m\u001b[0m\n\u001b[0;32m--> 329\u001b[0;31m         \u001b[0;32mreturn\u001b[0m \u001b[0mcontext\u001b[0m\u001b[0;34m.\u001b[0m\u001b[0mwrap_socket\u001b[0m\u001b[0;34m(\u001b[0m\u001b[0msock\u001b[0m\u001b[0;34m,\u001b[0m \u001b[0mserver_hostname\u001b[0m\u001b[0;34m=\u001b[0m\u001b[0mserver_hostname\u001b[0m\u001b[0;34m)\u001b[0m\u001b[0;34m\u001b[0m\u001b[0m\n\u001b[0m\u001b[1;32m    330\u001b[0m \u001b[0;34m\u001b[0m\u001b[0m\n\u001b[1;32m    331\u001b[0m     warnings.warn(\n",
      "\u001b[0;32m~/anaconda3/lib/python3.6/site-packages/urllib3/contrib/pyopenssl.py\u001b[0m in \u001b[0;36mwrap_socket\u001b[0;34m(self, sock, server_side, do_handshake_on_connect, suppress_ragged_eofs, server_hostname)\u001b[0m\n\u001b[1;32m    439\u001b[0m         \u001b[0;32mwhile\u001b[0m \u001b[0;32mTrue\u001b[0m\u001b[0;34m:\u001b[0m\u001b[0;34m\u001b[0m\u001b[0m\n\u001b[1;32m    440\u001b[0m             \u001b[0;32mtry\u001b[0m\u001b[0;34m:\u001b[0m\u001b[0;34m\u001b[0m\u001b[0m\n\u001b[0;32m--> 441\u001b[0;31m                 \u001b[0mcnx\u001b[0m\u001b[0;34m.\u001b[0m\u001b[0mdo_handshake\u001b[0m\u001b[0;34m(\u001b[0m\u001b[0;34m)\u001b[0m\u001b[0;34m\u001b[0m\u001b[0m\n\u001b[0m\u001b[1;32m    442\u001b[0m             \u001b[0;32mexcept\u001b[0m \u001b[0mOpenSSL\u001b[0m\u001b[0;34m.\u001b[0m\u001b[0mSSL\u001b[0m\u001b[0;34m.\u001b[0m\u001b[0mWantReadError\u001b[0m\u001b[0;34m:\u001b[0m\u001b[0;34m\u001b[0m\u001b[0m\n\u001b[1;32m    443\u001b[0m                 \u001b[0mrd\u001b[0m \u001b[0;34m=\u001b[0m \u001b[0mutil\u001b[0m\u001b[0;34m.\u001b[0m\u001b[0mwait_for_read\u001b[0m\u001b[0;34m(\u001b[0m\u001b[0msock\u001b[0m\u001b[0;34m,\u001b[0m \u001b[0msock\u001b[0m\u001b[0;34m.\u001b[0m\u001b[0mgettimeout\u001b[0m\u001b[0;34m(\u001b[0m\u001b[0;34m)\u001b[0m\u001b[0;34m)\u001b[0m\u001b[0;34m\u001b[0m\u001b[0m\n",
      "\u001b[0;32m~/anaconda3/lib/python3.6/site-packages/OpenSSL/SSL.py\u001b[0m in \u001b[0;36mdo_handshake\u001b[0;34m(self)\u001b[0m\n\u001b[1;32m   1713\u001b[0m         \u001b[0;34m:\u001b[0m\u001b[0;32mreturn\u001b[0m\u001b[0;34m:\u001b[0m \u001b[0;32mNone\u001b[0m\u001b[0;34m.\u001b[0m\u001b[0;34m\u001b[0m\u001b[0m\n\u001b[1;32m   1714\u001b[0m         \"\"\"\n\u001b[0;32m-> 1715\u001b[0;31m         \u001b[0mresult\u001b[0m \u001b[0;34m=\u001b[0m \u001b[0m_lib\u001b[0m\u001b[0;34m.\u001b[0m\u001b[0mSSL_do_handshake\u001b[0m\u001b[0;34m(\u001b[0m\u001b[0mself\u001b[0m\u001b[0;34m.\u001b[0m\u001b[0m_ssl\u001b[0m\u001b[0;34m)\u001b[0m\u001b[0;34m\u001b[0m\u001b[0m\n\u001b[0m\u001b[1;32m   1716\u001b[0m         \u001b[0mself\u001b[0m\u001b[0;34m.\u001b[0m\u001b[0m_raise_ssl_error\u001b[0m\u001b[0;34m(\u001b[0m\u001b[0mself\u001b[0m\u001b[0;34m.\u001b[0m\u001b[0m_ssl\u001b[0m\u001b[0;34m,\u001b[0m \u001b[0mresult\u001b[0m\u001b[0;34m)\u001b[0m\u001b[0;34m\u001b[0m\u001b[0m\n\u001b[1;32m   1717\u001b[0m \u001b[0;34m\u001b[0m\u001b[0m\n",
      "\u001b[0;31mKeyboardInterrupt\u001b[0m: "
     ]
    }
   ],
   "source": [
    "acs_results_2016 = requests.get('https://api.census.gov/data/2016/acs/acs5?get=NAME,B15002_001E,B15003_022E,B15003_023E,B15003_024E,B15003_025E,B25010_001E&for=block%20group:*&in=state:10%20county:001&key=91aa6a44edb890abeea862f2d9befb5d520a5cc4')\n",
    "data = acs_results_2016.text\n",
    "total_df = pd.read_json(data)\n",
    "errors = []\n",
    "\n",
    "\n",
    "# Query ACS Data from Census API\n",
    "for i in range(1, len(df)):\n",
    "    acs_results_2016 = requests.get('https://api.census.gov/data/2016/acs/acs5?get=NAME,B15002_001E,B15003_022E,B15003_023E,B15003_024E,B15003_025E,B25010_001E&for=block%20group:*&in=state:{}%20county:{}&key=91aa6a44edb890abeea862f2d9befb5d520a5cc4'.format(df.iloc[i,1], df.iloc[i,2]))\n",
    "    print(df.iloc[i,1], df.iloc[i,2])\n",
    "    if acs_results_2016.status_code != 204:\n",
    "        data = acs_results_2016.text\n",
    "        acs_df = pd.read_json(data)\n",
    "        total_df = pd.concat([total_df, acs_df])\n",
    "    else:\n",
    "        errors.append([df.iloc[i,1], df.iloc[i,2]])\n",
    "\n"
   ]
  },
  {
   "cell_type": "code",
   "execution_count": null,
   "metadata": {},
   "outputs": [],
   "source": [
    "# Clean ACS data frame and rename columns# Clean  \n",
    "variables = {'B15002_001E': \"total_pop_over25\", 'B15003_022E': \"bachelors\", 'B15003_023E': \"masters\", 'B15003_024E': \"professional\", 'B15003_024E': \"doctorate\"\n",
    "            'B25010_001E': \"avg_hh_size\"}\n",
    "acs_df.columns = acs_df.iloc[0]\n",
    "acs_df.drop([0], inplace = True)\n",
    "acs_df.rename(columns = variables, inplace=True)"
   ]
  },
  {
   "cell_type": "markdown",
   "metadata": {},
   "source": [
    "# Scraping Building Permit Data"
   ]
  },
  {
   "cell_type": "code",
   "execution_count": null,
   "metadata": {
    "collapsed": true
   },
   "outputs": [],
   "source": [
    "ul = sp.scrape_links('https://www2.census.gov/econ/bps/County/', [])"
   ]
  },
  {
   "cell_type": "code",
   "execution_count": null,
   "metadata": {
    "collapsed": true
   },
   "outputs": [],
   "source": [
    "permits = sp.url_to_pd(ul)"
   ]
  },
  {
   "cell_type": "code",
   "execution_count": null,
   "metadata": {},
   "outputs": [],
   "source": [
    "permits.columns"
   ]
  },
  {
   "cell_type": "code",
   "execution_count": null,
   "metadata": {},
   "outputs": [],
   "source": [
    "permits.iloc[4]"
   ]
  },
  {
   "cell_type": "code",
   "execution_count": null,
   "metadata": {
    "collapsed": true
   },
   "outputs": [],
   "source": [
    "permits = permits.reset_index()"
   ]
  },
  {
   "cell_type": "code",
   "execution_count": null,
   "metadata": {},
   "outputs": [],
   "source": [
    "permits.shape"
   ]
  },
  {
   "cell_type": "code",
   "execution_count": null,
   "metadata": {
    "collapsed": true
   },
   "outputs": [],
   "source": [
    "permits = permits[permits.duplicated() == False]"
   ]
  },
  {
   "cell_type": "code",
   "execution_count": null,
   "metadata": {},
   "outputs": [],
   "source": [
    "permits.head()"
   ]
  },
  {
   "cell_type": "code",
   "execution_count": null,
   "metadata": {
    "collapsed": true
   },
   "outputs": [],
   "source": [
    "permits.rename(index=str, columns={\"index\": \"year\", \"Survey\": \"state\", \"FIPS\": \"county\", \"FIPS.1\": \"region\",\n",
    "                             \"Region\": \"division\", \"Division\": \"name\", \"County\": \"bldg_1\", \"Unnamed: 6\": \"units_1\",\n",
    "                             \"1-unit\": \"value_1\", \"Unnamed: 8\": \"bldg_2\", \"Unnamed: 9\": \"units_2\", \"2-units\": \"value_2\",\n",
    "                              \"Unnamed: 11\": \"bldg_3\", \"Unnamed: 12\": \"units_3\", \"3-4 units\": \"value_3-4\",\n",
    "                              \"Unnamed: 14\": \"bldg_5\", \"Unnamed: 15\": \"units_5\", \"5+ units\": \"value_5\"}, inplace = True)"
   ]
  },
  {
   "cell_type": "code",
   "execution_count": null,
   "metadata": {
    "collapsed": true
   },
   "outputs": [],
   "source": [
    "permits.drop(['Unnamed: 17', 'Unnamed: 18', '1-unit rep', 'Unnamed: 20',\n",
    "       'Unnamed: 21', '2-units rep', 'Unnamed: 23', 'Unnamed: 24',\n",
    "       '3-4 units rep', 'Unnamed: 26', 'Unnamed: 27', ' 5+units rep'], axis=1, inplace = True)"
   ]
  },
  {
   "cell_type": "code",
   "execution_count": null,
   "metadata": {
    "collapsed": true
   },
   "outputs": [],
   "source": [
    "permits.drop('0', axis = 0, inplace = True)"
   ]
  },
  {
   "cell_type": "code",
   "execution_count": null,
   "metadata": {},
   "outputs": [],
   "source": [
    "permits.head()"
   ]
  },
  {
   "cell_type": "code",
   "execution_count": null,
   "metadata": {
    "collapsed": true
   },
   "outputs": [],
   "source": [
    "cols = ['bldg_1', 'units_1', 'value_1', 'bldg_2', 'units_2', 'value_2', 'bldg_3', 'units_3', 'value_3-4',\n",
    "       'bldg_5', 'units_5', 'value_5']\n",
    "\n",
    "permits[cols] = permits[cols].apply(pd.to_numeric, errors='coerce')\n",
    "\n",
    "\n",
    "permits['total_bldg'] = permits['bldg_1'] + permits['bldg_2'] + permits['bldg_3'] + permits['bldg_5'] \n",
    "permits['total_units'] = permits['units_1'] + permits['units_2'] + permits['units_3'] + permits['units_5']\n",
    "permits['total_value'] = permits['value_1'] + permits['value_2'] + permits['value_3-4'] + permits['value_5']"
   ]
  },
  {
   "cell_type": "code",
   "execution_count": null,
   "metadata": {
    "collapsed": true
   },
   "outputs": [],
   "source": [
    "permits_div = permits[(permits['division'] == '3') | (permits['division'] == '5')]"
   ]
  },
  {
   "cell_type": "code",
   "execution_count": null,
   "metadata": {},
   "outputs": [],
   "source": [
    "permits_div.iloc[4]"
   ]
  },
  {
   "cell_type": "code",
   "execution_count": null,
   "metadata": {
    "collapsed": true
   },
   "outputs": [],
   "source": [
    "permits_total = permits_div[['year', 'state', 'county', 'region', 'division', 'total_bldg', 'total_units', 'total_value']]"
   ]
  },
  {
   "cell_type": "code",
   "execution_count": null,
   "metadata": {},
   "outputs": [],
   "source": [
    "permits_total.head()"
   ]
  },
  {
   "cell_type": "code",
   "execution_count": null,
   "metadata": {},
   "outputs": [],
   "source": [
    "permits_total['geo_id'] = permits['state'] + permits['county']"
   ]
  },
  {
   "cell_type": "code",
   "execution_count": null,
   "metadata": {},
   "outputs": [],
   "source": [
    "permits_total.total_units = permits_total.total_units.astype(int)\n",
    "permits_total.total_bldg = permits_total.total_bldg.astype(int)"
   ]
  },
  {
   "cell_type": "code",
   "execution_count": null,
   "metadata": {},
   "outputs": [],
   "source": [
    "permits_total.head()"
   ]
  },
  {
   "cell_type": "code",
   "execution_count": null,
   "metadata": {
    "collapsed": true
   },
   "outputs": [],
   "source": [
    "permits_total = permits_total[permits_total.duplicated()==False]"
   ]
  },
  {
   "cell_type": "code",
   "execution_count": null,
   "metadata": {
    "collapsed": true
   },
   "outputs": [],
   "source": [
    "permits_total.to_csv('permits.csv', index = False)"
   ]
  },
  {
   "cell_type": "markdown",
   "metadata": {
    "collapsed": true
   },
   "source": [
    "# Household Size Data"
   ]
  },
  {
   "cell_type": "code",
   "execution_count": 7,
   "metadata": {
    "collapsed": true
   },
   "outputs": [],
   "source": [
    "hs_census = pd.read_csv('census/hhsize.csv')"
   ]
  },
  {
   "cell_type": "code",
   "execution_count": null,
   "metadata": {},
   "outputs": [],
   "source": [
    "len(hs_census.iloc[0,0])"
   ]
  },
  {
   "cell_type": "code",
   "execution_count": 8,
   "metadata": {
    "collapsed": true
   },
   "outputs": [],
   "source": [
    "hs_census = hs_census[(hs_census['STATEA'] == 18) | (hs_census['STATEA'] == 17) | (hs_census['STATEA'] == 26) |\n",
    "                     (hs_census['STATEA'] == 39) |\n",
    "                     (hs_census['STATEA'] == 55) |\n",
    "                     (hs_census['STATEA'] == 10) |\n",
    "                     (hs_census['STATEA'] == 11) |\n",
    "                     (hs_census['STATEA'] == 12) |\n",
    "                     (hs_census['STATEA'] == 13) |\n",
    "                     (hs_census['STATEA'] == 24) |\n",
    "                     (hs_census['STATEA'] == 37) |\n",
    "                     (hs_census['STATEA'] == 45) |\n",
    "                     (hs_census['STATEA'] == 51) |\n",
    "                     (hs_census['STATEA'] == 54)]"
   ]
  },
  {
   "cell_type": "code",
   "execution_count": null,
   "metadata": {},
   "outputs": [],
   "source": [
    "hs_census.head()"
   ]
  },
  {
   "cell_type": "code",
   "execution_count": 9,
   "metadata": {
    "collapsed": true
   },
   "outputs": [],
   "source": [
    "hs_census.rename(index = str, columns = {'DATAYEAR' : 'Year', 'CM4AA' : 'Total_HH', 'CS2AA': 'HHF_2', 'CS2AB': 'HHF_3', 'CS2AC': 'HHF_4',\n",
    "          'CS2AD' : 'HHF_5', 'CS2AE' : 'HHF_6', 'CS2AF': 'HHF_7', 'CS2AG' : 'HHN_1',\n",
    "          'CS2AH' : 'HHN_2', 'CS2AI' : 'HHN_3', 'CS2AJ': 'HHN_4', 'CS2AK': 'HHN_5',\n",
    "          'CS2AL' : 'HHN_6', 'CS2AM' :'HHN_7'}, inplace = True)"
   ]
  },
  {
   "cell_type": "code",
   "execution_count": 10,
   "metadata": {
    "collapsed": true
   },
   "outputs": [],
   "source": [
    "hs_census['geo_id'] = hs_census.GISJOIN.str[1:3] + hs_census.GISJOIN.str[4:7] + hs_census.GISJOIN.str[8:15] "
   ]
  },
  {
   "cell_type": "code",
   "execution_count": 11,
   "metadata": {
    "collapsed": true
   },
   "outputs": [],
   "source": [
    "hs_census = hs_census[['Year','Total_HH', 'HHF_2', 'HHF_3', 'HHF_4', 'HHF_5', 'HHF_6', 'HHF_7', 'HHN_1', 'HHN_2',\n",
    "                      'HHN_3', 'HHN_4', 'HHN_5', 'HHN_6', 'HHN_7', 'geo_id']]"
   ]
  },
  {
   "cell_type": "code",
   "execution_count": 12,
   "metadata": {
    "collapsed": true
   },
   "outputs": [],
   "source": [
    "hs_census['total_ppl'] = hs_census['HHF_2']*2 + hs_census['HHF_3']*3 + hs_census['HHF_4']*4 + hs_census['HHF_5']*5 + hs_census['HHF_6']*6 + hs_census['HHF_7']*7 + hs_census['HHN_1'] + hs_census['HHN_2']*2 + hs_census['HHN_3']*3 + hs_census['HHN_4']*4 + hs_census['HHN_5']*5 + hs_census['HHN_6']*6 + hs_census['HHN_7']*7"
   ]
  },
  {
   "cell_type": "code",
   "execution_count": null,
   "metadata": {},
   "outputs": [],
   "source": [
    "hs_census.head()"
   ]
  },
  {
   "cell_type": "code",
   "execution_count": 13,
   "metadata": {
    "collapsed": true
   },
   "outputs": [],
   "source": [
    "hs_census['avg_size'] = hs_census['total_ppl']/ hs_census['Total_HH']"
   ]
  },
  {
   "cell_type": "code",
   "execution_count": 14,
   "metadata": {
    "collapsed": true
   },
   "outputs": [],
   "source": [
    "hs_census_final = hs_census[['Year', 'geo_id', 'avg_size']]"
   ]
  },
  {
   "cell_type": "code",
   "execution_count": 15,
   "metadata": {
    "collapsed": true
   },
   "outputs": [],
   "source": [
    "hs_census10 = pd.read_csv('census/hhsize_acs_2010.csv')"
   ]
  },
  {
   "cell_type": "code",
   "execution_count": 16,
   "metadata": {},
   "outputs": [
    {
     "data": {
      "text/plain": [
       "Index(['GISJOIN', 'YEAR', 'REGIONA', 'DIVISIONA', 'STATE', 'STATEA', 'COUNTY',\n",
       "       'COUNTYA', 'COUSUBA', 'PLACEA', 'TRACTA', 'BLKGRPA', 'CONCITA',\n",
       "       'AIANHHA', 'RES_ONLYA', 'TRUSTA', 'AITSCEA', 'ANRCA', 'CBSAA', 'CSAA',\n",
       "       'METDIVA', 'NECTAA', 'CNECTAA', 'NECTADIVA', 'UAA', 'CDCURRA', 'SLDUA',\n",
       "       'SLDLA', 'SUBMCDA', 'SDELMA', 'SDSECA', 'SDUNIA', 'PUMA5A', 'BTTRA',\n",
       "       'BTBGA', 'NAME_E', 'JNWE001', 'JNWE002', 'JNWE003', 'JNWE004',\n",
       "       'JNWE005', 'JNWE006', 'JNWE007', 'JNWE008', 'JNWE009', 'JNWE010',\n",
       "       'JNWE011', 'JNWE012', 'JNWE013', 'JNWE014', 'JNWE015', 'JNWE016',\n",
       "       'NAME_M', 'JNWM001', 'JNWM002', 'JNWM003', 'JNWM004', 'JNWM005',\n",
       "       'JNWM006', 'JNWM007', 'JNWM008', 'JNWM009', 'JNWM010', 'JNWM011',\n",
       "       'JNWM012', 'JNWM013', 'JNWM014', 'JNWM015', 'JNWM016'],\n",
       "      dtype='object')"
      ]
     },
     "execution_count": 16,
     "metadata": {},
     "output_type": "execute_result"
    }
   ],
   "source": [
    "hs_census10.columns"
   ]
  },
  {
   "cell_type": "code",
   "execution_count": 17,
   "metadata": {
    "collapsed": true
   },
   "outputs": [],
   "source": [
    "hs_census10.rename(index = str, columns = {'YEAR' : 'Year', 'JNWE001' : 'Total_HH', 'JNWE003': 'HHF_2', 'JNWE004': 'HHF_3', 'JNWE005': 'HHF_4',\n",
    "          'JNWE006' : 'HHF_5', 'JNWE007' : 'HHF_6', 'JNWE008': 'HHF_7', 'JNWE010' : 'HHN_1',\n",
    "          'JNWE011' : 'HHN_2', 'JNWE012' : 'HHN_3', 'JNWE013': 'HHN_4', 'JNWE014': 'HHN_5',\n",
    "          'JNWE015' : 'HHN_6', 'JNWE016' :'HHN_7'}, inplace = True)"
   ]
  },
  {
   "cell_type": "code",
   "execution_count": null,
   "metadata": {},
   "outputs": [],
   "source": [
    "hs_census10.columns"
   ]
  },
  {
   "cell_type": "code",
   "execution_count": 18,
   "metadata": {
    "collapsed": true
   },
   "outputs": [],
   "source": [
    "hs_census10['geo_id'] = hs_census10.GISJOIN.str[1:3] + hs_census10.GISJOIN.str[4:7] + hs_census10.GISJOIN.str[8:15] "
   ]
  },
  {
   "cell_type": "code",
   "execution_count": 19,
   "metadata": {
    "collapsed": true
   },
   "outputs": [],
   "source": [
    "hs_census10 = hs_census10[['Year','Total_HH', 'HHF_2', 'HHF_3', 'HHF_4', 'HHF_5', 'HHF_6', 'HHF_7', 'HHN_1', 'HHN_2',\n",
    "                      'HHN_3', 'HHN_4', 'HHN_5', 'HHN_6', 'HHN_7', 'geo_id']]"
   ]
  },
  {
   "cell_type": "code",
   "execution_count": 20,
   "metadata": {
    "collapsed": true
   },
   "outputs": [],
   "source": [
    "hs_census10['total_ppl'] = hs_census10['HHF_2']*2 + hs_census10['HHF_3']*3 + hs_census10['HHF_4']*4 + hs_census10['HHF_5']*5 + hs_census10['HHF_6']*6 + hs_census10['HHF_7']*7 + hs_census10['HHN_1'] + hs_census10['HHN_2']*2 + hs_census10['HHN_3']*3 + hs_census10['HHN_4']*4 + hs_census10['HHN_5']*5 + hs_census10['HHN_6']*6 + hs_census10['HHN_7']*7"
   ]
  },
  {
   "cell_type": "code",
   "execution_count": 21,
   "metadata": {
    "collapsed": true
   },
   "outputs": [],
   "source": [
    "hs_census10['avg_size'] = hs_census10['total_ppl']/ hs_census10['Total_HH']"
   ]
  },
  {
   "cell_type": "code",
   "execution_count": 23,
   "metadata": {},
   "outputs": [],
   "source": [
    "hs_census_final10 = hs_census10[['Year', 'geo_id', 'avg_size']]"
   ]
  },
  {
   "cell_type": "code",
   "execution_count": 24,
   "metadata": {},
   "outputs": [
    {
     "data": {
      "text/html": [
       "<div>\n",
       "<style scoped>\n",
       "    .dataframe tbody tr th:only-of-type {\n",
       "        vertical-align: middle;\n",
       "    }\n",
       "\n",
       "    .dataframe tbody tr th {\n",
       "        vertical-align: top;\n",
       "    }\n",
       "\n",
       "    .dataframe thead th {\n",
       "        text-align: right;\n",
       "    }\n",
       "</style>\n",
       "<table border=\"1\" class=\"dataframe\">\n",
       "  <thead>\n",
       "    <tr style=\"text-align: right;\">\n",
       "      <th></th>\n",
       "      <th>GISJOIN</th>\n",
       "      <th>YEAR</th>\n",
       "      <th>REGIONA</th>\n",
       "      <th>DIVISIONA</th>\n",
       "      <th>STATE</th>\n",
       "      <th>STATEA</th>\n",
       "      <th>COUNTY</th>\n",
       "      <th>COUNTYA</th>\n",
       "      <th>COUSUBA</th>\n",
       "      <th>PLACEA</th>\n",
       "      <th>...</th>\n",
       "      <th>ADMKM007</th>\n",
       "      <th>ADMKM008</th>\n",
       "      <th>ADMKM009</th>\n",
       "      <th>ADMKM010</th>\n",
       "      <th>ADMKM011</th>\n",
       "      <th>ADMKM012</th>\n",
       "      <th>ADMKM013</th>\n",
       "      <th>ADMKM014</th>\n",
       "      <th>ADMKM015</th>\n",
       "      <th>ADMKM016</th>\n",
       "    </tr>\n",
       "  </thead>\n",
       "  <tbody>\n",
       "    <tr>\n",
       "      <th>0</th>\n",
       "      <td>G10000100401001</td>\n",
       "      <td>2011-2015</td>\n",
       "      <td>NaN</td>\n",
       "      <td>NaN</td>\n",
       "      <td>Delaware</td>\n",
       "      <td>10</td>\n",
       "      <td>Kent County</td>\n",
       "      <td>1</td>\n",
       "      <td>NaN</td>\n",
       "      <td>NaN</td>\n",
       "      <td>...</td>\n",
       "      <td>45</td>\n",
       "      <td>11</td>\n",
       "      <td>115</td>\n",
       "      <td>116</td>\n",
       "      <td>27</td>\n",
       "      <td>11</td>\n",
       "      <td>11</td>\n",
       "      <td>11</td>\n",
       "      <td>11</td>\n",
       "      <td>11</td>\n",
       "    </tr>\n",
       "    <tr>\n",
       "      <th>1</th>\n",
       "      <td>G10000100401002</td>\n",
       "      <td>2011-2015</td>\n",
       "      <td>NaN</td>\n",
       "      <td>NaN</td>\n",
       "      <td>Delaware</td>\n",
       "      <td>10</td>\n",
       "      <td>Kent County</td>\n",
       "      <td>1</td>\n",
       "      <td>NaN</td>\n",
       "      <td>NaN</td>\n",
       "      <td>...</td>\n",
       "      <td>26</td>\n",
       "      <td>14</td>\n",
       "      <td>83</td>\n",
       "      <td>81</td>\n",
       "      <td>14</td>\n",
       "      <td>11</td>\n",
       "      <td>11</td>\n",
       "      <td>11</td>\n",
       "      <td>11</td>\n",
       "      <td>11</td>\n",
       "    </tr>\n",
       "    <tr>\n",
       "      <th>2</th>\n",
       "      <td>G10000100401003</td>\n",
       "      <td>2011-2015</td>\n",
       "      <td>NaN</td>\n",
       "      <td>NaN</td>\n",
       "      <td>Delaware</td>\n",
       "      <td>10</td>\n",
       "      <td>Kent County</td>\n",
       "      <td>1</td>\n",
       "      <td>NaN</td>\n",
       "      <td>NaN</td>\n",
       "      <td>...</td>\n",
       "      <td>23</td>\n",
       "      <td>11</td>\n",
       "      <td>90</td>\n",
       "      <td>45</td>\n",
       "      <td>76</td>\n",
       "      <td>21</td>\n",
       "      <td>11</td>\n",
       "      <td>11</td>\n",
       "      <td>11</td>\n",
       "      <td>11</td>\n",
       "    </tr>\n",
       "    <tr>\n",
       "      <th>3</th>\n",
       "      <td>G10000100402011</td>\n",
       "      <td>2011-2015</td>\n",
       "      <td>NaN</td>\n",
       "      <td>NaN</td>\n",
       "      <td>Delaware</td>\n",
       "      <td>10</td>\n",
       "      <td>Kent County</td>\n",
       "      <td>1</td>\n",
       "      <td>NaN</td>\n",
       "      <td>NaN</td>\n",
       "      <td>...</td>\n",
       "      <td>28</td>\n",
       "      <td>11</td>\n",
       "      <td>46</td>\n",
       "      <td>44</td>\n",
       "      <td>17</td>\n",
       "      <td>11</td>\n",
       "      <td>11</td>\n",
       "      <td>11</td>\n",
       "      <td>11</td>\n",
       "      <td>11</td>\n",
       "    </tr>\n",
       "    <tr>\n",
       "      <th>4</th>\n",
       "      <td>G10000100402012</td>\n",
       "      <td>2011-2015</td>\n",
       "      <td>NaN</td>\n",
       "      <td>NaN</td>\n",
       "      <td>Delaware</td>\n",
       "      <td>10</td>\n",
       "      <td>Kent County</td>\n",
       "      <td>1</td>\n",
       "      <td>NaN</td>\n",
       "      <td>NaN</td>\n",
       "      <td>...</td>\n",
       "      <td>20</td>\n",
       "      <td>19</td>\n",
       "      <td>130</td>\n",
       "      <td>123</td>\n",
       "      <td>47</td>\n",
       "      <td>11</td>\n",
       "      <td>11</td>\n",
       "      <td>11</td>\n",
       "      <td>11</td>\n",
       "      <td>11</td>\n",
       "    </tr>\n",
       "  </tbody>\n",
       "</table>\n",
       "<p>5 rows × 70 columns</p>\n",
       "</div>"
      ],
      "text/plain": [
       "           GISJOIN       YEAR  REGIONA  DIVISIONA     STATE  STATEA  \\\n",
       "0  G10000100401001  2011-2015      NaN        NaN  Delaware      10   \n",
       "1  G10000100401002  2011-2015      NaN        NaN  Delaware      10   \n",
       "2  G10000100401003  2011-2015      NaN        NaN  Delaware      10   \n",
       "3  G10000100402011  2011-2015      NaN        NaN  Delaware      10   \n",
       "4  G10000100402012  2011-2015      NaN        NaN  Delaware      10   \n",
       "\n",
       "        COUNTY  COUNTYA  COUSUBA  PLACEA    ...     ADMKM007  ADMKM008  \\\n",
       "0  Kent County        1      NaN     NaN    ...           45        11   \n",
       "1  Kent County        1      NaN     NaN    ...           26        14   \n",
       "2  Kent County        1      NaN     NaN    ...           23        11   \n",
       "3  Kent County        1      NaN     NaN    ...           28        11   \n",
       "4  Kent County        1      NaN     NaN    ...           20        19   \n",
       "\n",
       "   ADMKM009  ADMKM010  ADMKM011  ADMKM012  ADMKM013  ADMKM014  ADMKM015  \\\n",
       "0       115       116        27        11        11        11        11   \n",
       "1        83        81        14        11        11        11        11   \n",
       "2        90        45        76        21        11        11        11   \n",
       "3        46        44        17        11        11        11        11   \n",
       "4       130       123        47        11        11        11        11   \n",
       "\n",
       "   ADMKM016  \n",
       "0        11  \n",
       "1        11  \n",
       "2        11  \n",
       "3        11  \n",
       "4        11  \n",
       "\n",
       "[5 rows x 70 columns]"
      ]
     },
     "execution_count": 24,
     "metadata": {},
     "output_type": "execute_result"
    }
   ],
   "source": [
    "hs_census15 = pd.read_csv('census/hhsize_acs_2015.csv')\n",
    "hs_census15.head()"
   ]
  },
  {
   "cell_type": "code",
   "execution_count": 25,
   "metadata": {
    "collapsed": true
   },
   "outputs": [],
   "source": [
    "# households 7 or above coded as 7 people \n",
    "hs_census15.rename(index = str, columns = {'YEAR' : 'Year', 'ADMKE001' : 'Total_HH', 'ADMKE003': 'HHF_2', 'ADMKE004': 'HHF_3', 'ADMKE005': 'HHF_4',\n",
    "          'ADMKE006' : 'HHF_5', 'ADMKE007' : 'HHF_6', 'ADMKE008': 'HHF_7', 'ADMKE010' : 'HHN_1',\n",
    "          'ADMKE011' : 'HHN_2', 'ADMKE012' : 'HHN_3', 'ADMKE013': 'HHN_4', 'ADMKE014': 'HHN_5',\n",
    "          'ADMKE015' : 'HHN_6', 'ADMKE016' :'HHN_7'}, inplace = True)\n",
    "hs_census15['geo_id'] = hs_census15.GISJOIN.str[1:3] + hs_census15.GISJOIN.str[4:7] + hs_census15.GISJOIN.str[8:15] \n",
    "hs_census15 = hs_census15[['Year','Total_HH', 'HHF_2', 'HHF_3', 'HHF_4', 'HHF_5', 'HHF_6', 'HHF_7', 'HHN_1', 'HHN_2',\n",
    "                      'HHN_3', 'HHN_4', 'HHN_5', 'HHN_6', 'HHN_7', 'geo_id']]\n",
    "hs_census15['total_ppl'] = hs_census15['HHF_2']*2 + hs_census15['HHF_3']*3 + hs_census15['HHF_4']*4 + hs_census15['HHF_5']*5 + hs_census10['HHF_6']*6 + hs_census10['HHF_7']*7 + hs_census10['HHN_1'] + hs_census10['HHN_2']*2 + hs_census10['HHN_3']*3 + hs_census10['HHN_4']*4 + hs_census10['HHN_5']*5 + hs_census10['HHN_6']*6 + hs_census10['HHN_7']*7\n",
    "hs_census15['avg_size'] = hs_census15['total_ppl']/ hs_census15['Total_HH']\n",
    "hs_census_final15 = hs_census15[['Year', 'geo_id', 'avg_size']]"
   ]
  },
  {
   "cell_type": "code",
   "execution_count": 26,
   "metadata": {
    "collapsed": true
   },
   "outputs": [],
   "source": [
    "yearlist = [2001, 2002, 2003, 2004, 2005, 2006, 2007, 2008, 2009, 2011, \n",
    "            2012, 2013, 2014, 2015, 2016]\n"
   ]
  },
  {
   "cell_type": "code",
   "execution_count": 27,
   "metadata": {},
   "outputs": [
    {
     "name": "stderr",
     "output_type": "stream",
     "text": [
      "/Users/alenastern/anaconda3/lib/python3.6/site-packages/ipykernel_launcher.py:7: SettingWithCopyWarning: \n",
      "A value is trying to be set on a copy of a slice from a DataFrame.\n",
      "Try using .loc[row_indexer,col_indexer] = value instead\n",
      "\n",
      "See the caveats in the documentation: http://pandas.pydata.org/pandas-docs/stable/indexing.html#indexing-view-versus-copy\n",
      "  import sys\n",
      "/Users/alenastern/anaconda3/lib/python3.6/site-packages/ipykernel_launcher.py:10: SettingWithCopyWarning: \n",
      "A value is trying to be set on a copy of a slice from a DataFrame.\n",
      "Try using .loc[row_indexer,col_indexer] = value instead\n",
      "\n",
      "See the caveats in the documentation: http://pandas.pydata.org/pandas-docs/stable/indexing.html#indexing-view-versus-copy\n",
      "  # Remove the CWD from sys.path while we load stuff.\n",
      "/Users/alenastern/anaconda3/lib/python3.6/site-packages/ipykernel_launcher.py:15: SettingWithCopyWarning: \n",
      "A value is trying to be set on a copy of a slice from a DataFrame.\n",
      "Try using .loc[row_indexer,col_indexer] = value instead\n",
      "\n",
      "See the caveats in the documentation: http://pandas.pydata.org/pandas-docs/stable/indexing.html#indexing-view-versus-copy\n",
      "  from ipykernel import kernelapp as app\n"
     ]
    }
   ],
   "source": [
    "hs_census_00 = hs_census_final[hs_census_final['Year'] == 2000]\n",
    "hs_census_10 = hs_census_final[hs_census_final['Year'] == 2010]\n",
    "dflist = []\n",
    "\n",
    "for year in yearlist:\n",
    "    if year < 2006:\n",
    "        hs_census_00['Year'] = year\n",
    "        dflist.append(hs_census_00.copy())\n",
    "    elif year >= 2006 and year < 2010:\n",
    "        hs_census_final10['Year'] = year\n",
    "        dflist.append(hs_census_final10.copy())\n",
    "    elif year == 2010:\n",
    "        dflist.append(hs_census_10.copy())\n",
    "    else:\n",
    "        hs_census_final15['Year'] = year\n",
    "        dflist.append(hs_census_final15.copy())\n",
    "        \n",
    "    \n",
    "hs_final = pd.concat(dflist)"
   ]
  },
  {
   "cell_type": "code",
   "execution_count": 28,
   "metadata": {},
   "outputs": [
    {
     "data": {
      "text/html": [
       "<div>\n",
       "<style scoped>\n",
       "    .dataframe tbody tr th:only-of-type {\n",
       "        vertical-align: middle;\n",
       "    }\n",
       "\n",
       "    .dataframe tbody tr th {\n",
       "        vertical-align: top;\n",
       "    }\n",
       "\n",
       "    .dataframe thead th {\n",
       "        text-align: right;\n",
       "    }\n",
       "</style>\n",
       "<table border=\"1\" class=\"dataframe\">\n",
       "  <thead>\n",
       "    <tr style=\"text-align: right;\">\n",
       "      <th></th>\n",
       "      <th>geo_id</th>\n",
       "      <th>avg_size</th>\n",
       "    </tr>\n",
       "    <tr>\n",
       "      <th>Year</th>\n",
       "      <th></th>\n",
       "      <th></th>\n",
       "    </tr>\n",
       "  </thead>\n",
       "  <tbody>\n",
       "    <tr>\n",
       "      <th>2001</th>\n",
       "      <td>74500</td>\n",
       "      <td>74143</td>\n",
       "    </tr>\n",
       "    <tr>\n",
       "      <th>2002</th>\n",
       "      <td>74500</td>\n",
       "      <td>74143</td>\n",
       "    </tr>\n",
       "    <tr>\n",
       "      <th>2003</th>\n",
       "      <td>74500</td>\n",
       "      <td>74143</td>\n",
       "    </tr>\n",
       "    <tr>\n",
       "      <th>2004</th>\n",
       "      <td>74500</td>\n",
       "      <td>74143</td>\n",
       "    </tr>\n",
       "    <tr>\n",
       "      <th>2005</th>\n",
       "      <td>74500</td>\n",
       "      <td>74143</td>\n",
       "    </tr>\n",
       "    <tr>\n",
       "      <th>2006</th>\n",
       "      <td>74500</td>\n",
       "      <td>74006</td>\n",
       "    </tr>\n",
       "    <tr>\n",
       "      <th>2007</th>\n",
       "      <td>74500</td>\n",
       "      <td>74006</td>\n",
       "    </tr>\n",
       "    <tr>\n",
       "      <th>2008</th>\n",
       "      <td>74500</td>\n",
       "      <td>74006</td>\n",
       "    </tr>\n",
       "    <tr>\n",
       "      <th>2009</th>\n",
       "      <td>74500</td>\n",
       "      <td>74006</td>\n",
       "    </tr>\n",
       "    <tr>\n",
       "      <th>2011</th>\n",
       "      <td>74500</td>\n",
       "      <td>74071</td>\n",
       "    </tr>\n",
       "    <tr>\n",
       "      <th>2012</th>\n",
       "      <td>74500</td>\n",
       "      <td>74071</td>\n",
       "    </tr>\n",
       "    <tr>\n",
       "      <th>2013</th>\n",
       "      <td>74500</td>\n",
       "      <td>74071</td>\n",
       "    </tr>\n",
       "    <tr>\n",
       "      <th>2014</th>\n",
       "      <td>74500</td>\n",
       "      <td>74071</td>\n",
       "    </tr>\n",
       "    <tr>\n",
       "      <th>2015</th>\n",
       "      <td>74500</td>\n",
       "      <td>74071</td>\n",
       "    </tr>\n",
       "    <tr>\n",
       "      <th>2016</th>\n",
       "      <td>74500</td>\n",
       "      <td>74071</td>\n",
       "    </tr>\n",
       "  </tbody>\n",
       "</table>\n",
       "</div>"
      ],
      "text/plain": [
       "      geo_id  avg_size\n",
       "Year                  \n",
       "2001   74500     74143\n",
       "2002   74500     74143\n",
       "2003   74500     74143\n",
       "2004   74500     74143\n",
       "2005   74500     74143\n",
       "2006   74500     74006\n",
       "2007   74500     74006\n",
       "2008   74500     74006\n",
       "2009   74500     74006\n",
       "2011   74500     74071\n",
       "2012   74500     74071\n",
       "2013   74500     74071\n",
       "2014   74500     74071\n",
       "2015   74500     74071\n",
       "2016   74500     74071"
      ]
     },
     "execution_count": 28,
     "metadata": {},
     "output_type": "execute_result"
    }
   ],
   "source": [
    "hs_final.groupby('Year').count()"
   ]
  },
  {
   "cell_type": "code",
   "execution_count": 29,
   "metadata": {
    "collapsed": true
   },
   "outputs": [],
   "source": [
    "hs_final.to_csv('census/hs_final.csv', index = False)"
   ]
  },
  {
   "cell_type": "code",
   "execution_count": null,
   "metadata": {},
   "outputs": [],
   "source": [
    "hs_final.head()"
   ]
  },
  {
   "cell_type": "code",
   "execution_count": null,
   "metadata": {
    "collapsed": true
   },
   "outputs": [],
   "source": []
  }
 ],
 "metadata": {
  "kernelspec": {
   "display_name": "Python 3",
   "language": "python",
   "name": "python3"
  },
  "language_info": {
   "codemirror_mode": {
    "name": "ipython",
    "version": 3
   },
   "file_extension": ".py",
   "mimetype": "text/x-python",
   "name": "python",
   "nbconvert_exporter": "python",
   "pygments_lexer": "ipython3",
   "version": "3.6.3"
  }
 },
 "nbformat": 4,
 "nbformat_minor": 2
}
