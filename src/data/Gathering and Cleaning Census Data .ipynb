{
 "cells": [
  {
   "cell_type": "code",
   "execution_count": 1,
   "metadata": {
    "collapsed": true
   },
   "outputs": [],
   "source": [
    "import  pandas  as  pd\n",
    "import numpy as np\n",
    "import os\n",
    "import requests\n",
    "import matplotlib.pyplot as plt\n",
    "import geopandas as gpd\n",
    "import pyproj\n",
    "import datetime\n",
    "from geopandas import GeoDataFrame as gdf\n",
    "from shapely.geometry import Point\n",
    "from shapely.geometry import Polygon\n",
    "import json\n",
    "import sys\n",
    "sys.path.append('/Users/alenastern/Documents/Spring2018/Machine_Learning/evictions-learn/src/data')\n",
    "import scraper as sp\n",
    "%matplotlib inline"
   ]
  },
  {
   "cell_type": "markdown",
   "metadata": {},
   "source": [
    "# Querying Census API"
   ]
  },
  {
   "cell_type": "code",
   "execution_count": 2,
   "metadata": {
    "collapsed": true
   },
   "outputs": [],
   "source": [
    "state_list = ['18', '17', '26', '39', '55', '10', '11', '12', '13', '24', '37', '45', '51', '54']\n",
    "df = pd.read_table('national_county.txt', sep = ',', converters={'01': lambda x: str(x), '001': lambda x: str(x)})\n",
    "df = df[df['01'].isin(state_list)]"
   ]
  },
  {
   "cell_type": "code",
   "execution_count": 3,
   "metadata": {
    "collapsed": true
   },
   "outputs": [],
   "source": [
    "df['county'] = df['01'] + df['001']"
   ]
  },
  {
   "cell_type": "code",
   "execution_count": 4,
   "metadata": {},
   "outputs": [
    {
     "data": {
      "text/plain": [
       "1026"
      ]
     },
     "execution_count": 4,
     "metadata": {},
     "output_type": "execute_result"
    }
   ],
   "source": [
    "len(df)"
   ]
  },
  {
   "cell_type": "code",
   "execution_count": 5,
   "metadata": {},
   "outputs": [
    {
     "name": "stdout",
     "output_type": "stream",
     "text": [
      "10 003\n",
      "10 005\n",
      "11 001\n",
      "12 001\n",
      "12 003\n",
      "12 005\n",
      "12 007\n",
      "12 009\n",
      "12 011\n",
      "12 013\n",
      "12 015\n",
      "12 017\n",
      "12 019\n",
      "12 021\n",
      "12 023\n",
      "12 027\n",
      "12 029\n",
      "12 031\n",
      "12 033\n",
      "12 035\n",
      "12 037\n",
      "12 039\n",
      "12 041\n",
      "12 043\n",
      "12 045\n",
      "12 047\n",
      "12 049\n",
      "12 051\n",
      "12 053\n",
      "12 055\n",
      "12 057\n",
      "12 059\n",
      "12 061\n",
      "12 063\n",
      "12 065\n",
      "12 067\n",
      "12 069\n",
      "12 071\n",
      "12 073\n",
      "12 075\n",
      "12 077\n",
      "12 079\n",
      "12 081\n",
      "12 083\n",
      "12 085\n",
      "12 086\n",
      "12 087\n",
      "12 089\n",
      "12 091\n",
      "12 093\n",
      "12 095\n",
      "12 097\n",
      "12 099\n",
      "12 101\n",
      "12 103\n",
      "12 105\n",
      "12 107\n",
      "12 109\n",
      "12 111\n",
      "12 113\n",
      "12 115\n",
      "12 117\n",
      "12 119\n",
      "12 121\n",
      "12 123\n",
      "12 125\n",
      "12 127\n",
      "12 129\n",
      "12 131\n",
      "12 133\n",
      "13 001\n",
      "13 003\n",
      "13 005\n",
      "13 007\n",
      "13 009\n",
      "13 011\n",
      "13 013\n",
      "13 015\n",
      "13 017\n",
      "13 019\n",
      "13 021\n",
      "13 023\n",
      "13 025\n",
      "13 027\n",
      "13 029\n",
      "13 031\n",
      "13 033\n",
      "13 035\n",
      "13 037\n",
      "13 039\n",
      "13 043\n",
      "13 045\n",
      "13 047\n",
      "13 049\n",
      "13 051\n",
      "13 053\n",
      "13 055\n",
      "13 057\n",
      "13 059\n",
      "13 061\n",
      "13 063\n",
      "13 065\n",
      "13 067\n",
      "13 069\n",
      "13 071\n",
      "13 073\n",
      "13 075\n",
      "13 077\n",
      "13 079\n",
      "13 081\n",
      "13 083\n",
      "13 085\n",
      "13 087\n",
      "13 089\n",
      "13 091\n",
      "13 093\n",
      "13 095\n",
      "13 097\n",
      "13 099\n",
      "13 101\n",
      "13 103\n",
      "13 105\n",
      "13 107\n",
      "13 109\n",
      "13 111\n",
      "13 113\n",
      "13 115\n",
      "13 117\n",
      "13 119\n",
      "13 121\n",
      "13 123\n",
      "13 125\n",
      "13 127\n",
      "13 129\n",
      "13 131\n",
      "13 133\n",
      "13 135\n",
      "13 137\n",
      "13 139\n",
      "13 141\n",
      "13 143\n",
      "13 145\n",
      "13 147\n",
      "13 149\n",
      "13 151\n",
      "13 153\n",
      "13 155\n",
      "13 157\n",
      "13 159\n",
      "13 161\n",
      "13 163\n",
      "13 165\n",
      "13 167\n",
      "13 169\n",
      "13 171\n",
      "13 173\n",
      "13 175\n",
      "13 177\n",
      "13 179\n",
      "13 181\n",
      "13 183\n",
      "13 185\n",
      "13 187\n",
      "13 189\n",
      "13 191\n",
      "13 193\n",
      "13 195\n",
      "13 197\n",
      "13 199\n",
      "13 201\n",
      "13 205\n",
      "13 207\n",
      "13 209\n",
      "13 211\n",
      "13 213\n",
      "13 215\n",
      "13 217\n",
      "13 219\n",
      "13 221\n",
      "13 223\n",
      "13 225\n",
      "13 227\n",
      "13 229\n",
      "13 231\n",
      "13 233\n",
      "13 235\n",
      "13 237\n",
      "13 239\n",
      "13 241\n",
      "13 243\n",
      "13 245\n",
      "13 247\n",
      "13 249\n",
      "13 251\n",
      "13 253\n",
      "13 255\n",
      "13 257\n",
      "13 259\n",
      "13 261\n",
      "13 263\n",
      "13 265\n",
      "13 267\n",
      "13 269\n",
      "13 271\n",
      "13 273\n",
      "13 275\n",
      "13 277\n",
      "13 279\n",
      "13 281\n",
      "13 283\n",
      "13 285\n",
      "13 287\n",
      "13 289\n",
      "13 291\n",
      "13 293\n",
      "13 295\n",
      "13 297\n",
      "13 299\n",
      "13 301\n",
      "13 303\n",
      "13 305\n",
      "13 307\n",
      "13 309\n",
      "13 311\n",
      "13 313\n",
      "13 315\n",
      "13 317\n",
      "13 319\n",
      "13 321\n",
      "17 001\n",
      "17 003\n",
      "17 005\n",
      "17 007\n",
      "17 009\n",
      "17 011\n",
      "17 013\n",
      "17 015\n",
      "17 017\n",
      "17 019\n",
      "17 021\n",
      "17 023\n",
      "17 025\n",
      "17 027\n",
      "17 029\n",
      "17 031\n",
      "17 033\n",
      "17 035\n",
      "17 037\n",
      "17 039\n",
      "17 041\n",
      "17 043\n",
      "17 045\n",
      "17 047\n",
      "17 049\n",
      "17 051\n",
      "17 053\n",
      "17 055\n",
      "17 057\n",
      "17 059\n",
      "17 061\n",
      "17 063\n",
      "17 065\n",
      "17 067\n",
      "17 069\n",
      "17 071\n",
      "17 073\n",
      "17 075\n",
      "17 077\n",
      "17 079\n",
      "17 081\n",
      "17 083\n",
      "17 085\n",
      "17 087\n",
      "17 089\n",
      "17 091\n",
      "17 093\n",
      "17 095\n",
      "17 097\n",
      "17 099\n",
      "17 101\n",
      "17 103\n",
      "17 105\n",
      "17 107\n",
      "17 109\n",
      "17 111\n",
      "17 113\n",
      "17 115\n",
      "17 117\n",
      "17 119\n",
      "17 121\n",
      "17 123\n",
      "17 125\n",
      "17 127\n",
      "17 129\n",
      "17 131\n",
      "17 133\n",
      "17 135\n",
      "17 137\n",
      "17 139\n",
      "17 141\n",
      "17 143\n",
      "17 145\n",
      "17 147\n",
      "17 149\n",
      "17 151\n",
      "17 153\n",
      "17 155\n",
      "17 157\n",
      "17 159\n",
      "17 161\n"
     ]
    },
    {
     "ename": "KeyboardInterrupt",
     "evalue": "",
     "output_type": "error",
     "traceback": [
      "\u001b[0;31m---------------------------------------------------------------------------\u001b[0m",
      "\u001b[0;31mKeyboardInterrupt\u001b[0m                         Traceback (most recent call last)",
      "\u001b[0;32m<ipython-input-5-e8d42e8bb783>\u001b[0m in \u001b[0;36m<module>\u001b[0;34m()\u001b[0m\n\u001b[1;32m      7\u001b[0m \u001b[0;31m# Query ACS Data from Census API\u001b[0m\u001b[0;34m\u001b[0m\u001b[0;34m\u001b[0m\u001b[0m\n\u001b[1;32m      8\u001b[0m \u001b[0;32mfor\u001b[0m \u001b[0mi\u001b[0m \u001b[0;32min\u001b[0m \u001b[0mrange\u001b[0m\u001b[0;34m(\u001b[0m\u001b[0;36m1\u001b[0m\u001b[0;34m,\u001b[0m \u001b[0mlen\u001b[0m\u001b[0;34m(\u001b[0m\u001b[0mdf\u001b[0m\u001b[0;34m)\u001b[0m\u001b[0;34m)\u001b[0m\u001b[0;34m:\u001b[0m\u001b[0;34m\u001b[0m\u001b[0m\n\u001b[0;32m----> 9\u001b[0;31m     \u001b[0macs_results_2016\u001b[0m \u001b[0;34m=\u001b[0m \u001b[0mrequests\u001b[0m\u001b[0;34m.\u001b[0m\u001b[0mget\u001b[0m\u001b[0;34m(\u001b[0m\u001b[0;34m'https://api.census.gov/data/2016/acs/acs5?get=NAME,B15002_001E,B15003_022E,B15003_023E,B15003_024E,B15003_025E,B25010_001E&for=block%20group:*&in=state:{}%20county:{}&key=91aa6a44edb890abeea862f2d9befb5d520a5cc4'\u001b[0m\u001b[0;34m.\u001b[0m\u001b[0mformat\u001b[0m\u001b[0;34m(\u001b[0m\u001b[0mdf\u001b[0m\u001b[0;34m.\u001b[0m\u001b[0miloc\u001b[0m\u001b[0;34m[\u001b[0m\u001b[0mi\u001b[0m\u001b[0;34m,\u001b[0m\u001b[0;36m1\u001b[0m\u001b[0;34m]\u001b[0m\u001b[0;34m,\u001b[0m \u001b[0mdf\u001b[0m\u001b[0;34m.\u001b[0m\u001b[0miloc\u001b[0m\u001b[0;34m[\u001b[0m\u001b[0mi\u001b[0m\u001b[0;34m,\u001b[0m\u001b[0;36m2\u001b[0m\u001b[0;34m]\u001b[0m\u001b[0;34m)\u001b[0m\u001b[0;34m)\u001b[0m\u001b[0;34m\u001b[0m\u001b[0m\n\u001b[0m\u001b[1;32m     10\u001b[0m     \u001b[0mprint\u001b[0m\u001b[0;34m(\u001b[0m\u001b[0mdf\u001b[0m\u001b[0;34m.\u001b[0m\u001b[0miloc\u001b[0m\u001b[0;34m[\u001b[0m\u001b[0mi\u001b[0m\u001b[0;34m,\u001b[0m\u001b[0;36m1\u001b[0m\u001b[0;34m]\u001b[0m\u001b[0;34m,\u001b[0m \u001b[0mdf\u001b[0m\u001b[0;34m.\u001b[0m\u001b[0miloc\u001b[0m\u001b[0;34m[\u001b[0m\u001b[0mi\u001b[0m\u001b[0;34m,\u001b[0m\u001b[0;36m2\u001b[0m\u001b[0;34m]\u001b[0m\u001b[0;34m)\u001b[0m\u001b[0;34m\u001b[0m\u001b[0m\n\u001b[1;32m     11\u001b[0m     \u001b[0;32mif\u001b[0m \u001b[0macs_results_2016\u001b[0m\u001b[0;34m.\u001b[0m\u001b[0mstatus_code\u001b[0m \u001b[0;34m!=\u001b[0m \u001b[0;36m204\u001b[0m\u001b[0;34m:\u001b[0m\u001b[0;34m\u001b[0m\u001b[0m\n",
      "\u001b[0;32m~/anaconda3/lib/python3.6/site-packages/requests/api.py\u001b[0m in \u001b[0;36mget\u001b[0;34m(url, params, **kwargs)\u001b[0m\n\u001b[1;32m     70\u001b[0m \u001b[0;34m\u001b[0m\u001b[0m\n\u001b[1;32m     71\u001b[0m     \u001b[0mkwargs\u001b[0m\u001b[0;34m.\u001b[0m\u001b[0msetdefault\u001b[0m\u001b[0;34m(\u001b[0m\u001b[0;34m'allow_redirects'\u001b[0m\u001b[0;34m,\u001b[0m \u001b[0;32mTrue\u001b[0m\u001b[0;34m)\u001b[0m\u001b[0;34m\u001b[0m\u001b[0m\n\u001b[0;32m---> 72\u001b[0;31m     \u001b[0;32mreturn\u001b[0m \u001b[0mrequest\u001b[0m\u001b[0;34m(\u001b[0m\u001b[0;34m'get'\u001b[0m\u001b[0;34m,\u001b[0m \u001b[0murl\u001b[0m\u001b[0;34m,\u001b[0m \u001b[0mparams\u001b[0m\u001b[0;34m=\u001b[0m\u001b[0mparams\u001b[0m\u001b[0;34m,\u001b[0m \u001b[0;34m**\u001b[0m\u001b[0mkwargs\u001b[0m\u001b[0;34m)\u001b[0m\u001b[0;34m\u001b[0m\u001b[0m\n\u001b[0m\u001b[1;32m     73\u001b[0m \u001b[0;34m\u001b[0m\u001b[0m\n\u001b[1;32m     74\u001b[0m \u001b[0;34m\u001b[0m\u001b[0m\n",
      "\u001b[0;32m~/anaconda3/lib/python3.6/site-packages/requests/api.py\u001b[0m in \u001b[0;36mrequest\u001b[0;34m(method, url, **kwargs)\u001b[0m\n\u001b[1;32m     56\u001b[0m     \u001b[0;31m# cases, and look like a memory leak in others.\u001b[0m\u001b[0;34m\u001b[0m\u001b[0;34m\u001b[0m\u001b[0m\n\u001b[1;32m     57\u001b[0m     \u001b[0;32mwith\u001b[0m \u001b[0msessions\u001b[0m\u001b[0;34m.\u001b[0m\u001b[0mSession\u001b[0m\u001b[0;34m(\u001b[0m\u001b[0;34m)\u001b[0m \u001b[0;32mas\u001b[0m \u001b[0msession\u001b[0m\u001b[0;34m:\u001b[0m\u001b[0;34m\u001b[0m\u001b[0m\n\u001b[0;32m---> 58\u001b[0;31m         \u001b[0;32mreturn\u001b[0m \u001b[0msession\u001b[0m\u001b[0;34m.\u001b[0m\u001b[0mrequest\u001b[0m\u001b[0;34m(\u001b[0m\u001b[0mmethod\u001b[0m\u001b[0;34m=\u001b[0m\u001b[0mmethod\u001b[0m\u001b[0;34m,\u001b[0m \u001b[0murl\u001b[0m\u001b[0;34m=\u001b[0m\u001b[0murl\u001b[0m\u001b[0;34m,\u001b[0m \u001b[0;34m**\u001b[0m\u001b[0mkwargs\u001b[0m\u001b[0;34m)\u001b[0m\u001b[0;34m\u001b[0m\u001b[0m\n\u001b[0m\u001b[1;32m     59\u001b[0m \u001b[0;34m\u001b[0m\u001b[0m\n\u001b[1;32m     60\u001b[0m \u001b[0;34m\u001b[0m\u001b[0m\n",
      "\u001b[0;32m~/anaconda3/lib/python3.6/site-packages/requests/sessions.py\u001b[0m in \u001b[0;36mrequest\u001b[0;34m(self, method, url, params, data, headers, cookies, files, auth, timeout, allow_redirects, proxies, hooks, stream, verify, cert, json)\u001b[0m\n\u001b[1;32m    506\u001b[0m         }\n\u001b[1;32m    507\u001b[0m         \u001b[0msend_kwargs\u001b[0m\u001b[0;34m.\u001b[0m\u001b[0mupdate\u001b[0m\u001b[0;34m(\u001b[0m\u001b[0msettings\u001b[0m\u001b[0;34m)\u001b[0m\u001b[0;34m\u001b[0m\u001b[0m\n\u001b[0;32m--> 508\u001b[0;31m         \u001b[0mresp\u001b[0m \u001b[0;34m=\u001b[0m \u001b[0mself\u001b[0m\u001b[0;34m.\u001b[0m\u001b[0msend\u001b[0m\u001b[0;34m(\u001b[0m\u001b[0mprep\u001b[0m\u001b[0;34m,\u001b[0m \u001b[0;34m**\u001b[0m\u001b[0msend_kwargs\u001b[0m\u001b[0;34m)\u001b[0m\u001b[0;34m\u001b[0m\u001b[0m\n\u001b[0m\u001b[1;32m    509\u001b[0m \u001b[0;34m\u001b[0m\u001b[0m\n\u001b[1;32m    510\u001b[0m         \u001b[0;32mreturn\u001b[0m \u001b[0mresp\u001b[0m\u001b[0;34m\u001b[0m\u001b[0m\n",
      "\u001b[0;32m~/anaconda3/lib/python3.6/site-packages/requests/sessions.py\u001b[0m in \u001b[0;36msend\u001b[0;34m(self, request, **kwargs)\u001b[0m\n\u001b[1;32m    616\u001b[0m \u001b[0;34m\u001b[0m\u001b[0m\n\u001b[1;32m    617\u001b[0m         \u001b[0;31m# Send the request\u001b[0m\u001b[0;34m\u001b[0m\u001b[0;34m\u001b[0m\u001b[0m\n\u001b[0;32m--> 618\u001b[0;31m         \u001b[0mr\u001b[0m \u001b[0;34m=\u001b[0m \u001b[0madapter\u001b[0m\u001b[0;34m.\u001b[0m\u001b[0msend\u001b[0m\u001b[0;34m(\u001b[0m\u001b[0mrequest\u001b[0m\u001b[0;34m,\u001b[0m \u001b[0;34m**\u001b[0m\u001b[0mkwargs\u001b[0m\u001b[0;34m)\u001b[0m\u001b[0;34m\u001b[0m\u001b[0m\n\u001b[0m\u001b[1;32m    619\u001b[0m \u001b[0;34m\u001b[0m\u001b[0m\n\u001b[1;32m    620\u001b[0m         \u001b[0;31m# Total elapsed time of the request (approximately)\u001b[0m\u001b[0;34m\u001b[0m\u001b[0;34m\u001b[0m\u001b[0m\n",
      "\u001b[0;32m~/anaconda3/lib/python3.6/site-packages/requests/adapters.py\u001b[0m in \u001b[0;36msend\u001b[0;34m(self, request, stream, timeout, verify, cert, proxies)\u001b[0m\n\u001b[1;32m    438\u001b[0m                     \u001b[0mdecode_content\u001b[0m\u001b[0;34m=\u001b[0m\u001b[0;32mFalse\u001b[0m\u001b[0;34m,\u001b[0m\u001b[0;34m\u001b[0m\u001b[0m\n\u001b[1;32m    439\u001b[0m                     \u001b[0mretries\u001b[0m\u001b[0;34m=\u001b[0m\u001b[0mself\u001b[0m\u001b[0;34m.\u001b[0m\u001b[0mmax_retries\u001b[0m\u001b[0;34m,\u001b[0m\u001b[0;34m\u001b[0m\u001b[0m\n\u001b[0;32m--> 440\u001b[0;31m                     \u001b[0mtimeout\u001b[0m\u001b[0;34m=\u001b[0m\u001b[0mtimeout\u001b[0m\u001b[0;34m\u001b[0m\u001b[0m\n\u001b[0m\u001b[1;32m    441\u001b[0m                 )\n\u001b[1;32m    442\u001b[0m \u001b[0;34m\u001b[0m\u001b[0m\n",
      "\u001b[0;32m~/anaconda3/lib/python3.6/site-packages/urllib3/connectionpool.py\u001b[0m in \u001b[0;36murlopen\u001b[0;34m(self, method, url, body, headers, retries, redirect, assert_same_host, timeout, pool_timeout, release_conn, chunked, body_pos, **response_kw)\u001b[0m\n\u001b[1;32m    599\u001b[0m                                                   \u001b[0mtimeout\u001b[0m\u001b[0;34m=\u001b[0m\u001b[0mtimeout_obj\u001b[0m\u001b[0;34m,\u001b[0m\u001b[0;34m\u001b[0m\u001b[0m\n\u001b[1;32m    600\u001b[0m                                                   \u001b[0mbody\u001b[0m\u001b[0;34m=\u001b[0m\u001b[0mbody\u001b[0m\u001b[0;34m,\u001b[0m \u001b[0mheaders\u001b[0m\u001b[0;34m=\u001b[0m\u001b[0mheaders\u001b[0m\u001b[0;34m,\u001b[0m\u001b[0;34m\u001b[0m\u001b[0m\n\u001b[0;32m--> 601\u001b[0;31m                                                   chunked=chunked)\n\u001b[0m\u001b[1;32m    602\u001b[0m \u001b[0;34m\u001b[0m\u001b[0m\n\u001b[1;32m    603\u001b[0m             \u001b[0;31m# If we're going to release the connection in ``finally:``, then\u001b[0m\u001b[0;34m\u001b[0m\u001b[0;34m\u001b[0m\u001b[0m\n",
      "\u001b[0;32m~/anaconda3/lib/python3.6/site-packages/urllib3/connectionpool.py\u001b[0m in \u001b[0;36m_make_request\u001b[0;34m(self, conn, method, url, timeout, chunked, **httplib_request_kw)\u001b[0m\n\u001b[1;32m    344\u001b[0m         \u001b[0;31m# Trigger any extra validation we need to do.\u001b[0m\u001b[0;34m\u001b[0m\u001b[0;34m\u001b[0m\u001b[0m\n\u001b[1;32m    345\u001b[0m         \u001b[0;32mtry\u001b[0m\u001b[0;34m:\u001b[0m\u001b[0;34m\u001b[0m\u001b[0m\n\u001b[0;32m--> 346\u001b[0;31m             \u001b[0mself\u001b[0m\u001b[0;34m.\u001b[0m\u001b[0m_validate_conn\u001b[0m\u001b[0;34m(\u001b[0m\u001b[0mconn\u001b[0m\u001b[0;34m)\u001b[0m\u001b[0;34m\u001b[0m\u001b[0m\n\u001b[0m\u001b[1;32m    347\u001b[0m         \u001b[0;32mexcept\u001b[0m \u001b[0;34m(\u001b[0m\u001b[0mSocketTimeout\u001b[0m\u001b[0;34m,\u001b[0m \u001b[0mBaseSSLError\u001b[0m\u001b[0;34m)\u001b[0m \u001b[0;32mas\u001b[0m \u001b[0me\u001b[0m\u001b[0;34m:\u001b[0m\u001b[0;34m\u001b[0m\u001b[0m\n\u001b[1;32m    348\u001b[0m             \u001b[0;31m# Py2 raises this as a BaseSSLError, Py3 raises it as socket timeout.\u001b[0m\u001b[0;34m\u001b[0m\u001b[0;34m\u001b[0m\u001b[0m\n",
      "\u001b[0;32m~/anaconda3/lib/python3.6/site-packages/urllib3/connectionpool.py\u001b[0m in \u001b[0;36m_validate_conn\u001b[0;34m(self, conn)\u001b[0m\n\u001b[1;32m    848\u001b[0m         \u001b[0;31m# Force connect early to allow us to validate the connection.\u001b[0m\u001b[0;34m\u001b[0m\u001b[0;34m\u001b[0m\u001b[0m\n\u001b[1;32m    849\u001b[0m         \u001b[0;32mif\u001b[0m \u001b[0;32mnot\u001b[0m \u001b[0mgetattr\u001b[0m\u001b[0;34m(\u001b[0m\u001b[0mconn\u001b[0m\u001b[0;34m,\u001b[0m \u001b[0;34m'sock'\u001b[0m\u001b[0;34m,\u001b[0m \u001b[0;32mNone\u001b[0m\u001b[0;34m)\u001b[0m\u001b[0;34m:\u001b[0m  \u001b[0;31m# AppEngine might not have  `.sock`\u001b[0m\u001b[0;34m\u001b[0m\u001b[0m\n\u001b[0;32m--> 850\u001b[0;31m             \u001b[0mconn\u001b[0m\u001b[0;34m.\u001b[0m\u001b[0mconnect\u001b[0m\u001b[0;34m(\u001b[0m\u001b[0;34m)\u001b[0m\u001b[0;34m\u001b[0m\u001b[0m\n\u001b[0m\u001b[1;32m    851\u001b[0m \u001b[0;34m\u001b[0m\u001b[0m\n\u001b[1;32m    852\u001b[0m         \u001b[0;32mif\u001b[0m \u001b[0;32mnot\u001b[0m \u001b[0mconn\u001b[0m\u001b[0;34m.\u001b[0m\u001b[0mis_verified\u001b[0m\u001b[0;34m:\u001b[0m\u001b[0;34m\u001b[0m\u001b[0m\n",
      "\u001b[0;32m~/anaconda3/lib/python3.6/site-packages/urllib3/connection.py\u001b[0m in \u001b[0;36mconnect\u001b[0;34m(self)\u001b[0m\n\u001b[1;32m    324\u001b[0m             \u001b[0mca_cert_dir\u001b[0m\u001b[0;34m=\u001b[0m\u001b[0mself\u001b[0m\u001b[0;34m.\u001b[0m\u001b[0mca_cert_dir\u001b[0m\u001b[0;34m,\u001b[0m\u001b[0;34m\u001b[0m\u001b[0m\n\u001b[1;32m    325\u001b[0m             \u001b[0mserver_hostname\u001b[0m\u001b[0;34m=\u001b[0m\u001b[0mhostname\u001b[0m\u001b[0;34m,\u001b[0m\u001b[0;34m\u001b[0m\u001b[0m\n\u001b[0;32m--> 326\u001b[0;31m             ssl_context=context)\n\u001b[0m\u001b[1;32m    327\u001b[0m \u001b[0;34m\u001b[0m\u001b[0m\n\u001b[1;32m    328\u001b[0m         \u001b[0;32mif\u001b[0m \u001b[0mself\u001b[0m\u001b[0;34m.\u001b[0m\u001b[0massert_fingerprint\u001b[0m\u001b[0;34m:\u001b[0m\u001b[0;34m\u001b[0m\u001b[0m\n",
      "\u001b[0;32m~/anaconda3/lib/python3.6/site-packages/urllib3/util/ssl_.py\u001b[0m in \u001b[0;36mssl_wrap_socket\u001b[0;34m(sock, keyfile, certfile, cert_reqs, ca_certs, server_hostname, ssl_version, ciphers, ssl_context, ca_cert_dir)\u001b[0m\n\u001b[1;32m    327\u001b[0m         \u001b[0mcontext\u001b[0m\u001b[0;34m.\u001b[0m\u001b[0mload_cert_chain\u001b[0m\u001b[0;34m(\u001b[0m\u001b[0mcertfile\u001b[0m\u001b[0;34m,\u001b[0m \u001b[0mkeyfile\u001b[0m\u001b[0;34m)\u001b[0m\u001b[0;34m\u001b[0m\u001b[0m\n\u001b[1;32m    328\u001b[0m     \u001b[0;32mif\u001b[0m \u001b[0mHAS_SNI\u001b[0m\u001b[0;34m:\u001b[0m  \u001b[0;31m# Platform-specific: OpenSSL with enabled SNI\u001b[0m\u001b[0;34m\u001b[0m\u001b[0m\n\u001b[0;32m--> 329\u001b[0;31m         \u001b[0;32mreturn\u001b[0m \u001b[0mcontext\u001b[0m\u001b[0;34m.\u001b[0m\u001b[0mwrap_socket\u001b[0m\u001b[0;34m(\u001b[0m\u001b[0msock\u001b[0m\u001b[0;34m,\u001b[0m \u001b[0mserver_hostname\u001b[0m\u001b[0;34m=\u001b[0m\u001b[0mserver_hostname\u001b[0m\u001b[0;34m)\u001b[0m\u001b[0;34m\u001b[0m\u001b[0m\n\u001b[0m\u001b[1;32m    330\u001b[0m \u001b[0;34m\u001b[0m\u001b[0m\n\u001b[1;32m    331\u001b[0m     warnings.warn(\n",
      "\u001b[0;32m~/anaconda3/lib/python3.6/site-packages/urllib3/contrib/pyopenssl.py\u001b[0m in \u001b[0;36mwrap_socket\u001b[0;34m(self, sock, server_side, do_handshake_on_connect, suppress_ragged_eofs, server_hostname)\u001b[0m\n\u001b[1;32m    439\u001b[0m         \u001b[0;32mwhile\u001b[0m \u001b[0;32mTrue\u001b[0m\u001b[0;34m:\u001b[0m\u001b[0;34m\u001b[0m\u001b[0m\n\u001b[1;32m    440\u001b[0m             \u001b[0;32mtry\u001b[0m\u001b[0;34m:\u001b[0m\u001b[0;34m\u001b[0m\u001b[0m\n\u001b[0;32m--> 441\u001b[0;31m                 \u001b[0mcnx\u001b[0m\u001b[0;34m.\u001b[0m\u001b[0mdo_handshake\u001b[0m\u001b[0;34m(\u001b[0m\u001b[0;34m)\u001b[0m\u001b[0;34m\u001b[0m\u001b[0m\n\u001b[0m\u001b[1;32m    442\u001b[0m             \u001b[0;32mexcept\u001b[0m \u001b[0mOpenSSL\u001b[0m\u001b[0;34m.\u001b[0m\u001b[0mSSL\u001b[0m\u001b[0;34m.\u001b[0m\u001b[0mWantReadError\u001b[0m\u001b[0;34m:\u001b[0m\u001b[0;34m\u001b[0m\u001b[0m\n\u001b[1;32m    443\u001b[0m                 \u001b[0mrd\u001b[0m \u001b[0;34m=\u001b[0m \u001b[0mutil\u001b[0m\u001b[0;34m.\u001b[0m\u001b[0mwait_for_read\u001b[0m\u001b[0;34m(\u001b[0m\u001b[0msock\u001b[0m\u001b[0;34m,\u001b[0m \u001b[0msock\u001b[0m\u001b[0;34m.\u001b[0m\u001b[0mgettimeout\u001b[0m\u001b[0;34m(\u001b[0m\u001b[0;34m)\u001b[0m\u001b[0;34m)\u001b[0m\u001b[0;34m\u001b[0m\u001b[0m\n",
      "\u001b[0;32m~/anaconda3/lib/python3.6/site-packages/OpenSSL/SSL.py\u001b[0m in \u001b[0;36mdo_handshake\u001b[0;34m(self)\u001b[0m\n\u001b[1;32m   1713\u001b[0m         \u001b[0;34m:\u001b[0m\u001b[0;32mreturn\u001b[0m\u001b[0;34m:\u001b[0m \u001b[0;32mNone\u001b[0m\u001b[0;34m.\u001b[0m\u001b[0;34m\u001b[0m\u001b[0m\n\u001b[1;32m   1714\u001b[0m         \"\"\"\n\u001b[0;32m-> 1715\u001b[0;31m         \u001b[0mresult\u001b[0m \u001b[0;34m=\u001b[0m \u001b[0m_lib\u001b[0m\u001b[0;34m.\u001b[0m\u001b[0mSSL_do_handshake\u001b[0m\u001b[0;34m(\u001b[0m\u001b[0mself\u001b[0m\u001b[0;34m.\u001b[0m\u001b[0m_ssl\u001b[0m\u001b[0;34m)\u001b[0m\u001b[0;34m\u001b[0m\u001b[0m\n\u001b[0m\u001b[1;32m   1716\u001b[0m         \u001b[0mself\u001b[0m\u001b[0;34m.\u001b[0m\u001b[0m_raise_ssl_error\u001b[0m\u001b[0;34m(\u001b[0m\u001b[0mself\u001b[0m\u001b[0;34m.\u001b[0m\u001b[0m_ssl\u001b[0m\u001b[0;34m,\u001b[0m \u001b[0mresult\u001b[0m\u001b[0;34m)\u001b[0m\u001b[0;34m\u001b[0m\u001b[0m\n\u001b[1;32m   1717\u001b[0m \u001b[0;34m\u001b[0m\u001b[0m\n",
      "\u001b[0;31mKeyboardInterrupt\u001b[0m: "
     ]
    }
   ],
   "source": [
    "acs_results_2016 = requests.get('https://api.census.gov/data/2016/acs/acs5?get=NAME,B15002_001E,B15003_022E,B15003_023E,B15003_024E,B15003_025E,B25010_001E&for=block%20group:*&in=state:10%20county:001&key=91aa6a44edb890abeea862f2d9befb5d520a5cc4')\n",
    "data = acs_results_2016.text\n",
    "total_df = pd.read_json(data)\n",
    "errors = []\n",
    "\n",
    "\n",
    "# Query ACS Data from Census API\n",
    "for i in range(1, len(df)):\n",
    "    acs_results_2016 = requests.get('https://api.census.gov/data/2016/acs/acs5?get=NAME,B15002_001E,B15003_022E,B15003_023E,B15003_024E,B15003_025E,B25010_001E&for=block%20group:*&in=state:{}%20county:{}&key=91aa6a44edb890abeea862f2d9befb5d520a5cc4'.format(df.iloc[i,1], df.iloc[i,2]))\n",
    "    print(df.iloc[i,1], df.iloc[i,2])\n",
    "    if acs_results_2016.status_code != 204:\n",
    "        data = acs_results_2016.text\n",
    "        acs_df = pd.read_json(data)\n",
    "        total_df = pd.concat([total_df, acs_df])\n",
    "    else:\n",
    "        errors.append([df.iloc[i,1], df.iloc[i,2]])\n",
    "\n"
   ]
  },
  {
   "cell_type": "code",
   "execution_count": null,
   "metadata": {
    "collapsed": true
   },
   "outputs": [],
   "source": [
    "# Clean ACS data frame and rename columns# Clean  \n",
    "variables = {'B15002_001E': \"total_pop_over25\", 'B15003_022E': \"bachelors\", 'B15003_023E': \"masters\", 'B15003_024E': \"professional\", 'B15003_024E': \"doctorate\"\n",
    "            'B25010_001E': \"avg_hh_size\"}\n",
    "acs_df.columns = acs_df.iloc[0]\n",
    "acs_df.drop([0], inplace = True)\n",
    "acs_df.rename(columns = variables, inplace=True)"
   ]
  },
  {
   "cell_type": "markdown",
   "metadata": {},
   "source": [
    "# Scraping Building Permit Data"
   ]
  },
  {
   "cell_type": "code",
   "execution_count": null,
   "metadata": {
    "collapsed": true
   },
   "outputs": [],
   "source": [
    "ul = sp.scrape_links('https://www2.census.gov/econ/bps/County/', [])"
   ]
  },
  {
   "cell_type": "code",
   "execution_count": null,
   "metadata": {
    "collapsed": true
   },
   "outputs": [],
   "source": [
    "permits = sp.url_to_pd(ul)"
   ]
  },
  {
   "cell_type": "code",
   "execution_count": null,
   "metadata": {
    "collapsed": true
   },
   "outputs": [],
   "source": [
    "permits.columns"
   ]
  },
  {
   "cell_type": "code",
   "execution_count": null,
   "metadata": {
    "collapsed": true
   },
   "outputs": [],
   "source": [
    "permits.iloc[4]"
   ]
  },
  {
   "cell_type": "code",
   "execution_count": null,
   "metadata": {
    "collapsed": true
   },
   "outputs": [],
   "source": [
    "permits = permits.reset_index()"
   ]
  },
  {
   "cell_type": "code",
   "execution_count": null,
   "metadata": {
    "collapsed": true
   },
   "outputs": [],
   "source": [
    "permits.shape"
   ]
  },
  {
   "cell_type": "code",
   "execution_count": null,
   "metadata": {
    "collapsed": true
   },
   "outputs": [],
   "source": [
    "permits = permits[permits.duplicated() == False]"
   ]
  },
  {
   "cell_type": "code",
   "execution_count": null,
   "metadata": {
    "collapsed": true
   },
   "outputs": [],
   "source": [
    "permits.head()"
   ]
  },
  {
   "cell_type": "code",
   "execution_count": null,
   "metadata": {
    "collapsed": true
   },
   "outputs": [],
   "source": [
    "permits.rename(index=str, columns={\"index\": \"year\", \"Survey\": \"state\", \"FIPS\": \"county\", \"FIPS.1\": \"region\",\n",
    "                             \"Region\": \"division\", \"Division\": \"name\", \"County\": \"bldg_1\", \"Unnamed: 6\": \"units_1\",\n",
    "                             \"1-unit\": \"value_1\", \"Unnamed: 8\": \"bldg_2\", \"Unnamed: 9\": \"units_2\", \"2-units\": \"value_2\",\n",
    "                              \"Unnamed: 11\": \"bldg_3\", \"Unnamed: 12\": \"units_3\", \"3-4 units\": \"value_3-4\",\n",
    "                              \"Unnamed: 14\": \"bldg_5\", \"Unnamed: 15\": \"units_5\", \"5+ units\": \"value_5\"}, inplace = True)"
   ]
  },
  {
   "cell_type": "code",
   "execution_count": null,
   "metadata": {
    "collapsed": true
   },
   "outputs": [],
   "source": [
    "permits.drop(['Unnamed: 17', 'Unnamed: 18', '1-unit rep', 'Unnamed: 20',\n",
    "       'Unnamed: 21', '2-units rep', 'Unnamed: 23', 'Unnamed: 24',\n",
    "       '3-4 units rep', 'Unnamed: 26', 'Unnamed: 27', ' 5+units rep'], axis=1, inplace = True)"
   ]
  },
  {
   "cell_type": "code",
   "execution_count": null,
   "metadata": {
    "collapsed": true
   },
   "outputs": [],
   "source": [
    "permits.drop('0', axis = 0, inplace = True)"
   ]
  },
  {
   "cell_type": "code",
   "execution_count": null,
   "metadata": {
    "collapsed": true
   },
   "outputs": [],
   "source": [
    "permits.head()"
   ]
  },
  {
   "cell_type": "code",
   "execution_count": null,
   "metadata": {
    "collapsed": true
   },
   "outputs": [],
   "source": [
    "cols = ['bldg_1', 'units_1', 'value_1', 'bldg_2', 'units_2', 'value_2', 'bldg_3', 'units_3', 'value_3-4',\n",
    "       'bldg_5', 'units_5', 'value_5']\n",
    "\n",
    "permits[cols] = permits[cols].apply(pd.to_numeric, errors='coerce')\n",
    "\n",
    "\n",
    "permits['total_bldg'] = permits['bldg_1'] + permits['bldg_2'] + permits['bldg_3'] + permits['bldg_5'] \n",
    "permits['total_units'] = permits['units_1'] + permits['units_2'] + permits['units_3'] + permits['units_5']\n",
    "permits['total_value'] = permits['value_1'] + permits['value_2'] + permits['value_3-4'] + permits['value_5']"
   ]
  },
  {
   "cell_type": "code",
   "execution_count": null,
   "metadata": {
    "collapsed": true
   },
   "outputs": [],
   "source": [
    "permits_div = permits[(permits['division'] == '3') | (permits['division'] == '5')]"
   ]
  },
  {
   "cell_type": "code",
   "execution_count": null,
   "metadata": {
    "collapsed": true
   },
   "outputs": [],
   "source": [
    "permits_div.iloc[4]"
   ]
  },
  {
   "cell_type": "code",
   "execution_count": null,
   "metadata": {
    "collapsed": true
   },
   "outputs": [],
   "source": [
    "permits_total = permits_div[['year', 'state', 'county', 'region', 'division', 'total_bldg', 'total_units', 'total_value']]"
   ]
  },
  {
   "cell_type": "code",
   "execution_count": null,
   "metadata": {
    "collapsed": true
   },
   "outputs": [],
   "source": [
    "permits_total.head()"
   ]
  },
  {
   "cell_type": "code",
   "execution_count": null,
   "metadata": {
    "collapsed": true
   },
   "outputs": [],
   "source": [
    "permits_total['geo_id'] = permits['state'] + permits['county']"
   ]
  },
  {
   "cell_type": "code",
   "execution_count": null,
   "metadata": {
    "collapsed": true
   },
   "outputs": [],
   "source": [
    "permits_total.total_units = permits_total.total_units.astype(int)\n",
    "permits_total.total_bldg = permits_total.total_bldg.astype(int)"
   ]
  },
  {
   "cell_type": "code",
   "execution_count": null,
   "metadata": {
    "collapsed": true
   },
   "outputs": [],
   "source": [
    "permits_total.head()"
   ]
  },
  {
   "cell_type": "code",
   "execution_count": null,
   "metadata": {
    "collapsed": true
   },
   "outputs": [],
   "source": [
    "permits_total = permits_total[permits_total.duplicated()==False]"
   ]
  },
  {
   "cell_type": "code",
   "execution_count": null,
   "metadata": {
    "collapsed": true
   },
   "outputs": [],
   "source": [
    "permits_total.to_csv('permits.csv', index = False)"
   ]
  },
  {
   "cell_type": "markdown",
   "metadata": {
    "collapsed": true
   },
   "source": [
    "# Household Size Data"
   ]
  },
  {
   "cell_type": "code",
   "execution_count": 3,
   "metadata": {},
   "outputs": [],
   "source": [
    "hs_census = pd.read_csv('raw/census/hhsize.csv')"
   ]
  },
  {
   "cell_type": "code",
   "execution_count": null,
   "metadata": {
    "collapsed": true
   },
   "outputs": [],
   "source": [
    "len(hs_census.iloc[0,0])"
   ]
  },
  {
   "cell_type": "code",
   "execution_count": 4,
   "metadata": {
    "collapsed": true
   },
   "outputs": [],
   "source": [
    "hs_census = hs_census[(hs_census['STATEA'] == 18) | (hs_census['STATEA'] == 17) | (hs_census['STATEA'] == 26) |\n",
    "                     (hs_census['STATEA'] == 39) |\n",
    "                     (hs_census['STATEA'] == 55) |\n",
    "                     (hs_census['STATEA'] == 10) |\n",
    "                     (hs_census['STATEA'] == 11) |\n",
    "                     (hs_census['STATEA'] == 12) |\n",
    "                     (hs_census['STATEA'] == 13) |\n",
    "                     (hs_census['STATEA'] == 24) |\n",
    "                     (hs_census['STATEA'] == 37) |\n",
    "                     (hs_census['STATEA'] == 45) |\n",
    "                     (hs_census['STATEA'] == 51) |\n",
    "                     (hs_census['STATEA'] == 54)]"
   ]
  },
  {
   "cell_type": "code",
   "execution_count": 6,
   "metadata": {},
   "outputs": [],
   "source": [
    "hs_census = hs_census[(hs_census['DATAYEAR'] == 2000) | (hs_census['DATAYEAR'] == 2010) ]"
   ]
  },
  {
   "cell_type": "code",
   "execution_count": 7,
   "metadata": {
    "collapsed": true
   },
   "outputs": [],
   "source": [
    "hs_census.rename(index = str, columns = {'DATAYEAR' : 'Year', 'CM4AA' : 'Total_HH', 'CS2AA': 'HHF_2', 'CS2AB': 'HHF_3', 'CS2AC': 'HHF_4',\n",
    "          'CS2AD' : 'HHF_5', 'CS2AE' : 'HHF_6', 'CS2AF': 'HHF_7', 'CS2AG' : 'HHN_1',\n",
    "          'CS2AH' : 'HHN_2', 'CS2AI' : 'HHN_3', 'CS2AJ': 'HHN_4', 'CS2AK': 'HHN_5',\n",
    "          'CS2AL' : 'HHN_6', 'CS2AM' :'HHN_7'}, inplace = True)"
   ]
  },
  {
   "cell_type": "code",
   "execution_count": 8,
   "metadata": {
    "collapsed": true
   },
   "outputs": [],
   "source": [
    "hs_census['geo_id'] = hs_census.GISJOIN.str[1:3] + hs_census.GISJOIN.str[4:7] + hs_census.GISJOIN.str[8:15] "
   ]
  },
  {
   "cell_type": "code",
   "execution_count": 9,
   "metadata": {
    "collapsed": true
   },
   "outputs": [],
   "source": [
    "hs_census = hs_census[['Year','Total_HH', 'HHF_2', 'HHF_3', 'HHF_4', 'HHF_5', 'HHF_6', 'HHF_7', 'HHN_1', 'HHN_2',\n",
    "                      'HHN_3', 'HHN_4', 'HHN_5', 'HHN_6', 'HHN_7', 'geo_id']]"
   ]
  },
  {
   "cell_type": "code",
   "execution_count": 10,
   "metadata": {
    "collapsed": true
   },
   "outputs": [],
   "source": [
    "hs_census['total_ppl'] = hs_census['HHF_2']*2 + hs_census['HHF_3']*3 + hs_census['HHF_4']*4 + hs_census['HHF_5']*5 + hs_census['HHF_6']*6 + hs_census['HHF_7']*7 + hs_census['HHN_1'] + hs_census['HHN_2']*2 + hs_census['HHN_3']*3 + hs_census['HHN_4']*4 + hs_census['HHN_5']*5 + hs_census['HHN_6']*6 + hs_census['HHN_7']*7"
   ]
  },
  {
   "cell_type": "code",
   "execution_count": 11,
   "metadata": {},
   "outputs": [
    {
     "data": {
      "text/html": [
       "<div>\n",
       "<style scoped>\n",
       "    .dataframe tbody tr th:only-of-type {\n",
       "        vertical-align: middle;\n",
       "    }\n",
       "\n",
       "    .dataframe tbody tr th {\n",
       "        vertical-align: top;\n",
       "    }\n",
       "\n",
       "    .dataframe thead th {\n",
       "        text-align: right;\n",
       "    }\n",
       "</style>\n",
       "<table border=\"1\" class=\"dataframe\">\n",
       "  <thead>\n",
       "    <tr style=\"text-align: right;\">\n",
       "      <th></th>\n",
       "      <th>Year</th>\n",
       "      <th>Total_HH</th>\n",
       "      <th>HHF_2</th>\n",
       "      <th>HHF_3</th>\n",
       "      <th>HHF_4</th>\n",
       "      <th>HHF_5</th>\n",
       "      <th>HHF_6</th>\n",
       "      <th>HHF_7</th>\n",
       "      <th>HHN_1</th>\n",
       "      <th>HHN_2</th>\n",
       "      <th>HHN_3</th>\n",
       "      <th>HHN_4</th>\n",
       "      <th>HHN_5</th>\n",
       "      <th>HHN_6</th>\n",
       "      <th>HHN_7</th>\n",
       "      <th>geo_id</th>\n",
       "      <th>total_ppl</th>\n",
       "    </tr>\n",
       "  </thead>\n",
       "  <tbody>\n",
       "    <tr>\n",
       "      <th>257366</th>\n",
       "      <td>2000</td>\n",
       "      <td>662.0</td>\n",
       "      <td>201.0</td>\n",
       "      <td>123.0</td>\n",
       "      <td>144.0</td>\n",
       "      <td>46.0</td>\n",
       "      <td>18.0</td>\n",
       "      <td>15.0</td>\n",
       "      <td>88.0</td>\n",
       "      <td>20.0</td>\n",
       "      <td>4.0</td>\n",
       "      <td>3.0</td>\n",
       "      <td>0.0</td>\n",
       "      <td>0.0</td>\n",
       "      <td>0.0</td>\n",
       "      <td>100010401001</td>\n",
       "      <td>1942.0</td>\n",
       "    </tr>\n",
       "    <tr>\n",
       "      <th>257367</th>\n",
       "      <td>2000</td>\n",
       "      <td>593.0</td>\n",
       "      <td>182.0</td>\n",
       "      <td>108.0</td>\n",
       "      <td>124.0</td>\n",
       "      <td>39.0</td>\n",
       "      <td>10.0</td>\n",
       "      <td>13.0</td>\n",
       "      <td>87.0</td>\n",
       "      <td>22.0</td>\n",
       "      <td>5.0</td>\n",
       "      <td>3.0</td>\n",
       "      <td>0.0</td>\n",
       "      <td>0.0</td>\n",
       "      <td>0.0</td>\n",
       "      <td>100010401002</td>\n",
       "      <td>1688.0</td>\n",
       "    </tr>\n",
       "    <tr>\n",
       "      <th>257368</th>\n",
       "      <td>2000</td>\n",
       "      <td>595.0</td>\n",
       "      <td>173.0</td>\n",
       "      <td>105.0</td>\n",
       "      <td>83.0</td>\n",
       "      <td>35.0</td>\n",
       "      <td>20.0</td>\n",
       "      <td>26.0</td>\n",
       "      <td>119.0</td>\n",
       "      <td>32.0</td>\n",
       "      <td>1.0</td>\n",
       "      <td>1.0</td>\n",
       "      <td>0.0</td>\n",
       "      <td>0.0</td>\n",
       "      <td>0.0</td>\n",
       "      <td>100010401003</td>\n",
       "      <td>1660.0</td>\n",
       "    </tr>\n",
       "    <tr>\n",
       "      <th>257369</th>\n",
       "      <td>2000</td>\n",
       "      <td>623.0</td>\n",
       "      <td>183.0</td>\n",
       "      <td>93.0</td>\n",
       "      <td>105.0</td>\n",
       "      <td>42.0</td>\n",
       "      <td>11.0</td>\n",
       "      <td>7.0</td>\n",
       "      <td>151.0</td>\n",
       "      <td>23.0</td>\n",
       "      <td>2.0</td>\n",
       "      <td>4.0</td>\n",
       "      <td>1.0</td>\n",
       "      <td>1.0</td>\n",
       "      <td>0.0</td>\n",
       "      <td>100010402011</td>\n",
       "      <td>1620.0</td>\n",
       "    </tr>\n",
       "    <tr>\n",
       "      <th>257370</th>\n",
       "      <td>2000</td>\n",
       "      <td>749.0</td>\n",
       "      <td>174.0</td>\n",
       "      <td>131.0</td>\n",
       "      <td>87.0</td>\n",
       "      <td>47.0</td>\n",
       "      <td>23.0</td>\n",
       "      <td>6.0</td>\n",
       "      <td>224.0</td>\n",
       "      <td>51.0</td>\n",
       "      <td>4.0</td>\n",
       "      <td>0.0</td>\n",
       "      <td>2.0</td>\n",
       "      <td>0.0</td>\n",
       "      <td>0.0</td>\n",
       "      <td>100010402012</td>\n",
       "      <td>1852.0</td>\n",
       "    </tr>\n",
       "  </tbody>\n",
       "</table>\n",
       "</div>"
      ],
      "text/plain": [
       "        Year  Total_HH  HHF_2  HHF_3  HHF_4  HHF_5  HHF_6  HHF_7  HHN_1  \\\n",
       "257366  2000     662.0  201.0  123.0  144.0   46.0   18.0   15.0   88.0   \n",
       "257367  2000     593.0  182.0  108.0  124.0   39.0   10.0   13.0   87.0   \n",
       "257368  2000     595.0  173.0  105.0   83.0   35.0   20.0   26.0  119.0   \n",
       "257369  2000     623.0  183.0   93.0  105.0   42.0   11.0    7.0  151.0   \n",
       "257370  2000     749.0  174.0  131.0   87.0   47.0   23.0    6.0  224.0   \n",
       "\n",
       "        HHN_2  HHN_3  HHN_4  HHN_5  HHN_6  HHN_7        geo_id  total_ppl  \n",
       "257366   20.0    4.0    3.0    0.0    0.0    0.0  100010401001     1942.0  \n",
       "257367   22.0    5.0    3.0    0.0    0.0    0.0  100010401002     1688.0  \n",
       "257368   32.0    1.0    1.0    0.0    0.0    0.0  100010401003     1660.0  \n",
       "257369   23.0    2.0    4.0    1.0    1.0    0.0  100010402011     1620.0  \n",
       "257370   51.0    4.0    0.0    2.0    0.0    0.0  100010402012     1852.0  "
      ]
     },
     "execution_count": 11,
     "metadata": {},
     "output_type": "execute_result"
    }
   ],
   "source": [
    "hs_census.head()"
   ]
  },
  {
   "cell_type": "code",
   "execution_count": 12,
   "metadata": {
    "collapsed": true
   },
   "outputs": [],
   "source": [
    "hs_census['avg_size'] = hs_census['total_ppl']/ hs_census['Total_HH']"
   ]
  },
  {
   "cell_type": "code",
   "execution_count": 14,
   "metadata": {},
   "outputs": [],
   "source": []
  },
  {
   "cell_type": "code",
   "execution_count": null,
   "metadata": {},
   "outputs": [],
   "source": []
  },
  {
   "cell_type": "code",
   "execution_count": 16,
   "metadata": {
    "collapsed": true
   },
   "outputs": [],
   "source": [
    "hs_census_final = hs_census[['Year', 'geo_id', 'avg_size']]"
   ]
  },
  {
   "cell_type": "code",
   "execution_count": 19,
   "metadata": {},
   "outputs": [],
   "source": [
    "hs_census10 = pd.read_csv('raw/census/hhsize_acs_2010.csv')"
   ]
  },
  {
   "cell_type": "code",
   "execution_count": 16,
   "metadata": {},
   "outputs": [
    {
     "data": {
      "text/plain": [
       "Index(['GISJOIN', 'YEAR', 'REGIONA', 'DIVISIONA', 'STATE', 'STATEA', 'COUNTY',\n",
       "       'COUNTYA', 'COUSUBA', 'PLACEA', 'TRACTA', 'BLKGRPA', 'CONCITA',\n",
       "       'AIANHHA', 'RES_ONLYA', 'TRUSTA', 'AITSCEA', 'ANRCA', 'CBSAA', 'CSAA',\n",
       "       'METDIVA', 'NECTAA', 'CNECTAA', 'NECTADIVA', 'UAA', 'CDCURRA', 'SLDUA',\n",
       "       'SLDLA', 'SUBMCDA', 'SDELMA', 'SDSECA', 'SDUNIA', 'PUMA5A', 'BTTRA',\n",
       "       'BTBGA', 'NAME_E', 'JNWE001', 'JNWE002', 'JNWE003', 'JNWE004',\n",
       "       'JNWE005', 'JNWE006', 'JNWE007', 'JNWE008', 'JNWE009', 'JNWE010',\n",
       "       'JNWE011', 'JNWE012', 'JNWE013', 'JNWE014', 'JNWE015', 'JNWE016',\n",
       "       'NAME_M', 'JNWM001', 'JNWM002', 'JNWM003', 'JNWM004', 'JNWM005',\n",
       "       'JNWM006', 'JNWM007', 'JNWM008', 'JNWM009', 'JNWM010', 'JNWM011',\n",
       "       'JNWM012', 'JNWM013', 'JNWM014', 'JNWM015', 'JNWM016'],\n",
       "      dtype='object')"
      ]
     },
     "execution_count": 16,
     "metadata": {},
     "output_type": "execute_result"
    }
   ],
   "source": [
    "hs_census10.columns"
   ]
  },
  {
   "cell_type": "code",
   "execution_count": 20,
   "metadata": {
    "collapsed": true
   },
   "outputs": [],
   "source": [
    "hs_census10.rename(index = str, columns = {'YEAR' : 'Year', 'JNWE001' : 'Total_HH', 'JNWE003': 'HHF_2', 'JNWE004': 'HHF_3', 'JNWE005': 'HHF_4',\n",
    "          'JNWE006' : 'HHF_5', 'JNWE007' : 'HHF_6', 'JNWE008': 'HHF_7', 'JNWE010' : 'HHN_1',\n",
    "          'JNWE011' : 'HHN_2', 'JNWE012' : 'HHN_3', 'JNWE013': 'HHN_4', 'JNWE014': 'HHN_5',\n",
    "          'JNWE015' : 'HHN_6', 'JNWE016' :'HHN_7'}, inplace = True)\n",
    "hs_census10['geo_id'] = hs_census10.GISJOIN.str[1:3] + hs_census10.GISJOIN.str[4:7] + hs_census10.GISJOIN.str[8:15]\n",
    "hs_census10 = hs_census10[['Year','Total_HH', 'HHF_2', 'HHF_3', 'HHF_4', 'HHF_5', 'HHF_6', 'HHF_7', 'HHN_1', 'HHN_2',\n",
    "                      'HHN_3', 'HHN_4', 'HHN_5', 'HHN_6', 'HHN_7', 'geo_id']]\n",
    "hs_census10['total_ppl'] = hs_census10['HHF_2']*2 + hs_census10['HHF_3']*3 + hs_census10['HHF_4']*4 + hs_census10['HHF_5']*5 + hs_census10['HHF_6']*6 + hs_census10['HHF_7']*7 + hs_census10['HHN_1'] + hs_census10['HHN_2']*2 + hs_census10['HHN_3']*3 + hs_census10['HHN_4']*4 + hs_census10['HHN_5']*5 + hs_census10['HHN_6']*6 + hs_census10['HHN_7']*7\n",
    "hs_census10['avg_size'] = hs_census10['total_ppl']/ hs_census10['Total_HH']\n",
    "hs_census_final10 = hs_census10[['Year', 'geo_id', 'avg_size']]"
   ]
  },
  {
   "cell_type": "code",
   "execution_count": null,
   "metadata": {
    "collapsed": true
   },
   "outputs": [],
   "source": []
  },
  {
   "cell_type": "code",
   "execution_count": 11,
   "metadata": {
    "collapsed": true
   },
   "outputs": [],
   "source": [
    "hs_census10['geo_id'] = hs_census10.GISJOIN.str[1:3] + hs_census10.GISJOIN.str[4:7] + hs_census10.GISJOIN.str[8:15] "
   ]
  },
  {
   "cell_type": "code",
   "execution_count": 12,
   "metadata": {
    "collapsed": true
   },
   "outputs": [],
   "source": [
    "hs_census10 = hs_census10[['Year','Total_HH', 'HHF_2', 'HHF_3', 'HHF_4', 'HHF_5', 'HHF_6', 'HHF_7', 'HHN_1', 'HHN_2',\n",
    "                      'HHN_3', 'HHN_4', 'HHN_5', 'HHN_6', 'HHN_7', 'geo_id']]"
   ]
  },
  {
   "cell_type": "code",
   "execution_count": 13,
   "metadata": {
    "collapsed": true
   },
   "outputs": [],
   "source": [
    "hs_census10['total_ppl'] = hs_census10['HHF_2']*2 + hs_census10['HHF_3']*3 + hs_census10['HHF_4']*4 + hs_census10['HHF_5']*5 + hs_census10['HHF_6']*6 + hs_census10['HHF_7']*7 + hs_census10['HHN_1'] + hs_census10['HHN_2']*2 + hs_census10['HHN_3']*3 + hs_census10['HHN_4']*4 + hs_census10['HHN_5']*5 + hs_census10['HHN_6']*6 + hs_census10['HHN_7']*7"
   ]
  },
  {
   "cell_type": "code",
   "execution_count": 21,
   "metadata": {
    "collapsed": true
   },
   "outputs": [],
   "source": [
    "hs_census10['avg_size'] = hs_census10['total_ppl']/ hs_census10['Total_HH']"
   ]
  },
  {
   "cell_type": "code",
   "execution_count": 23,
   "metadata": {
    "collapsed": true
   },
   "outputs": [],
   "source": [
    "hs_census_final10 = hs_census10[['Year', 'geo_id', 'avg_size']]"
   ]
  },
  {
   "cell_type": "code",
   "execution_count": 21,
   "metadata": {},
   "outputs": [
    {
     "data": {
      "text/html": [
       "<div>\n",
       "<style scoped>\n",
       "    .dataframe tbody tr th:only-of-type {\n",
       "        vertical-align: middle;\n",
       "    }\n",
       "\n",
       "    .dataframe tbody tr th {\n",
       "        vertical-align: top;\n",
       "    }\n",
       "\n",
       "    .dataframe thead th {\n",
       "        text-align: right;\n",
       "    }\n",
       "</style>\n",
       "<table border=\"1\" class=\"dataframe\">\n",
       "  <thead>\n",
       "    <tr style=\"text-align: right;\">\n",
       "      <th></th>\n",
       "      <th>GISJOIN</th>\n",
       "      <th>YEAR</th>\n",
       "      <th>REGIONA</th>\n",
       "      <th>DIVISIONA</th>\n",
       "      <th>STATE</th>\n",
       "      <th>STATEA</th>\n",
       "      <th>COUNTY</th>\n",
       "      <th>COUNTYA</th>\n",
       "      <th>COUSUBA</th>\n",
       "      <th>PLACEA</th>\n",
       "      <th>...</th>\n",
       "      <th>ADMKM007</th>\n",
       "      <th>ADMKM008</th>\n",
       "      <th>ADMKM009</th>\n",
       "      <th>ADMKM010</th>\n",
       "      <th>ADMKM011</th>\n",
       "      <th>ADMKM012</th>\n",
       "      <th>ADMKM013</th>\n",
       "      <th>ADMKM014</th>\n",
       "      <th>ADMKM015</th>\n",
       "      <th>ADMKM016</th>\n",
       "    </tr>\n",
       "  </thead>\n",
       "  <tbody>\n",
       "    <tr>\n",
       "      <th>0</th>\n",
       "      <td>G10000100401001</td>\n",
       "      <td>2011-2015</td>\n",
       "      <td>NaN</td>\n",
       "      <td>NaN</td>\n",
       "      <td>Delaware</td>\n",
       "      <td>10</td>\n",
       "      <td>Kent County</td>\n",
       "      <td>1</td>\n",
       "      <td>NaN</td>\n",
       "      <td>NaN</td>\n",
       "      <td>...</td>\n",
       "      <td>45</td>\n",
       "      <td>11</td>\n",
       "      <td>115</td>\n",
       "      <td>116</td>\n",
       "      <td>27</td>\n",
       "      <td>11</td>\n",
       "      <td>11</td>\n",
       "      <td>11</td>\n",
       "      <td>11</td>\n",
       "      <td>11</td>\n",
       "    </tr>\n",
       "    <tr>\n",
       "      <th>1</th>\n",
       "      <td>G10000100401002</td>\n",
       "      <td>2011-2015</td>\n",
       "      <td>NaN</td>\n",
       "      <td>NaN</td>\n",
       "      <td>Delaware</td>\n",
       "      <td>10</td>\n",
       "      <td>Kent County</td>\n",
       "      <td>1</td>\n",
       "      <td>NaN</td>\n",
       "      <td>NaN</td>\n",
       "      <td>...</td>\n",
       "      <td>26</td>\n",
       "      <td>14</td>\n",
       "      <td>83</td>\n",
       "      <td>81</td>\n",
       "      <td>14</td>\n",
       "      <td>11</td>\n",
       "      <td>11</td>\n",
       "      <td>11</td>\n",
       "      <td>11</td>\n",
       "      <td>11</td>\n",
       "    </tr>\n",
       "    <tr>\n",
       "      <th>2</th>\n",
       "      <td>G10000100401003</td>\n",
       "      <td>2011-2015</td>\n",
       "      <td>NaN</td>\n",
       "      <td>NaN</td>\n",
       "      <td>Delaware</td>\n",
       "      <td>10</td>\n",
       "      <td>Kent County</td>\n",
       "      <td>1</td>\n",
       "      <td>NaN</td>\n",
       "      <td>NaN</td>\n",
       "      <td>...</td>\n",
       "      <td>23</td>\n",
       "      <td>11</td>\n",
       "      <td>90</td>\n",
       "      <td>45</td>\n",
       "      <td>76</td>\n",
       "      <td>21</td>\n",
       "      <td>11</td>\n",
       "      <td>11</td>\n",
       "      <td>11</td>\n",
       "      <td>11</td>\n",
       "    </tr>\n",
       "    <tr>\n",
       "      <th>3</th>\n",
       "      <td>G10000100402011</td>\n",
       "      <td>2011-2015</td>\n",
       "      <td>NaN</td>\n",
       "      <td>NaN</td>\n",
       "      <td>Delaware</td>\n",
       "      <td>10</td>\n",
       "      <td>Kent County</td>\n",
       "      <td>1</td>\n",
       "      <td>NaN</td>\n",
       "      <td>NaN</td>\n",
       "      <td>...</td>\n",
       "      <td>28</td>\n",
       "      <td>11</td>\n",
       "      <td>46</td>\n",
       "      <td>44</td>\n",
       "      <td>17</td>\n",
       "      <td>11</td>\n",
       "      <td>11</td>\n",
       "      <td>11</td>\n",
       "      <td>11</td>\n",
       "      <td>11</td>\n",
       "    </tr>\n",
       "    <tr>\n",
       "      <th>4</th>\n",
       "      <td>G10000100402012</td>\n",
       "      <td>2011-2015</td>\n",
       "      <td>NaN</td>\n",
       "      <td>NaN</td>\n",
       "      <td>Delaware</td>\n",
       "      <td>10</td>\n",
       "      <td>Kent County</td>\n",
       "      <td>1</td>\n",
       "      <td>NaN</td>\n",
       "      <td>NaN</td>\n",
       "      <td>...</td>\n",
       "      <td>20</td>\n",
       "      <td>19</td>\n",
       "      <td>130</td>\n",
       "      <td>123</td>\n",
       "      <td>47</td>\n",
       "      <td>11</td>\n",
       "      <td>11</td>\n",
       "      <td>11</td>\n",
       "      <td>11</td>\n",
       "      <td>11</td>\n",
       "    </tr>\n",
       "  </tbody>\n",
       "</table>\n",
       "<p>5 rows × 70 columns</p>\n",
       "</div>"
      ],
      "text/plain": [
       "           GISJOIN       YEAR  REGIONA  DIVISIONA     STATE  STATEA  \\\n",
       "0  G10000100401001  2011-2015      NaN        NaN  Delaware      10   \n",
       "1  G10000100401002  2011-2015      NaN        NaN  Delaware      10   \n",
       "2  G10000100401003  2011-2015      NaN        NaN  Delaware      10   \n",
       "3  G10000100402011  2011-2015      NaN        NaN  Delaware      10   \n",
       "4  G10000100402012  2011-2015      NaN        NaN  Delaware      10   \n",
       "\n",
       "        COUNTY  COUNTYA  COUSUBA  PLACEA    ...     ADMKM007  ADMKM008  \\\n",
       "0  Kent County        1      NaN     NaN    ...           45        11   \n",
       "1  Kent County        1      NaN     NaN    ...           26        14   \n",
       "2  Kent County        1      NaN     NaN    ...           23        11   \n",
       "3  Kent County        1      NaN     NaN    ...           28        11   \n",
       "4  Kent County        1      NaN     NaN    ...           20        19   \n",
       "\n",
       "   ADMKM009  ADMKM010  ADMKM011  ADMKM012  ADMKM013  ADMKM014  ADMKM015  \\\n",
       "0       115       116        27        11        11        11        11   \n",
       "1        83        81        14        11        11        11        11   \n",
       "2        90        45        76        21        11        11        11   \n",
       "3        46        44        17        11        11        11        11   \n",
       "4       130       123        47        11        11        11        11   \n",
       "\n",
       "   ADMKM016  \n",
       "0        11  \n",
       "1        11  \n",
       "2        11  \n",
       "3        11  \n",
       "4        11  \n",
       "\n",
       "[5 rows x 70 columns]"
      ]
     },
     "execution_count": 21,
     "metadata": {},
     "output_type": "execute_result"
    }
   ],
   "source": [
    "hs_census15 = pd.read_csv('raw/census/hhsize_acs_2015.csv')\n",
    "hs_census15.head()"
   ]
  },
  {
   "cell_type": "code",
   "execution_count": 22,
   "metadata": {
    "collapsed": true
   },
   "outputs": [],
   "source": [
    "# households 7 or above coded as 7 people \n",
    "hs_census15.rename(index = str, columns = {'YEAR' : 'Year', 'ADMKE001' : 'Total_HH', 'ADMKE003': 'HHF_2', 'ADMKE004': 'HHF_3', 'ADMKE005': 'HHF_4',\n",
    "          'ADMKE006' : 'HHF_5', 'ADMKE007' : 'HHF_6', 'ADMKE008': 'HHF_7', 'ADMKE010' : 'HHN_1',\n",
    "          'ADMKE011' : 'HHN_2', 'ADMKE012' : 'HHN_3', 'ADMKE013': 'HHN_4', 'ADMKE014': 'HHN_5',\n",
    "          'ADMKE015' : 'HHN_6', 'ADMKE016' :'HHN_7'}, inplace = True)\n",
    "hs_census15['geo_id'] = hs_census15.GISJOIN.str[1:3] + hs_census15.GISJOIN.str[4:7] + hs_census15.GISJOIN.str[8:15] \n",
    "hs_census15 = hs_census15[['Year','Total_HH', 'HHF_2', 'HHF_3', 'HHF_4', 'HHF_5', 'HHF_6', 'HHF_7', 'HHN_1', 'HHN_2',\n",
    "                      'HHN_3', 'HHN_4', 'HHN_5', 'HHN_6', 'HHN_7', 'geo_id']]\n",
    "hs_census15['total_ppl'] = hs_census15['HHF_2']*2 + hs_census15['HHF_3']*3 + hs_census15['HHF_4']*4 + hs_census15['HHF_5']*5 + hs_census10['HHF_6']*6 + hs_census10['HHF_7']*7 + hs_census10['HHN_1'] + hs_census10['HHN_2']*2 + hs_census10['HHN_3']*3 + hs_census10['HHN_4']*4 + hs_census10['HHN_5']*5 + hs_census10['HHN_6']*6 + hs_census10['HHN_7']*7\n",
    "hs_census15['avg_size'] = hs_census15['total_ppl']/ hs_census15['Total_HH']\n",
    "hs_census_final15 = hs_census15[['Year', 'geo_id', 'avg_size']]"
   ]
  },
  {
   "cell_type": "code",
   "execution_count": 20,
   "metadata": {
    "collapsed": true
   },
   "outputs": [],
   "source": [
    "hs_census15_inf = hs_census15[hs_census15['avg_size'] == np.inf]"
   ]
  },
  {
   "cell_type": "code",
   "execution_count": 22,
   "metadata": {},
   "outputs": [
    {
     "data": {
      "text/html": [
       "<div>\n",
       "<style scoped>\n",
       "    .dataframe tbody tr th:only-of-type {\n",
       "        vertical-align: middle;\n",
       "    }\n",
       "\n",
       "    .dataframe tbody tr th {\n",
       "        vertical-align: top;\n",
       "    }\n",
       "\n",
       "    .dataframe thead th {\n",
       "        text-align: right;\n",
       "    }\n",
       "</style>\n",
       "<table border=\"1\" class=\"dataframe\">\n",
       "  <thead>\n",
       "    <tr style=\"text-align: right;\">\n",
       "      <th></th>\n",
       "      <th>Year</th>\n",
       "      <th>Total_HH</th>\n",
       "      <th>HHF_2</th>\n",
       "      <th>HHF_3</th>\n",
       "      <th>HHF_4</th>\n",
       "      <th>HHF_5</th>\n",
       "      <th>HHF_6</th>\n",
       "      <th>HHF_7</th>\n",
       "      <th>HHN_1</th>\n",
       "      <th>HHN_2</th>\n",
       "      <th>HHN_3</th>\n",
       "      <th>HHN_4</th>\n",
       "      <th>HHN_5</th>\n",
       "      <th>HHN_6</th>\n",
       "      <th>HHN_7</th>\n",
       "      <th>geo_id</th>\n",
       "      <th>total_ppl</th>\n",
       "      <th>avg_size</th>\n",
       "    </tr>\n",
       "  </thead>\n",
       "  <tbody>\n",
       "    <tr>\n",
       "      <th>1691</th>\n",
       "      <td>2011-2015</td>\n",
       "      <td>0</td>\n",
       "      <td>0</td>\n",
       "      <td>0</td>\n",
       "      <td>0</td>\n",
       "      <td>0</td>\n",
       "      <td>0</td>\n",
       "      <td>0</td>\n",
       "      <td>0</td>\n",
       "      <td>0</td>\n",
       "      <td>0</td>\n",
       "      <td>0</td>\n",
       "      <td>0</td>\n",
       "      <td>0</td>\n",
       "      <td>0</td>\n",
       "      <td>120110106062</td>\n",
       "      <td>22</td>\n",
       "      <td>inf</td>\n",
       "    </tr>\n",
       "    <tr>\n",
       "      <th>2221</th>\n",
       "      <td>2011-2015</td>\n",
       "      <td>0</td>\n",
       "      <td>0</td>\n",
       "      <td>0</td>\n",
       "      <td>0</td>\n",
       "      <td>0</td>\n",
       "      <td>0</td>\n",
       "      <td>0</td>\n",
       "      <td>0</td>\n",
       "      <td>0</td>\n",
       "      <td>0</td>\n",
       "      <td>0</td>\n",
       "      <td>0</td>\n",
       "      <td>0</td>\n",
       "      <td>0</td>\n",
       "      <td>120110701011</td>\n",
       "      <td>167</td>\n",
       "      <td>inf</td>\n",
       "    </tr>\n",
       "    <tr>\n",
       "      <th>4447</th>\n",
       "      <td>2011-2015</td>\n",
       "      <td>0</td>\n",
       "      <td>0</td>\n",
       "      <td>0</td>\n",
       "      <td>0</td>\n",
       "      <td>0</td>\n",
       "      <td>0</td>\n",
       "      <td>0</td>\n",
       "      <td>0</td>\n",
       "      <td>0</td>\n",
       "      <td>0</td>\n",
       "      <td>0</td>\n",
       "      <td>0</td>\n",
       "      <td>0</td>\n",
       "      <td>0</td>\n",
       "      <td>120570065022</td>\n",
       "      <td>125</td>\n",
       "      <td>inf</td>\n",
       "    </tr>\n",
       "    <tr>\n",
       "      <th>5495</th>\n",
       "      <td>2011-2015</td>\n",
       "      <td>0</td>\n",
       "      <td>0</td>\n",
       "      <td>0</td>\n",
       "      <td>0</td>\n",
       "      <td>0</td>\n",
       "      <td>0</td>\n",
       "      <td>0</td>\n",
       "      <td>0</td>\n",
       "      <td>0</td>\n",
       "      <td>0</td>\n",
       "      <td>0</td>\n",
       "      <td>0</td>\n",
       "      <td>0</td>\n",
       "      <td>0</td>\n",
       "      <td>120710019072</td>\n",
       "      <td>89</td>\n",
       "      <td>inf</td>\n",
       "    </tr>\n",
       "    <tr>\n",
       "      <th>6846</th>\n",
       "      <td>2011-2015</td>\n",
       "      <td>0</td>\n",
       "      <td>0</td>\n",
       "      <td>0</td>\n",
       "      <td>0</td>\n",
       "      <td>0</td>\n",
       "      <td>0</td>\n",
       "      <td>0</td>\n",
       "      <td>0</td>\n",
       "      <td>0</td>\n",
       "      <td>0</td>\n",
       "      <td>0</td>\n",
       "      <td>0</td>\n",
       "      <td>0</td>\n",
       "      <td>0</td>\n",
       "      <td>120860009032</td>\n",
       "      <td>124</td>\n",
       "      <td>inf</td>\n",
       "    </tr>\n",
       "  </tbody>\n",
       "</table>\n",
       "</div>"
      ],
      "text/plain": [
       "           Year  Total_HH  HHF_2  HHF_3  HHF_4  HHF_5  HHF_6  HHF_7  HHN_1  \\\n",
       "1691  2011-2015         0      0      0      0      0      0      0      0   \n",
       "2221  2011-2015         0      0      0      0      0      0      0      0   \n",
       "4447  2011-2015         0      0      0      0      0      0      0      0   \n",
       "5495  2011-2015         0      0      0      0      0      0      0      0   \n",
       "6846  2011-2015         0      0      0      0      0      0      0      0   \n",
       "\n",
       "      HHN_2  HHN_3  HHN_4  HHN_5  HHN_6  HHN_7        geo_id  total_ppl  \\\n",
       "1691      0      0      0      0      0      0  120110106062         22   \n",
       "2221      0      0      0      0      0      0  120110701011        167   \n",
       "4447      0      0      0      0      0      0  120570065022        125   \n",
       "5495      0      0      0      0      0      0  120710019072         89   \n",
       "6846      0      0      0      0      0      0  120860009032        124   \n",
       "\n",
       "      avg_size  \n",
       "1691       inf  \n",
       "2221       inf  \n",
       "4447       inf  \n",
       "5495       inf  \n",
       "6846       inf  "
      ]
     },
     "execution_count": 22,
     "metadata": {},
     "output_type": "execute_result"
    }
   ],
   "source": [
    "hs_census15_inf.head()"
   ]
  },
  {
   "cell_type": "code",
   "execution_count": 24,
   "metadata": {
    "collapsed": true
   },
   "outputs": [],
   "source": [
    "yearlist = [2000, 2001, 2002, 2003, 2004, 2005, 2006, 2007, 2008, 2009, 2010, 2011, \n",
    "            2012, 2013, 2014, 2015, 2016]"
   ]
  },
  {
   "cell_type": "code",
   "execution_count": 25,
   "metadata": {},
   "outputs": [
    {
     "name": "stderr",
     "output_type": "stream",
     "text": [
      "/Users/alenastern/anaconda3/lib/python3.6/site-packages/ipykernel_launcher.py:7: SettingWithCopyWarning: \n",
      "A value is trying to be set on a copy of a slice from a DataFrame.\n",
      "Try using .loc[row_indexer,col_indexer] = value instead\n",
      "\n",
      "See the caveats in the documentation: http://pandas.pydata.org/pandas-docs/stable/indexing.html#indexing-view-versus-copy\n",
      "  import sys\n",
      "/Users/alenastern/anaconda3/lib/python3.6/site-packages/ipykernel_launcher.py:10: SettingWithCopyWarning: \n",
      "A value is trying to be set on a copy of a slice from a DataFrame.\n",
      "Try using .loc[row_indexer,col_indexer] = value instead\n",
      "\n",
      "See the caveats in the documentation: http://pandas.pydata.org/pandas-docs/stable/indexing.html#indexing-view-versus-copy\n",
      "  # Remove the CWD from sys.path while we load stuff.\n",
      "/Users/alenastern/anaconda3/lib/python3.6/site-packages/ipykernel_launcher.py:15: SettingWithCopyWarning: \n",
      "A value is trying to be set on a copy of a slice from a DataFrame.\n",
      "Try using .loc[row_indexer,col_indexer] = value instead\n",
      "\n",
      "See the caveats in the documentation: http://pandas.pydata.org/pandas-docs/stable/indexing.html#indexing-view-versus-copy\n",
      "  from ipykernel import kernelapp as app\n"
     ]
    }
   ],
   "source": [
    "hs_census_00 = hs_census_final[hs_census_final['Year'] == 2000]\n",
    "hs_census_10 = hs_census_final[hs_census_final['Year'] == 2010]\n",
    "dflist = []\n",
    "\n",
    "for year in yearlist:\n",
    "    if year < 2006:\n",
    "        hs_census_00['Year'] = year\n",
    "        dflist.append(hs_census_00.copy())\n",
    "    elif year >= 2006 and year < 2010:\n",
    "        hs_census_final10['Year'] = year\n",
    "        dflist.append(hs_census_final10.copy())\n",
    "    elif year == 2010:\n",
    "        dflist.append(hs_census_10.copy())\n",
    "    else:\n",
    "        hs_census_final15['Year'] = year\n",
    "        dflist.append(hs_census_final15.copy())\n",
    "        \n",
    "    \n",
    "hs_final = pd.concat(dflist)"
   ]
  },
  {
   "cell_type": "code",
   "execution_count": 29,
   "metadata": {
    "collapsed": true
   },
   "outputs": [],
   "source": [
    "# Replace infinite entries with 7\n",
    "\n",
    "mask = hs_final.avg_size == np.inf\n",
    "column_name = 'avg_size'\n",
    "hs_final.loc[mask, column_name] = 7"
   ]
  },
  {
   "cell_type": "code",
   "execution_count": 33,
   "metadata": {
    "collapsed": true
   },
   "outputs": [],
   "source": [
    "# Replace values greater than 7 with 7\n",
    "mask = hs_final.avg_size > 7\n",
    "column_name = 'avg_size'\n",
    "hs_final.loc[mask, column_name] = 7"
   ]
  },
  {
   "cell_type": "code",
   "execution_count": 35,
   "metadata": {},
   "outputs": [
    {
     "data": {
      "text/html": [
       "<div>\n",
       "<style scoped>\n",
       "    .dataframe tbody tr th:only-of-type {\n",
       "        vertical-align: middle;\n",
       "    }\n",
       "\n",
       "    .dataframe tbody tr th {\n",
       "        vertical-align: top;\n",
       "    }\n",
       "\n",
       "    .dataframe thead th {\n",
       "        text-align: right;\n",
       "    }\n",
       "</style>\n",
       "<table border=\"1\" class=\"dataframe\">\n",
       "  <thead>\n",
       "    <tr style=\"text-align: right;\">\n",
       "      <th></th>\n",
       "      <th>geo_id</th>\n",
       "      <th>avg_size</th>\n",
       "    </tr>\n",
       "    <tr>\n",
       "      <th>Year</th>\n",
       "      <th></th>\n",
       "      <th></th>\n",
       "    </tr>\n",
       "  </thead>\n",
       "  <tbody>\n",
       "    <tr>\n",
       "      <th>2000</th>\n",
       "      <td>74500</td>\n",
       "      <td>74143</td>\n",
       "    </tr>\n",
       "    <tr>\n",
       "      <th>2001</th>\n",
       "      <td>74500</td>\n",
       "      <td>74143</td>\n",
       "    </tr>\n",
       "    <tr>\n",
       "      <th>2002</th>\n",
       "      <td>74500</td>\n",
       "      <td>74143</td>\n",
       "    </tr>\n",
       "    <tr>\n",
       "      <th>2003</th>\n",
       "      <td>74500</td>\n",
       "      <td>74143</td>\n",
       "    </tr>\n",
       "    <tr>\n",
       "      <th>2004</th>\n",
       "      <td>74500</td>\n",
       "      <td>74143</td>\n",
       "    </tr>\n",
       "    <tr>\n",
       "      <th>2005</th>\n",
       "      <td>74500</td>\n",
       "      <td>74143</td>\n",
       "    </tr>\n",
       "    <tr>\n",
       "      <th>2006</th>\n",
       "      <td>74500</td>\n",
       "      <td>74006</td>\n",
       "    </tr>\n",
       "    <tr>\n",
       "      <th>2007</th>\n",
       "      <td>74500</td>\n",
       "      <td>74006</td>\n",
       "    </tr>\n",
       "    <tr>\n",
       "      <th>2008</th>\n",
       "      <td>74500</td>\n",
       "      <td>74006</td>\n",
       "    </tr>\n",
       "    <tr>\n",
       "      <th>2009</th>\n",
       "      <td>74500</td>\n",
       "      <td>74006</td>\n",
       "    </tr>\n",
       "    <tr>\n",
       "      <th>2010</th>\n",
       "      <td>74500</td>\n",
       "      <td>74110</td>\n",
       "    </tr>\n",
       "    <tr>\n",
       "      <th>2011</th>\n",
       "      <td>74500</td>\n",
       "      <td>74071</td>\n",
       "    </tr>\n",
       "    <tr>\n",
       "      <th>2012</th>\n",
       "      <td>74500</td>\n",
       "      <td>74071</td>\n",
       "    </tr>\n",
       "    <tr>\n",
       "      <th>2013</th>\n",
       "      <td>74500</td>\n",
       "      <td>74071</td>\n",
       "    </tr>\n",
       "    <tr>\n",
       "      <th>2014</th>\n",
       "      <td>74500</td>\n",
       "      <td>74071</td>\n",
       "    </tr>\n",
       "    <tr>\n",
       "      <th>2015</th>\n",
       "      <td>74500</td>\n",
       "      <td>74071</td>\n",
       "    </tr>\n",
       "    <tr>\n",
       "      <th>2016</th>\n",
       "      <td>74500</td>\n",
       "      <td>74071</td>\n",
       "    </tr>\n",
       "  </tbody>\n",
       "</table>\n",
       "</div>"
      ],
      "text/plain": [
       "      geo_id  avg_size\n",
       "Year                  \n",
       "2000   74500     74143\n",
       "2001   74500     74143\n",
       "2002   74500     74143\n",
       "2003   74500     74143\n",
       "2004   74500     74143\n",
       "2005   74500     74143\n",
       "2006   74500     74006\n",
       "2007   74500     74006\n",
       "2008   74500     74006\n",
       "2009   74500     74006\n",
       "2010   74500     74110\n",
       "2011   74500     74071\n",
       "2012   74500     74071\n",
       "2013   74500     74071\n",
       "2014   74500     74071\n",
       "2015   74500     74071\n",
       "2016   74500     74071"
      ]
     },
     "execution_count": 35,
     "metadata": {},
     "output_type": "execute_result"
    }
   ],
   "source": [
    "hs_final.groupby('Year').count()"
   ]
  },
  {
   "cell_type": "code",
   "execution_count": 34,
   "metadata": {},
   "outputs": [
    {
     "data": {
      "text/html": [
       "<div>\n",
       "<style scoped>\n",
       "    .dataframe tbody tr th:only-of-type {\n",
       "        vertical-align: middle;\n",
       "    }\n",
       "\n",
       "    .dataframe tbody tr th {\n",
       "        vertical-align: top;\n",
       "    }\n",
       "\n",
       "    .dataframe thead th {\n",
       "        text-align: right;\n",
       "    }\n",
       "</style>\n",
       "<table border=\"1\" class=\"dataframe\">\n",
       "  <thead>\n",
       "    <tr style=\"text-align: right;\">\n",
       "      <th></th>\n",
       "      <th>geo_id</th>\n",
       "      <th>avg_size</th>\n",
       "    </tr>\n",
       "    <tr>\n",
       "      <th>Year</th>\n",
       "      <th></th>\n",
       "      <th></th>\n",
       "    </tr>\n",
       "  </thead>\n",
       "  <tbody>\n",
       "    <tr>\n",
       "      <th>2000</th>\n",
       "      <td>551410117005</td>\n",
       "      <td>7.000000</td>\n",
       "    </tr>\n",
       "    <tr>\n",
       "      <th>2001</th>\n",
       "      <td>551410117005</td>\n",
       "      <td>7.000000</td>\n",
       "    </tr>\n",
       "    <tr>\n",
       "      <th>2002</th>\n",
       "      <td>551410117005</td>\n",
       "      <td>7.000000</td>\n",
       "    </tr>\n",
       "    <tr>\n",
       "      <th>2003</th>\n",
       "      <td>551410117005</td>\n",
       "      <td>7.000000</td>\n",
       "    </tr>\n",
       "    <tr>\n",
       "      <th>2004</th>\n",
       "      <td>551410117005</td>\n",
       "      <td>7.000000</td>\n",
       "    </tr>\n",
       "    <tr>\n",
       "      <th>2005</th>\n",
       "      <td>551410117005</td>\n",
       "      <td>7.000000</td>\n",
       "    </tr>\n",
       "    <tr>\n",
       "      <th>2006</th>\n",
       "      <td>551410117005</td>\n",
       "      <td>7.000000</td>\n",
       "    </tr>\n",
       "    <tr>\n",
       "      <th>2007</th>\n",
       "      <td>551410117005</td>\n",
       "      <td>7.000000</td>\n",
       "    </tr>\n",
       "    <tr>\n",
       "      <th>2008</th>\n",
       "      <td>551410117005</td>\n",
       "      <td>7.000000</td>\n",
       "    </tr>\n",
       "    <tr>\n",
       "      <th>2009</th>\n",
       "      <td>551410117005</td>\n",
       "      <td>7.000000</td>\n",
       "    </tr>\n",
       "    <tr>\n",
       "      <th>2010</th>\n",
       "      <td>551410117005</td>\n",
       "      <td>6.142857</td>\n",
       "    </tr>\n",
       "    <tr>\n",
       "      <th>2011</th>\n",
       "      <td>551410117005</td>\n",
       "      <td>7.000000</td>\n",
       "    </tr>\n",
       "    <tr>\n",
       "      <th>2012</th>\n",
       "      <td>551410117005</td>\n",
       "      <td>7.000000</td>\n",
       "    </tr>\n",
       "    <tr>\n",
       "      <th>2013</th>\n",
       "      <td>551410117005</td>\n",
       "      <td>7.000000</td>\n",
       "    </tr>\n",
       "    <tr>\n",
       "      <th>2014</th>\n",
       "      <td>551410117005</td>\n",
       "      <td>7.000000</td>\n",
       "    </tr>\n",
       "    <tr>\n",
       "      <th>2015</th>\n",
       "      <td>551410117005</td>\n",
       "      <td>7.000000</td>\n",
       "    </tr>\n",
       "    <tr>\n",
       "      <th>2016</th>\n",
       "      <td>551410117005</td>\n",
       "      <td>7.000000</td>\n",
       "    </tr>\n",
       "  </tbody>\n",
       "</table>\n",
       "</div>"
      ],
      "text/plain": [
       "            geo_id  avg_size\n",
       "Year                        \n",
       "2000  551410117005  7.000000\n",
       "2001  551410117005  7.000000\n",
       "2002  551410117005  7.000000\n",
       "2003  551410117005  7.000000\n",
       "2004  551410117005  7.000000\n",
       "2005  551410117005  7.000000\n",
       "2006  551410117005  7.000000\n",
       "2007  551410117005  7.000000\n",
       "2008  551410117005  7.000000\n",
       "2009  551410117005  7.000000\n",
       "2010  551410117005  6.142857\n",
       "2011  551410117005  7.000000\n",
       "2012  551410117005  7.000000\n",
       "2013  551410117005  7.000000\n",
       "2014  551410117005  7.000000\n",
       "2015  551410117005  7.000000\n",
       "2016  551410117005  7.000000"
      ]
     },
     "execution_count": 34,
     "metadata": {},
     "output_type": "execute_result"
    }
   ],
   "source": [
    "hs_final.groupby('Year').max()"
   ]
  },
  {
   "cell_type": "code",
   "execution_count": 37,
   "metadata": {},
   "outputs": [],
   "source": [
    "hs_final.to_csv('raw/census/hs_final.csv', index = False)"
   ]
  },
  {
   "cell_type": "code",
   "execution_count": null,
   "metadata": {
    "collapsed": true
   },
   "outputs": [],
   "source": []
  },
  {
   "cell_type": "code",
   "execution_count": 39,
   "metadata": {},
   "outputs": [
    {
     "data": {
      "text/html": [
       "<div>\n",
       "<style scoped>\n",
       "    .dataframe tbody tr th:only-of-type {\n",
       "        vertical-align: middle;\n",
       "    }\n",
       "\n",
       "    .dataframe tbody tr th {\n",
       "        vertical-align: top;\n",
       "    }\n",
       "\n",
       "    .dataframe thead th {\n",
       "        text-align: right;\n",
       "    }\n",
       "</style>\n",
       "<table border=\"1\" class=\"dataframe\">\n",
       "  <thead>\n",
       "    <tr style=\"text-align: right;\">\n",
       "      <th></th>\n",
       "      <th>Year</th>\n",
       "      <th>geo_id</th>\n",
       "      <th>avg_size</th>\n",
       "    </tr>\n",
       "  </thead>\n",
       "  <tbody>\n",
       "    <tr>\n",
       "      <th>0</th>\n",
       "      <td>2000</td>\n",
       "      <td>100010401001</td>\n",
       "      <td>2.933535</td>\n",
       "    </tr>\n",
       "    <tr>\n",
       "      <th>1</th>\n",
       "      <td>2000</td>\n",
       "      <td>100010401002</td>\n",
       "      <td>2.846543</td>\n",
       "    </tr>\n",
       "    <tr>\n",
       "      <th>2</th>\n",
       "      <td>2000</td>\n",
       "      <td>100010401003</td>\n",
       "      <td>2.789916</td>\n",
       "    </tr>\n",
       "    <tr>\n",
       "      <th>3</th>\n",
       "      <td>2000</td>\n",
       "      <td>100010402011</td>\n",
       "      <td>2.600321</td>\n",
       "    </tr>\n",
       "    <tr>\n",
       "      <th>4</th>\n",
       "      <td>2000</td>\n",
       "      <td>100010402012</td>\n",
       "      <td>2.472630</td>\n",
       "    </tr>\n",
       "  </tbody>\n",
       "</table>\n",
       "</div>"
      ],
      "text/plain": [
       "   Year        geo_id  avg_size\n",
       "0  2000  100010401001  2.933535\n",
       "1  2000  100010401002  2.846543\n",
       "2  2000  100010401003  2.789916\n",
       "3  2000  100010402011  2.600321\n",
       "4  2000  100010402012  2.472630"
      ]
     },
     "execution_count": 39,
     "metadata": {},
     "output_type": "execute_result"
    }
   ],
   "source": [
    "hstest = pd.read_csv('raw/census/hs_final.csv')\n",
    "hstest.head()"
   ]
  },
  {
   "cell_type": "code",
   "execution_count": 40,
   "metadata": {},
   "outputs": [
    {
     "data": {
      "text/html": [
       "<div>\n",
       "<style scoped>\n",
       "    .dataframe tbody tr th:only-of-type {\n",
       "        vertical-align: middle;\n",
       "    }\n",
       "\n",
       "    .dataframe tbody tr th {\n",
       "        vertical-align: top;\n",
       "    }\n",
       "\n",
       "    .dataframe thead th {\n",
       "        text-align: right;\n",
       "    }\n",
       "</style>\n",
       "<table border=\"1\" class=\"dataframe\">\n",
       "  <thead>\n",
       "    <tr style=\"text-align: right;\">\n",
       "      <th></th>\n",
       "      <th>geo_id</th>\n",
       "      <th>avg_size</th>\n",
       "    </tr>\n",
       "    <tr>\n",
       "      <th>Year</th>\n",
       "      <th></th>\n",
       "      <th></th>\n",
       "    </tr>\n",
       "  </thead>\n",
       "  <tbody>\n",
       "    <tr>\n",
       "      <th>2000</th>\n",
       "      <td>551410117005</td>\n",
       "      <td>7.000000</td>\n",
       "    </tr>\n",
       "    <tr>\n",
       "      <th>2001</th>\n",
       "      <td>551410117005</td>\n",
       "      <td>7.000000</td>\n",
       "    </tr>\n",
       "    <tr>\n",
       "      <th>2002</th>\n",
       "      <td>551410117005</td>\n",
       "      <td>7.000000</td>\n",
       "    </tr>\n",
       "    <tr>\n",
       "      <th>2003</th>\n",
       "      <td>551410117005</td>\n",
       "      <td>7.000000</td>\n",
       "    </tr>\n",
       "    <tr>\n",
       "      <th>2004</th>\n",
       "      <td>551410117005</td>\n",
       "      <td>7.000000</td>\n",
       "    </tr>\n",
       "    <tr>\n",
       "      <th>2005</th>\n",
       "      <td>551410117005</td>\n",
       "      <td>7.000000</td>\n",
       "    </tr>\n",
       "    <tr>\n",
       "      <th>2006</th>\n",
       "      <td>551410117005</td>\n",
       "      <td>7.000000</td>\n",
       "    </tr>\n",
       "    <tr>\n",
       "      <th>2007</th>\n",
       "      <td>551410117005</td>\n",
       "      <td>7.000000</td>\n",
       "    </tr>\n",
       "    <tr>\n",
       "      <th>2008</th>\n",
       "      <td>551410117005</td>\n",
       "      <td>7.000000</td>\n",
       "    </tr>\n",
       "    <tr>\n",
       "      <th>2009</th>\n",
       "      <td>551410117005</td>\n",
       "      <td>7.000000</td>\n",
       "    </tr>\n",
       "    <tr>\n",
       "      <th>2010</th>\n",
       "      <td>551410117005</td>\n",
       "      <td>6.142857</td>\n",
       "    </tr>\n",
       "    <tr>\n",
       "      <th>2011</th>\n",
       "      <td>551410117005</td>\n",
       "      <td>7.000000</td>\n",
       "    </tr>\n",
       "    <tr>\n",
       "      <th>2012</th>\n",
       "      <td>551410117005</td>\n",
       "      <td>7.000000</td>\n",
       "    </tr>\n",
       "    <tr>\n",
       "      <th>2013</th>\n",
       "      <td>551410117005</td>\n",
       "      <td>7.000000</td>\n",
       "    </tr>\n",
       "    <tr>\n",
       "      <th>2014</th>\n",
       "      <td>551410117005</td>\n",
       "      <td>7.000000</td>\n",
       "    </tr>\n",
       "    <tr>\n",
       "      <th>2015</th>\n",
       "      <td>551410117005</td>\n",
       "      <td>7.000000</td>\n",
       "    </tr>\n",
       "    <tr>\n",
       "      <th>2016</th>\n",
       "      <td>551410117005</td>\n",
       "      <td>7.000000</td>\n",
       "    </tr>\n",
       "  </tbody>\n",
       "</table>\n",
       "</div>"
      ],
      "text/plain": [
       "            geo_id  avg_size\n",
       "Year                        \n",
       "2000  551410117005  7.000000\n",
       "2001  551410117005  7.000000\n",
       "2002  551410117005  7.000000\n",
       "2003  551410117005  7.000000\n",
       "2004  551410117005  7.000000\n",
       "2005  551410117005  7.000000\n",
       "2006  551410117005  7.000000\n",
       "2007  551410117005  7.000000\n",
       "2008  551410117005  7.000000\n",
       "2009  551410117005  7.000000\n",
       "2010  551410117005  6.142857\n",
       "2011  551410117005  7.000000\n",
       "2012  551410117005  7.000000\n",
       "2013  551410117005  7.000000\n",
       "2014  551410117005  7.000000\n",
       "2015  551410117005  7.000000\n",
       "2016  551410117005  7.000000"
      ]
     },
     "execution_count": 40,
     "metadata": {},
     "output_type": "execute_result"
    }
   ],
   "source": [
    "hstest.groupby('Year').max()"
   ]
  },
  {
   "cell_type": "markdown",
   "metadata": {},
   "source": [
    "# Read and clean urban data"
   ]
  },
  {
   "cell_type": "code",
   "execution_count": 12,
   "metadata": {
    "collapsed": true
   },
   "outputs": [],
   "source": [
    "df = pd.read_csv('/Users/alenastern/Documents/Spring2018/Machine_Learning/evictions-learn/src/data/Urban_County_2010.csv', header = 0)"
   ]
  },
  {
   "cell_type": "code",
   "execution_count": 13,
   "metadata": {},
   "outputs": [
    {
     "data": {
      "text/html": [
       "<div>\n",
       "<style scoped>\n",
       "    .dataframe tbody tr th:only-of-type {\n",
       "        vertical-align: middle;\n",
       "    }\n",
       "\n",
       "    .dataframe tbody tr th {\n",
       "        vertical-align: top;\n",
       "    }\n",
       "\n",
       "    .dataframe thead th {\n",
       "        text-align: right;\n",
       "    }\n",
       "</style>\n",
       "<table border=\"1\" class=\"dataframe\">\n",
       "  <thead>\n",
       "    <tr style=\"text-align: right;\">\n",
       "      <th></th>\n",
       "      <th>UA</th>\n",
       "      <th>UANAME</th>\n",
       "      <th>STATE</th>\n",
       "      <th>COUNTY</th>\n",
       "      <th>GEOID</th>\n",
       "      <th>CNAME</th>\n",
       "      <th>POPPT</th>\n",
       "      <th>HUPT</th>\n",
       "      <th>AREAPT</th>\n",
       "      <th>AREALANDPT</th>\n",
       "      <th>...</th>\n",
       "      <th>CAREA</th>\n",
       "      <th>CAREALAND</th>\n",
       "      <th>UAPOPPCT</th>\n",
       "      <th>UAHUPCT</th>\n",
       "      <th>UAAREAPCT</th>\n",
       "      <th>UAAREALANDPCT</th>\n",
       "      <th>CPOPPCT</th>\n",
       "      <th>CHUPCT</th>\n",
       "      <th>CAREAPCT</th>\n",
       "      <th>CAREALANDPCT</th>\n",
       "    </tr>\n",
       "  </thead>\n",
       "  <tbody>\n",
       "    <tr>\n",
       "      <th>0</th>\n",
       "      <td>37</td>\n",
       "      <td>Abbeville, LA Urban Cluster</td>\n",
       "      <td>22</td>\n",
       "      <td>45</td>\n",
       "      <td>22045</td>\n",
       "      <td>Iberia Parish</td>\n",
       "      <td>556</td>\n",
       "      <td>244</td>\n",
       "      <td>1304730.0</td>\n",
       "      <td>1304730.0</td>\n",
       "      <td>...</td>\n",
       "      <td>2.669056e+09</td>\n",
       "      <td>1.486940e+09</td>\n",
       "      <td>2.80</td>\n",
       "      <td>2.88</td>\n",
       "      <td>4.42</td>\n",
       "      <td>4.46</td>\n",
       "      <td>0.76</td>\n",
       "      <td>0.82</td>\n",
       "      <td>0.05</td>\n",
       "      <td>0.09</td>\n",
       "    </tr>\n",
       "    <tr>\n",
       "      <th>1</th>\n",
       "      <td>37</td>\n",
       "      <td>Abbeville, LA Urban Cluster</td>\n",
       "      <td>22</td>\n",
       "      <td>113</td>\n",
       "      <td>22113</td>\n",
       "      <td>Vermilion Parish</td>\n",
       "      <td>19268</td>\n",
       "      <td>8216</td>\n",
       "      <td>28218638.0</td>\n",
       "      <td>27918141.0</td>\n",
       "      <td>...</td>\n",
       "      <td>3.993942e+09</td>\n",
       "      <td>3.038572e+09</td>\n",
       "      <td>97.20</td>\n",
       "      <td>97.12</td>\n",
       "      <td>95.58</td>\n",
       "      <td>95.54</td>\n",
       "      <td>33.22</td>\n",
       "      <td>32.56</td>\n",
       "      <td>0.71</td>\n",
       "      <td>0.92</td>\n",
       "    </tr>\n",
       "    <tr>\n",
       "      <th>2</th>\n",
       "      <td>64</td>\n",
       "      <td>Abbeville, SC Urban Cluster</td>\n",
       "      <td>45</td>\n",
       "      <td>1</td>\n",
       "      <td>45001</td>\n",
       "      <td>Abbeville County</td>\n",
       "      <td>5243</td>\n",
       "      <td>2578</td>\n",
       "      <td>11334983.0</td>\n",
       "      <td>11315197.0</td>\n",
       "      <td>...</td>\n",
       "      <td>1.323464e+09</td>\n",
       "      <td>1.270348e+09</td>\n",
       "      <td>100.00</td>\n",
       "      <td>100.00</td>\n",
       "      <td>100.00</td>\n",
       "      <td>100.00</td>\n",
       "      <td>20.63</td>\n",
       "      <td>21.34</td>\n",
       "      <td>0.86</td>\n",
       "      <td>0.89</td>\n",
       "    </tr>\n",
       "    <tr>\n",
       "      <th>3</th>\n",
       "      <td>91</td>\n",
       "      <td>Abbotsford, WI Urban Cluster</td>\n",
       "      <td>55</td>\n",
       "      <td>19</td>\n",
       "      <td>55019</td>\n",
       "      <td>Clark County</td>\n",
       "      <td>2863</td>\n",
       "      <td>1188</td>\n",
       "      <td>3274492.0</td>\n",
       "      <td>3261271.0</td>\n",
       "      <td>...</td>\n",
       "      <td>3.156643e+09</td>\n",
       "      <td>3.133407e+09</td>\n",
       "      <td>72.19</td>\n",
       "      <td>73.51</td>\n",
       "      <td>60.90</td>\n",
       "      <td>60.81</td>\n",
       "      <td>8.25</td>\n",
       "      <td>7.88</td>\n",
       "      <td>0.10</td>\n",
       "      <td>0.10</td>\n",
       "    </tr>\n",
       "    <tr>\n",
       "      <th>4</th>\n",
       "      <td>91</td>\n",
       "      <td>Abbotsford, WI Urban Cluster</td>\n",
       "      <td>55</td>\n",
       "      <td>73</td>\n",
       "      <td>55073</td>\n",
       "      <td>Marathon County</td>\n",
       "      <td>1103</td>\n",
       "      <td>428</td>\n",
       "      <td>2102170.0</td>\n",
       "      <td>2102170.0</td>\n",
       "      <td>...</td>\n",
       "      <td>4.082627e+09</td>\n",
       "      <td>4.001488e+09</td>\n",
       "      <td>27.81</td>\n",
       "      <td>26.49</td>\n",
       "      <td>39.10</td>\n",
       "      <td>39.19</td>\n",
       "      <td>0.82</td>\n",
       "      <td>0.74</td>\n",
       "      <td>0.05</td>\n",
       "      <td>0.05</td>\n",
       "    </tr>\n",
       "  </tbody>\n",
       "</table>\n",
       "<p>5 rows × 26 columns</p>\n",
       "</div>"
      ],
      "text/plain": [
       "   UA                        UANAME  STATE  COUNTY  GEOID             CNAME  \\\n",
       "0  37   Abbeville, LA Urban Cluster     22      45  22045     Iberia Parish   \n",
       "1  37   Abbeville, LA Urban Cluster     22     113  22113  Vermilion Parish   \n",
       "2  64   Abbeville, SC Urban Cluster     45       1  45001  Abbeville County   \n",
       "3  91  Abbotsford, WI Urban Cluster     55      19  55019      Clark County   \n",
       "4  91  Abbotsford, WI Urban Cluster     55      73  55073   Marathon County   \n",
       "\n",
       "   POPPT  HUPT      AREAPT  AREALANDPT      ...              CAREA  \\\n",
       "0    556   244   1304730.0   1304730.0      ...       2.669056e+09   \n",
       "1  19268  8216  28218638.0  27918141.0      ...       3.993942e+09   \n",
       "2   5243  2578  11334983.0  11315197.0      ...       1.323464e+09   \n",
       "3   2863  1188   3274492.0   3261271.0      ...       3.156643e+09   \n",
       "4   1103   428   2102170.0   2102170.0      ...       4.082627e+09   \n",
       "\n",
       "      CAREALAND  UAPOPPCT  UAHUPCT  UAAREAPCT  UAAREALANDPCT  CPOPPCT  CHUPCT  \\\n",
       "0  1.486940e+09      2.80     2.88       4.42           4.46     0.76    0.82   \n",
       "1  3.038572e+09     97.20    97.12      95.58          95.54    33.22   32.56   \n",
       "2  1.270348e+09    100.00   100.00     100.00         100.00    20.63   21.34   \n",
       "3  3.133407e+09     72.19    73.51      60.90          60.81     8.25    7.88   \n",
       "4  4.001488e+09     27.81    26.49      39.10          39.19     0.82    0.74   \n",
       "\n",
       "   CAREAPCT  CAREALANDPCT  \n",
       "0      0.05          0.09  \n",
       "1      0.71          0.92  \n",
       "2      0.86          0.89  \n",
       "3      0.10          0.10  \n",
       "4      0.05          0.05  \n",
       "\n",
       "[5 rows x 26 columns]"
      ]
     },
     "execution_count": 13,
     "metadata": {},
     "output_type": "execute_result"
    }
   ],
   "source": [
    "df.head()"
   ]
  },
  {
   "cell_type": "code",
   "execution_count": 3,
   "metadata": {
    "collapsed": true
   },
   "outputs": [],
   "source": [
    "df = pd.read_csv('/Users/alenastern/Documents/Spring2018/Machine_Learning/evictions-learn/src/data/Urban_County_2010.csv', header = 0)\n",
    "df = df[['UA', 'STATE', 'COUNTY', 'GEOID']]       "
   ]
  },
  {
   "cell_type": "code",
   "execution_count": 27,
   "metadata": {
    "collapsed": true
   },
   "outputs": [],
   "source": [
    "pct = df_states_urban.groupby('GEOID').sum()"
   ]
  },
  {
   "cell_type": "code",
   "execution_count": 28,
   "metadata": {
    "collapsed": true
   },
   "outputs": [],
   "source": [
    "pct_75 = pct[pct['CPOPPCT'] >= 75]"
   ]
  },
  {
   "cell_type": "code",
   "execution_count": 32,
   "metadata": {
    "collapsed": true
   },
   "outputs": [],
   "source": [
    "pct_75 = pct_75.reset_index()"
   ]
  },
  {
   "cell_type": "code",
   "execution_count": 33,
   "metadata": {
    "collapsed": true
   },
   "outputs": [],
   "source": [
    "df_75 = pct_75[['UA', 'STATE', 'COUNTY', 'GEOID']] "
   ]
  },
  {
   "cell_type": "code",
   "execution_count": 34,
   "metadata": {},
   "outputs": [
    {
     "data": {
      "text/plain": [
       "(213, 4)"
      ]
     },
     "execution_count": 34,
     "metadata": {},
     "output_type": "execute_result"
    }
   ],
   "source": [
    "df_75.shape"
   ]
  },
  {
   "cell_type": "code",
   "execution_count": 22,
   "metadata": {
    "collapsed": true
   },
   "outputs": [],
   "source": [
    "df_states = df[(df['STATE'] == 18 ) | (df['STATE'] == 17) | (df['STATE'] == 26) | (df['STATE'] == 39) | (df['STATE'] == 55)\n",
    "              | (df['STATE'] == 10) | (df['STATE'] == 11 ) | (df['STATE'] == 12) | (df['STATE'] == 13) | (df['STATE'] == 24)\n",
    "              | (df['STATE'] == 37) | (df['STATE'] == 45) | (df['STATE'] == 51) | (df['STATE'] == 54)]"
   ]
  },
  {
   "cell_type": "code",
   "execution_count": 26,
   "metadata": {
    "collapsed": true
   },
   "outputs": [],
   "source": [
    "df_states_urban = df_states[df_states['UA'] != 99999]"
   ]
  },
  {
   "cell_type": "code",
   "execution_count": 35,
   "metadata": {
    "collapsed": true
   },
   "outputs": [],
   "source": [
    "df_75.to_csv('/Users/alenastern/Documents/Spring2018/Machine_Learning/evictions-learn/src/data/Urban_County_2010_states.csv', index = False)\n"
   ]
  },
  {
   "cell_type": "code",
   "execution_count": 9,
   "metadata": {},
   "outputs": [
    {
     "data": {
      "text/plain": [
       "(2765, 4)"
      ]
     },
     "execution_count": 9,
     "metadata": {},
     "output_type": "execute_result"
    }
   ],
   "source": [
    "df_states.shape"
   ]
  },
  {
   "cell_type": "code",
   "execution_count": 10,
   "metadata": {},
   "outputs": [
    {
     "data": {
      "text/plain": [
       "(1751, 4)"
      ]
     },
     "execution_count": 10,
     "metadata": {},
     "output_type": "execute_result"
    }
   ],
   "source": [
    "df_states_urban.shape"
   ]
  },
  {
   "cell_type": "code",
   "execution_count": null,
   "metadata": {
    "collapsed": true
   },
   "outputs": [],
   "source": []
  }
 ],
 "metadata": {
  "kernelspec": {
   "display_name": "Python 3",
   "language": "python",
   "name": "python3"
  },
  "language_info": {
   "codemirror_mode": {
    "name": "ipython",
    "version": 3
   },
   "file_extension": ".py",
   "mimetype": "text/x-python",
   "name": "python",
   "nbconvert_exporter": "python",
   "pygments_lexer": "ipython3",
   "version": "3.6.3"
  }
 },
 "nbformat": 4,
 "nbformat_minor": 2
}
