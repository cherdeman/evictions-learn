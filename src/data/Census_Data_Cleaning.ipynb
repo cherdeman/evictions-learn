{
 "cells": [
  {
   "cell_type": "code",
   "execution_count": 1,
   "metadata": {
    "collapsed": true
   },
   "outputs": [],
   "source": [
    "import  pandas  as  pd\n",
    "import numpy as np\n",
    "import os\n",
    "import matplotlib.pyplot as plt\n",
    "import geopandas as gpd\n",
    "import pyproj\n",
    "import datetime\n",
    "from geopandas import GeoDataFrame as gdf\n",
    "from shapely.geometry import Point\n",
    "from shapely.geometry import Polygon\n",
    "import json\n",
    "import sys\n",
    "%matplotlib inline"
   ]
  },
  {
   "cell_type": "markdown",
   "metadata": {},
   "source": [
    "# Scraping Building Permit Data"
   ]
  },
  {
   "cell_type": "code",
   "execution_count": null,
   "metadata": {
    "collapsed": true
   },
   "outputs": [],
   "source": [
    "#create list of URLs that point to annual permit data files from Census website\n",
    "url_list = []\n",
    "\n",
    "req = requests.get('https://www2.census.gov/econ/bps/County/')\n",
    "html = req.text.encode('iso-8859-1')\n",
    "soup = bs4.BeautifulSoup(html, \"html5lib\")\n",
    "\n",
    "a_list = soup.find_all(\"a\") \n",
    "for a in a_list:\n",
    "    rel_link = a.get(\"href\")\n",
    "    if rel_link is not None and re.match(\"co....a.txt\", rel_link) and int(rel_link[2:6]) >= 2000:\n",
    "        full_link = starting_url + rel_link \n",
    "        url_list.append(full_link)"
   ]
  },
  {
   "cell_type": "code",
   "execution_count": null,
   "metadata": {
    "collapsed": true
   },
   "outputs": [],
   "source": [
    "#download data from list of urls and combine in pandas dataframe\n",
    "num = 0 \n",
    "for url in url_list:\n",
    "    int_df = pd.read_table(url, sep = ',')\n",
    "    if num == 0:\n",
    "        df = int_df\n",
    "        num += 1\n",
    "    else:\n",
    "        df = pd.concat([df, int_df])\n",
    "        num += 1"
   ]
  },
  {
   "cell_type": "code",
   "execution_count": null,
   "metadata": {
    "collapsed": true
   },
   "outputs": [],
   "source": [
    "permits = df.reset_index()"
   ]
  },
  {
   "cell_type": "code",
   "execution_count": null,
   "metadata": {
    "collapsed": true
   },
   "outputs": [],
   "source": [
    "# this data has a few erroneous duplicate records, they are removed here\n",
    "permits = permits[permits.duplicated() == False]"
   ]
  },
  {
   "cell_type": "code",
   "execution_count": null,
   "metadata": {
    "collapsed": true
   },
   "outputs": [],
   "source": [
    "permits.rename(index=str, columns={\"index\": \"year\", \"Survey\": \"state\", \"FIPS\": \"county\", \"FIPS.1\": \"region\",\n",
    "                             \"Region\": \"division\", \"Division\": \"name\", \"County\": \"bldg_1\", \"Unnamed: 6\": \"units_1\",\n",
    "                             \"1-unit\": \"value_1\", \"Unnamed: 8\": \"bldg_2\", \"Unnamed: 9\": \"units_2\", \"2-units\": \"value_2\",\n",
    "                              \"Unnamed: 11\": \"bldg_3\", \"Unnamed: 12\": \"units_3\", \"3-4 units\": \"value_3-4\",\n",
    "                              \"Unnamed: 14\": \"bldg_5\", \"Unnamed: 15\": \"units_5\", \"5+ units\": \"value_5\"}, inplace = True)"
   ]
  },
  {
   "cell_type": "code",
   "execution_count": null,
   "metadata": {
    "collapsed": true
   },
   "outputs": [],
   "source": [
    "permits.drop(['Unnamed: 17', 'Unnamed: 18', '1-unit rep', 'Unnamed: 20',\n",
    "       'Unnamed: 21', '2-units rep', 'Unnamed: 23', 'Unnamed: 24',\n",
    "       '3-4 units rep', 'Unnamed: 26', 'Unnamed: 27', ' 5+units rep'], axis=1, inplace = True)"
   ]
  },
  {
   "cell_type": "code",
   "execution_count": null,
   "metadata": {
    "collapsed": true
   },
   "outputs": [],
   "source": [
    "permits.drop('0', axis = 0, inplace = True)"
   ]
  },
  {
   "cell_type": "code",
   "execution_count": null,
   "metadata": {
    "collapsed": true
   },
   "outputs": [],
   "source": [
    "#calculate total building, units, and value columns by adding together disaggregated columns\n",
    "cols = ['bldg_1', 'units_1', 'value_1', 'bldg_2', 'units_2', 'value_2', 'bldg_3', 'units_3', 'value_3-4',\n",
    "       'bldg_5', 'units_5', 'value_5']\n",
    "\n",
    "permits[cols] = permits[cols].apply(pd.to_numeric, errors='coerce')\n",
    "\n",
    "\n",
    "permits['total_bldg'] = permits['bldg_1'] + permits['bldg_2'] + permits['bldg_3'] + permits['bldg_5'] \n",
    "permits['total_units'] = permits['units_1'] + permits['units_2'] + permits['units_3'] + permits['units_5']\n",
    "permits['total_value'] = permits['value_1'] + permits['value_2'] + permits['value_3-4'] + permits['value_5']"
   ]
  },
  {
   "cell_type": "code",
   "execution_count": null,
   "metadata": {
    "collapsed": true
   },
   "outputs": [],
   "source": [
    "# only keep rows in South Atlantic and East North Central Divisions\n",
    "permits_div = permits[(permits['division'] == '3') | (permits['division'] == '5')]"
   ]
  },
  {
   "cell_type": "code",
   "execution_count": null,
   "metadata": {
    "collapsed": true
   },
   "outputs": [],
   "source": [
    "permits_total = permits_div[['year', 'state', 'county', 'region', 'division', 'total_bldg', 'total_units', 'total_value']]"
   ]
  },
  {
   "cell_type": "code",
   "execution_count": null,
   "metadata": {
    "collapsed": true
   },
   "outputs": [],
   "source": [
    "# create geoid by concatenating state and county ids\n",
    "permits_total['geo_id'] = permits['state'] + permits['county']"
   ]
  },
  {
   "cell_type": "code",
   "execution_count": null,
   "metadata": {
    "collapsed": true
   },
   "outputs": [],
   "source": [
    "permits_total.total_units = permits_total.total_units.astype(int)\n",
    "permits_total.total_bldg = permits_total.total_bldg.astype(int)"
   ]
  },
  {
   "cell_type": "code",
   "execution_count": null,
   "metadata": {
    "collapsed": true
   },
   "outputs": [],
   "source": [
    "permits_total = permits_total[permits_total.duplicated()==False]"
   ]
  },
  {
   "cell_type": "code",
   "execution_count": null,
   "metadata": {
    "collapsed": true
   },
   "outputs": [],
   "source": [
    "# write clean data file to csv\n",
    "permits_total.to_csv('permits.csv', index = False)"
   ]
  },
  {
   "cell_type": "markdown",
   "metadata": {
    "collapsed": true
   },
   "source": [
    "# Household Size Data"
   ]
  },
  {
   "cell_type": "code",
   "execution_count": 3,
   "metadata": {
    "collapsed": true
   },
   "outputs": [],
   "source": [
    "# read 1990, 2000, and 2010 household size census data from NHGIS time series table\n",
    "hs_census = pd.read_csv('raw/hhsize.csv')"
   ]
  },
  {
   "cell_type": "code",
   "execution_count": 4,
   "metadata": {
    "collapsed": true
   },
   "outputs": [],
   "source": [
    "# only keep states in South Atlantic and East North Central regions\n",
    "hs_census = hs_census[(hs_census['STATEA'] == 18) | (hs_census['STATEA'] == 17) | (hs_census['STATEA'] == 26) |\n",
    "                     (hs_census['STATEA'] == 39) |\n",
    "                     (hs_census['STATEA'] == 55) |\n",
    "                     (hs_census['STATEA'] == 10) |\n",
    "                     (hs_census['STATEA'] == 11) |\n",
    "                     (hs_census['STATEA'] == 12) |\n",
    "                     (hs_census['STATEA'] == 13) |\n",
    "                     (hs_census['STATEA'] == 24) |\n",
    "                     (hs_census['STATEA'] == 37) |\n",
    "                     (hs_census['STATEA'] == 45) |\n",
    "                     (hs_census['STATEA'] == 51) |\n",
    "                     (hs_census['STATEA'] == 54)]"
   ]
  },
  {
   "cell_type": "code",
   "execution_count": 6,
   "metadata": {
    "collapsed": true
   },
   "outputs": [],
   "source": [
    "# only keep 2000 and 2010 data\n",
    "hs_census = hs_census[(hs_census['DATAYEAR'] == 2000) | (hs_census['DATAYEAR'] == 2010) ]"
   ]
  },
  {
   "cell_type": "code",
   "execution_count": 7,
   "metadata": {
    "collapsed": true
   },
   "outputs": [],
   "source": [
    "hs_census.rename(index = str, columns = {'DATAYEAR' : 'Year', 'CM4AA' : 'Total_HH', 'CS2AA': 'HHF_2', 'CS2AB': 'HHF_3', 'CS2AC': 'HHF_4',\n",
    "          'CS2AD' : 'HHF_5', 'CS2AE' : 'HHF_6', 'CS2AF': 'HHF_7', 'CS2AG' : 'HHN_1',\n",
    "          'CS2AH' : 'HHN_2', 'CS2AI' : 'HHN_3', 'CS2AJ': 'HHN_4', 'CS2AK': 'HHN_5',\n",
    "          'CS2AL' : 'HHN_6', 'CS2AM' :'HHN_7'}, inplace = True)"
   ]
  },
  {
   "cell_type": "code",
   "execution_count": 8,
   "metadata": {
    "collapsed": true
   },
   "outputs": [],
   "source": [
    "# create id in census geo_id format from the GISJOIN field\n",
    "hs_census['geo_id'] = hs_census.GISJOIN.str[1:3] + hs_census.GISJOIN.str[4:7] + hs_census.GISJOIN.str[8:15] "
   ]
  },
  {
   "cell_type": "code",
   "execution_count": 9,
   "metadata": {
    "collapsed": true
   },
   "outputs": [],
   "source": [
    "hs_census = hs_census[['Year','Total_HH', 'HHF_2', 'HHF_3', 'HHF_4', 'HHF_5', 'HHF_6', 'HHF_7', 'HHN_1', 'HHN_2',\n",
    "                      'HHN_3', 'HHN_4', 'HHN_5', 'HHN_6', 'HHN_7', 'geo_id']]"
   ]
  },
  {
   "cell_type": "code",
   "execution_count": 10,
   "metadata": {
    "collapsed": true
   },
   "outputs": [],
   "source": [
    "# calculate the total number of individuals living in households in the given blockgroup by combining the number of households of different sizes multiplied by the number of people\n",
    "# note, households reported by the census as '7+' individuals are counted as size 7\n",
    "hs_census['total_ppl'] = hs_census['HHF_2']*2 + hs_census['HHF_3']*3 + hs_census['HHF_4']*4 + hs_census['HHF_5']*5 + hs_census['HHF_6']*6 + hs_census['HHF_7']*7 + hs_census['HHN_1'] + hs_census['HHN_2']*2 + hs_census['HHN_3']*3 + hs_census['HHN_4']*4 + hs_census['HHN_5']*5 + hs_census['HHN_6']*6 + hs_census['HHN_7']*7"
   ]
  },
  {
   "cell_type": "code",
   "execution_count": 11,
   "metadata": {},
   "outputs": [
    {
     "data": {
      "text/html": [
       "<div>\n",
       "<style scoped>\n",
       "    .dataframe tbody tr th:only-of-type {\n",
       "        vertical-align: middle;\n",
       "    }\n",
       "\n",
       "    .dataframe tbody tr th {\n",
       "        vertical-align: top;\n",
       "    }\n",
       "\n",
       "    .dataframe thead th {\n",
       "        text-align: right;\n",
       "    }\n",
       "</style>\n",
       "<table border=\"1\" class=\"dataframe\">\n",
       "  <thead>\n",
       "    <tr style=\"text-align: right;\">\n",
       "      <th></th>\n",
       "      <th>Year</th>\n",
       "      <th>Total_HH</th>\n",
       "      <th>HHF_2</th>\n",
       "      <th>HHF_3</th>\n",
       "      <th>HHF_4</th>\n",
       "      <th>HHF_5</th>\n",
       "      <th>HHF_6</th>\n",
       "      <th>HHF_7</th>\n",
       "      <th>HHN_1</th>\n",
       "      <th>HHN_2</th>\n",
       "      <th>HHN_3</th>\n",
       "      <th>HHN_4</th>\n",
       "      <th>HHN_5</th>\n",
       "      <th>HHN_6</th>\n",
       "      <th>HHN_7</th>\n",
       "      <th>geo_id</th>\n",
       "      <th>total_ppl</th>\n",
       "    </tr>\n",
       "  </thead>\n",
       "  <tbody>\n",
       "    <tr>\n",
       "      <th>257366</th>\n",
       "      <td>2000</td>\n",
       "      <td>662.0</td>\n",
       "      <td>201.0</td>\n",
       "      <td>123.0</td>\n",
       "      <td>144.0</td>\n",
       "      <td>46.0</td>\n",
       "      <td>18.0</td>\n",
       "      <td>15.0</td>\n",
       "      <td>88.0</td>\n",
       "      <td>20.0</td>\n",
       "      <td>4.0</td>\n",
       "      <td>3.0</td>\n",
       "      <td>0.0</td>\n",
       "      <td>0.0</td>\n",
       "      <td>0.0</td>\n",
       "      <td>100010401001</td>\n",
       "      <td>1942.0</td>\n",
       "    </tr>\n",
       "    <tr>\n",
       "      <th>257367</th>\n",
       "      <td>2000</td>\n",
       "      <td>593.0</td>\n",
       "      <td>182.0</td>\n",
       "      <td>108.0</td>\n",
       "      <td>124.0</td>\n",
       "      <td>39.0</td>\n",
       "      <td>10.0</td>\n",
       "      <td>13.0</td>\n",
       "      <td>87.0</td>\n",
       "      <td>22.0</td>\n",
       "      <td>5.0</td>\n",
       "      <td>3.0</td>\n",
       "      <td>0.0</td>\n",
       "      <td>0.0</td>\n",
       "      <td>0.0</td>\n",
       "      <td>100010401002</td>\n",
       "      <td>1688.0</td>\n",
       "    </tr>\n",
       "    <tr>\n",
       "      <th>257368</th>\n",
       "      <td>2000</td>\n",
       "      <td>595.0</td>\n",
       "      <td>173.0</td>\n",
       "      <td>105.0</td>\n",
       "      <td>83.0</td>\n",
       "      <td>35.0</td>\n",
       "      <td>20.0</td>\n",
       "      <td>26.0</td>\n",
       "      <td>119.0</td>\n",
       "      <td>32.0</td>\n",
       "      <td>1.0</td>\n",
       "      <td>1.0</td>\n",
       "      <td>0.0</td>\n",
       "      <td>0.0</td>\n",
       "      <td>0.0</td>\n",
       "      <td>100010401003</td>\n",
       "      <td>1660.0</td>\n",
       "    </tr>\n",
       "    <tr>\n",
       "      <th>257369</th>\n",
       "      <td>2000</td>\n",
       "      <td>623.0</td>\n",
       "      <td>183.0</td>\n",
       "      <td>93.0</td>\n",
       "      <td>105.0</td>\n",
       "      <td>42.0</td>\n",
       "      <td>11.0</td>\n",
       "      <td>7.0</td>\n",
       "      <td>151.0</td>\n",
       "      <td>23.0</td>\n",
       "      <td>2.0</td>\n",
       "      <td>4.0</td>\n",
       "      <td>1.0</td>\n",
       "      <td>1.0</td>\n",
       "      <td>0.0</td>\n",
       "      <td>100010402011</td>\n",
       "      <td>1620.0</td>\n",
       "    </tr>\n",
       "    <tr>\n",
       "      <th>257370</th>\n",
       "      <td>2000</td>\n",
       "      <td>749.0</td>\n",
       "      <td>174.0</td>\n",
       "      <td>131.0</td>\n",
       "      <td>87.0</td>\n",
       "      <td>47.0</td>\n",
       "      <td>23.0</td>\n",
       "      <td>6.0</td>\n",
       "      <td>224.0</td>\n",
       "      <td>51.0</td>\n",
       "      <td>4.0</td>\n",
       "      <td>0.0</td>\n",
       "      <td>2.0</td>\n",
       "      <td>0.0</td>\n",
       "      <td>0.0</td>\n",
       "      <td>100010402012</td>\n",
       "      <td>1852.0</td>\n",
       "    </tr>\n",
       "  </tbody>\n",
       "</table>\n",
       "</div>"
      ],
      "text/plain": [
       "        Year  Total_HH  HHF_2  HHF_3  HHF_4  HHF_5  HHF_6  HHF_7  HHN_1  \\\n",
       "257366  2000     662.0  201.0  123.0  144.0   46.0   18.0   15.0   88.0   \n",
       "257367  2000     593.0  182.0  108.0  124.0   39.0   10.0   13.0   87.0   \n",
       "257368  2000     595.0  173.0  105.0   83.0   35.0   20.0   26.0  119.0   \n",
       "257369  2000     623.0  183.0   93.0  105.0   42.0   11.0    7.0  151.0   \n",
       "257370  2000     749.0  174.0  131.0   87.0   47.0   23.0    6.0  224.0   \n",
       "\n",
       "        HHN_2  HHN_3  HHN_4  HHN_5  HHN_6  HHN_7        geo_id  total_ppl  \n",
       "257366   20.0    4.0    3.0    0.0    0.0    0.0  100010401001     1942.0  \n",
       "257367   22.0    5.0    3.0    0.0    0.0    0.0  100010401002     1688.0  \n",
       "257368   32.0    1.0    1.0    0.0    0.0    0.0  100010401003     1660.0  \n",
       "257369   23.0    2.0    4.0    1.0    1.0    0.0  100010402011     1620.0  \n",
       "257370   51.0    4.0    0.0    2.0    0.0    0.0  100010402012     1852.0  "
      ]
     },
     "execution_count": 11,
     "metadata": {},
     "output_type": "execute_result"
    }
   ],
   "source": [
    "hs_census.head()"
   ]
  },
  {
   "cell_type": "code",
   "execution_count": 12,
   "metadata": {
    "collapsed": true
   },
   "outputs": [],
   "source": [
    "# calculate average size variable by dividing the total number of occupants by the total number of households\n",
    "hs_census['avg_size'] = hs_census['total_ppl']/ hs_census['Total_HH']"
   ]
  },
  {
   "cell_type": "code",
   "execution_count": 16,
   "metadata": {
    "collapsed": true
   },
   "outputs": [],
   "source": [
    "# only keep relevant variables\n",
    "hs_census_final = hs_census[['Year', 'geo_id', 'avg_size']]"
   ]
  },
  {
   "cell_type": "code",
   "execution_count": 19,
   "metadata": {
    "collapsed": true
   },
   "outputs": [],
   "source": [
    "# read 2006-2010 ACS 5-year data \n",
    "hs_census10 = pd.read_csv('raw/hhsize_acs_2010.csv')"
   ]
  },
  {
   "cell_type": "code",
   "execution_count": 16,
   "metadata": {},
   "outputs": [
    {
     "data": {
      "text/plain": [
       "Index(['GISJOIN', 'YEAR', 'REGIONA', 'DIVISIONA', 'STATE', 'STATEA', 'COUNTY',\n",
       "       'COUNTYA', 'COUSUBA', 'PLACEA', 'TRACTA', 'BLKGRPA', 'CONCITA',\n",
       "       'AIANHHA', 'RES_ONLYA', 'TRUSTA', 'AITSCEA', 'ANRCA', 'CBSAA', 'CSAA',\n",
       "       'METDIVA', 'NECTAA', 'CNECTAA', 'NECTADIVA', 'UAA', 'CDCURRA', 'SLDUA',\n",
       "       'SLDLA', 'SUBMCDA', 'SDELMA', 'SDSECA', 'SDUNIA', 'PUMA5A', 'BTTRA',\n",
       "       'BTBGA', 'NAME_E', 'JNWE001', 'JNWE002', 'JNWE003', 'JNWE004',\n",
       "       'JNWE005', 'JNWE006', 'JNWE007', 'JNWE008', 'JNWE009', 'JNWE010',\n",
       "       'JNWE011', 'JNWE012', 'JNWE013', 'JNWE014', 'JNWE015', 'JNWE016',\n",
       "       'NAME_M', 'JNWM001', 'JNWM002', 'JNWM003', 'JNWM004', 'JNWM005',\n",
       "       'JNWM006', 'JNWM007', 'JNWM008', 'JNWM009', 'JNWM010', 'JNWM011',\n",
       "       'JNWM012', 'JNWM013', 'JNWM014', 'JNWM015', 'JNWM016'],\n",
       "      dtype='object')"
      ]
     },
     "execution_count": 16,
     "metadata": {},
     "output_type": "execute_result"
    }
   ],
   "source": [
    "hs_census10.columns"
   ]
  },
  {
   "cell_type": "code",
   "execution_count": 20,
   "metadata": {
    "collapsed": true
   },
   "outputs": [],
   "source": [
    "# process 2006-2010 ACS 5-year data following steps used above\n",
    "hs_census10.rename(index = str, columns = {'YEAR' : 'Year', 'JNWE001' : 'Total_HH', 'JNWE003': 'HHF_2', 'JNWE004': 'HHF_3', 'JNWE005': 'HHF_4',\n",
    "          'JNWE006' : 'HHF_5', 'JNWE007' : 'HHF_6', 'JNWE008': 'HHF_7', 'JNWE010' : 'HHN_1',\n",
    "          'JNWE011' : 'HHN_2', 'JNWE012' : 'HHN_3', 'JNWE013': 'HHN_4', 'JNWE014': 'HHN_5',\n",
    "          'JNWE015' : 'HHN_6', 'JNWE016' :'HHN_7'}, inplace = True)\n",
    "hs_census10['geo_id'] = hs_census10.GISJOIN.str[1:3] + hs_census10.GISJOIN.str[4:7] + hs_census10.GISJOIN.str[8:15]\n",
    "hs_census10 = hs_census10[['Year','Total_HH', 'HHF_2', 'HHF_3', 'HHF_4', 'HHF_5', 'HHF_6', 'HHF_7', 'HHN_1', 'HHN_2',\n",
    "                      'HHN_3', 'HHN_4', 'HHN_5', 'HHN_6', 'HHN_7', 'geo_id']]\n",
    "hs_census10['total_ppl'] = hs_census10['HHF_2']*2 + hs_census10['HHF_3']*3 + hs_census10['HHF_4']*4 + hs_census10['HHF_5']*5 + hs_census10['HHF_6']*6 + hs_census10['HHF_7']*7 + hs_census10['HHN_1'] + hs_census10['HHN_2']*2 + hs_census10['HHN_3']*3 + hs_census10['HHN_4']*4 + hs_census10['HHN_5']*5 + hs_census10['HHN_6']*6 + hs_census10['HHN_7']*7\n",
    "hs_census10['avg_size'] = hs_census10['total_ppl']/ hs_census10['Total_HH']\n",
    "hs_census_final10 = hs_census10[['Year', 'geo_id', 'avg_size']]"
   ]
  },
  {
   "cell_type": "code",
   "execution_count": 21,
   "metadata": {},
   "outputs": [
    {
     "data": {
      "text/html": [
       "<div>\n",
       "<style scoped>\n",
       "    .dataframe tbody tr th:only-of-type {\n",
       "        vertical-align: middle;\n",
       "    }\n",
       "\n",
       "    .dataframe tbody tr th {\n",
       "        vertical-align: top;\n",
       "    }\n",
       "\n",
       "    .dataframe thead th {\n",
       "        text-align: right;\n",
       "    }\n",
       "</style>\n",
       "<table border=\"1\" class=\"dataframe\">\n",
       "  <thead>\n",
       "    <tr style=\"text-align: right;\">\n",
       "      <th></th>\n",
       "      <th>GISJOIN</th>\n",
       "      <th>YEAR</th>\n",
       "      <th>REGIONA</th>\n",
       "      <th>DIVISIONA</th>\n",
       "      <th>STATE</th>\n",
       "      <th>STATEA</th>\n",
       "      <th>COUNTY</th>\n",
       "      <th>COUNTYA</th>\n",
       "      <th>COUSUBA</th>\n",
       "      <th>PLACEA</th>\n",
       "      <th>...</th>\n",
       "      <th>ADMKM007</th>\n",
       "      <th>ADMKM008</th>\n",
       "      <th>ADMKM009</th>\n",
       "      <th>ADMKM010</th>\n",
       "      <th>ADMKM011</th>\n",
       "      <th>ADMKM012</th>\n",
       "      <th>ADMKM013</th>\n",
       "      <th>ADMKM014</th>\n",
       "      <th>ADMKM015</th>\n",
       "      <th>ADMKM016</th>\n",
       "    </tr>\n",
       "  </thead>\n",
       "  <tbody>\n",
       "    <tr>\n",
       "      <th>0</th>\n",
       "      <td>G10000100401001</td>\n",
       "      <td>2011-2015</td>\n",
       "      <td>NaN</td>\n",
       "      <td>NaN</td>\n",
       "      <td>Delaware</td>\n",
       "      <td>10</td>\n",
       "      <td>Kent County</td>\n",
       "      <td>1</td>\n",
       "      <td>NaN</td>\n",
       "      <td>NaN</td>\n",
       "      <td>...</td>\n",
       "      <td>45</td>\n",
       "      <td>11</td>\n",
       "      <td>115</td>\n",
       "      <td>116</td>\n",
       "      <td>27</td>\n",
       "      <td>11</td>\n",
       "      <td>11</td>\n",
       "      <td>11</td>\n",
       "      <td>11</td>\n",
       "      <td>11</td>\n",
       "    </tr>\n",
       "    <tr>\n",
       "      <th>1</th>\n",
       "      <td>G10000100401002</td>\n",
       "      <td>2011-2015</td>\n",
       "      <td>NaN</td>\n",
       "      <td>NaN</td>\n",
       "      <td>Delaware</td>\n",
       "      <td>10</td>\n",
       "      <td>Kent County</td>\n",
       "      <td>1</td>\n",
       "      <td>NaN</td>\n",
       "      <td>NaN</td>\n",
       "      <td>...</td>\n",
       "      <td>26</td>\n",
       "      <td>14</td>\n",
       "      <td>83</td>\n",
       "      <td>81</td>\n",
       "      <td>14</td>\n",
       "      <td>11</td>\n",
       "      <td>11</td>\n",
       "      <td>11</td>\n",
       "      <td>11</td>\n",
       "      <td>11</td>\n",
       "    </tr>\n",
       "    <tr>\n",
       "      <th>2</th>\n",
       "      <td>G10000100401003</td>\n",
       "      <td>2011-2015</td>\n",
       "      <td>NaN</td>\n",
       "      <td>NaN</td>\n",
       "      <td>Delaware</td>\n",
       "      <td>10</td>\n",
       "      <td>Kent County</td>\n",
       "      <td>1</td>\n",
       "      <td>NaN</td>\n",
       "      <td>NaN</td>\n",
       "      <td>...</td>\n",
       "      <td>23</td>\n",
       "      <td>11</td>\n",
       "      <td>90</td>\n",
       "      <td>45</td>\n",
       "      <td>76</td>\n",
       "      <td>21</td>\n",
       "      <td>11</td>\n",
       "      <td>11</td>\n",
       "      <td>11</td>\n",
       "      <td>11</td>\n",
       "    </tr>\n",
       "    <tr>\n",
       "      <th>3</th>\n",
       "      <td>G10000100402011</td>\n",
       "      <td>2011-2015</td>\n",
       "      <td>NaN</td>\n",
       "      <td>NaN</td>\n",
       "      <td>Delaware</td>\n",
       "      <td>10</td>\n",
       "      <td>Kent County</td>\n",
       "      <td>1</td>\n",
       "      <td>NaN</td>\n",
       "      <td>NaN</td>\n",
       "      <td>...</td>\n",
       "      <td>28</td>\n",
       "      <td>11</td>\n",
       "      <td>46</td>\n",
       "      <td>44</td>\n",
       "      <td>17</td>\n",
       "      <td>11</td>\n",
       "      <td>11</td>\n",
       "      <td>11</td>\n",
       "      <td>11</td>\n",
       "      <td>11</td>\n",
       "    </tr>\n",
       "    <tr>\n",
       "      <th>4</th>\n",
       "      <td>G10000100402012</td>\n",
       "      <td>2011-2015</td>\n",
       "      <td>NaN</td>\n",
       "      <td>NaN</td>\n",
       "      <td>Delaware</td>\n",
       "      <td>10</td>\n",
       "      <td>Kent County</td>\n",
       "      <td>1</td>\n",
       "      <td>NaN</td>\n",
       "      <td>NaN</td>\n",
       "      <td>...</td>\n",
       "      <td>20</td>\n",
       "      <td>19</td>\n",
       "      <td>130</td>\n",
       "      <td>123</td>\n",
       "      <td>47</td>\n",
       "      <td>11</td>\n",
       "      <td>11</td>\n",
       "      <td>11</td>\n",
       "      <td>11</td>\n",
       "      <td>11</td>\n",
       "    </tr>\n",
       "  </tbody>\n",
       "</table>\n",
       "<p>5 rows × 70 columns</p>\n",
       "</div>"
      ],
      "text/plain": [
       "           GISJOIN       YEAR  REGIONA  DIVISIONA     STATE  STATEA  \\\n",
       "0  G10000100401001  2011-2015      NaN        NaN  Delaware      10   \n",
       "1  G10000100401002  2011-2015      NaN        NaN  Delaware      10   \n",
       "2  G10000100401003  2011-2015      NaN        NaN  Delaware      10   \n",
       "3  G10000100402011  2011-2015      NaN        NaN  Delaware      10   \n",
       "4  G10000100402012  2011-2015      NaN        NaN  Delaware      10   \n",
       "\n",
       "        COUNTY  COUNTYA  COUSUBA  PLACEA    ...     ADMKM007  ADMKM008  \\\n",
       "0  Kent County        1      NaN     NaN    ...           45        11   \n",
       "1  Kent County        1      NaN     NaN    ...           26        14   \n",
       "2  Kent County        1      NaN     NaN    ...           23        11   \n",
       "3  Kent County        1      NaN     NaN    ...           28        11   \n",
       "4  Kent County        1      NaN     NaN    ...           20        19   \n",
       "\n",
       "   ADMKM009  ADMKM010  ADMKM011  ADMKM012  ADMKM013  ADMKM014  ADMKM015  \\\n",
       "0       115       116        27        11        11        11        11   \n",
       "1        83        81        14        11        11        11        11   \n",
       "2        90        45        76        21        11        11        11   \n",
       "3        46        44        17        11        11        11        11   \n",
       "4       130       123        47        11        11        11        11   \n",
       "\n",
       "   ADMKM016  \n",
       "0        11  \n",
       "1        11  \n",
       "2        11  \n",
       "3        11  \n",
       "4        11  \n",
       "\n",
       "[5 rows x 70 columns]"
      ]
     },
     "execution_count": 21,
     "metadata": {},
     "output_type": "execute_result"
    }
   ],
   "source": [
    "# read 2011-2016 ACS 5-year data\n",
    "hs_census15 = pd.read_csv('raw/hhsize_acs_2015.csv')\n",
    "hs_census15.head()"
   ]
  },
  {
   "cell_type": "code",
   "execution_count": 22,
   "metadata": {
    "collapsed": true
   },
   "outputs": [],
   "source": [
    "# households 7 or above coded as 7 people \n",
    "hs_census15.rename(index = str, columns = {'YEAR' : 'Year', 'ADMKE001' : 'Total_HH', 'ADMKE003': 'HHF_2', 'ADMKE004': 'HHF_3', 'ADMKE005': 'HHF_4',\n",
    "          'ADMKE006' : 'HHF_5', 'ADMKE007' : 'HHF_6', 'ADMKE008': 'HHF_7', 'ADMKE010' : 'HHN_1',\n",
    "          'ADMKE011' : 'HHN_2', 'ADMKE012' : 'HHN_3', 'ADMKE013': 'HHN_4', 'ADMKE014': 'HHN_5',\n",
    "          'ADMKE015' : 'HHN_6', 'ADMKE016' :'HHN_7'}, inplace = True)\n",
    "hs_census15['geo_id'] = hs_census15.GISJOIN.str[1:3] + hs_census15.GISJOIN.str[4:7] + hs_census15.GISJOIN.str[8:15] \n",
    "hs_census15 = hs_census15[['Year','Total_HH', 'HHF_2', 'HHF_3', 'HHF_4', 'HHF_5', 'HHF_6', 'HHF_7', 'HHN_1', 'HHN_2',\n",
    "                      'HHN_3', 'HHN_4', 'HHN_5', 'HHN_6', 'HHN_7', 'geo_id']]\n",
    "hs_census15['total_ppl'] = hs_census15['HHF_2']*2 + hs_census15['HHF_3']*3 + hs_census15['HHF_4']*4 + hs_census15['HHF_5']*5 + hs_census10['HHF_6']*6 + hs_census10['HHF_7']*7 + hs_census10['HHN_1'] + hs_census10['HHN_2']*2 + hs_census10['HHN_3']*3 + hs_census10['HHN_4']*4 + hs_census10['HHN_5']*5 + hs_census10['HHN_6']*6 + hs_census10['HHN_7']*7\n",
    "hs_census15['avg_size'] = hs_census15['total_ppl']/ hs_census15['Total_HH']\n",
    "hs_census_final15 = hs_census15[['Year', 'geo_id', 'avg_size']]"
   ]
  },
  {
   "cell_type": "code",
   "execution_count": 25,
   "metadata": {},
   "outputs": [
    {
     "name": "stderr",
     "output_type": "stream",
     "text": [
      "/Users/alenastern/anaconda3/lib/python3.6/site-packages/ipykernel_launcher.py:7: SettingWithCopyWarning: \n",
      "A value is trying to be set on a copy of a slice from a DataFrame.\n",
      "Try using .loc[row_indexer,col_indexer] = value instead\n",
      "\n",
      "See the caveats in the documentation: http://pandas.pydata.org/pandas-docs/stable/indexing.html#indexing-view-versus-copy\n",
      "  import sys\n",
      "/Users/alenastern/anaconda3/lib/python3.6/site-packages/ipykernel_launcher.py:10: SettingWithCopyWarning: \n",
      "A value is trying to be set on a copy of a slice from a DataFrame.\n",
      "Try using .loc[row_indexer,col_indexer] = value instead\n",
      "\n",
      "See the caveats in the documentation: http://pandas.pydata.org/pandas-docs/stable/indexing.html#indexing-view-versus-copy\n",
      "  # Remove the CWD from sys.path while we load stuff.\n",
      "/Users/alenastern/anaconda3/lib/python3.6/site-packages/ipykernel_launcher.py:15: SettingWithCopyWarning: \n",
      "A value is trying to be set on a copy of a slice from a DataFrame.\n",
      "Try using .loc[row_indexer,col_indexer] = value instead\n",
      "\n",
      "See the caveats in the documentation: http://pandas.pydata.org/pandas-docs/stable/indexing.html#indexing-view-versus-copy\n",
      "  from ipykernel import kernelapp as app\n"
     ]
    }
   ],
   "source": [
    "# Combine data sources into single file covering the full time-series of the analysis. The 2000 Census data covers 2000-2005,\n",
    "# the 2006-2010 ACS 5-year data covers 2006-2009, the 2010 Census covers 2010, the 2011-2016 ACS covers 2011-2016.\n",
    "yearlist = [2000, 2001, 2002, 2003, 2004, 2005, 2006, 2007, 2008, 2009, 2010, 2011, \n",
    "            2012, 2013, 2014, 2015, 2016]\n",
    "\n",
    "hs_census_00 = hs_census_final[hs_census_final['Year'] == 2000]\n",
    "hs_census_10 = hs_census_final[hs_census_final['Year'] == 2010]\n",
    "dflist = []\n",
    "\n",
    "for year in yearlist:\n",
    "    if year < 2006:\n",
    "        hs_census_00['Year'] = year\n",
    "        dflist.append(hs_census_00.copy())\n",
    "    elif year >= 2006 and year < 2010:\n",
    "        hs_census_final10['Year'] = year\n",
    "        dflist.append(hs_census_final10.copy())\n",
    "    elif year == 2010:\n",
    "        dflist.append(hs_census_10.copy())\n",
    "    else:\n",
    "        hs_census_final15['Year'] = year\n",
    "        dflist.append(hs_census_final15.copy())\n",
    "        \n",
    "    \n",
    "hs_final = pd.concat(dflist)"
   ]
  },
  {
   "cell_type": "code",
   "execution_count": 29,
   "metadata": {
    "collapsed": true
   },
   "outputs": [],
   "source": [
    "# Replace infinite entries with 7\n",
    "mask = hs_final.avg_size == np.inf\n",
    "column_name = 'avg_size'\n",
    "hs_final.loc[mask, column_name] = 7"
   ]
  },
  {
   "cell_type": "code",
   "execution_count": 33,
   "metadata": {
    "collapsed": true
   },
   "outputs": [],
   "source": [
    "# Replace values greater than 7 with 7\n",
    "mask = hs_final.avg_size > 7\n",
    "column_name = 'avg_size'\n",
    "hs_final.loc[mask, column_name] = 7"
   ]
  },
  {
   "cell_type": "code",
   "execution_count": 35,
   "metadata": {},
   "outputs": [
    {
     "data": {
      "text/html": [
       "<div>\n",
       "<style scoped>\n",
       "    .dataframe tbody tr th:only-of-type {\n",
       "        vertical-align: middle;\n",
       "    }\n",
       "\n",
       "    .dataframe tbody tr th {\n",
       "        vertical-align: top;\n",
       "    }\n",
       "\n",
       "    .dataframe thead th {\n",
       "        text-align: right;\n",
       "    }\n",
       "</style>\n",
       "<table border=\"1\" class=\"dataframe\">\n",
       "  <thead>\n",
       "    <tr style=\"text-align: right;\">\n",
       "      <th></th>\n",
       "      <th>geo_id</th>\n",
       "      <th>avg_size</th>\n",
       "    </tr>\n",
       "    <tr>\n",
       "      <th>Year</th>\n",
       "      <th></th>\n",
       "      <th></th>\n",
       "    </tr>\n",
       "  </thead>\n",
       "  <tbody>\n",
       "    <tr>\n",
       "      <th>2000</th>\n",
       "      <td>74500</td>\n",
       "      <td>74143</td>\n",
       "    </tr>\n",
       "    <tr>\n",
       "      <th>2001</th>\n",
       "      <td>74500</td>\n",
       "      <td>74143</td>\n",
       "    </tr>\n",
       "    <tr>\n",
       "      <th>2002</th>\n",
       "      <td>74500</td>\n",
       "      <td>74143</td>\n",
       "    </tr>\n",
       "    <tr>\n",
       "      <th>2003</th>\n",
       "      <td>74500</td>\n",
       "      <td>74143</td>\n",
       "    </tr>\n",
       "    <tr>\n",
       "      <th>2004</th>\n",
       "      <td>74500</td>\n",
       "      <td>74143</td>\n",
       "    </tr>\n",
       "    <tr>\n",
       "      <th>2005</th>\n",
       "      <td>74500</td>\n",
       "      <td>74143</td>\n",
       "    </tr>\n",
       "    <tr>\n",
       "      <th>2006</th>\n",
       "      <td>74500</td>\n",
       "      <td>74006</td>\n",
       "    </tr>\n",
       "    <tr>\n",
       "      <th>2007</th>\n",
       "      <td>74500</td>\n",
       "      <td>74006</td>\n",
       "    </tr>\n",
       "    <tr>\n",
       "      <th>2008</th>\n",
       "      <td>74500</td>\n",
       "      <td>74006</td>\n",
       "    </tr>\n",
       "    <tr>\n",
       "      <th>2009</th>\n",
       "      <td>74500</td>\n",
       "      <td>74006</td>\n",
       "    </tr>\n",
       "    <tr>\n",
       "      <th>2010</th>\n",
       "      <td>74500</td>\n",
       "      <td>74110</td>\n",
       "    </tr>\n",
       "    <tr>\n",
       "      <th>2011</th>\n",
       "      <td>74500</td>\n",
       "      <td>74071</td>\n",
       "    </tr>\n",
       "    <tr>\n",
       "      <th>2012</th>\n",
       "      <td>74500</td>\n",
       "      <td>74071</td>\n",
       "    </tr>\n",
       "    <tr>\n",
       "      <th>2013</th>\n",
       "      <td>74500</td>\n",
       "      <td>74071</td>\n",
       "    </tr>\n",
       "    <tr>\n",
       "      <th>2014</th>\n",
       "      <td>74500</td>\n",
       "      <td>74071</td>\n",
       "    </tr>\n",
       "    <tr>\n",
       "      <th>2015</th>\n",
       "      <td>74500</td>\n",
       "      <td>74071</td>\n",
       "    </tr>\n",
       "    <tr>\n",
       "      <th>2016</th>\n",
       "      <td>74500</td>\n",
       "      <td>74071</td>\n",
       "    </tr>\n",
       "  </tbody>\n",
       "</table>\n",
       "</div>"
      ],
      "text/plain": [
       "      geo_id  avg_size\n",
       "Year                  \n",
       "2000   74500     74143\n",
       "2001   74500     74143\n",
       "2002   74500     74143\n",
       "2003   74500     74143\n",
       "2004   74500     74143\n",
       "2005   74500     74143\n",
       "2006   74500     74006\n",
       "2007   74500     74006\n",
       "2008   74500     74006\n",
       "2009   74500     74006\n",
       "2010   74500     74110\n",
       "2011   74500     74071\n",
       "2012   74500     74071\n",
       "2013   74500     74071\n",
       "2014   74500     74071\n",
       "2015   74500     74071\n",
       "2016   74500     74071"
      ]
     },
     "execution_count": 35,
     "metadata": {},
     "output_type": "execute_result"
    }
   ],
   "source": [
    "hs_final.groupby('Year').count()"
   ]
  },
  {
   "cell_type": "code",
   "execution_count": 34,
   "metadata": {},
   "outputs": [
    {
     "data": {
      "text/html": [
       "<div>\n",
       "<style scoped>\n",
       "    .dataframe tbody tr th:only-of-type {\n",
       "        vertical-align: middle;\n",
       "    }\n",
       "\n",
       "    .dataframe tbody tr th {\n",
       "        vertical-align: top;\n",
       "    }\n",
       "\n",
       "    .dataframe thead th {\n",
       "        text-align: right;\n",
       "    }\n",
       "</style>\n",
       "<table border=\"1\" class=\"dataframe\">\n",
       "  <thead>\n",
       "    <tr style=\"text-align: right;\">\n",
       "      <th></th>\n",
       "      <th>geo_id</th>\n",
       "      <th>avg_size</th>\n",
       "    </tr>\n",
       "    <tr>\n",
       "      <th>Year</th>\n",
       "      <th></th>\n",
       "      <th></th>\n",
       "    </tr>\n",
       "  </thead>\n",
       "  <tbody>\n",
       "    <tr>\n",
       "      <th>2000</th>\n",
       "      <td>551410117005</td>\n",
       "      <td>7.000000</td>\n",
       "    </tr>\n",
       "    <tr>\n",
       "      <th>2001</th>\n",
       "      <td>551410117005</td>\n",
       "      <td>7.000000</td>\n",
       "    </tr>\n",
       "    <tr>\n",
       "      <th>2002</th>\n",
       "      <td>551410117005</td>\n",
       "      <td>7.000000</td>\n",
       "    </tr>\n",
       "    <tr>\n",
       "      <th>2003</th>\n",
       "      <td>551410117005</td>\n",
       "      <td>7.000000</td>\n",
       "    </tr>\n",
       "    <tr>\n",
       "      <th>2004</th>\n",
       "      <td>551410117005</td>\n",
       "      <td>7.000000</td>\n",
       "    </tr>\n",
       "    <tr>\n",
       "      <th>2005</th>\n",
       "      <td>551410117005</td>\n",
       "      <td>7.000000</td>\n",
       "    </tr>\n",
       "    <tr>\n",
       "      <th>2006</th>\n",
       "      <td>551410117005</td>\n",
       "      <td>7.000000</td>\n",
       "    </tr>\n",
       "    <tr>\n",
       "      <th>2007</th>\n",
       "      <td>551410117005</td>\n",
       "      <td>7.000000</td>\n",
       "    </tr>\n",
       "    <tr>\n",
       "      <th>2008</th>\n",
       "      <td>551410117005</td>\n",
       "      <td>7.000000</td>\n",
       "    </tr>\n",
       "    <tr>\n",
       "      <th>2009</th>\n",
       "      <td>551410117005</td>\n",
       "      <td>7.000000</td>\n",
       "    </tr>\n",
       "    <tr>\n",
       "      <th>2010</th>\n",
       "      <td>551410117005</td>\n",
       "      <td>6.142857</td>\n",
       "    </tr>\n",
       "    <tr>\n",
       "      <th>2011</th>\n",
       "      <td>551410117005</td>\n",
       "      <td>7.000000</td>\n",
       "    </tr>\n",
       "    <tr>\n",
       "      <th>2012</th>\n",
       "      <td>551410117005</td>\n",
       "      <td>7.000000</td>\n",
       "    </tr>\n",
       "    <tr>\n",
       "      <th>2013</th>\n",
       "      <td>551410117005</td>\n",
       "      <td>7.000000</td>\n",
       "    </tr>\n",
       "    <tr>\n",
       "      <th>2014</th>\n",
       "      <td>551410117005</td>\n",
       "      <td>7.000000</td>\n",
       "    </tr>\n",
       "    <tr>\n",
       "      <th>2015</th>\n",
       "      <td>551410117005</td>\n",
       "      <td>7.000000</td>\n",
       "    </tr>\n",
       "    <tr>\n",
       "      <th>2016</th>\n",
       "      <td>551410117005</td>\n",
       "      <td>7.000000</td>\n",
       "    </tr>\n",
       "  </tbody>\n",
       "</table>\n",
       "</div>"
      ],
      "text/plain": [
       "            geo_id  avg_size\n",
       "Year                        \n",
       "2000  551410117005  7.000000\n",
       "2001  551410117005  7.000000\n",
       "2002  551410117005  7.000000\n",
       "2003  551410117005  7.000000\n",
       "2004  551410117005  7.000000\n",
       "2005  551410117005  7.000000\n",
       "2006  551410117005  7.000000\n",
       "2007  551410117005  7.000000\n",
       "2008  551410117005  7.000000\n",
       "2009  551410117005  7.000000\n",
       "2010  551410117005  6.142857\n",
       "2011  551410117005  7.000000\n",
       "2012  551410117005  7.000000\n",
       "2013  551410117005  7.000000\n",
       "2014  551410117005  7.000000\n",
       "2015  551410117005  7.000000\n",
       "2016  551410117005  7.000000"
      ]
     },
     "execution_count": 34,
     "metadata": {},
     "output_type": "execute_result"
    }
   ],
   "source": [
    "hs_final.groupby('Year').max()"
   ]
  },
  {
   "cell_type": "code",
   "execution_count": 37,
   "metadata": {
    "collapsed": true
   },
   "outputs": [],
   "source": [
    "hs_final.to_csv('raw/hs_final.csv', index = False)"
   ]
  },
  {
   "cell_type": "markdown",
   "metadata": {},
   "source": [
    "# Read and clean urban data"
   ]
  },
  {
   "cell_type": "code",
   "execution_count": 12,
   "metadata": {
    "collapsed": true
   },
   "outputs": [],
   "source": [
    "# Read raw urban designation data\n",
    "df = pd.read_csv('raw/Urban_County_2010.csv', header = 0)"
   ]
  },
  {
   "cell_type": "code",
   "execution_count": 13,
   "metadata": {},
   "outputs": [
    {
     "data": {
      "text/html": [
       "<div>\n",
       "<style scoped>\n",
       "    .dataframe tbody tr th:only-of-type {\n",
       "        vertical-align: middle;\n",
       "    }\n",
       "\n",
       "    .dataframe tbody tr th {\n",
       "        vertical-align: top;\n",
       "    }\n",
       "\n",
       "    .dataframe thead th {\n",
       "        text-align: right;\n",
       "    }\n",
       "</style>\n",
       "<table border=\"1\" class=\"dataframe\">\n",
       "  <thead>\n",
       "    <tr style=\"text-align: right;\">\n",
       "      <th></th>\n",
       "      <th>UA</th>\n",
       "      <th>UANAME</th>\n",
       "      <th>STATE</th>\n",
       "      <th>COUNTY</th>\n",
       "      <th>GEOID</th>\n",
       "      <th>CNAME</th>\n",
       "      <th>POPPT</th>\n",
       "      <th>HUPT</th>\n",
       "      <th>AREAPT</th>\n",
       "      <th>AREALANDPT</th>\n",
       "      <th>...</th>\n",
       "      <th>CAREA</th>\n",
       "      <th>CAREALAND</th>\n",
       "      <th>UAPOPPCT</th>\n",
       "      <th>UAHUPCT</th>\n",
       "      <th>UAAREAPCT</th>\n",
       "      <th>UAAREALANDPCT</th>\n",
       "      <th>CPOPPCT</th>\n",
       "      <th>CHUPCT</th>\n",
       "      <th>CAREAPCT</th>\n",
       "      <th>CAREALANDPCT</th>\n",
       "    </tr>\n",
       "  </thead>\n",
       "  <tbody>\n",
       "    <tr>\n",
       "      <th>0</th>\n",
       "      <td>37</td>\n",
       "      <td>Abbeville, LA Urban Cluster</td>\n",
       "      <td>22</td>\n",
       "      <td>45</td>\n",
       "      <td>22045</td>\n",
       "      <td>Iberia Parish</td>\n",
       "      <td>556</td>\n",
       "      <td>244</td>\n",
       "      <td>1304730.0</td>\n",
       "      <td>1304730.0</td>\n",
       "      <td>...</td>\n",
       "      <td>2.669056e+09</td>\n",
       "      <td>1.486940e+09</td>\n",
       "      <td>2.80</td>\n",
       "      <td>2.88</td>\n",
       "      <td>4.42</td>\n",
       "      <td>4.46</td>\n",
       "      <td>0.76</td>\n",
       "      <td>0.82</td>\n",
       "      <td>0.05</td>\n",
       "      <td>0.09</td>\n",
       "    </tr>\n",
       "    <tr>\n",
       "      <th>1</th>\n",
       "      <td>37</td>\n",
       "      <td>Abbeville, LA Urban Cluster</td>\n",
       "      <td>22</td>\n",
       "      <td>113</td>\n",
       "      <td>22113</td>\n",
       "      <td>Vermilion Parish</td>\n",
       "      <td>19268</td>\n",
       "      <td>8216</td>\n",
       "      <td>28218638.0</td>\n",
       "      <td>27918141.0</td>\n",
       "      <td>...</td>\n",
       "      <td>3.993942e+09</td>\n",
       "      <td>3.038572e+09</td>\n",
       "      <td>97.20</td>\n",
       "      <td>97.12</td>\n",
       "      <td>95.58</td>\n",
       "      <td>95.54</td>\n",
       "      <td>33.22</td>\n",
       "      <td>32.56</td>\n",
       "      <td>0.71</td>\n",
       "      <td>0.92</td>\n",
       "    </tr>\n",
       "    <tr>\n",
       "      <th>2</th>\n",
       "      <td>64</td>\n",
       "      <td>Abbeville, SC Urban Cluster</td>\n",
       "      <td>45</td>\n",
       "      <td>1</td>\n",
       "      <td>45001</td>\n",
       "      <td>Abbeville County</td>\n",
       "      <td>5243</td>\n",
       "      <td>2578</td>\n",
       "      <td>11334983.0</td>\n",
       "      <td>11315197.0</td>\n",
       "      <td>...</td>\n",
       "      <td>1.323464e+09</td>\n",
       "      <td>1.270348e+09</td>\n",
       "      <td>100.00</td>\n",
       "      <td>100.00</td>\n",
       "      <td>100.00</td>\n",
       "      <td>100.00</td>\n",
       "      <td>20.63</td>\n",
       "      <td>21.34</td>\n",
       "      <td>0.86</td>\n",
       "      <td>0.89</td>\n",
       "    </tr>\n",
       "    <tr>\n",
       "      <th>3</th>\n",
       "      <td>91</td>\n",
       "      <td>Abbotsford, WI Urban Cluster</td>\n",
       "      <td>55</td>\n",
       "      <td>19</td>\n",
       "      <td>55019</td>\n",
       "      <td>Clark County</td>\n",
       "      <td>2863</td>\n",
       "      <td>1188</td>\n",
       "      <td>3274492.0</td>\n",
       "      <td>3261271.0</td>\n",
       "      <td>...</td>\n",
       "      <td>3.156643e+09</td>\n",
       "      <td>3.133407e+09</td>\n",
       "      <td>72.19</td>\n",
       "      <td>73.51</td>\n",
       "      <td>60.90</td>\n",
       "      <td>60.81</td>\n",
       "      <td>8.25</td>\n",
       "      <td>7.88</td>\n",
       "      <td>0.10</td>\n",
       "      <td>0.10</td>\n",
       "    </tr>\n",
       "    <tr>\n",
       "      <th>4</th>\n",
       "      <td>91</td>\n",
       "      <td>Abbotsford, WI Urban Cluster</td>\n",
       "      <td>55</td>\n",
       "      <td>73</td>\n",
       "      <td>55073</td>\n",
       "      <td>Marathon County</td>\n",
       "      <td>1103</td>\n",
       "      <td>428</td>\n",
       "      <td>2102170.0</td>\n",
       "      <td>2102170.0</td>\n",
       "      <td>...</td>\n",
       "      <td>4.082627e+09</td>\n",
       "      <td>4.001488e+09</td>\n",
       "      <td>27.81</td>\n",
       "      <td>26.49</td>\n",
       "      <td>39.10</td>\n",
       "      <td>39.19</td>\n",
       "      <td>0.82</td>\n",
       "      <td>0.74</td>\n",
       "      <td>0.05</td>\n",
       "      <td>0.05</td>\n",
       "    </tr>\n",
       "  </tbody>\n",
       "</table>\n",
       "<p>5 rows × 26 columns</p>\n",
       "</div>"
      ],
      "text/plain": [
       "   UA                        UANAME  STATE  COUNTY  GEOID             CNAME  \\\n",
       "0  37   Abbeville, LA Urban Cluster     22      45  22045     Iberia Parish   \n",
       "1  37   Abbeville, LA Urban Cluster     22     113  22113  Vermilion Parish   \n",
       "2  64   Abbeville, SC Urban Cluster     45       1  45001  Abbeville County   \n",
       "3  91  Abbotsford, WI Urban Cluster     55      19  55019      Clark County   \n",
       "4  91  Abbotsford, WI Urban Cluster     55      73  55073   Marathon County   \n",
       "\n",
       "   POPPT  HUPT      AREAPT  AREALANDPT      ...              CAREA  \\\n",
       "0    556   244   1304730.0   1304730.0      ...       2.669056e+09   \n",
       "1  19268  8216  28218638.0  27918141.0      ...       3.993942e+09   \n",
       "2   5243  2578  11334983.0  11315197.0      ...       1.323464e+09   \n",
       "3   2863  1188   3274492.0   3261271.0      ...       3.156643e+09   \n",
       "4   1103   428   2102170.0   2102170.0      ...       4.082627e+09   \n",
       "\n",
       "      CAREALAND  UAPOPPCT  UAHUPCT  UAAREAPCT  UAAREALANDPCT  CPOPPCT  CHUPCT  \\\n",
       "0  1.486940e+09      2.80     2.88       4.42           4.46     0.76    0.82   \n",
       "1  3.038572e+09     97.20    97.12      95.58          95.54    33.22   32.56   \n",
       "2  1.270348e+09    100.00   100.00     100.00         100.00    20.63   21.34   \n",
       "3  3.133407e+09     72.19    73.51      60.90          60.81     8.25    7.88   \n",
       "4  4.001488e+09     27.81    26.49      39.10          39.19     0.82    0.74   \n",
       "\n",
       "   CAREAPCT  CAREALANDPCT  \n",
       "0      0.05          0.09  \n",
       "1      0.71          0.92  \n",
       "2      0.86          0.89  \n",
       "3      0.10          0.10  \n",
       "4      0.05          0.05  \n",
       "\n",
       "[5 rows x 26 columns]"
      ]
     },
     "execution_count": 13,
     "metadata": {},
     "output_type": "execute_result"
    }
   ],
   "source": [
    "df.head()"
   ]
  },
  {
   "cell_type": "code",
   "execution_count": 3,
   "metadata": {
    "collapsed": true
   },
   "outputs": [],
   "source": [
    "# Only keep relevant columns\n",
    "df = df[['UA', 'STATE', 'COUNTY', 'GEOID']]       "
   ]
  },
  {
   "cell_type": "code",
   "execution_count": null,
   "metadata": {
    "collapsed": true
   },
   "outputs": [],
   "source": [
    "# Only keep data from relevant states\n",
    "df_states = df[(df['STATE'] == 18 ) | (df['STATE'] == 17) | (df['STATE'] == 26) | (df['STATE'] == 39) | (df['STATE'] == 55)\n",
    "              | (df['STATE'] == 10) | (df['STATE'] == 11 ) | (df['STATE'] == 12) | (df['STATE'] == 13) | (df['STATE'] == 24)\n",
    "              | (df['STATE'] == 37) | (df['STATE'] == 45) | (df['STATE'] == 51) | (df['STATE'] == 54)]"
   ]
  },
  {
   "cell_type": "code",
   "execution_count": null,
   "metadata": {
    "collapsed": true
   },
   "outputs": [],
   "source": [
    "# The data sources designates counties that do not contain any part of an urban area with the urban area code '99999'.\n",
    "# We remove these observations from our analysis\n",
    "df_states_urban = df_states[df_states['UA'] != 99999]"
   ]
  },
  {
   "cell_type": "code",
   "execution_count": 27,
   "metadata": {
    "collapsed": true
   },
   "outputs": [],
   "source": [
    "# We group by GEOID to find the total percentage of the population for each unique county that lives in urban areas\n",
    "pct = df_states_urban.groupby('GEOID').sum()"
   ]
  },
  {
   "cell_type": "code",
   "execution_count": 28,
   "metadata": {
    "collapsed": true
   },
   "outputs": [],
   "source": [
    "# We consider those counties that have at least 75% of their population living in urban areas as \"urban\" for our analysis\n",
    "pct_75 = pct[pct['CPOPPCT'] >= 75]"
   ]
  },
  {
   "cell_type": "code",
   "execution_count": 32,
   "metadata": {
    "collapsed": true
   },
   "outputs": [],
   "source": [
    "pct_75 = pct_75.reset_index()"
   ]
  },
  {
   "cell_type": "code",
   "execution_count": 33,
   "metadata": {
    "collapsed": true
   },
   "outputs": [],
   "source": [
    "df_75 = pct_75[['UA', 'STATE', 'COUNTY', 'GEOID']] "
   ]
  },
  {
   "cell_type": "code",
   "execution_count": 35,
   "metadata": {
    "collapsed": true
   },
   "outputs": [],
   "source": [
    "# Write the cleaned data to csv\n",
    "df_75.to_csv('raw/Urban_County_2010_sub.csv', index = False)"
   ]
  },
  {
   "cell_type": "code",
   "execution_count": null,
   "metadata": {
    "collapsed": true
   },
   "outputs": [],
   "source": []
  }
 ],
 "metadata": {
  "kernelspec": {
   "display_name": "Python 3",
   "language": "python",
   "name": "python3"
  },
  "language_info": {
   "codemirror_mode": {
    "name": "ipython",
    "version": 3
   },
   "file_extension": ".py",
   "mimetype": "text/x-python",
   "name": "python",
   "nbconvert_exporter": "python",
   "pygments_lexer": "ipython3",
   "version": "3.6.3"
  }
 },
 "nbformat": 4,
 "nbformat_minor": 2
}
