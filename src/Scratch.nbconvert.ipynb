{
 "cells": [
  {
   "cell_type": "code",
   "execution_count": 1,
   "metadata": {},
   "outputs": [],
   "source": [
    "%load_ext autoreload\n",
    "%autoreload 2\n",
    "%matplotlib inline\n",
    "import warnings\n",
    "import ml_utils as ml\n",
    "import graphviz\n",
    "import pandas as pd\n",
    "import seaborn as sns\n",
    "import matplotlib.pyplot as plt\n",
    "\n",
    "warnings.filterwarnings('ignore')"
   ]
  },
  {
   "cell_type": "code",
   "execution_count": 2,
   "metadata": {
    "scrolled": true
   },
   "outputs": [
    {
     "name": "stdout",
     "output_type": "stream",
     "text": [
      "Connected to evictions DB.\n",
      "Set schema to 'evictions'.\n",
      "Set background cursor.\n",
      "Loading chunk....\n",
      "Loading chunk....\n",
      "Loading chunk....\n",
      "Loading chunk....\n",
      "Loading chunk....\n",
      "Loading chunk....\n",
      "Loading chunk....\n",
      "Loading chunk....\n",
      "Loading chunk....\n",
      "\n",
      "Temporally validating on:\n",
      "Train: 2006-01-01 00:00:00 - 2006-12-31 00:00:00\n",
      "Test: 2007-01-01 00:00:00 - 2007-12-31 00:00:00\n",
      "Prediction window: 12 months\n",
      "\n",
      "Running run # 0/2400 with model RF, params {'n_estimators': 10, 'max_features': 'sqrt', 'min_samples_split': 10, 'max_depth': 5}\n",
      "Running run # 1/2400 with model DT, params {'criterion': 'gini', 'max_depth': 20, 'min_samples_split': 10}\n",
      "Running run # 2/2400 with model LR, params {'penalty': 'l2', 'C': 0.01}\n",
      "Running run # 3/2400 with model BAG, params {'max_samples': 5, 'n_estimators': 5, 'max_features': 3, 'bootstrap_features': True}\n",
      "Running run # 4/2400 with model GB, params {'n_estimators': 5, 'learning_rate': 0.5, 'max_depth': 5, 'subsample': 0.5}\n",
      "Running run # 5/2400 with model KNN, params {'algorithm': 'kd_tree', 'weights': 'distance', 'n_neighbors': 10}\n",
      "Running run # 6/2400 with model NB, params {}\n",
      "Running run # 7/2400 with model BASELINE_DT, params {'criterion': 'gini', 'max_depth': 3}\n",
      "Running run # 8/2400 with model RF, params {'n_estimators': 10, 'max_features': 'sqrt', 'min_samples_split': 10, 'max_depth': 5}\n",
      "Running run # 9/2400 with model DT, params {'criterion': 'gini', 'max_depth': 20, 'min_samples_split': 10}\n",
      "Running run # 10/2400 with model LR, params {'penalty': 'l2', 'C': 0.01}\n",
      "Running run # 11/2400 with model BAG, params {'max_samples': 5, 'n_estimators': 5, 'max_features': 3, 'bootstrap_features': True}\n",
      "Running run # 12/2400 with model GB, params {'n_estimators': 5, 'learning_rate': 0.5, 'max_depth': 5, 'subsample': 0.5}\n",
      "Running run # 13/2400 with model KNN, params {'algorithm': 'kd_tree', 'weights': 'distance', 'n_neighbors': 10}\n",
      "Running run # 14/2400 with model NB, params {}\n",
      "Running run # 15/2400 with model BASELINE_DT, params {'criterion': 'gini', 'max_depth': 3}\n",
      "Running run # 16/2400 with model RF, params {'n_estimators': 10, 'max_features': 'sqrt', 'min_samples_split': 10, 'max_depth': 5}\n",
      "Running run # 17/2400 with model DT, params {'criterion': 'gini', 'max_depth': 20, 'min_samples_split': 10}\n",
      "Running run # 18/2400 with model LR, params {'penalty': 'l2', 'C': 0.01}\n",
      "Running run # 19/2400 with model BAG, params {'max_samples': 5, 'n_estimators': 5, 'max_features': 3, 'bootstrap_features': True}\n",
      "Running run # 20/2400 with model GB, params {'n_estimators': 5, 'learning_rate': 0.5, 'max_depth': 5, 'subsample': 0.5}\n",
      "Running run # 21/2400 with model KNN, params {'algorithm': 'kd_tree', 'weights': 'distance', 'n_neighbors': 10}\n",
      "Running run # 22/2400 with model NB, params {}\n",
      "Running run # 23/2400 with model BASELINE_DT, params {'criterion': 'gini', 'max_depth': 3}\n",
      "Running run # 24/2400 with model RF, params {'n_estimators': 10, 'max_features': 'sqrt', 'min_samples_split': 10, 'max_depth': 5}\n",
      "Running run # 25/2400 with model DT, params {'criterion': 'gini', 'max_depth': 20, 'min_samples_split': 10}\n",
      "Running run # 26/2400 with model LR, params {'penalty': 'l2', 'C': 0.01}\n",
      "Running run # 27/2400 with model BAG, params {'max_samples': 5, 'n_estimators': 5, 'max_features': 3, 'bootstrap_features': True}\n",
      "Running run # 28/2400 with model GB, params {'n_estimators': 5, 'learning_rate': 0.5, 'max_depth': 5, 'subsample': 0.5}\n",
      "Running run # 29/2400 with model KNN, params {'algorithm': 'kd_tree', 'weights': 'distance', 'n_neighbors': 10}\n",
      "Running run # 30/2400 with model NB, params {}\n",
      "Running run # 31/2400 with model BASELINE_DT, params {'criterion': 'gini', 'max_depth': 3}\n",
      "Running run # 32/2400 with model RF, params {'n_estimators': 10, 'max_features': 'sqrt', 'min_samples_split': 10, 'max_depth': 5}\n",
      "Running run # 33/2400 with model DT, params {'criterion': 'gini', 'max_depth': 20, 'min_samples_split': 10}\n",
      "Running run # 34/2400 with model LR, params {'penalty': 'l2', 'C': 0.01}\n",
      "Running run # 35/2400 with model BAG, params {'max_samples': 5, 'n_estimators': 5, 'max_features': 3, 'bootstrap_features': True}\n",
      "Running run # 36/2400 with model GB, params {'n_estimators': 5, 'learning_rate': 0.5, 'max_depth': 5, 'subsample': 0.5}\n",
      "Running run # 37/2400 with model KNN, params {'algorithm': 'kd_tree', 'weights': 'distance', 'n_neighbors': 10}\n",
      "Running run # 38/2400 with model NB, params {}\n",
      "Running run # 39/2400 with model BASELINE_DT, params {'criterion': 'gini', 'max_depth': 3}\n",
      "Running run # 40/2400 with model RF, params {'n_estimators': 10, 'max_features': 'sqrt', 'min_samples_split': 10, 'max_depth': 5}\n",
      "Running run # 41/2400 with model DT, params {'criterion': 'gini', 'max_depth': 20, 'min_samples_split': 10}\n",
      "Running run # 42/2400 with model LR, params {'penalty': 'l2', 'C': 0.01}\n",
      "Running run # 43/2400 with model BAG, params {'max_samples': 5, 'n_estimators': 5, 'max_features': 3, 'bootstrap_features': True}\n",
      "Running run # 44/2400 with model GB, params {'n_estimators': 5, 'learning_rate': 0.5, 'max_depth': 5, 'subsample': 0.5}\n",
      "Running run # 45/2400 with model KNN, params {'algorithm': 'kd_tree', 'weights': 'distance', 'n_neighbors': 10}\n",
      "Running run # 46/2400 with model NB, params {}\n",
      "Running run # 47/2400 with model BASELINE_DT, params {'criterion': 'gini', 'max_depth': 3}\n",
      "Running run # 48/2400 with model RF, params {'n_estimators': 10, 'max_features': 'sqrt', 'min_samples_split': 10, 'max_depth': 5}\n",
      "Running run # 49/2400 with model DT, params {'criterion': 'gini', 'max_depth': 20, 'min_samples_split': 10}\n",
      "Running run # 50/2400 with model LR, params {'penalty': 'l2', 'C': 0.01}\n",
      "Running run # 51/2400 with model BAG, params {'max_samples': 5, 'n_estimators': 5, 'max_features': 3, 'bootstrap_features': True}\n",
      "Running run # 52/2400 with model GB, params {'n_estimators': 5, 'learning_rate': 0.5, 'max_depth': 5, 'subsample': 0.5}\n",
      "Running run # 53/2400 with model KNN, params {'algorithm': 'kd_tree', 'weights': 'distance', 'n_neighbors': 10}\n",
      "Running run # 54/2400 with model NB, params {}\n",
      "Running run # 55/2400 with model BASELINE_DT, params {'criterion': 'gini', 'max_depth': 3}\n",
      "Running run # 56/2400 with model RF, params {'n_estimators': 10, 'max_features': 'sqrt', 'min_samples_split': 10, 'max_depth': 5}\n",
      "Running run # 57/2400 with model DT, params {'criterion': 'gini', 'max_depth': 20, 'min_samples_split': 10}\n",
      "Running run # 58/2400 with model LR, params {'penalty': 'l2', 'C': 0.01}\n",
      "Running run # 59/2400 with model BAG, params {'max_samples': 5, 'n_estimators': 5, 'max_features': 3, 'bootstrap_features': True}\n",
      "Running run # 60/2400 with model GB, params {'n_estimators': 5, 'learning_rate': 0.5, 'max_depth': 5, 'subsample': 0.5}\n",
      "Running run # 61/2400 with model KNN, params {'algorithm': 'kd_tree', 'weights': 'distance', 'n_neighbors': 10}\n",
      "Running run # 62/2400 with model NB, params {}\n",
      "Running run # 63/2400 with model BASELINE_DT, params {'criterion': 'gini', 'max_depth': 3}\n",
      "Running run # 64/2400 with model RF, params {'n_estimators': 10, 'max_features': 'sqrt', 'min_samples_split': 10, 'max_depth': 5}\n",
      "Running run # 65/2400 with model DT, params {'criterion': 'gini', 'max_depth': 20, 'min_samples_split': 10}\n",
      "Running run # 66/2400 with model LR, params {'penalty': 'l2', 'C': 0.01}\n",
      "Running run # 67/2400 with model BAG, params {'max_samples': 5, 'n_estimators': 5, 'max_features': 3, 'bootstrap_features': True}\n",
      "Running run # 68/2400 with model GB, params {'n_estimators': 5, 'learning_rate': 0.5, 'max_depth': 5, 'subsample': 0.5}\n",
      "Running run # 69/2400 with model KNN, params {'algorithm': 'kd_tree', 'weights': 'distance', 'n_neighbors': 10}\n",
      "Running run # 70/2400 with model NB, params {}\n",
      "Running run # 71/2400 with model BASELINE_DT, params {'criterion': 'gini', 'max_depth': 3}\n",
      "Running run # 72/2400 with model RF, params {'n_estimators': 10, 'max_features': 'sqrt', 'min_samples_split': 10, 'max_depth': 5}\n",
      "Running run # 73/2400 with model DT, params {'criterion': 'gini', 'max_depth': 20, 'min_samples_split': 10}\n",
      "Running run # 74/2400 with model LR, params {'penalty': 'l2', 'C': 0.01}\n",
      "Running run # 75/2400 with model BAG, params {'max_samples': 5, 'n_estimators': 5, 'max_features': 3, 'bootstrap_features': True}\n",
      "Running run # 76/2400 with model GB, params {'n_estimators': 5, 'learning_rate': 0.5, 'max_depth': 5, 'subsample': 0.5}\n",
      "Running run # 77/2400 with model KNN, params {'algorithm': 'kd_tree', 'weights': 'distance', 'n_neighbors': 10}\n",
      "Running run # 78/2400 with model NB, params {}\n",
      "Running run # 79/2400 with model BASELINE_DT, params {'criterion': 'gini', 'max_depth': 3}\n",
      "Running run # 80/2400 with model RF, params {'n_estimators': 10, 'max_features': 'sqrt', 'min_samples_split': 10, 'max_depth': 5}\n",
      "Running run # 81/2400 with model DT, params {'criterion': 'gini', 'max_depth': 20, 'min_samples_split': 10}\n",
      "Running run # 82/2400 with model LR, params {'penalty': 'l2', 'C': 0.01}\n",
      "Running run # 83/2400 with model BAG, params {'max_samples': 5, 'n_estimators': 5, 'max_features': 3, 'bootstrap_features': True}\n",
      "Running run # 84/2400 with model GB, params {'n_estimators': 5, 'learning_rate': 0.5, 'max_depth': 5, 'subsample': 0.5}\n",
      "Running run # 85/2400 with model KNN, params {'algorithm': 'kd_tree', 'weights': 'distance', 'n_neighbors': 10}\n",
      "Running run # 86/2400 with model NB, params {}\n",
      "Running run # 87/2400 with model BASELINE_DT, params {'criterion': 'gini', 'max_depth': 3}\n",
      "Running run # 88/2400 with model RF, params {'n_estimators': 10, 'max_features': 'sqrt', 'min_samples_split': 10, 'max_depth': 5}\n",
      "Running run # 89/2400 with model DT, params {'criterion': 'gini', 'max_depth': 20, 'min_samples_split': 10}\n",
      "Running run # 90/2400 with model LR, params {'penalty': 'l2', 'C': 0.01}\n",
      "Running run # 91/2400 with model BAG, params {'max_samples': 5, 'n_estimators': 5, 'max_features': 3, 'bootstrap_features': True}\n",
      "Running run # 92/2400 with model GB, params {'n_estimators': 5, 'learning_rate': 0.5, 'max_depth': 5, 'subsample': 0.5}\n",
      "Running run # 93/2400 with model KNN, params {'algorithm': 'kd_tree', 'weights': 'distance', 'n_neighbors': 10}\n",
      "Running run # 94/2400 with model NB, params {}\n",
      "Running run # 95/2400 with model BASELINE_DT, params {'criterion': 'gini', 'max_depth': 3}\n",
      "Running run # 96/2400 with model RF, params {'n_estimators': 10, 'max_features': 'sqrt', 'min_samples_split': 10, 'max_depth': 5}\n",
      "Running run # 97/2400 with model DT, params {'criterion': 'gini', 'max_depth': 20, 'min_samples_split': 10}\n",
      "Running run # 98/2400 with model LR, params {'penalty': 'l2', 'C': 0.01}\n",
      "Running run # 99/2400 with model BAG, params {'max_samples': 5, 'n_estimators': 5, 'max_features': 3, 'bootstrap_features': True}\n",
      "Running run # 100/2400 with model GB, params {'n_estimators': 5, 'learning_rate': 0.5, 'max_depth': 5, 'subsample': 0.5}\n",
      "Running run # 101/2400 with model KNN, params {'algorithm': 'kd_tree', 'weights': 'distance', 'n_neighbors': 10}\n",
      "Running run # 102/2400 with model NB, params {}\n",
      "Running run # 103/2400 with model BASELINE_DT, params {'criterion': 'gini', 'max_depth': 3}\n",
      "Running run # 104/2400 with model RF, params {'n_estimators': 10, 'max_features': 'sqrt', 'min_samples_split': 10, 'max_depth': 5}\n",
      "Running run # 105/2400 with model DT, params {'criterion': 'gini', 'max_depth': 20, 'min_samples_split': 10}\n",
      "Running run # 106/2400 with model LR, params {'penalty': 'l2', 'C': 0.01}\n",
      "Running run # 107/2400 with model BAG, params {'max_samples': 5, 'n_estimators': 5, 'max_features': 3, 'bootstrap_features': True}\n",
      "Running run # 108/2400 with model GB, params {'n_estimators': 5, 'learning_rate': 0.5, 'max_depth': 5, 'subsample': 0.5}\n",
      "Running run # 109/2400 with model KNN, params {'algorithm': 'kd_tree', 'weights': 'distance', 'n_neighbors': 10}\n",
      "Running run # 110/2400 with model NB, params {}\n",
      "Running run # 111/2400 with model BASELINE_DT, params {'criterion': 'gini', 'max_depth': 3}\n",
      "Running run # 112/2400 with model RF, params {'n_estimators': 10, 'max_features': 'sqrt', 'min_samples_split': 10, 'max_depth': 5}\n",
      "Running run # 113/2400 with model DT, params {'criterion': 'gini', 'max_depth': 20, 'min_samples_split': 10}\n",
      "Running run # 114/2400 with model LR, params {'penalty': 'l2', 'C': 0.01}\n",
      "Running run # 115/2400 with model BAG, params {'max_samples': 5, 'n_estimators': 5, 'max_features': 3, 'bootstrap_features': True}\n",
      "Running run # 116/2400 with model GB, params {'n_estimators': 5, 'learning_rate': 0.5, 'max_depth': 5, 'subsample': 0.5}\n",
      "Running run # 117/2400 with model KNN, params {'algorithm': 'kd_tree', 'weights': 'distance', 'n_neighbors': 10}\n",
      "Running run # 118/2400 with model NB, params {}\n",
      "Running run # 119/2400 with model BASELINE_DT, params {'criterion': 'gini', 'max_depth': 3}\n",
      "Running run # 120/2400 with model RF, params {'n_estimators': 10, 'max_features': 'sqrt', 'min_samples_split': 10, 'max_depth': 5}\n",
      "Running run # 121/2400 with model DT, params {'criterion': 'gini', 'max_depth': 20, 'min_samples_split': 10}\n",
      "Running run # 122/2400 with model LR, params {'penalty': 'l2', 'C': 0.01}\n",
      "Running run # 123/2400 with model BAG, params {'max_samples': 5, 'n_estimators': 5, 'max_features': 3, 'bootstrap_features': True}\n",
      "Running run # 124/2400 with model GB, params {'n_estimators': 5, 'learning_rate': 0.5, 'max_depth': 5, 'subsample': 0.5}\n",
      "Running run # 125/2400 with model KNN, params {'algorithm': 'kd_tree', 'weights': 'distance', 'n_neighbors': 10}\n",
      "Running run # 126/2400 with model NB, params {}\n",
      "Running run # 127/2400 with model BASELINE_DT, params {'criterion': 'gini', 'max_depth': 3}\n",
      "Running run # 128/2400 with model RF, params {'n_estimators': 10, 'max_features': 'sqrt', 'min_samples_split': 10, 'max_depth': 5}\n",
      "Running run # 129/2400 with model DT, params {'criterion': 'gini', 'max_depth': 20, 'min_samples_split': 10}\n",
      "Running run # 130/2400 with model LR, params {'penalty': 'l2', 'C': 0.01}\n",
      "Running run # 131/2400 with model BAG, params {'max_samples': 5, 'n_estimators': 5, 'max_features': 3, 'bootstrap_features': True}\n",
      "Running run # 132/2400 with model GB, params {'n_estimators': 5, 'learning_rate': 0.5, 'max_depth': 5, 'subsample': 0.5}\n",
      "Running run # 133/2400 with model KNN, params {'algorithm': 'kd_tree', 'weights': 'distance', 'n_neighbors': 10}\n",
      "Running run # 134/2400 with model NB, params {}\n",
      "Running run # 135/2400 with model BASELINE_DT, params {'criterion': 'gini', 'max_depth': 3}\n",
      "Running run # 136/2400 with model RF, params {'n_estimators': 10, 'max_features': 'sqrt', 'min_samples_split': 10, 'max_depth': 5}\n",
      "Running run # 137/2400 with model DT, params {'criterion': 'gini', 'max_depth': 20, 'min_samples_split': 10}\n",
      "Running run # 138/2400 with model LR, params {'penalty': 'l2', 'C': 0.01}\n",
      "Running run # 139/2400 with model BAG, params {'max_samples': 5, 'n_estimators': 5, 'max_features': 3, 'bootstrap_features': True}\n",
      "Running run # 140/2400 with model GB, params {'n_estimators': 5, 'learning_rate': 0.5, 'max_depth': 5, 'subsample': 0.5}\n",
      "Running run # 141/2400 with model KNN, params {'algorithm': 'kd_tree', 'weights': 'distance', 'n_neighbors': 10}\n",
      "Running run # 142/2400 with model NB, params {}\n",
      "Running run # 143/2400 with model BASELINE_DT, params {'criterion': 'gini', 'max_depth': 3}\n",
      "Running run # 144/2400 with model RF, params {'n_estimators': 10, 'max_features': 'sqrt', 'min_samples_split': 10, 'max_depth': 5}\n",
      "Running run # 145/2400 with model DT, params {'criterion': 'gini', 'max_depth': 20, 'min_samples_split': 10}\n",
      "Running run # 146/2400 with model LR, params {'penalty': 'l2', 'C': 0.01}\n",
      "Running run # 147/2400 with model BAG, params {'max_samples': 5, 'n_estimators': 5, 'max_features': 3, 'bootstrap_features': True}\n",
      "Running run # 148/2400 with model GB, params {'n_estimators': 5, 'learning_rate': 0.5, 'max_depth': 5, 'subsample': 0.5}\n",
      "Running run # 149/2400 with model KNN, params {'algorithm': 'kd_tree', 'weights': 'distance', 'n_neighbors': 10}\n",
      "Running run # 150/2400 with model NB, params {}\n",
      "Running run # 151/2400 with model BASELINE_DT, params {'criterion': 'gini', 'max_depth': 3}\n",
      "Running run # 152/2400 with model RF, params {'n_estimators': 10, 'max_features': 'sqrt', 'min_samples_split': 10, 'max_depth': 5}\n",
      "Running run # 153/2400 with model DT, params {'criterion': 'gini', 'max_depth': 20, 'min_samples_split': 10}\n",
      "Running run # 154/2400 with model LR, params {'penalty': 'l2', 'C': 0.01}\n",
      "Running run # 155/2400 with model BAG, params {'max_samples': 5, 'n_estimators': 5, 'max_features': 3, 'bootstrap_features': True}\n",
      "Running run # 156/2400 with model GB, params {'n_estimators': 5, 'learning_rate': 0.5, 'max_depth': 5, 'subsample': 0.5}\n",
      "Running run # 157/2400 with model KNN, params {'algorithm': 'kd_tree', 'weights': 'distance', 'n_neighbors': 10}\n",
      "Running run # 158/2400 with model NB, params {}\n",
      "Running run # 159/2400 with model BASELINE_DT, params {'criterion': 'gini', 'max_depth': 3}\n",
      "Running run # 160/2400 with model RF, params {'n_estimators': 10, 'max_features': 'sqrt', 'min_samples_split': 10, 'max_depth': 5}\n",
      "Running run # 161/2400 with model DT, params {'criterion': 'gini', 'max_depth': 20, 'min_samples_split': 10}\n",
      "Running run # 162/2400 with model LR, params {'penalty': 'l2', 'C': 0.01}\n",
      "Running run # 163/2400 with model BAG, params {'max_samples': 5, 'n_estimators': 5, 'max_features': 3, 'bootstrap_features': True}\n",
      "Running run # 164/2400 with model GB, params {'n_estimators': 5, 'learning_rate': 0.5, 'max_depth': 5, 'subsample': 0.5}\n",
      "Running run # 165/2400 with model KNN, params {'algorithm': 'kd_tree', 'weights': 'distance', 'n_neighbors': 10}\n",
      "Running run # 166/2400 with model NB, params {}\n",
      "Running run # 167/2400 with model BASELINE_DT, params {'criterion': 'gini', 'max_depth': 3}\n",
      "Running run # 168/2400 with model RF, params {'n_estimators': 10, 'max_features': 'sqrt', 'min_samples_split': 10, 'max_depth': 5}\n",
      "Running run # 169/2400 with model DT, params {'criterion': 'gini', 'max_depth': 20, 'min_samples_split': 10}\n",
      "Running run # 170/2400 with model LR, params {'penalty': 'l2', 'C': 0.01}\n",
      "Running run # 171/2400 with model BAG, params {'max_samples': 5, 'n_estimators': 5, 'max_features': 3, 'bootstrap_features': True}\n",
      "Running run # 172/2400 with model GB, params {'n_estimators': 5, 'learning_rate': 0.5, 'max_depth': 5, 'subsample': 0.5}\n",
      "Running run # 173/2400 with model KNN, params {'algorithm': 'kd_tree', 'weights': 'distance', 'n_neighbors': 10}\n",
      "Running run # 174/2400 with model NB, params {}\n",
      "Running run # 175/2400 with model BASELINE_DT, params {'criterion': 'gini', 'max_depth': 3}\n",
      "Running run # 176/2400 with model RF, params {'n_estimators': 10, 'max_features': 'sqrt', 'min_samples_split': 10, 'max_depth': 5}\n",
      "Running run # 177/2400 with model DT, params {'criterion': 'gini', 'max_depth': 20, 'min_samples_split': 10}\n",
      "Running run # 178/2400 with model LR, params {'penalty': 'l2', 'C': 0.01}\n",
      "Running run # 179/2400 with model BAG, params {'max_samples': 5, 'n_estimators': 5, 'max_features': 3, 'bootstrap_features': True}\n",
      "Running run # 180/2400 with model GB, params {'n_estimators': 5, 'learning_rate': 0.5, 'max_depth': 5, 'subsample': 0.5}\n",
      "Running run # 181/2400 with model KNN, params {'algorithm': 'kd_tree', 'weights': 'distance', 'n_neighbors': 10}\n",
      "Running run # 182/2400 with model NB, params {}\n",
      "Running run # 183/2400 with model BASELINE_DT, params {'criterion': 'gini', 'max_depth': 3}\n",
      "Running run # 184/2400 with model RF, params {'n_estimators': 10, 'max_features': 'sqrt', 'min_samples_split': 10, 'max_depth': 5}\n",
      "Running run # 185/2400 with model DT, params {'criterion': 'gini', 'max_depth': 20, 'min_samples_split': 10}\n",
      "Running run # 186/2400 with model LR, params {'penalty': 'l2', 'C': 0.01}\n",
      "Running run # 187/2400 with model BAG, params {'max_samples': 5, 'n_estimators': 5, 'max_features': 3, 'bootstrap_features': True}\n",
      "Running run # 188/2400 with model GB, params {'n_estimators': 5, 'learning_rate': 0.5, 'max_depth': 5, 'subsample': 0.5}\n",
      "Running run # 189/2400 with model KNN, params {'algorithm': 'kd_tree', 'weights': 'distance', 'n_neighbors': 10}\n",
      "Running run # 190/2400 with model NB, params {}\n",
      "Running run # 191/2400 with model BASELINE_DT, params {'criterion': 'gini', 'max_depth': 3}\n",
      "Running run # 192/2400 with model RF, params {'n_estimators': 10, 'max_features': 'sqrt', 'min_samples_split': 10, 'max_depth': 5}\n",
      "Running run # 193/2400 with model DT, params {'criterion': 'gini', 'max_depth': 20, 'min_samples_split': 10}\n",
      "Running run # 194/2400 with model LR, params {'penalty': 'l2', 'C': 0.01}\n",
      "Running run # 195/2400 with model BAG, params {'max_samples': 5, 'n_estimators': 5, 'max_features': 3, 'bootstrap_features': True}\n",
      "Running run # 196/2400 with model GB, params {'n_estimators': 5, 'learning_rate': 0.5, 'max_depth': 5, 'subsample': 0.5}\n",
      "Running run # 197/2400 with model KNN, params {'algorithm': 'kd_tree', 'weights': 'distance', 'n_neighbors': 10}\n",
      "Running run # 198/2400 with model NB, params {}\n",
      "Running run # 199/2400 with model BASELINE_DT, params {'criterion': 'gini', 'max_depth': 3}\n",
      "Running run # 200/2400 with model RF, params {'n_estimators': 10, 'max_features': 'sqrt', 'min_samples_split': 10, 'max_depth': 5}\n",
      "Running run # 201/2400 with model DT, params {'criterion': 'gini', 'max_depth': 20, 'min_samples_split': 10}\n",
      "Running run # 202/2400 with model LR, params {'penalty': 'l2', 'C': 0.01}\n",
      "Running run # 203/2400 with model BAG, params {'max_samples': 5, 'n_estimators': 5, 'max_features': 3, 'bootstrap_features': True}\n",
      "Running run # 204/2400 with model GB, params {'n_estimators': 5, 'learning_rate': 0.5, 'max_depth': 5, 'subsample': 0.5}\n",
      "Running run # 205/2400 with model KNN, params {'algorithm': 'kd_tree', 'weights': 'distance', 'n_neighbors': 10}\n",
      "Running run # 206/2400 with model NB, params {}\n",
      "Running run # 207/2400 with model BASELINE_DT, params {'criterion': 'gini', 'max_depth': 3}\n",
      "Running run # 208/2400 with model RF, params {'n_estimators': 10, 'max_features': 'sqrt', 'min_samples_split': 10, 'max_depth': 5}\n",
      "Running run # 209/2400 with model DT, params {'criterion': 'gini', 'max_depth': 20, 'min_samples_split': 10}\n",
      "Running run # 210/2400 with model LR, params {'penalty': 'l2', 'C': 0.01}\n",
      "Running run # 211/2400 with model BAG, params {'max_samples': 5, 'n_estimators': 5, 'max_features': 3, 'bootstrap_features': True}\n",
      "Running run # 212/2400 with model GB, params {'n_estimators': 5, 'learning_rate': 0.5, 'max_depth': 5, 'subsample': 0.5}\n",
      "Running run # 213/2400 with model KNN, params {'algorithm': 'kd_tree', 'weights': 'distance', 'n_neighbors': 10}\n",
      "Running run # 214/2400 with model NB, params {}\n",
      "Running run # 215/2400 with model BASELINE_DT, params {'criterion': 'gini', 'max_depth': 3}\n",
      "Running run # 216/2400 with model RF, params {'n_estimators': 10, 'max_features': 'sqrt', 'min_samples_split': 10, 'max_depth': 5}\n",
      "Running run # 217/2400 with model DT, params {'criterion': 'gini', 'max_depth': 20, 'min_samples_split': 10}\n",
      "Running run # 218/2400 with model LR, params {'penalty': 'l2', 'C': 0.01}\n",
      "Running run # 219/2400 with model BAG, params {'max_samples': 5, 'n_estimators': 5, 'max_features': 3, 'bootstrap_features': True}\n",
      "Running run # 220/2400 with model GB, params {'n_estimators': 5, 'learning_rate': 0.5, 'max_depth': 5, 'subsample': 0.5}\n",
      "Running run # 221/2400 with model KNN, params {'algorithm': 'kd_tree', 'weights': 'distance', 'n_neighbors': 10}\n",
      "Running run # 222/2400 with model NB, params {}\n",
      "Running run # 223/2400 with model BASELINE_DT, params {'criterion': 'gini', 'max_depth': 3}\n",
      "Running run # 224/2400 with model RF, params {'n_estimators': 10, 'max_features': 'sqrt', 'min_samples_split': 10, 'max_depth': 5}\n",
      "Running run # 225/2400 with model DT, params {'criterion': 'gini', 'max_depth': 20, 'min_samples_split': 10}\n",
      "Running run # 226/2400 with model LR, params {'penalty': 'l2', 'C': 0.01}\n",
      "Running run # 227/2400 with model BAG, params {'max_samples': 5, 'n_estimators': 5, 'max_features': 3, 'bootstrap_features': True}\n",
      "Running run # 228/2400 with model GB, params {'n_estimators': 5, 'learning_rate': 0.5, 'max_depth': 5, 'subsample': 0.5}\n",
      "Running run # 229/2400 with model KNN, params {'algorithm': 'kd_tree', 'weights': 'distance', 'n_neighbors': 10}\n",
      "Running run # 230/2400 with model NB, params {}\n",
      "Running run # 231/2400 with model BASELINE_DT, params {'criterion': 'gini', 'max_depth': 3}\n",
      "Running run # 232/2400 with model RF, params {'n_estimators': 10, 'max_features': 'sqrt', 'min_samples_split': 10, 'max_depth': 5}\n",
      "Running run # 233/2400 with model DT, params {'criterion': 'gini', 'max_depth': 20, 'min_samples_split': 10}\n",
      "Running run # 234/2400 with model LR, params {'penalty': 'l2', 'C': 0.01}\n",
      "Running run # 235/2400 with model BAG, params {'max_samples': 5, 'n_estimators': 5, 'max_features': 3, 'bootstrap_features': True}\n",
      "Running run # 236/2400 with model GB, params {'n_estimators': 5, 'learning_rate': 0.5, 'max_depth': 5, 'subsample': 0.5}\n",
      "Running run # 237/2400 with model KNN, params {'algorithm': 'kd_tree', 'weights': 'distance', 'n_neighbors': 10}\n",
      "Running run # 238/2400 with model NB, params {}\n",
      "Running run # 239/2400 with model BASELINE_DT, params {'criterion': 'gini', 'max_depth': 3}\n",
      "done standard\n",
      "\n",
      "Temporally validating on:\n",
      "Train: 2006-01-01 00:00:00 - 2006-12-31 00:00:00\n",
      "Test: 2007-01-01 00:00:00 - 2007-12-31 00:00:00\n",
      "Prediction window: 12 months\n",
      "\n",
      "\n",
      "Temporally validating on:\n",
      "Train: 2006-01-01 00:00:00 - 2008-12-31 00:00:00\n",
      "Test: 2009-01-01 00:00:00 - 2009-12-31 00:00:00\n",
      "Prediction window: 12 months\n",
      "\n",
      "\n",
      "Temporally validating on:\n",
      "Train: 2006-01-01 00:00:00 - 2010-12-31 00:00:00\n",
      "Test: 2011-01-01 00:00:00 - 2011-12-31 00:00:00\n",
      "Prediction window: 12 months\n",
      "\n",
      "\n",
      "Temporally validating on:\n",
      "Train: 2006-01-01 00:00:00 - 2012-12-31 00:00:00\n",
      "Test: 2013-01-01 00:00:00 - 2013-12-31 00:00:00\n",
      "Prediction window: 12 months\n",
      "\n",
      "\n",
      "Temporally validating on:\n",
      "Train: 2006-01-01 00:00:00 - 2014-12-31 00:00:00\n",
      "Test: 2015-01-01 00:00:00 - 2015-12-31 00:00:00\n",
      "Prediction window: 12 months\n",
      "\n",
      "done baseline\n"
     ]
    },
    {
     "data": {
      "text/plain": [
       "<Figure size 576x396 with 0 Axes>"
      ]
     },
     "metadata": {},
     "output_type": "display_data"
    },
    {
     "data": {
      "text/plain": [
       "<Figure size 576x396 with 0 Axes>"
      ]
     },
     "metadata": {},
     "output_type": "display_data"
    },
    {
     "data": {
      "text/plain": [
       "<Figure size 576x396 with 0 Axes>"
      ]
     },
     "metadata": {},
     "output_type": "display_data"
    },
    {
     "data": {
      "text/plain": [
       "<Figure size 576x396 with 0 Axes>"
      ]
     },
     "metadata": {},
     "output_type": "display_data"
    },
    {
     "data": {
      "text/plain": [
       "<Figure size 576x396 with 0 Axes>"
      ]
     },
     "metadata": {},
     "output_type": "display_data"
    },
    {
     "data": {
      "text/plain": [
       "<Figure size 576x396 with 0 Axes>"
      ]
     },
     "metadata": {},
     "output_type": "display_data"
    },
    {
     "data": {
      "text/plain": [
       "<Figure size 576x396 with 0 Axes>"
      ]
     },
     "metadata": {},
     "output_type": "display_data"
    },
    {
     "data": {
      "text/plain": [
       "<Figure size 576x396 with 0 Axes>"
      ]
     },
     "metadata": {},
     "output_type": "display_data"
    },
    {
     "data": {
      "text/plain": [
       "<Figure size 576x396 with 0 Axes>"
      ]
     },
     "metadata": {},
     "output_type": "display_data"
    },
    {
     "data": {
      "text/plain": [
       "<Figure size 576x396 with 0 Axes>"
      ]
     },
     "metadata": {},
     "output_type": "display_data"
    },
    {
     "data": {
      "text/plain": [
       "<Figure size 576x396 with 0 Axes>"
      ]
     },
     "metadata": {},
     "output_type": "display_data"
    },
    {
     "data": {
      "text/plain": [
       "<Figure size 576x396 with 0 Axes>"
      ]
     },
     "metadata": {},
     "output_type": "display_data"
    },
    {
     "data": {
      "text/plain": [
       "<Figure size 576x396 with 0 Axes>"
      ]
     },
     "metadata": {},
     "output_type": "display_data"
    },
    {
     "data": {
      "text/plain": [
       "<Figure size 576x396 with 0 Axes>"
      ]
     },
     "metadata": {},
     "output_type": "display_data"
    },
    {
     "data": {
      "text/plain": [
       "<Figure size 576x396 with 0 Axes>"
      ]
     },
     "metadata": {},
     "output_type": "display_data"
    },
    {
     "data": {
      "text/plain": [
       "<Figure size 576x396 with 0 Axes>"
      ]
     },
     "metadata": {},
     "output_type": "display_data"
    },
    {
     "data": {
      "text/plain": [
       "<Figure size 576x396 with 0 Axes>"
      ]
     },
     "metadata": {},
     "output_type": "display_data"
    },
    {
     "data": {
      "text/plain": [
       "<Figure size 576x396 with 0 Axes>"
      ]
     },
     "metadata": {},
     "output_type": "display_data"
    },
    {
     "data": {
      "text/plain": [
       "<Figure size 576x396 with 0 Axes>"
      ]
     },
     "metadata": {},
     "output_type": "display_data"
    },
    {
     "data": {
      "text/plain": [
       "<Figure size 576x396 with 0 Axes>"
      ]
     },
     "metadata": {},
     "output_type": "display_data"
    },
    {
     "data": {
      "text/plain": [
       "<Figure size 576x396 with 0 Axes>"
      ]
     },
     "metadata": {},
     "output_type": "display_data"
    },
    {
     "data": {
      "text/plain": [
       "<Figure size 576x396 with 0 Axes>"
      ]
     },
     "metadata": {},
     "output_type": "display_data"
    },
    {
     "data": {
      "text/plain": [
       "<Figure size 576x396 with 0 Axes>"
      ]
     },
     "metadata": {},
     "output_type": "display_data"
    },
    {
     "data": {
      "text/plain": [
       "<Figure size 576x396 with 0 Axes>"
      ]
     },
     "metadata": {},
     "output_type": "display_data"
    },
    {
     "data": {
      "text/plain": [
       "<Figure size 576x396 with 0 Axes>"
      ]
     },
     "metadata": {},
     "output_type": "display_data"
    },
    {
     "data": {
      "text/plain": [
       "<Figure size 576x396 with 0 Axes>"
      ]
     },
     "metadata": {},
     "output_type": "display_data"
    },
    {
     "data": {
      "text/plain": [
       "<Figure size 576x396 with 0 Axes>"
      ]
     },
     "metadata": {},
     "output_type": "display_data"
    },
    {
     "data": {
      "text/plain": [
       "<Figure size 576x396 with 0 Axes>"
      ]
     },
     "metadata": {},
     "output_type": "display_data"
    },
    {
     "data": {
      "text/plain": [
       "<Figure size 576x396 with 0 Axes>"
      ]
     },
     "metadata": {},
     "output_type": "display_data"
    },
    {
     "data": {
      "text/plain": [
       "<Figure size 576x396 with 0 Axes>"
      ]
     },
     "metadata": {},
     "output_type": "display_data"
    },
    {
     "data": {
      "text/plain": [
       "<Figure size 576x396 with 0 Axes>"
      ]
     },
     "metadata": {},
     "output_type": "display_data"
    },
    {
     "data": {
      "text/plain": [
       "<Figure size 576x396 with 0 Axes>"
      ]
     },
     "metadata": {},
     "output_type": "display_data"
    },
    {
     "data": {
      "text/plain": [
       "<Figure size 576x396 with 0 Axes>"
      ]
     },
     "metadata": {},
     "output_type": "display_data"
    },
    {
     "data": {
      "text/plain": [
       "<Figure size 576x396 with 0 Axes>"
      ]
     },
     "metadata": {},
     "output_type": "display_data"
    },
    {
     "data": {
      "text/plain": [
       "<Figure size 576x396 with 0 Axes>"
      ]
     },
     "metadata": {},
     "output_type": "display_data"
    },
    {
     "data": {
      "text/plain": [
       "<Figure size 576x396 with 0 Axes>"
      ]
     },
     "metadata": {},
     "output_type": "display_data"
    },
    {
     "data": {
      "text/plain": [
       "<Figure size 576x396 with 0 Axes>"
      ]
     },
     "metadata": {},
     "output_type": "display_data"
    },
    {
     "data": {
      "text/plain": [
       "<Figure size 576x396 with 0 Axes>"
      ]
     },
     "metadata": {},
     "output_type": "display_data"
    },
    {
     "data": {
      "text/plain": [
       "<Figure size 576x396 with 0 Axes>"
      ]
     },
     "metadata": {},
     "output_type": "display_data"
    },
    {
     "data": {
      "text/plain": [
       "<Figure size 576x396 with 0 Axes>"
      ]
     },
     "metadata": {},
     "output_type": "display_data"
    },
    {
     "data": {
      "text/plain": [
       "<Figure size 576x396 with 0 Axes>"
      ]
     },
     "metadata": {},
     "output_type": "display_data"
    },
    {
     "data": {
      "text/plain": [
       "<Figure size 576x396 with 0 Axes>"
      ]
     },
     "metadata": {},
     "output_type": "display_data"
    },
    {
     "data": {
      "text/plain": [
       "<Figure size 576x396 with 0 Axes>"
      ]
     },
     "metadata": {},
     "output_type": "display_data"
    },
    {
     "data": {
      "text/plain": [
       "<Figure size 576x396 with 0 Axes>"
      ]
     },
     "metadata": {},
     "output_type": "display_data"
    },
    {
     "data": {
      "text/plain": [
       "<Figure size 576x396 with 0 Axes>"
      ]
     },
     "metadata": {},
     "output_type": "display_data"
    },
    {
     "data": {
      "text/plain": [
       "<Figure size 576x396 with 0 Axes>"
      ]
     },
     "metadata": {},
     "output_type": "display_data"
    },
    {
     "data": {
      "text/plain": [
       "<Figure size 576x396 with 0 Axes>"
      ]
     },
     "metadata": {},
     "output_type": "display_data"
    },
    {
     "data": {
      "text/plain": [
       "<Figure size 576x396 with 0 Axes>"
      ]
     },
     "metadata": {},
     "output_type": "display_data"
    },
    {
     "data": {
      "text/plain": [
       "<Figure size 576x396 with 0 Axes>"
      ]
     },
     "metadata": {},
     "output_type": "display_data"
    },
    {
     "data": {
      "text/plain": [
       "<Figure size 576x396 with 0 Axes>"
      ]
     },
     "metadata": {},
     "output_type": "display_data"
    },
    {
     "data": {
      "text/plain": [
       "<Figure size 576x396 with 0 Axes>"
      ]
     },
     "metadata": {},
     "output_type": "display_data"
    },
    {
     "data": {
      "text/plain": [
       "<Figure size 576x396 with 0 Axes>"
      ]
     },
     "metadata": {},
     "output_type": "display_data"
    },
    {
     "data": {
      "text/plain": [
       "<Figure size 576x396 with 0 Axes>"
      ]
     },
     "metadata": {},
     "output_type": "display_data"
    },
    {
     "data": {
      "text/plain": [
       "<Figure size 576x396 with 0 Axes>"
      ]
     },
     "metadata": {},
     "output_type": "display_data"
    },
    {
     "data": {
      "text/plain": [
       "<Figure size 576x396 with 0 Axes>"
      ]
     },
     "metadata": {},
     "output_type": "display_data"
    },
    {
     "data": {
      "text/plain": [
       "<Figure size 576x396 with 0 Axes>"
      ]
     },
     "metadata": {},
     "output_type": "display_data"
    },
    {
     "data": {
      "text/plain": [
       "<Figure size 576x396 with 0 Axes>"
      ]
     },
     "metadata": {},
     "output_type": "display_data"
    },
    {
     "data": {
      "text/plain": [
       "<Figure size 576x396 with 0 Axes>"
      ]
     },
     "metadata": {},
     "output_type": "display_data"
    },
    {
     "data": {
      "text/plain": [
       "<Figure size 576x396 with 0 Axes>"
      ]
     },
     "metadata": {},
     "output_type": "display_data"
    },
    {
     "data": {
      "text/plain": [
       "<Figure size 576x396 with 0 Axes>"
      ]
     },
     "metadata": {},
     "output_type": "display_data"
    },
    {
     "data": {
      "text/plain": [
       "<Figure size 576x396 with 0 Axes>"
      ]
     },
     "metadata": {},
     "output_type": "display_data"
    },
    {
     "data": {
      "text/plain": [
       "<Figure size 576x396 with 0 Axes>"
      ]
     },
     "metadata": {},
     "output_type": "display_data"
    },
    {
     "data": {
      "text/plain": [
       "<Figure size 576x396 with 0 Axes>"
      ]
     },
     "metadata": {},
     "output_type": "display_data"
    },
    {
     "data": {
      "text/plain": [
       "<Figure size 576x396 with 0 Axes>"
      ]
     },
     "metadata": {},
     "output_type": "display_data"
    },
    {
     "data": {
      "text/plain": [
       "<Figure size 576x396 with 0 Axes>"
      ]
     },
     "metadata": {},
     "output_type": "display_data"
    },
    {
     "data": {
      "text/plain": [
       "<Figure size 576x396 with 0 Axes>"
      ]
     },
     "metadata": {},
     "output_type": "display_data"
    },
    {
     "data": {
      "text/plain": [
       "<Figure size 576x396 with 0 Axes>"
      ]
     },
     "metadata": {},
     "output_type": "display_data"
    },
    {
     "data": {
      "text/plain": [
       "<Figure size 576x396 with 0 Axes>"
      ]
     },
     "metadata": {},
     "output_type": "display_data"
    },
    {
     "data": {
      "text/plain": [
       "<Figure size 576x396 with 0 Axes>"
      ]
     },
     "metadata": {},
     "output_type": "display_data"
    },
    {
     "data": {
      "text/plain": [
       "<Figure size 576x396 with 0 Axes>"
      ]
     },
     "metadata": {},
     "output_type": "display_data"
    },
    {
     "data": {
      "text/plain": [
       "<Figure size 576x396 with 0 Axes>"
      ]
     },
     "metadata": {},
     "output_type": "display_data"
    },
    {
     "data": {
      "text/plain": [
       "<Figure size 576x396 with 0 Axes>"
      ]
     },
     "metadata": {},
     "output_type": "display_data"
    },
    {
     "data": {
      "text/plain": [
       "<Figure size 576x396 with 0 Axes>"
      ]
     },
     "metadata": {},
     "output_type": "display_data"
    },
    {
     "data": {
      "text/plain": [
       "<Figure size 576x396 with 0 Axes>"
      ]
     },
     "metadata": {},
     "output_type": "display_data"
    },
    {
     "data": {
      "text/plain": [
       "<Figure size 576x396 with 0 Axes>"
      ]
     },
     "metadata": {},
     "output_type": "display_data"
    },
    {
     "data": {
      "text/plain": [
       "<Figure size 576x396 with 0 Axes>"
      ]
     },
     "metadata": {},
     "output_type": "display_data"
    },
    {
     "data": {
      "text/plain": [
       "<Figure size 576x396 with 0 Axes>"
      ]
     },
     "metadata": {},
     "output_type": "display_data"
    },
    {
     "data": {
      "text/plain": [
       "<Figure size 576x396 with 0 Axes>"
      ]
     },
     "metadata": {},
     "output_type": "display_data"
    },
    {
     "data": {
      "text/plain": [
       "<Figure size 576x396 with 0 Axes>"
      ]
     },
     "metadata": {},
     "output_type": "display_data"
    },
    {
     "data": {
      "text/plain": [
       "<Figure size 576x396 with 0 Axes>"
      ]
     },
     "metadata": {},
     "output_type": "display_data"
    },
    {
     "data": {
      "text/plain": [
       "<Figure size 576x396 with 0 Axes>"
      ]
     },
     "metadata": {},
     "output_type": "display_data"
    },
    {
     "data": {
      "text/plain": [
       "<Figure size 576x396 with 0 Axes>"
      ]
     },
     "metadata": {},
     "output_type": "display_data"
    },
    {
     "data": {
      "text/plain": [
       "<Figure size 576x396 with 0 Axes>"
      ]
     },
     "metadata": {},
     "output_type": "display_data"
    },
    {
     "data": {
      "text/plain": [
       "<Figure size 576x396 with 0 Axes>"
      ]
     },
     "metadata": {},
     "output_type": "display_data"
    },
    {
     "data": {
      "text/plain": [
       "<Figure size 576x396 with 0 Axes>"
      ]
     },
     "metadata": {},
     "output_type": "display_data"
    },
    {
     "data": {
      "text/plain": [
       "<Figure size 576x396 with 0 Axes>"
      ]
     },
     "metadata": {},
     "output_type": "display_data"
    },
    {
     "data": {
      "text/plain": [
       "<Figure size 576x396 with 0 Axes>"
      ]
     },
     "metadata": {},
     "output_type": "display_data"
    },
    {
     "data": {
      "text/plain": [
       "<Figure size 576x396 with 0 Axes>"
      ]
     },
     "metadata": {},
     "output_type": "display_data"
    },
    {
     "data": {
      "text/plain": [
       "<Figure size 576x396 with 0 Axes>"
      ]
     },
     "metadata": {},
     "output_type": "display_data"
    },
    {
     "data": {
      "text/plain": [
       "<Figure size 576x396 with 0 Axes>"
      ]
     },
     "metadata": {},
     "output_type": "display_data"
    },
    {
     "data": {
      "text/plain": [
       "<Figure size 576x396 with 0 Axes>"
      ]
     },
     "metadata": {},
     "output_type": "display_data"
    },
    {
     "data": {
      "text/plain": [
       "<Figure size 576x396 with 0 Axes>"
      ]
     },
     "metadata": {},
     "output_type": "display_data"
    },
    {
     "data": {
      "text/plain": [
       "<Figure size 576x396 with 0 Axes>"
      ]
     },
     "metadata": {},
     "output_type": "display_data"
    },
    {
     "data": {
      "text/plain": [
       "<Figure size 576x396 with 0 Axes>"
      ]
     },
     "metadata": {},
     "output_type": "display_data"
    },
    {
     "data": {
      "text/plain": [
       "<Figure size 576x396 with 0 Axes>"
      ]
     },
     "metadata": {},
     "output_type": "display_data"
    },
    {
     "data": {
      "text/plain": [
       "<Figure size 576x396 with 0 Axes>"
      ]
     },
     "metadata": {},
     "output_type": "display_data"
    },
    {
     "data": {
      "text/plain": [
       "<Figure size 576x396 with 0 Axes>"
      ]
     },
     "metadata": {},
     "output_type": "display_data"
    },
    {
     "data": {
      "text/plain": [
       "<Figure size 576x396 with 0 Axes>"
      ]
     },
     "metadata": {},
     "output_type": "display_data"
    },
    {
     "data": {
      "text/plain": [
       "<Figure size 576x396 with 0 Axes>"
      ]
     },
     "metadata": {},
     "output_type": "display_data"
    },
    {
     "data": {
      "text/plain": [
       "<Figure size 576x396 with 0 Axes>"
      ]
     },
     "metadata": {},
     "output_type": "display_data"
    },
    {
     "data": {
      "text/plain": [
       "<Figure size 576x396 with 0 Axes>"
      ]
     },
     "metadata": {},
     "output_type": "display_data"
    },
    {
     "data": {
      "text/plain": [
       "<Figure size 576x396 with 0 Axes>"
      ]
     },
     "metadata": {},
     "output_type": "display_data"
    },
    {
     "data": {
      "text/plain": [
       "<Figure size 576x396 with 0 Axes>"
      ]
     },
     "metadata": {},
     "output_type": "display_data"
    },
    {
     "data": {
      "text/plain": [
       "<Figure size 576x396 with 0 Axes>"
      ]
     },
     "metadata": {},
     "output_type": "display_data"
    },
    {
     "data": {
      "text/plain": [
       "<Figure size 576x396 with 0 Axes>"
      ]
     },
     "metadata": {},
     "output_type": "display_data"
    },
    {
     "data": {
      "text/plain": [
       "<Figure size 576x396 with 0 Axes>"
      ]
     },
     "metadata": {},
     "output_type": "display_data"
    },
    {
     "data": {
      "text/plain": [
       "<Figure size 576x396 with 0 Axes>"
      ]
     },
     "metadata": {},
     "output_type": "display_data"
    },
    {
     "data": {
      "text/plain": [
       "<Figure size 576x396 with 0 Axes>"
      ]
     },
     "metadata": {},
     "output_type": "display_data"
    },
    {
     "data": {
      "text/plain": [
       "<Figure size 576x396 with 0 Axes>"
      ]
     },
     "metadata": {},
     "output_type": "display_data"
    },
    {
     "data": {
      "text/plain": [
       "<Figure size 576x396 with 0 Axes>"
      ]
     },
     "metadata": {},
     "output_type": "display_data"
    },
    {
     "data": {
      "text/plain": [
       "<Figure size 576x396 with 0 Axes>"
      ]
     },
     "metadata": {},
     "output_type": "display_data"
    },
    {
     "data": {
      "text/plain": [
       "<Figure size 576x396 with 0 Axes>"
      ]
     },
     "metadata": {},
     "output_type": "display_data"
    },
    {
     "data": {
      "text/plain": [
       "<Figure size 576x396 with 0 Axes>"
      ]
     },
     "metadata": {},
     "output_type": "display_data"
    },
    {
     "data": {
      "text/plain": [
       "<Figure size 576x396 with 0 Axes>"
      ]
     },
     "metadata": {},
     "output_type": "display_data"
    },
    {
     "data": {
      "text/plain": [
       "<Figure size 576x396 with 0 Axes>"
      ]
     },
     "metadata": {},
     "output_type": "display_data"
    },
    {
     "data": {
      "text/plain": [
       "<Figure size 576x396 with 0 Axes>"
      ]
     },
     "metadata": {},
     "output_type": "display_data"
    },
    {
     "data": {
      "text/plain": [
       "<Figure size 576x396 with 0 Axes>"
      ]
     },
     "metadata": {},
     "output_type": "display_data"
    },
    {
     "data": {
      "text/plain": [
       "<Figure size 576x396 with 0 Axes>"
      ]
     },
     "metadata": {},
     "output_type": "display_data"
    },
    {
     "data": {
      "text/plain": [
       "<Figure size 576x396 with 0 Axes>"
      ]
     },
     "metadata": {},
     "output_type": "display_data"
    },
    {
     "data": {
      "text/plain": [
       "<Figure size 576x396 with 0 Axes>"
      ]
     },
     "metadata": {},
     "output_type": "display_data"
    },
    {
     "data": {
      "text/plain": [
       "<Figure size 576x396 with 0 Axes>"
      ]
     },
     "metadata": {},
     "output_type": "display_data"
    },
    {
     "data": {
      "text/plain": [
       "<Figure size 576x396 with 0 Axes>"
      ]
     },
     "metadata": {},
     "output_type": "display_data"
    },
    {
     "data": {
      "text/plain": [
       "<Figure size 576x396 with 0 Axes>"
      ]
     },
     "metadata": {},
     "output_type": "display_data"
    },
    {
     "data": {
      "text/plain": [
       "<Figure size 576x396 with 0 Axes>"
      ]
     },
     "metadata": {},
     "output_type": "display_data"
    },
    {
     "data": {
      "text/plain": [
       "<Figure size 576x396 with 0 Axes>"
      ]
     },
     "metadata": {},
     "output_type": "display_data"
    },
    {
     "data": {
      "text/plain": [
       "<Figure size 576x396 with 0 Axes>"
      ]
     },
     "metadata": {},
     "output_type": "display_data"
    },
    {
     "data": {
      "text/plain": [
       "<Figure size 576x396 with 0 Axes>"
      ]
     },
     "metadata": {},
     "output_type": "display_data"
    },
    {
     "data": {
      "text/plain": [
       "<Figure size 576x396 with 0 Axes>"
      ]
     },
     "metadata": {},
     "output_type": "display_data"
    },
    {
     "data": {
      "text/plain": [
       "<Figure size 576x396 with 0 Axes>"
      ]
     },
     "metadata": {},
     "output_type": "display_data"
    },
    {
     "data": {
      "text/plain": [
       "<Figure size 576x396 with 0 Axes>"
      ]
     },
     "metadata": {},
     "output_type": "display_data"
    },
    {
     "data": {
      "text/plain": [
       "<Figure size 576x396 with 0 Axes>"
      ]
     },
     "metadata": {},
     "output_type": "display_data"
    },
    {
     "data": {
      "text/plain": [
       "<Figure size 576x396 with 0 Axes>"
      ]
     },
     "metadata": {},
     "output_type": "display_data"
    },
    {
     "data": {
      "text/plain": [
       "<Figure size 576x396 with 0 Axes>"
      ]
     },
     "metadata": {},
     "output_type": "display_data"
    },
    {
     "data": {
      "text/plain": [
       "<Figure size 576x396 with 0 Axes>"
      ]
     },
     "metadata": {},
     "output_type": "display_data"
    },
    {
     "data": {
      "text/plain": [
       "<Figure size 576x396 with 0 Axes>"
      ]
     },
     "metadata": {},
     "output_type": "display_data"
    },
    {
     "data": {
      "text/plain": [
       "<Figure size 576x396 with 0 Axes>"
      ]
     },
     "metadata": {},
     "output_type": "display_data"
    },
    {
     "data": {
      "text/plain": [
       "<Figure size 576x396 with 0 Axes>"
      ]
     },
     "metadata": {},
     "output_type": "display_data"
    },
    {
     "data": {
      "text/plain": [
       "<Figure size 576x396 with 0 Axes>"
      ]
     },
     "metadata": {},
     "output_type": "display_data"
    },
    {
     "data": {
      "text/plain": [
       "<Figure size 576x396 with 0 Axes>"
      ]
     },
     "metadata": {},
     "output_type": "display_data"
    },
    {
     "data": {
      "text/plain": [
       "<Figure size 576x396 with 0 Axes>"
      ]
     },
     "metadata": {},
     "output_type": "display_data"
    },
    {
     "data": {
      "text/plain": [
       "<Figure size 576x396 with 0 Axes>"
      ]
     },
     "metadata": {},
     "output_type": "display_data"
    },
    {
     "data": {
      "text/plain": [
       "<Figure size 576x396 with 0 Axes>"
      ]
     },
     "metadata": {},
     "output_type": "display_data"
    },
    {
     "data": {
      "text/plain": [
       "<Figure size 576x396 with 0 Axes>"
      ]
     },
     "metadata": {},
     "output_type": "display_data"
    },
    {
     "data": {
      "text/plain": [
       "<Figure size 576x396 with 0 Axes>"
      ]
     },
     "metadata": {},
     "output_type": "display_data"
    },
    {
     "data": {
      "text/plain": [
       "<Figure size 576x396 with 0 Axes>"
      ]
     },
     "metadata": {},
     "output_type": "display_data"
    },
    {
     "data": {
      "text/plain": [
       "<Figure size 576x396 with 0 Axes>"
      ]
     },
     "metadata": {},
     "output_type": "display_data"
    },
    {
     "data": {
      "text/plain": [
       "<Figure size 576x396 with 0 Axes>"
      ]
     },
     "metadata": {},
     "output_type": "display_data"
    },
    {
     "data": {
      "text/plain": [
       "<Figure size 576x396 with 0 Axes>"
      ]
     },
     "metadata": {},
     "output_type": "display_data"
    },
    {
     "data": {
      "text/plain": [
       "<Figure size 576x396 with 0 Axes>"
      ]
     },
     "metadata": {},
     "output_type": "display_data"
    },
    {
     "data": {
      "text/plain": [
       "<Figure size 576x396 with 0 Axes>"
      ]
     },
     "metadata": {},
     "output_type": "display_data"
    },
    {
     "data": {
      "text/plain": [
       "<Figure size 576x396 with 0 Axes>"
      ]
     },
     "metadata": {},
     "output_type": "display_data"
    },
    {
     "data": {
      "text/plain": [
       "<Figure size 576x396 with 0 Axes>"
      ]
     },
     "metadata": {},
     "output_type": "display_data"
    },
    {
     "data": {
      "text/plain": [
       "<Figure size 576x396 with 0 Axes>"
      ]
     },
     "metadata": {},
     "output_type": "display_data"
    },
    {
     "data": {
      "text/plain": [
       "<Figure size 576x396 with 0 Axes>"
      ]
     },
     "metadata": {},
     "output_type": "display_data"
    },
    {
     "data": {
      "text/plain": [
       "<Figure size 576x396 with 0 Axes>"
      ]
     },
     "metadata": {},
     "output_type": "display_data"
    },
    {
     "data": {
      "text/plain": [
       "<Figure size 576x396 with 0 Axes>"
      ]
     },
     "metadata": {},
     "output_type": "display_data"
    },
    {
     "data": {
      "text/plain": [
       "<Figure size 576x396 with 0 Axes>"
      ]
     },
     "metadata": {},
     "output_type": "display_data"
    },
    {
     "data": {
      "text/plain": [
       "<Figure size 576x396 with 0 Axes>"
      ]
     },
     "metadata": {},
     "output_type": "display_data"
    },
    {
     "data": {
      "text/plain": [
       "<Figure size 576x396 with 0 Axes>"
      ]
     },
     "metadata": {},
     "output_type": "display_data"
    },
    {
     "data": {
      "text/plain": [
       "<Figure size 576x396 with 0 Axes>"
      ]
     },
     "metadata": {},
     "output_type": "display_data"
    },
    {
     "data": {
      "text/plain": [
       "<Figure size 576x396 with 0 Axes>"
      ]
     },
     "metadata": {},
     "output_type": "display_data"
    },
    {
     "data": {
      "text/plain": [
       "<Figure size 576x396 with 0 Axes>"
      ]
     },
     "metadata": {},
     "output_type": "display_data"
    },
    {
     "data": {
      "text/plain": [
       "<Figure size 576x396 with 0 Axes>"
      ]
     },
     "metadata": {},
     "output_type": "display_data"
    },
    {
     "data": {
      "text/plain": [
       "<Figure size 576x396 with 0 Axes>"
      ]
     },
     "metadata": {},
     "output_type": "display_data"
    },
    {
     "data": {
      "text/plain": [
       "<Figure size 576x396 with 0 Axes>"
      ]
     },
     "metadata": {},
     "output_type": "display_data"
    },
    {
     "data": {
      "text/plain": [
       "<Figure size 576x396 with 0 Axes>"
      ]
     },
     "metadata": {},
     "output_type": "display_data"
    },
    {
     "data": {
      "text/plain": [
       "<Figure size 576x396 with 0 Axes>"
      ]
     },
     "metadata": {},
     "output_type": "display_data"
    },
    {
     "data": {
      "text/plain": [
       "<Figure size 576x396 with 0 Axes>"
      ]
     },
     "metadata": {},
     "output_type": "display_data"
    },
    {
     "data": {
      "text/plain": [
       "<Figure size 576x396 with 0 Axes>"
      ]
     },
     "metadata": {},
     "output_type": "display_data"
    },
    {
     "data": {
      "text/plain": [
       "<Figure size 576x396 with 0 Axes>"
      ]
     },
     "metadata": {},
     "output_type": "display_data"
    },
    {
     "data": {
      "text/plain": [
       "<Figure size 576x396 with 0 Axes>"
      ]
     },
     "metadata": {},
     "output_type": "display_data"
    },
    {
     "data": {
      "text/plain": [
       "<Figure size 576x396 with 0 Axes>"
      ]
     },
     "metadata": {},
     "output_type": "display_data"
    },
    {
     "data": {
      "text/plain": [
       "<Figure size 576x396 with 0 Axes>"
      ]
     },
     "metadata": {},
     "output_type": "display_data"
    },
    {
     "data": {
      "text/plain": [
       "<Figure size 576x396 with 0 Axes>"
      ]
     },
     "metadata": {},
     "output_type": "display_data"
    },
    {
     "data": {
      "text/plain": [
       "<Figure size 576x396 with 0 Axes>"
      ]
     },
     "metadata": {},
     "output_type": "display_data"
    },
    {
     "data": {
      "text/plain": [
       "<Figure size 576x396 with 0 Axes>"
      ]
     },
     "metadata": {},
     "output_type": "display_data"
    },
    {
     "data": {
      "text/plain": [
       "<Figure size 576x396 with 0 Axes>"
      ]
     },
     "metadata": {},
     "output_type": "display_data"
    },
    {
     "data": {
      "text/plain": [
       "<Figure size 576x396 with 0 Axes>"
      ]
     },
     "metadata": {},
     "output_type": "display_data"
    },
    {
     "data": {
      "text/plain": [
       "<Figure size 576x396 with 0 Axes>"
      ]
     },
     "metadata": {},
     "output_type": "display_data"
    },
    {
     "data": {
      "text/plain": [
       "<Figure size 576x396 with 0 Axes>"
      ]
     },
     "metadata": {},
     "output_type": "display_data"
    },
    {
     "data": {
      "text/plain": [
       "<Figure size 576x396 with 0 Axes>"
      ]
     },
     "metadata": {},
     "output_type": "display_data"
    },
    {
     "data": {
      "text/plain": [
       "<Figure size 576x396 with 0 Axes>"
      ]
     },
     "metadata": {},
     "output_type": "display_data"
    },
    {
     "data": {
      "text/plain": [
       "<Figure size 576x396 with 0 Axes>"
      ]
     },
     "metadata": {},
     "output_type": "display_data"
    },
    {
     "data": {
      "text/plain": [
       "<Figure size 576x396 with 0 Axes>"
      ]
     },
     "metadata": {},
     "output_type": "display_data"
    },
    {
     "data": {
      "text/plain": [
       "<Figure size 576x396 with 0 Axes>"
      ]
     },
     "metadata": {},
     "output_type": "display_data"
    },
    {
     "data": {
      "text/plain": [
       "<Figure size 576x396 with 0 Axes>"
      ]
     },
     "metadata": {},
     "output_type": "display_data"
    },
    {
     "data": {
      "text/plain": [
       "<Figure size 576x396 with 0 Axes>"
      ]
     },
     "metadata": {},
     "output_type": "display_data"
    },
    {
     "data": {
      "text/plain": [
       "<Figure size 576x396 with 0 Axes>"
      ]
     },
     "metadata": {},
     "output_type": "display_data"
    },
    {
     "data": {
      "text/plain": [
       "<Figure size 576x396 with 0 Axes>"
      ]
     },
     "metadata": {},
     "output_type": "display_data"
    },
    {
     "data": {
      "text/plain": [
       "<Figure size 576x396 with 0 Axes>"
      ]
     },
     "metadata": {},
     "output_type": "display_data"
    },
    {
     "data": {
      "text/plain": [
       "<Figure size 576x396 with 0 Axes>"
      ]
     },
     "metadata": {},
     "output_type": "display_data"
    },
    {
     "data": {
      "text/plain": [
       "<Figure size 576x396 with 0 Axes>"
      ]
     },
     "metadata": {},
     "output_type": "display_data"
    },
    {
     "data": {
      "text/plain": [
       "<Figure size 576x396 with 0 Axes>"
      ]
     },
     "metadata": {},
     "output_type": "display_data"
    },
    {
     "data": {
      "text/plain": [
       "<Figure size 576x396 with 0 Axes>"
      ]
     },
     "metadata": {},
     "output_type": "display_data"
    },
    {
     "data": {
      "text/plain": [
       "<Figure size 576x396 with 0 Axes>"
      ]
     },
     "metadata": {},
     "output_type": "display_data"
    },
    {
     "data": {
      "text/plain": [
       "<Figure size 576x396 with 0 Axes>"
      ]
     },
     "metadata": {},
     "output_type": "display_data"
    },
    {
     "data": {
      "text/plain": [
       "<Figure size 576x396 with 0 Axes>"
      ]
     },
     "metadata": {},
     "output_type": "display_data"
    },
    {
     "data": {
      "text/plain": [
       "<Figure size 576x396 with 0 Axes>"
      ]
     },
     "metadata": {},
     "output_type": "display_data"
    },
    {
     "data": {
      "text/plain": [
       "<Figure size 576x396 with 0 Axes>"
      ]
     },
     "metadata": {},
     "output_type": "display_data"
    },
    {
     "data": {
      "text/plain": [
       "<Figure size 576x396 with 0 Axes>"
      ]
     },
     "metadata": {},
     "output_type": "display_data"
    },
    {
     "data": {
      "text/plain": [
       "<Figure size 576x396 with 0 Axes>"
      ]
     },
     "metadata": {},
     "output_type": "display_data"
    },
    {
     "data": {
      "text/plain": [
       "<Figure size 576x396 with 0 Axes>"
      ]
     },
     "metadata": {},
     "output_type": "display_data"
    },
    {
     "data": {
      "text/plain": [
       "<Figure size 576x396 with 0 Axes>"
      ]
     },
     "metadata": {},
     "output_type": "display_data"
    },
    {
     "data": {
      "text/plain": [
       "<Figure size 576x396 with 0 Axes>"
      ]
     },
     "metadata": {},
     "output_type": "display_data"
    },
    {
     "data": {
      "text/plain": [
       "<Figure size 576x396 with 0 Axes>"
      ]
     },
     "metadata": {},
     "output_type": "display_data"
    },
    {
     "data": {
      "text/plain": [
       "<Figure size 576x396 with 0 Axes>"
      ]
     },
     "metadata": {},
     "output_type": "display_data"
    },
    {
     "data": {
      "text/plain": [
       "<Figure size 576x396 with 0 Axes>"
      ]
     },
     "metadata": {},
     "output_type": "display_data"
    },
    {
     "data": {
      "text/plain": [
       "<Figure size 576x396 with 0 Axes>"
      ]
     },
     "metadata": {},
     "output_type": "display_data"
    },
    {
     "data": {
      "text/plain": [
       "<Figure size 576x396 with 0 Axes>"
      ]
     },
     "metadata": {},
     "output_type": "display_data"
    },
    {
     "data": {
      "text/plain": [
       "<Figure size 576x396 with 0 Axes>"
      ]
     },
     "metadata": {},
     "output_type": "display_data"
    },
    {
     "data": {
      "text/plain": [
       "<Figure size 576x396 with 0 Axes>"
      ]
     },
     "metadata": {},
     "output_type": "display_data"
    },
    {
     "data": {
      "text/plain": [
       "<Figure size 576x396 with 0 Axes>"
      ]
     },
     "metadata": {},
     "output_type": "display_data"
    },
    {
     "data": {
      "text/plain": [
       "<Figure size 576x396 with 0 Axes>"
      ]
     },
     "metadata": {},
     "output_type": "display_data"
    },
    {
     "data": {
      "text/plain": [
       "<Figure size 576x396 with 0 Axes>"
      ]
     },
     "metadata": {},
     "output_type": "display_data"
    },
    {
     "data": {
      "text/plain": [
       "<Figure size 576x396 with 0 Axes>"
      ]
     },
     "metadata": {},
     "output_type": "display_data"
    },
    {
     "data": {
      "text/plain": [
       "<Figure size 576x396 with 0 Axes>"
      ]
     },
     "metadata": {},
     "output_type": "display_data"
    },
    {
     "data": {
      "text/plain": [
       "<Figure size 576x396 with 0 Axes>"
      ]
     },
     "metadata": {},
     "output_type": "display_data"
    },
    {
     "data": {
      "text/plain": [
       "<Figure size 576x396 with 0 Axes>"
      ]
     },
     "metadata": {},
     "output_type": "display_data"
    },
    {
     "data": {
      "text/plain": [
       "<Figure size 576x396 with 0 Axes>"
      ]
     },
     "metadata": {},
     "output_type": "display_data"
    },
    {
     "data": {
      "text/plain": [
       "<Figure size 576x396 with 0 Axes>"
      ]
     },
     "metadata": {},
     "output_type": "display_data"
    },
    {
     "data": {
      "text/plain": [
       "<Figure size 576x396 with 0 Axes>"
      ]
     },
     "metadata": {},
     "output_type": "display_data"
    },
    {
     "data": {
      "text/plain": [
       "<Figure size 576x396 with 0 Axes>"
      ]
     },
     "metadata": {},
     "output_type": "display_data"
    },
    {
     "data": {
      "text/plain": [
       "<Figure size 576x396 with 0 Axes>"
      ]
     },
     "metadata": {},
     "output_type": "display_data"
    },
    {
     "data": {
      "text/plain": [
       "<Figure size 576x396 with 0 Axes>"
      ]
     },
     "metadata": {},
     "output_type": "display_data"
    },
    {
     "data": {
      "text/plain": [
       "<Figure size 576x396 with 0 Axes>"
      ]
     },
     "metadata": {},
     "output_type": "display_data"
    },
    {
     "data": {
      "text/plain": [
       "<Figure size 576x396 with 0 Axes>"
      ]
     },
     "metadata": {},
     "output_type": "display_data"
    },
    {
     "data": {
      "text/plain": [
       "<Figure size 576x396 with 0 Axes>"
      ]
     },
     "metadata": {},
     "output_type": "display_data"
    },
    {
     "data": {
      "text/plain": [
       "<Figure size 576x396 with 0 Axes>"
      ]
     },
     "metadata": {},
     "output_type": "display_data"
    },
    {
     "data": {
      "text/plain": [
       "<Figure size 576x396 with 0 Axes>"
      ]
     },
     "metadata": {},
     "output_type": "display_data"
    },
    {
     "data": {
      "text/plain": [
       "<Figure size 576x396 with 0 Axes>"
      ]
     },
     "metadata": {},
     "output_type": "display_data"
    },
    {
     "data": {
      "text/plain": [
       "<Figure size 576x396 with 0 Axes>"
      ]
     },
     "metadata": {},
     "output_type": "display_data"
    },
    {
     "data": {
      "text/plain": [
       "<Figure size 576x396 with 0 Axes>"
      ]
     },
     "metadata": {},
     "output_type": "display_data"
    },
    {
     "data": {
      "text/plain": [
       "<Figure size 576x396 with 0 Axes>"
      ]
     },
     "metadata": {},
     "output_type": "display_data"
    },
    {
     "data": {
      "text/plain": [
       "<Figure size 576x396 with 0 Axes>"
      ]
     },
     "metadata": {},
     "output_type": "display_data"
    },
    {
     "data": {
      "text/plain": [
       "<Figure size 576x396 with 0 Axes>"
      ]
     },
     "metadata": {},
     "output_type": "display_data"
    },
    {
     "data": {
      "text/plain": [
       "<Figure size 576x396 with 0 Axes>"
      ]
     },
     "metadata": {},
     "output_type": "display_data"
    },
    {
     "data": {
      "text/plain": [
       "<Figure size 576x396 with 0 Axes>"
      ]
     },
     "metadata": {},
     "output_type": "display_data"
    },
    {
     "data": {
      "text/plain": [
       "<Figure size 576x396 with 0 Axes>"
      ]
     },
     "metadata": {},
     "output_type": "display_data"
    },
    {
     "data": {
      "text/plain": [
       "<Figure size 576x396 with 0 Axes>"
      ]
     },
     "metadata": {},
     "output_type": "display_data"
    },
    {
     "data": {
      "text/plain": [
       "<Figure size 576x396 with 0 Axes>"
      ]
     },
     "metadata": {},
     "output_type": "display_data"
    },
    {
     "data": {
      "image/png": "[encoded data removed]",
      "text/plain": [
       "<Figure size 576x396 with 2 Axes>"
      ]
     },
     "metadata": {},
     "output_type": "display_data"
    }
   ],
   "source": [
    "results, pipeline = ml.main()"
   ]
  },
  {
   "cell_type": "code",
   "execution_count": 3,
   "metadata": {
    "collapsed": true
   },
   "outputs": [
    {
     "data": {
      "text/html": [
       "<div>\n",
       "<style scoped>\n",
       "    .dataframe tbody tr th:only-of-type {\n",
       "        vertical-align: middle;\n",
       "    }\n",
       "\n",
       "    .dataframe tbody tr th {\n",
       "        vertical-align: top;\n",
       "    }\n",
       "\n",
       "    .dataframe thead th {\n",
       "        text-align: right;\n",
       "    }\n",
       "</style>\n",
       "<table border=\"1\" class=\"dataframe\">\n",
       "  <thead>\n",
       "    <tr style=\"text-align: right;\">\n",
       "      <th></th>\n",
       "      <th>training_dates</th>\n",
       "      <th>testing_dates</th>\n",
       "      <th>model_key</th>\n",
       "      <th>classifier</th>\n",
       "      <th>parameters</th>\n",
       "      <th>feature_sets</th>\n",
       "      <th>outcome</th>\n",
       "      <th>model_result</th>\n",
       "      <th>auc-roc</th>\n",
       "      <th>p_at_1</th>\n",
       "      <th>...</th>\n",
       "      <th>r_at_20</th>\n",
       "      <th>r_at_30</th>\n",
       "      <th>r_at_50</th>\n",
       "      <th>f1_at_1</th>\n",
       "      <th>f1_at_2</th>\n",
       "      <th>f1_at_5</th>\n",
       "      <th>f1_at_10</th>\n",
       "      <th>f1_at_20</th>\n",
       "      <th>f1_at_30</th>\n",
       "      <th>f1_at_50</th>\n",
       "    </tr>\n",
       "  </thead>\n",
       "  <tbody>\n",
       "    <tr>\n",
       "      <th>0</th>\n",
       "      <td>(2006-01-01 00:00:00, 2006-12-31 00:00:00)</td>\n",
       "      <td>(2007-01-01 00:00:00, 2007-12-31 00:00:00)</td>\n",
       "      <td>RF</td>\n",
       "      <td>(DecisionTreeClassifier(class_weight=None, cri...</td>\n",
       "      <td>{'n_estimators': 10, 'max_features': 'sqrt', '...</td>\n",
       "      <td>[economic]</td>\n",
       "      <td>top20_rate</td>\n",
       "      <td>RF: feature_importances:                      ...</td>\n",
       "      <td>0.678837</td>\n",
       "      <td>0.189474</td>\n",
       "      <td>...</td>\n",
       "      <td>0.398773</td>\n",
       "      <td>0.544479</td>\n",
       "      <td>0.949387</td>\n",
       "      <td>0.048193</td>\n",
       "      <td>0.071259</td>\n",
       "      <td>0.109929</td>\n",
       "      <td>0.177057</td>\n",
       "      <td>0.203443</td>\n",
       "      <td>0.202337</td>\n",
       "      <td>0.228666</td>\n",
       "    </tr>\n",
       "    <tr>\n",
       "      <th>1</th>\n",
       "      <td>(2006-01-01 00:00:00, 2006-12-31 00:00:00)</td>\n",
       "      <td>(2007-01-01 00:00:00, 2007-12-31 00:00:00)</td>\n",
       "      <td>DT</td>\n",
       "      <td>DecisionTreeClassifier(class_weight=None, crit...</td>\n",
       "      <td>{'criterion': 'gini', 'max_depth': 20, 'min_sa...</td>\n",
       "      <td>[economic]</td>\n",
       "      <td>top20_rate</td>\n",
       "      <td>DT: tree_viz: tree_viz1.png</td>\n",
       "      <td>0.661513</td>\n",
       "      <td>0.000000</td>\n",
       "      <td>...</td>\n",
       "      <td>0.329755</td>\n",
       "      <td>0.460123</td>\n",
       "      <td>0.961656</td>\n",
       "      <td>0.000000</td>\n",
       "      <td>0.000000</td>\n",
       "      <td>0.070922</td>\n",
       "      <td>0.120948</td>\n",
       "      <td>0.168232</td>\n",
       "      <td>0.170989</td>\n",
       "      <td>0.231622</td>\n",
       "    </tr>\n",
       "    <tr>\n",
       "      <th>2</th>\n",
       "      <td>(2006-01-01 00:00:00, 2006-12-31 00:00:00)</td>\n",
       "      <td>(2007-01-01 00:00:00, 2007-12-31 00:00:00)</td>\n",
       "      <td>LR</td>\n",
       "      <td>LogisticRegression(C=0.01, class_weight=None, ...</td>\n",
       "      <td>{'penalty': 'l2', 'C': 0.01}</td>\n",
       "      <td>[economic]</td>\n",
       "      <td>top20_rate</td>\n",
       "      <td>LR: coefficients:             coef            ...</td>\n",
       "      <td>0.546856</td>\n",
       "      <td>0.021053</td>\n",
       "      <td>...</td>\n",
       "      <td>0.105828</td>\n",
       "      <td>0.260736</td>\n",
       "      <td>0.685583</td>\n",
       "      <td>0.005355</td>\n",
       "      <td>0.014252</td>\n",
       "      <td>0.014184</td>\n",
       "      <td>0.023691</td>\n",
       "      <td>0.053991</td>\n",
       "      <td>0.096894</td>\n",
       "      <td>0.165127</td>\n",
       "    </tr>\n",
       "    <tr>\n",
       "      <th>3</th>\n",
       "      <td>(2006-01-01 00:00:00, 2006-12-31 00:00:00)</td>\n",
       "      <td>(2007-01-01 00:00:00, 2007-12-31 00:00:00)</td>\n",
       "      <td>BAG</td>\n",
       "      <td>(DecisionTreeClassifier(class_weight=None, cri...</td>\n",
       "      <td>{'max_samples': 5, 'n_estimators': 5, 'max_fea...</td>\n",
       "      <td>[economic]</td>\n",
       "      <td>top20_rate</td>\n",
       "      <td>BAG: base_estimator: DecisionTreeClassifier(cl...</td>\n",
       "      <td>0.469031</td>\n",
       "      <td>0.010526</td>\n",
       "      <td>...</td>\n",
       "      <td>0.099693</td>\n",
       "      <td>0.099693</td>\n",
       "      <td>1.000000</td>\n",
       "      <td>0.002677</td>\n",
       "      <td>0.002375</td>\n",
       "      <td>0.001773</td>\n",
       "      <td>0.013716</td>\n",
       "      <td>0.050861</td>\n",
       "      <td>0.037048</td>\n",
       "      <td>0.240857</td>\n",
       "    </tr>\n",
       "    <tr>\n",
       "      <th>4</th>\n",
       "      <td>(2006-01-01 00:00:00, 2006-12-31 00:00:00)</td>\n",
       "      <td>(2007-01-01 00:00:00, 2007-12-31 00:00:00)</td>\n",
       "      <td>GB</td>\n",
       "      <td>([DecisionTreeRegressor(criterion='friedman_ms...</td>\n",
       "      <td>{'n_estimators': 5, 'learning_rate': 0.5, 'max...</td>\n",
       "      <td>[economic]</td>\n",
       "      <td>top20_rate</td>\n",
       "      <td>GB: feature_importances:                      ...</td>\n",
       "      <td>0.571732</td>\n",
       "      <td>0.063158</td>\n",
       "      <td>...</td>\n",
       "      <td>0.322086</td>\n",
       "      <td>0.412577</td>\n",
       "      <td>0.642638</td>\n",
       "      <td>0.016064</td>\n",
       "      <td>0.014252</td>\n",
       "      <td>0.115248</td>\n",
       "      <td>0.117207</td>\n",
       "      <td>0.164319</td>\n",
       "      <td>0.153320</td>\n",
       "      <td>0.154784</td>\n",
       "    </tr>\n",
       "    <tr>\n",
       "      <th>5</th>\n",
       "      <td>(2006-01-01 00:00:00, 2006-12-31 00:00:00)</td>\n",
       "      <td>(2007-01-01 00:00:00, 2007-12-31 00:00:00)</td>\n",
       "      <td>KNN</td>\n",
       "      <td>KNeighborsClassifier(algorithm='kd_tree', leaf...</td>\n",
       "      <td>{'algorithm': 'kd_tree', 'weights': 'distance'...</td>\n",
       "      <td>[economic]</td>\n",
       "      <td>top20_rate</td>\n",
       "      <td>None</td>\n",
       "      <td>0.589782</td>\n",
       "      <td>0.010526</td>\n",
       "      <td>...</td>\n",
       "      <td>0.378834</td>\n",
       "      <td>0.418712</td>\n",
       "      <td>1.000000</td>\n",
       "      <td>0.002677</td>\n",
       "      <td>0.002375</td>\n",
       "      <td>0.070922</td>\n",
       "      <td>0.135910</td>\n",
       "      <td>0.193271</td>\n",
       "      <td>0.155600</td>\n",
       "      <td>0.240857</td>\n",
       "    </tr>\n",
       "    <tr>\n",
       "      <th>6</th>\n",
       "      <td>(2006-01-01 00:00:00, 2006-12-31 00:00:00)</td>\n",
       "      <td>(2007-01-01 00:00:00, 2007-12-31 00:00:00)</td>\n",
       "      <td>NB</td>\n",
       "      <td>GaussianNB(priors=None)</td>\n",
       "      <td>{}</td>\n",
       "      <td>[economic]</td>\n",
       "      <td>top20_rate</td>\n",
       "      <td>None</td>\n",
       "      <td>0.600495</td>\n",
       "      <td>0.105263</td>\n",
       "      <td>...</td>\n",
       "      <td>0.314417</td>\n",
       "      <td>0.369632</td>\n",
       "      <td>0.679448</td>\n",
       "      <td>0.026774</td>\n",
       "      <td>0.040380</td>\n",
       "      <td>0.085106</td>\n",
       "      <td>0.129676</td>\n",
       "      <td>0.160407</td>\n",
       "      <td>0.137361</td>\n",
       "      <td>0.163650</td>\n",
       "    </tr>\n",
       "    <tr>\n",
       "      <th>7</th>\n",
       "      <td>(2006-01-01 00:00:00, 2006-12-31 00:00:00)</td>\n",
       "      <td>(2007-01-01 00:00:00, 2007-12-31 00:00:00)</td>\n",
       "      <td>BASELINE_DT</td>\n",
       "      <td>DecisionTreeClassifier(class_weight=None, crit...</td>\n",
       "      <td>{'criterion': 'gini', 'max_depth': 3}</td>\n",
       "      <td>[economic]</td>\n",
       "      <td>top20_rate</td>\n",
       "      <td>None</td>\n",
       "      <td>0.586876</td>\n",
       "      <td>0.010526</td>\n",
       "      <td>...</td>\n",
       "      <td>0.156442</td>\n",
       "      <td>0.156442</td>\n",
       "      <td>0.886503</td>\n",
       "      <td>0.002677</td>\n",
       "      <td>0.002375</td>\n",
       "      <td>0.008865</td>\n",
       "      <td>0.127182</td>\n",
       "      <td>0.079812</td>\n",
       "      <td>0.058136</td>\n",
       "      <td>0.213521</td>\n",
       "    </tr>\n",
       "    <tr>\n",
       "      <th>8</th>\n",
       "      <td>(2006-01-01 00:00:00, 2007-12-31 00:00:00)</td>\n",
       "      <td>(2007-01-01 00:00:00, 2007-12-31 00:00:00)</td>\n",
       "      <td>RF</td>\n",
       "      <td>(DecisionTreeClassifier(class_weight=None, cri...</td>\n",
       "      <td>{'n_estimators': 10, 'max_features': 'sqrt', '...</td>\n",
       "      <td>[economic]</td>\n",
       "      <td>top20_num</td>\n",
       "      <td>RF: feature_importances:                      ...</td>\n",
       "      <td>0.695668</td>\n",
       "      <td>0.294737</td>\n",
       "      <td>...</td>\n",
       "      <td>0.376344</td>\n",
       "      <td>0.557796</td>\n",
       "      <td>0.919355</td>\n",
       "      <td>0.066746</td>\n",
       "      <td>0.089936</td>\n",
       "      <td>0.157377</td>\n",
       "      <td>0.220519</td>\n",
       "      <td>0.211480</td>\n",
       "      <td>0.230492</td>\n",
       "      <td>0.248456</td>\n",
       "    </tr>\n",
       "    <tr>\n",
       "      <th>9</th>\n",
       "      <td>(2006-01-01 00:00:00, 2007-12-31 00:00:00)</td>\n",
       "      <td>(2007-01-01 00:00:00, 2007-12-31 00:00:00)</td>\n",
       "      <td>DT</td>\n",
       "      <td>DecisionTreeClassifier(class_weight=None, crit...</td>\n",
       "      <td>{'criterion': 'gini', 'max_depth': 20, 'min_sa...</td>\n",
       "      <td>[economic]</td>\n",
       "      <td>top20_num</td>\n",
       "      <td>DT: tree_viz: tree_viz9.png</td>\n",
       "      <td>0.705105</td>\n",
       "      <td>0.294737</td>\n",
       "      <td>...</td>\n",
       "      <td>0.423387</td>\n",
       "      <td>0.563172</td>\n",
       "      <td>0.911290</td>\n",
       "      <td>0.066746</td>\n",
       "      <td>0.059957</td>\n",
       "      <td>0.181967</td>\n",
       "      <td>0.229953</td>\n",
       "      <td>0.237915</td>\n",
       "      <td>0.232713</td>\n",
       "      <td>0.246277</td>\n",
       "    </tr>\n",
       "    <tr>\n",
       "      <th>10</th>\n",
       "      <td>(2006-01-01 00:00:00, 2007-12-31 00:00:00)</td>\n",
       "      <td>(2007-01-01 00:00:00, 2007-12-31 00:00:00)</td>\n",
       "      <td>LR</td>\n",
       "      <td>LogisticRegression(C=0.01, class_weight=None, ...</td>\n",
       "      <td>{'penalty': 'l2', 'C': 0.01}</td>\n",
       "      <td>[economic]</td>\n",
       "      <td>top20_num</td>\n",
       "      <td>LR: coefficients:             coef            ...</td>\n",
       "      <td>0.514286</td>\n",
       "      <td>0.294737</td>\n",
       "      <td>...</td>\n",
       "      <td>0.127688</td>\n",
       "      <td>0.274194</td>\n",
       "      <td>0.626344</td>\n",
       "      <td>0.066746</td>\n",
       "      <td>0.064240</td>\n",
       "      <td>0.052459</td>\n",
       "      <td>0.051887</td>\n",
       "      <td>0.071752</td>\n",
       "      <td>0.113302</td>\n",
       "      <td>0.169270</td>\n",
       "    </tr>\n",
       "    <tr>\n",
       "      <th>11</th>\n",
       "      <td>(2006-01-01 00:00:00, 2007-12-31 00:00:00)</td>\n",
       "      <td>(2007-01-01 00:00:00, 2007-12-31 00:00:00)</td>\n",
       "      <td>BAG</td>\n",
       "      <td>(DecisionTreeClassifier(class_weight=None, cri...</td>\n",
       "      <td>{'max_samples': 5, 'n_estimators': 5, 'max_fea...</td>\n",
       "      <td>[economic]</td>\n",
       "      <td>top20_num</td>\n",
       "      <td>BAG: base_estimator: DecisionTreeClassifier(cl...</td>\n",
       "      <td>0.549285</td>\n",
       "      <td>0.010526</td>\n",
       "      <td>...</td>\n",
       "      <td>0.001344</td>\n",
       "      <td>0.470430</td>\n",
       "      <td>0.651882</td>\n",
       "      <td>0.002384</td>\n",
       "      <td>0.002141</td>\n",
       "      <td>0.001639</td>\n",
       "      <td>0.001179</td>\n",
       "      <td>0.000755</td>\n",
       "      <td>0.194390</td>\n",
       "      <td>0.176171</td>\n",
       "    </tr>\n",
       "    <tr>\n",
       "      <th>12</th>\n",
       "      <td>(2006-01-01 00:00:00, 2007-12-31 00:00:00)</td>\n",
       "      <td>(2007-01-01 00:00:00, 2007-12-31 00:00:00)</td>\n",
       "      <td>GB</td>\n",
       "      <td>([DecisionTreeRegressor(criterion='friedman_ms...</td>\n",
       "      <td>{'n_estimators': 5, 'learning_rate': 0.5, 'max...</td>\n",
       "      <td>[economic]</td>\n",
       "      <td>top20_num</td>\n",
       "      <td>GB: feature_importances:                      ...</td>\n",
       "      <td>0.702414</td>\n",
       "      <td>0.294737</td>\n",
       "      <td>...</td>\n",
       "      <td>0.401882</td>\n",
       "      <td>0.568548</td>\n",
       "      <td>0.934140</td>\n",
       "      <td>0.066746</td>\n",
       "      <td>0.079229</td>\n",
       "      <td>0.188525</td>\n",
       "      <td>0.229953</td>\n",
       "      <td>0.225831</td>\n",
       "      <td>0.234935</td>\n",
       "      <td>0.252452</td>\n",
       "    </tr>\n",
       "    <tr>\n",
       "      <th>13</th>\n",
       "      <td>(2006-01-01 00:00:00, 2007-12-31 00:00:00)</td>\n",
       "      <td>(2007-01-01 00:00:00, 2007-12-31 00:00:00)</td>\n",
       "      <td>KNN</td>\n",
       "      <td>KNeighborsClassifier(algorithm='kd_tree', leaf...</td>\n",
       "      <td>{'algorithm': 'kd_tree', 'weights': 'distance'...</td>\n",
       "      <td>[economic]</td>\n",
       "      <td>top20_num</td>\n",
       "      <td>None</td>\n",
       "      <td>0.622664</td>\n",
       "      <td>0.010526</td>\n",
       "      <td>...</td>\n",
       "      <td>0.275538</td>\n",
       "      <td>0.505376</td>\n",
       "      <td>1.000000</td>\n",
       "      <td>0.002384</td>\n",
       "      <td>0.104925</td>\n",
       "      <td>0.126230</td>\n",
       "      <td>0.195755</td>\n",
       "      <td>0.154834</td>\n",
       "      <td>0.208831</td>\n",
       "      <td>0.270251</td>\n",
       "    </tr>\n",
       "    <tr>\n",
       "      <th>14</th>\n",
       "      <td>(2006-01-01 00:00:00, 2007-12-31 00:00:00)</td>\n",
       "      <td>(2007-01-01 00:00:00, 2007-12-31 00:00:00)</td>\n",
       "      <td>NB</td>\n",
       "      <td>GaussianNB(priors=None)</td>\n",
       "      <td>{}</td>\n",
       "      <td>[economic]</td>\n",
       "      <td>top20_num</td>\n",
       "      <td>None</td>\n",
       "      <td>0.514036</td>\n",
       "      <td>0.000000</td>\n",
       "      <td>...</td>\n",
       "      <td>0.087366</td>\n",
       "      <td>0.248656</td>\n",
       "      <td>0.615591</td>\n",
       "      <td>0.000000</td>\n",
       "      <td>0.000000</td>\n",
       "      <td>0.027869</td>\n",
       "      <td>0.033019</td>\n",
       "      <td>0.049094</td>\n",
       "      <td>0.102749</td>\n",
       "      <td>0.166364</td>\n",
       "    </tr>\n",
       "    <tr>\n",
       "      <th>15</th>\n",
       "      <td>(2006-01-01 00:00:00, 2007-12-31 00:00:00)</td>\n",
       "      <td>(2007-01-01 00:00:00, 2007-12-31 00:00:00)</td>\n",
       "      <td>BASELINE_DT</td>\n",
       "      <td>DecisionTreeClassifier(class_weight=None, crit...</td>\n",
       "      <td>{'criterion': 'gini', 'max_depth': 3}</td>\n",
       "      <td>[economic]</td>\n",
       "      <td>top20_num</td>\n",
       "      <td>None</td>\n",
       "      <td>0.670441</td>\n",
       "      <td>0.221053</td>\n",
       "      <td>...</td>\n",
       "      <td>0.478495</td>\n",
       "      <td>0.478495</td>\n",
       "      <td>0.966398</td>\n",
       "      <td>0.050060</td>\n",
       "      <td>0.044968</td>\n",
       "      <td>0.034426</td>\n",
       "      <td>0.024764</td>\n",
       "      <td>0.268882</td>\n",
       "      <td>0.197723</td>\n",
       "      <td>0.261170</td>\n",
       "    </tr>\n",
       "    <tr>\n",
       "      <th>16</th>\n",
       "      <td>(2006-01-01 00:00:00, 2008-12-31 00:00:00)</td>\n",
       "      <td>(2007-01-01 00:00:00, 2007-12-31 00:00:00)</td>\n",
       "      <td>RF</td>\n",
       "      <td>(DecisionTreeClassifier(class_weight=None, cri...</td>\n",
       "      <td>{'n_estimators': 10, 'max_features': 'sqrt', '...</td>\n",
       "      <td>[eviction]</td>\n",
       "      <td>top20_rate</td>\n",
       "      <td>RF: feature_importances:                      ...</td>\n",
       "      <td>0.991266</td>\n",
       "      <td>1.000000</td>\n",
       "      <td>...</td>\n",
       "      <td>1.000000</td>\n",
       "      <td>1.000000</td>\n",
       "      <td>1.000000</td>\n",
       "      <td>0.254351</td>\n",
       "      <td>0.451306</td>\n",
       "      <td>0.753546</td>\n",
       "      <td>0.768080</td>\n",
       "      <td>0.510172</td>\n",
       "      <td>0.371616</td>\n",
       "      <td>0.240857</td>\n",
       "    </tr>\n",
       "    <tr>\n",
       "      <th>17</th>\n",
       "      <td>(2006-01-01 00:00:00, 2008-12-31 00:00:00)</td>\n",
       "      <td>(2007-01-01 00:00:00, 2007-12-31 00:00:00)</td>\n",
       "      <td>DT</td>\n",
       "      <td>DecisionTreeClassifier(class_weight=None, crit...</td>\n",
       "      <td>{'criterion': 'gini', 'max_depth': 20, 'min_sa...</td>\n",
       "      <td>[eviction]</td>\n",
       "      <td>top20_rate</td>\n",
       "      <td>DT: tree_viz: tree_viz17.png</td>\n",
       "      <td>0.999705</td>\n",
       "      <td>1.000000</td>\n",
       "      <td>...</td>\n",
       "      <td>1.000000</td>\n",
       "      <td>1.000000</td>\n",
       "      <td>1.000000</td>\n",
       "      <td>0.254351</td>\n",
       "      <td>0.451306</td>\n",
       "      <td>0.843972</td>\n",
       "      <td>0.812968</td>\n",
       "      <td>0.510172</td>\n",
       "      <td>0.371616</td>\n",
       "      <td>0.240857</td>\n",
       "    </tr>\n",
       "    <tr>\n",
       "      <th>18</th>\n",
       "      <td>(2006-01-01 00:00:00, 2008-12-31 00:00:00)</td>\n",
       "      <td>(2007-01-01 00:00:00, 2007-12-31 00:00:00)</td>\n",
       "      <td>LR</td>\n",
       "      <td>LogisticRegression(C=0.01, class_weight=None, ...</td>\n",
       "      <td>{'penalty': 'l2', 'C': 0.01}</td>\n",
       "      <td>[eviction]</td>\n",
       "      <td>top20_rate</td>\n",
       "      <td>LR: coefficients:             coef            ...</td>\n",
       "      <td>0.633697</td>\n",
       "      <td>0.178947</td>\n",
       "      <td>...</td>\n",
       "      <td>0.320552</td>\n",
       "      <td>0.320552</td>\n",
       "      <td>0.703988</td>\n",
       "      <td>0.045515</td>\n",
       "      <td>0.054632</td>\n",
       "      <td>0.115248</td>\n",
       "      <td>0.135910</td>\n",
       "      <td>0.163537</td>\n",
       "      <td>0.119122</td>\n",
       "      <td>0.169560</td>\n",
       "    </tr>\n",
       "    <tr>\n",
       "      <th>19</th>\n",
       "      <td>(2006-01-01 00:00:00, 2008-12-31 00:00:00)</td>\n",
       "      <td>(2007-01-01 00:00:00, 2007-12-31 00:00:00)</td>\n",
       "      <td>BAG</td>\n",
       "      <td>(DecisionTreeClassifier(class_weight=None, cri...</td>\n",
       "      <td>{'max_samples': 5, 'n_estimators': 5, 'max_fea...</td>\n",
       "      <td>[eviction]</td>\n",
       "      <td>top20_rate</td>\n",
       "      <td>BAG: base_estimator: DecisionTreeClassifier(cl...</td>\n",
       "      <td>0.715333</td>\n",
       "      <td>0.010526</td>\n",
       "      <td>...</td>\n",
       "      <td>0.641104</td>\n",
       "      <td>0.641104</td>\n",
       "      <td>0.763804</td>\n",
       "      <td>0.002677</td>\n",
       "      <td>0.002375</td>\n",
       "      <td>0.001773</td>\n",
       "      <td>0.001247</td>\n",
       "      <td>0.327074</td>\n",
       "      <td>0.238245</td>\n",
       "      <td>0.183967</td>\n",
       "    </tr>\n",
       "    <tr>\n",
       "      <th>20</th>\n",
       "      <td>(2006-01-01 00:00:00, 2008-12-31 00:00:00)</td>\n",
       "      <td>(2007-01-01 00:00:00, 2007-12-31 00:00:00)</td>\n",
       "      <td>GB</td>\n",
       "      <td>([DecisionTreeRegressor(criterion='friedman_ms...</td>\n",
       "      <td>{'n_estimators': 5, 'learning_rate': 0.5, 'max...</td>\n",
       "      <td>[eviction]</td>\n",
       "      <td>top20_rate</td>\n",
       "      <td>GB: feature_importances:                      ...</td>\n",
       "      <td>0.994355</td>\n",
       "      <td>1.000000</td>\n",
       "      <td>...</td>\n",
       "      <td>0.998466</td>\n",
       "      <td>0.998466</td>\n",
       "      <td>1.000000</td>\n",
       "      <td>0.254351</td>\n",
       "      <td>0.448931</td>\n",
       "      <td>0.797872</td>\n",
       "      <td>0.786783</td>\n",
       "      <td>0.509390</td>\n",
       "      <td>0.371046</td>\n",
       "      <td>0.240857</td>\n",
       "    </tr>\n",
       "    <tr>\n",
       "      <th>21</th>\n",
       "      <td>(2006-01-01 00:00:00, 2008-12-31 00:00:00)</td>\n",
       "      <td>(2007-01-01 00:00:00, 2007-12-31 00:00:00)</td>\n",
       "      <td>KNN</td>\n",
       "      <td>KNeighborsClassifier(algorithm='kd_tree', leaf...</td>\n",
       "      <td>{'algorithm': 'kd_tree', 'weights': 'distance'...</td>\n",
       "      <td>[eviction]</td>\n",
       "      <td>top20_rate</td>\n",
       "      <td>None</td>\n",
       "      <td>1.000000</td>\n",
       "      <td>1.000000</td>\n",
       "      <td>...</td>\n",
       "      <td>1.000000</td>\n",
       "      <td>1.000000</td>\n",
       "      <td>1.000000</td>\n",
       "      <td>0.254351</td>\n",
       "      <td>0.451306</td>\n",
       "      <td>0.843972</td>\n",
       "      <td>0.812968</td>\n",
       "      <td>0.510172</td>\n",
       "      <td>0.371616</td>\n",
       "      <td>0.240857</td>\n",
       "    </tr>\n",
       "    <tr>\n",
       "      <th>22</th>\n",
       "      <td>(2006-01-01 00:00:00, 2008-12-31 00:00:00)</td>\n",
       "      <td>(2007-01-01 00:00:00, 2007-12-31 00:00:00)</td>\n",
       "      <td>NB</td>\n",
       "      <td>GaussianNB(priors=None)</td>\n",
       "      <td>{}</td>\n",
       "      <td>[eviction]</td>\n",
       "      <td>top20_rate</td>\n",
       "      <td>None</td>\n",
       "      <td>0.670830</td>\n",
       "      <td>0.000000</td>\n",
       "      <td>...</td>\n",
       "      <td>0.000000</td>\n",
       "      <td>0.000000</td>\n",
       "      <td>0.883436</td>\n",
       "      <td>0.000000</td>\n",
       "      <td>0.000000</td>\n",
       "      <td>0.000000</td>\n",
       "      <td>0.000000</td>\n",
       "      <td>0.000000</td>\n",
       "      <td>0.000000</td>\n",
       "      <td>0.212782</td>\n",
       "    </tr>\n",
       "    <tr>\n",
       "      <th>23</th>\n",
       "      <td>(2006-01-01 00:00:00, 2008-12-31 00:00:00)</td>\n",
       "      <td>(2007-01-01 00:00:00, 2007-12-31 00:00:00)</td>\n",
       "      <td>BASELINE_DT</td>\n",
       "      <td>DecisionTreeClassifier(class_weight=None, crit...</td>\n",
       "      <td>{'criterion': 'gini', 'max_depth': 3}</td>\n",
       "      <td>[eviction]</td>\n",
       "      <td>top20_rate</td>\n",
       "      <td>None</td>\n",
       "      <td>0.953091</td>\n",
       "      <td>0.884211</td>\n",
       "      <td>...</td>\n",
       "      <td>0.786810</td>\n",
       "      <td>1.000000</td>\n",
       "      <td>1.000000</td>\n",
       "      <td>0.224900</td>\n",
       "      <td>0.296912</td>\n",
       "      <td>0.604610</td>\n",
       "      <td>0.592269</td>\n",
       "      <td>0.401408</td>\n",
       "      <td>0.371616</td>\n",
       "      <td>0.240857</td>\n",
       "    </tr>\n",
       "    <tr>\n",
       "      <th>24</th>\n",
       "      <td>(2006-01-01 00:00:00, 2009-12-31 00:00:00)</td>\n",
       "      <td>(2007-01-01 00:00:00, 2007-12-31 00:00:00)</td>\n",
       "      <td>RF</td>\n",
       "      <td>(DecisionTreeClassifier(class_weight=None, cri...</td>\n",
       "      <td>{'n_estimators': 10, 'max_features': 'sqrt', '...</td>\n",
       "      <td>[eviction]</td>\n",
       "      <td>top20_num</td>\n",
       "      <td>RF: feature_importances:                      ...</td>\n",
       "      <td>0.992388</td>\n",
       "      <td>1.000000</td>\n",
       "      <td>...</td>\n",
       "      <td>0.994624</td>\n",
       "      <td>0.998656</td>\n",
       "      <td>1.000000</td>\n",
       "      <td>0.226460</td>\n",
       "      <td>0.404711</td>\n",
       "      <td>0.759016</td>\n",
       "      <td>0.798349</td>\n",
       "      <td>0.558912</td>\n",
       "      <td>0.412663</td>\n",
       "      <td>0.270251</td>\n",
       "    </tr>\n",
       "    <tr>\n",
       "      <th>25</th>\n",
       "      <td>(2006-01-01 00:00:00, 2009-12-31 00:00:00)</td>\n",
       "      <td>(2007-01-01 00:00:00, 2007-12-31 00:00:00)</td>\n",
       "      <td>DT</td>\n",
       "      <td>DecisionTreeClassifier(class_weight=None, crit...</td>\n",
       "      <td>{'criterion': 'gini', 'max_depth': 20, 'min_sa...</td>\n",
       "      <td>[eviction]</td>\n",
       "      <td>top20_num</td>\n",
       "      <td>DT: tree_viz: tree_viz25.png</td>\n",
       "      <td>0.999780</td>\n",
       "      <td>1.000000</td>\n",
       "      <td>...</td>\n",
       "      <td>1.000000</td>\n",
       "      <td>1.000000</td>\n",
       "      <td>1.000000</td>\n",
       "      <td>0.226460</td>\n",
       "      <td>0.406852</td>\n",
       "      <td>0.780328</td>\n",
       "      <td>0.877358</td>\n",
       "      <td>0.561934</td>\n",
       "      <td>0.413219</td>\n",
       "      <td>0.270251</td>\n",
       "    </tr>\n",
       "    <tr>\n",
       "      <th>26</th>\n",
       "      <td>(2006-01-01 00:00:00, 2009-12-31 00:00:00)</td>\n",
       "      <td>(2007-01-01 00:00:00, 2007-12-31 00:00:00)</td>\n",
       "      <td>LR</td>\n",
       "      <td>LogisticRegression(C=0.01, class_weight=None, ...</td>\n",
       "      <td>{'penalty': 'l2', 'C': 0.01}</td>\n",
       "      <td>[eviction]</td>\n",
       "      <td>top20_num</td>\n",
       "      <td>LR: coefficients:         coef                ...</td>\n",
       "      <td>0.658761</td>\n",
       "      <td>0.115789</td>\n",
       "      <td>...</td>\n",
       "      <td>0.323925</td>\n",
       "      <td>0.327957</td>\n",
       "      <td>0.672043</td>\n",
       "      <td>0.026222</td>\n",
       "      <td>0.070664</td>\n",
       "      <td>0.167213</td>\n",
       "      <td>0.268868</td>\n",
       "      <td>0.182024</td>\n",
       "      <td>0.135518</td>\n",
       "      <td>0.181620</td>\n",
       "    </tr>\n",
       "    <tr>\n",
       "      <th>27</th>\n",
       "      <td>(2006-01-01 00:00:00, 2009-12-31 00:00:00)</td>\n",
       "      <td>(2007-01-01 00:00:00, 2007-12-31 00:00:00)</td>\n",
       "      <td>BAG</td>\n",
       "      <td>(DecisionTreeClassifier(class_weight=None, cri...</td>\n",
       "      <td>{'max_samples': 5, 'n_estimators': 5, 'max_fea...</td>\n",
       "      <td>[eviction]</td>\n",
       "      <td>top20_num</td>\n",
       "      <td>BAG: base_estimator: DecisionTreeClassifier(cl...</td>\n",
       "      <td>0.686564</td>\n",
       "      <td>0.010526</td>\n",
       "      <td>...</td>\n",
       "      <td>0.111559</td>\n",
       "      <td>0.620968</td>\n",
       "      <td>0.939516</td>\n",
       "      <td>0.002384</td>\n",
       "      <td>0.122056</td>\n",
       "      <td>0.134426</td>\n",
       "      <td>0.096698</td>\n",
       "      <td>0.062689</td>\n",
       "      <td>0.256595</td>\n",
       "      <td>0.253905</td>\n",
       "    </tr>\n",
       "    <tr>\n",
       "      <th>28</th>\n",
       "      <td>(2006-01-01 00:00:00, 2009-12-31 00:00:00)</td>\n",
       "      <td>(2007-01-01 00:00:00, 2007-12-31 00:00:00)</td>\n",
       "      <td>GB</td>\n",
       "      <td>([DecisionTreeRegressor(criterion='friedman_ms...</td>\n",
       "      <td>{'n_estimators': 5, 'learning_rate': 0.5, 'max...</td>\n",
       "      <td>[eviction]</td>\n",
       "      <td>top20_num</td>\n",
       "      <td>GB: feature_importances:                      ...</td>\n",
       "      <td>0.995613</td>\n",
       "      <td>1.000000</td>\n",
       "      <td>...</td>\n",
       "      <td>0.995968</td>\n",
       "      <td>0.997312</td>\n",
       "      <td>0.998656</td>\n",
       "      <td>0.226460</td>\n",
       "      <td>0.406852</td>\n",
       "      <td>0.777049</td>\n",
       "      <td>0.849057</td>\n",
       "      <td>0.559668</td>\n",
       "      <td>0.412108</td>\n",
       "      <td>0.269887</td>\n",
       "    </tr>\n",
       "    <tr>\n",
       "      <th>29</th>\n",
       "      <td>(2006-01-01 00:00:00, 2009-12-31 00:00:00)</td>\n",
       "      <td>(2007-01-01 00:00:00, 2007-12-31 00:00:00)</td>\n",
       "      <td>KNN</td>\n",
       "      <td>KNeighborsClassifier(algorithm='kd_tree', leaf...</td>\n",
       "      <td>{'algorithm': 'kd_tree', 'weights': 'distance'...</td>\n",
       "      <td>[eviction]</td>\n",
       "      <td>top20_num</td>\n",
       "      <td>None</td>\n",
       "      <td>1.000000</td>\n",
       "      <td>1.000000</td>\n",
       "      <td>...</td>\n",
       "      <td>1.000000</td>\n",
       "      <td>1.000000</td>\n",
       "      <td>1.000000</td>\n",
       "      <td>0.226460</td>\n",
       "      <td>0.406852</td>\n",
       "      <td>0.780328</td>\n",
       "      <td>0.877358</td>\n",
       "      <td>0.561934</td>\n",
       "      <td>0.413219</td>\n",
       "      <td>0.270251</td>\n",
       "    </tr>\n",
       "    <tr>\n",
       "      <th>...</th>\n",
       "      <td>...</td>\n",
       "      <td>...</td>\n",
       "      <td>...</td>\n",
       "      <td>...</td>\n",
       "      <td>...</td>\n",
       "      <td>...</td>\n",
       "      <td>...</td>\n",
       "      <td>...</td>\n",
       "      <td>...</td>\n",
       "      <td>...</td>\n",
       "      <td>...</td>\n",
       "      <td>...</td>\n",
       "      <td>...</td>\n",
       "      <td>...</td>\n",
       "      <td>...</td>\n",
       "      <td>...</td>\n",
       "      <td>...</td>\n",
       "      <td>...</td>\n",
       "      <td>...</td>\n",
       "      <td>...</td>\n",
       "      <td>...</td>\n",
       "    </tr>\n",
       "    <tr>\n",
       "      <th>230</th>\n",
       "      <td>(2006-01-01 00:00:00, 2034-12-31 00:00:00)</td>\n",
       "      <td>(2007-01-01 00:00:00, 2007-12-31 00:00:00)</td>\n",
       "      <td>NB</td>\n",
       "      <td>GaussianNB(priors=None)</td>\n",
       "      <td>{}</td>\n",
       "      <td>[economic, eviction, tract, demographic]</td>\n",
       "      <td>top20_rate</td>\n",
       "      <td>None</td>\n",
       "      <td>0.695968</td>\n",
       "      <td>0.010526</td>\n",
       "      <td>...</td>\n",
       "      <td>0.001534</td>\n",
       "      <td>0.601227</td>\n",
       "      <td>0.779141</td>\n",
       "      <td>0.002677</td>\n",
       "      <td>0.002375</td>\n",
       "      <td>0.001773</td>\n",
       "      <td>0.001247</td>\n",
       "      <td>0.000782</td>\n",
       "      <td>0.223425</td>\n",
       "      <td>0.187662</td>\n",
       "    </tr>\n",
       "    <tr>\n",
       "      <th>231</th>\n",
       "      <td>(2006-01-01 00:00:00, 2034-12-31 00:00:00)</td>\n",
       "      <td>(2007-01-01 00:00:00, 2007-12-31 00:00:00)</td>\n",
       "      <td>BASELINE_DT</td>\n",
       "      <td>DecisionTreeClassifier(class_weight=None, crit...</td>\n",
       "      <td>{'criterion': 'gini', 'max_depth': 3}</td>\n",
       "      <td>[economic, eviction, tract, demographic]</td>\n",
       "      <td>top20_rate</td>\n",
       "      <td>None</td>\n",
       "      <td>0.957124</td>\n",
       "      <td>0.884211</td>\n",
       "      <td>...</td>\n",
       "      <td>0.808282</td>\n",
       "      <td>1.000000</td>\n",
       "      <td>1.000000</td>\n",
       "      <td>0.224900</td>\n",
       "      <td>0.422803</td>\n",
       "      <td>0.565603</td>\n",
       "      <td>0.623441</td>\n",
       "      <td>0.412363</td>\n",
       "      <td>0.371616</td>\n",
       "      <td>0.240857</td>\n",
       "    </tr>\n",
       "    <tr>\n",
       "      <th>232</th>\n",
       "      <td>(2006-01-01 00:00:00, 2035-12-31 00:00:00)</td>\n",
       "      <td>(2007-01-01 00:00:00, 2007-12-31 00:00:00)</td>\n",
       "      <td>RF</td>\n",
       "      <td>(DecisionTreeClassifier(class_weight=None, cri...</td>\n",
       "      <td>{'n_estimators': 10, 'max_features': 'sqrt', '...</td>\n",
       "      <td>[economic, eviction, tract, demographic]</td>\n",
       "      <td>top20_num</td>\n",
       "      <td>RF: feature_importances:                      ...</td>\n",
       "      <td>0.986126</td>\n",
       "      <td>1.000000</td>\n",
       "      <td>...</td>\n",
       "      <td>0.979839</td>\n",
       "      <td>0.997312</td>\n",
       "      <td>1.000000</td>\n",
       "      <td>0.226460</td>\n",
       "      <td>0.406852</td>\n",
       "      <td>0.711475</td>\n",
       "      <td>0.780660</td>\n",
       "      <td>0.550604</td>\n",
       "      <td>0.412108</td>\n",
       "      <td>0.270251</td>\n",
       "    </tr>\n",
       "    <tr>\n",
       "      <th>233</th>\n",
       "      <td>(2006-01-01 00:00:00, 2035-12-31 00:00:00)</td>\n",
       "      <td>(2007-01-01 00:00:00, 2007-12-31 00:00:00)</td>\n",
       "      <td>DT</td>\n",
       "      <td>DecisionTreeClassifier(class_weight=None, crit...</td>\n",
       "      <td>{'criterion': 'gini', 'max_depth': 20, 'min_sa...</td>\n",
       "      <td>[economic, eviction, tract, demographic]</td>\n",
       "      <td>top20_num</td>\n",
       "      <td>DT: tree_viz: tree_viz233.png</td>\n",
       "      <td>0.999884</td>\n",
       "      <td>1.000000</td>\n",
       "      <td>...</td>\n",
       "      <td>1.000000</td>\n",
       "      <td>1.000000</td>\n",
       "      <td>1.000000</td>\n",
       "      <td>0.226460</td>\n",
       "      <td>0.406852</td>\n",
       "      <td>0.780328</td>\n",
       "      <td>0.877358</td>\n",
       "      <td>0.561934</td>\n",
       "      <td>0.413219</td>\n",
       "      <td>0.270251</td>\n",
       "    </tr>\n",
       "    <tr>\n",
       "      <th>234</th>\n",
       "      <td>(2006-01-01 00:00:00, 2035-12-31 00:00:00)</td>\n",
       "      <td>(2007-01-01 00:00:00, 2007-12-31 00:00:00)</td>\n",
       "      <td>LR</td>\n",
       "      <td>LogisticRegression(C=0.01, class_weight=None, ...</td>\n",
       "      <td>{'penalty': 'l2', 'C': 0.01}</td>\n",
       "      <td>[economic, eviction, tract, demographic]</td>\n",
       "      <td>top20_num</td>\n",
       "      <td>LR: coefficients:              coef           ...</td>\n",
       "      <td>0.756505</td>\n",
       "      <td>0.178947</td>\n",
       "      <td>...</td>\n",
       "      <td>0.463710</td>\n",
       "      <td>0.600806</td>\n",
       "      <td>0.848118</td>\n",
       "      <td>0.040524</td>\n",
       "      <td>0.113490</td>\n",
       "      <td>0.206557</td>\n",
       "      <td>0.258255</td>\n",
       "      <td>0.260574</td>\n",
       "      <td>0.248264</td>\n",
       "      <td>0.229205</td>\n",
       "    </tr>\n",
       "    <tr>\n",
       "      <th>235</th>\n",
       "      <td>(2006-01-01 00:00:00, 2035-12-31 00:00:00)</td>\n",
       "      <td>(2007-01-01 00:00:00, 2007-12-31 00:00:00)</td>\n",
       "      <td>BAG</td>\n",
       "      <td>(DecisionTreeClassifier(class_weight=None, cri...</td>\n",
       "      <td>{'max_samples': 5, 'n_estimators': 5, 'max_fea...</td>\n",
       "      <td>[economic, eviction, tract, demographic]</td>\n",
       "      <td>top20_num</td>\n",
       "      <td>BAG: base_estimator: DecisionTreeClassifier(cl...</td>\n",
       "      <td>0.653202</td>\n",
       "      <td>0.042105</td>\n",
       "      <td>...</td>\n",
       "      <td>0.307796</td>\n",
       "      <td>0.307796</td>\n",
       "      <td>0.745968</td>\n",
       "      <td>0.009535</td>\n",
       "      <td>0.124197</td>\n",
       "      <td>0.095082</td>\n",
       "      <td>0.087264</td>\n",
       "      <td>0.172961</td>\n",
       "      <td>0.127187</td>\n",
       "      <td>0.201598</td>\n",
       "    </tr>\n",
       "    <tr>\n",
       "      <th>236</th>\n",
       "      <td>(2006-01-01 00:00:00, 2035-12-31 00:00:00)</td>\n",
       "      <td>(2007-01-01 00:00:00, 2007-12-31 00:00:00)</td>\n",
       "      <td>GB</td>\n",
       "      <td>([DecisionTreeRegressor(criterion='friedman_ms...</td>\n",
       "      <td>{'n_estimators': 5, 'learning_rate': 0.5, 'max...</td>\n",
       "      <td>[economic, eviction, tract, demographic]</td>\n",
       "      <td>top20_num</td>\n",
       "      <td>GB: feature_importances:                      ...</td>\n",
       "      <td>0.993150</td>\n",
       "      <td>0.989474</td>\n",
       "      <td>...</td>\n",
       "      <td>0.993280</td>\n",
       "      <td>0.995968</td>\n",
       "      <td>0.995968</td>\n",
       "      <td>0.224076</td>\n",
       "      <td>0.404711</td>\n",
       "      <td>0.777049</td>\n",
       "      <td>0.852594</td>\n",
       "      <td>0.558157</td>\n",
       "      <td>0.411552</td>\n",
       "      <td>0.269161</td>\n",
       "    </tr>\n",
       "    <tr>\n",
       "      <th>237</th>\n",
       "      <td>(2006-01-01 00:00:00, 2035-12-31 00:00:00)</td>\n",
       "      <td>(2007-01-01 00:00:00, 2007-12-31 00:00:00)</td>\n",
       "      <td>KNN</td>\n",
       "      <td>KNeighborsClassifier(algorithm='kd_tree', leaf...</td>\n",
       "      <td>{'algorithm': 'kd_tree', 'weights': 'distance'...</td>\n",
       "      <td>[economic, eviction, tract, demographic]</td>\n",
       "      <td>top20_num</td>\n",
       "      <td>None</td>\n",
       "      <td>1.000000</td>\n",
       "      <td>1.000000</td>\n",
       "      <td>...</td>\n",
       "      <td>1.000000</td>\n",
       "      <td>1.000000</td>\n",
       "      <td>1.000000</td>\n",
       "      <td>0.226460</td>\n",
       "      <td>0.406852</td>\n",
       "      <td>0.780328</td>\n",
       "      <td>0.877358</td>\n",
       "      <td>0.561934</td>\n",
       "      <td>0.413219</td>\n",
       "      <td>0.270251</td>\n",
       "    </tr>\n",
       "    <tr>\n",
       "      <th>238</th>\n",
       "      <td>(2006-01-01 00:00:00, 2035-12-31 00:00:00)</td>\n",
       "      <td>(2007-01-01 00:00:00, 2007-12-31 00:00:00)</td>\n",
       "      <td>NB</td>\n",
       "      <td>GaussianNB(priors=None)</td>\n",
       "      <td>{}</td>\n",
       "      <td>[economic, eviction, tract, demographic]</td>\n",
       "      <td>top20_num</td>\n",
       "      <td>None</td>\n",
       "      <td>0.705393</td>\n",
       "      <td>0.010526</td>\n",
       "      <td>...</td>\n",
       "      <td>0.001344</td>\n",
       "      <td>0.696237</td>\n",
       "      <td>0.747312</td>\n",
       "      <td>0.002384</td>\n",
       "      <td>0.002141</td>\n",
       "      <td>0.001639</td>\n",
       "      <td>0.001179</td>\n",
       "      <td>0.000755</td>\n",
       "      <td>0.287698</td>\n",
       "      <td>0.201961</td>\n",
       "    </tr>\n",
       "    <tr>\n",
       "      <th>239</th>\n",
       "      <td>(2006-01-01 00:00:00, 2035-12-31 00:00:00)</td>\n",
       "      <td>(2007-01-01 00:00:00, 2007-12-31 00:00:00)</td>\n",
       "      <td>BASELINE_DT</td>\n",
       "      <td>DecisionTreeClassifier(class_weight=None, crit...</td>\n",
       "      <td>{'criterion': 'gini', 'max_depth': 3}</td>\n",
       "      <td>[economic, eviction, tract, demographic]</td>\n",
       "      <td>top20_num</td>\n",
       "      <td>None</td>\n",
       "      <td>0.947102</td>\n",
       "      <td>1.000000</td>\n",
       "      <td>...</td>\n",
       "      <td>0.913978</td>\n",
       "      <td>0.913978</td>\n",
       "      <td>1.000000</td>\n",
       "      <td>0.226460</td>\n",
       "      <td>0.379015</td>\n",
       "      <td>0.681967</td>\n",
       "      <td>0.731132</td>\n",
       "      <td>0.513595</td>\n",
       "      <td>0.377673</td>\n",
       "      <td>0.270251</td>\n",
       "    </tr>\n",
       "    <tr>\n",
       "      <th>0</th>\n",
       "      <td>(2006-01-01 00:00:00, 2006-12-31 00:00:00)</td>\n",
       "      <td>(2007-01-01 00:00:00, 2007-12-31 00:00:00)</td>\n",
       "      <td>BASELINE_RAND</td>\n",
       "      <td>BASELINE_RAND</td>\n",
       "      <td>{}</td>\n",
       "      <td>prior_year</td>\n",
       "      <td>top20_rate</td>\n",
       "      <td>None</td>\n",
       "      <td>0.493827</td>\n",
       "      <td>0.010526</td>\n",
       "      <td>...</td>\n",
       "      <td>0.056748</td>\n",
       "      <td>0.087423</td>\n",
       "      <td>1.000000</td>\n",
       "      <td>0.002677</td>\n",
       "      <td>0.002375</td>\n",
       "      <td>0.063830</td>\n",
       "      <td>0.046135</td>\n",
       "      <td>0.028951</td>\n",
       "      <td>0.032488</td>\n",
       "      <td>0.240857</td>\n",
       "    </tr>\n",
       "    <tr>\n",
       "      <th>1</th>\n",
       "      <td>(2006-01-01 00:00:00, 2006-12-31 00:00:00)</td>\n",
       "      <td>(2007-01-01 00:00:00, 2007-12-31 00:00:00)</td>\n",
       "      <td>BASELINE_PRIOR</td>\n",
       "      <td>BASELINE_PRIOR</td>\n",
       "      <td>{}</td>\n",
       "      <td>prior_year</td>\n",
       "      <td>top20_rate</td>\n",
       "      <td>None</td>\n",
       "      <td>0.671160</td>\n",
       "      <td>0.010526</td>\n",
       "      <td>...</td>\n",
       "      <td>0.386503</td>\n",
       "      <td>0.386503</td>\n",
       "      <td>1.000000</td>\n",
       "      <td>0.002677</td>\n",
       "      <td>0.002375</td>\n",
       "      <td>0.269504</td>\n",
       "      <td>0.314214</td>\n",
       "      <td>0.197183</td>\n",
       "      <td>0.143631</td>\n",
       "      <td>0.240857</td>\n",
       "    </tr>\n",
       "    <tr>\n",
       "      <th>2</th>\n",
       "      <td>(2006-01-01 00:00:00, 2007-12-31 00:00:00)</td>\n",
       "      <td>(2007-01-01 00:00:00, 2007-12-31 00:00:00)</td>\n",
       "      <td>BASELINE_RAND</td>\n",
       "      <td>BASELINE_RAND</td>\n",
       "      <td>{}</td>\n",
       "      <td>prior_year</td>\n",
       "      <td>top20_num</td>\n",
       "      <td>None</td>\n",
       "      <td>0.501940</td>\n",
       "      <td>0.010526</td>\n",
       "      <td>...</td>\n",
       "      <td>0.080645</td>\n",
       "      <td>0.154570</td>\n",
       "      <td>1.000000</td>\n",
       "      <td>0.002384</td>\n",
       "      <td>0.002141</td>\n",
       "      <td>0.026230</td>\n",
       "      <td>0.070755</td>\n",
       "      <td>0.045317</td>\n",
       "      <td>0.063871</td>\n",
       "      <td>0.270251</td>\n",
       "    </tr>\n",
       "    <tr>\n",
       "      <th>3</th>\n",
       "      <td>(2006-01-01 00:00:00, 2007-12-31 00:00:00)</td>\n",
       "      <td>(2007-01-01 00:00:00, 2007-12-31 00:00:00)</td>\n",
       "      <td>BASELINE_PRIOR</td>\n",
       "      <td>BASELINE_PRIOR</td>\n",
       "      <td>{}</td>\n",
       "      <td>prior_year</td>\n",
       "      <td>top20_num</td>\n",
       "      <td>None</td>\n",
       "      <td>0.794037</td>\n",
       "      <td>0.031579</td>\n",
       "      <td>...</td>\n",
       "      <td>0.619624</td>\n",
       "      <td>0.619624</td>\n",
       "      <td>1.000000</td>\n",
       "      <td>0.007151</td>\n",
       "      <td>0.197002</td>\n",
       "      <td>0.326230</td>\n",
       "      <td>0.543632</td>\n",
       "      <td>0.348187</td>\n",
       "      <td>0.256040</td>\n",
       "      <td>0.270251</td>\n",
       "    </tr>\n",
       "    <tr>\n",
       "      <th>4</th>\n",
       "      <td>(2006-01-01 00:00:00, 2008-12-31 00:00:00)</td>\n",
       "      <td>(2009-01-01 00:00:00, 2009-12-31 00:00:00)</td>\n",
       "      <td>BASELINE_RAND</td>\n",
       "      <td>BASELINE_RAND</td>\n",
       "      <td>{}</td>\n",
       "      <td>prior_year</td>\n",
       "      <td>top20_rate</td>\n",
       "      <td>None</td>\n",
       "      <td>0.498564</td>\n",
       "      <td>0.010638</td>\n",
       "      <td>...</td>\n",
       "      <td>0.065050</td>\n",
       "      <td>0.232635</td>\n",
       "      <td>1.000000</td>\n",
       "      <td>0.001998</td>\n",
       "      <td>0.001825</td>\n",
       "      <td>0.073913</td>\n",
       "      <td>0.063681</td>\n",
       "      <td>0.042158</td>\n",
       "      <td>0.112684</td>\n",
       "      <td>0.321802</td>\n",
       "    </tr>\n",
       "    <tr>\n",
       "      <th>5</th>\n",
       "      <td>(2006-01-01 00:00:00, 2008-12-31 00:00:00)</td>\n",
       "      <td>(2009-01-01 00:00:00, 2009-12-31 00:00:00)</td>\n",
       "      <td>BASELINE_PRIOR</td>\n",
       "      <td>BASELINE_PRIOR</td>\n",
       "      <td>{}</td>\n",
       "      <td>prior_year</td>\n",
       "      <td>top20_rate</td>\n",
       "      <td>None</td>\n",
       "      <td>0.646609</td>\n",
       "      <td>0.010638</td>\n",
       "      <td>...</td>\n",
       "      <td>0.332966</td>\n",
       "      <td>0.358324</td>\n",
       "      <td>1.000000</td>\n",
       "      <td>0.001998</td>\n",
       "      <td>0.001825</td>\n",
       "      <td>0.217391</td>\n",
       "      <td>0.325958</td>\n",
       "      <td>0.215791</td>\n",
       "      <td>0.173565</td>\n",
       "      <td>0.321802</td>\n",
       "    </tr>\n",
       "    <tr>\n",
       "      <th>6</th>\n",
       "      <td>(2006-01-01 00:00:00, 2009-12-31 00:00:00)</td>\n",
       "      <td>(2009-01-01 00:00:00, 2009-12-31 00:00:00)</td>\n",
       "      <td>BASELINE_RAND</td>\n",
       "      <td>BASELINE_RAND</td>\n",
       "      <td>{}</td>\n",
       "      <td>prior_year</td>\n",
       "      <td>top20_num</td>\n",
       "      <td>None</td>\n",
       "      <td>0.494979</td>\n",
       "      <td>0.010638</td>\n",
       "      <td>...</td>\n",
       "      <td>0.075472</td>\n",
       "      <td>0.155383</td>\n",
       "      <td>1.000000</td>\n",
       "      <td>0.002010</td>\n",
       "      <td>0.001835</td>\n",
       "      <td>0.001456</td>\n",
       "      <td>0.073633</td>\n",
       "      <td>0.048693</td>\n",
       "      <td>0.074886</td>\n",
       "      <td>0.320014</td>\n",
       "    </tr>\n",
       "    <tr>\n",
       "      <th>7</th>\n",
       "      <td>(2006-01-01 00:00:00, 2009-12-31 00:00:00)</td>\n",
       "      <td>(2009-01-01 00:00:00, 2009-12-31 00:00:00)</td>\n",
       "      <td>BASELINE_PRIOR</td>\n",
       "      <td>BASELINE_PRIOR</td>\n",
       "      <td>{}</td>\n",
       "      <td>prior_year</td>\n",
       "      <td>top20_num</td>\n",
       "      <td>None</td>\n",
       "      <td>0.775513</td>\n",
       "      <td>0.414894</td>\n",
       "      <td>...</td>\n",
       "      <td>0.580466</td>\n",
       "      <td>0.580466</td>\n",
       "      <td>1.000000</td>\n",
       "      <td>0.078392</td>\n",
       "      <td>0.242202</td>\n",
       "      <td>0.321689</td>\n",
       "      <td>0.566324</td>\n",
       "      <td>0.374508</td>\n",
       "      <td>0.279754</td>\n",
       "      <td>0.320014</td>\n",
       "    </tr>\n",
       "    <tr>\n",
       "      <th>8</th>\n",
       "      <td>(2006-01-01 00:00:00, 2010-12-31 00:00:00)</td>\n",
       "      <td>(2011-01-01 00:00:00, 2011-12-31 00:00:00)</td>\n",
       "      <td>BASELINE_RAND</td>\n",
       "      <td>BASELINE_RAND</td>\n",
       "      <td>{}</td>\n",
       "      <td>prior_year</td>\n",
       "      <td>top20_rate</td>\n",
       "      <td>None</td>\n",
       "      <td>0.500604</td>\n",
       "      <td>0.010526</td>\n",
       "      <td>...</td>\n",
       "      <td>0.075325</td>\n",
       "      <td>0.179221</td>\n",
       "      <td>1.000000</td>\n",
       "      <td>0.002312</td>\n",
       "      <td>0.002083</td>\n",
       "      <td>0.049799</td>\n",
       "      <td>0.067403</td>\n",
       "      <td>0.043413</td>\n",
       "      <td>0.076180</td>\n",
       "      <td>0.278683</td>\n",
       "    </tr>\n",
       "    <tr>\n",
       "      <th>9</th>\n",
       "      <td>(2006-01-01 00:00:00, 2010-12-31 00:00:00)</td>\n",
       "      <td>(2011-01-01 00:00:00, 2011-12-31 00:00:00)</td>\n",
       "      <td>BASELINE_PRIOR</td>\n",
       "      <td>BASELINE_PRIOR</td>\n",
       "      <td>{}</td>\n",
       "      <td>prior_year</td>\n",
       "      <td>top20_rate</td>\n",
       "      <td>None</td>\n",
       "      <td>0.700619</td>\n",
       "      <td>0.010526</td>\n",
       "      <td>...</td>\n",
       "      <td>0.450649</td>\n",
       "      <td>0.450649</td>\n",
       "      <td>1.000000</td>\n",
       "      <td>0.002312</td>\n",
       "      <td>0.002083</td>\n",
       "      <td>0.134940</td>\n",
       "      <td>0.403254</td>\n",
       "      <td>0.259731</td>\n",
       "      <td>0.191554</td>\n",
       "      <td>0.278683</td>\n",
       "    </tr>\n",
       "    <tr>\n",
       "      <th>10</th>\n",
       "      <td>(2006-01-01 00:00:00, 2011-12-31 00:00:00)</td>\n",
       "      <td>(2011-01-01 00:00:00, 2011-12-31 00:00:00)</td>\n",
       "      <td>BASELINE_RAND</td>\n",
       "      <td>BASELINE_RAND</td>\n",
       "      <td>{}</td>\n",
       "      <td>prior_year</td>\n",
       "      <td>top20_num</td>\n",
       "      <td>None</td>\n",
       "      <td>0.490409</td>\n",
       "      <td>0.010526</td>\n",
       "      <td>...</td>\n",
       "      <td>0.067282</td>\n",
       "      <td>0.147757</td>\n",
       "      <td>1.000000</td>\n",
       "      <td>0.002345</td>\n",
       "      <td>0.002110</td>\n",
       "      <td>0.001622</td>\n",
       "      <td>0.059684</td>\n",
       "      <td>0.038346</td>\n",
       "      <td>0.062033</td>\n",
       "      <td>0.274937</td>\n",
       "    </tr>\n",
       "    <tr>\n",
       "      <th>11</th>\n",
       "      <td>(2006-01-01 00:00:00, 2011-12-31 00:00:00)</td>\n",
       "      <td>(2011-01-01 00:00:00, 2011-12-31 00:00:00)</td>\n",
       "      <td>BASELINE_PRIOR</td>\n",
       "      <td>BASELINE_PRIOR</td>\n",
       "      <td>{}</td>\n",
       "      <td>prior_year</td>\n",
       "      <td>top20_num</td>\n",
       "      <td>None</td>\n",
       "      <td>0.800763</td>\n",
       "      <td>0.010526</td>\n",
       "      <td>...</td>\n",
       "      <td>0.641161</td>\n",
       "      <td>0.641161</td>\n",
       "      <td>1.000000</td>\n",
       "      <td>0.002345</td>\n",
       "      <td>0.124473</td>\n",
       "      <td>0.207624</td>\n",
       "      <td>0.568754</td>\n",
       "      <td>0.365414</td>\n",
       "      <td>0.269178</td>\n",
       "      <td>0.274937</td>\n",
       "    </tr>\n",
       "    <tr>\n",
       "      <th>12</th>\n",
       "      <td>(2006-01-01 00:00:00, 2012-12-31 00:00:00)</td>\n",
       "      <td>(2013-01-01 00:00:00, 2013-12-31 00:00:00)</td>\n",
       "      <td>BASELINE_RAND</td>\n",
       "      <td>BASELINE_RAND</td>\n",
       "      <td>{}</td>\n",
       "      <td>prior_year</td>\n",
       "      <td>top20_rate</td>\n",
       "      <td>None</td>\n",
       "      <td>0.498113</td>\n",
       "      <td>0.010526</td>\n",
       "      <td>...</td>\n",
       "      <td>0.072639</td>\n",
       "      <td>0.209443</td>\n",
       "      <td>1.000000</td>\n",
       "      <td>0.002172</td>\n",
       "      <td>0.001967</td>\n",
       "      <td>0.032184</td>\n",
       "      <td>0.067265</td>\n",
       "      <td>0.043764</td>\n",
       "      <td>0.093514</td>\n",
       "      <td>0.294160</td>\n",
       "    </tr>\n",
       "    <tr>\n",
       "      <th>13</th>\n",
       "      <td>(2006-01-01 00:00:00, 2012-12-31 00:00:00)</td>\n",
       "      <td>(2013-01-01 00:00:00, 2013-12-31 00:00:00)</td>\n",
       "      <td>BASELINE_PRIOR</td>\n",
       "      <td>BASELINE_PRIOR</td>\n",
       "      <td>{}</td>\n",
       "      <td>prior_year</td>\n",
       "      <td>top20_rate</td>\n",
       "      <td>None</td>\n",
       "      <td>0.687707</td>\n",
       "      <td>0.010526</td>\n",
       "      <td>...</td>\n",
       "      <td>0.423729</td>\n",
       "      <td>0.423729</td>\n",
       "      <td>1.000000</td>\n",
       "      <td>0.002172</td>\n",
       "      <td>0.001967</td>\n",
       "      <td>0.139464</td>\n",
       "      <td>0.392377</td>\n",
       "      <td>0.255288</td>\n",
       "      <td>0.189189</td>\n",
       "      <td>0.294160</td>\n",
       "    </tr>\n",
       "    <tr>\n",
       "      <th>14</th>\n",
       "      <td>(2006-01-01 00:00:00, 2013-12-31 00:00:00)</td>\n",
       "      <td>(2013-01-01 00:00:00, 2013-12-31 00:00:00)</td>\n",
       "      <td>BASELINE_RAND</td>\n",
       "      <td>BASELINE_RAND</td>\n",
       "      <td>{}</td>\n",
       "      <td>prior_year</td>\n",
       "      <td>top20_num</td>\n",
       "      <td>None</td>\n",
       "      <td>0.495700</td>\n",
       "      <td>0.010526</td>\n",
       "      <td>...</td>\n",
       "      <td>0.077301</td>\n",
       "      <td>0.163190</td>\n",
       "      <td>1.000000</td>\n",
       "      <td>0.002198</td>\n",
       "      <td>0.001988</td>\n",
       "      <td>0.001546</td>\n",
       "      <td>0.071066</td>\n",
       "      <td>0.046137</td>\n",
       "      <td>0.072106</td>\n",
       "      <td>0.290812</td>\n",
       "    </tr>\n",
       "    <tr>\n",
       "      <th>15</th>\n",
       "      <td>(2006-01-01 00:00:00, 2013-12-31 00:00:00)</td>\n",
       "      <td>(2013-01-01 00:00:00, 2013-12-31 00:00:00)</td>\n",
       "      <td>BASELINE_PRIOR</td>\n",
       "      <td>BASELINE_PRIOR</td>\n",
       "      <td>{}</td>\n",
       "      <td>prior_year</td>\n",
       "      <td>top20_num</td>\n",
       "      <td>None</td>\n",
       "      <td>0.793004</td>\n",
       "      <td>0.115789</td>\n",
       "      <td>...</td>\n",
       "      <td>0.618405</td>\n",
       "      <td>0.618405</td>\n",
       "      <td>1.000000</td>\n",
       "      <td>0.024176</td>\n",
       "      <td>0.208748</td>\n",
       "      <td>0.301391</td>\n",
       "      <td>0.568528</td>\n",
       "      <td>0.369096</td>\n",
       "      <td>0.273245</td>\n",
       "      <td>0.290812</td>\n",
       "    </tr>\n",
       "    <tr>\n",
       "      <th>16</th>\n",
       "      <td>(2006-01-01 00:00:00, 2014-12-31 00:00:00)</td>\n",
       "      <td>(2015-01-01 00:00:00, 2015-12-31 00:00:00)</td>\n",
       "      <td>BASELINE_RAND</td>\n",
       "      <td>BASELINE_RAND</td>\n",
       "      <td>{}</td>\n",
       "      <td>prior_year</td>\n",
       "      <td>top20_rate</td>\n",
       "      <td>None</td>\n",
       "      <td>0.506315</td>\n",
       "      <td>0.010870</td>\n",
       "      <td>...</td>\n",
       "      <td>0.089147</td>\n",
       "      <td>0.186047</td>\n",
       "      <td>1.000000</td>\n",
       "      <td>0.002309</td>\n",
       "      <td>0.002086</td>\n",
       "      <td>0.017771</td>\n",
       "      <td>0.081033</td>\n",
       "      <td>0.052412</td>\n",
       "      <td>0.080853</td>\n",
       "      <td>0.285556</td>\n",
       "    </tr>\n",
       "    <tr>\n",
       "      <th>17</th>\n",
       "      <td>(2006-01-01 00:00:00, 2014-12-31 00:00:00)</td>\n",
       "      <td>(2015-01-01 00:00:00, 2015-12-31 00:00:00)</td>\n",
       "      <td>BASELINE_PRIOR</td>\n",
       "      <td>BASELINE_PRIOR</td>\n",
       "      <td>{}</td>\n",
       "      <td>prior_year</td>\n",
       "      <td>top20_rate</td>\n",
       "      <td>None</td>\n",
       "      <td>0.700045</td>\n",
       "      <td>0.010870</td>\n",
       "      <td>...</td>\n",
       "      <td>0.452196</td>\n",
       "      <td>0.452196</td>\n",
       "      <td>1.000000</td>\n",
       "      <td>0.002309</td>\n",
       "      <td>0.002086</td>\n",
       "      <td>0.106624</td>\n",
       "      <td>0.411039</td>\n",
       "      <td>0.265856</td>\n",
       "      <td>0.196519</td>\n",
       "      <td>0.285556</td>\n",
       "    </tr>\n",
       "    <tr>\n",
       "      <th>18</th>\n",
       "      <td>(2006-01-01 00:00:00, 2015-12-31 00:00:00)</td>\n",
       "      <td>(2015-01-01 00:00:00, 2015-12-31 00:00:00)</td>\n",
       "      <td>BASELINE_RAND</td>\n",
       "      <td>BASELINE_RAND</td>\n",
       "      <td>{}</td>\n",
       "      <td>prior_year</td>\n",
       "      <td>top20_num</td>\n",
       "      <td>None</td>\n",
       "      <td>0.491774</td>\n",
       "      <td>0.010870</td>\n",
       "      <td>...</td>\n",
       "      <td>0.062865</td>\n",
       "      <td>0.105263</td>\n",
       "      <td>1.000000</td>\n",
       "      <td>0.002577</td>\n",
       "      <td>0.002301</td>\n",
       "      <td>0.015679</td>\n",
       "      <td>0.053317</td>\n",
       "      <td>0.033818</td>\n",
       "      <td>0.041475</td>\n",
       "      <td>0.256612</td>\n",
       "    </tr>\n",
       "    <tr>\n",
       "      <th>19</th>\n",
       "      <td>(2006-01-01 00:00:00, 2015-12-31 00:00:00)</td>\n",
       "      <td>(2015-01-01 00:00:00, 2015-12-31 00:00:00)</td>\n",
       "      <td>BASELINE_PRIOR</td>\n",
       "      <td>BASELINE_PRIOR</td>\n",
       "      <td>{}</td>\n",
       "      <td>prior_year</td>\n",
       "      <td>top20_num</td>\n",
       "      <td>None</td>\n",
       "      <td>0.804426</td>\n",
       "      <td>0.010870</td>\n",
       "      <td>...</td>\n",
       "      <td>0.644737</td>\n",
       "      <td>0.644737</td>\n",
       "      <td>1.000000</td>\n",
       "      <td>0.002577</td>\n",
       "      <td>0.149597</td>\n",
       "      <td>0.270035</td>\n",
       "      <td>0.546807</td>\n",
       "      <td>0.346834</td>\n",
       "      <td>0.254032</td>\n",
       "      <td>0.256612</td>\n",
       "    </tr>\n",
       "  </tbody>\n",
       "</table>\n",
       "<p>260 rows × 30 columns</p>\n",
       "</div>"
      ],
      "text/plain": [
       "                                 training_dates  \\\n",
       "0    (2006-01-01 00:00:00, 2006-12-31 00:00:00)   \n",
       "1    (2006-01-01 00:00:00, 2006-12-31 00:00:00)   \n",
       "2    (2006-01-01 00:00:00, 2006-12-31 00:00:00)   \n",
       "3    (2006-01-01 00:00:00, 2006-12-31 00:00:00)   \n",
       "4    (2006-01-01 00:00:00, 2006-12-31 00:00:00)   \n",
       "5    (2006-01-01 00:00:00, 2006-12-31 00:00:00)   \n",
       "6    (2006-01-01 00:00:00, 2006-12-31 00:00:00)   \n",
       "7    (2006-01-01 00:00:00, 2006-12-31 00:00:00)   \n",
       "8    (2006-01-01 00:00:00, 2007-12-31 00:00:00)   \n",
       "9    (2006-01-01 00:00:00, 2007-12-31 00:00:00)   \n",
       "10   (2006-01-01 00:00:00, 2007-12-31 00:00:00)   \n",
       "11   (2006-01-01 00:00:00, 2007-12-31 00:00:00)   \n",
       "12   (2006-01-01 00:00:00, 2007-12-31 00:00:00)   \n",
       "13   (2006-01-01 00:00:00, 2007-12-31 00:00:00)   \n",
       "14   (2006-01-01 00:00:00, 2007-12-31 00:00:00)   \n",
       "15   (2006-01-01 00:00:00, 2007-12-31 00:00:00)   \n",
       "16   (2006-01-01 00:00:00, 2008-12-31 00:00:00)   \n",
       "17   (2006-01-01 00:00:00, 2008-12-31 00:00:00)   \n",
       "18   (2006-01-01 00:00:00, 2008-12-31 00:00:00)   \n",
       "19   (2006-01-01 00:00:00, 2008-12-31 00:00:00)   \n",
       "20   (2006-01-01 00:00:00, 2008-12-31 00:00:00)   \n",
       "21   (2006-01-01 00:00:00, 2008-12-31 00:00:00)   \n",
       "22   (2006-01-01 00:00:00, 2008-12-31 00:00:00)   \n",
       "23   (2006-01-01 00:00:00, 2008-12-31 00:00:00)   \n",
       "24   (2006-01-01 00:00:00, 2009-12-31 00:00:00)   \n",
       "25   (2006-01-01 00:00:00, 2009-12-31 00:00:00)   \n",
       "26   (2006-01-01 00:00:00, 2009-12-31 00:00:00)   \n",
       "27   (2006-01-01 00:00:00, 2009-12-31 00:00:00)   \n",
       "28   (2006-01-01 00:00:00, 2009-12-31 00:00:00)   \n",
       "29   (2006-01-01 00:00:00, 2009-12-31 00:00:00)   \n",
       "..                                          ...   \n",
       "230  (2006-01-01 00:00:00, 2034-12-31 00:00:00)   \n",
       "231  (2006-01-01 00:00:00, 2034-12-31 00:00:00)   \n",
       "232  (2006-01-01 00:00:00, 2035-12-31 00:00:00)   \n",
       "233  (2006-01-01 00:00:00, 2035-12-31 00:00:00)   \n",
       "234  (2006-01-01 00:00:00, 2035-12-31 00:00:00)   \n",
       "235  (2006-01-01 00:00:00, 2035-12-31 00:00:00)   \n",
       "236  (2006-01-01 00:00:00, 2035-12-31 00:00:00)   \n",
       "237  (2006-01-01 00:00:00, 2035-12-31 00:00:00)   \n",
       "238  (2006-01-01 00:00:00, 2035-12-31 00:00:00)   \n",
       "239  (2006-01-01 00:00:00, 2035-12-31 00:00:00)   \n",
       "0    (2006-01-01 00:00:00, 2006-12-31 00:00:00)   \n",
       "1    (2006-01-01 00:00:00, 2006-12-31 00:00:00)   \n",
       "2    (2006-01-01 00:00:00, 2007-12-31 00:00:00)   \n",
       "3    (2006-01-01 00:00:00, 2007-12-31 00:00:00)   \n",
       "4    (2006-01-01 00:00:00, 2008-12-31 00:00:00)   \n",
       "5    (2006-01-01 00:00:00, 2008-12-31 00:00:00)   \n",
       "6    (2006-01-01 00:00:00, 2009-12-31 00:00:00)   \n",
       "7    (2006-01-01 00:00:00, 2009-12-31 00:00:00)   \n",
       "8    (2006-01-01 00:00:00, 2010-12-31 00:00:00)   \n",
       "9    (2006-01-01 00:00:00, 2010-12-31 00:00:00)   \n",
       "10   (2006-01-01 00:00:00, 2011-12-31 00:00:00)   \n",
       "11   (2006-01-01 00:00:00, 2011-12-31 00:00:00)   \n",
       "12   (2006-01-01 00:00:00, 2012-12-31 00:00:00)   \n",
       "13   (2006-01-01 00:00:00, 2012-12-31 00:00:00)   \n",
       "14   (2006-01-01 00:00:00, 2013-12-31 00:00:00)   \n",
       "15   (2006-01-01 00:00:00, 2013-12-31 00:00:00)   \n",
       "16   (2006-01-01 00:00:00, 2014-12-31 00:00:00)   \n",
       "17   (2006-01-01 00:00:00, 2014-12-31 00:00:00)   \n",
       "18   (2006-01-01 00:00:00, 2015-12-31 00:00:00)   \n",
       "19   (2006-01-01 00:00:00, 2015-12-31 00:00:00)   \n",
       "\n",
       "                                  testing_dates       model_key  \\\n",
       "0    (2007-01-01 00:00:00, 2007-12-31 00:00:00)              RF   \n",
       "1    (2007-01-01 00:00:00, 2007-12-31 00:00:00)              DT   \n",
       "2    (2007-01-01 00:00:00, 2007-12-31 00:00:00)              LR   \n",
       "3    (2007-01-01 00:00:00, 2007-12-31 00:00:00)             BAG   \n",
       "4    (2007-01-01 00:00:00, 2007-12-31 00:00:00)              GB   \n",
       "5    (2007-01-01 00:00:00, 2007-12-31 00:00:00)             KNN   \n",
       "6    (2007-01-01 00:00:00, 2007-12-31 00:00:00)              NB   \n",
       "7    (2007-01-01 00:00:00, 2007-12-31 00:00:00)     BASELINE_DT   \n",
       "8    (2007-01-01 00:00:00, 2007-12-31 00:00:00)              RF   \n",
       "9    (2007-01-01 00:00:00, 2007-12-31 00:00:00)              DT   \n",
       "10   (2007-01-01 00:00:00, 2007-12-31 00:00:00)              LR   \n",
       "11   (2007-01-01 00:00:00, 2007-12-31 00:00:00)             BAG   \n",
       "12   (2007-01-01 00:00:00, 2007-12-31 00:00:00)              GB   \n",
       "13   (2007-01-01 00:00:00, 2007-12-31 00:00:00)             KNN   \n",
       "14   (2007-01-01 00:00:00, 2007-12-31 00:00:00)              NB   \n",
       "15   (2007-01-01 00:00:00, 2007-12-31 00:00:00)     BASELINE_DT   \n",
       "16   (2007-01-01 00:00:00, 2007-12-31 00:00:00)              RF   \n",
       "17   (2007-01-01 00:00:00, 2007-12-31 00:00:00)              DT   \n",
       "18   (2007-01-01 00:00:00, 2007-12-31 00:00:00)              LR   \n",
       "19   (2007-01-01 00:00:00, 2007-12-31 00:00:00)             BAG   \n",
       "20   (2007-01-01 00:00:00, 2007-12-31 00:00:00)              GB   \n",
       "21   (2007-01-01 00:00:00, 2007-12-31 00:00:00)             KNN   \n",
       "22   (2007-01-01 00:00:00, 2007-12-31 00:00:00)              NB   \n",
       "23   (2007-01-01 00:00:00, 2007-12-31 00:00:00)     BASELINE_DT   \n",
       "24   (2007-01-01 00:00:00, 2007-12-31 00:00:00)              RF   \n",
       "25   (2007-01-01 00:00:00, 2007-12-31 00:00:00)              DT   \n",
       "26   (2007-01-01 00:00:00, 2007-12-31 00:00:00)              LR   \n",
       "27   (2007-01-01 00:00:00, 2007-12-31 00:00:00)             BAG   \n",
       "28   (2007-01-01 00:00:00, 2007-12-31 00:00:00)              GB   \n",
       "29   (2007-01-01 00:00:00, 2007-12-31 00:00:00)             KNN   \n",
       "..                                          ...             ...   \n",
       "230  (2007-01-01 00:00:00, 2007-12-31 00:00:00)              NB   \n",
       "231  (2007-01-01 00:00:00, 2007-12-31 00:00:00)     BASELINE_DT   \n",
       "232  (2007-01-01 00:00:00, 2007-12-31 00:00:00)              RF   \n",
       "233  (2007-01-01 00:00:00, 2007-12-31 00:00:00)              DT   \n",
       "234  (2007-01-01 00:00:00, 2007-12-31 00:00:00)              LR   \n",
       "235  (2007-01-01 00:00:00, 2007-12-31 00:00:00)             BAG   \n",
       "236  (2007-01-01 00:00:00, 2007-12-31 00:00:00)              GB   \n",
       "237  (2007-01-01 00:00:00, 2007-12-31 00:00:00)             KNN   \n",
       "238  (2007-01-01 00:00:00, 2007-12-31 00:00:00)              NB   \n",
       "239  (2007-01-01 00:00:00, 2007-12-31 00:00:00)     BASELINE_DT   \n",
       "0    (2007-01-01 00:00:00, 2007-12-31 00:00:00)   BASELINE_RAND   \n",
       "1    (2007-01-01 00:00:00, 2007-12-31 00:00:00)  BASELINE_PRIOR   \n",
       "2    (2007-01-01 00:00:00, 2007-12-31 00:00:00)   BASELINE_RAND   \n",
       "3    (2007-01-01 00:00:00, 2007-12-31 00:00:00)  BASELINE_PRIOR   \n",
       "4    (2009-01-01 00:00:00, 2009-12-31 00:00:00)   BASELINE_RAND   \n",
       "5    (2009-01-01 00:00:00, 2009-12-31 00:00:00)  BASELINE_PRIOR   \n",
       "6    (2009-01-01 00:00:00, 2009-12-31 00:00:00)   BASELINE_RAND   \n",
       "7    (2009-01-01 00:00:00, 2009-12-31 00:00:00)  BASELINE_PRIOR   \n",
       "8    (2011-01-01 00:00:00, 2011-12-31 00:00:00)   BASELINE_RAND   \n",
       "9    (2011-01-01 00:00:00, 2011-12-31 00:00:00)  BASELINE_PRIOR   \n",
       "10   (2011-01-01 00:00:00, 2011-12-31 00:00:00)   BASELINE_RAND   \n",
       "11   (2011-01-01 00:00:00, 2011-12-31 00:00:00)  BASELINE_PRIOR   \n",
       "12   (2013-01-01 00:00:00, 2013-12-31 00:00:00)   BASELINE_RAND   \n",
       "13   (2013-01-01 00:00:00, 2013-12-31 00:00:00)  BASELINE_PRIOR   \n",
       "14   (2013-01-01 00:00:00, 2013-12-31 00:00:00)   BASELINE_RAND   \n",
       "15   (2013-01-01 00:00:00, 2013-12-31 00:00:00)  BASELINE_PRIOR   \n",
       "16   (2015-01-01 00:00:00, 2015-12-31 00:00:00)   BASELINE_RAND   \n",
       "17   (2015-01-01 00:00:00, 2015-12-31 00:00:00)  BASELINE_PRIOR   \n",
       "18   (2015-01-01 00:00:00, 2015-12-31 00:00:00)   BASELINE_RAND   \n",
       "19   (2015-01-01 00:00:00, 2015-12-31 00:00:00)  BASELINE_PRIOR   \n",
       "\n",
       "                                            classifier  \\\n",
       "0    (DecisionTreeClassifier(class_weight=None, cri...   \n",
       "1    DecisionTreeClassifier(class_weight=None, crit...   \n",
       "2    LogisticRegression(C=0.01, class_weight=None, ...   \n",
       "3    (DecisionTreeClassifier(class_weight=None, cri...   \n",
       "4    ([DecisionTreeRegressor(criterion='friedman_ms...   \n",
       "5    KNeighborsClassifier(algorithm='kd_tree', leaf...   \n",
       "6                              GaussianNB(priors=None)   \n",
       "7    DecisionTreeClassifier(class_weight=None, crit...   \n",
       "8    (DecisionTreeClassifier(class_weight=None, cri...   \n",
       "9    DecisionTreeClassifier(class_weight=None, crit...   \n",
       "10   LogisticRegression(C=0.01, class_weight=None, ...   \n",
       "11   (DecisionTreeClassifier(class_weight=None, cri...   \n",
       "12   ([DecisionTreeRegressor(criterion='friedman_ms...   \n",
       "13   KNeighborsClassifier(algorithm='kd_tree', leaf...   \n",
       "14                             GaussianNB(priors=None)   \n",
       "15   DecisionTreeClassifier(class_weight=None, crit...   \n",
       "16   (DecisionTreeClassifier(class_weight=None, cri...   \n",
       "17   DecisionTreeClassifier(class_weight=None, crit...   \n",
       "18   LogisticRegression(C=0.01, class_weight=None, ...   \n",
       "19   (DecisionTreeClassifier(class_weight=None, cri...   \n",
       "20   ([DecisionTreeRegressor(criterion='friedman_ms...   \n",
       "21   KNeighborsClassifier(algorithm='kd_tree', leaf...   \n",
       "22                             GaussianNB(priors=None)   \n",
       "23   DecisionTreeClassifier(class_weight=None, crit...   \n",
       "24   (DecisionTreeClassifier(class_weight=None, cri...   \n",
       "25   DecisionTreeClassifier(class_weight=None, crit...   \n",
       "26   LogisticRegression(C=0.01, class_weight=None, ...   \n",
       "27   (DecisionTreeClassifier(class_weight=None, cri...   \n",
       "28   ([DecisionTreeRegressor(criterion='friedman_ms...   \n",
       "29   KNeighborsClassifier(algorithm='kd_tree', leaf...   \n",
       "..                                                 ...   \n",
       "230                            GaussianNB(priors=None)   \n",
       "231  DecisionTreeClassifier(class_weight=None, crit...   \n",
       "232  (DecisionTreeClassifier(class_weight=None, cri...   \n",
       "233  DecisionTreeClassifier(class_weight=None, crit...   \n",
       "234  LogisticRegression(C=0.01, class_weight=None, ...   \n",
       "235  (DecisionTreeClassifier(class_weight=None, cri...   \n",
       "236  ([DecisionTreeRegressor(criterion='friedman_ms...   \n",
       "237  KNeighborsClassifier(algorithm='kd_tree', leaf...   \n",
       "238                            GaussianNB(priors=None)   \n",
       "239  DecisionTreeClassifier(class_weight=None, crit...   \n",
       "0                                        BASELINE_RAND   \n",
       "1                                       BASELINE_PRIOR   \n",
       "2                                        BASELINE_RAND   \n",
       "3                                       BASELINE_PRIOR   \n",
       "4                                        BASELINE_RAND   \n",
       "5                                       BASELINE_PRIOR   \n",
       "6                                        BASELINE_RAND   \n",
       "7                                       BASELINE_PRIOR   \n",
       "8                                        BASELINE_RAND   \n",
       "9                                       BASELINE_PRIOR   \n",
       "10                                       BASELINE_RAND   \n",
       "11                                      BASELINE_PRIOR   \n",
       "12                                       BASELINE_RAND   \n",
       "13                                      BASELINE_PRIOR   \n",
       "14                                       BASELINE_RAND   \n",
       "15                                      BASELINE_PRIOR   \n",
       "16                                       BASELINE_RAND   \n",
       "17                                      BASELINE_PRIOR   \n",
       "18                                       BASELINE_RAND   \n",
       "19                                      BASELINE_PRIOR   \n",
       "\n",
       "                                            parameters  \\\n",
       "0    {'n_estimators': 10, 'max_features': 'sqrt', '...   \n",
       "1    {'criterion': 'gini', 'max_depth': 20, 'min_sa...   \n",
       "2                         {'penalty': 'l2', 'C': 0.01}   \n",
       "3    {'max_samples': 5, 'n_estimators': 5, 'max_fea...   \n",
       "4    {'n_estimators': 5, 'learning_rate': 0.5, 'max...   \n",
       "5    {'algorithm': 'kd_tree', 'weights': 'distance'...   \n",
       "6                                                   {}   \n",
       "7                {'criterion': 'gini', 'max_depth': 3}   \n",
       "8    {'n_estimators': 10, 'max_features': 'sqrt', '...   \n",
       "9    {'criterion': 'gini', 'max_depth': 20, 'min_sa...   \n",
       "10                        {'penalty': 'l2', 'C': 0.01}   \n",
       "11   {'max_samples': 5, 'n_estimators': 5, 'max_fea...   \n",
       "12   {'n_estimators': 5, 'learning_rate': 0.5, 'max...   \n",
       "13   {'algorithm': 'kd_tree', 'weights': 'distance'...   \n",
       "14                                                  {}   \n",
       "15               {'criterion': 'gini', 'max_depth': 3}   \n",
       "16   {'n_estimators': 10, 'max_features': 'sqrt', '...   \n",
       "17   {'criterion': 'gini', 'max_depth': 20, 'min_sa...   \n",
       "18                        {'penalty': 'l2', 'C': 0.01}   \n",
       "19   {'max_samples': 5, 'n_estimators': 5, 'max_fea...   \n",
       "20   {'n_estimators': 5, 'learning_rate': 0.5, 'max...   \n",
       "21   {'algorithm': 'kd_tree', 'weights': 'distance'...   \n",
       "22                                                  {}   \n",
       "23               {'criterion': 'gini', 'max_depth': 3}   \n",
       "24   {'n_estimators': 10, 'max_features': 'sqrt', '...   \n",
       "25   {'criterion': 'gini', 'max_depth': 20, 'min_sa...   \n",
       "26                        {'penalty': 'l2', 'C': 0.01}   \n",
       "27   {'max_samples': 5, 'n_estimators': 5, 'max_fea...   \n",
       "28   {'n_estimators': 5, 'learning_rate': 0.5, 'max...   \n",
       "29   {'algorithm': 'kd_tree', 'weights': 'distance'...   \n",
       "..                                                 ...   \n",
       "230                                                 {}   \n",
       "231              {'criterion': 'gini', 'max_depth': 3}   \n",
       "232  {'n_estimators': 10, 'max_features': 'sqrt', '...   \n",
       "233  {'criterion': 'gini', 'max_depth': 20, 'min_sa...   \n",
       "234                       {'penalty': 'l2', 'C': 0.01}   \n",
       "235  {'max_samples': 5, 'n_estimators': 5, 'max_fea...   \n",
       "236  {'n_estimators': 5, 'learning_rate': 0.5, 'max...   \n",
       "237  {'algorithm': 'kd_tree', 'weights': 'distance'...   \n",
       "238                                                 {}   \n",
       "239              {'criterion': 'gini', 'max_depth': 3}   \n",
       "0                                                   {}   \n",
       "1                                                   {}   \n",
       "2                                                   {}   \n",
       "3                                                   {}   \n",
       "4                                                   {}   \n",
       "5                                                   {}   \n",
       "6                                                   {}   \n",
       "7                                                   {}   \n",
       "8                                                   {}   \n",
       "9                                                   {}   \n",
       "10                                                  {}   \n",
       "11                                                  {}   \n",
       "12                                                  {}   \n",
       "13                                                  {}   \n",
       "14                                                  {}   \n",
       "15                                                  {}   \n",
       "16                                                  {}   \n",
       "17                                                  {}   \n",
       "18                                                  {}   \n",
       "19                                                  {}   \n",
       "\n",
       "                                 feature_sets     outcome  \\\n",
       "0                                  [economic]  top20_rate   \n",
       "1                                  [economic]  top20_rate   \n",
       "2                                  [economic]  top20_rate   \n",
       "3                                  [economic]  top20_rate   \n",
       "4                                  [economic]  top20_rate   \n",
       "5                                  [economic]  top20_rate   \n",
       "6                                  [economic]  top20_rate   \n",
       "7                                  [economic]  top20_rate   \n",
       "8                                  [economic]   top20_num   \n",
       "9                                  [economic]   top20_num   \n",
       "10                                 [economic]   top20_num   \n",
       "11                                 [economic]   top20_num   \n",
       "12                                 [economic]   top20_num   \n",
       "13                                 [economic]   top20_num   \n",
       "14                                 [economic]   top20_num   \n",
       "15                                 [economic]   top20_num   \n",
       "16                                 [eviction]  top20_rate   \n",
       "17                                 [eviction]  top20_rate   \n",
       "18                                 [eviction]  top20_rate   \n",
       "19                                 [eviction]  top20_rate   \n",
       "20                                 [eviction]  top20_rate   \n",
       "21                                 [eviction]  top20_rate   \n",
       "22                                 [eviction]  top20_rate   \n",
       "23                                 [eviction]  top20_rate   \n",
       "24                                 [eviction]   top20_num   \n",
       "25                                 [eviction]   top20_num   \n",
       "26                                 [eviction]   top20_num   \n",
       "27                                 [eviction]   top20_num   \n",
       "28                                 [eviction]   top20_num   \n",
       "29                                 [eviction]   top20_num   \n",
       "..                                        ...         ...   \n",
       "230  [economic, eviction, tract, demographic]  top20_rate   \n",
       "231  [economic, eviction, tract, demographic]  top20_rate   \n",
       "232  [economic, eviction, tract, demographic]   top20_num   \n",
       "233  [economic, eviction, tract, demographic]   top20_num   \n",
       "234  [economic, eviction, tract, demographic]   top20_num   \n",
       "235  [economic, eviction, tract, demographic]   top20_num   \n",
       "236  [economic, eviction, tract, demographic]   top20_num   \n",
       "237  [economic, eviction, tract, demographic]   top20_num   \n",
       "238  [economic, eviction, tract, demographic]   top20_num   \n",
       "239  [economic, eviction, tract, demographic]   top20_num   \n",
       "0                                  prior_year  top20_rate   \n",
       "1                                  prior_year  top20_rate   \n",
       "2                                  prior_year   top20_num   \n",
       "3                                  prior_year   top20_num   \n",
       "4                                  prior_year  top20_rate   \n",
       "5                                  prior_year  top20_rate   \n",
       "6                                  prior_year   top20_num   \n",
       "7                                  prior_year   top20_num   \n",
       "8                                  prior_year  top20_rate   \n",
       "9                                  prior_year  top20_rate   \n",
       "10                                 prior_year   top20_num   \n",
       "11                                 prior_year   top20_num   \n",
       "12                                 prior_year  top20_rate   \n",
       "13                                 prior_year  top20_rate   \n",
       "14                                 prior_year   top20_num   \n",
       "15                                 prior_year   top20_num   \n",
       "16                                 prior_year  top20_rate   \n",
       "17                                 prior_year  top20_rate   \n",
       "18                                 prior_year   top20_num   \n",
       "19                                 prior_year   top20_num   \n",
       "\n",
       "                                          model_result   auc-roc    p_at_1  \\\n",
       "0    RF: feature_importances:                      ...  0.678837  0.189474   \n",
       "1                          DT: tree_viz: tree_viz1.png  0.661513  0.000000   \n",
       "2    LR: coefficients:             coef            ...  0.546856  0.021053   \n",
       "3    BAG: base_estimator: DecisionTreeClassifier(cl...  0.469031  0.010526   \n",
       "4    GB: feature_importances:                      ...  0.571732  0.063158   \n",
       "5                                                 None  0.589782  0.010526   \n",
       "6                                                 None  0.600495  0.105263   \n",
       "7                                                 None  0.586876  0.010526   \n",
       "8    RF: feature_importances:                      ...  0.695668  0.294737   \n",
       "9                          DT: tree_viz: tree_viz9.png  0.705105  0.294737   \n",
       "10   LR: coefficients:             coef            ...  0.514286  0.294737   \n",
       "11   BAG: base_estimator: DecisionTreeClassifier(cl...  0.549285  0.010526   \n",
       "12   GB: feature_importances:                      ...  0.702414  0.294737   \n",
       "13                                                None  0.622664  0.010526   \n",
       "14                                                None  0.514036  0.000000   \n",
       "15                                                None  0.670441  0.221053   \n",
       "16   RF: feature_importances:                      ...  0.991266  1.000000   \n",
       "17                        DT: tree_viz: tree_viz17.png  0.999705  1.000000   \n",
       "18   LR: coefficients:             coef            ...  0.633697  0.178947   \n",
       "19   BAG: base_estimator: DecisionTreeClassifier(cl...  0.715333  0.010526   \n",
       "20   GB: feature_importances:                      ...  0.994355  1.000000   \n",
       "21                                                None  1.000000  1.000000   \n",
       "22                                                None  0.670830  0.000000   \n",
       "23                                                None  0.953091  0.884211   \n",
       "24   RF: feature_importances:                      ...  0.992388  1.000000   \n",
       "25                        DT: tree_viz: tree_viz25.png  0.999780  1.000000   \n",
       "26   LR: coefficients:         coef                ...  0.658761  0.115789   \n",
       "27   BAG: base_estimator: DecisionTreeClassifier(cl...  0.686564  0.010526   \n",
       "28   GB: feature_importances:                      ...  0.995613  1.000000   \n",
       "29                                                None  1.000000  1.000000   \n",
       "..                                                 ...       ...       ...   \n",
       "230                                               None  0.695968  0.010526   \n",
       "231                                               None  0.957124  0.884211   \n",
       "232  RF: feature_importances:                      ...  0.986126  1.000000   \n",
       "233                      DT: tree_viz: tree_viz233.png  0.999884  1.000000   \n",
       "234  LR: coefficients:              coef           ...  0.756505  0.178947   \n",
       "235  BAG: base_estimator: DecisionTreeClassifier(cl...  0.653202  0.042105   \n",
       "236  GB: feature_importances:                      ...  0.993150  0.989474   \n",
       "237                                               None  1.000000  1.000000   \n",
       "238                                               None  0.705393  0.010526   \n",
       "239                                               None  0.947102  1.000000   \n",
       "0                                                 None  0.493827  0.010526   \n",
       "1                                                 None  0.671160  0.010526   \n",
       "2                                                 None  0.501940  0.010526   \n",
       "3                                                 None  0.794037  0.031579   \n",
       "4                                                 None  0.498564  0.010638   \n",
       "5                                                 None  0.646609  0.010638   \n",
       "6                                                 None  0.494979  0.010638   \n",
       "7                                                 None  0.775513  0.414894   \n",
       "8                                                 None  0.500604  0.010526   \n",
       "9                                                 None  0.700619  0.010526   \n",
       "10                                                None  0.490409  0.010526   \n",
       "11                                                None  0.800763  0.010526   \n",
       "12                                                None  0.498113  0.010526   \n",
       "13                                                None  0.687707  0.010526   \n",
       "14                                                None  0.495700  0.010526   \n",
       "15                                                None  0.793004  0.115789   \n",
       "16                                                None  0.506315  0.010870   \n",
       "17                                                None  0.700045  0.010870   \n",
       "18                                                None  0.491774  0.010870   \n",
       "19                                                None  0.804426  0.010870   \n",
       "\n",
       "       ...      r_at_20   r_at_30   r_at_50   f1_at_1   f1_at_2   f1_at_5  \\\n",
       "0      ...     0.398773  0.544479  0.949387  0.048193  0.071259  0.109929   \n",
       "1      ...     0.329755  0.460123  0.961656  0.000000  0.000000  0.070922   \n",
       "2      ...     0.105828  0.260736  0.685583  0.005355  0.014252  0.014184   \n",
       "3      ...     0.099693  0.099693  1.000000  0.002677  0.002375  0.001773   \n",
       "4      ...     0.322086  0.412577  0.642638  0.016064  0.014252  0.115248   \n",
       "5      ...     0.378834  0.418712  1.000000  0.002677  0.002375  0.070922   \n",
       "6      ...     0.314417  0.369632  0.679448  0.026774  0.040380  0.085106   \n",
       "7      ...     0.156442  0.156442  0.886503  0.002677  0.002375  0.008865   \n",
       "8      ...     0.376344  0.557796  0.919355  0.066746  0.089936  0.157377   \n",
       "9      ...     0.423387  0.563172  0.911290  0.066746  0.059957  0.181967   \n",
       "10     ...     0.127688  0.274194  0.626344  0.066746  0.064240  0.052459   \n",
       "11     ...     0.001344  0.470430  0.651882  0.002384  0.002141  0.001639   \n",
       "12     ...     0.401882  0.568548  0.934140  0.066746  0.079229  0.188525   \n",
       "13     ...     0.275538  0.505376  1.000000  0.002384  0.104925  0.126230   \n",
       "14     ...     0.087366  0.248656  0.615591  0.000000  0.000000  0.027869   \n",
       "15     ...     0.478495  0.478495  0.966398  0.050060  0.044968  0.034426   \n",
       "16     ...     1.000000  1.000000  1.000000  0.254351  0.451306  0.753546   \n",
       "17     ...     1.000000  1.000000  1.000000  0.254351  0.451306  0.843972   \n",
       "18     ...     0.320552  0.320552  0.703988  0.045515  0.054632  0.115248   \n",
       "19     ...     0.641104  0.641104  0.763804  0.002677  0.002375  0.001773   \n",
       "20     ...     0.998466  0.998466  1.000000  0.254351  0.448931  0.797872   \n",
       "21     ...     1.000000  1.000000  1.000000  0.254351  0.451306  0.843972   \n",
       "22     ...     0.000000  0.000000  0.883436  0.000000  0.000000  0.000000   \n",
       "23     ...     0.786810  1.000000  1.000000  0.224900  0.296912  0.604610   \n",
       "24     ...     0.994624  0.998656  1.000000  0.226460  0.404711  0.759016   \n",
       "25     ...     1.000000  1.000000  1.000000  0.226460  0.406852  0.780328   \n",
       "26     ...     0.323925  0.327957  0.672043  0.026222  0.070664  0.167213   \n",
       "27     ...     0.111559  0.620968  0.939516  0.002384  0.122056  0.134426   \n",
       "28     ...     0.995968  0.997312  0.998656  0.226460  0.406852  0.777049   \n",
       "29     ...     1.000000  1.000000  1.000000  0.226460  0.406852  0.780328   \n",
       "..     ...          ...       ...       ...       ...       ...       ...   \n",
       "230    ...     0.001534  0.601227  0.779141  0.002677  0.002375  0.001773   \n",
       "231    ...     0.808282  1.000000  1.000000  0.224900  0.422803  0.565603   \n",
       "232    ...     0.979839  0.997312  1.000000  0.226460  0.406852  0.711475   \n",
       "233    ...     1.000000  1.000000  1.000000  0.226460  0.406852  0.780328   \n",
       "234    ...     0.463710  0.600806  0.848118  0.040524  0.113490  0.206557   \n",
       "235    ...     0.307796  0.307796  0.745968  0.009535  0.124197  0.095082   \n",
       "236    ...     0.993280  0.995968  0.995968  0.224076  0.404711  0.777049   \n",
       "237    ...     1.000000  1.000000  1.000000  0.226460  0.406852  0.780328   \n",
       "238    ...     0.001344  0.696237  0.747312  0.002384  0.002141  0.001639   \n",
       "239    ...     0.913978  0.913978  1.000000  0.226460  0.379015  0.681967   \n",
       "0      ...     0.056748  0.087423  1.000000  0.002677  0.002375  0.063830   \n",
       "1      ...     0.386503  0.386503  1.000000  0.002677  0.002375  0.269504   \n",
       "2      ...     0.080645  0.154570  1.000000  0.002384  0.002141  0.026230   \n",
       "3      ...     0.619624  0.619624  1.000000  0.007151  0.197002  0.326230   \n",
       "4      ...     0.065050  0.232635  1.000000  0.001998  0.001825  0.073913   \n",
       "5      ...     0.332966  0.358324  1.000000  0.001998  0.001825  0.217391   \n",
       "6      ...     0.075472  0.155383  1.000000  0.002010  0.001835  0.001456   \n",
       "7      ...     0.580466  0.580466  1.000000  0.078392  0.242202  0.321689   \n",
       "8      ...     0.075325  0.179221  1.000000  0.002312  0.002083  0.049799   \n",
       "9      ...     0.450649  0.450649  1.000000  0.002312  0.002083  0.134940   \n",
       "10     ...     0.067282  0.147757  1.000000  0.002345  0.002110  0.001622   \n",
       "11     ...     0.641161  0.641161  1.000000  0.002345  0.124473  0.207624   \n",
       "12     ...     0.072639  0.209443  1.000000  0.002172  0.001967  0.032184   \n",
       "13     ...     0.423729  0.423729  1.000000  0.002172  0.001967  0.139464   \n",
       "14     ...     0.077301  0.163190  1.000000  0.002198  0.001988  0.001546   \n",
       "15     ...     0.618405  0.618405  1.000000  0.024176  0.208748  0.301391   \n",
       "16     ...     0.089147  0.186047  1.000000  0.002309  0.002086  0.017771   \n",
       "17     ...     0.452196  0.452196  1.000000  0.002309  0.002086  0.106624   \n",
       "18     ...     0.062865  0.105263  1.000000  0.002577  0.002301  0.015679   \n",
       "19     ...     0.644737  0.644737  1.000000  0.002577  0.149597  0.270035   \n",
       "\n",
       "     f1_at_10  f1_at_20  f1_at_30  f1_at_50  \n",
       "0    0.177057  0.203443  0.202337  0.228666  \n",
       "1    0.120948  0.168232  0.170989  0.231622  \n",
       "2    0.023691  0.053991  0.096894  0.165127  \n",
       "3    0.013716  0.050861  0.037048  0.240857  \n",
       "4    0.117207  0.164319  0.153320  0.154784  \n",
       "5    0.135910  0.193271  0.155600  0.240857  \n",
       "6    0.129676  0.160407  0.137361  0.163650  \n",
       "7    0.127182  0.079812  0.058136  0.213521  \n",
       "8    0.220519  0.211480  0.230492  0.248456  \n",
       "9    0.229953  0.237915  0.232713  0.246277  \n",
       "10   0.051887  0.071752  0.113302  0.169270  \n",
       "11   0.001179  0.000755  0.194390  0.176171  \n",
       "12   0.229953  0.225831  0.234935  0.252452  \n",
       "13   0.195755  0.154834  0.208831  0.270251  \n",
       "14   0.033019  0.049094  0.102749  0.166364  \n",
       "15   0.024764  0.268882  0.197723  0.261170  \n",
       "16   0.768080  0.510172  0.371616  0.240857  \n",
       "17   0.812968  0.510172  0.371616  0.240857  \n",
       "18   0.135910  0.163537  0.119122  0.169560  \n",
       "19   0.001247  0.327074  0.238245  0.183967  \n",
       "20   0.786783  0.509390  0.371046  0.240857  \n",
       "21   0.812968  0.510172  0.371616  0.240857  \n",
       "22   0.000000  0.000000  0.000000  0.212782  \n",
       "23   0.592269  0.401408  0.371616  0.240857  \n",
       "24   0.798349  0.558912  0.412663  0.270251  \n",
       "25   0.877358  0.561934  0.413219  0.270251  \n",
       "26   0.268868  0.182024  0.135518  0.181620  \n",
       "27   0.096698  0.062689  0.256595  0.253905  \n",
       "28   0.849057  0.559668  0.412108  0.269887  \n",
       "29   0.877358  0.561934  0.413219  0.270251  \n",
       "..        ...       ...       ...       ...  \n",
       "230  0.001247  0.000782  0.223425  0.187662  \n",
       "231  0.623441  0.412363  0.371616  0.240857  \n",
       "232  0.780660  0.550604  0.412108  0.270251  \n",
       "233  0.877358  0.561934  0.413219  0.270251  \n",
       "234  0.258255  0.260574  0.248264  0.229205  \n",
       "235  0.087264  0.172961  0.127187  0.201598  \n",
       "236  0.852594  0.558157  0.411552  0.269161  \n",
       "237  0.877358  0.561934  0.413219  0.270251  \n",
       "238  0.001179  0.000755  0.287698  0.201961  \n",
       "239  0.731132  0.513595  0.377673  0.270251  \n",
       "0    0.046135  0.028951  0.032488  0.240857  \n",
       "1    0.314214  0.197183  0.143631  0.240857  \n",
       "2    0.070755  0.045317  0.063871  0.270251  \n",
       "3    0.543632  0.348187  0.256040  0.270251  \n",
       "4    0.063681  0.042158  0.112684  0.321802  \n",
       "5    0.325958  0.215791  0.173565  0.321802  \n",
       "6    0.073633  0.048693  0.074886  0.320014  \n",
       "7    0.566324  0.374508  0.279754  0.320014  \n",
       "8    0.067403  0.043413  0.076180  0.278683  \n",
       "9    0.403254  0.259731  0.191554  0.278683  \n",
       "10   0.059684  0.038346  0.062033  0.274937  \n",
       "11   0.568754  0.365414  0.269178  0.274937  \n",
       "12   0.067265  0.043764  0.093514  0.294160  \n",
       "13   0.392377  0.255288  0.189189  0.294160  \n",
       "14   0.071066  0.046137  0.072106  0.290812  \n",
       "15   0.568528  0.369096  0.273245  0.290812  \n",
       "16   0.081033  0.052412  0.080853  0.285556  \n",
       "17   0.411039  0.265856  0.196519  0.285556  \n",
       "18   0.053317  0.033818  0.041475  0.256612  \n",
       "19   0.546807  0.346834  0.254032  0.256612  \n",
       "\n",
       "[260 rows x 30 columns]"
      ]
     },
     "execution_count": 3,
     "metadata": {},
     "output_type": "execute_result"
    }
   ],
   "source": [
    "results"
   ]
  },
  {
   "cell_type": "code",
   "execution_count": 4,
   "metadata": {
    "collapsed": true
   },
   "outputs": [
    {
     "name": "stdout",
     "output_type": "stream",
     "text": [
      "                                 training_dates  \\\n",
      "0    (2006-01-01 00:00:00, 2006-12-31 00:00:00)   \n",
      "1    (2006-01-01 00:00:00, 2006-12-31 00:00:00)   \n",
      "2    (2006-01-01 00:00:00, 2006-12-31 00:00:00)   \n",
      "3    (2006-01-01 00:00:00, 2006-12-31 00:00:00)   \n",
      "4    (2006-01-01 00:00:00, 2006-12-31 00:00:00)   \n",
      "5    (2006-01-01 00:00:00, 2006-12-31 00:00:00)   \n",
      "6    (2006-01-01 00:00:00, 2006-12-31 00:00:00)   \n",
      "7    (2006-01-01 00:00:00, 2006-12-31 00:00:00)   \n",
      "8    (2006-01-01 00:00:00, 2007-12-31 00:00:00)   \n",
      "9    (2006-01-01 00:00:00, 2007-12-31 00:00:00)   \n",
      "10   (2006-01-01 00:00:00, 2007-12-31 00:00:00)   \n",
      "11   (2006-01-01 00:00:00, 2007-12-31 00:00:00)   \n",
      "12   (2006-01-01 00:00:00, 2007-12-31 00:00:00)   \n",
      "13   (2006-01-01 00:00:00, 2007-12-31 00:00:00)   \n",
      "14   (2006-01-01 00:00:00, 2007-12-31 00:00:00)   \n",
      "15   (2006-01-01 00:00:00, 2007-12-31 00:00:00)   \n",
      "16   (2006-01-01 00:00:00, 2008-12-31 00:00:00)   \n",
      "17   (2006-01-01 00:00:00, 2008-12-31 00:00:00)   \n",
      "18   (2006-01-01 00:00:00, 2008-12-31 00:00:00)   \n",
      "19   (2006-01-01 00:00:00, 2008-12-31 00:00:00)   \n",
      "20   (2006-01-01 00:00:00, 2008-12-31 00:00:00)   \n",
      "21   (2006-01-01 00:00:00, 2008-12-31 00:00:00)   \n",
      "22   (2006-01-01 00:00:00, 2008-12-31 00:00:00)   \n",
      "23   (2006-01-01 00:00:00, 2008-12-31 00:00:00)   \n",
      "24   (2006-01-01 00:00:00, 2009-12-31 00:00:00)   \n",
      "25   (2006-01-01 00:00:00, 2009-12-31 00:00:00)   \n",
      "26   (2006-01-01 00:00:00, 2009-12-31 00:00:00)   \n",
      "27   (2006-01-01 00:00:00, 2009-12-31 00:00:00)   \n",
      "28   (2006-01-01 00:00:00, 2009-12-31 00:00:00)   \n",
      "29   (2006-01-01 00:00:00, 2009-12-31 00:00:00)   \n",
      "..                                          ...   \n",
      "230  (2006-01-01 00:00:00, 2034-12-31 00:00:00)   \n",
      "231  (2006-01-01 00:00:00, 2034-12-31 00:00:00)   \n",
      "232  (2006-01-01 00:00:00, 2035-12-31 00:00:00)   \n",
      "233  (2006-01-01 00:00:00, 2035-12-31 00:00:00)   \n",
      "234  (2006-01-01 00:00:00, 2035-12-31 00:00:00)   \n",
      "235  (2006-01-01 00:00:00, 2035-12-31 00:00:00)   \n",
      "236  (2006-01-01 00:00:00, 2035-12-31 00:00:00)   \n",
      "237  (2006-01-01 00:00:00, 2035-12-31 00:00:00)   \n",
      "238  (2006-01-01 00:00:00, 2035-12-31 00:00:00)   \n",
      "239  (2006-01-01 00:00:00, 2035-12-31 00:00:00)   \n",
      "0    (2006-01-01 00:00:00, 2006-12-31 00:00:00)   \n",
      "1    (2006-01-01 00:00:00, 2006-12-31 00:00:00)   \n",
      "2    (2006-01-01 00:00:00, 2007-12-31 00:00:00)   \n",
      "3    (2006-01-01 00:00:00, 2007-12-31 00:00:00)   \n",
      "4    (2006-01-01 00:00:00, 2008-12-31 00:00:00)   \n",
      "5    (2006-01-01 00:00:00, 2008-12-31 00:00:00)   \n",
      "6    (2006-01-01 00:00:00, 2009-12-31 00:00:00)   \n",
      "7    (2006-01-01 00:00:00, 2009-12-31 00:00:00)   \n",
      "8    (2006-01-01 00:00:00, 2010-12-31 00:00:00)   \n",
      "9    (2006-01-01 00:00:00, 2010-12-31 00:00:00)   \n",
      "10   (2006-01-01 00:00:00, 2011-12-31 00:00:00)   \n",
      "11   (2006-01-01 00:00:00, 2011-12-31 00:00:00)   \n",
      "12   (2006-01-01 00:00:00, 2012-12-31 00:00:00)   \n",
      "13   (2006-01-01 00:00:00, 2012-12-31 00:00:00)   \n",
      "14   (2006-01-01 00:00:00, 2013-12-31 00:00:00)   \n",
      "15   (2006-01-01 00:00:00, 2013-12-31 00:00:00)   \n",
      "16   (2006-01-01 00:00:00, 2014-12-31 00:00:00)   \n",
      "17   (2006-01-01 00:00:00, 2014-12-31 00:00:00)   \n",
      "18   (2006-01-01 00:00:00, 2015-12-31 00:00:00)   \n",
      "19   (2006-01-01 00:00:00, 2015-12-31 00:00:00)   \n",
      "\n",
      "                                  testing_dates       model_key  \\\n",
      "0    (2007-01-01 00:00:00, 2007-12-31 00:00:00)              RF   \n",
      "1    (2007-01-01 00:00:00, 2007-12-31 00:00:00)              DT   \n",
      "2    (2007-01-01 00:00:00, 2007-12-31 00:00:00)              LR   \n",
      "3    (2007-01-01 00:00:00, 2007-12-31 00:00:00)             BAG   \n",
      "4    (2007-01-01 00:00:00, 2007-12-31 00:00:00)              GB   \n",
      "5    (2007-01-01 00:00:00, 2007-12-31 00:00:00)             KNN   \n",
      "6    (2007-01-01 00:00:00, 2007-12-31 00:00:00)              NB   \n",
      "7    (2007-01-01 00:00:00, 2007-12-31 00:00:00)     BASELINE_DT   \n",
      "8    (2007-01-01 00:00:00, 2007-12-31 00:00:00)              RF   \n",
      "9    (2007-01-01 00:00:00, 2007-12-31 00:00:00)              DT   \n",
      "10   (2007-01-01 00:00:00, 2007-12-31 00:00:00)              LR   \n",
      "11   (2007-01-01 00:00:00, 2007-12-31 00:00:00)             BAG   \n",
      "12   (2007-01-01 00:00:00, 2007-12-31 00:00:00)              GB   \n",
      "13   (2007-01-01 00:00:00, 2007-12-31 00:00:00)             KNN   \n",
      "14   (2007-01-01 00:00:00, 2007-12-31 00:00:00)              NB   \n",
      "15   (2007-01-01 00:00:00, 2007-12-31 00:00:00)     BASELINE_DT   \n",
      "16   (2007-01-01 00:00:00, 2007-12-31 00:00:00)              RF   \n",
      "17   (2007-01-01 00:00:00, 2007-12-31 00:00:00)              DT   \n",
      "18   (2007-01-01 00:00:00, 2007-12-31 00:00:00)              LR   \n",
      "19   (2007-01-01 00:00:00, 2007-12-31 00:00:00)             BAG   \n",
      "20   (2007-01-01 00:00:00, 2007-12-31 00:00:00)              GB   \n",
      "21   (2007-01-01 00:00:00, 2007-12-31 00:00:00)             KNN   \n",
      "22   (2007-01-01 00:00:00, 2007-12-31 00:00:00)              NB   \n",
      "23   (2007-01-01 00:00:00, 2007-12-31 00:00:00)     BASELINE_DT   \n",
      "24   (2007-01-01 00:00:00, 2007-12-31 00:00:00)              RF   \n",
      "25   (2007-01-01 00:00:00, 2007-12-31 00:00:00)              DT   \n",
      "26   (2007-01-01 00:00:00, 2007-12-31 00:00:00)              LR   \n",
      "27   (2007-01-01 00:00:00, 2007-12-31 00:00:00)             BAG   \n",
      "28   (2007-01-01 00:00:00, 2007-12-31 00:00:00)              GB   \n",
      "29   (2007-01-01 00:00:00, 2007-12-31 00:00:00)             KNN   \n",
      "..                                          ...             ...   \n",
      "230  (2007-01-01 00:00:00, 2007-12-31 00:00:00)              NB   \n",
      "231  (2007-01-01 00:00:00, 2007-12-31 00:00:00)     BASELINE_DT   \n",
      "232  (2007-01-01 00:00:00, 2007-12-31 00:00:00)              RF   \n",
      "233  (2007-01-01 00:00:00, 2007-12-31 00:00:00)              DT   \n",
      "234  (2007-01-01 00:00:00, 2007-12-31 00:00:00)              LR   \n",
      "235  (2007-01-01 00:00:00, 2007-12-31 00:00:00)             BAG   \n",
      "236  (2007-01-01 00:00:00, 2007-12-31 00:00:00)              GB   \n",
      "237  (2007-01-01 00:00:00, 2007-12-31 00:00:00)             KNN   \n",
      "238  (2007-01-01 00:00:00, 2007-12-31 00:00:00)              NB   \n",
      "239  (2007-01-01 00:00:00, 2007-12-31 00:00:00)     BASELINE_DT   \n",
      "0    (2007-01-01 00:00:00, 2007-12-31 00:00:00)   BASELINE_RAND   \n",
      "1    (2007-01-01 00:00:00, 2007-12-31 00:00:00)  BASELINE_PRIOR   \n",
      "2    (2007-01-01 00:00:00, 2007-12-31 00:00:00)   BASELINE_RAND   \n",
      "3    (2007-01-01 00:00:00, 2007-12-31 00:00:00)  BASELINE_PRIOR   \n",
      "4    (2009-01-01 00:00:00, 2009-12-31 00:00:00)   BASELINE_RAND   \n",
      "5    (2009-01-01 00:00:00, 2009-12-31 00:00:00)  BASELINE_PRIOR   \n",
      "6    (2009-01-01 00:00:00, 2009-12-31 00:00:00)   BASELINE_RAND   \n",
      "7    (2009-01-01 00:00:00, 2009-12-31 00:00:00)  BASELINE_PRIOR   \n",
      "8    (2011-01-01 00:00:00, 2011-12-31 00:00:00)   BASELINE_RAND   \n",
      "9    (2011-01-01 00:00:00, 2011-12-31 00:00:00)  BASELINE_PRIOR   \n",
      "10   (2011-01-01 00:00:00, 2011-12-31 00:00:00)   BASELINE_RAND   \n",
      "11   (2011-01-01 00:00:00, 2011-12-31 00:00:00)  BASELINE_PRIOR   \n",
      "12   (2013-01-01 00:00:00, 2013-12-31 00:00:00)   BASELINE_RAND   \n",
      "13   (2013-01-01 00:00:00, 2013-12-31 00:00:00)  BASELINE_PRIOR   \n",
      "14   (2013-01-01 00:00:00, 2013-12-31 00:00:00)   BASELINE_RAND   \n",
      "15   (2013-01-01 00:00:00, 2013-12-31 00:00:00)  BASELINE_PRIOR   \n",
      "16   (2015-01-01 00:00:00, 2015-12-31 00:00:00)   BASELINE_RAND   \n",
      "17   (2015-01-01 00:00:00, 2015-12-31 00:00:00)  BASELINE_PRIOR   \n",
      "18   (2015-01-01 00:00:00, 2015-12-31 00:00:00)   BASELINE_RAND   \n",
      "19   (2015-01-01 00:00:00, 2015-12-31 00:00:00)  BASELINE_PRIOR   \n",
      "\n",
      "                                            classifier  \\\n",
      "0    (DecisionTreeClassifier(class_weight=None, cri...   \n",
      "1    DecisionTreeClassifier(class_weight=None, crit...   \n",
      "2    LogisticRegression(C=0.01, class_weight=None, ...   \n",
      "3    (DecisionTreeClassifier(class_weight=None, cri...   \n",
      "4    ([DecisionTreeRegressor(criterion='friedman_ms...   \n",
      "5    KNeighborsClassifier(algorithm='kd_tree', leaf...   \n",
      "6                              GaussianNB(priors=None)   \n",
      "7    DecisionTreeClassifier(class_weight=None, crit...   \n",
      "8    (DecisionTreeClassifier(class_weight=None, cri...   \n",
      "9    DecisionTreeClassifier(class_weight=None, crit...   \n",
      "10   LogisticRegression(C=0.01, class_weight=None, ...   \n",
      "11   (DecisionTreeClassifier(class_weight=None, cri...   \n",
      "12   ([DecisionTreeRegressor(criterion='friedman_ms...   \n",
      "13   KNeighborsClassifier(algorithm='kd_tree', leaf...   \n",
      "14                             GaussianNB(priors=None)   \n",
      "15   DecisionTreeClassifier(class_weight=None, crit...   \n",
      "16   (DecisionTreeClassifier(class_weight=None, cri...   \n",
      "17   DecisionTreeClassifier(class_weight=None, crit...   \n",
      "18   LogisticRegression(C=0.01, class_weight=None, ...   \n",
      "19   (DecisionTreeClassifier(class_weight=None, cri...   \n",
      "20   ([DecisionTreeRegressor(criterion='friedman_ms...   \n",
      "21   KNeighborsClassifier(algorithm='kd_tree', leaf...   \n",
      "22                             GaussianNB(priors=None)   \n",
      "23   DecisionTreeClassifier(class_weight=None, crit...   \n",
      "24   (DecisionTreeClassifier(class_weight=None, cri...   \n",
      "25   DecisionTreeClassifier(class_weight=None, crit...   \n",
      "26   LogisticRegression(C=0.01, class_weight=None, ...   \n",
      "27   (DecisionTreeClassifier(class_weight=None, cri...   \n",
      "28   ([DecisionTreeRegressor(criterion='friedman_ms...   \n",
      "29   KNeighborsClassifier(algorithm='kd_tree', leaf...   \n",
      "..                                                 ...   \n",
      "230                            GaussianNB(priors=None)   \n",
      "231  DecisionTreeClassifier(class_weight=None, crit...   \n",
      "232  (DecisionTreeClassifier(class_weight=None, cri...   \n",
      "233  DecisionTreeClassifier(class_weight=None, crit...   \n",
      "234  LogisticRegression(C=0.01, class_weight=None, ...   \n",
      "235  (DecisionTreeClassifier(class_weight=None, cri...   \n",
      "236  ([DecisionTreeRegressor(criterion='friedman_ms...   \n",
      "237  KNeighborsClassifier(algorithm='kd_tree', leaf...   \n",
      "238                            GaussianNB(priors=None)   \n",
      "239  DecisionTreeClassifier(class_weight=None, crit...   \n",
      "0                                        BASELINE_RAND   \n",
      "1                                       BASELINE_PRIOR   \n",
      "2                                        BASELINE_RAND   \n",
      "3                                       BASELINE_PRIOR   \n",
      "4                                        BASELINE_RAND   \n",
      "5                                       BASELINE_PRIOR   \n",
      "6                                        BASELINE_RAND   \n",
      "7                                       BASELINE_PRIOR   \n",
      "8                                        BASELINE_RAND   \n",
      "9                                       BASELINE_PRIOR   \n",
      "10                                       BASELINE_RAND   \n",
      "11                                      BASELINE_PRIOR   \n",
      "12                                       BASELINE_RAND   \n",
      "13                                      BASELINE_PRIOR   \n",
      "14                                       BASELINE_RAND   \n",
      "15                                      BASELINE_PRIOR   \n",
      "16                                       BASELINE_RAND   \n",
      "17                                      BASELINE_PRIOR   \n",
      "18                                       BASELINE_RAND   \n",
      "19                                      BASELINE_PRIOR   \n",
      "\n",
      "                                            parameters  \\\n",
      "0    {'n_estimators': 10, 'max_features': 'sqrt', '...   \n",
      "1    {'criterion': 'gini', 'max_depth': 20, 'min_sa...   \n",
      "2                         {'penalty': 'l2', 'C': 0.01}   \n",
      "3    {'max_samples': 5, 'n_estimators': 5, 'max_fea...   \n",
      "4    {'n_estimators': 5, 'learning_rate': 0.5, 'max...   \n",
      "5    {'algorithm': 'kd_tree', 'weights': 'distance'...   \n",
      "6                                                   {}   \n",
      "7                {'criterion': 'gini', 'max_depth': 3}   \n",
      "8    {'n_estimators': 10, 'max_features': 'sqrt', '...   \n",
      "9    {'criterion': 'gini', 'max_depth': 20, 'min_sa...   \n",
      "10                        {'penalty': 'l2', 'C': 0.01}   \n",
      "11   {'max_samples': 5, 'n_estimators': 5, 'max_fea...   \n",
      "12   {'n_estimators': 5, 'learning_rate': 0.5, 'max...   \n",
      "13   {'algorithm': 'kd_tree', 'weights': 'distance'...   \n",
      "14                                                  {}   \n",
      "15               {'criterion': 'gini', 'max_depth': 3}   \n",
      "16   {'n_estimators': 10, 'max_features': 'sqrt', '...   \n",
      "17   {'criterion': 'gini', 'max_depth': 20, 'min_sa...   \n",
      "18                        {'penalty': 'l2', 'C': 0.01}   \n",
      "19   {'max_samples': 5, 'n_estimators': 5, 'max_fea...   \n",
      "20   {'n_estimators': 5, 'learning_rate': 0.5, 'max...   \n",
      "21   {'algorithm': 'kd_tree', 'weights': 'distance'...   \n",
      "22                                                  {}   \n",
      "23               {'criterion': 'gini', 'max_depth': 3}   \n",
      "24   {'n_estimators': 10, 'max_features': 'sqrt', '...   \n",
      "25   {'criterion': 'gini', 'max_depth': 20, 'min_sa...   \n",
      "26                        {'penalty': 'l2', 'C': 0.01}   \n",
      "27   {'max_samples': 5, 'n_estimators': 5, 'max_fea...   \n",
      "28   {'n_estimators': 5, 'learning_rate': 0.5, 'max...   \n",
      "29   {'algorithm': 'kd_tree', 'weights': 'distance'...   \n",
      "..                                                 ...   \n",
      "230                                                 {}   \n",
      "231              {'criterion': 'gini', 'max_depth': 3}   \n",
      "232  {'n_estimators': 10, 'max_features': 'sqrt', '...   \n",
      "233  {'criterion': 'gini', 'max_depth': 20, 'min_sa...   \n",
      "234                       {'penalty': 'l2', 'C': 0.01}   \n",
      "235  {'max_samples': 5, 'n_estimators': 5, 'max_fea...   \n",
      "236  {'n_estimators': 5, 'learning_rate': 0.5, 'max...   \n",
      "237  {'algorithm': 'kd_tree', 'weights': 'distance'...   \n",
      "238                                                 {}   \n",
      "239              {'criterion': 'gini', 'max_depth': 3}   \n",
      "0                                                   {}   \n",
      "1                                                   {}   \n",
      "2                                                   {}   \n",
      "3                                                   {}   \n",
      "4                                                   {}   \n",
      "5                                                   {}   \n",
      "6                                                   {}   \n",
      "7                                                   {}   \n",
      "8                                                   {}   \n",
      "9                                                   {}   \n",
      "10                                                  {}   \n",
      "11                                                  {}   \n",
      "12                                                  {}   \n",
      "13                                                  {}   \n",
      "14                                                  {}   \n",
      "15                                                  {}   \n",
      "16                                                  {}   \n",
      "17                                                  {}   \n",
      "18                                                  {}   \n",
      "19                                                  {}   \n",
      "\n",
      "                                 feature_sets     outcome  \\\n",
      "0                                  [economic]  top20_rate   \n",
      "1                                  [economic]  top20_rate   \n",
      "2                                  [economic]  top20_rate   \n",
      "3                                  [economic]  top20_rate   \n",
      "4                                  [economic]  top20_rate   \n",
      "5                                  [economic]  top20_rate   \n",
      "6                                  [economic]  top20_rate   \n",
      "7                                  [economic]  top20_rate   \n",
      "8                                  [economic]   top20_num   \n",
      "9                                  [economic]   top20_num   \n",
      "10                                 [economic]   top20_num   \n",
      "11                                 [economic]   top20_num   \n",
      "12                                 [economic]   top20_num   \n",
      "13                                 [economic]   top20_num   \n",
      "14                                 [economic]   top20_num   \n",
      "15                                 [economic]   top20_num   \n",
      "16                                 [eviction]  top20_rate   \n",
      "17                                 [eviction]  top20_rate   \n",
      "18                                 [eviction]  top20_rate   \n",
      "19                                 [eviction]  top20_rate   \n",
      "20                                 [eviction]  top20_rate   \n",
      "21                                 [eviction]  top20_rate   \n",
      "22                                 [eviction]  top20_rate   \n",
      "23                                 [eviction]  top20_rate   \n",
      "24                                 [eviction]   top20_num   \n",
      "25                                 [eviction]   top20_num   \n",
      "26                                 [eviction]   top20_num   \n",
      "27                                 [eviction]   top20_num   \n",
      "28                                 [eviction]   top20_num   \n",
      "29                                 [eviction]   top20_num   \n",
      "..                                        ...         ...   \n",
      "230  [economic, eviction, tract, demographic]  top20_rate   \n",
      "231  [economic, eviction, tract, demographic]  top20_rate   \n",
      "232  [economic, eviction, tract, demographic]   top20_num   \n",
      "233  [economic, eviction, tract, demographic]   top20_num   \n",
      "234  [economic, eviction, tract, demographic]   top20_num   \n",
      "235  [economic, eviction, tract, demographic]   top20_num   \n",
      "236  [economic, eviction, tract, demographic]   top20_num   \n",
      "237  [economic, eviction, tract, demographic]   top20_num   \n",
      "238  [economic, eviction, tract, demographic]   top20_num   \n",
      "239  [economic, eviction, tract, demographic]   top20_num   \n",
      "0                                  prior_year  top20_rate   \n",
      "1                                  prior_year  top20_rate   \n",
      "2                                  prior_year   top20_num   \n",
      "3                                  prior_year   top20_num   \n",
      "4                                  prior_year  top20_rate   \n",
      "5                                  prior_year  top20_rate   \n",
      "6                                  prior_year   top20_num   \n",
      "7                                  prior_year   top20_num   \n",
      "8                                  prior_year  top20_rate   \n",
      "9                                  prior_year  top20_rate   \n",
      "10                                 prior_year   top20_num   \n",
      "11                                 prior_year   top20_num   \n",
      "12                                 prior_year  top20_rate   \n",
      "13                                 prior_year  top20_rate   \n",
      "14                                 prior_year   top20_num   \n",
      "15                                 prior_year   top20_num   \n",
      "16                                 prior_year  top20_rate   \n",
      "17                                 prior_year  top20_rate   \n",
      "18                                 prior_year   top20_num   \n",
      "19                                 prior_year   top20_num   \n",
      "\n",
      "                                          model_result   auc-roc    p_at_1  \\\n",
      "0    RF: feature_importances:                      ...  0.678837  0.189474   \n",
      "1                          DT: tree_viz: tree_viz1.png  0.661513  0.000000   \n",
      "2    LR: coefficients:             coef            ...  0.546856  0.021053   \n",
      "3    BAG: base_estimator: DecisionTreeClassifier(cl...  0.469031  0.010526   \n",
      "4    GB: feature_importances:                      ...  0.571732  0.063158   \n",
      "5                                                 None  0.589782  0.010526   \n",
      "6                                                 None  0.600495  0.105263   \n",
      "7                                                 None  0.586876  0.010526   \n",
      "8    RF: feature_importances:                      ...  0.695668  0.294737   \n",
      "9                          DT: tree_viz: tree_viz9.png  0.705105  0.294737   \n",
      "10   LR: coefficients:             coef            ...  0.514286  0.294737   \n",
      "11   BAG: base_estimator: DecisionTreeClassifier(cl...  0.549285  0.010526   \n",
      "12   GB: feature_importances:                      ...  0.702414  0.294737   \n",
      "13                                                None  0.622664  0.010526   \n",
      "14                                                None  0.514036  0.000000   \n",
      "15                                                None  0.670441  0.221053   \n",
      "16   RF: feature_importances:                      ...  0.991266  1.000000   \n",
      "17                        DT: tree_viz: tree_viz17.png  0.999705  1.000000   \n",
      "18   LR: coefficients:             coef            ...  0.633697  0.178947   \n",
      "19   BAG: base_estimator: DecisionTreeClassifier(cl...  0.715333  0.010526   \n",
      "20   GB: feature_importances:                      ...  0.994355  1.000000   \n",
      "21                                                None  1.000000  1.000000   \n",
      "22                                                None  0.670830  0.000000   \n",
      "23                                                None  0.953091  0.884211   \n",
      "24   RF: feature_importances:                      ...  0.992388  1.000000   \n",
      "25                        DT: tree_viz: tree_viz25.png  0.999780  1.000000   \n",
      "26   LR: coefficients:         coef                ...  0.658761  0.115789   \n",
      "27   BAG: base_estimator: DecisionTreeClassifier(cl...  0.686564  0.010526   \n",
      "28   GB: feature_importances:                      ...  0.995613  1.000000   \n",
      "29                                                None  1.000000  1.000000   \n",
      "..                                                 ...       ...       ...   \n",
      "230                                               None  0.695968  0.010526   \n",
      "231                                               None  0.957124  0.884211   \n",
      "232  RF: feature_importances:                      ...  0.986126  1.000000   \n",
      "233                      DT: tree_viz: tree_viz233.png  0.999884  1.000000   \n",
      "234  LR: coefficients:              coef           ...  0.756505  0.178947   \n",
      "235  BAG: base_estimator: DecisionTreeClassifier(cl...  0.653202  0.042105   \n",
      "236  GB: feature_importances:                      ...  0.993150  0.989474   \n",
      "237                                               None  1.000000  1.000000   \n",
      "238                                               None  0.705393  0.010526   \n",
      "239                                               None  0.947102  1.000000   \n",
      "0                                                 None  0.493827  0.010526   \n",
      "1                                                 None  0.671160  0.010526   \n",
      "2                                                 None  0.501940  0.010526   \n",
      "3                                                 None  0.794037  0.031579   \n",
      "4                                                 None  0.498564  0.010638   \n",
      "5                                                 None  0.646609  0.010638   \n",
      "6                                                 None  0.494979  0.010638   \n",
      "7                                                 None  0.775513  0.414894   \n",
      "8                                                 None  0.500604  0.010526   \n",
      "9                                                 None  0.700619  0.010526   \n",
      "10                                                None  0.490409  0.010526   \n",
      "11                                                None  0.800763  0.010526   \n",
      "12                                                None  0.498113  0.010526   \n",
      "13                                                None  0.687707  0.010526   \n",
      "14                                                None  0.495700  0.010526   \n",
      "15                                                None  0.793004  0.115789   \n",
      "16                                                None  0.506315  0.010870   \n",
      "17                                                None  0.700045  0.010870   \n",
      "18                                                None  0.491774  0.010870   \n",
      "19                                                None  0.804426  0.010870   \n",
      "\n",
      "       ...      r_at_20   r_at_30   r_at_50   f1_at_1   f1_at_2   f1_at_5  \\\n",
      "0      ...     0.398773  0.544479  0.949387  0.048193  0.071259  0.109929   \n",
      "1      ...     0.329755  0.460123  0.961656  0.000000  0.000000  0.070922   \n",
      "2      ...     0.105828  0.260736  0.685583  0.005355  0.014252  0.014184   \n",
      "3      ...     0.099693  0.099693  1.000000  0.002677  0.002375  0.001773   \n",
      "4      ...     0.322086  0.412577  0.642638  0.016064  0.014252  0.115248   \n",
      "5      ...     0.378834  0.418712  1.000000  0.002677  0.002375  0.070922   \n",
      "6      ...     0.314417  0.369632  0.679448  0.026774  0.040380  0.085106   \n",
      "7      ...     0.156442  0.156442  0.886503  0.002677  0.002375  0.008865   \n",
      "8      ...     0.376344  0.557796  0.919355  0.066746  0.089936  0.157377   \n",
      "9      ...     0.423387  0.563172  0.911290  0.066746  0.059957  0.181967   \n",
      "10     ...     0.127688  0.274194  0.626344  0.066746  0.064240  0.052459   \n",
      "11     ...     0.001344  0.470430  0.651882  0.002384  0.002141  0.001639   \n",
      "12     ...     0.401882  0.568548  0.934140  0.066746  0.079229  0.188525   \n",
      "13     ...     0.275538  0.505376  1.000000  0.002384  0.104925  0.126230   \n",
      "14     ...     0.087366  0.248656  0.615591  0.000000  0.000000  0.027869   \n",
      "15     ...     0.478495  0.478495  0.966398  0.050060  0.044968  0.034426   \n",
      "16     ...     1.000000  1.000000  1.000000  0.254351  0.451306  0.753546   \n",
      "17     ...     1.000000  1.000000  1.000000  0.254351  0.451306  0.843972   \n",
      "18     ...     0.320552  0.320552  0.703988  0.045515  0.054632  0.115248   \n",
      "19     ...     0.641104  0.641104  0.763804  0.002677  0.002375  0.001773   \n",
      "20     ...     0.998466  0.998466  1.000000  0.254351  0.448931  0.797872   \n",
      "21     ...     1.000000  1.000000  1.000000  0.254351  0.451306  0.843972   \n",
      "22     ...     0.000000  0.000000  0.883436  0.000000  0.000000  0.000000   \n",
      "23     ...     0.786810  1.000000  1.000000  0.224900  0.296912  0.604610   \n",
      "24     ...     0.994624  0.998656  1.000000  0.226460  0.404711  0.759016   \n",
      "25     ...     1.000000  1.000000  1.000000  0.226460  0.406852  0.780328   \n",
      "26     ...     0.323925  0.327957  0.672043  0.026222  0.070664  0.167213   \n",
      "27     ...     0.111559  0.620968  0.939516  0.002384  0.122056  0.134426   \n",
      "28     ...     0.995968  0.997312  0.998656  0.226460  0.406852  0.777049   \n",
      "29     ...     1.000000  1.000000  1.000000  0.226460  0.406852  0.780328   \n",
      "..     ...          ...       ...       ...       ...       ...       ...   \n",
      "230    ...     0.001534  0.601227  0.779141  0.002677  0.002375  0.001773   \n",
      "231    ...     0.808282  1.000000  1.000000  0.224900  0.422803  0.565603   \n",
      "232    ...     0.979839  0.997312  1.000000  0.226460  0.406852  0.711475   \n",
      "233    ...     1.000000  1.000000  1.000000  0.226460  0.406852  0.780328   \n",
      "234    ...     0.463710  0.600806  0.848118  0.040524  0.113490  0.206557   \n",
      "235    ...     0.307796  0.307796  0.745968  0.009535  0.124197  0.095082   \n",
      "236    ...     0.993280  0.995968  0.995968  0.224076  0.404711  0.777049   \n",
      "237    ...     1.000000  1.000000  1.000000  0.226460  0.406852  0.780328   \n",
      "238    ...     0.001344  0.696237  0.747312  0.002384  0.002141  0.001639   \n",
      "239    ...     0.913978  0.913978  1.000000  0.226460  0.379015  0.681967   \n",
      "0      ...     0.056748  0.087423  1.000000  0.002677  0.002375  0.063830   \n",
      "1      ...     0.386503  0.386503  1.000000  0.002677  0.002375  0.269504   \n",
      "2      ...     0.080645  0.154570  1.000000  0.002384  0.002141  0.026230   \n",
      "3      ...     0.619624  0.619624  1.000000  0.007151  0.197002  0.326230   \n",
      "4      ...     0.065050  0.232635  1.000000  0.001998  0.001825  0.073913   \n",
      "5      ...     0.332966  0.358324  1.000000  0.001998  0.001825  0.217391   \n",
      "6      ...     0.075472  0.155383  1.000000  0.002010  0.001835  0.001456   \n",
      "7      ...     0.580466  0.580466  1.000000  0.078392  0.242202  0.321689   \n",
      "8      ...     0.075325  0.179221  1.000000  0.002312  0.002083  0.049799   \n",
      "9      ...     0.450649  0.450649  1.000000  0.002312  0.002083  0.134940   \n",
      "10     ...     0.067282  0.147757  1.000000  0.002345  0.002110  0.001622   \n",
      "11     ...     0.641161  0.641161  1.000000  0.002345  0.124473  0.207624   \n",
      "12     ...     0.072639  0.209443  1.000000  0.002172  0.001967  0.032184   \n",
      "13     ...     0.423729  0.423729  1.000000  0.002172  0.001967  0.139464   \n",
      "14     ...     0.077301  0.163190  1.000000  0.002198  0.001988  0.001546   \n",
      "15     ...     0.618405  0.618405  1.000000  0.024176  0.208748  0.301391   \n",
      "16     ...     0.089147  0.186047  1.000000  0.002309  0.002086  0.017771   \n",
      "17     ...     0.452196  0.452196  1.000000  0.002309  0.002086  0.106624   \n",
      "18     ...     0.062865  0.105263  1.000000  0.002577  0.002301  0.015679   \n",
      "19     ...     0.644737  0.644737  1.000000  0.002577  0.149597  0.270035   \n",
      "\n",
      "     f1_at_10  f1_at_20  f1_at_30  f1_at_50  \n",
      "0    0.177057  0.203443  0.202337  0.228666  \n",
      "1    0.120948  0.168232  0.170989  0.231622  \n",
      "2    0.023691  0.053991  0.096894  0.165127  \n",
      "3    0.013716  0.050861  0.037048  0.240857  \n",
      "4    0.117207  0.164319  0.153320  0.154784  \n",
      "5    0.135910  0.193271  0.155600  0.240857  \n",
      "6    0.129676  0.160407  0.137361  0.163650  \n",
      "7    0.127182  0.079812  0.058136  0.213521  \n",
      "8    0.220519  0.211480  0.230492  0.248456  \n",
      "9    0.229953  0.237915  0.232713  0.246277  \n",
      "10   0.051887  0.071752  0.113302  0.169270  \n",
      "11   0.001179  0.000755  0.194390  0.176171  \n",
      "12   0.229953  0.225831  0.234935  0.252452  \n",
      "13   0.195755  0.154834  0.208831  0.270251  \n",
      "14   0.033019  0.049094  0.102749  0.166364  \n",
      "15   0.024764  0.268882  0.197723  0.261170  \n",
      "16   0.768080  0.510172  0.371616  0.240857  \n",
      "17   0.812968  0.510172  0.371616  0.240857  \n",
      "18   0.135910  0.163537  0.119122  0.169560  \n",
      "19   0.001247  0.327074  0.238245  0.183967  \n",
      "20   0.786783  0.509390  0.371046  0.240857  \n",
      "21   0.812968  0.510172  0.371616  0.240857  \n",
      "22   0.000000  0.000000  0.000000  0.212782  \n",
      "23   0.592269  0.401408  0.371616  0.240857  \n",
      "24   0.798349  0.558912  0.412663  0.270251  \n",
      "25   0.877358  0.561934  0.413219  0.270251  \n",
      "26   0.268868  0.182024  0.135518  0.181620  \n",
      "27   0.096698  0.062689  0.256595  0.253905  \n",
      "28   0.849057  0.559668  0.412108  0.269887  \n",
      "29   0.877358  0.561934  0.413219  0.270251  \n",
      "..        ...       ...       ...       ...  \n",
      "230  0.001247  0.000782  0.223425  0.187662  \n",
      "231  0.623441  0.412363  0.371616  0.240857  \n",
      "232  0.780660  0.550604  0.412108  0.270251  \n",
      "233  0.877358  0.561934  0.413219  0.270251  \n",
      "234  0.258255  0.260574  0.248264  0.229205  \n",
      "235  0.087264  0.172961  0.127187  0.201598  \n",
      "236  0.852594  0.558157  0.411552  0.269161  \n",
      "237  0.877358  0.561934  0.413219  0.270251  \n",
      "238  0.001179  0.000755  0.287698  0.201961  \n",
      "239  0.731132  0.513595  0.377673  0.270251  \n",
      "0    0.046135  0.028951  0.032488  0.240857  \n",
      "1    0.314214  0.197183  0.143631  0.240857  \n",
      "2    0.070755  0.045317  0.063871  0.270251  \n",
      "3    0.543632  0.348187  0.256040  0.270251  \n",
      "4    0.063681  0.042158  0.112684  0.321802  \n",
      "5    0.325958  0.215791  0.173565  0.321802  \n",
      "6    0.073633  0.048693  0.074886  0.320014  \n",
      "7    0.566324  0.374508  0.279754  0.320014  \n",
      "8    0.067403  0.043413  0.076180  0.278683  \n",
      "9    0.403254  0.259731  0.191554  0.278683  \n",
      "10   0.059684  0.038346  0.062033  0.274937  \n",
      "11   0.568754  0.365414  0.269178  0.274937  \n",
      "12   0.067265  0.043764  0.093514  0.294160  \n",
      "13   0.392377  0.255288  0.189189  0.294160  \n",
      "14   0.071066  0.046137  0.072106  0.290812  \n",
      "15   0.568528  0.369096  0.273245  0.290812  \n",
      "16   0.081033  0.052412  0.080853  0.285556  \n",
      "17   0.411039  0.265856  0.196519  0.285556  \n",
      "18   0.053317  0.033818  0.041475  0.256612  \n",
      "19   0.546807  0.346834  0.254032  0.256612  \n",
      "\n",
      "[260 rows x 30 columns]\n"
     ]
    }
   ],
   "source": [
    "print(results)"
   ]
  },
  {
   "cell_type": "code",
   "execution_count": 5,
   "metadata": {},
   "outputs": [
    {
     "data": {
      "text/html": [
       "<div>\n",
       "<style scoped>\n",
       "    .dataframe tbody tr th:only-of-type {\n",
       "        vertical-align: middle;\n",
       "    }\n",
       "\n",
       "    .dataframe tbody tr th {\n",
       "        vertical-align: top;\n",
       "    }\n",
       "\n",
       "    .dataframe thead th {\n",
       "        text-align: right;\n",
       "    }\n",
       "</style>\n",
       "<table border=\"1\" class=\"dataframe\">\n",
       "  <thead>\n",
       "    <tr style=\"text-align: right;\">\n",
       "      <th></th>\n",
       "      <th>training_dates</th>\n",
       "      <th>testing_dates</th>\n",
       "      <th>model_key</th>\n",
       "      <th>classifier</th>\n",
       "      <th>parameters</th>\n",
       "      <th>feature_sets</th>\n",
       "      <th>outcome</th>\n",
       "      <th>model_result</th>\n",
       "      <th>auc-roc</th>\n",
       "      <th>p_at_1</th>\n",
       "      <th>...</th>\n",
       "      <th>r_at_20</th>\n",
       "      <th>r_at_30</th>\n",
       "      <th>r_at_50</th>\n",
       "      <th>f1_at_1</th>\n",
       "      <th>f1_at_2</th>\n",
       "      <th>f1_at_5</th>\n",
       "      <th>f1_at_10</th>\n",
       "      <th>f1_at_20</th>\n",
       "      <th>f1_at_30</th>\n",
       "      <th>f1_at_50</th>\n",
       "    </tr>\n",
       "  </thead>\n",
       "  <tbody>\n",
       "    <tr>\n",
       "      <th>165</th>\n",
       "      <td>(2006-01-01 00:00:00, 2026-12-31 00:00:00)</td>\n",
       "      <td>(2007-01-01 00:00:00, 2007-12-31 00:00:00)</td>\n",
       "      <td>KNN</td>\n",
       "      <td>KNeighborsClassifier(algorithm='kd_tree', leaf...</td>\n",
       "      <td>{'algorithm': 'kd_tree', 'weights': 'distance'...</td>\n",
       "      <td>[economic, eviction, tract]</td>\n",
       "      <td>top20_rate</td>\n",
       "      <td>None</td>\n",
       "      <td>1.000000</td>\n",
       "      <td>1.000000</td>\n",
       "      <td>...</td>\n",
       "      <td>1.000000</td>\n",
       "      <td>1.000000</td>\n",
       "      <td>1.000000</td>\n",
       "      <td>0.254351</td>\n",
       "      <td>0.451306</td>\n",
       "      <td>0.843972</td>\n",
       "      <td>0.812968</td>\n",
       "      <td>0.510172</td>\n",
       "      <td>0.371616</td>\n",
       "      <td>0.240857</td>\n",
       "    </tr>\n",
       "    <tr>\n",
       "      <th>21</th>\n",
       "      <td>(2006-01-01 00:00:00, 2008-12-31 00:00:00)</td>\n",
       "      <td>(2007-01-01 00:00:00, 2007-12-31 00:00:00)</td>\n",
       "      <td>KNN</td>\n",
       "      <td>KNeighborsClassifier(algorithm='kd_tree', leaf...</td>\n",
       "      <td>{'algorithm': 'kd_tree', 'weights': 'distance'...</td>\n",
       "      <td>[eviction]</td>\n",
       "      <td>top20_rate</td>\n",
       "      <td>None</td>\n",
       "      <td>1.000000</td>\n",
       "      <td>1.000000</td>\n",
       "      <td>...</td>\n",
       "      <td>1.000000</td>\n",
       "      <td>1.000000</td>\n",
       "      <td>1.000000</td>\n",
       "      <td>0.254351</td>\n",
       "      <td>0.451306</td>\n",
       "      <td>0.843972</td>\n",
       "      <td>0.812968</td>\n",
       "      <td>0.510172</td>\n",
       "      <td>0.371616</td>\n",
       "      <td>0.240857</td>\n",
       "    </tr>\n",
       "    <tr>\n",
       "      <th>221</th>\n",
       "      <td>(2006-01-01 00:00:00, 2033-12-31 00:00:00)</td>\n",
       "      <td>(2007-01-01 00:00:00, 2007-12-31 00:00:00)</td>\n",
       "      <td>KNN</td>\n",
       "      <td>KNeighborsClassifier(algorithm='kd_tree', leaf...</td>\n",
       "      <td>{'algorithm': 'kd_tree', 'weights': 'distance'...</td>\n",
       "      <td>[eviction, tract, demographic]</td>\n",
       "      <td>top20_num</td>\n",
       "      <td>None</td>\n",
       "      <td>1.000000</td>\n",
       "      <td>1.000000</td>\n",
       "      <td>...</td>\n",
       "      <td>1.000000</td>\n",
       "      <td>1.000000</td>\n",
       "      <td>1.000000</td>\n",
       "      <td>0.226460</td>\n",
       "      <td>0.406852</td>\n",
       "      <td>0.780328</td>\n",
       "      <td>0.877358</td>\n",
       "      <td>0.561934</td>\n",
       "      <td>0.413219</td>\n",
       "      <td>0.270251</td>\n",
       "    </tr>\n",
       "    <tr>\n",
       "      <th>29</th>\n",
       "      <td>(2006-01-01 00:00:00, 2009-12-31 00:00:00)</td>\n",
       "      <td>(2007-01-01 00:00:00, 2007-12-31 00:00:00)</td>\n",
       "      <td>KNN</td>\n",
       "      <td>KNeighborsClassifier(algorithm='kd_tree', leaf...</td>\n",
       "      <td>{'algorithm': 'kd_tree', 'weights': 'distance'...</td>\n",
       "      <td>[eviction]</td>\n",
       "      <td>top20_num</td>\n",
       "      <td>None</td>\n",
       "      <td>1.000000</td>\n",
       "      <td>1.000000</td>\n",
       "      <td>...</td>\n",
       "      <td>1.000000</td>\n",
       "      <td>1.000000</td>\n",
       "      <td>1.000000</td>\n",
       "      <td>0.226460</td>\n",
       "      <td>0.406852</td>\n",
       "      <td>0.780328</td>\n",
       "      <td>0.877358</td>\n",
       "      <td>0.561934</td>\n",
       "      <td>0.413219</td>\n",
       "      <td>0.270251</td>\n",
       "    </tr>\n",
       "    <tr>\n",
       "      <th>173</th>\n",
       "      <td>(2006-01-01 00:00:00, 2027-12-31 00:00:00)</td>\n",
       "      <td>(2007-01-01 00:00:00, 2007-12-31 00:00:00)</td>\n",
       "      <td>KNN</td>\n",
       "      <td>KNeighborsClassifier(algorithm='kd_tree', leaf...</td>\n",
       "      <td>{'algorithm': 'kd_tree', 'weights': 'distance'...</td>\n",
       "      <td>[economic, eviction, tract]</td>\n",
       "      <td>top20_num</td>\n",
       "      <td>None</td>\n",
       "      <td>1.000000</td>\n",
       "      <td>1.000000</td>\n",
       "      <td>...</td>\n",
       "      <td>1.000000</td>\n",
       "      <td>1.000000</td>\n",
       "      <td>1.000000</td>\n",
       "      <td>0.226460</td>\n",
       "      <td>0.406852</td>\n",
       "      <td>0.780328</td>\n",
       "      <td>0.877358</td>\n",
       "      <td>0.561934</td>\n",
       "      <td>0.413219</td>\n",
       "      <td>0.270251</td>\n",
       "    </tr>\n",
       "    <tr>\n",
       "      <th>141</th>\n",
       "      <td>(2006-01-01 00:00:00, 2023-12-31 00:00:00)</td>\n",
       "      <td>(2007-01-01 00:00:00, 2007-12-31 00:00:00)</td>\n",
       "      <td>KNN</td>\n",
       "      <td>KNeighborsClassifier(algorithm='kd_tree', leaf...</td>\n",
       "      <td>{'algorithm': 'kd_tree', 'weights': 'distance'...</td>\n",
       "      <td>[eviction, demographic]</td>\n",
       "      <td>top20_num</td>\n",
       "      <td>None</td>\n",
       "      <td>1.000000</td>\n",
       "      <td>1.000000</td>\n",
       "      <td>...</td>\n",
       "      <td>1.000000</td>\n",
       "      <td>1.000000</td>\n",
       "      <td>1.000000</td>\n",
       "      <td>0.226460</td>\n",
       "      <td>0.406852</td>\n",
       "      <td>0.780328</td>\n",
       "      <td>0.877358</td>\n",
       "      <td>0.561934</td>\n",
       "      <td>0.413219</td>\n",
       "      <td>0.270251</td>\n",
       "    </tr>\n",
       "    <tr>\n",
       "      <th>213</th>\n",
       "      <td>(2006-01-01 00:00:00, 2032-12-31 00:00:00)</td>\n",
       "      <td>(2007-01-01 00:00:00, 2007-12-31 00:00:00)</td>\n",
       "      <td>KNN</td>\n",
       "      <td>KNeighborsClassifier(algorithm='kd_tree', leaf...</td>\n",
       "      <td>{'algorithm': 'kd_tree', 'weights': 'distance'...</td>\n",
       "      <td>[eviction, tract, demographic]</td>\n",
       "      <td>top20_rate</td>\n",
       "      <td>None</td>\n",
       "      <td>1.000000</td>\n",
       "      <td>1.000000</td>\n",
       "      <td>...</td>\n",
       "      <td>1.000000</td>\n",
       "      <td>1.000000</td>\n",
       "      <td>1.000000</td>\n",
       "      <td>0.254351</td>\n",
       "      <td>0.451306</td>\n",
       "      <td>0.843972</td>\n",
       "      <td>0.812968</td>\n",
       "      <td>0.510172</td>\n",
       "      <td>0.371616</td>\n",
       "      <td>0.240857</td>\n",
       "    </tr>\n",
       "    <tr>\n",
       "      <th>133</th>\n",
       "      <td>(2006-01-01 00:00:00, 2022-12-31 00:00:00)</td>\n",
       "      <td>(2007-01-01 00:00:00, 2007-12-31 00:00:00)</td>\n",
       "      <td>KNN</td>\n",
       "      <td>KNeighborsClassifier(algorithm='kd_tree', leaf...</td>\n",
       "      <td>{'algorithm': 'kd_tree', 'weights': 'distance'...</td>\n",
       "      <td>[eviction, demographic]</td>\n",
       "      <td>top20_rate</td>\n",
       "      <td>None</td>\n",
       "      <td>1.000000</td>\n",
       "      <td>1.000000</td>\n",
       "      <td>...</td>\n",
       "      <td>1.000000</td>\n",
       "      <td>1.000000</td>\n",
       "      <td>1.000000</td>\n",
       "      <td>0.254351</td>\n",
       "      <td>0.451306</td>\n",
       "      <td>0.843972</td>\n",
       "      <td>0.812968</td>\n",
       "      <td>0.510172</td>\n",
       "      <td>0.371616</td>\n",
       "      <td>0.240857</td>\n",
       "    </tr>\n",
       "    <tr>\n",
       "      <th>53</th>\n",
       "      <td>(2006-01-01 00:00:00, 2012-12-31 00:00:00)</td>\n",
       "      <td>(2007-01-01 00:00:00, 2007-12-31 00:00:00)</td>\n",
       "      <td>KNN</td>\n",
       "      <td>KNeighborsClassifier(algorithm='kd_tree', leaf...</td>\n",
       "      <td>{'algorithm': 'kd_tree', 'weights': 'distance'...</td>\n",
       "      <td>[demographic]</td>\n",
       "      <td>top20_rate</td>\n",
       "      <td>None</td>\n",
       "      <td>1.000000</td>\n",
       "      <td>1.000000</td>\n",
       "      <td>...</td>\n",
       "      <td>1.000000</td>\n",
       "      <td>1.000000</td>\n",
       "      <td>1.000000</td>\n",
       "      <td>0.254351</td>\n",
       "      <td>0.451306</td>\n",
       "      <td>0.843972</td>\n",
       "      <td>0.812968</td>\n",
       "      <td>0.510172</td>\n",
       "      <td>0.371616</td>\n",
       "      <td>0.240857</td>\n",
       "    </tr>\n",
       "    <tr>\n",
       "      <th>125</th>\n",
       "      <td>(2006-01-01 00:00:00, 2021-12-31 00:00:00)</td>\n",
       "      <td>(2007-01-01 00:00:00, 2007-12-31 00:00:00)</td>\n",
       "      <td>KNN</td>\n",
       "      <td>KNeighborsClassifier(algorithm='kd_tree', leaf...</td>\n",
       "      <td>{'algorithm': 'kd_tree', 'weights': 'distance'...</td>\n",
       "      <td>[eviction, tract]</td>\n",
       "      <td>top20_num</td>\n",
       "      <td>None</td>\n",
       "      <td>1.000000</td>\n",
       "      <td>1.000000</td>\n",
       "      <td>...</td>\n",
       "      <td>1.000000</td>\n",
       "      <td>1.000000</td>\n",
       "      <td>1.000000</td>\n",
       "      <td>0.226460</td>\n",
       "      <td>0.406852</td>\n",
       "      <td>0.780328</td>\n",
       "      <td>0.877358</td>\n",
       "      <td>0.561934</td>\n",
       "      <td>0.413219</td>\n",
       "      <td>0.270251</td>\n",
       "    </tr>\n",
       "    <tr>\n",
       "      <th>61</th>\n",
       "      <td>(2006-01-01 00:00:00, 2013-12-31 00:00:00)</td>\n",
       "      <td>(2007-01-01 00:00:00, 2007-12-31 00:00:00)</td>\n",
       "      <td>KNN</td>\n",
       "      <td>KNeighborsClassifier(algorithm='kd_tree', leaf...</td>\n",
       "      <td>{'algorithm': 'kd_tree', 'weights': 'distance'...</td>\n",
       "      <td>[demographic]</td>\n",
       "      <td>top20_num</td>\n",
       "      <td>None</td>\n",
       "      <td>1.000000</td>\n",
       "      <td>1.000000</td>\n",
       "      <td>...</td>\n",
       "      <td>1.000000</td>\n",
       "      <td>1.000000</td>\n",
       "      <td>1.000000</td>\n",
       "      <td>0.226460</td>\n",
       "      <td>0.406852</td>\n",
       "      <td>0.780328</td>\n",
       "      <td>0.877358</td>\n",
       "      <td>0.561934</td>\n",
       "      <td>0.413219</td>\n",
       "      <td>0.270251</td>\n",
       "    </tr>\n",
       "    <tr>\n",
       "      <th>181</th>\n",
       "      <td>(2006-01-01 00:00:00, 2028-12-31 00:00:00)</td>\n",
       "      <td>(2007-01-01 00:00:00, 2007-12-31 00:00:00)</td>\n",
       "      <td>KNN</td>\n",
       "      <td>KNeighborsClassifier(algorithm='kd_tree', leaf...</td>\n",
       "      <td>{'algorithm': 'kd_tree', 'weights': 'distance'...</td>\n",
       "      <td>[economic, eviction, demographic]</td>\n",
       "      <td>top20_rate</td>\n",
       "      <td>None</td>\n",
       "      <td>1.000000</td>\n",
       "      <td>1.000000</td>\n",
       "      <td>...</td>\n",
       "      <td>1.000000</td>\n",
       "      <td>1.000000</td>\n",
       "      <td>1.000000</td>\n",
       "      <td>0.254351</td>\n",
       "      <td>0.451306</td>\n",
       "      <td>0.843972</td>\n",
       "      <td>0.812968</td>\n",
       "      <td>0.510172</td>\n",
       "      <td>0.371616</td>\n",
       "      <td>0.240857</td>\n",
       "    </tr>\n",
       "    <tr>\n",
       "      <th>205</th>\n",
       "      <td>(2006-01-01 00:00:00, 2031-12-31 00:00:00)</td>\n",
       "      <td>(2007-01-01 00:00:00, 2007-12-31 00:00:00)</td>\n",
       "      <td>KNN</td>\n",
       "      <td>KNeighborsClassifier(algorithm='kd_tree', leaf...</td>\n",
       "      <td>{'algorithm': 'kd_tree', 'weights': 'distance'...</td>\n",
       "      <td>[economic, tract, demographic]</td>\n",
       "      <td>top20_num</td>\n",
       "      <td>None</td>\n",
       "      <td>1.000000</td>\n",
       "      <td>1.000000</td>\n",
       "      <td>...</td>\n",
       "      <td>1.000000</td>\n",
       "      <td>1.000000</td>\n",
       "      <td>1.000000</td>\n",
       "      <td>0.226460</td>\n",
       "      <td>0.406852</td>\n",
       "      <td>0.780328</td>\n",
       "      <td>0.877358</td>\n",
       "      <td>0.561934</td>\n",
       "      <td>0.413219</td>\n",
       "      <td>0.270251</td>\n",
       "    </tr>\n",
       "    <tr>\n",
       "      <th>69</th>\n",
       "      <td>(2006-01-01 00:00:00, 2014-12-31 00:00:00)</td>\n",
       "      <td>(2007-01-01 00:00:00, 2007-12-31 00:00:00)</td>\n",
       "      <td>KNN</td>\n",
       "      <td>KNeighborsClassifier(algorithm='kd_tree', leaf...</td>\n",
       "      <td>{'algorithm': 'kd_tree', 'weights': 'distance'...</td>\n",
       "      <td>[economic, eviction]</td>\n",
       "      <td>top20_rate</td>\n",
       "      <td>None</td>\n",
       "      <td>1.000000</td>\n",
       "      <td>1.000000</td>\n",
       "      <td>...</td>\n",
       "      <td>1.000000</td>\n",
       "      <td>1.000000</td>\n",
       "      <td>1.000000</td>\n",
       "      <td>0.254351</td>\n",
       "      <td>0.451306</td>\n",
       "      <td>0.843972</td>\n",
       "      <td>0.812968</td>\n",
       "      <td>0.510172</td>\n",
       "      <td>0.371616</td>\n",
       "      <td>0.240857</td>\n",
       "    </tr>\n",
       "    <tr>\n",
       "      <th>77</th>\n",
       "      <td>(2006-01-01 00:00:00, 2015-12-31 00:00:00)</td>\n",
       "      <td>(2007-01-01 00:00:00, 2007-12-31 00:00:00)</td>\n",
       "      <td>KNN</td>\n",
       "      <td>KNeighborsClassifier(algorithm='kd_tree', leaf...</td>\n",
       "      <td>{'algorithm': 'kd_tree', 'weights': 'distance'...</td>\n",
       "      <td>[economic, eviction]</td>\n",
       "      <td>top20_num</td>\n",
       "      <td>None</td>\n",
       "      <td>1.000000</td>\n",
       "      <td>1.000000</td>\n",
       "      <td>...</td>\n",
       "      <td>1.000000</td>\n",
       "      <td>1.000000</td>\n",
       "      <td>1.000000</td>\n",
       "      <td>0.226460</td>\n",
       "      <td>0.406852</td>\n",
       "      <td>0.780328</td>\n",
       "      <td>0.877358</td>\n",
       "      <td>0.561934</td>\n",
       "      <td>0.413219</td>\n",
       "      <td>0.270251</td>\n",
       "    </tr>\n",
       "    <tr>\n",
       "      <th>117</th>\n",
       "      <td>(2006-01-01 00:00:00, 2020-12-31 00:00:00)</td>\n",
       "      <td>(2007-01-01 00:00:00, 2007-12-31 00:00:00)</td>\n",
       "      <td>KNN</td>\n",
       "      <td>KNeighborsClassifier(algorithm='kd_tree', leaf...</td>\n",
       "      <td>{'algorithm': 'kd_tree', 'weights': 'distance'...</td>\n",
       "      <td>[eviction, tract]</td>\n",
       "      <td>top20_rate</td>\n",
       "      <td>None</td>\n",
       "      <td>1.000000</td>\n",
       "      <td>1.000000</td>\n",
       "      <td>...</td>\n",
       "      <td>1.000000</td>\n",
       "      <td>1.000000</td>\n",
       "      <td>1.000000</td>\n",
       "      <td>0.254351</td>\n",
       "      <td>0.451306</td>\n",
       "      <td>0.843972</td>\n",
       "      <td>0.812968</td>\n",
       "      <td>0.510172</td>\n",
       "      <td>0.371616</td>\n",
       "      <td>0.240857</td>\n",
       "    </tr>\n",
       "    <tr>\n",
       "      <th>197</th>\n",
       "      <td>(2006-01-01 00:00:00, 2030-12-31 00:00:00)</td>\n",
       "      <td>(2007-01-01 00:00:00, 2007-12-31 00:00:00)</td>\n",
       "      <td>KNN</td>\n",
       "      <td>KNeighborsClassifier(algorithm='kd_tree', leaf...</td>\n",
       "      <td>{'algorithm': 'kd_tree', 'weights': 'distance'...</td>\n",
       "      <td>[economic, tract, demographic]</td>\n",
       "      <td>top20_rate</td>\n",
       "      <td>None</td>\n",
       "      <td>1.000000</td>\n",
       "      <td>1.000000</td>\n",
       "      <td>...</td>\n",
       "      <td>1.000000</td>\n",
       "      <td>1.000000</td>\n",
       "      <td>1.000000</td>\n",
       "      <td>0.254351</td>\n",
       "      <td>0.451306</td>\n",
       "      <td>0.843972</td>\n",
       "      <td>0.812968</td>\n",
       "      <td>0.510172</td>\n",
       "      <td>0.371616</td>\n",
       "      <td>0.240857</td>\n",
       "    </tr>\n",
       "    <tr>\n",
       "      <th>109</th>\n",
       "      <td>(2006-01-01 00:00:00, 2019-12-31 00:00:00)</td>\n",
       "      <td>(2007-01-01 00:00:00, 2007-12-31 00:00:00)</td>\n",
       "      <td>KNN</td>\n",
       "      <td>KNeighborsClassifier(algorithm='kd_tree', leaf...</td>\n",
       "      <td>{'algorithm': 'kd_tree', 'weights': 'distance'...</td>\n",
       "      <td>[economic, demographic]</td>\n",
       "      <td>top20_num</td>\n",
       "      <td>None</td>\n",
       "      <td>1.000000</td>\n",
       "      <td>1.000000</td>\n",
       "      <td>...</td>\n",
       "      <td>1.000000</td>\n",
       "      <td>1.000000</td>\n",
       "      <td>1.000000</td>\n",
       "      <td>0.226460</td>\n",
       "      <td>0.406852</td>\n",
       "      <td>0.780328</td>\n",
       "      <td>0.877358</td>\n",
       "      <td>0.561934</td>\n",
       "      <td>0.413219</td>\n",
       "      <td>0.270251</td>\n",
       "    </tr>\n",
       "    <tr>\n",
       "      <th>189</th>\n",
       "      <td>(2006-01-01 00:00:00, 2029-12-31 00:00:00)</td>\n",
       "      <td>(2007-01-01 00:00:00, 2007-12-31 00:00:00)</td>\n",
       "      <td>KNN</td>\n",
       "      <td>KNeighborsClassifier(algorithm='kd_tree', leaf...</td>\n",
       "      <td>{'algorithm': 'kd_tree', 'weights': 'distance'...</td>\n",
       "      <td>[economic, eviction, demographic]</td>\n",
       "      <td>top20_num</td>\n",
       "      <td>None</td>\n",
       "      <td>1.000000</td>\n",
       "      <td>1.000000</td>\n",
       "      <td>...</td>\n",
       "      <td>1.000000</td>\n",
       "      <td>1.000000</td>\n",
       "      <td>1.000000</td>\n",
       "      <td>0.226460</td>\n",
       "      <td>0.406852</td>\n",
       "      <td>0.780328</td>\n",
       "      <td>0.877358</td>\n",
       "      <td>0.561934</td>\n",
       "      <td>0.413219</td>\n",
       "      <td>0.270251</td>\n",
       "    </tr>\n",
       "    <tr>\n",
       "      <th>149</th>\n",
       "      <td>(2006-01-01 00:00:00, 2024-12-31 00:00:00)</td>\n",
       "      <td>(2007-01-01 00:00:00, 2007-12-31 00:00:00)</td>\n",
       "      <td>KNN</td>\n",
       "      <td>KNeighborsClassifier(algorithm='kd_tree', leaf...</td>\n",
       "      <td>{'algorithm': 'kd_tree', 'weights': 'distance'...</td>\n",
       "      <td>[tract, demographic]</td>\n",
       "      <td>top20_rate</td>\n",
       "      <td>None</td>\n",
       "      <td>1.000000</td>\n",
       "      <td>1.000000</td>\n",
       "      <td>...</td>\n",
       "      <td>1.000000</td>\n",
       "      <td>1.000000</td>\n",
       "      <td>1.000000</td>\n",
       "      <td>0.254351</td>\n",
       "      <td>0.451306</td>\n",
       "      <td>0.843972</td>\n",
       "      <td>0.812968</td>\n",
       "      <td>0.510172</td>\n",
       "      <td>0.371616</td>\n",
       "      <td>0.240857</td>\n",
       "    </tr>\n",
       "    <tr>\n",
       "      <th>101</th>\n",
       "      <td>(2006-01-01 00:00:00, 2018-12-31 00:00:00)</td>\n",
       "      <td>(2007-01-01 00:00:00, 2007-12-31 00:00:00)</td>\n",
       "      <td>KNN</td>\n",
       "      <td>KNeighborsClassifier(algorithm='kd_tree', leaf...</td>\n",
       "      <td>{'algorithm': 'kd_tree', 'weights': 'distance'...</td>\n",
       "      <td>[economic, demographic]</td>\n",
       "      <td>top20_rate</td>\n",
       "      <td>None</td>\n",
       "      <td>1.000000</td>\n",
       "      <td>1.000000</td>\n",
       "      <td>...</td>\n",
       "      <td>1.000000</td>\n",
       "      <td>1.000000</td>\n",
       "      <td>1.000000</td>\n",
       "      <td>0.254351</td>\n",
       "      <td>0.451306</td>\n",
       "      <td>0.843972</td>\n",
       "      <td>0.812968</td>\n",
       "      <td>0.510172</td>\n",
       "      <td>0.371616</td>\n",
       "      <td>0.240857</td>\n",
       "    </tr>\n",
       "    <tr>\n",
       "      <th>229</th>\n",
       "      <td>(2006-01-01 00:00:00, 2034-12-31 00:00:00)</td>\n",
       "      <td>(2007-01-01 00:00:00, 2007-12-31 00:00:00)</td>\n",
       "      <td>KNN</td>\n",
       "      <td>KNeighborsClassifier(algorithm='kd_tree', leaf...</td>\n",
       "      <td>{'algorithm': 'kd_tree', 'weights': 'distance'...</td>\n",
       "      <td>[economic, eviction, tract, demographic]</td>\n",
       "      <td>top20_rate</td>\n",
       "      <td>None</td>\n",
       "      <td>1.000000</td>\n",
       "      <td>1.000000</td>\n",
       "      <td>...</td>\n",
       "      <td>1.000000</td>\n",
       "      <td>1.000000</td>\n",
       "      <td>1.000000</td>\n",
       "      <td>0.254351</td>\n",
       "      <td>0.451306</td>\n",
       "      <td>0.843972</td>\n",
       "      <td>0.812968</td>\n",
       "      <td>0.510172</td>\n",
       "      <td>0.371616</td>\n",
       "      <td>0.240857</td>\n",
       "    </tr>\n",
       "    <tr>\n",
       "      <th>157</th>\n",
       "      <td>(2006-01-01 00:00:00, 2025-12-31 00:00:00)</td>\n",
       "      <td>(2007-01-01 00:00:00, 2007-12-31 00:00:00)</td>\n",
       "      <td>KNN</td>\n",
       "      <td>KNeighborsClassifier(algorithm='kd_tree', leaf...</td>\n",
       "      <td>{'algorithm': 'kd_tree', 'weights': 'distance'...</td>\n",
       "      <td>[tract, demographic]</td>\n",
       "      <td>top20_num</td>\n",
       "      <td>None</td>\n",
       "      <td>1.000000</td>\n",
       "      <td>1.000000</td>\n",
       "      <td>...</td>\n",
       "      <td>1.000000</td>\n",
       "      <td>1.000000</td>\n",
       "      <td>1.000000</td>\n",
       "      <td>0.226460</td>\n",
       "      <td>0.406852</td>\n",
       "      <td>0.780328</td>\n",
       "      <td>0.877358</td>\n",
       "      <td>0.561934</td>\n",
       "      <td>0.413219</td>\n",
       "      <td>0.270251</td>\n",
       "    </tr>\n",
       "    <tr>\n",
       "      <th>237</th>\n",
       "      <td>(2006-01-01 00:00:00, 2035-12-31 00:00:00)</td>\n",
       "      <td>(2007-01-01 00:00:00, 2007-12-31 00:00:00)</td>\n",
       "      <td>KNN</td>\n",
       "      <td>KNeighborsClassifier(algorithm='kd_tree', leaf...</td>\n",
       "      <td>{'algorithm': 'kd_tree', 'weights': 'distance'...</td>\n",
       "      <td>[economic, eviction, tract, demographic]</td>\n",
       "      <td>top20_num</td>\n",
       "      <td>None</td>\n",
       "      <td>1.000000</td>\n",
       "      <td>1.000000</td>\n",
       "      <td>...</td>\n",
       "      <td>1.000000</td>\n",
       "      <td>1.000000</td>\n",
       "      <td>1.000000</td>\n",
       "      <td>0.226460</td>\n",
       "      <td>0.406852</td>\n",
       "      <td>0.780328</td>\n",
       "      <td>0.877358</td>\n",
       "      <td>0.561934</td>\n",
       "      <td>0.413219</td>\n",
       "      <td>0.270251</td>\n",
       "    </tr>\n",
       "    <tr>\n",
       "      <th>169</th>\n",
       "      <td>(2006-01-01 00:00:00, 2027-12-31 00:00:00)</td>\n",
       "      <td>(2007-01-01 00:00:00, 2007-12-31 00:00:00)</td>\n",
       "      <td>DT</td>\n",
       "      <td>DecisionTreeClassifier(class_weight=None, crit...</td>\n",
       "      <td>{'criterion': 'gini', 'max_depth': 20, 'min_sa...</td>\n",
       "      <td>[economic, eviction, tract]</td>\n",
       "      <td>top20_num</td>\n",
       "      <td>DT: tree_viz: tree_viz169.png</td>\n",
       "      <td>0.999943</td>\n",
       "      <td>1.000000</td>\n",
       "      <td>...</td>\n",
       "      <td>1.000000</td>\n",
       "      <td>1.000000</td>\n",
       "      <td>1.000000</td>\n",
       "      <td>0.226460</td>\n",
       "      <td>0.406852</td>\n",
       "      <td>0.780328</td>\n",
       "      <td>0.877358</td>\n",
       "      <td>0.561934</td>\n",
       "      <td>0.413219</td>\n",
       "      <td>0.270251</td>\n",
       "    </tr>\n",
       "    <tr>\n",
       "      <th>121</th>\n",
       "      <td>(2006-01-01 00:00:00, 2021-12-31 00:00:00)</td>\n",
       "      <td>(2007-01-01 00:00:00, 2007-12-31 00:00:00)</td>\n",
       "      <td>DT</td>\n",
       "      <td>DecisionTreeClassifier(class_weight=None, crit...</td>\n",
       "      <td>{'criterion': 'gini', 'max_depth': 20, 'min_sa...</td>\n",
       "      <td>[eviction, tract]</td>\n",
       "      <td>top20_num</td>\n",
       "      <td>DT: tree_viz: tree_viz121.png</td>\n",
       "      <td>0.999941</td>\n",
       "      <td>1.000000</td>\n",
       "      <td>...</td>\n",
       "      <td>1.000000</td>\n",
       "      <td>1.000000</td>\n",
       "      <td>1.000000</td>\n",
       "      <td>0.226460</td>\n",
       "      <td>0.406852</td>\n",
       "      <td>0.780328</td>\n",
       "      <td>0.877358</td>\n",
       "      <td>0.561934</td>\n",
       "      <td>0.413219</td>\n",
       "      <td>0.270251</td>\n",
       "    </tr>\n",
       "    <tr>\n",
       "      <th>209</th>\n",
       "      <td>(2006-01-01 00:00:00, 2032-12-31 00:00:00)</td>\n",
       "      <td>(2007-01-01 00:00:00, 2007-12-31 00:00:00)</td>\n",
       "      <td>DT</td>\n",
       "      <td>DecisionTreeClassifier(class_weight=None, crit...</td>\n",
       "      <td>{'criterion': 'gini', 'max_depth': 20, 'min_sa...</td>\n",
       "      <td>[eviction, tract, demographic]</td>\n",
       "      <td>top20_rate</td>\n",
       "      <td>DT: tree_viz: tree_viz209.png</td>\n",
       "      <td>0.999934</td>\n",
       "      <td>1.000000</td>\n",
       "      <td>...</td>\n",
       "      <td>1.000000</td>\n",
       "      <td>1.000000</td>\n",
       "      <td>1.000000</td>\n",
       "      <td>0.254351</td>\n",
       "      <td>0.451306</td>\n",
       "      <td>0.843972</td>\n",
       "      <td>0.812968</td>\n",
       "      <td>0.510172</td>\n",
       "      <td>0.371616</td>\n",
       "      <td>0.240857</td>\n",
       "    </tr>\n",
       "    <tr>\n",
       "      <th>225</th>\n",
       "      <td>(2006-01-01 00:00:00, 2034-12-31 00:00:00)</td>\n",
       "      <td>(2007-01-01 00:00:00, 2007-12-31 00:00:00)</td>\n",
       "      <td>DT</td>\n",
       "      <td>DecisionTreeClassifier(class_weight=None, crit...</td>\n",
       "      <td>{'criterion': 'gini', 'max_depth': 20, 'min_sa...</td>\n",
       "      <td>[economic, eviction, tract, demographic]</td>\n",
       "      <td>top20_rate</td>\n",
       "      <td>DT: tree_viz: tree_viz225.png</td>\n",
       "      <td>0.999912</td>\n",
       "      <td>1.000000</td>\n",
       "      <td>...</td>\n",
       "      <td>1.000000</td>\n",
       "      <td>1.000000</td>\n",
       "      <td>1.000000</td>\n",
       "      <td>0.254351</td>\n",
       "      <td>0.451306</td>\n",
       "      <td>0.843972</td>\n",
       "      <td>0.812968</td>\n",
       "      <td>0.510172</td>\n",
       "      <td>0.371616</td>\n",
       "      <td>0.240857</td>\n",
       "    </tr>\n",
       "    <tr>\n",
       "      <th>185</th>\n",
       "      <td>(2006-01-01 00:00:00, 2029-12-31 00:00:00)</td>\n",
       "      <td>(2007-01-01 00:00:00, 2007-12-31 00:00:00)</td>\n",
       "      <td>DT</td>\n",
       "      <td>DecisionTreeClassifier(class_weight=None, crit...</td>\n",
       "      <td>{'criterion': 'gini', 'max_depth': 20, 'min_sa...</td>\n",
       "      <td>[economic, eviction, demographic]</td>\n",
       "      <td>top20_num</td>\n",
       "      <td>DT: tree_viz: tree_viz185.png</td>\n",
       "      <td>0.999912</td>\n",
       "      <td>1.000000</td>\n",
       "      <td>...</td>\n",
       "      <td>1.000000</td>\n",
       "      <td>1.000000</td>\n",
       "      <td>1.000000</td>\n",
       "      <td>0.226460</td>\n",
       "      <td>0.406852</td>\n",
       "      <td>0.780328</td>\n",
       "      <td>0.877358</td>\n",
       "      <td>0.561934</td>\n",
       "      <td>0.413219</td>\n",
       "      <td>0.270251</td>\n",
       "    </tr>\n",
       "    <tr>\n",
       "      <th>177</th>\n",
       "      <td>(2006-01-01 00:00:00, 2028-12-31 00:00:00)</td>\n",
       "      <td>(2007-01-01 00:00:00, 2007-12-31 00:00:00)</td>\n",
       "      <td>DT</td>\n",
       "      <td>DecisionTreeClassifier(class_weight=None, crit...</td>\n",
       "      <td>{'criterion': 'gini', 'max_depth': 20, 'min_sa...</td>\n",
       "      <td>[economic, eviction, demographic]</td>\n",
       "      <td>top20_rate</td>\n",
       "      <td>DT: tree_viz: tree_viz177.png</td>\n",
       "      <td>0.999908</td>\n",
       "      <td>1.000000</td>\n",
       "      <td>...</td>\n",
       "      <td>1.000000</td>\n",
       "      <td>1.000000</td>\n",
       "      <td>1.000000</td>\n",
       "      <td>0.254351</td>\n",
       "      <td>0.451306</td>\n",
       "      <td>0.843972</td>\n",
       "      <td>0.812968</td>\n",
       "      <td>0.510172</td>\n",
       "      <td>0.371616</td>\n",
       "      <td>0.240857</td>\n",
       "    </tr>\n",
       "    <tr>\n",
       "      <th>...</th>\n",
       "      <td>...</td>\n",
       "      <td>...</td>\n",
       "      <td>...</td>\n",
       "      <td>...</td>\n",
       "      <td>...</td>\n",
       "      <td>...</td>\n",
       "      <td>...</td>\n",
       "      <td>...</td>\n",
       "      <td>...</td>\n",
       "      <td>...</td>\n",
       "      <td>...</td>\n",
       "      <td>...</td>\n",
       "      <td>...</td>\n",
       "      <td>...</td>\n",
       "      <td>...</td>\n",
       "      <td>...</td>\n",
       "      <td>...</td>\n",
       "      <td>...</td>\n",
       "      <td>...</td>\n",
       "      <td>...</td>\n",
       "      <td>...</td>\n",
       "    </tr>\n",
       "    <tr>\n",
       "      <th>11</th>\n",
       "      <td>(2006-01-01 00:00:00, 2007-12-31 00:00:00)</td>\n",
       "      <td>(2007-01-01 00:00:00, 2007-12-31 00:00:00)</td>\n",
       "      <td>BAG</td>\n",
       "      <td>(DecisionTreeClassifier(class_weight=None, cri...</td>\n",
       "      <td>{'max_samples': 5, 'n_estimators': 5, 'max_fea...</td>\n",
       "      <td>[economic]</td>\n",
       "      <td>top20_num</td>\n",
       "      <td>BAG: base_estimator: DecisionTreeClassifier(cl...</td>\n",
       "      <td>0.549285</td>\n",
       "      <td>0.010526</td>\n",
       "      <td>...</td>\n",
       "      <td>0.001344</td>\n",
       "      <td>0.470430</td>\n",
       "      <td>0.651882</td>\n",
       "      <td>0.002384</td>\n",
       "      <td>0.002141</td>\n",
       "      <td>0.001639</td>\n",
       "      <td>0.001179</td>\n",
       "      <td>0.000755</td>\n",
       "      <td>0.194390</td>\n",
       "      <td>0.176171</td>\n",
       "    </tr>\n",
       "    <tr>\n",
       "      <th>2</th>\n",
       "      <td>(2006-01-01 00:00:00, 2006-12-31 00:00:00)</td>\n",
       "      <td>(2007-01-01 00:00:00, 2007-12-31 00:00:00)</td>\n",
       "      <td>LR</td>\n",
       "      <td>LogisticRegression(C=0.01, class_weight=None, ...</td>\n",
       "      <td>{'penalty': 'l2', 'C': 0.01}</td>\n",
       "      <td>[economic]</td>\n",
       "      <td>top20_rate</td>\n",
       "      <td>LR: coefficients:             coef            ...</td>\n",
       "      <td>0.546856</td>\n",
       "      <td>0.021053</td>\n",
       "      <td>...</td>\n",
       "      <td>0.105828</td>\n",
       "      <td>0.260736</td>\n",
       "      <td>0.685583</td>\n",
       "      <td>0.005355</td>\n",
       "      <td>0.014252</td>\n",
       "      <td>0.014184</td>\n",
       "      <td>0.023691</td>\n",
       "      <td>0.053991</td>\n",
       "      <td>0.096894</td>\n",
       "      <td>0.165127</td>\n",
       "    </tr>\n",
       "    <tr>\n",
       "      <th>179</th>\n",
       "      <td>(2006-01-01 00:00:00, 2028-12-31 00:00:00)</td>\n",
       "      <td>(2007-01-01 00:00:00, 2007-12-31 00:00:00)</td>\n",
       "      <td>BAG</td>\n",
       "      <td>(DecisionTreeClassifier(class_weight=None, cri...</td>\n",
       "      <td>{'max_samples': 5, 'n_estimators': 5, 'max_fea...</td>\n",
       "      <td>[economic, eviction, demographic]</td>\n",
       "      <td>top20_rate</td>\n",
       "      <td>BAG: base_estimator: DecisionTreeClassifier(cl...</td>\n",
       "      <td>0.540148</td>\n",
       "      <td>0.010526</td>\n",
       "      <td>...</td>\n",
       "      <td>0.171779</td>\n",
       "      <td>0.171779</td>\n",
       "      <td>1.000000</td>\n",
       "      <td>0.002677</td>\n",
       "      <td>0.002375</td>\n",
       "      <td>0.001773</td>\n",
       "      <td>0.139651</td>\n",
       "      <td>0.087637</td>\n",
       "      <td>0.063836</td>\n",
       "      <td>0.240857</td>\n",
       "    </tr>\n",
       "    <tr>\n",
       "      <th>35</th>\n",
       "      <td>(2006-01-01 00:00:00, 2010-12-31 00:00:00)</td>\n",
       "      <td>(2007-01-01 00:00:00, 2007-12-31 00:00:00)</td>\n",
       "      <td>BAG</td>\n",
       "      <td>(DecisionTreeClassifier(class_weight=None, cri...</td>\n",
       "      <td>{'max_samples': 5, 'n_estimators': 5, 'max_fea...</td>\n",
       "      <td>[tract]</td>\n",
       "      <td>top20_rate</td>\n",
       "      <td>BAG: base_estimator: DecisionTreeClassifier(cl...</td>\n",
       "      <td>0.535367</td>\n",
       "      <td>0.010526</td>\n",
       "      <td>...</td>\n",
       "      <td>0.115031</td>\n",
       "      <td>0.177914</td>\n",
       "      <td>1.000000</td>\n",
       "      <td>0.002677</td>\n",
       "      <td>0.002375</td>\n",
       "      <td>0.132979</td>\n",
       "      <td>0.093516</td>\n",
       "      <td>0.058685</td>\n",
       "      <td>0.066116</td>\n",
       "      <td>0.240857</td>\n",
       "    </tr>\n",
       "    <tr>\n",
       "      <th>10</th>\n",
       "      <td>(2006-01-01 00:00:00, 2007-12-31 00:00:00)</td>\n",
       "      <td>(2007-01-01 00:00:00, 2007-12-31 00:00:00)</td>\n",
       "      <td>LR</td>\n",
       "      <td>LogisticRegression(C=0.01, class_weight=None, ...</td>\n",
       "      <td>{'penalty': 'l2', 'C': 0.01}</td>\n",
       "      <td>[economic]</td>\n",
       "      <td>top20_num</td>\n",
       "      <td>LR: coefficients:             coef            ...</td>\n",
       "      <td>0.514286</td>\n",
       "      <td>0.294737</td>\n",
       "      <td>...</td>\n",
       "      <td>0.127688</td>\n",
       "      <td>0.274194</td>\n",
       "      <td>0.626344</td>\n",
       "      <td>0.066746</td>\n",
       "      <td>0.064240</td>\n",
       "      <td>0.052459</td>\n",
       "      <td>0.051887</td>\n",
       "      <td>0.071752</td>\n",
       "      <td>0.113302</td>\n",
       "      <td>0.169270</td>\n",
       "    </tr>\n",
       "    <tr>\n",
       "      <th>14</th>\n",
       "      <td>(2006-01-01 00:00:00, 2007-12-31 00:00:00)</td>\n",
       "      <td>(2007-01-01 00:00:00, 2007-12-31 00:00:00)</td>\n",
       "      <td>NB</td>\n",
       "      <td>GaussianNB(priors=None)</td>\n",
       "      <td>{}</td>\n",
       "      <td>[economic]</td>\n",
       "      <td>top20_num</td>\n",
       "      <td>None</td>\n",
       "      <td>0.514036</td>\n",
       "      <td>0.000000</td>\n",
       "      <td>...</td>\n",
       "      <td>0.087366</td>\n",
       "      <td>0.248656</td>\n",
       "      <td>0.615591</td>\n",
       "      <td>0.000000</td>\n",
       "      <td>0.000000</td>\n",
       "      <td>0.027869</td>\n",
       "      <td>0.033019</td>\n",
       "      <td>0.049094</td>\n",
       "      <td>0.102749</td>\n",
       "      <td>0.166364</td>\n",
       "    </tr>\n",
       "    <tr>\n",
       "      <th>227</th>\n",
       "      <td>(2006-01-01 00:00:00, 2034-12-31 00:00:00)</td>\n",
       "      <td>(2007-01-01 00:00:00, 2007-12-31 00:00:00)</td>\n",
       "      <td>BAG</td>\n",
       "      <td>(DecisionTreeClassifier(class_weight=None, cri...</td>\n",
       "      <td>{'max_samples': 5, 'n_estimators': 5, 'max_fea...</td>\n",
       "      <td>[economic, eviction, tract, demographic]</td>\n",
       "      <td>top20_rate</td>\n",
       "      <td>BAG: base_estimator: DecisionTreeClassifier(cl...</td>\n",
       "      <td>0.509599</td>\n",
       "      <td>0.010526</td>\n",
       "      <td>...</td>\n",
       "      <td>0.110429</td>\n",
       "      <td>0.110429</td>\n",
       "      <td>0.759202</td>\n",
       "      <td>0.002677</td>\n",
       "      <td>0.002375</td>\n",
       "      <td>0.127660</td>\n",
       "      <td>0.089776</td>\n",
       "      <td>0.056338</td>\n",
       "      <td>0.041037</td>\n",
       "      <td>0.182859</td>\n",
       "    </tr>\n",
       "    <tr>\n",
       "      <th>16</th>\n",
       "      <td>(2006-01-01 00:00:00, 2014-12-31 00:00:00)</td>\n",
       "      <td>(2015-01-01 00:00:00, 2015-12-31 00:00:00)</td>\n",
       "      <td>BASELINE_RAND</td>\n",
       "      <td>BASELINE_RAND</td>\n",
       "      <td>{}</td>\n",
       "      <td>prior_year</td>\n",
       "      <td>top20_rate</td>\n",
       "      <td>None</td>\n",
       "      <td>0.506315</td>\n",
       "      <td>0.010870</td>\n",
       "      <td>...</td>\n",
       "      <td>0.089147</td>\n",
       "      <td>0.186047</td>\n",
       "      <td>1.000000</td>\n",
       "      <td>0.002309</td>\n",
       "      <td>0.002086</td>\n",
       "      <td>0.017771</td>\n",
       "      <td>0.081033</td>\n",
       "      <td>0.052412</td>\n",
       "      <td>0.080853</td>\n",
       "      <td>0.285556</td>\n",
       "    </tr>\n",
       "    <tr>\n",
       "      <th>2</th>\n",
       "      <td>(2006-01-01 00:00:00, 2007-12-31 00:00:00)</td>\n",
       "      <td>(2007-01-01 00:00:00, 2007-12-31 00:00:00)</td>\n",
       "      <td>BASELINE_RAND</td>\n",
       "      <td>BASELINE_RAND</td>\n",
       "      <td>{}</td>\n",
       "      <td>prior_year</td>\n",
       "      <td>top20_num</td>\n",
       "      <td>None</td>\n",
       "      <td>0.501940</td>\n",
       "      <td>0.010526</td>\n",
       "      <td>...</td>\n",
       "      <td>0.080645</td>\n",
       "      <td>0.154570</td>\n",
       "      <td>1.000000</td>\n",
       "      <td>0.002384</td>\n",
       "      <td>0.002141</td>\n",
       "      <td>0.026230</td>\n",
       "      <td>0.070755</td>\n",
       "      <td>0.045317</td>\n",
       "      <td>0.063871</td>\n",
       "      <td>0.270251</td>\n",
       "    </tr>\n",
       "    <tr>\n",
       "      <th>8</th>\n",
       "      <td>(2006-01-01 00:00:00, 2010-12-31 00:00:00)</td>\n",
       "      <td>(2011-01-01 00:00:00, 2011-12-31 00:00:00)</td>\n",
       "      <td>BASELINE_RAND</td>\n",
       "      <td>BASELINE_RAND</td>\n",
       "      <td>{}</td>\n",
       "      <td>prior_year</td>\n",
       "      <td>top20_rate</td>\n",
       "      <td>None</td>\n",
       "      <td>0.500604</td>\n",
       "      <td>0.010526</td>\n",
       "      <td>...</td>\n",
       "      <td>0.075325</td>\n",
       "      <td>0.179221</td>\n",
       "      <td>1.000000</td>\n",
       "      <td>0.002312</td>\n",
       "      <td>0.002083</td>\n",
       "      <td>0.049799</td>\n",
       "      <td>0.067403</td>\n",
       "      <td>0.043413</td>\n",
       "      <td>0.076180</td>\n",
       "      <td>0.278683</td>\n",
       "    </tr>\n",
       "    <tr>\n",
       "      <th>139</th>\n",
       "      <td>(2006-01-01 00:00:00, 2023-12-31 00:00:00)</td>\n",
       "      <td>(2007-01-01 00:00:00, 2007-12-31 00:00:00)</td>\n",
       "      <td>BAG</td>\n",
       "      <td>(DecisionTreeClassifier(class_weight=None, cri...</td>\n",
       "      <td>{'max_samples': 5, 'n_estimators': 5, 'max_fea...</td>\n",
       "      <td>[eviction, demographic]</td>\n",
       "      <td>top20_num</td>\n",
       "      <td>BAG: base_estimator: DecisionTreeClassifier(cl...</td>\n",
       "      <td>0.500000</td>\n",
       "      <td>0.000000</td>\n",
       "      <td>...</td>\n",
       "      <td>0.000000</td>\n",
       "      <td>0.198925</td>\n",
       "      <td>0.998656</td>\n",
       "      <td>0.000000</td>\n",
       "      <td>0.000000</td>\n",
       "      <td>0.000000</td>\n",
       "      <td>0.000000</td>\n",
       "      <td>0.000000</td>\n",
       "      <td>0.082199</td>\n",
       "      <td>0.269887</td>\n",
       "    </tr>\n",
       "    <tr>\n",
       "      <th>67</th>\n",
       "      <td>(2006-01-01 00:00:00, 2014-12-31 00:00:00)</td>\n",
       "      <td>(2007-01-01 00:00:00, 2007-12-31 00:00:00)</td>\n",
       "      <td>BAG</td>\n",
       "      <td>(DecisionTreeClassifier(class_weight=None, cri...</td>\n",
       "      <td>{'max_samples': 5, 'n_estimators': 5, 'max_fea...</td>\n",
       "      <td>[economic, eviction]</td>\n",
       "      <td>top20_rate</td>\n",
       "      <td>BAG: base_estimator: DecisionTreeClassifier(cl...</td>\n",
       "      <td>0.500000</td>\n",
       "      <td>0.000000</td>\n",
       "      <td>...</td>\n",
       "      <td>0.000000</td>\n",
       "      <td>0.085890</td>\n",
       "      <td>0.998466</td>\n",
       "      <td>0.000000</td>\n",
       "      <td>0.000000</td>\n",
       "      <td>0.000000</td>\n",
       "      <td>0.000000</td>\n",
       "      <td>0.000000</td>\n",
       "      <td>0.031918</td>\n",
       "      <td>0.240488</td>\n",
       "    </tr>\n",
       "    <tr>\n",
       "      <th>187</th>\n",
       "      <td>(2006-01-01 00:00:00, 2029-12-31 00:00:00)</td>\n",
       "      <td>(2007-01-01 00:00:00, 2007-12-31 00:00:00)</td>\n",
       "      <td>BAG</td>\n",
       "      <td>(DecisionTreeClassifier(class_weight=None, cri...</td>\n",
       "      <td>{'max_samples': 5, 'n_estimators': 5, 'max_fea...</td>\n",
       "      <td>[economic, eviction, demographic]</td>\n",
       "      <td>top20_num</td>\n",
       "      <td>BAG: base_estimator: DecisionTreeClassifier(cl...</td>\n",
       "      <td>0.500000</td>\n",
       "      <td>0.000000</td>\n",
       "      <td>...</td>\n",
       "      <td>0.000000</td>\n",
       "      <td>0.198925</td>\n",
       "      <td>0.998656</td>\n",
       "      <td>0.000000</td>\n",
       "      <td>0.000000</td>\n",
       "      <td>0.000000</td>\n",
       "      <td>0.000000</td>\n",
       "      <td>0.000000</td>\n",
       "      <td>0.082199</td>\n",
       "      <td>0.269887</td>\n",
       "    </tr>\n",
       "    <tr>\n",
       "      <th>115</th>\n",
       "      <td>(2006-01-01 00:00:00, 2020-12-31 00:00:00)</td>\n",
       "      <td>(2007-01-01 00:00:00, 2007-12-31 00:00:00)</td>\n",
       "      <td>BAG</td>\n",
       "      <td>(DecisionTreeClassifier(class_weight=None, cri...</td>\n",
       "      <td>{'max_samples': 5, 'n_estimators': 5, 'max_fea...</td>\n",
       "      <td>[eviction, tract]</td>\n",
       "      <td>top20_rate</td>\n",
       "      <td>BAG: base_estimator: DecisionTreeClassifier(cl...</td>\n",
       "      <td>0.499724</td>\n",
       "      <td>0.000000</td>\n",
       "      <td>...</td>\n",
       "      <td>0.000000</td>\n",
       "      <td>0.000000</td>\n",
       "      <td>0.523006</td>\n",
       "      <td>0.000000</td>\n",
       "      <td>0.000000</td>\n",
       "      <td>0.000000</td>\n",
       "      <td>0.000000</td>\n",
       "      <td>0.000000</td>\n",
       "      <td>0.000000</td>\n",
       "      <td>0.125970</td>\n",
       "    </tr>\n",
       "    <tr>\n",
       "      <th>4</th>\n",
       "      <td>(2006-01-01 00:00:00, 2008-12-31 00:00:00)</td>\n",
       "      <td>(2009-01-01 00:00:00, 2009-12-31 00:00:00)</td>\n",
       "      <td>BASELINE_RAND</td>\n",
       "      <td>BASELINE_RAND</td>\n",
       "      <td>{}</td>\n",
       "      <td>prior_year</td>\n",
       "      <td>top20_rate</td>\n",
       "      <td>None</td>\n",
       "      <td>0.498564</td>\n",
       "      <td>0.010638</td>\n",
       "      <td>...</td>\n",
       "      <td>0.065050</td>\n",
       "      <td>0.232635</td>\n",
       "      <td>1.000000</td>\n",
       "      <td>0.001998</td>\n",
       "      <td>0.001825</td>\n",
       "      <td>0.073913</td>\n",
       "      <td>0.063681</td>\n",
       "      <td>0.042158</td>\n",
       "      <td>0.112684</td>\n",
       "      <td>0.321802</td>\n",
       "    </tr>\n",
       "    <tr>\n",
       "      <th>12</th>\n",
       "      <td>(2006-01-01 00:00:00, 2012-12-31 00:00:00)</td>\n",
       "      <td>(2013-01-01 00:00:00, 2013-12-31 00:00:00)</td>\n",
       "      <td>BASELINE_RAND</td>\n",
       "      <td>BASELINE_RAND</td>\n",
       "      <td>{}</td>\n",
       "      <td>prior_year</td>\n",
       "      <td>top20_rate</td>\n",
       "      <td>None</td>\n",
       "      <td>0.498113</td>\n",
       "      <td>0.010526</td>\n",
       "      <td>...</td>\n",
       "      <td>0.072639</td>\n",
       "      <td>0.209443</td>\n",
       "      <td>1.000000</td>\n",
       "      <td>0.002172</td>\n",
       "      <td>0.001967</td>\n",
       "      <td>0.032184</td>\n",
       "      <td>0.067265</td>\n",
       "      <td>0.043764</td>\n",
       "      <td>0.093514</td>\n",
       "      <td>0.294160</td>\n",
       "    </tr>\n",
       "    <tr>\n",
       "      <th>14</th>\n",
       "      <td>(2006-01-01 00:00:00, 2013-12-31 00:00:00)</td>\n",
       "      <td>(2013-01-01 00:00:00, 2013-12-31 00:00:00)</td>\n",
       "      <td>BASELINE_RAND</td>\n",
       "      <td>BASELINE_RAND</td>\n",
       "      <td>{}</td>\n",
       "      <td>prior_year</td>\n",
       "      <td>top20_num</td>\n",
       "      <td>None</td>\n",
       "      <td>0.495700</td>\n",
       "      <td>0.010526</td>\n",
       "      <td>...</td>\n",
       "      <td>0.077301</td>\n",
       "      <td>0.163190</td>\n",
       "      <td>1.000000</td>\n",
       "      <td>0.002198</td>\n",
       "      <td>0.001988</td>\n",
       "      <td>0.001546</td>\n",
       "      <td>0.071066</td>\n",
       "      <td>0.046137</td>\n",
       "      <td>0.072106</td>\n",
       "      <td>0.290812</td>\n",
       "    </tr>\n",
       "    <tr>\n",
       "      <th>99</th>\n",
       "      <td>(2006-01-01 00:00:00, 2018-12-31 00:00:00)</td>\n",
       "      <td>(2007-01-01 00:00:00, 2007-12-31 00:00:00)</td>\n",
       "      <td>BAG</td>\n",
       "      <td>(DecisionTreeClassifier(class_weight=None, cri...</td>\n",
       "      <td>{'max_samples': 5, 'n_estimators': 5, 'max_fea...</td>\n",
       "      <td>[economic, demographic]</td>\n",
       "      <td>top20_rate</td>\n",
       "      <td>BAG: base_estimator: DecisionTreeClassifier(cl...</td>\n",
       "      <td>0.495491</td>\n",
       "      <td>0.000000</td>\n",
       "      <td>...</td>\n",
       "      <td>0.000000</td>\n",
       "      <td>0.102761</td>\n",
       "      <td>1.000000</td>\n",
       "      <td>0.000000</td>\n",
       "      <td>0.000000</td>\n",
       "      <td>0.000000</td>\n",
       "      <td>0.000000</td>\n",
       "      <td>0.000000</td>\n",
       "      <td>0.038188</td>\n",
       "      <td>0.240857</td>\n",
       "    </tr>\n",
       "    <tr>\n",
       "      <th>6</th>\n",
       "      <td>(2006-01-01 00:00:00, 2009-12-31 00:00:00)</td>\n",
       "      <td>(2009-01-01 00:00:00, 2009-12-31 00:00:00)</td>\n",
       "      <td>BASELINE_RAND</td>\n",
       "      <td>BASELINE_RAND</td>\n",
       "      <td>{}</td>\n",
       "      <td>prior_year</td>\n",
       "      <td>top20_num</td>\n",
       "      <td>None</td>\n",
       "      <td>0.494979</td>\n",
       "      <td>0.010638</td>\n",
       "      <td>...</td>\n",
       "      <td>0.075472</td>\n",
       "      <td>0.155383</td>\n",
       "      <td>1.000000</td>\n",
       "      <td>0.002010</td>\n",
       "      <td>0.001835</td>\n",
       "      <td>0.001456</td>\n",
       "      <td>0.073633</td>\n",
       "      <td>0.048693</td>\n",
       "      <td>0.074886</td>\n",
       "      <td>0.320014</td>\n",
       "    </tr>\n",
       "    <tr>\n",
       "      <th>0</th>\n",
       "      <td>(2006-01-01 00:00:00, 2006-12-31 00:00:00)</td>\n",
       "      <td>(2007-01-01 00:00:00, 2007-12-31 00:00:00)</td>\n",
       "      <td>BASELINE_RAND</td>\n",
       "      <td>BASELINE_RAND</td>\n",
       "      <td>{}</td>\n",
       "      <td>prior_year</td>\n",
       "      <td>top20_rate</td>\n",
       "      <td>None</td>\n",
       "      <td>0.493827</td>\n",
       "      <td>0.010526</td>\n",
       "      <td>...</td>\n",
       "      <td>0.056748</td>\n",
       "      <td>0.087423</td>\n",
       "      <td>1.000000</td>\n",
       "      <td>0.002677</td>\n",
       "      <td>0.002375</td>\n",
       "      <td>0.063830</td>\n",
       "      <td>0.046135</td>\n",
       "      <td>0.028951</td>\n",
       "      <td>0.032488</td>\n",
       "      <td>0.240857</td>\n",
       "    </tr>\n",
       "    <tr>\n",
       "      <th>18</th>\n",
       "      <td>(2006-01-01 00:00:00, 2015-12-31 00:00:00)</td>\n",
       "      <td>(2015-01-01 00:00:00, 2015-12-31 00:00:00)</td>\n",
       "      <td>BASELINE_RAND</td>\n",
       "      <td>BASELINE_RAND</td>\n",
       "      <td>{}</td>\n",
       "      <td>prior_year</td>\n",
       "      <td>top20_num</td>\n",
       "      <td>None</td>\n",
       "      <td>0.491774</td>\n",
       "      <td>0.010870</td>\n",
       "      <td>...</td>\n",
       "      <td>0.062865</td>\n",
       "      <td>0.105263</td>\n",
       "      <td>1.000000</td>\n",
       "      <td>0.002577</td>\n",
       "      <td>0.002301</td>\n",
       "      <td>0.015679</td>\n",
       "      <td>0.053317</td>\n",
       "      <td>0.033818</td>\n",
       "      <td>0.041475</td>\n",
       "      <td>0.256612</td>\n",
       "    </tr>\n",
       "    <tr>\n",
       "      <th>107</th>\n",
       "      <td>(2006-01-01 00:00:00, 2019-12-31 00:00:00)</td>\n",
       "      <td>(2007-01-01 00:00:00, 2007-12-31 00:00:00)</td>\n",
       "      <td>BAG</td>\n",
       "      <td>(DecisionTreeClassifier(class_weight=None, cri...</td>\n",
       "      <td>{'max_samples': 5, 'n_estimators': 5, 'max_fea...</td>\n",
       "      <td>[economic, demographic]</td>\n",
       "      <td>top20_num</td>\n",
       "      <td>BAG: base_estimator: DecisionTreeClassifier(cl...</td>\n",
       "      <td>0.491253</td>\n",
       "      <td>0.010526</td>\n",
       "      <td>...</td>\n",
       "      <td>0.004032</td>\n",
       "      <td>0.232527</td>\n",
       "      <td>1.000000</td>\n",
       "      <td>0.002384</td>\n",
       "      <td>0.006424</td>\n",
       "      <td>0.004918</td>\n",
       "      <td>0.003538</td>\n",
       "      <td>0.002266</td>\n",
       "      <td>0.096084</td>\n",
       "      <td>0.270251</td>\n",
       "    </tr>\n",
       "    <tr>\n",
       "      <th>10</th>\n",
       "      <td>(2006-01-01 00:00:00, 2011-12-31 00:00:00)</td>\n",
       "      <td>(2011-01-01 00:00:00, 2011-12-31 00:00:00)</td>\n",
       "      <td>BASELINE_RAND</td>\n",
       "      <td>BASELINE_RAND</td>\n",
       "      <td>{}</td>\n",
       "      <td>prior_year</td>\n",
       "      <td>top20_num</td>\n",
       "      <td>None</td>\n",
       "      <td>0.490409</td>\n",
       "      <td>0.010526</td>\n",
       "      <td>...</td>\n",
       "      <td>0.067282</td>\n",
       "      <td>0.147757</td>\n",
       "      <td>1.000000</td>\n",
       "      <td>0.002345</td>\n",
       "      <td>0.002110</td>\n",
       "      <td>0.001622</td>\n",
       "      <td>0.059684</td>\n",
       "      <td>0.038346</td>\n",
       "      <td>0.062033</td>\n",
       "      <td>0.274937</td>\n",
       "    </tr>\n",
       "    <tr>\n",
       "      <th>219</th>\n",
       "      <td>(2006-01-01 00:00:00, 2033-12-31 00:00:00)</td>\n",
       "      <td>(2007-01-01 00:00:00, 2007-12-31 00:00:00)</td>\n",
       "      <td>BAG</td>\n",
       "      <td>(DecisionTreeClassifier(class_weight=None, cri...</td>\n",
       "      <td>{'max_samples': 5, 'n_estimators': 5, 'max_fea...</td>\n",
       "      <td>[eviction, tract, demographic]</td>\n",
       "      <td>top20_num</td>\n",
       "      <td>BAG: base_estimator: DecisionTreeClassifier(cl...</td>\n",
       "      <td>0.486466</td>\n",
       "      <td>0.010526</td>\n",
       "      <td>...</td>\n",
       "      <td>0.186828</td>\n",
       "      <td>0.186828</td>\n",
       "      <td>1.000000</td>\n",
       "      <td>0.002384</td>\n",
       "      <td>0.002141</td>\n",
       "      <td>0.001639</td>\n",
       "      <td>0.001179</td>\n",
       "      <td>0.104985</td>\n",
       "      <td>0.077201</td>\n",
       "      <td>0.270251</td>\n",
       "    </tr>\n",
       "    <tr>\n",
       "      <th>3</th>\n",
       "      <td>(2006-01-01 00:00:00, 2006-12-31 00:00:00)</td>\n",
       "      <td>(2007-01-01 00:00:00, 2007-12-31 00:00:00)</td>\n",
       "      <td>BAG</td>\n",
       "      <td>(DecisionTreeClassifier(class_weight=None, cri...</td>\n",
       "      <td>{'max_samples': 5, 'n_estimators': 5, 'max_fea...</td>\n",
       "      <td>[economic]</td>\n",
       "      <td>top20_rate</td>\n",
       "      <td>BAG: base_estimator: DecisionTreeClassifier(cl...</td>\n",
       "      <td>0.469031</td>\n",
       "      <td>0.010526</td>\n",
       "      <td>...</td>\n",
       "      <td>0.099693</td>\n",
       "      <td>0.099693</td>\n",
       "      <td>1.000000</td>\n",
       "      <td>0.002677</td>\n",
       "      <td>0.002375</td>\n",
       "      <td>0.001773</td>\n",
       "      <td>0.013716</td>\n",
       "      <td>0.050861</td>\n",
       "      <td>0.037048</td>\n",
       "      <td>0.240857</td>\n",
       "    </tr>\n",
       "    <tr>\n",
       "      <th>195</th>\n",
       "      <td>(2006-01-01 00:00:00, 2030-12-31 00:00:00)</td>\n",
       "      <td>(2007-01-01 00:00:00, 2007-12-31 00:00:00)</td>\n",
       "      <td>BAG</td>\n",
       "      <td>(DecisionTreeClassifier(class_weight=None, cri...</td>\n",
       "      <td>{'max_samples': 5, 'n_estimators': 5, 'max_fea...</td>\n",
       "      <td>[economic, tract, demographic]</td>\n",
       "      <td>top20_rate</td>\n",
       "      <td>BAG: base_estimator: DecisionTreeClassifier(cl...</td>\n",
       "      <td>0.445029</td>\n",
       "      <td>0.000000</td>\n",
       "      <td>...</td>\n",
       "      <td>0.000000</td>\n",
       "      <td>0.000000</td>\n",
       "      <td>0.415644</td>\n",
       "      <td>0.000000</td>\n",
       "      <td>0.000000</td>\n",
       "      <td>0.000000</td>\n",
       "      <td>0.000000</td>\n",
       "      <td>0.000000</td>\n",
       "      <td>0.000000</td>\n",
       "      <td>0.100111</td>\n",
       "    </tr>\n",
       "    <tr>\n",
       "      <th>51</th>\n",
       "      <td>(2006-01-01 00:00:00, 2012-12-31 00:00:00)</td>\n",
       "      <td>(2007-01-01 00:00:00, 2007-12-31 00:00:00)</td>\n",
       "      <td>BAG</td>\n",
       "      <td>(DecisionTreeClassifier(class_weight=None, cri...</td>\n",
       "      <td>{'max_samples': 5, 'n_estimators': 5, 'max_fea...</td>\n",
       "      <td>[demographic]</td>\n",
       "      <td>top20_rate</td>\n",
       "      <td>BAG: base_estimator: DecisionTreeClassifier(cl...</td>\n",
       "      <td>0.423092</td>\n",
       "      <td>0.010526</td>\n",
       "      <td>...</td>\n",
       "      <td>0.058282</td>\n",
       "      <td>0.058282</td>\n",
       "      <td>0.429448</td>\n",
       "      <td>0.002677</td>\n",
       "      <td>0.002375</td>\n",
       "      <td>0.001773</td>\n",
       "      <td>0.047382</td>\n",
       "      <td>0.029734</td>\n",
       "      <td>0.021659</td>\n",
       "      <td>0.103436</td>\n",
       "    </tr>\n",
       "    <tr>\n",
       "      <th>147</th>\n",
       "      <td>(2006-01-01 00:00:00, 2024-12-31 00:00:00)</td>\n",
       "      <td>(2007-01-01 00:00:00, 2007-12-31 00:00:00)</td>\n",
       "      <td>BAG</td>\n",
       "      <td>(DecisionTreeClassifier(class_weight=None, cri...</td>\n",
       "      <td>{'max_samples': 5, 'n_estimators': 5, 'max_fea...</td>\n",
       "      <td>[tract, demographic]</td>\n",
       "      <td>top20_rate</td>\n",
       "      <td>BAG: base_estimator: DecisionTreeClassifier(cl...</td>\n",
       "      <td>0.415657</td>\n",
       "      <td>0.000000</td>\n",
       "      <td>...</td>\n",
       "      <td>0.000000</td>\n",
       "      <td>0.000000</td>\n",
       "      <td>0.420245</td>\n",
       "      <td>0.000000</td>\n",
       "      <td>0.000000</td>\n",
       "      <td>0.000000</td>\n",
       "      <td>0.000000</td>\n",
       "      <td>0.000000</td>\n",
       "      <td>0.000000</td>\n",
       "      <td>0.101219</td>\n",
       "    </tr>\n",
       "    <tr>\n",
       "      <th>83</th>\n",
       "      <td>(2006-01-01 00:00:00, 2016-12-31 00:00:00)</td>\n",
       "      <td>(2007-01-01 00:00:00, 2007-12-31 00:00:00)</td>\n",
       "      <td>BAG</td>\n",
       "      <td>(DecisionTreeClassifier(class_weight=None, cri...</td>\n",
       "      <td>{'max_samples': 5, 'n_estimators': 5, 'max_fea...</td>\n",
       "      <td>[economic, tract]</td>\n",
       "      <td>top20_rate</td>\n",
       "      <td>BAG: base_estimator: DecisionTreeClassifier(cl...</td>\n",
       "      <td>0.410908</td>\n",
       "      <td>0.010526</td>\n",
       "      <td>...</td>\n",
       "      <td>0.115031</td>\n",
       "      <td>0.115031</td>\n",
       "      <td>0.404908</td>\n",
       "      <td>0.002677</td>\n",
       "      <td>0.002375</td>\n",
       "      <td>0.001773</td>\n",
       "      <td>0.001247</td>\n",
       "      <td>0.058685</td>\n",
       "      <td>0.042747</td>\n",
       "      <td>0.097525</td>\n",
       "    </tr>\n",
       "    <tr>\n",
       "      <th>171</th>\n",
       "      <td>(2006-01-01 00:00:00, 2027-12-31 00:00:00)</td>\n",
       "      <td>(2007-01-01 00:00:00, 2007-12-31 00:00:00)</td>\n",
       "      <td>BAG</td>\n",
       "      <td>(DecisionTreeClassifier(class_weight=None, cri...</td>\n",
       "      <td>{'max_samples': 5, 'n_estimators': 5, 'max_fea...</td>\n",
       "      <td>[economic, eviction, tract]</td>\n",
       "      <td>top20_num</td>\n",
       "      <td>BAG: base_estimator: DecisionTreeClassifier(cl...</td>\n",
       "      <td>0.315568</td>\n",
       "      <td>0.000000</td>\n",
       "      <td>...</td>\n",
       "      <td>0.000000</td>\n",
       "      <td>0.000000</td>\n",
       "      <td>0.456989</td>\n",
       "      <td>0.000000</td>\n",
       "      <td>0.000000</td>\n",
       "      <td>0.000000</td>\n",
       "      <td>0.000000</td>\n",
       "      <td>0.000000</td>\n",
       "      <td>0.000000</td>\n",
       "      <td>0.123502</td>\n",
       "    </tr>\n",
       "  </tbody>\n",
       "</table>\n",
       "<p>260 rows × 30 columns</p>\n",
       "</div>"
      ],
      "text/plain": [
       "                                 training_dates  \\\n",
       "165  (2006-01-01 00:00:00, 2026-12-31 00:00:00)   \n",
       "21   (2006-01-01 00:00:00, 2008-12-31 00:00:00)   \n",
       "221  (2006-01-01 00:00:00, 2033-12-31 00:00:00)   \n",
       "29   (2006-01-01 00:00:00, 2009-12-31 00:00:00)   \n",
       "173  (2006-01-01 00:00:00, 2027-12-31 00:00:00)   \n",
       "141  (2006-01-01 00:00:00, 2023-12-31 00:00:00)   \n",
       "213  (2006-01-01 00:00:00, 2032-12-31 00:00:00)   \n",
       "133  (2006-01-01 00:00:00, 2022-12-31 00:00:00)   \n",
       "53   (2006-01-01 00:00:00, 2012-12-31 00:00:00)   \n",
       "125  (2006-01-01 00:00:00, 2021-12-31 00:00:00)   \n",
       "61   (2006-01-01 00:00:00, 2013-12-31 00:00:00)   \n",
       "181  (2006-01-01 00:00:00, 2028-12-31 00:00:00)   \n",
       "205  (2006-01-01 00:00:00, 2031-12-31 00:00:00)   \n",
       "69   (2006-01-01 00:00:00, 2014-12-31 00:00:00)   \n",
       "77   (2006-01-01 00:00:00, 2015-12-31 00:00:00)   \n",
       "117  (2006-01-01 00:00:00, 2020-12-31 00:00:00)   \n",
       "197  (2006-01-01 00:00:00, 2030-12-31 00:00:00)   \n",
       "109  (2006-01-01 00:00:00, 2019-12-31 00:00:00)   \n",
       "189  (2006-01-01 00:00:00, 2029-12-31 00:00:00)   \n",
       "149  (2006-01-01 00:00:00, 2024-12-31 00:00:00)   \n",
       "101  (2006-01-01 00:00:00, 2018-12-31 00:00:00)   \n",
       "229  (2006-01-01 00:00:00, 2034-12-31 00:00:00)   \n",
       "157  (2006-01-01 00:00:00, 2025-12-31 00:00:00)   \n",
       "237  (2006-01-01 00:00:00, 2035-12-31 00:00:00)   \n",
       "169  (2006-01-01 00:00:00, 2027-12-31 00:00:00)   \n",
       "121  (2006-01-01 00:00:00, 2021-12-31 00:00:00)   \n",
       "209  (2006-01-01 00:00:00, 2032-12-31 00:00:00)   \n",
       "225  (2006-01-01 00:00:00, 2034-12-31 00:00:00)   \n",
       "185  (2006-01-01 00:00:00, 2029-12-31 00:00:00)   \n",
       "177  (2006-01-01 00:00:00, 2028-12-31 00:00:00)   \n",
       "..                                          ...   \n",
       "11   (2006-01-01 00:00:00, 2007-12-31 00:00:00)   \n",
       "2    (2006-01-01 00:00:00, 2006-12-31 00:00:00)   \n",
       "179  (2006-01-01 00:00:00, 2028-12-31 00:00:00)   \n",
       "35   (2006-01-01 00:00:00, 2010-12-31 00:00:00)   \n",
       "10   (2006-01-01 00:00:00, 2007-12-31 00:00:00)   \n",
       "14   (2006-01-01 00:00:00, 2007-12-31 00:00:00)   \n",
       "227  (2006-01-01 00:00:00, 2034-12-31 00:00:00)   \n",
       "16   (2006-01-01 00:00:00, 2014-12-31 00:00:00)   \n",
       "2    (2006-01-01 00:00:00, 2007-12-31 00:00:00)   \n",
       "8    (2006-01-01 00:00:00, 2010-12-31 00:00:00)   \n",
       "139  (2006-01-01 00:00:00, 2023-12-31 00:00:00)   \n",
       "67   (2006-01-01 00:00:00, 2014-12-31 00:00:00)   \n",
       "187  (2006-01-01 00:00:00, 2029-12-31 00:00:00)   \n",
       "115  (2006-01-01 00:00:00, 2020-12-31 00:00:00)   \n",
       "4    (2006-01-01 00:00:00, 2008-12-31 00:00:00)   \n",
       "12   (2006-01-01 00:00:00, 2012-12-31 00:00:00)   \n",
       "14   (2006-01-01 00:00:00, 2013-12-31 00:00:00)   \n",
       "99   (2006-01-01 00:00:00, 2018-12-31 00:00:00)   \n",
       "6    (2006-01-01 00:00:00, 2009-12-31 00:00:00)   \n",
       "0    (2006-01-01 00:00:00, 2006-12-31 00:00:00)   \n",
       "18   (2006-01-01 00:00:00, 2015-12-31 00:00:00)   \n",
       "107  (2006-01-01 00:00:00, 2019-12-31 00:00:00)   \n",
       "10   (2006-01-01 00:00:00, 2011-12-31 00:00:00)   \n",
       "219  (2006-01-01 00:00:00, 2033-12-31 00:00:00)   \n",
       "3    (2006-01-01 00:00:00, 2006-12-31 00:00:00)   \n",
       "195  (2006-01-01 00:00:00, 2030-12-31 00:00:00)   \n",
       "51   (2006-01-01 00:00:00, 2012-12-31 00:00:00)   \n",
       "147  (2006-01-01 00:00:00, 2024-12-31 00:00:00)   \n",
       "83   (2006-01-01 00:00:00, 2016-12-31 00:00:00)   \n",
       "171  (2006-01-01 00:00:00, 2027-12-31 00:00:00)   \n",
       "\n",
       "                                  testing_dates      model_key  \\\n",
       "165  (2007-01-01 00:00:00, 2007-12-31 00:00:00)            KNN   \n",
       "21   (2007-01-01 00:00:00, 2007-12-31 00:00:00)            KNN   \n",
       "221  (2007-01-01 00:00:00, 2007-12-31 00:00:00)            KNN   \n",
       "29   (2007-01-01 00:00:00, 2007-12-31 00:00:00)            KNN   \n",
       "173  (2007-01-01 00:00:00, 2007-12-31 00:00:00)            KNN   \n",
       "141  (2007-01-01 00:00:00, 2007-12-31 00:00:00)            KNN   \n",
       "213  (2007-01-01 00:00:00, 2007-12-31 00:00:00)            KNN   \n",
       "133  (2007-01-01 00:00:00, 2007-12-31 00:00:00)            KNN   \n",
       "53   (2007-01-01 00:00:00, 2007-12-31 00:00:00)            KNN   \n",
       "125  (2007-01-01 00:00:00, 2007-12-31 00:00:00)            KNN   \n",
       "61   (2007-01-01 00:00:00, 2007-12-31 00:00:00)            KNN   \n",
       "181  (2007-01-01 00:00:00, 2007-12-31 00:00:00)            KNN   \n",
       "205  (2007-01-01 00:00:00, 2007-12-31 00:00:00)            KNN   \n",
       "69   (2007-01-01 00:00:00, 2007-12-31 00:00:00)            KNN   \n",
       "77   (2007-01-01 00:00:00, 2007-12-31 00:00:00)            KNN   \n",
       "117  (2007-01-01 00:00:00, 2007-12-31 00:00:00)            KNN   \n",
       "197  (2007-01-01 00:00:00, 2007-12-31 00:00:00)            KNN   \n",
       "109  (2007-01-01 00:00:00, 2007-12-31 00:00:00)            KNN   \n",
       "189  (2007-01-01 00:00:00, 2007-12-31 00:00:00)            KNN   \n",
       "149  (2007-01-01 00:00:00, 2007-12-31 00:00:00)            KNN   \n",
       "101  (2007-01-01 00:00:00, 2007-12-31 00:00:00)            KNN   \n",
       "229  (2007-01-01 00:00:00, 2007-12-31 00:00:00)            KNN   \n",
       "157  (2007-01-01 00:00:00, 2007-12-31 00:00:00)            KNN   \n",
       "237  (2007-01-01 00:00:00, 2007-12-31 00:00:00)            KNN   \n",
       "169  (2007-01-01 00:00:00, 2007-12-31 00:00:00)             DT   \n",
       "121  (2007-01-01 00:00:00, 2007-12-31 00:00:00)             DT   \n",
       "209  (2007-01-01 00:00:00, 2007-12-31 00:00:00)             DT   \n",
       "225  (2007-01-01 00:00:00, 2007-12-31 00:00:00)             DT   \n",
       "185  (2007-01-01 00:00:00, 2007-12-31 00:00:00)             DT   \n",
       "177  (2007-01-01 00:00:00, 2007-12-31 00:00:00)             DT   \n",
       "..                                          ...            ...   \n",
       "11   (2007-01-01 00:00:00, 2007-12-31 00:00:00)            BAG   \n",
       "2    (2007-01-01 00:00:00, 2007-12-31 00:00:00)             LR   \n",
       "179  (2007-01-01 00:00:00, 2007-12-31 00:00:00)            BAG   \n",
       "35   (2007-01-01 00:00:00, 2007-12-31 00:00:00)            BAG   \n",
       "10   (2007-01-01 00:00:00, 2007-12-31 00:00:00)             LR   \n",
       "14   (2007-01-01 00:00:00, 2007-12-31 00:00:00)             NB   \n",
       "227  (2007-01-01 00:00:00, 2007-12-31 00:00:00)            BAG   \n",
       "16   (2015-01-01 00:00:00, 2015-12-31 00:00:00)  BASELINE_RAND   \n",
       "2    (2007-01-01 00:00:00, 2007-12-31 00:00:00)  BASELINE_RAND   \n",
       "8    (2011-01-01 00:00:00, 2011-12-31 00:00:00)  BASELINE_RAND   \n",
       "139  (2007-01-01 00:00:00, 2007-12-31 00:00:00)            BAG   \n",
       "67   (2007-01-01 00:00:00, 2007-12-31 00:00:00)            BAG   \n",
       "187  (2007-01-01 00:00:00, 2007-12-31 00:00:00)            BAG   \n",
       "115  (2007-01-01 00:00:00, 2007-12-31 00:00:00)            BAG   \n",
       "4    (2009-01-01 00:00:00, 2009-12-31 00:00:00)  BASELINE_RAND   \n",
       "12   (2013-01-01 00:00:00, 2013-12-31 00:00:00)  BASELINE_RAND   \n",
       "14   (2013-01-01 00:00:00, 2013-12-31 00:00:00)  BASELINE_RAND   \n",
       "99   (2007-01-01 00:00:00, 2007-12-31 00:00:00)            BAG   \n",
       "6    (2009-01-01 00:00:00, 2009-12-31 00:00:00)  BASELINE_RAND   \n",
       "0    (2007-01-01 00:00:00, 2007-12-31 00:00:00)  BASELINE_RAND   \n",
       "18   (2015-01-01 00:00:00, 2015-12-31 00:00:00)  BASELINE_RAND   \n",
       "107  (2007-01-01 00:00:00, 2007-12-31 00:00:00)            BAG   \n",
       "10   (2011-01-01 00:00:00, 2011-12-31 00:00:00)  BASELINE_RAND   \n",
       "219  (2007-01-01 00:00:00, 2007-12-31 00:00:00)            BAG   \n",
       "3    (2007-01-01 00:00:00, 2007-12-31 00:00:00)            BAG   \n",
       "195  (2007-01-01 00:00:00, 2007-12-31 00:00:00)            BAG   \n",
       "51   (2007-01-01 00:00:00, 2007-12-31 00:00:00)            BAG   \n",
       "147  (2007-01-01 00:00:00, 2007-12-31 00:00:00)            BAG   \n",
       "83   (2007-01-01 00:00:00, 2007-12-31 00:00:00)            BAG   \n",
       "171  (2007-01-01 00:00:00, 2007-12-31 00:00:00)            BAG   \n",
       "\n",
       "                                            classifier  \\\n",
       "165  KNeighborsClassifier(algorithm='kd_tree', leaf...   \n",
       "21   KNeighborsClassifier(algorithm='kd_tree', leaf...   \n",
       "221  KNeighborsClassifier(algorithm='kd_tree', leaf...   \n",
       "29   KNeighborsClassifier(algorithm='kd_tree', leaf...   \n",
       "173  KNeighborsClassifier(algorithm='kd_tree', leaf...   \n",
       "141  KNeighborsClassifier(algorithm='kd_tree', leaf...   \n",
       "213  KNeighborsClassifier(algorithm='kd_tree', leaf...   \n",
       "133  KNeighborsClassifier(algorithm='kd_tree', leaf...   \n",
       "53   KNeighborsClassifier(algorithm='kd_tree', leaf...   \n",
       "125  KNeighborsClassifier(algorithm='kd_tree', leaf...   \n",
       "61   KNeighborsClassifier(algorithm='kd_tree', leaf...   \n",
       "181  KNeighborsClassifier(algorithm='kd_tree', leaf...   \n",
       "205  KNeighborsClassifier(algorithm='kd_tree', leaf...   \n",
       "69   KNeighborsClassifier(algorithm='kd_tree', leaf...   \n",
       "77   KNeighborsClassifier(algorithm='kd_tree', leaf...   \n",
       "117  KNeighborsClassifier(algorithm='kd_tree', leaf...   \n",
       "197  KNeighborsClassifier(algorithm='kd_tree', leaf...   \n",
       "109  KNeighborsClassifier(algorithm='kd_tree', leaf...   \n",
       "189  KNeighborsClassifier(algorithm='kd_tree', leaf...   \n",
       "149  KNeighborsClassifier(algorithm='kd_tree', leaf...   \n",
       "101  KNeighborsClassifier(algorithm='kd_tree', leaf...   \n",
       "229  KNeighborsClassifier(algorithm='kd_tree', leaf...   \n",
       "157  KNeighborsClassifier(algorithm='kd_tree', leaf...   \n",
       "237  KNeighborsClassifier(algorithm='kd_tree', leaf...   \n",
       "169  DecisionTreeClassifier(class_weight=None, crit...   \n",
       "121  DecisionTreeClassifier(class_weight=None, crit...   \n",
       "209  DecisionTreeClassifier(class_weight=None, crit...   \n",
       "225  DecisionTreeClassifier(class_weight=None, crit...   \n",
       "185  DecisionTreeClassifier(class_weight=None, crit...   \n",
       "177  DecisionTreeClassifier(class_weight=None, crit...   \n",
       "..                                                 ...   \n",
       "11   (DecisionTreeClassifier(class_weight=None, cri...   \n",
       "2    LogisticRegression(C=0.01, class_weight=None, ...   \n",
       "179  (DecisionTreeClassifier(class_weight=None, cri...   \n",
       "35   (DecisionTreeClassifier(class_weight=None, cri...   \n",
       "10   LogisticRegression(C=0.01, class_weight=None, ...   \n",
       "14                             GaussianNB(priors=None)   \n",
       "227  (DecisionTreeClassifier(class_weight=None, cri...   \n",
       "16                                       BASELINE_RAND   \n",
       "2                                        BASELINE_RAND   \n",
       "8                                        BASELINE_RAND   \n",
       "139  (DecisionTreeClassifier(class_weight=None, cri...   \n",
       "67   (DecisionTreeClassifier(class_weight=None, cri...   \n",
       "187  (DecisionTreeClassifier(class_weight=None, cri...   \n",
       "115  (DecisionTreeClassifier(class_weight=None, cri...   \n",
       "4                                        BASELINE_RAND   \n",
       "12                                       BASELINE_RAND   \n",
       "14                                       BASELINE_RAND   \n",
       "99   (DecisionTreeClassifier(class_weight=None, cri...   \n",
       "6                                        BASELINE_RAND   \n",
       "0                                        BASELINE_RAND   \n",
       "18                                       BASELINE_RAND   \n",
       "107  (DecisionTreeClassifier(class_weight=None, cri...   \n",
       "10                                       BASELINE_RAND   \n",
       "219  (DecisionTreeClassifier(class_weight=None, cri...   \n",
       "3    (DecisionTreeClassifier(class_weight=None, cri...   \n",
       "195  (DecisionTreeClassifier(class_weight=None, cri...   \n",
       "51   (DecisionTreeClassifier(class_weight=None, cri...   \n",
       "147  (DecisionTreeClassifier(class_weight=None, cri...   \n",
       "83   (DecisionTreeClassifier(class_weight=None, cri...   \n",
       "171  (DecisionTreeClassifier(class_weight=None, cri...   \n",
       "\n",
       "                                            parameters  \\\n",
       "165  {'algorithm': 'kd_tree', 'weights': 'distance'...   \n",
       "21   {'algorithm': 'kd_tree', 'weights': 'distance'...   \n",
       "221  {'algorithm': 'kd_tree', 'weights': 'distance'...   \n",
       "29   {'algorithm': 'kd_tree', 'weights': 'distance'...   \n",
       "173  {'algorithm': 'kd_tree', 'weights': 'distance'...   \n",
       "141  {'algorithm': 'kd_tree', 'weights': 'distance'...   \n",
       "213  {'algorithm': 'kd_tree', 'weights': 'distance'...   \n",
       "133  {'algorithm': 'kd_tree', 'weights': 'distance'...   \n",
       "53   {'algorithm': 'kd_tree', 'weights': 'distance'...   \n",
       "125  {'algorithm': 'kd_tree', 'weights': 'distance'...   \n",
       "61   {'algorithm': 'kd_tree', 'weights': 'distance'...   \n",
       "181  {'algorithm': 'kd_tree', 'weights': 'distance'...   \n",
       "205  {'algorithm': 'kd_tree', 'weights': 'distance'...   \n",
       "69   {'algorithm': 'kd_tree', 'weights': 'distance'...   \n",
       "77   {'algorithm': 'kd_tree', 'weights': 'distance'...   \n",
       "117  {'algorithm': 'kd_tree', 'weights': 'distance'...   \n",
       "197  {'algorithm': 'kd_tree', 'weights': 'distance'...   \n",
       "109  {'algorithm': 'kd_tree', 'weights': 'distance'...   \n",
       "189  {'algorithm': 'kd_tree', 'weights': 'distance'...   \n",
       "149  {'algorithm': 'kd_tree', 'weights': 'distance'...   \n",
       "101  {'algorithm': 'kd_tree', 'weights': 'distance'...   \n",
       "229  {'algorithm': 'kd_tree', 'weights': 'distance'...   \n",
       "157  {'algorithm': 'kd_tree', 'weights': 'distance'...   \n",
       "237  {'algorithm': 'kd_tree', 'weights': 'distance'...   \n",
       "169  {'criterion': 'gini', 'max_depth': 20, 'min_sa...   \n",
       "121  {'criterion': 'gini', 'max_depth': 20, 'min_sa...   \n",
       "209  {'criterion': 'gini', 'max_depth': 20, 'min_sa...   \n",
       "225  {'criterion': 'gini', 'max_depth': 20, 'min_sa...   \n",
       "185  {'criterion': 'gini', 'max_depth': 20, 'min_sa...   \n",
       "177  {'criterion': 'gini', 'max_depth': 20, 'min_sa...   \n",
       "..                                                 ...   \n",
       "11   {'max_samples': 5, 'n_estimators': 5, 'max_fea...   \n",
       "2                         {'penalty': 'l2', 'C': 0.01}   \n",
       "179  {'max_samples': 5, 'n_estimators': 5, 'max_fea...   \n",
       "35   {'max_samples': 5, 'n_estimators': 5, 'max_fea...   \n",
       "10                        {'penalty': 'l2', 'C': 0.01}   \n",
       "14                                                  {}   \n",
       "227  {'max_samples': 5, 'n_estimators': 5, 'max_fea...   \n",
       "16                                                  {}   \n",
       "2                                                   {}   \n",
       "8                                                   {}   \n",
       "139  {'max_samples': 5, 'n_estimators': 5, 'max_fea...   \n",
       "67   {'max_samples': 5, 'n_estimators': 5, 'max_fea...   \n",
       "187  {'max_samples': 5, 'n_estimators': 5, 'max_fea...   \n",
       "115  {'max_samples': 5, 'n_estimators': 5, 'max_fea...   \n",
       "4                                                   {}   \n",
       "12                                                  {}   \n",
       "14                                                  {}   \n",
       "99   {'max_samples': 5, 'n_estimators': 5, 'max_fea...   \n",
       "6                                                   {}   \n",
       "0                                                   {}   \n",
       "18                                                  {}   \n",
       "107  {'max_samples': 5, 'n_estimators': 5, 'max_fea...   \n",
       "10                                                  {}   \n",
       "219  {'max_samples': 5, 'n_estimators': 5, 'max_fea...   \n",
       "3    {'max_samples': 5, 'n_estimators': 5, 'max_fea...   \n",
       "195  {'max_samples': 5, 'n_estimators': 5, 'max_fea...   \n",
       "51   {'max_samples': 5, 'n_estimators': 5, 'max_fea...   \n",
       "147  {'max_samples': 5, 'n_estimators': 5, 'max_fea...   \n",
       "83   {'max_samples': 5, 'n_estimators': 5, 'max_fea...   \n",
       "171  {'max_samples': 5, 'n_estimators': 5, 'max_fea...   \n",
       "\n",
       "                                 feature_sets     outcome  \\\n",
       "165               [economic, eviction, tract]  top20_rate   \n",
       "21                                 [eviction]  top20_rate   \n",
       "221            [eviction, tract, demographic]   top20_num   \n",
       "29                                 [eviction]   top20_num   \n",
       "173               [economic, eviction, tract]   top20_num   \n",
       "141                   [eviction, demographic]   top20_num   \n",
       "213            [eviction, tract, demographic]  top20_rate   \n",
       "133                   [eviction, demographic]  top20_rate   \n",
       "53                              [demographic]  top20_rate   \n",
       "125                         [eviction, tract]   top20_num   \n",
       "61                              [demographic]   top20_num   \n",
       "181         [economic, eviction, demographic]  top20_rate   \n",
       "205            [economic, tract, demographic]   top20_num   \n",
       "69                       [economic, eviction]  top20_rate   \n",
       "77                       [economic, eviction]   top20_num   \n",
       "117                         [eviction, tract]  top20_rate   \n",
       "197            [economic, tract, demographic]  top20_rate   \n",
       "109                   [economic, demographic]   top20_num   \n",
       "189         [economic, eviction, demographic]   top20_num   \n",
       "149                      [tract, demographic]  top20_rate   \n",
       "101                   [economic, demographic]  top20_rate   \n",
       "229  [economic, eviction, tract, demographic]  top20_rate   \n",
       "157                      [tract, demographic]   top20_num   \n",
       "237  [economic, eviction, tract, demographic]   top20_num   \n",
       "169               [economic, eviction, tract]   top20_num   \n",
       "121                         [eviction, tract]   top20_num   \n",
       "209            [eviction, tract, demographic]  top20_rate   \n",
       "225  [economic, eviction, tract, demographic]  top20_rate   \n",
       "185         [economic, eviction, demographic]   top20_num   \n",
       "177         [economic, eviction, demographic]  top20_rate   \n",
       "..                                        ...         ...   \n",
       "11                                 [economic]   top20_num   \n",
       "2                                  [economic]  top20_rate   \n",
       "179         [economic, eviction, demographic]  top20_rate   \n",
       "35                                    [tract]  top20_rate   \n",
       "10                                 [economic]   top20_num   \n",
       "14                                 [economic]   top20_num   \n",
       "227  [economic, eviction, tract, demographic]  top20_rate   \n",
       "16                                 prior_year  top20_rate   \n",
       "2                                  prior_year   top20_num   \n",
       "8                                  prior_year  top20_rate   \n",
       "139                   [eviction, demographic]   top20_num   \n",
       "67                       [economic, eviction]  top20_rate   \n",
       "187         [economic, eviction, demographic]   top20_num   \n",
       "115                         [eviction, tract]  top20_rate   \n",
       "4                                  prior_year  top20_rate   \n",
       "12                                 prior_year  top20_rate   \n",
       "14                                 prior_year   top20_num   \n",
       "99                    [economic, demographic]  top20_rate   \n",
       "6                                  prior_year   top20_num   \n",
       "0                                  prior_year  top20_rate   \n",
       "18                                 prior_year   top20_num   \n",
       "107                   [economic, demographic]   top20_num   \n",
       "10                                 prior_year   top20_num   \n",
       "219            [eviction, tract, demographic]   top20_num   \n",
       "3                                  [economic]  top20_rate   \n",
       "195            [economic, tract, demographic]  top20_rate   \n",
       "51                              [demographic]  top20_rate   \n",
       "147                      [tract, demographic]  top20_rate   \n",
       "83                          [economic, tract]  top20_rate   \n",
       "171               [economic, eviction, tract]   top20_num   \n",
       "\n",
       "                                          model_result   auc-roc    p_at_1  \\\n",
       "165                                               None  1.000000  1.000000   \n",
       "21                                                None  1.000000  1.000000   \n",
       "221                                               None  1.000000  1.000000   \n",
       "29                                                None  1.000000  1.000000   \n",
       "173                                               None  1.000000  1.000000   \n",
       "141                                               None  1.000000  1.000000   \n",
       "213                                               None  1.000000  1.000000   \n",
       "133                                               None  1.000000  1.000000   \n",
       "53                                                None  1.000000  1.000000   \n",
       "125                                               None  1.000000  1.000000   \n",
       "61                                                None  1.000000  1.000000   \n",
       "181                                               None  1.000000  1.000000   \n",
       "205                                               None  1.000000  1.000000   \n",
       "69                                                None  1.000000  1.000000   \n",
       "77                                                None  1.000000  1.000000   \n",
       "117                                               None  1.000000  1.000000   \n",
       "197                                               None  1.000000  1.000000   \n",
       "109                                               None  1.000000  1.000000   \n",
       "189                                               None  1.000000  1.000000   \n",
       "149                                               None  1.000000  1.000000   \n",
       "101                                               None  1.000000  1.000000   \n",
       "229                                               None  1.000000  1.000000   \n",
       "157                                               None  1.000000  1.000000   \n",
       "237                                               None  1.000000  1.000000   \n",
       "169                      DT: tree_viz: tree_viz169.png  0.999943  1.000000   \n",
       "121                      DT: tree_viz: tree_viz121.png  0.999941  1.000000   \n",
       "209                      DT: tree_viz: tree_viz209.png  0.999934  1.000000   \n",
       "225                      DT: tree_viz: tree_viz225.png  0.999912  1.000000   \n",
       "185                      DT: tree_viz: tree_viz185.png  0.999912  1.000000   \n",
       "177                      DT: tree_viz: tree_viz177.png  0.999908  1.000000   \n",
       "..                                                 ...       ...       ...   \n",
       "11   BAG: base_estimator: DecisionTreeClassifier(cl...  0.549285  0.010526   \n",
       "2    LR: coefficients:             coef            ...  0.546856  0.021053   \n",
       "179  BAG: base_estimator: DecisionTreeClassifier(cl...  0.540148  0.010526   \n",
       "35   BAG: base_estimator: DecisionTreeClassifier(cl...  0.535367  0.010526   \n",
       "10   LR: coefficients:             coef            ...  0.514286  0.294737   \n",
       "14                                                None  0.514036  0.000000   \n",
       "227  BAG: base_estimator: DecisionTreeClassifier(cl...  0.509599  0.010526   \n",
       "16                                                None  0.506315  0.010870   \n",
       "2                                                 None  0.501940  0.010526   \n",
       "8                                                 None  0.500604  0.010526   \n",
       "139  BAG: base_estimator: DecisionTreeClassifier(cl...  0.500000  0.000000   \n",
       "67   BAG: base_estimator: DecisionTreeClassifier(cl...  0.500000  0.000000   \n",
       "187  BAG: base_estimator: DecisionTreeClassifier(cl...  0.500000  0.000000   \n",
       "115  BAG: base_estimator: DecisionTreeClassifier(cl...  0.499724  0.000000   \n",
       "4                                                 None  0.498564  0.010638   \n",
       "12                                                None  0.498113  0.010526   \n",
       "14                                                None  0.495700  0.010526   \n",
       "99   BAG: base_estimator: DecisionTreeClassifier(cl...  0.495491  0.000000   \n",
       "6                                                 None  0.494979  0.010638   \n",
       "0                                                 None  0.493827  0.010526   \n",
       "18                                                None  0.491774  0.010870   \n",
       "107  BAG: base_estimator: DecisionTreeClassifier(cl...  0.491253  0.010526   \n",
       "10                                                None  0.490409  0.010526   \n",
       "219  BAG: base_estimator: DecisionTreeClassifier(cl...  0.486466  0.010526   \n",
       "3    BAG: base_estimator: DecisionTreeClassifier(cl...  0.469031  0.010526   \n",
       "195  BAG: base_estimator: DecisionTreeClassifier(cl...  0.445029  0.000000   \n",
       "51   BAG: base_estimator: DecisionTreeClassifier(cl...  0.423092  0.010526   \n",
       "147  BAG: base_estimator: DecisionTreeClassifier(cl...  0.415657  0.000000   \n",
       "83   BAG: base_estimator: DecisionTreeClassifier(cl...  0.410908  0.010526   \n",
       "171  BAG: base_estimator: DecisionTreeClassifier(cl...  0.315568  0.000000   \n",
       "\n",
       "       ...      r_at_20   r_at_30   r_at_50   f1_at_1   f1_at_2   f1_at_5  \\\n",
       "165    ...     1.000000  1.000000  1.000000  0.254351  0.451306  0.843972   \n",
       "21     ...     1.000000  1.000000  1.000000  0.254351  0.451306  0.843972   \n",
       "221    ...     1.000000  1.000000  1.000000  0.226460  0.406852  0.780328   \n",
       "29     ...     1.000000  1.000000  1.000000  0.226460  0.406852  0.780328   \n",
       "173    ...     1.000000  1.000000  1.000000  0.226460  0.406852  0.780328   \n",
       "141    ...     1.000000  1.000000  1.000000  0.226460  0.406852  0.780328   \n",
       "213    ...     1.000000  1.000000  1.000000  0.254351  0.451306  0.843972   \n",
       "133    ...     1.000000  1.000000  1.000000  0.254351  0.451306  0.843972   \n",
       "53     ...     1.000000  1.000000  1.000000  0.254351  0.451306  0.843972   \n",
       "125    ...     1.000000  1.000000  1.000000  0.226460  0.406852  0.780328   \n",
       "61     ...     1.000000  1.000000  1.000000  0.226460  0.406852  0.780328   \n",
       "181    ...     1.000000  1.000000  1.000000  0.254351  0.451306  0.843972   \n",
       "205    ...     1.000000  1.000000  1.000000  0.226460  0.406852  0.780328   \n",
       "69     ...     1.000000  1.000000  1.000000  0.254351  0.451306  0.843972   \n",
       "77     ...     1.000000  1.000000  1.000000  0.226460  0.406852  0.780328   \n",
       "117    ...     1.000000  1.000000  1.000000  0.254351  0.451306  0.843972   \n",
       "197    ...     1.000000  1.000000  1.000000  0.254351  0.451306  0.843972   \n",
       "109    ...     1.000000  1.000000  1.000000  0.226460  0.406852  0.780328   \n",
       "189    ...     1.000000  1.000000  1.000000  0.226460  0.406852  0.780328   \n",
       "149    ...     1.000000  1.000000  1.000000  0.254351  0.451306  0.843972   \n",
       "101    ...     1.000000  1.000000  1.000000  0.254351  0.451306  0.843972   \n",
       "229    ...     1.000000  1.000000  1.000000  0.254351  0.451306  0.843972   \n",
       "157    ...     1.000000  1.000000  1.000000  0.226460  0.406852  0.780328   \n",
       "237    ...     1.000000  1.000000  1.000000  0.226460  0.406852  0.780328   \n",
       "169    ...     1.000000  1.000000  1.000000  0.226460  0.406852  0.780328   \n",
       "121    ...     1.000000  1.000000  1.000000  0.226460  0.406852  0.780328   \n",
       "209    ...     1.000000  1.000000  1.000000  0.254351  0.451306  0.843972   \n",
       "225    ...     1.000000  1.000000  1.000000  0.254351  0.451306  0.843972   \n",
       "185    ...     1.000000  1.000000  1.000000  0.226460  0.406852  0.780328   \n",
       "177    ...     1.000000  1.000000  1.000000  0.254351  0.451306  0.843972   \n",
       "..     ...          ...       ...       ...       ...       ...       ...   \n",
       "11     ...     0.001344  0.470430  0.651882  0.002384  0.002141  0.001639   \n",
       "2      ...     0.105828  0.260736  0.685583  0.005355  0.014252  0.014184   \n",
       "179    ...     0.171779  0.171779  1.000000  0.002677  0.002375  0.001773   \n",
       "35     ...     0.115031  0.177914  1.000000  0.002677  0.002375  0.132979   \n",
       "10     ...     0.127688  0.274194  0.626344  0.066746  0.064240  0.052459   \n",
       "14     ...     0.087366  0.248656  0.615591  0.000000  0.000000  0.027869   \n",
       "227    ...     0.110429  0.110429  0.759202  0.002677  0.002375  0.127660   \n",
       "16     ...     0.089147  0.186047  1.000000  0.002309  0.002086  0.017771   \n",
       "2      ...     0.080645  0.154570  1.000000  0.002384  0.002141  0.026230   \n",
       "8      ...     0.075325  0.179221  1.000000  0.002312  0.002083  0.049799   \n",
       "139    ...     0.000000  0.198925  0.998656  0.000000  0.000000  0.000000   \n",
       "67     ...     0.000000  0.085890  0.998466  0.000000  0.000000  0.000000   \n",
       "187    ...     0.000000  0.198925  0.998656  0.000000  0.000000  0.000000   \n",
       "115    ...     0.000000  0.000000  0.523006  0.000000  0.000000  0.000000   \n",
       "4      ...     0.065050  0.232635  1.000000  0.001998  0.001825  0.073913   \n",
       "12     ...     0.072639  0.209443  1.000000  0.002172  0.001967  0.032184   \n",
       "14     ...     0.077301  0.163190  1.000000  0.002198  0.001988  0.001546   \n",
       "99     ...     0.000000  0.102761  1.000000  0.000000  0.000000  0.000000   \n",
       "6      ...     0.075472  0.155383  1.000000  0.002010  0.001835  0.001456   \n",
       "0      ...     0.056748  0.087423  1.000000  0.002677  0.002375  0.063830   \n",
       "18     ...     0.062865  0.105263  1.000000  0.002577  0.002301  0.015679   \n",
       "107    ...     0.004032  0.232527  1.000000  0.002384  0.006424  0.004918   \n",
       "10     ...     0.067282  0.147757  1.000000  0.002345  0.002110  0.001622   \n",
       "219    ...     0.186828  0.186828  1.000000  0.002384  0.002141  0.001639   \n",
       "3      ...     0.099693  0.099693  1.000000  0.002677  0.002375  0.001773   \n",
       "195    ...     0.000000  0.000000  0.415644  0.000000  0.000000  0.000000   \n",
       "51     ...     0.058282  0.058282  0.429448  0.002677  0.002375  0.001773   \n",
       "147    ...     0.000000  0.000000  0.420245  0.000000  0.000000  0.000000   \n",
       "83     ...     0.115031  0.115031  0.404908  0.002677  0.002375  0.001773   \n",
       "171    ...     0.000000  0.000000  0.456989  0.000000  0.000000  0.000000   \n",
       "\n",
       "     f1_at_10  f1_at_20  f1_at_30  f1_at_50  \n",
       "165  0.812968  0.510172  0.371616  0.240857  \n",
       "21   0.812968  0.510172  0.371616  0.240857  \n",
       "221  0.877358  0.561934  0.413219  0.270251  \n",
       "29   0.877358  0.561934  0.413219  0.270251  \n",
       "173  0.877358  0.561934  0.413219  0.270251  \n",
       "141  0.877358  0.561934  0.413219  0.270251  \n",
       "213  0.812968  0.510172  0.371616  0.240857  \n",
       "133  0.812968  0.510172  0.371616  0.240857  \n",
       "53   0.812968  0.510172  0.371616  0.240857  \n",
       "125  0.877358  0.561934  0.413219  0.270251  \n",
       "61   0.877358  0.561934  0.413219  0.270251  \n",
       "181  0.812968  0.510172  0.371616  0.240857  \n",
       "205  0.877358  0.561934  0.413219  0.270251  \n",
       "69   0.812968  0.510172  0.371616  0.240857  \n",
       "77   0.877358  0.561934  0.413219  0.270251  \n",
       "117  0.812968  0.510172  0.371616  0.240857  \n",
       "197  0.812968  0.510172  0.371616  0.240857  \n",
       "109  0.877358  0.561934  0.413219  0.270251  \n",
       "189  0.877358  0.561934  0.413219  0.270251  \n",
       "149  0.812968  0.510172  0.371616  0.240857  \n",
       "101  0.812968  0.510172  0.371616  0.240857  \n",
       "229  0.812968  0.510172  0.371616  0.240857  \n",
       "157  0.877358  0.561934  0.413219  0.270251  \n",
       "237  0.877358  0.561934  0.413219  0.270251  \n",
       "169  0.877358  0.561934  0.413219  0.270251  \n",
       "121  0.877358  0.561934  0.413219  0.270251  \n",
       "209  0.812968  0.510172  0.371616  0.240857  \n",
       "225  0.812968  0.510172  0.371616  0.240857  \n",
       "185  0.877358  0.561934  0.413219  0.270251  \n",
       "177  0.812968  0.510172  0.371616  0.240857  \n",
       "..        ...       ...       ...       ...  \n",
       "11   0.001179  0.000755  0.194390  0.176171  \n",
       "2    0.023691  0.053991  0.096894  0.165127  \n",
       "179  0.139651  0.087637  0.063836  0.240857  \n",
       "35   0.093516  0.058685  0.066116  0.240857  \n",
       "10   0.051887  0.071752  0.113302  0.169270  \n",
       "14   0.033019  0.049094  0.102749  0.166364  \n",
       "227  0.089776  0.056338  0.041037  0.182859  \n",
       "16   0.081033  0.052412  0.080853  0.285556  \n",
       "2    0.070755  0.045317  0.063871  0.270251  \n",
       "8    0.067403  0.043413  0.076180  0.278683  \n",
       "139  0.000000  0.000000  0.082199  0.269887  \n",
       "67   0.000000  0.000000  0.031918  0.240488  \n",
       "187  0.000000  0.000000  0.082199  0.269887  \n",
       "115  0.000000  0.000000  0.000000  0.125970  \n",
       "4    0.063681  0.042158  0.112684  0.321802  \n",
       "12   0.067265  0.043764  0.093514  0.294160  \n",
       "14   0.071066  0.046137  0.072106  0.290812  \n",
       "99   0.000000  0.000000  0.038188  0.240857  \n",
       "6    0.073633  0.048693  0.074886  0.320014  \n",
       "0    0.046135  0.028951  0.032488  0.240857  \n",
       "18   0.053317  0.033818  0.041475  0.256612  \n",
       "107  0.003538  0.002266  0.096084  0.270251  \n",
       "10   0.059684  0.038346  0.062033  0.274937  \n",
       "219  0.001179  0.104985  0.077201  0.270251  \n",
       "3    0.013716  0.050861  0.037048  0.240857  \n",
       "195  0.000000  0.000000  0.000000  0.100111  \n",
       "51   0.047382  0.029734  0.021659  0.103436  \n",
       "147  0.000000  0.000000  0.000000  0.101219  \n",
       "83   0.001247  0.058685  0.042747  0.097525  \n",
       "171  0.000000  0.000000  0.000000  0.123502  \n",
       "\n",
       "[260 rows x 30 columns]"
      ]
     },
     "execution_count": 5,
     "metadata": {},
     "output_type": "execute_result"
    }
   ],
   "source": [
    "results.sort_values(by='auc-roc', ascending=False)"
   ]
  },
  {
   "cell_type": "code",
   "execution_count": 6,
   "metadata": {
    "collapsed": true
   },
   "outputs": [
    {
     "name": "stdout",
     "output_type": "stream",
     "text": [
      "                                 training_dates  \\\n",
      "165  (2006-01-01 00:00:00, 2026-12-31 00:00:00)   \n",
      "21   (2006-01-01 00:00:00, 2008-12-31 00:00:00)   \n",
      "221  (2006-01-01 00:00:00, 2033-12-31 00:00:00)   \n",
      "29   (2006-01-01 00:00:00, 2009-12-31 00:00:00)   \n",
      "173  (2006-01-01 00:00:00, 2027-12-31 00:00:00)   \n",
      "141  (2006-01-01 00:00:00, 2023-12-31 00:00:00)   \n",
      "213  (2006-01-01 00:00:00, 2032-12-31 00:00:00)   \n",
      "133  (2006-01-01 00:00:00, 2022-12-31 00:00:00)   \n",
      "53   (2006-01-01 00:00:00, 2012-12-31 00:00:00)   \n",
      "125  (2006-01-01 00:00:00, 2021-12-31 00:00:00)   \n",
      "61   (2006-01-01 00:00:00, 2013-12-31 00:00:00)   \n",
      "181  (2006-01-01 00:00:00, 2028-12-31 00:00:00)   \n",
      "205  (2006-01-01 00:00:00, 2031-12-31 00:00:00)   \n",
      "69   (2006-01-01 00:00:00, 2014-12-31 00:00:00)   \n",
      "77   (2006-01-01 00:00:00, 2015-12-31 00:00:00)   \n",
      "117  (2006-01-01 00:00:00, 2020-12-31 00:00:00)   \n",
      "197  (2006-01-01 00:00:00, 2030-12-31 00:00:00)   \n",
      "109  (2006-01-01 00:00:00, 2019-12-31 00:00:00)   \n",
      "189  (2006-01-01 00:00:00, 2029-12-31 00:00:00)   \n",
      "149  (2006-01-01 00:00:00, 2024-12-31 00:00:00)   \n",
      "101  (2006-01-01 00:00:00, 2018-12-31 00:00:00)   \n",
      "229  (2006-01-01 00:00:00, 2034-12-31 00:00:00)   \n",
      "157  (2006-01-01 00:00:00, 2025-12-31 00:00:00)   \n",
      "237  (2006-01-01 00:00:00, 2035-12-31 00:00:00)   \n",
      "169  (2006-01-01 00:00:00, 2027-12-31 00:00:00)   \n",
      "121  (2006-01-01 00:00:00, 2021-12-31 00:00:00)   \n",
      "209  (2006-01-01 00:00:00, 2032-12-31 00:00:00)   \n",
      "225  (2006-01-01 00:00:00, 2034-12-31 00:00:00)   \n",
      "185  (2006-01-01 00:00:00, 2029-12-31 00:00:00)   \n",
      "177  (2006-01-01 00:00:00, 2028-12-31 00:00:00)   \n",
      "..                                          ...   \n",
      "11   (2006-01-01 00:00:00, 2007-12-31 00:00:00)   \n",
      "2    (2006-01-01 00:00:00, 2006-12-31 00:00:00)   \n",
      "179  (2006-01-01 00:00:00, 2028-12-31 00:00:00)   \n",
      "35   (2006-01-01 00:00:00, 2010-12-31 00:00:00)   \n",
      "10   (2006-01-01 00:00:00, 2007-12-31 00:00:00)   \n",
      "14   (2006-01-01 00:00:00, 2007-12-31 00:00:00)   \n",
      "227  (2006-01-01 00:00:00, 2034-12-31 00:00:00)   \n",
      "16   (2006-01-01 00:00:00, 2014-12-31 00:00:00)   \n",
      "2    (2006-01-01 00:00:00, 2007-12-31 00:00:00)   \n",
      "8    (2006-01-01 00:00:00, 2010-12-31 00:00:00)   \n",
      "139  (2006-01-01 00:00:00, 2023-12-31 00:00:00)   \n",
      "67   (2006-01-01 00:00:00, 2014-12-31 00:00:00)   \n",
      "187  (2006-01-01 00:00:00, 2029-12-31 00:00:00)   \n",
      "115  (2006-01-01 00:00:00, 2020-12-31 00:00:00)   \n",
      "4    (2006-01-01 00:00:00, 2008-12-31 00:00:00)   \n",
      "12   (2006-01-01 00:00:00, 2012-12-31 00:00:00)   \n",
      "14   (2006-01-01 00:00:00, 2013-12-31 00:00:00)   \n",
      "99   (2006-01-01 00:00:00, 2018-12-31 00:00:00)   \n",
      "6    (2006-01-01 00:00:00, 2009-12-31 00:00:00)   \n",
      "0    (2006-01-01 00:00:00, 2006-12-31 00:00:00)   \n",
      "18   (2006-01-01 00:00:00, 2015-12-31 00:00:00)   \n",
      "107  (2006-01-01 00:00:00, 2019-12-31 00:00:00)   \n",
      "10   (2006-01-01 00:00:00, 2011-12-31 00:00:00)   \n",
      "219  (2006-01-01 00:00:00, 2033-12-31 00:00:00)   \n",
      "3    (2006-01-01 00:00:00, 2006-12-31 00:00:00)   \n",
      "195  (2006-01-01 00:00:00, 2030-12-31 00:00:00)   \n",
      "51   (2006-01-01 00:00:00, 2012-12-31 00:00:00)   \n",
      "147  (2006-01-01 00:00:00, 2024-12-31 00:00:00)   \n",
      "83   (2006-01-01 00:00:00, 2016-12-31 00:00:00)   \n",
      "171  (2006-01-01 00:00:00, 2027-12-31 00:00:00)   \n",
      "\n",
      "                                  testing_dates      model_key  \\\n",
      "165  (2007-01-01 00:00:00, 2007-12-31 00:00:00)            KNN   \n",
      "21   (2007-01-01 00:00:00, 2007-12-31 00:00:00)            KNN   \n",
      "221  (2007-01-01 00:00:00, 2007-12-31 00:00:00)            KNN   \n",
      "29   (2007-01-01 00:00:00, 2007-12-31 00:00:00)            KNN   \n",
      "173  (2007-01-01 00:00:00, 2007-12-31 00:00:00)            KNN   \n",
      "141  (2007-01-01 00:00:00, 2007-12-31 00:00:00)            KNN   \n",
      "213  (2007-01-01 00:00:00, 2007-12-31 00:00:00)            KNN   \n",
      "133  (2007-01-01 00:00:00, 2007-12-31 00:00:00)            KNN   \n",
      "53   (2007-01-01 00:00:00, 2007-12-31 00:00:00)            KNN   \n",
      "125  (2007-01-01 00:00:00, 2007-12-31 00:00:00)            KNN   \n",
      "61   (2007-01-01 00:00:00, 2007-12-31 00:00:00)            KNN   \n",
      "181  (2007-01-01 00:00:00, 2007-12-31 00:00:00)            KNN   \n",
      "205  (2007-01-01 00:00:00, 2007-12-31 00:00:00)            KNN   \n",
      "69   (2007-01-01 00:00:00, 2007-12-31 00:00:00)            KNN   \n",
      "77   (2007-01-01 00:00:00, 2007-12-31 00:00:00)            KNN   \n",
      "117  (2007-01-01 00:00:00, 2007-12-31 00:00:00)            KNN   \n",
      "197  (2007-01-01 00:00:00, 2007-12-31 00:00:00)            KNN   \n",
      "109  (2007-01-01 00:00:00, 2007-12-31 00:00:00)            KNN   \n",
      "189  (2007-01-01 00:00:00, 2007-12-31 00:00:00)            KNN   \n",
      "149  (2007-01-01 00:00:00, 2007-12-31 00:00:00)            KNN   \n",
      "101  (2007-01-01 00:00:00, 2007-12-31 00:00:00)            KNN   \n",
      "229  (2007-01-01 00:00:00, 2007-12-31 00:00:00)            KNN   \n",
      "157  (2007-01-01 00:00:00, 2007-12-31 00:00:00)            KNN   \n",
      "237  (2007-01-01 00:00:00, 2007-12-31 00:00:00)            KNN   \n",
      "169  (2007-01-01 00:00:00, 2007-12-31 00:00:00)             DT   \n",
      "121  (2007-01-01 00:00:00, 2007-12-31 00:00:00)             DT   \n",
      "209  (2007-01-01 00:00:00, 2007-12-31 00:00:00)             DT   \n",
      "225  (2007-01-01 00:00:00, 2007-12-31 00:00:00)             DT   \n",
      "185  (2007-01-01 00:00:00, 2007-12-31 00:00:00)             DT   \n",
      "177  (2007-01-01 00:00:00, 2007-12-31 00:00:00)             DT   \n",
      "..                                          ...            ...   \n",
      "11   (2007-01-01 00:00:00, 2007-12-31 00:00:00)            BAG   \n",
      "2    (2007-01-01 00:00:00, 2007-12-31 00:00:00)             LR   \n",
      "179  (2007-01-01 00:00:00, 2007-12-31 00:00:00)            BAG   \n",
      "35   (2007-01-01 00:00:00, 2007-12-31 00:00:00)            BAG   \n",
      "10   (2007-01-01 00:00:00, 2007-12-31 00:00:00)             LR   \n",
      "14   (2007-01-01 00:00:00, 2007-12-31 00:00:00)             NB   \n",
      "227  (2007-01-01 00:00:00, 2007-12-31 00:00:00)            BAG   \n",
      "16   (2015-01-01 00:00:00, 2015-12-31 00:00:00)  BASELINE_RAND   \n",
      "2    (2007-01-01 00:00:00, 2007-12-31 00:00:00)  BASELINE_RAND   \n",
      "8    (2011-01-01 00:00:00, 2011-12-31 00:00:00)  BASELINE_RAND   \n",
      "139  (2007-01-01 00:00:00, 2007-12-31 00:00:00)            BAG   \n",
      "67   (2007-01-01 00:00:00, 2007-12-31 00:00:00)            BAG   \n",
      "187  (2007-01-01 00:00:00, 2007-12-31 00:00:00)            BAG   \n",
      "115  (2007-01-01 00:00:00, 2007-12-31 00:00:00)            BAG   \n",
      "4    (2009-01-01 00:00:00, 2009-12-31 00:00:00)  BASELINE_RAND   \n",
      "12   (2013-01-01 00:00:00, 2013-12-31 00:00:00)  BASELINE_RAND   \n",
      "14   (2013-01-01 00:00:00, 2013-12-31 00:00:00)  BASELINE_RAND   \n",
      "99   (2007-01-01 00:00:00, 2007-12-31 00:00:00)            BAG   \n",
      "6    (2009-01-01 00:00:00, 2009-12-31 00:00:00)  BASELINE_RAND   \n",
      "0    (2007-01-01 00:00:00, 2007-12-31 00:00:00)  BASELINE_RAND   \n",
      "18   (2015-01-01 00:00:00, 2015-12-31 00:00:00)  BASELINE_RAND   \n",
      "107  (2007-01-01 00:00:00, 2007-12-31 00:00:00)            BAG   \n",
      "10   (2011-01-01 00:00:00, 2011-12-31 00:00:00)  BASELINE_RAND   \n",
      "219  (2007-01-01 00:00:00, 2007-12-31 00:00:00)            BAG   \n",
      "3    (2007-01-01 00:00:00, 2007-12-31 00:00:00)            BAG   \n",
      "195  (2007-01-01 00:00:00, 2007-12-31 00:00:00)            BAG   \n",
      "51   (2007-01-01 00:00:00, 2007-12-31 00:00:00)            BAG   \n",
      "147  (2007-01-01 00:00:00, 2007-12-31 00:00:00)            BAG   \n",
      "83   (2007-01-01 00:00:00, 2007-12-31 00:00:00)            BAG   \n",
      "171  (2007-01-01 00:00:00, 2007-12-31 00:00:00)            BAG   \n",
      "\n",
      "                                            classifier  \\\n",
      "165  KNeighborsClassifier(algorithm='kd_tree', leaf...   \n",
      "21   KNeighborsClassifier(algorithm='kd_tree', leaf...   \n",
      "221  KNeighborsClassifier(algorithm='kd_tree', leaf...   \n",
      "29   KNeighborsClassifier(algorithm='kd_tree', leaf...   \n",
      "173  KNeighborsClassifier(algorithm='kd_tree', leaf...   \n",
      "141  KNeighborsClassifier(algorithm='kd_tree', leaf...   \n",
      "213  KNeighborsClassifier(algorithm='kd_tree', leaf...   \n",
      "133  KNeighborsClassifier(algorithm='kd_tree', leaf...   \n",
      "53   KNeighborsClassifier(algorithm='kd_tree', leaf...   \n",
      "125  KNeighborsClassifier(algorithm='kd_tree', leaf...   \n",
      "61   KNeighborsClassifier(algorithm='kd_tree', leaf...   \n",
      "181  KNeighborsClassifier(algorithm='kd_tree', leaf...   \n",
      "205  KNeighborsClassifier(algorithm='kd_tree', leaf...   \n",
      "69   KNeighborsClassifier(algorithm='kd_tree', leaf...   \n",
      "77   KNeighborsClassifier(algorithm='kd_tree', leaf...   \n",
      "117  KNeighborsClassifier(algorithm='kd_tree', leaf...   \n",
      "197  KNeighborsClassifier(algorithm='kd_tree', leaf...   \n",
      "109  KNeighborsClassifier(algorithm='kd_tree', leaf...   \n",
      "189  KNeighborsClassifier(algorithm='kd_tree', leaf...   \n",
      "149  KNeighborsClassifier(algorithm='kd_tree', leaf...   \n",
      "101  KNeighborsClassifier(algorithm='kd_tree', leaf...   \n",
      "229  KNeighborsClassifier(algorithm='kd_tree', leaf...   \n",
      "157  KNeighborsClassifier(algorithm='kd_tree', leaf...   \n",
      "237  KNeighborsClassifier(algorithm='kd_tree', leaf...   \n",
      "169  DecisionTreeClassifier(class_weight=None, crit...   \n",
      "121  DecisionTreeClassifier(class_weight=None, crit...   \n",
      "209  DecisionTreeClassifier(class_weight=None, crit...   \n",
      "225  DecisionTreeClassifier(class_weight=None, crit...   \n",
      "185  DecisionTreeClassifier(class_weight=None, crit...   \n",
      "177  DecisionTreeClassifier(class_weight=None, crit...   \n",
      "..                                                 ...   \n",
      "11   (DecisionTreeClassifier(class_weight=None, cri...   \n",
      "2    LogisticRegression(C=0.01, class_weight=None, ...   \n",
      "179  (DecisionTreeClassifier(class_weight=None, cri...   \n",
      "35   (DecisionTreeClassifier(class_weight=None, cri...   \n",
      "10   LogisticRegression(C=0.01, class_weight=None, ...   \n",
      "14                             GaussianNB(priors=None)   \n",
      "227  (DecisionTreeClassifier(class_weight=None, cri...   \n",
      "16                                       BASELINE_RAND   \n",
      "2                                        BASELINE_RAND   \n",
      "8                                        BASELINE_RAND   \n",
      "139  (DecisionTreeClassifier(class_weight=None, cri...   \n",
      "67   (DecisionTreeClassifier(class_weight=None, cri...   \n",
      "187  (DecisionTreeClassifier(class_weight=None, cri...   \n",
      "115  (DecisionTreeClassifier(class_weight=None, cri...   \n",
      "4                                        BASELINE_RAND   \n",
      "12                                       BASELINE_RAND   \n",
      "14                                       BASELINE_RAND   \n",
      "99   (DecisionTreeClassifier(class_weight=None, cri...   \n",
      "6                                        BASELINE_RAND   \n",
      "0                                        BASELINE_RAND   \n",
      "18                                       BASELINE_RAND   \n",
      "107  (DecisionTreeClassifier(class_weight=None, cri...   \n",
      "10                                       BASELINE_RAND   \n",
      "219  (DecisionTreeClassifier(class_weight=None, cri...   \n",
      "3    (DecisionTreeClassifier(class_weight=None, cri...   \n",
      "195  (DecisionTreeClassifier(class_weight=None, cri...   \n",
      "51   (DecisionTreeClassifier(class_weight=None, cri...   \n",
      "147  (DecisionTreeClassifier(class_weight=None, cri...   \n",
      "83   (DecisionTreeClassifier(class_weight=None, cri...   \n",
      "171  (DecisionTreeClassifier(class_weight=None, cri...   \n",
      "\n",
      "                                            parameters  \\\n",
      "165  {'algorithm': 'kd_tree', 'weights': 'distance'...   \n",
      "21   {'algorithm': 'kd_tree', 'weights': 'distance'...   \n",
      "221  {'algorithm': 'kd_tree', 'weights': 'distance'...   \n",
      "29   {'algorithm': 'kd_tree', 'weights': 'distance'...   \n",
      "173  {'algorithm': 'kd_tree', 'weights': 'distance'...   \n",
      "141  {'algorithm': 'kd_tree', 'weights': 'distance'...   \n",
      "213  {'algorithm': 'kd_tree', 'weights': 'distance'...   \n",
      "133  {'algorithm': 'kd_tree', 'weights': 'distance'...   \n",
      "53   {'algorithm': 'kd_tree', 'weights': 'distance'...   \n",
      "125  {'algorithm': 'kd_tree', 'weights': 'distance'...   \n",
      "61   {'algorithm': 'kd_tree', 'weights': 'distance'...   \n",
      "181  {'algorithm': 'kd_tree', 'weights': 'distance'...   \n",
      "205  {'algorithm': 'kd_tree', 'weights': 'distance'...   \n",
      "69   {'algorithm': 'kd_tree', 'weights': 'distance'...   \n",
      "77   {'algorithm': 'kd_tree', 'weights': 'distance'...   \n",
      "117  {'algorithm': 'kd_tree', 'weights': 'distance'...   \n",
      "197  {'algorithm': 'kd_tree', 'weights': 'distance'...   \n",
      "109  {'algorithm': 'kd_tree', 'weights': 'distance'...   \n",
      "189  {'algorithm': 'kd_tree', 'weights': 'distance'...   \n",
      "149  {'algorithm': 'kd_tree', 'weights': 'distance'...   \n",
      "101  {'algorithm': 'kd_tree', 'weights': 'distance'...   \n",
      "229  {'algorithm': 'kd_tree', 'weights': 'distance'...   \n",
      "157  {'algorithm': 'kd_tree', 'weights': 'distance'...   \n",
      "237  {'algorithm': 'kd_tree', 'weights': 'distance'...   \n",
      "169  {'criterion': 'gini', 'max_depth': 20, 'min_sa...   \n",
      "121  {'criterion': 'gini', 'max_depth': 20, 'min_sa...   \n",
      "209  {'criterion': 'gini', 'max_depth': 20, 'min_sa...   \n",
      "225  {'criterion': 'gini', 'max_depth': 20, 'min_sa...   \n",
      "185  {'criterion': 'gini', 'max_depth': 20, 'min_sa...   \n",
      "177  {'criterion': 'gini', 'max_depth': 20, 'min_sa...   \n",
      "..                                                 ...   \n",
      "11   {'max_samples': 5, 'n_estimators': 5, 'max_fea...   \n",
      "2                         {'penalty': 'l2', 'C': 0.01}   \n",
      "179  {'max_samples': 5, 'n_estimators': 5, 'max_fea...   \n",
      "35   {'max_samples': 5, 'n_estimators': 5, 'max_fea...   \n",
      "10                        {'penalty': 'l2', 'C': 0.01}   \n",
      "14                                                  {}   \n",
      "227  {'max_samples': 5, 'n_estimators': 5, 'max_fea...   \n",
      "16                                                  {}   \n",
      "2                                                   {}   \n",
      "8                                                   {}   \n",
      "139  {'max_samples': 5, 'n_estimators': 5, 'max_fea...   \n",
      "67   {'max_samples': 5, 'n_estimators': 5, 'max_fea...   \n",
      "187  {'max_samples': 5, 'n_estimators': 5, 'max_fea...   \n",
      "115  {'max_samples': 5, 'n_estimators': 5, 'max_fea...   \n",
      "4                                                   {}   \n",
      "12                                                  {}   \n",
      "14                                                  {}   \n",
      "99   {'max_samples': 5, 'n_estimators': 5, 'max_fea...   \n",
      "6                                                   {}   \n",
      "0                                                   {}   \n",
      "18                                                  {}   \n",
      "107  {'max_samples': 5, 'n_estimators': 5, 'max_fea...   \n",
      "10                                                  {}   \n",
      "219  {'max_samples': 5, 'n_estimators': 5, 'max_fea...   \n",
      "3    {'max_samples': 5, 'n_estimators': 5, 'max_fea...   \n",
      "195  {'max_samples': 5, 'n_estimators': 5, 'max_fea...   \n",
      "51   {'max_samples': 5, 'n_estimators': 5, 'max_fea...   \n",
      "147  {'max_samples': 5, 'n_estimators': 5, 'max_fea...   \n",
      "83   {'max_samples': 5, 'n_estimators': 5, 'max_fea...   \n",
      "171  {'max_samples': 5, 'n_estimators': 5, 'max_fea...   \n",
      "\n",
      "                                 feature_sets     outcome  \\\n",
      "165               [economic, eviction, tract]  top20_rate   \n",
      "21                                 [eviction]  top20_rate   \n",
      "221            [eviction, tract, demographic]   top20_num   \n",
      "29                                 [eviction]   top20_num   \n",
      "173               [economic, eviction, tract]   top20_num   \n",
      "141                   [eviction, demographic]   top20_num   \n",
      "213            [eviction, tract, demographic]  top20_rate   \n",
      "133                   [eviction, demographic]  top20_rate   \n",
      "53                              [demographic]  top20_rate   \n",
      "125                         [eviction, tract]   top20_num   \n",
      "61                              [demographic]   top20_num   \n",
      "181         [economic, eviction, demographic]  top20_rate   \n",
      "205            [economic, tract, demographic]   top20_num   \n",
      "69                       [economic, eviction]  top20_rate   \n",
      "77                       [economic, eviction]   top20_num   \n",
      "117                         [eviction, tract]  top20_rate   \n",
      "197            [economic, tract, demographic]  top20_rate   \n",
      "109                   [economic, demographic]   top20_num   \n",
      "189         [economic, eviction, demographic]   top20_num   \n",
      "149                      [tract, demographic]  top20_rate   \n",
      "101                   [economic, demographic]  top20_rate   \n",
      "229  [economic, eviction, tract, demographic]  top20_rate   \n",
      "157                      [tract, demographic]   top20_num   \n",
      "237  [economic, eviction, tract, demographic]   top20_num   \n",
      "169               [economic, eviction, tract]   top20_num   \n",
      "121                         [eviction, tract]   top20_num   \n",
      "209            [eviction, tract, demographic]  top20_rate   \n",
      "225  [economic, eviction, tract, demographic]  top20_rate   \n",
      "185         [economic, eviction, demographic]   top20_num   \n",
      "177         [economic, eviction, demographic]  top20_rate   \n",
      "..                                        ...         ...   \n",
      "11                                 [economic]   top20_num   \n",
      "2                                  [economic]  top20_rate   \n",
      "179         [economic, eviction, demographic]  top20_rate   \n",
      "35                                    [tract]  top20_rate   \n",
      "10                                 [economic]   top20_num   \n",
      "14                                 [economic]   top20_num   \n",
      "227  [economic, eviction, tract, demographic]  top20_rate   \n",
      "16                                 prior_year  top20_rate   \n",
      "2                                  prior_year   top20_num   \n",
      "8                                  prior_year  top20_rate   \n",
      "139                   [eviction, demographic]   top20_num   \n",
      "67                       [economic, eviction]  top20_rate   \n",
      "187         [economic, eviction, demographic]   top20_num   \n",
      "115                         [eviction, tract]  top20_rate   \n",
      "4                                  prior_year  top20_rate   \n",
      "12                                 prior_year  top20_rate   \n",
      "14                                 prior_year   top20_num   \n",
      "99                    [economic, demographic]  top20_rate   \n",
      "6                                  prior_year   top20_num   \n",
      "0                                  prior_year  top20_rate   \n",
      "18                                 prior_year   top20_num   \n",
      "107                   [economic, demographic]   top20_num   \n",
      "10                                 prior_year   top20_num   \n",
      "219            [eviction, tract, demographic]   top20_num   \n",
      "3                                  [economic]  top20_rate   \n",
      "195            [economic, tract, demographic]  top20_rate   \n",
      "51                              [demographic]  top20_rate   \n",
      "147                      [tract, demographic]  top20_rate   \n",
      "83                          [economic, tract]  top20_rate   \n",
      "171               [economic, eviction, tract]   top20_num   \n",
      "\n",
      "                                          model_result   auc-roc    p_at_1  \\\n",
      "165                                               None  1.000000  1.000000   \n",
      "21                                                None  1.000000  1.000000   \n",
      "221                                               None  1.000000  1.000000   \n",
      "29                                                None  1.000000  1.000000   \n",
      "173                                               None  1.000000  1.000000   \n",
      "141                                               None  1.000000  1.000000   \n",
      "213                                               None  1.000000  1.000000   \n",
      "133                                               None  1.000000  1.000000   \n",
      "53                                                None  1.000000  1.000000   \n",
      "125                                               None  1.000000  1.000000   \n",
      "61                                                None  1.000000  1.000000   \n",
      "181                                               None  1.000000  1.000000   \n",
      "205                                               None  1.000000  1.000000   \n",
      "69                                                None  1.000000  1.000000   \n",
      "77                                                None  1.000000  1.000000   \n",
      "117                                               None  1.000000  1.000000   \n",
      "197                                               None  1.000000  1.000000   \n",
      "109                                               None  1.000000  1.000000   \n",
      "189                                               None  1.000000  1.000000   \n",
      "149                                               None  1.000000  1.000000   \n",
      "101                                               None  1.000000  1.000000   \n",
      "229                                               None  1.000000  1.000000   \n",
      "157                                               None  1.000000  1.000000   \n",
      "237                                               None  1.000000  1.000000   \n",
      "169                      DT: tree_viz: tree_viz169.png  0.999943  1.000000   \n",
      "121                      DT: tree_viz: tree_viz121.png  0.999941  1.000000   \n",
      "209                      DT: tree_viz: tree_viz209.png  0.999934  1.000000   \n",
      "225                      DT: tree_viz: tree_viz225.png  0.999912  1.000000   \n",
      "185                      DT: tree_viz: tree_viz185.png  0.999912  1.000000   \n",
      "177                      DT: tree_viz: tree_viz177.png  0.999908  1.000000   \n",
      "..                                                 ...       ...       ...   \n",
      "11   BAG: base_estimator: DecisionTreeClassifier(cl...  0.549285  0.010526   \n",
      "2    LR: coefficients:             coef            ...  0.546856  0.021053   \n",
      "179  BAG: base_estimator: DecisionTreeClassifier(cl...  0.540148  0.010526   \n",
      "35   BAG: base_estimator: DecisionTreeClassifier(cl...  0.535367  0.010526   \n",
      "10   LR: coefficients:             coef            ...  0.514286  0.294737   \n",
      "14                                                None  0.514036  0.000000   \n",
      "227  BAG: base_estimator: DecisionTreeClassifier(cl...  0.509599  0.010526   \n",
      "16                                                None  0.506315  0.010870   \n",
      "2                                                 None  0.501940  0.010526   \n",
      "8                                                 None  0.500604  0.010526   \n",
      "139  BAG: base_estimator: DecisionTreeClassifier(cl...  0.500000  0.000000   \n",
      "67   BAG: base_estimator: DecisionTreeClassifier(cl...  0.500000  0.000000   \n",
      "187  BAG: base_estimator: DecisionTreeClassifier(cl...  0.500000  0.000000   \n",
      "115  BAG: base_estimator: DecisionTreeClassifier(cl...  0.499724  0.000000   \n",
      "4                                                 None  0.498564  0.010638   \n",
      "12                                                None  0.498113  0.010526   \n",
      "14                                                None  0.495700  0.010526   \n",
      "99   BAG: base_estimator: DecisionTreeClassifier(cl...  0.495491  0.000000   \n",
      "6                                                 None  0.494979  0.010638   \n",
      "0                                                 None  0.493827  0.010526   \n",
      "18                                                None  0.491774  0.010870   \n",
      "107  BAG: base_estimator: DecisionTreeClassifier(cl...  0.491253  0.010526   \n",
      "10                                                None  0.490409  0.010526   \n",
      "219  BAG: base_estimator: DecisionTreeClassifier(cl...  0.486466  0.010526   \n",
      "3    BAG: base_estimator: DecisionTreeClassifier(cl...  0.469031  0.010526   \n",
      "195  BAG: base_estimator: DecisionTreeClassifier(cl...  0.445029  0.000000   \n",
      "51   BAG: base_estimator: DecisionTreeClassifier(cl...  0.423092  0.010526   \n",
      "147  BAG: base_estimator: DecisionTreeClassifier(cl...  0.415657  0.000000   \n",
      "83   BAG: base_estimator: DecisionTreeClassifier(cl...  0.410908  0.010526   \n",
      "171  BAG: base_estimator: DecisionTreeClassifier(cl...  0.315568  0.000000   \n",
      "\n",
      "       ...      r_at_20   r_at_30   r_at_50   f1_at_1   f1_at_2   f1_at_5  \\\n",
      "165    ...     1.000000  1.000000  1.000000  0.254351  0.451306  0.843972   \n",
      "21     ...     1.000000  1.000000  1.000000  0.254351  0.451306  0.843972   \n",
      "221    ...     1.000000  1.000000  1.000000  0.226460  0.406852  0.780328   \n",
      "29     ...     1.000000  1.000000  1.000000  0.226460  0.406852  0.780328   \n",
      "173    ...     1.000000  1.000000  1.000000  0.226460  0.406852  0.780328   \n",
      "141    ...     1.000000  1.000000  1.000000  0.226460  0.406852  0.780328   \n",
      "213    ...     1.000000  1.000000  1.000000  0.254351  0.451306  0.843972   \n",
      "133    ...     1.000000  1.000000  1.000000  0.254351  0.451306  0.843972   \n",
      "53     ...     1.000000  1.000000  1.000000  0.254351  0.451306  0.843972   \n",
      "125    ...     1.000000  1.000000  1.000000  0.226460  0.406852  0.780328   \n",
      "61     ...     1.000000  1.000000  1.000000  0.226460  0.406852  0.780328   \n",
      "181    ...     1.000000  1.000000  1.000000  0.254351  0.451306  0.843972   \n",
      "205    ...     1.000000  1.000000  1.000000  0.226460  0.406852  0.780328   \n",
      "69     ...     1.000000  1.000000  1.000000  0.254351  0.451306  0.843972   \n",
      "77     ...     1.000000  1.000000  1.000000  0.226460  0.406852  0.780328   \n",
      "117    ...     1.000000  1.000000  1.000000  0.254351  0.451306  0.843972   \n",
      "197    ...     1.000000  1.000000  1.000000  0.254351  0.451306  0.843972   \n",
      "109    ...     1.000000  1.000000  1.000000  0.226460  0.406852  0.780328   \n",
      "189    ...     1.000000  1.000000  1.000000  0.226460  0.406852  0.780328   \n",
      "149    ...     1.000000  1.000000  1.000000  0.254351  0.451306  0.843972   \n",
      "101    ...     1.000000  1.000000  1.000000  0.254351  0.451306  0.843972   \n",
      "229    ...     1.000000  1.000000  1.000000  0.254351  0.451306  0.843972   \n",
      "157    ...     1.000000  1.000000  1.000000  0.226460  0.406852  0.780328   \n",
      "237    ...     1.000000  1.000000  1.000000  0.226460  0.406852  0.780328   \n",
      "169    ...     1.000000  1.000000  1.000000  0.226460  0.406852  0.780328   \n",
      "121    ...     1.000000  1.000000  1.000000  0.226460  0.406852  0.780328   \n",
      "209    ...     1.000000  1.000000  1.000000  0.254351  0.451306  0.843972   \n",
      "225    ...     1.000000  1.000000  1.000000  0.254351  0.451306  0.843972   \n",
      "185    ...     1.000000  1.000000  1.000000  0.226460  0.406852  0.780328   \n",
      "177    ...     1.000000  1.000000  1.000000  0.254351  0.451306  0.843972   \n",
      "..     ...          ...       ...       ...       ...       ...       ...   \n",
      "11     ...     0.001344  0.470430  0.651882  0.002384  0.002141  0.001639   \n",
      "2      ...     0.105828  0.260736  0.685583  0.005355  0.014252  0.014184   \n",
      "179    ...     0.171779  0.171779  1.000000  0.002677  0.002375  0.001773   \n",
      "35     ...     0.115031  0.177914  1.000000  0.002677  0.002375  0.132979   \n",
      "10     ...     0.127688  0.274194  0.626344  0.066746  0.064240  0.052459   \n",
      "14     ...     0.087366  0.248656  0.615591  0.000000  0.000000  0.027869   \n",
      "227    ...     0.110429  0.110429  0.759202  0.002677  0.002375  0.127660   \n",
      "16     ...     0.089147  0.186047  1.000000  0.002309  0.002086  0.017771   \n",
      "2      ...     0.080645  0.154570  1.000000  0.002384  0.002141  0.026230   \n",
      "8      ...     0.075325  0.179221  1.000000  0.002312  0.002083  0.049799   \n",
      "139    ...     0.000000  0.198925  0.998656  0.000000  0.000000  0.000000   \n",
      "67     ...     0.000000  0.085890  0.998466  0.000000  0.000000  0.000000   \n",
      "187    ...     0.000000  0.198925  0.998656  0.000000  0.000000  0.000000   \n",
      "115    ...     0.000000  0.000000  0.523006  0.000000  0.000000  0.000000   \n",
      "4      ...     0.065050  0.232635  1.000000  0.001998  0.001825  0.073913   \n",
      "12     ...     0.072639  0.209443  1.000000  0.002172  0.001967  0.032184   \n",
      "14     ...     0.077301  0.163190  1.000000  0.002198  0.001988  0.001546   \n",
      "99     ...     0.000000  0.102761  1.000000  0.000000  0.000000  0.000000   \n",
      "6      ...     0.075472  0.155383  1.000000  0.002010  0.001835  0.001456   \n",
      "0      ...     0.056748  0.087423  1.000000  0.002677  0.002375  0.063830   \n",
      "18     ...     0.062865  0.105263  1.000000  0.002577  0.002301  0.015679   \n",
      "107    ...     0.004032  0.232527  1.000000  0.002384  0.006424  0.004918   \n",
      "10     ...     0.067282  0.147757  1.000000  0.002345  0.002110  0.001622   \n",
      "219    ...     0.186828  0.186828  1.000000  0.002384  0.002141  0.001639   \n",
      "3      ...     0.099693  0.099693  1.000000  0.002677  0.002375  0.001773   \n",
      "195    ...     0.000000  0.000000  0.415644  0.000000  0.000000  0.000000   \n",
      "51     ...     0.058282  0.058282  0.429448  0.002677  0.002375  0.001773   \n",
      "147    ...     0.000000  0.000000  0.420245  0.000000  0.000000  0.000000   \n",
      "83     ...     0.115031  0.115031  0.404908  0.002677  0.002375  0.001773   \n",
      "171    ...     0.000000  0.000000  0.456989  0.000000  0.000000  0.000000   \n",
      "\n",
      "     f1_at_10  f1_at_20  f1_at_30  f1_at_50  \n",
      "165  0.812968  0.510172  0.371616  0.240857  \n",
      "21   0.812968  0.510172  0.371616  0.240857  \n",
      "221  0.877358  0.561934  0.413219  0.270251  \n",
      "29   0.877358  0.561934  0.413219  0.270251  \n",
      "173  0.877358  0.561934  0.413219  0.270251  \n",
      "141  0.877358  0.561934  0.413219  0.270251  \n",
      "213  0.812968  0.510172  0.371616  0.240857  \n",
      "133  0.812968  0.510172  0.371616  0.240857  \n",
      "53   0.812968  0.510172  0.371616  0.240857  \n",
      "125  0.877358  0.561934  0.413219  0.270251  \n",
      "61   0.877358  0.561934  0.413219  0.270251  \n",
      "181  0.812968  0.510172  0.371616  0.240857  \n",
      "205  0.877358  0.561934  0.413219  0.270251  \n",
      "69   0.812968  0.510172  0.371616  0.240857  \n",
      "77   0.877358  0.561934  0.413219  0.270251  \n",
      "117  0.812968  0.510172  0.371616  0.240857  \n",
      "197  0.812968  0.510172  0.371616  0.240857  \n",
      "109  0.877358  0.561934  0.413219  0.270251  \n",
      "189  0.877358  0.561934  0.413219  0.270251  \n",
      "149  0.812968  0.510172  0.371616  0.240857  \n",
      "101  0.812968  0.510172  0.371616  0.240857  \n",
      "229  0.812968  0.510172  0.371616  0.240857  \n",
      "157  0.877358  0.561934  0.413219  0.270251  \n",
      "237  0.877358  0.561934  0.413219  0.270251  \n",
      "169  0.877358  0.561934  0.413219  0.270251  \n",
      "121  0.877358  0.561934  0.413219  0.270251  \n",
      "209  0.812968  0.510172  0.371616  0.240857  \n",
      "225  0.812968  0.510172  0.371616  0.240857  \n",
      "185  0.877358  0.561934  0.413219  0.270251  \n",
      "177  0.812968  0.510172  0.371616  0.240857  \n",
      "..        ...       ...       ...       ...  \n",
      "11   0.001179  0.000755  0.194390  0.176171  \n",
      "2    0.023691  0.053991  0.096894  0.165127  \n",
      "179  0.139651  0.087637  0.063836  0.240857  \n",
      "35   0.093516  0.058685  0.066116  0.240857  \n",
      "10   0.051887  0.071752  0.113302  0.169270  \n",
      "14   0.033019  0.049094  0.102749  0.166364  \n",
      "227  0.089776  0.056338  0.041037  0.182859  \n",
      "16   0.081033  0.052412  0.080853  0.285556  \n",
      "2    0.070755  0.045317  0.063871  0.270251  \n",
      "8    0.067403  0.043413  0.076180  0.278683  \n",
      "139  0.000000  0.000000  0.082199  0.269887  \n",
      "67   0.000000  0.000000  0.031918  0.240488  \n",
      "187  0.000000  0.000000  0.082199  0.269887  \n",
      "115  0.000000  0.000000  0.000000  0.125970  \n",
      "4    0.063681  0.042158  0.112684  0.321802  \n",
      "12   0.067265  0.043764  0.093514  0.294160  \n",
      "14   0.071066  0.046137  0.072106  0.290812  \n",
      "99   0.000000  0.000000  0.038188  0.240857  \n",
      "6    0.073633  0.048693  0.074886  0.320014  \n",
      "0    0.046135  0.028951  0.032488  0.240857  \n",
      "18   0.053317  0.033818  0.041475  0.256612  \n",
      "107  0.003538  0.002266  0.096084  0.270251  \n",
      "10   0.059684  0.038346  0.062033  0.274937  \n",
      "219  0.001179  0.104985  0.077201  0.270251  \n",
      "3    0.013716  0.050861  0.037048  0.240857  \n",
      "195  0.000000  0.000000  0.000000  0.100111  \n",
      "51   0.047382  0.029734  0.021659  0.103436  \n",
      "147  0.000000  0.000000  0.000000  0.101219  \n",
      "83   0.001247  0.058685  0.042747  0.097525  \n",
      "171  0.000000  0.000000  0.000000  0.123502  \n",
      "\n",
      "[260 rows x 30 columns]\n"
     ]
    }
   ],
   "source": [
    "print(results.sort_values(by='auc-roc', ascending=False))"
   ]
  }
 ],
 "metadata": {
  "kernelspec": {
   "display_name": "Python 3",
   "language": "python",
   "name": "python3"
  },
  "language_info": {
   "codemirror_mode": {
    "name": "ipython",
    "version": 3
   },
   "file_extension": ".py",
   "mimetype": "text/x-python",
   "name": "python",
   "nbconvert_exporter": "python",
   "pygments_lexer": "ipython3",
   "version": "3.6.3"
  }
 },
 "nbformat": 4,
 "nbformat_minor": 2
}
