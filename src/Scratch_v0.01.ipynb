{
 "cells": [
  {
   "cell_type": "code",
   "execution_count": 1,
   "metadata": {
    "collapsed": true
   },
   "outputs": [],
   "source": [
    "%load_ext autoreload\n",
    "%autoreload 2\n",
    "%matplotlib inline\n",
    "import warnings\n",
    "import ml_utils as ml\n",
    "import graphviz\n",
    "import pandas as pd\n",
    "import seaborn as sns\n",
    "import matplotlib.pyplot as plt\n",
    "\n",
    "warnings.filterwarnings('ignore')"
   ]
  },
  {
   "cell_type": "code",
   "execution_count": 2,
   "metadata": {
    "scrolled": true
   },
   "outputs": [
    {
     "name": "stdout",
     "output_type": "stream",
     "text": [
      "Connected to evictions DB.\n",
      "Set schema to 'evictions'.\n",
      "Set background cursor.\n",
      "\n",
      "Temporally validating on:\n",
      "Train: 2014-01-01 00:00:00 - 2014-12-31 00:00:00\n",
      "Test: 2015-01-01 00:00:00 - 2015-12-31 00:00:00\n",
      "Prediction window: 12 months\n",
      "\n",
      "Running run # 0/90 with model NB, params {}\n",
      "Running run # 1/90 with model NB, params {}\n",
      "Running run # 2/90 with model NB, params {}\n",
      "Running run # 3/90 with model NB, params {}\n",
      "Running run # 4/90 with model NB, params {}\n",
      "Running run # 5/90 with model NB, params {}\n",
      "Running run # 6/90 with model NB, params {}\n",
      "Running run # 7/90 with model NB, params {}\n",
      "Running run # 8/90 with model NB, params {}\n",
      "Running run # 9/90 with model NB, params {}\n",
      "Running run # 10/90 with model NB, params {}\n",
      "Running run # 11/90 with model NB, params {}\n",
      "Running run # 12/90 with model NB, params {}\n",
      "Running run # 13/90 with model NB, params {}\n",
      "Running run # 14/90 with model NB, params {}\n",
      "Running run # 15/90 with model NB, params {}\n",
      "Running run # 16/90 with model NB, params {}\n",
      "Running run # 17/90 with model NB, params {}\n",
      "Running run # 18/90 with model NB, params {}\n",
      "Running run # 19/90 with model NB, params {}\n",
      "Running run # 20/90 with model NB, params {}\n",
      "Running run # 21/90 with model NB, params {}\n",
      "Running run # 22/90 with model NB, params {}\n",
      "Running run # 23/90 with model NB, params {}\n",
      "Running run # 24/90 with model NB, params {}\n",
      "Running run # 25/90 with model NB, params {}\n",
      "Running run # 26/90 with model NB, params {}\n",
      "Running run # 27/90 with model NB, params {}\n",
      "Running run # 28/90 with model NB, params {}\n",
      "Running run # 29/90 with model NB, params {}\n",
      "\n",
      "Temporally validating on:\n",
      "Train: 2014-01-01 00:00:00 - 2015-12-31 00:00:00\n",
      "Test: 2016-01-01 00:00:00 - 2016-12-31 00:00:00\n",
      "Prediction window: 12 months\n",
      "\n",
      "Running run # 30/90 with model NB, params {}\n",
      "Running run # 31/90 with model NB, params {}\n",
      "Running run # 32/90 with model NB, params {}\n",
      "Running run # 33/90 with model NB, params {}\n",
      "Running run # 34/90 with model NB, params {}\n",
      "Running run # 35/90 with model NB, params {}\n",
      "Running run # 36/90 with model NB, params {}\n",
      "Running run # 37/90 with model NB, params {}\n",
      "Running run # 38/90 with model NB, params {}\n",
      "Running run # 39/90 with model NB, params {}\n",
      "Running run # 40/90 with model NB, params {}\n",
      "Running run # 41/90 with model NB, params {}\n",
      "Running run # 42/90 with model NB, params {}\n",
      "Running run # 43/90 with model NB, params {}\n",
      "Running run # 44/90 with model NB, params {}\n",
      "Running run # 45/90 with model NB, params {}\n",
      "Running run # 46/90 with model NB, params {}\n",
      "Running run # 47/90 with model NB, params {}\n",
      "Running run # 48/90 with model NB, params {}\n",
      "Running run # 49/90 with model NB, params {}\n",
      "Running run # 50/90 with model NB, params {}\n",
      "Running run # 51/90 with model NB, params {}\n",
      "Running run # 52/90 with model NB, params {}\n",
      "Running run # 53/90 with model NB, params {}\n",
      "Running run # 54/90 with model NB, params {}\n",
      "Running run # 55/90 with model NB, params {}\n",
      "Running run # 56/90 with model NB, params {}\n",
      "Running run # 57/90 with model NB, params {}\n",
      "Running run # 58/90 with model NB, params {}\n",
      "Running run # 59/90 with model NB, params {}\n",
      "done standard\n",
      "\n",
      "Temporally validating on:\n",
      "Train: 2014-01-01 00:00:00 - 2014-12-31 00:00:00\n",
      "Test: 2015-01-01 00:00:00 - 2015-12-31 00:00:00\n",
      "Prediction window: 12 months\n",
      "\n",
      "\n",
      "Temporally validating on:\n",
      "Train: 2014-01-01 00:00:00 - 2015-12-31 00:00:00\n",
      "Test: 2016-01-01 00:00:00 - 2016-12-31 00:00:00\n",
      "Prediction window: 12 months\n",
      "\n",
      "done baseline\n"
     ]
    },
    {
     "data": {
      "text/plain": [
       "<Figure size 576x396 with 0 Axes>"
      ]
     },
     "metadata": {},
     "output_type": "display_data"
    },
    {
     "data": {
      "text/plain": [
       "<Figure size 576x396 with 0 Axes>"
      ]
     },
     "metadata": {},
     "output_type": "display_data"
    },
    {
     "data": {
      "text/plain": [
       "<Figure size 576x396 with 0 Axes>"
      ]
     },
     "metadata": {},
     "output_type": "display_data"
    },
    {
     "data": {
      "text/plain": [
       "<Figure size 576x396 with 0 Axes>"
      ]
     },
     "metadata": {},
     "output_type": "display_data"
    },
    {
     "data": {
      "text/plain": [
       "<Figure size 576x396 with 0 Axes>"
      ]
     },
     "metadata": {},
     "output_type": "display_data"
    },
    {
     "data": {
      "text/plain": [
       "<Figure size 576x396 with 0 Axes>"
      ]
     },
     "metadata": {},
     "output_type": "display_data"
    },
    {
     "data": {
      "text/plain": [
       "<Figure size 576x396 with 0 Axes>"
      ]
     },
     "metadata": {},
     "output_type": "display_data"
    },
    {
     "data": {
      "text/plain": [
       "<Figure size 576x396 with 0 Axes>"
      ]
     },
     "metadata": {},
     "output_type": "display_data"
    },
    {
     "data": {
      "text/plain": [
       "<Figure size 576x396 with 0 Axes>"
      ]
     },
     "metadata": {},
     "output_type": "display_data"
    },
    {
     "data": {
      "text/plain": [
       "<Figure size 576x396 with 0 Axes>"
      ]
     },
     "metadata": {},
     "output_type": "display_data"
    },
    {
     "data": {
      "text/plain": [
       "<Figure size 576x396 with 0 Axes>"
      ]
     },
     "metadata": {},
     "output_type": "display_data"
    },
    {
     "data": {
      "text/plain": [
       "<Figure size 576x396 with 0 Axes>"
      ]
     },
     "metadata": {},
     "output_type": "display_data"
    },
    {
     "data": {
      "text/plain": [
       "<Figure size 576x396 with 0 Axes>"
      ]
     },
     "metadata": {},
     "output_type": "display_data"
    },
    {
     "data": {
      "text/plain": [
       "<Figure size 576x396 with 0 Axes>"
      ]
     },
     "metadata": {},
     "output_type": "display_data"
    },
    {
     "data": {
      "text/plain": [
       "<Figure size 576x396 with 0 Axes>"
      ]
     },
     "metadata": {},
     "output_type": "display_data"
    },
    {
     "data": {
      "text/plain": [
       "<Figure size 576x396 with 0 Axes>"
      ]
     },
     "metadata": {},
     "output_type": "display_data"
    },
    {
     "data": {
      "text/plain": [
       "<Figure size 576x396 with 0 Axes>"
      ]
     },
     "metadata": {},
     "output_type": "display_data"
    },
    {
     "data": {
      "text/plain": [
       "<Figure size 576x396 with 0 Axes>"
      ]
     },
     "metadata": {},
     "output_type": "display_data"
    },
    {
     "data": {
      "text/plain": [
       "<Figure size 576x396 with 0 Axes>"
      ]
     },
     "metadata": {},
     "output_type": "display_data"
    },
    {
     "data": {
      "text/plain": [
       "<Figure size 576x396 with 0 Axes>"
      ]
     },
     "metadata": {},
     "output_type": "display_data"
    },
    {
     "data": {
      "text/plain": [
       "<Figure size 576x396 with 0 Axes>"
      ]
     },
     "metadata": {},
     "output_type": "display_data"
    },
    {
     "data": {
      "text/plain": [
       "<Figure size 576x396 with 0 Axes>"
      ]
     },
     "metadata": {},
     "output_type": "display_data"
    },
    {
     "data": {
      "text/plain": [
       "<Figure size 576x396 with 0 Axes>"
      ]
     },
     "metadata": {},
     "output_type": "display_data"
    },
    {
     "data": {
      "text/plain": [
       "<Figure size 576x396 with 0 Axes>"
      ]
     },
     "metadata": {},
     "output_type": "display_data"
    },
    {
     "data": {
      "text/plain": [
       "<Figure size 576x396 with 0 Axes>"
      ]
     },
     "metadata": {},
     "output_type": "display_data"
    },
    {
     "data": {
      "text/plain": [
       "<Figure size 576x396 with 0 Axes>"
      ]
     },
     "metadata": {},
     "output_type": "display_data"
    },
    {
     "data": {
      "text/plain": [
       "<Figure size 576x396 with 0 Axes>"
      ]
     },
     "metadata": {},
     "output_type": "display_data"
    },
    {
     "data": {
      "text/plain": [
       "<Figure size 576x396 with 0 Axes>"
      ]
     },
     "metadata": {},
     "output_type": "display_data"
    },
    {
     "data": {
      "text/plain": [
       "<Figure size 576x396 with 0 Axes>"
      ]
     },
     "metadata": {},
     "output_type": "display_data"
    },
    {
     "data": {
      "text/plain": [
       "<Figure size 576x396 with 0 Axes>"
      ]
     },
     "metadata": {},
     "output_type": "display_data"
    },
    {
     "data": {
      "text/plain": [
       "<Figure size 576x396 with 0 Axes>"
      ]
     },
     "metadata": {},
     "output_type": "display_data"
    },
    {
     "data": {
      "text/plain": [
       "<Figure size 576x396 with 0 Axes>"
      ]
     },
     "metadata": {},
     "output_type": "display_data"
    },
    {
     "data": {
      "text/plain": [
       "<Figure size 576x396 with 0 Axes>"
      ]
     },
     "metadata": {},
     "output_type": "display_data"
    },
    {
     "data": {
      "text/plain": [
       "<Figure size 576x396 with 0 Axes>"
      ]
     },
     "metadata": {},
     "output_type": "display_data"
    },
    {
     "data": {
      "text/plain": [
       "<Figure size 576x396 with 0 Axes>"
      ]
     },
     "metadata": {},
     "output_type": "display_data"
    },
    {
     "data": {
      "text/plain": [
       "<Figure size 576x396 with 0 Axes>"
      ]
     },
     "metadata": {},
     "output_type": "display_data"
    },
    {
     "data": {
      "text/plain": [
       "<Figure size 576x396 with 0 Axes>"
      ]
     },
     "metadata": {},
     "output_type": "display_data"
    },
    {
     "data": {
      "text/plain": [
       "<Figure size 576x396 with 0 Axes>"
      ]
     },
     "metadata": {},
     "output_type": "display_data"
    },
    {
     "data": {
      "text/plain": [
       "<Figure size 576x396 with 0 Axes>"
      ]
     },
     "metadata": {},
     "output_type": "display_data"
    },
    {
     "data": {
      "text/plain": [
       "<Figure size 576x396 with 0 Axes>"
      ]
     },
     "metadata": {},
     "output_type": "display_data"
    },
    {
     "data": {
      "text/plain": [
       "<Figure size 576x396 with 0 Axes>"
      ]
     },
     "metadata": {},
     "output_type": "display_data"
    },
    {
     "data": {
      "text/plain": [
       "<Figure size 576x396 with 0 Axes>"
      ]
     },
     "metadata": {},
     "output_type": "display_data"
    },
    {
     "data": {
      "text/plain": [
       "<Figure size 576x396 with 0 Axes>"
      ]
     },
     "metadata": {},
     "output_type": "display_data"
    },
    {
     "data": {
      "text/plain": [
       "<Figure size 576x396 with 0 Axes>"
      ]
     },
     "metadata": {},
     "output_type": "display_data"
    },
    {
     "data": {
      "text/plain": [
       "<Figure size 576x396 with 0 Axes>"
      ]
     },
     "metadata": {},
     "output_type": "display_data"
    },
    {
     "data": {
      "text/plain": [
       "<Figure size 576x396 with 0 Axes>"
      ]
     },
     "metadata": {},
     "output_type": "display_data"
    },
    {
     "data": {
      "text/plain": [
       "<Figure size 576x396 with 0 Axes>"
      ]
     },
     "metadata": {},
     "output_type": "display_data"
    },
    {
     "data": {
      "text/plain": [
       "<Figure size 576x396 with 0 Axes>"
      ]
     },
     "metadata": {},
     "output_type": "display_data"
    },
    {
     "data": {
      "text/plain": [
       "<Figure size 576x396 with 0 Axes>"
      ]
     },
     "metadata": {},
     "output_type": "display_data"
    },
    {
     "data": {
      "text/plain": [
       "<Figure size 576x396 with 0 Axes>"
      ]
     },
     "metadata": {},
     "output_type": "display_data"
    },
    {
     "data": {
      "text/plain": [
       "<Figure size 576x396 with 0 Axes>"
      ]
     },
     "metadata": {},
     "output_type": "display_data"
    },
    {
     "data": {
      "text/plain": [
       "<Figure size 576x396 with 0 Axes>"
      ]
     },
     "metadata": {},
     "output_type": "display_data"
    },
    {
     "data": {
      "text/plain": [
       "<Figure size 576x396 with 0 Axes>"
      ]
     },
     "metadata": {},
     "output_type": "display_data"
    },
    {
     "data": {
      "text/plain": [
       "<Figure size 576x396 with 0 Axes>"
      ]
     },
     "metadata": {},
     "output_type": "display_data"
    },
    {
     "data": {
      "text/plain": [
       "<Figure size 576x396 with 0 Axes>"
      ]
     },
     "metadata": {},
     "output_type": "display_data"
    },
    {
     "data": {
      "text/plain": [
       "<Figure size 576x396 with 0 Axes>"
      ]
     },
     "metadata": {},
     "output_type": "display_data"
    },
    {
     "data": {
      "text/plain": [
       "<Figure size 576x396 with 0 Axes>"
      ]
     },
     "metadata": {},
     "output_type": "display_data"
    },
    {
     "data": {
      "text/plain": [
       "<Figure size 576x396 with 0 Axes>"
      ]
     },
     "metadata": {},
     "output_type": "display_data"
    },
    {
     "data": {
      "text/plain": [
       "<Figure size 576x396 with 0 Axes>"
      ]
     },
     "metadata": {},
     "output_type": "display_data"
    },
    {
     "data": {
      "text/plain": [
       "<Figure size 576x396 with 0 Axes>"
      ]
     },
     "metadata": {},
     "output_type": "display_data"
    },
    {
     "data": {
      "image/png": "[encoded data removed]",
      "text/plain": [
       "<Figure size 576x396 with 2 Axes>"
      ]
     },
     "metadata": {},
     "output_type": "display_data"
    }
   ],
   "source": [
    "results, pipeline = ml.main()"
   ]
  },
  {
   "cell_type": "code",
   "execution_count": 3,
   "metadata": {
    "collapsed": true
   },
   "outputs": [
    {
     "name": "stdout",
     "output_type": "stream",
     "text": [
      "                                training_dates  \\\n",
      "0   (2014-01-01 00:00:00, 2014-12-31 00:00:00)   \n",
      "1   (2014-01-01 00:00:00, 2014-12-31 00:00:00)   \n",
      "2   (2014-01-01 00:00:00, 2014-12-31 00:00:00)   \n",
      "3   (2014-01-01 00:00:00, 2014-12-31 00:00:00)   \n",
      "4   (2014-01-01 00:00:00, 2014-12-31 00:00:00)   \n",
      "5   (2014-01-01 00:00:00, 2014-12-31 00:00:00)   \n",
      "6   (2014-01-01 00:00:00, 2014-12-31 00:00:00)   \n",
      "7   (2014-01-01 00:00:00, 2014-12-31 00:00:00)   \n",
      "8   (2014-01-01 00:00:00, 2014-12-31 00:00:00)   \n",
      "9   (2014-01-01 00:00:00, 2014-12-31 00:00:00)   \n",
      "10  (2014-01-01 00:00:00, 2014-12-31 00:00:00)   \n",
      "11  (2014-01-01 00:00:00, 2014-12-31 00:00:00)   \n",
      "12  (2014-01-01 00:00:00, 2014-12-31 00:00:00)   \n",
      "13  (2014-01-01 00:00:00, 2014-12-31 00:00:00)   \n",
      "14  (2014-01-01 00:00:00, 2014-12-31 00:00:00)   \n",
      "15  (2014-01-01 00:00:00, 2014-12-31 00:00:00)   \n",
      "16  (2014-01-01 00:00:00, 2014-12-31 00:00:00)   \n",
      "17  (2014-01-01 00:00:00, 2014-12-31 00:00:00)   \n",
      "18  (2014-01-01 00:00:00, 2014-12-31 00:00:00)   \n",
      "19  (2014-01-01 00:00:00, 2014-12-31 00:00:00)   \n",
      "20  (2014-01-01 00:00:00, 2014-12-31 00:00:00)   \n",
      "21  (2014-01-01 00:00:00, 2014-12-31 00:00:00)   \n",
      "22  (2014-01-01 00:00:00, 2014-12-31 00:00:00)   \n",
      "23  (2014-01-01 00:00:00, 2014-12-31 00:00:00)   \n",
      "24  (2014-01-01 00:00:00, 2014-12-31 00:00:00)   \n",
      "25  (2014-01-01 00:00:00, 2014-12-31 00:00:00)   \n",
      "26  (2014-01-01 00:00:00, 2014-12-31 00:00:00)   \n",
      "27  (2014-01-01 00:00:00, 2014-12-31 00:00:00)   \n",
      "28  (2014-01-01 00:00:00, 2014-12-31 00:00:00)   \n",
      "29  (2014-01-01 00:00:00, 2014-12-31 00:00:00)   \n",
      "..                                         ...   \n",
      "38  (2014-01-01 00:00:00, 2015-12-31 00:00:00)   \n",
      "39  (2014-01-01 00:00:00, 2015-12-31 00:00:00)   \n",
      "40  (2014-01-01 00:00:00, 2015-12-31 00:00:00)   \n",
      "41  (2014-01-01 00:00:00, 2015-12-31 00:00:00)   \n",
      "42  (2014-01-01 00:00:00, 2015-12-31 00:00:00)   \n",
      "43  (2014-01-01 00:00:00, 2015-12-31 00:00:00)   \n",
      "44  (2014-01-01 00:00:00, 2015-12-31 00:00:00)   \n",
      "45  (2014-01-01 00:00:00, 2015-12-31 00:00:00)   \n",
      "46  (2014-01-01 00:00:00, 2015-12-31 00:00:00)   \n",
      "47  (2014-01-01 00:00:00, 2015-12-31 00:00:00)   \n",
      "48  (2014-01-01 00:00:00, 2015-12-31 00:00:00)   \n",
      "49  (2014-01-01 00:00:00, 2015-12-31 00:00:00)   \n",
      "50  (2014-01-01 00:00:00, 2015-12-31 00:00:00)   \n",
      "51  (2014-01-01 00:00:00, 2015-12-31 00:00:00)   \n",
      "52  (2014-01-01 00:00:00, 2015-12-31 00:00:00)   \n",
      "53  (2014-01-01 00:00:00, 2015-12-31 00:00:00)   \n",
      "54  (2014-01-01 00:00:00, 2015-12-31 00:00:00)   \n",
      "55  (2014-01-01 00:00:00, 2015-12-31 00:00:00)   \n",
      "56  (2014-01-01 00:00:00, 2015-12-31 00:00:00)   \n",
      "57  (2014-01-01 00:00:00, 2015-12-31 00:00:00)   \n",
      "58  (2014-01-01 00:00:00, 2015-12-31 00:00:00)   \n",
      "59  (2014-01-01 00:00:00, 2015-12-31 00:00:00)   \n",
      "0   (2014-01-01 00:00:00, 2014-12-31 00:00:00)   \n",
      "1   (2014-01-01 00:00:00, 2014-12-31 00:00:00)   \n",
      "2   (2014-01-01 00:00:00, 2014-12-31 00:00:00)   \n",
      "3   (2014-01-01 00:00:00, 2014-12-31 00:00:00)   \n",
      "4   (2014-01-01 00:00:00, 2015-12-31 00:00:00)   \n",
      "5   (2014-01-01 00:00:00, 2015-12-31 00:00:00)   \n",
      "6   (2014-01-01 00:00:00, 2015-12-31 00:00:00)   \n",
      "7   (2014-01-01 00:00:00, 2015-12-31 00:00:00)   \n",
      "\n",
      "                                 testing_dates       model_key  \\\n",
      "0   (2015-01-01 00:00:00, 2015-12-31 00:00:00)              NB   \n",
      "1   (2015-01-01 00:00:00, 2015-12-31 00:00:00)              NB   \n",
      "2   (2015-01-01 00:00:00, 2015-12-31 00:00:00)              NB   \n",
      "3   (2015-01-01 00:00:00, 2015-12-31 00:00:00)              NB   \n",
      "4   (2015-01-01 00:00:00, 2015-12-31 00:00:00)              NB   \n",
      "5   (2015-01-01 00:00:00, 2015-12-31 00:00:00)              NB   \n",
      "6   (2015-01-01 00:00:00, 2015-12-31 00:00:00)              NB   \n",
      "7   (2015-01-01 00:00:00, 2015-12-31 00:00:00)              NB   \n",
      "8   (2015-01-01 00:00:00, 2015-12-31 00:00:00)              NB   \n",
      "9   (2015-01-01 00:00:00, 2015-12-31 00:00:00)              NB   \n",
      "10  (2015-01-01 00:00:00, 2015-12-31 00:00:00)              NB   \n",
      "11  (2015-01-01 00:00:00, 2015-12-31 00:00:00)              NB   \n",
      "12  (2015-01-01 00:00:00, 2015-12-31 00:00:00)              NB   \n",
      "13  (2015-01-01 00:00:00, 2015-12-31 00:00:00)              NB   \n",
      "14  (2015-01-01 00:00:00, 2015-12-31 00:00:00)              NB   \n",
      "15  (2015-01-01 00:00:00, 2015-12-31 00:00:00)              NB   \n",
      "16  (2015-01-01 00:00:00, 2015-12-31 00:00:00)              NB   \n",
      "17  (2015-01-01 00:00:00, 2015-12-31 00:00:00)              NB   \n",
      "18  (2015-01-01 00:00:00, 2015-12-31 00:00:00)              NB   \n",
      "19  (2015-01-01 00:00:00, 2015-12-31 00:00:00)              NB   \n",
      "20  (2015-01-01 00:00:00, 2015-12-31 00:00:00)              NB   \n",
      "21  (2015-01-01 00:00:00, 2015-12-31 00:00:00)              NB   \n",
      "22  (2015-01-01 00:00:00, 2015-12-31 00:00:00)              NB   \n",
      "23  (2015-01-01 00:00:00, 2015-12-31 00:00:00)              NB   \n",
      "24  (2015-01-01 00:00:00, 2015-12-31 00:00:00)              NB   \n",
      "25  (2015-01-01 00:00:00, 2015-12-31 00:00:00)              NB   \n",
      "26  (2015-01-01 00:00:00, 2015-12-31 00:00:00)              NB   \n",
      "27  (2015-01-01 00:00:00, 2015-12-31 00:00:00)              NB   \n",
      "28  (2015-01-01 00:00:00, 2015-12-31 00:00:00)              NB   \n",
      "29  (2015-01-01 00:00:00, 2015-12-31 00:00:00)              NB   \n",
      "..                                         ...             ...   \n",
      "38  (2016-01-01 00:00:00, 2016-12-31 00:00:00)              NB   \n",
      "39  (2016-01-01 00:00:00, 2016-12-31 00:00:00)              NB   \n",
      "40  (2016-01-01 00:00:00, 2016-12-31 00:00:00)              NB   \n",
      "41  (2016-01-01 00:00:00, 2016-12-31 00:00:00)              NB   \n",
      "42  (2016-01-01 00:00:00, 2016-12-31 00:00:00)              NB   \n",
      "43  (2016-01-01 00:00:00, 2016-12-31 00:00:00)              NB   \n",
      "44  (2016-01-01 00:00:00, 2016-12-31 00:00:00)              NB   \n",
      "45  (2016-01-01 00:00:00, 2016-12-31 00:00:00)              NB   \n",
      "46  (2016-01-01 00:00:00, 2016-12-31 00:00:00)              NB   \n",
      "47  (2016-01-01 00:00:00, 2016-12-31 00:00:00)              NB   \n",
      "48  (2016-01-01 00:00:00, 2016-12-31 00:00:00)              NB   \n",
      "49  (2016-01-01 00:00:00, 2016-12-31 00:00:00)              NB   \n",
      "50  (2016-01-01 00:00:00, 2016-12-31 00:00:00)              NB   \n",
      "51  (2016-01-01 00:00:00, 2016-12-31 00:00:00)              NB   \n",
      "52  (2016-01-01 00:00:00, 2016-12-31 00:00:00)              NB   \n",
      "53  (2016-01-01 00:00:00, 2016-12-31 00:00:00)              NB   \n",
      "54  (2016-01-01 00:00:00, 2016-12-31 00:00:00)              NB   \n",
      "55  (2016-01-01 00:00:00, 2016-12-31 00:00:00)              NB   \n",
      "56  (2016-01-01 00:00:00, 2016-12-31 00:00:00)              NB   \n",
      "57  (2016-01-01 00:00:00, 2016-12-31 00:00:00)              NB   \n",
      "58  (2016-01-01 00:00:00, 2016-12-31 00:00:00)              NB   \n",
      "59  (2016-01-01 00:00:00, 2016-12-31 00:00:00)              NB   \n",
      "0   (2015-01-01 00:00:00, 2015-12-31 00:00:00)   BASELINE_RAND   \n",
      "1   (2015-01-01 00:00:00, 2015-12-31 00:00:00)  BASELINE_PRIOR   \n",
      "2   (2015-01-01 00:00:00, 2015-12-31 00:00:00)   BASELINE_RAND   \n",
      "3   (2015-01-01 00:00:00, 2015-12-31 00:00:00)  BASELINE_PRIOR   \n",
      "4   (2016-01-01 00:00:00, 2016-12-31 00:00:00)   BASELINE_RAND   \n",
      "5   (2016-01-01 00:00:00, 2016-12-31 00:00:00)  BASELINE_PRIOR   \n",
      "6   (2016-01-01 00:00:00, 2016-12-31 00:00:00)   BASELINE_RAND   \n",
      "7   (2016-01-01 00:00:00, 2016-12-31 00:00:00)  BASELINE_PRIOR   \n",
      "\n",
      "                 classifier parameters  \\\n",
      "0   GaussianNB(priors=None)         {}   \n",
      "1   GaussianNB(priors=None)         {}   \n",
      "2   GaussianNB(priors=None)         {}   \n",
      "3   GaussianNB(priors=None)         {}   \n",
      "4   GaussianNB(priors=None)         {}   \n",
      "5   GaussianNB(priors=None)         {}   \n",
      "6   GaussianNB(priors=None)         {}   \n",
      "7   GaussianNB(priors=None)         {}   \n",
      "8   GaussianNB(priors=None)         {}   \n",
      "9   GaussianNB(priors=None)         {}   \n",
      "10  GaussianNB(priors=None)         {}   \n",
      "11  GaussianNB(priors=None)         {}   \n",
      "12  GaussianNB(priors=None)         {}   \n",
      "13  GaussianNB(priors=None)         {}   \n",
      "14  GaussianNB(priors=None)         {}   \n",
      "15  GaussianNB(priors=None)         {}   \n",
      "16  GaussianNB(priors=None)         {}   \n",
      "17  GaussianNB(priors=None)         {}   \n",
      "18  GaussianNB(priors=None)         {}   \n",
      "19  GaussianNB(priors=None)         {}   \n",
      "20  GaussianNB(priors=None)         {}   \n",
      "21  GaussianNB(priors=None)         {}   \n",
      "22  GaussianNB(priors=None)         {}   \n",
      "23  GaussianNB(priors=None)         {}   \n",
      "24  GaussianNB(priors=None)         {}   \n",
      "25  GaussianNB(priors=None)         {}   \n",
      "26  GaussianNB(priors=None)         {}   \n",
      "27  GaussianNB(priors=None)         {}   \n",
      "28  GaussianNB(priors=None)         {}   \n",
      "29  GaussianNB(priors=None)         {}   \n",
      "..                      ...        ...   \n",
      "38  GaussianNB(priors=None)         {}   \n",
      "39  GaussianNB(priors=None)         {}   \n",
      "40  GaussianNB(priors=None)         {}   \n",
      "41  GaussianNB(priors=None)         {}   \n",
      "42  GaussianNB(priors=None)         {}   \n",
      "43  GaussianNB(priors=None)         {}   \n",
      "44  GaussianNB(priors=None)         {}   \n",
      "45  GaussianNB(priors=None)         {}   \n",
      "46  GaussianNB(priors=None)         {}   \n",
      "47  GaussianNB(priors=None)         {}   \n",
      "48  GaussianNB(priors=None)         {}   \n",
      "49  GaussianNB(priors=None)         {}   \n",
      "50  GaussianNB(priors=None)         {}   \n",
      "51  GaussianNB(priors=None)         {}   \n",
      "52  GaussianNB(priors=None)         {}   \n",
      "53  GaussianNB(priors=None)         {}   \n",
      "54  GaussianNB(priors=None)         {}   \n",
      "55  GaussianNB(priors=None)         {}   \n",
      "56  GaussianNB(priors=None)         {}   \n",
      "57  GaussianNB(priors=None)         {}   \n",
      "58  GaussianNB(priors=None)         {}   \n",
      "59  GaussianNB(priors=None)         {}   \n",
      "0             BASELINE_RAND         {}   \n",
      "1            BASELINE_PRIOR         {}   \n",
      "2             BASELINE_RAND         {}   \n",
      "3            BASELINE_PRIOR         {}   \n",
      "4             BASELINE_RAND         {}   \n",
      "5            BASELINE_PRIOR         {}   \n",
      "6             BASELINE_RAND         {}   \n",
      "7            BASELINE_PRIOR         {}   \n",
      "\n",
      "                                feature_sets     outcome model_result  \\\n",
      "0                              [demographic]  top20_rate         None   \n",
      "1                              [demographic]   top20_num         None   \n",
      "2                                 [eviction]  top20_rate         None   \n",
      "3                                 [eviction]   top20_num         None   \n",
      "4                                 [economic]  top20_rate         None   \n",
      "5                                 [economic]   top20_num         None   \n",
      "6                                    [tract]  top20_rate         None   \n",
      "7                                    [tract]   top20_num         None   \n",
      "8                    [demographic, eviction]  top20_rate         None   \n",
      "9                    [demographic, eviction]   top20_num         None   \n",
      "10                   [demographic, economic]  top20_rate         None   \n",
      "11                   [demographic, economic]   top20_num         None   \n",
      "12                      [demographic, tract]  top20_rate         None   \n",
      "13                      [demographic, tract]   top20_num         None   \n",
      "14                      [eviction, economic]  top20_rate         None   \n",
      "15                      [eviction, economic]   top20_num         None   \n",
      "16                         [eviction, tract]  top20_rate         None   \n",
      "17                         [eviction, tract]   top20_num         None   \n",
      "18                         [economic, tract]  top20_rate         None   \n",
      "19                         [economic, tract]   top20_num         None   \n",
      "20         [demographic, eviction, economic]  top20_rate         None   \n",
      "21         [demographic, eviction, economic]   top20_num         None   \n",
      "22            [demographic, eviction, tract]  top20_rate         None   \n",
      "23            [demographic, eviction, tract]   top20_num         None   \n",
      "24            [demographic, economic, tract]  top20_rate         None   \n",
      "25            [demographic, economic, tract]   top20_num         None   \n",
      "26               [eviction, economic, tract]  top20_rate         None   \n",
      "27               [eviction, economic, tract]   top20_num         None   \n",
      "28  [demographic, eviction, economic, tract]  top20_rate         None   \n",
      "29  [demographic, eviction, economic, tract]   top20_num         None   \n",
      "..                                       ...         ...          ...   \n",
      "38                   [demographic, eviction]  top20_rate         None   \n",
      "39                   [demographic, eviction]   top20_num         None   \n",
      "40                   [demographic, economic]  top20_rate         None   \n",
      "41                   [demographic, economic]   top20_num         None   \n",
      "42                      [demographic, tract]  top20_rate         None   \n",
      "43                      [demographic, tract]   top20_num         None   \n",
      "44                      [eviction, economic]  top20_rate         None   \n",
      "45                      [eviction, economic]   top20_num         None   \n",
      "46                         [eviction, tract]  top20_rate         None   \n",
      "47                         [eviction, tract]   top20_num         None   \n",
      "48                         [economic, tract]  top20_rate         None   \n",
      "49                         [economic, tract]   top20_num         None   \n",
      "50         [demographic, eviction, economic]  top20_rate         None   \n",
      "51         [demographic, eviction, economic]   top20_num         None   \n",
      "52            [demographic, eviction, tract]  top20_rate         None   \n",
      "53            [demographic, eviction, tract]   top20_num         None   \n",
      "54            [demographic, economic, tract]  top20_rate         None   \n",
      "55            [demographic, economic, tract]   top20_num         None   \n",
      "56               [eviction, economic, tract]  top20_rate         None   \n",
      "57               [eviction, economic, tract]   top20_num         None   \n",
      "58  [demographic, eviction, economic, tract]  top20_rate         None   \n",
      "59  [demographic, eviction, economic, tract]   top20_num         None   \n",
      "0                                 prior_year  top20_rate         None   \n",
      "1                                 prior_year  top20_rate         None   \n",
      "2                                 prior_year   top20_num         None   \n",
      "3                                 prior_year   top20_num         None   \n",
      "4                                 prior_year  top20_rate         None   \n",
      "5                                 prior_year  top20_rate         None   \n",
      "6                                 prior_year   top20_num         None   \n",
      "7                                 prior_year   top20_num         None   \n",
      "\n",
      "     auc-roc    p_at_1    ...      r_at_20   r_at_30   r_at_50   f1_at_1  \\\n",
      "0   0.576471  0.333333    ...     0.274510  0.372549  0.529412  0.037037   \n",
      "1   0.817831  0.666667    ...     0.530612  0.734694  0.897959  0.076923   \n",
      "2   0.689437  0.000000    ...     0.000000  0.313725  0.901961  0.000000   \n",
      "3   0.689103  0.000000    ...     0.000000  0.326531  0.979592  0.000000   \n",
      "4   0.596964  0.333333    ...     0.254902  0.392157  0.627451  0.037037   \n",
      "5   0.623626  0.000000    ...     0.285714  0.408163  0.653061  0.000000   \n",
      "6   0.601075  0.000000    ...     0.000000  0.313725  0.960784  0.000000   \n",
      "7   0.565247  0.000000    ...     0.000000  0.326531  0.938776  0.000000   \n",
      "8   0.649399  0.000000    ...     0.000000  0.313725  0.921569  0.000000   \n",
      "9   0.681090  0.000000    ...     0.000000  0.326531  0.979592  0.000000   \n",
      "10  0.573087  0.333333    ...     0.196078  0.372549  0.627451  0.037037   \n",
      "11  0.698293  0.333333    ...     0.387755  0.571429  0.775510  0.038462   \n",
      "12  0.575648  0.000000    ...     0.000000  0.313725  0.960784  0.000000   \n",
      "13  0.565247  0.000000    ...     0.000000  0.326531  0.938776  0.000000   \n",
      "14  0.686939  0.333333    ...     0.313725  0.470588  0.764706  0.037037   \n",
      "15  0.644623  0.000000    ...     0.000000  0.326531  0.959184  0.000000   \n",
      "16  0.648956  0.000000    ...     0.000000  0.313725  0.921569  0.000000   \n",
      "17  0.668891  0.000000    ...     0.000000  0.326531  0.959184  0.000000   \n",
      "18  0.633555  0.666667    ...     0.313725  0.411765  0.647059  0.074074   \n",
      "19  0.537284  0.000000    ...     0.000000  0.326531  0.938776  0.000000   \n",
      "20  0.628020  0.000000    ...     0.000000  0.313725  0.882353  0.000000   \n",
      "21  0.644623  0.000000    ...     0.000000  0.326531  0.959184  0.000000   \n",
      "22  0.643137  0.000000    ...     0.000000  0.313725  0.941176  0.000000   \n",
      "23  0.668891  0.000000    ...     0.000000  0.326531  0.959184  0.000000   \n",
      "24  0.608950  0.333333    ...     0.196078  0.392157  0.725490  0.037037   \n",
      "25  0.538821  0.000000    ...     0.000000  0.326531  0.938776  0.000000   \n",
      "26  0.643770  0.000000    ...     0.000000  0.313725  0.960784  0.000000   \n",
      "27  0.656626  0.000000    ...     0.000000  0.326531  0.938776  0.000000   \n",
      "28  0.637508  0.000000    ...     0.000000  0.313725  0.960784  0.000000   \n",
      "29  0.642792  0.000000    ...     0.000000  0.326531  0.938776  0.000000   \n",
      "..       ...       ...    ...          ...       ...       ...       ...   \n",
      "38  0.500000  0.000000    ...     0.000000  0.120000  0.960000  0.000000   \n",
      "39  0.500000  0.000000    ...     0.000000  0.157895  0.947368  0.000000   \n",
      "40  0.563218  0.000000    ...     0.360000  0.400000  0.600000  0.000000   \n",
      "41  0.742501  0.000000    ...     0.526316  0.631579  0.842105  0.000000   \n",
      "42  0.500000  0.000000    ...     0.000000  0.120000  0.960000  0.000000   \n",
      "43  0.500000  0.000000    ...     0.000000  0.157895  0.947368  0.000000   \n",
      "44  0.567816  0.000000    ...     0.160000  0.360000  0.640000  0.000000   \n",
      "45  0.500000  0.000000    ...     0.000000  0.157895  0.947368  0.000000   \n",
      "46  0.500000  0.000000    ...     0.000000  0.120000  0.960000  0.000000   \n",
      "47  0.500000  0.000000    ...     0.000000  0.157895  0.947368  0.000000   \n",
      "48  0.612644  0.000000    ...     0.280000  0.440000  0.640000  0.000000   \n",
      "49  0.500000  0.000000    ...     0.000000  0.157895  0.947368  0.000000   \n",
      "50  0.521149  0.000000    ...     0.000000  0.160000  0.840000  0.000000   \n",
      "51  0.505376  0.000000    ...     0.000000  0.157895  0.947368  0.000000   \n",
      "52  0.500000  0.000000    ...     0.000000  0.120000  0.960000  0.000000   \n",
      "53  0.500000  0.000000    ...     0.000000  0.157895  0.947368  0.000000   \n",
      "54  0.534943  0.000000    ...     0.000000  0.160000  0.600000  0.000000   \n",
      "55  0.505376  0.000000    ...     0.000000  0.157895  0.947368  0.000000   \n",
      "56  0.500000  0.000000    ...     0.000000  0.120000  0.960000  0.000000   \n",
      "57  0.500000  0.000000    ...     0.000000  0.157895  0.947368  0.000000   \n",
      "58  0.500000  0.000000    ...     0.000000  0.120000  0.960000  0.000000   \n",
      "59  0.500000  0.000000    ...     0.000000  0.157895  0.947368  0.000000   \n",
      "0   0.463409  0.333333    ...     0.078431  0.078431  1.000000  0.037037   \n",
      "1   0.785073  0.333333    ...     0.686275  0.686275  1.000000  0.037037   \n",
      "2   0.455292  0.333333    ...     0.061224  0.061224  1.000000  0.038462   \n",
      "3   0.772469  1.000000    ...     0.612245  0.612245  1.000000  0.115385   \n",
      "4   0.499540  1.000000    ...     0.200000  0.200000  1.000000  0.076923   \n",
      "5   0.685517  1.000000    ...     0.440000  0.440000  1.000000  0.076923   \n",
      "6   0.461800  1.000000    ...     0.052632  0.052632  1.000000  0.100000   \n",
      "7   0.773345  1.000000    ...     0.578947  0.578947  1.000000  0.100000   \n",
      "\n",
      "     f1_at_2   f1_at_5  f1_at_10  f1_at_20  f1_at_30  f1_at_50  \n",
      "0   0.034483  0.115942  0.160920  0.227642  0.238994  0.233766  \n",
      "1   0.071429  0.298507  0.352941  0.429752  0.458599  0.384279  \n",
      "2   0.000000  0.000000  0.000000  0.000000  0.201258  0.398268  \n",
      "3   0.000000  0.000000  0.000000  0.000000  0.203822  0.419214  \n",
      "4   0.034483  0.086957  0.137931  0.211382  0.251572  0.277056  \n",
      "5   0.071429  0.089552  0.188235  0.231405  0.254777  0.279476  \n",
      "6   0.000000  0.000000  0.000000  0.000000  0.201258  0.424242  \n",
      "7   0.000000  0.000000  0.000000  0.000000  0.203822  0.401747  \n",
      "8   0.000000  0.000000  0.000000  0.000000  0.201258  0.406926  \n",
      "9   0.000000  0.000000  0.000000  0.000000  0.203822  0.419214  \n",
      "10  0.034483  0.057971  0.114943  0.162602  0.238994  0.277056  \n",
      "11  0.035714  0.119403  0.141176  0.314050  0.356688  0.331878  \n",
      "12  0.000000  0.000000  0.000000  0.000000  0.201258  0.424242  \n",
      "13  0.000000  0.000000  0.000000  0.000000  0.203822  0.401747  \n",
      "14  0.034483  0.086957  0.183908  0.260163  0.301887  0.337662  \n",
      "15  0.000000  0.000000  0.000000  0.000000  0.203822  0.410480  \n",
      "16  0.000000  0.000000  0.000000  0.000000  0.201258  0.406926  \n",
      "17  0.000000  0.000000  0.000000  0.000000  0.203822  0.410480  \n",
      "18  0.068966  0.086957  0.206897  0.260163  0.264151  0.285714  \n",
      "19  0.000000  0.000000  0.000000  0.000000  0.203822  0.401747  \n",
      "20  0.000000  0.000000  0.000000  0.000000  0.201258  0.389610  \n",
      "21  0.000000  0.000000  0.000000  0.000000  0.203822  0.410480  \n",
      "22  0.000000  0.000000  0.000000  0.000000  0.201258  0.415584  \n",
      "23  0.000000  0.000000  0.000000  0.000000  0.203822  0.410480  \n",
      "24  0.034483  0.028986  0.068966  0.162602  0.251572  0.320346  \n",
      "25  0.000000  0.000000  0.000000  0.000000  0.203822  0.401747  \n",
      "26  0.000000  0.000000  0.000000  0.000000  0.201258  0.424242  \n",
      "27  0.000000  0.000000  0.000000  0.000000  0.203822  0.401747  \n",
      "28  0.000000  0.000000  0.000000  0.000000  0.201258  0.424242  \n",
      "29  0.000000  0.000000  0.000000  0.000000  0.203822  0.401747  \n",
      "..       ...       ...       ...       ...       ...       ...  \n",
      "38  0.000000  0.000000  0.000000  0.000000  0.103448  0.592593  \n",
      "39  0.000000  0.000000  0.000000  0.000000  0.115385  0.480000  \n",
      "40  0.000000  0.000000  0.222222  0.382979  0.344828  0.370370  \n",
      "41  0.000000  0.083333  0.266667  0.487805  0.461538  0.426667  \n",
      "42  0.000000  0.000000  0.000000  0.000000  0.103448  0.592593  \n",
      "43  0.000000  0.000000  0.000000  0.000000  0.115385  0.480000  \n",
      "44  0.000000  0.066667  0.111111  0.170213  0.310345  0.395062  \n",
      "45  0.000000  0.000000  0.000000  0.000000  0.115385  0.480000  \n",
      "46  0.000000  0.000000  0.000000  0.000000  0.103448  0.592593  \n",
      "47  0.000000  0.000000  0.000000  0.000000  0.115385  0.480000  \n",
      "48  0.000000  0.066667  0.222222  0.297872  0.379310  0.395062  \n",
      "49  0.000000  0.000000  0.000000  0.000000  0.115385  0.480000  \n",
      "50  0.000000  0.000000  0.000000  0.000000  0.137931  0.518519  \n",
      "51  0.000000  0.000000  0.000000  0.000000  0.115385  0.480000  \n",
      "52  0.000000  0.000000  0.000000  0.000000  0.103448  0.592593  \n",
      "53  0.000000  0.000000  0.000000  0.000000  0.115385  0.480000  \n",
      "54  0.000000  0.000000  0.000000  0.000000  0.137931  0.370370  \n",
      "55  0.000000  0.000000  0.000000  0.000000  0.115385  0.480000  \n",
      "56  0.000000  0.000000  0.000000  0.000000  0.103448  0.592593  \n",
      "57  0.000000  0.000000  0.000000  0.000000  0.115385  0.480000  \n",
      "58  0.000000  0.000000  0.000000  0.000000  0.103448  0.592593  \n",
      "59  0.000000  0.000000  0.000000  0.000000  0.115385  0.480000  \n",
      "0   0.034483  0.028986  0.091954  0.065041  0.050314  0.441558  \n",
      "1   0.034483  0.028986  0.022989  0.569106  0.440252  0.441558  \n",
      "2   0.035714  0.029851  0.070588  0.049587  0.038217  0.427948  \n",
      "3   0.178571  0.149254  0.352941  0.495868  0.382166  0.427948  \n",
      "4   0.074074  0.066667  0.055556  0.212766  0.172414  0.617284  \n",
      "5   0.148148  0.133333  0.277778  0.468085  0.379310  0.617284  \n",
      "6   0.095238  0.083333  0.066667  0.048780  0.038462  0.506667  \n",
      "7   0.190476  0.166667  0.533333  0.536585  0.423077  0.506667  \n",
      "\n",
      "[68 rows x 30 columns]\n"
     ]
    }
   ],
   "source": [
    "print(results)"
   ]
  }
 ],
 "metadata": {
  "kernelspec": {
   "display_name": "Python 3",
   "language": "python",
   "name": "python3"
  },
  "language_info": {
   "codemirror_mode": {
    "name": "ipython",
    "version": 3
   },
   "file_extension": ".py",
   "mimetype": "text/x-python",
   "name": "python",
   "nbconvert_exporter": "python",
   "pygments_lexer": "ipython3",
   "version": "3.6.3"
  }
 },
 "nbformat": 4,
 "nbformat_minor": 2
}
